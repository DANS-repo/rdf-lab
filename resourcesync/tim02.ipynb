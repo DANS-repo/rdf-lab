{
 "cells": [
  {
   "cell_type": "markdown",
   "metadata": {},
   "source": [
    "# Analyse datasets in Timbuctoo-instances"
   ]
  },
  {
   "cell_type": "code",
   "execution_count": 1,
   "metadata": {},
   "outputs": [],
   "source": [
    "%%capture\n",
    "%run func.ipynb"
   ]
  },
  {
   "cell_type": "markdown",
   "metadata": {},
   "source": [
    "## List properties per database"
   ]
  },
  {
   "cell_type": "code",
   "execution_count": 2,
   "metadata": {},
   "outputs": [],
   "source": [
    "import pandas as pd\n",
    "\n",
    "def get_ds_props(url):\n",
    "    ds_names = []\n",
    "    cap_locs = []\n",
    "    desc_hrefs = []\n",
    "    desc_types = []\n",
    "    desc_lens = []\n",
    "    rl_num = []\n",
    "    cl_num = []\n",
    "    rl_locs = []\n",
    "    cl_locs = []\n",
    "    rl_ats = []\n",
    "    rl_completeds = []\n",
    "    resources = []\n",
    "    #n_stats = []\n",
    "    \n",
    "    # source description\n",
    "    source_desc = get_sitemap(url)\n",
    "    for c_url in source_desc.rs_urls: \n",
    "        desc_url = None\n",
    "        desc_type = None\n",
    "        ds_names.append(c_url.loc.split('/')[6])\n",
    "        cap_locs.append(c_url.loc) # loc of capability list\n",
    "        desc_url = c_url.describedby_href\n",
    "        desc_type = c_url.describedby_type\n",
    "        \n",
    "        # capability list\n",
    "        cap_list = get_sitemap(c_url.loc)\n",
    "        # urls\n",
    "        rl_count = 0\n",
    "        cl_count = 0\n",
    "        rl_url = None\n",
    "        cl_url = None\n",
    "        for rs_url in cap_list.rs_urls:\n",
    "            if rs_url.capability == 'resourcelist':\n",
    "                rl_count += 1\n",
    "                rl_url = rs_url.loc\n",
    "            if rs_url.capability == 'changelist':\n",
    "                cl_count += 1\n",
    "                cl_url = rs_url.loc\n",
    "        rl_num.append(rl_count)\n",
    "        cl_num.append(cl_count)\n",
    "        rl_locs.append(rl_url)\n",
    "        cl_locs.append(cl_url)\n",
    "        \n",
    "        # dataset description is in RDF\n",
    "        if desc_url is None:\n",
    "            desc_url = cap_list.describedby_href\n",
    "            desc_type = cap_list.describedby_type\n",
    "        desc_len = None\n",
    "        if desc_url:\n",
    "            desc_graph = get_graph(desc_url, desc_type)\n",
    "            desc_len = len(desc_graph)\n",
    "        desc_hrefs.append(desc_url)\n",
    "        desc_types.append(desc_type)\n",
    "        desc_lens.append(desc_len)\n",
    "        \n",
    "        # resourcelist                    \n",
    "        res_list = get_sitemap(rl_url)\n",
    "        rl_ats.append(res_list.at)\n",
    "        rl_completeds.append(res_list.completed)\n",
    "        # up till now we only encounter 1 resource-url in a resource list. \n",
    "        if len(res_list.rs_urls) != 1:\n",
    "            print('warning, %s has not expected number of 1 resource, but %d' % (rl_url, en(res_list.rs_urls)))\n",
    "        resource = res_list.rs_urls[0].loc\n",
    "        resources.append(resource)\n",
    "        \n",
    "        # resource\n",
    "#         n_statements = None\n",
    "#         try:\n",
    "#             graph = get_quads(resource)\n",
    "#             n_statements = len(graph)\n",
    "#         except:\n",
    "#             print('could not load', resource)\n",
    "#         n_stats.append(n_statements)\n",
    "        \n",
    "        \n",
    "    return pd.DataFrame({'ds_name': ds_names, 'cap_loc': cap_locs, \n",
    "                         'desc_href': desc_hrefs, 'desc_type': desc_types, 'desc_len': desc_lens,\n",
    "                         'n_rl': rl_num, 'n_cl': cl_num, 'rl_loc': rl_locs, 'cl_loc': cl_locs,\n",
    "                         'rl_at': rl_ats, 'rl_completed': rl_completeds, 'resource': resources}) #, 'n_statements': n_stats})"
   ]
  },
  {
   "cell_type": "code",
   "execution_count": 3,
   "metadata": {},
   "outputs": [
    {
     "data": {
      "text/plain": [
       "(11, 12)"
      ]
     },
     "metadata": {},
     "output_type": "display_data"
    },
    {
     "data": {
      "text/html": [
       "<div>\n",
       "<style scoped>\n",
       "    .dataframe tbody tr th:only-of-type {\n",
       "        vertical-align: middle;\n",
       "    }\n",
       "\n",
       "    .dataframe tbody tr th {\n",
       "        vertical-align: top;\n",
       "    }\n",
       "\n",
       "    .dataframe thead th {\n",
       "        text-align: right;\n",
       "    }\n",
       "</style>\n",
       "<table border=\"1\" class=\"dataframe\">\n",
       "  <thead>\n",
       "    <tr style=\"text-align: right;\">\n",
       "      <th></th>\n",
       "      <th>ds_name</th>\n",
       "      <th>cap_loc</th>\n",
       "      <th>desc_href</th>\n",
       "      <th>desc_type</th>\n",
       "      <th>desc_len</th>\n",
       "      <th>n_rl</th>\n",
       "      <th>n_cl</th>\n",
       "      <th>rl_loc</th>\n",
       "      <th>cl_loc</th>\n",
       "      <th>rl_at</th>\n",
       "      <th>rl_completed</th>\n",
       "      <th>resource</th>\n",
       "    </tr>\n",
       "  </thead>\n",
       "  <tbody>\n",
       "    <tr>\n",
       "      <th>0</th>\n",
       "      <td>wwriters_nl</td>\n",
       "      <td>https://data.anansi.clariah.nl/v5/resourcesync/u38d24500551ccff8d2b0c4f84fc947f45934aa26/wwriters_nl/capabilitylist.xml</td>\n",
       "      <td>https://data.anansi.clariah.nl/v5/resourcesync/u38d24500551ccff8d2b0c4f84fc947f45934aa26/wwriters_nl/description.xml</td>\n",
       "      <td>application/rdf+xml</td>\n",
       "      <td>0</td>\n",
       "      <td>1</td>\n",
       "      <td>1</td>\n",
       "      <td>https://data.anansi.clariah.nl/v5/resourcesync/u38d24500551ccff8d2b0c4f84fc947f45934aa26/wwriters_nl/resourcelist.xml</td>\n",
       "      <td>https://data.anansi.clariah.nl/v5/resourcesync/u38d24500551ccff8d2b0c4f84fc947f45934aa26/wwriters_nl/changelist.xml</td>\n",
       "      <td>2019-01-31 08:04:33.830000+00:00</td>\n",
       "      <td>2019-01-31 13:50:31.833000+00:00</td>\n",
       "      <td>https://data.anansi.clariah.nl/v5/resourcesync/u38d24500551ccff8d2b0c4f84fc947f45934aa26/wwriters_nl/dataset.nq</td>\n",
       "    </tr>\n",
       "    <tr>\n",
       "      <th>1</th>\n",
       "      <td>gemeentegeschiedenisnl</td>\n",
       "      <td>https://data.anansi.clariah.nl/v5/resourcesync/u74ccc032adf8422d7ea92df96cd4783f0543db3b/gemeentegeschiedenisnl/capabilitylist.xml</td>\n",
       "      <td>https://data.anansi.clariah.nl/v5/resourcesync/u74ccc032adf8422d7ea92df96cd4783f0543db3b/gemeentegeschiedenisnl/description.xml</td>\n",
       "      <td>application/rdf+xml</td>\n",
       "      <td>0</td>\n",
       "      <td>1</td>\n",
       "      <td>1</td>\n",
       "      <td>https://data.anansi.clariah.nl/v5/resourcesync/u74ccc032adf8422d7ea92df96cd4783f0543db3b/gemeentegeschiedenisnl/resourcelist.xml</td>\n",
       "      <td>https://data.anansi.clariah.nl/v5/resourcesync/u74ccc032adf8422d7ea92df96cd4783f0543db3b/gemeentegeschiedenisnl/changelist.xml</td>\n",
       "      <td>2019-01-31 08:04:34.028000+00:00</td>\n",
       "      <td>2019-01-31 13:50:31.971000+00:00</td>\n",
       "      <td>https://data.anansi.clariah.nl/v5/resourcesync/u74ccc032adf8422d7ea92df96cd4783f0543db3b/gemeentegeschiedenisnl/dataset.nq</td>\n",
       "    </tr>\n",
       "    <tr>\n",
       "      <th>2</th>\n",
       "      <td>dwc</td>\n",
       "      <td>https://data.anansi.clariah.nl/v5/resourcesync/u74ccc032adf8422d7ea92df96cd4783f0543db3b/dwc/capabilitylist.xml</td>\n",
       "      <td>https://data.anansi.clariah.nl/v5/resourcesync/u74ccc032adf8422d7ea92df96cd4783f0543db3b/dwc/description.xml</td>\n",
       "      <td>application/rdf+xml</td>\n",
       "      <td>7</td>\n",
       "      <td>1</td>\n",
       "      <td>1</td>\n",
       "      <td>https://data.anansi.clariah.nl/v5/resourcesync/u74ccc032adf8422d7ea92df96cd4783f0543db3b/dwc/resourcelist.xml</td>\n",
       "      <td>https://data.anansi.clariah.nl/v5/resourcesync/u74ccc032adf8422d7ea92df96cd4783f0543db3b/dwc/changelist.xml</td>\n",
       "      <td>2019-01-31 08:04:34.273000+00:00</td>\n",
       "      <td>2019-01-31 13:50:32.104000+00:00</td>\n",
       "      <td>https://data.anansi.clariah.nl/v5/resourcesync/u74ccc032adf8422d7ea92df96cd4783f0543db3b/dwc/dataset.nq</td>\n",
       "    </tr>\n",
       "    <tr>\n",
       "      <th>3</th>\n",
       "      <td>nlgis</td>\n",
       "      <td>https://data.anansi.clariah.nl/v5/resourcesync/u74ccc032adf8422d7ea92df96cd4783f0543db3b/nlgis/capabilitylist.xml</td>\n",
       "      <td>https://data.anansi.clariah.nl/v5/resourcesync/u74ccc032adf8422d7ea92df96cd4783f0543db3b/nlgis/description.xml</td>\n",
       "      <td>application/rdf+xml</td>\n",
       "      <td>0</td>\n",
       "      <td>1</td>\n",
       "      <td>1</td>\n",
       "      <td>https://data.anansi.clariah.nl/v5/resourcesync/u74ccc032adf8422d7ea92df96cd4783f0543db3b/nlgis/resourcelist.xml</td>\n",
       "      <td>https://data.anansi.clariah.nl/v5/resourcesync/u74ccc032adf8422d7ea92df96cd4783f0543db3b/nlgis/changelist.xml</td>\n",
       "      <td>2019-01-31 08:04:34.986000+00:00</td>\n",
       "      <td>2019-01-31 13:50:32.226000+00:00</td>\n",
       "      <td>https://data.anansi.clariah.nl/v5/resourcesync/u74ccc032adf8422d7ea92df96cd4783f0543db3b/nlgis/dataset.nq</td>\n",
       "    </tr>\n",
       "    <tr>\n",
       "      <th>4</th>\n",
       "      <td>gemeentegeschiedenis</td>\n",
       "      <td>https://data.anansi.clariah.nl/v5/resourcesync/u74ccc032adf8422d7ea92df96cd4783f0543db3b/gemeentegeschiedenis/capabilitylist.xml</td>\n",
       "      <td>https://data.anansi.clariah.nl/v5/resourcesync/u74ccc032adf8422d7ea92df96cd4783f0543db3b/gemeentegeschiedenis/description.xml</td>\n",
       "      <td>application/rdf+xml</td>\n",
       "      <td>0</td>\n",
       "      <td>1</td>\n",
       "      <td>1</td>\n",
       "      <td>https://data.anansi.clariah.nl/v5/resourcesync/u74ccc032adf8422d7ea92df96cd4783f0543db3b/gemeentegeschiedenis/resourcelist.xml</td>\n",
       "      <td>https://data.anansi.clariah.nl/v5/resourcesync/u74ccc032adf8422d7ea92df96cd4783f0543db3b/gemeentegeschiedenis/changelist.xml</td>\n",
       "      <td>2019-01-31 08:04:33.928000+00:00</td>\n",
       "      <td>2019-01-31 13:50:32.386000+00:00</td>\n",
       "      <td>https://data.anansi.clariah.nl/v5/resourcesync/u74ccc032adf8422d7ea92df96cd4783f0543db3b/gemeentegeschiedenis/dataset.nq</td>\n",
       "    </tr>\n",
       "  </tbody>\n",
       "</table>\n",
       "</div>"
      ],
      "text/plain": [
       "                  ds_name  \\\n",
       "0  wwriters_nl              \n",
       "1  gemeentegeschiedenisnl   \n",
       "2  dwc                      \n",
       "3  nlgis                    \n",
       "4  gemeentegeschiedenis     \n",
       "\n",
       "                                                                                                                              cap_loc  \\\n",
       "0  https://data.anansi.clariah.nl/v5/resourcesync/u38d24500551ccff8d2b0c4f84fc947f45934aa26/wwriters_nl/capabilitylist.xml              \n",
       "1  https://data.anansi.clariah.nl/v5/resourcesync/u74ccc032adf8422d7ea92df96cd4783f0543db3b/gemeentegeschiedenisnl/capabilitylist.xml   \n",
       "2  https://data.anansi.clariah.nl/v5/resourcesync/u74ccc032adf8422d7ea92df96cd4783f0543db3b/dwc/capabilitylist.xml                      \n",
       "3  https://data.anansi.clariah.nl/v5/resourcesync/u74ccc032adf8422d7ea92df96cd4783f0543db3b/nlgis/capabilitylist.xml                    \n",
       "4  https://data.anansi.clariah.nl/v5/resourcesync/u74ccc032adf8422d7ea92df96cd4783f0543db3b/gemeentegeschiedenis/capabilitylist.xml     \n",
       "\n",
       "                                                                                                                         desc_href  \\\n",
       "0  https://data.anansi.clariah.nl/v5/resourcesync/u38d24500551ccff8d2b0c4f84fc947f45934aa26/wwriters_nl/description.xml              \n",
       "1  https://data.anansi.clariah.nl/v5/resourcesync/u74ccc032adf8422d7ea92df96cd4783f0543db3b/gemeentegeschiedenisnl/description.xml   \n",
       "2  https://data.anansi.clariah.nl/v5/resourcesync/u74ccc032adf8422d7ea92df96cd4783f0543db3b/dwc/description.xml                      \n",
       "3  https://data.anansi.clariah.nl/v5/resourcesync/u74ccc032adf8422d7ea92df96cd4783f0543db3b/nlgis/description.xml                    \n",
       "4  https://data.anansi.clariah.nl/v5/resourcesync/u74ccc032adf8422d7ea92df96cd4783f0543db3b/gemeentegeschiedenis/description.xml     \n",
       "\n",
       "             desc_type  desc_len  n_rl  n_cl  \\\n",
       "0  application/rdf+xml  0         1     1      \n",
       "1  application/rdf+xml  0         1     1      \n",
       "2  application/rdf+xml  7         1     1      \n",
       "3  application/rdf+xml  0         1     1      \n",
       "4  application/rdf+xml  0         1     1      \n",
       "\n",
       "                                                                                                                             rl_loc  \\\n",
       "0  https://data.anansi.clariah.nl/v5/resourcesync/u38d24500551ccff8d2b0c4f84fc947f45934aa26/wwriters_nl/resourcelist.xml              \n",
       "1  https://data.anansi.clariah.nl/v5/resourcesync/u74ccc032adf8422d7ea92df96cd4783f0543db3b/gemeentegeschiedenisnl/resourcelist.xml   \n",
       "2  https://data.anansi.clariah.nl/v5/resourcesync/u74ccc032adf8422d7ea92df96cd4783f0543db3b/dwc/resourcelist.xml                      \n",
       "3  https://data.anansi.clariah.nl/v5/resourcesync/u74ccc032adf8422d7ea92df96cd4783f0543db3b/nlgis/resourcelist.xml                    \n",
       "4  https://data.anansi.clariah.nl/v5/resourcesync/u74ccc032adf8422d7ea92df96cd4783f0543db3b/gemeentegeschiedenis/resourcelist.xml     \n",
       "\n",
       "                                                                                                                           cl_loc  \\\n",
       "0  https://data.anansi.clariah.nl/v5/resourcesync/u38d24500551ccff8d2b0c4f84fc947f45934aa26/wwriters_nl/changelist.xml              \n",
       "1  https://data.anansi.clariah.nl/v5/resourcesync/u74ccc032adf8422d7ea92df96cd4783f0543db3b/gemeentegeschiedenisnl/changelist.xml   \n",
       "2  https://data.anansi.clariah.nl/v5/resourcesync/u74ccc032adf8422d7ea92df96cd4783f0543db3b/dwc/changelist.xml                      \n",
       "3  https://data.anansi.clariah.nl/v5/resourcesync/u74ccc032adf8422d7ea92df96cd4783f0543db3b/nlgis/changelist.xml                    \n",
       "4  https://data.anansi.clariah.nl/v5/resourcesync/u74ccc032adf8422d7ea92df96cd4783f0543db3b/gemeentegeschiedenis/changelist.xml     \n",
       "\n",
       "                             rl_at                     rl_completed  \\\n",
       "0 2019-01-31 08:04:33.830000+00:00 2019-01-31 13:50:31.833000+00:00   \n",
       "1 2019-01-31 08:04:34.028000+00:00 2019-01-31 13:50:31.971000+00:00   \n",
       "2 2019-01-31 08:04:34.273000+00:00 2019-01-31 13:50:32.104000+00:00   \n",
       "3 2019-01-31 08:04:34.986000+00:00 2019-01-31 13:50:32.226000+00:00   \n",
       "4 2019-01-31 08:04:33.928000+00:00 2019-01-31 13:50:32.386000+00:00   \n",
       "\n",
       "                                                                                                                     resource  \n",
       "0  https://data.anansi.clariah.nl/v5/resourcesync/u38d24500551ccff8d2b0c4f84fc947f45934aa26/wwriters_nl/dataset.nq             \n",
       "1  https://data.anansi.clariah.nl/v5/resourcesync/u74ccc032adf8422d7ea92df96cd4783f0543db3b/gemeentegeschiedenisnl/dataset.nq  \n",
       "2  https://data.anansi.clariah.nl/v5/resourcesync/u74ccc032adf8422d7ea92df96cd4783f0543db3b/dwc/dataset.nq                     \n",
       "3  https://data.anansi.clariah.nl/v5/resourcesync/u74ccc032adf8422d7ea92df96cd4783f0543db3b/nlgis/dataset.nq                   \n",
       "4  https://data.anansi.clariah.nl/v5/resourcesync/u74ccc032adf8422d7ea92df96cd4783f0543db3b/gemeentegeschiedenis/dataset.nq    "
      ]
     },
     "metadata": {},
     "output_type": "display_data"
    }
   ],
   "source": [
    "pd.options.display.max_colwidth = 0\n",
    "df = get_ds_props(ANANSI_URL)\n",
    "display(df.shape, df.head())"
   ]
  },
  {
   "cell_type": "code",
   "execution_count": 4,
   "metadata": {},
   "outputs": [],
   "source": [
    "df.to_csv('data/anansi_resources.csv')"
   ]
  },
  {
   "cell_type": "code",
   "execution_count": 5,
   "metadata": {},
   "outputs": [
    {
     "name": "stdout",
     "output_type": "stream",
     "text": [
      "<class 'pandas.core.frame.DataFrame'>\n",
      "RangeIndex: 39 entries, 0 to 38\n",
      "Data columns (total 12 columns):\n",
      "ds_name         39 non-null object\n",
      "cap_loc         39 non-null object\n",
      "desc_href       39 non-null object\n",
      "desc_type       39 non-null object\n",
      "desc_len        39 non-null int64\n",
      "n_rl            39 non-null int64\n",
      "n_cl            39 non-null int64\n",
      "rl_loc          39 non-null object\n",
      "cl_loc          39 non-null object\n",
      "rl_at           39 non-null datetime64[ns, UTC]\n",
      "rl_completed    39 non-null datetime64[ns, UTC]\n",
      "resource        39 non-null object\n",
      "dtypes: datetime64[ns, UTC](2), int64(3), object(7)\n",
      "memory usage: 3.7+ KB\n"
     ]
    }
   ],
   "source": [
    "df = get_ds_props(HUYDAT_URL)\n",
    "df.info()"
   ]
  },
  {
   "cell_type": "code",
   "execution_count": 6,
   "metadata": {},
   "outputs": [],
   "source": [
    "df.to_csv('data/huydat_resources.csv')"
   ]
  },
  {
   "cell_type": "markdown",
   "metadata": {},
   "source": [
    "## Inspecting datasets"
   ]
  },
  {
   "cell_type": "code",
   "execution_count": 7,
   "metadata": {},
   "outputs": [],
   "source": [
    "from rdflib import Literal\n",
    "import requests\n",
    "from IPython.core.display import display, HTML\n",
    "import urllib\n",
    "from urllib.parse import urlparse\n",
    "\n",
    "\n",
    "def fr(x):\n",
    "    return '{:12,}'.format(x).replace(',', '.')\n",
    "\n",
    "def isresolvable(url):\n",
    "    try:\n",
    "        response = requests.get(url)\n",
    "        return response.ok\n",
    "    except:\n",
    "        return False\n",
    "\n",
    "class GraphProps(object):\n",
    "    \n",
    "    def __init__(self, g):\n",
    "        self.statements = len(g)\n",
    "        self.contexts = list(g.contexts())\n",
    "        self.netlocs_s = dict()\n",
    "        self.netlocs_p = dict()\n",
    "        self.netlocs_o = dict()\n",
    "        self.literals = 0\n",
    "        self.predicates = dict()\n",
    "        for s,p,o in g.triples((None,None,None)):\n",
    "            self.predicates[str(p)] = self.predicates.get(str(p), 0) + 1\n",
    "            \n",
    "            nl = urlparse(str(s)).netloc\n",
    "            self.netlocs_s[nl] = self.netlocs_s.get(nl, 0) + 1\n",
    "            \n",
    "            nl = urlparse(str(p)).netloc\n",
    "            self.netlocs_p[nl] = self.netlocs_p.get(nl, 0) + 1\n",
    "            \n",
    "            if isinstance(o, Literal):\n",
    "                self.literals += 1\n",
    "            else:\n",
    "                nl = urlparse(str(o)).netloc\n",
    "                self.netlocs_o[nl] = self.netlocs_o.get(nl, 0) + 1\n",
    "    \n",
    "    def print_props(self):\n",
    "        print('contexts  :', fr(len(self.contexts)))\n",
    "        print('statements:', fr(self.statements))\n",
    "        print('literals  :', fr(self.literals))\n",
    "        nar = self.literals/self.statements\n",
    "        print('literal ratio:', '{:7.2f}'.format(nar).replace('.', ','))\n",
    "        \n",
    "        print()\n",
    "        print('subject netlocs:', len(self.netlocs_s), self.netlocs_s)\n",
    "        print('object netlocs:', len(self.netlocs_o), self.netlocs_o)\n",
    "        \n",
    "        print()\n",
    "        edo = 'example.org'\n",
    "        edos = self.netlocs_s.get(edo, 0) + self.netlocs_p.get(edo, 0) + self.netlocs_o.get(edo, 0)\n",
    "        print('example.org', '| s', self.netlocs_s.get(edo, 0), '| p', self.netlocs_p.get(edo, 0), '| o', self.netlocs_o.get(edo, 0), '| total', edos)\n",
    "        \n",
    "        print()\n",
    "        print('predicate netlocs:', len(self.netlocs_p), '|', self.netlocs_p)\n",
    "        print('predicates:', len(self.predicates))\n",
    "        for key in sorted(self.predicates):\n",
    "            \n",
    "            if urlparse(key).netloc != 'example.org' and isresolvable(key):\n",
    "                display(HTML(\"\"\"<a target=\"_blank\" href=\"{}\">{}</a>\"\"\".format(key, key) + ': ' + str(self.predicates[key])))\n",
    "            else:\n",
    "                print('%s: %s' % (key, self.predicates[key]))"
   ]
  },
  {
   "cell_type": "code",
   "execution_count": 8,
   "metadata": {},
   "outputs": [],
   "source": [
    "def fingerprint(resource_url):\n",
    "    display(HTML(\"\"\"<h3>fingerprint</h3>\"\"\"))\n",
    "    display(HTML(\"\"\"<a target=\"_blank\" href=\"{}\">{}</a>\"\"\".format(resource_url, resource_url)))\n",
    "    g = get_quads(resource_url)\n",
    "    gp = GraphProps(g)\n",
    "    gp.print_props()"
   ]
  },
  {
   "cell_type": "code",
   "execution_count": 9,
   "metadata": {},
   "outputs": [],
   "source": [
    "# fingerprint('https://repository.huygens.knaw.nl/v5/resourcesync/u519bd710306620fa7c56d541ae7b9f5b7f57a706/test_wwdocument/dataset.nq')"
   ]
  },
  {
   "cell_type": "code",
   "execution_count": 10,
   "metadata": {},
   "outputs": [],
   "source": [
    "# rurl ='https://data.anansi.clariah.nl/v5/resourcesync/u74ccc032adf8422d7ea92df96cd4783f0543db3b/gemeentegeschiedenisnl/dataset.nq'\n",
    "# g = get_quads(rurl)"
   ]
  },
  {
   "cell_type": "code",
   "execution_count": 11,
   "metadata": {},
   "outputs": [],
   "source": [
    "# from rdflib import URIRef\n",
    "\n",
    "# max = 5\n",
    "# tel = 0\n",
    "# for p, o in g.predicate_objects(URIRef('https://gemeentegeschiedenis.nl/def/geometry_type')):\n",
    "#     tel += 1\n",
    "#     print(p, o)\n",
    "#     if tel >= max:\n",
    "#         break"
   ]
  },
  {
   "cell_type": "code",
   "execution_count": 12,
   "metadata": {},
   "outputs": [
    {
     "data": {
      "text/html": [
       "<h3>fingerprint</h3>"
      ],
      "text/plain": [
       "<IPython.core.display.HTML object>"
      ]
     },
     "metadata": {},
     "output_type": "display_data"
    },
    {
     "data": {
      "text/html": [
       "<a target=\"_blank\" href=\"https://repository.huygens.knaw.nl/v5/resourcesync/u38d24500551ccff8d2b0c4f84fc947f45934aa26/emplaces_25geonames/dataset.nq\">https://repository.huygens.knaw.nl/v5/resourcesync/u38d24500551ccff8d2b0c4f84fc947f45934aa26/emplaces_25geonames/dataset.nq</a>"
      ],
      "text/plain": [
       "<IPython.core.display.HTML object>"
      ]
     },
     "metadata": {},
     "output_type": "display_data"
    },
    {
     "name": "stdout",
     "output_type": "stream",
     "text": [
      "contexts  :            1\n",
      "statements:       11.852\n",
      "literals  :        4.688\n",
      "literal ratio:    0,40\n",
      "\n",
      "subject netlocs: 12 {'id.emplaces.info': 7057, '': 2860, 'http:': 919, 'www.geonames.org': 384, 'sws.geonames.org': 306, 'dbpedia.org': 91, 'en.wikipedia.org': 91, 'www.w3.org': 124, 'de.wikipedia.org': 2, 'ru.wikipedia.org': 16, 'nds.wikipedia.org': 1, 'uk.wikipedia.org': 1}\n",
      "object netlocs: 12 {'': 2450, 'id.emplaces.info': 2810, 'www.geonames.org': 354, 'http:': 918, 'sws.geonames.org': 306, 'en.wikipedia.org': 91, 'www.w3.org': 124, 'dbpedia.org': 91, 'ru.wikipedia.org': 16, 'nds.wikipedia.org': 1, 'uk.wikipedia.org': 1, 'de.wikipedia.org': 2}\n",
      "\n",
      "example.org | s 0 | p 0 | o 0 | total 0\n",
      "\n",
      "predicate netlocs: 4 | {'http:': 8166, 'www.w3.org': 3654, 'id.emplaces.info': 28, 'timbuctoo.huygens.knaw.nl': 4}\n",
      "predicates: 42\n",
      "http://http://id.emplaces.info/vocab/alternateName: 2127\n",
      "http://http://id.emplaces.info/vocab/alternateURI: 204\n",
      "http://http://id.emplaces.info/vocab/canonicalURI: 102\n",
      "http://http://id.emplaces.info/vocab/displayName: 1653\n",
      "http://http://id.emplaces.info/vocab/hasAnnotation: 204\n",
      "http://http://id.emplaces.info/vocab/hasRelation: 204\n",
      "http://http://id.emplaces.info/vocab/link: 612\n",
      "http://http://id.emplaces.info/vocab/location: 204\n",
      "http://http://id.emplaces.info/vocab/placeCategory: 204\n",
      "http://http://id.emplaces.info/vocab/placeType: 204\n",
      "http://http://id.emplaces.info/vocab/place_data: 204\n",
      "http://http://id.emplaces.info/vocab/preferredName: 102\n",
      "http://http://id.emplaces.info/vocab/relationTo: 204\n",
      "http://http://id.emplaces.info/vocab/relationType: 204\n",
      "http://http://id.emplaces.info/vocab/short_label: 102\n",
      "http://http://id.emplaces.info/vocab/source: 816\n",
      "http://http://id.emplaces.info/vocab/when: 612\n",
      "http://http://id.emplaces.info/vocab/where: 204\n"
     ]
    },
    {
     "data": {
      "text/html": [
       "<a target=\"_blank\" href=\"http://id.emplaces.info/vocab/earliestEnd:\">http://id.emplaces.info/vocab/earliestEnd:</a>: 1"
      ],
      "text/plain": [
       "<IPython.core.display.HTML object>"
      ]
     },
     "metadata": {},
     "output_type": "display_data"
    },
    {
     "data": {
      "text/html": [
       "<a target=\"_blank\" href=\"http://id.emplaces.info/vocab/fromType\">http://id.emplaces.info/vocab/fromType</a>: 8"
      ],
      "text/plain": [
       "<IPython.core.display.HTML object>"
      ]
     },
     "metadata": {},
     "output_type": "display_data"
    },
    {
     "data": {
      "text/html": [
       "<a target=\"_blank\" href=\"http://id.emplaces.info/vocab/latestStart:\">http://id.emplaces.info/vocab/latestStart:</a>: 1"
      ],
      "text/plain": [
       "<IPython.core.display.HTML object>"
      ]
     },
     "metadata": {},
     "output_type": "display_data"
    },
    {
     "data": {
      "text/html": [
       "<a target=\"_blank\" href=\"http://id.emplaces.info/vocab/tag_639_1\">http://id.emplaces.info/vocab/tag_639_1</a>: 4"
      ],
      "text/plain": [
       "<IPython.core.display.HTML object>"
      ]
     },
     "metadata": {},
     "output_type": "display_data"
    },
    {
     "data": {
      "text/html": [
       "<a target=\"_blank\" href=\"http://id.emplaces.info/vocab/tag_639_2\">http://id.emplaces.info/vocab/tag_639_2</a>: 4"
      ],
      "text/plain": [
       "<IPython.core.display.HTML object>"
      ]
     },
     "metadata": {},
     "output_type": "display_data"
    },
    {
     "data": {
      "text/html": [
       "<a target=\"_blank\" href=\"http://id.emplaces.info/vocab/timespan\">http://id.emplaces.info/vocab/timespan</a>: 2"
      ],
      "text/plain": [
       "<IPython.core.display.HTML object>"
      ]
     },
     "metadata": {},
     "output_type": "display_data"
    },
    {
     "data": {
      "text/html": [
       "<a target=\"_blank\" href=\"http://id.emplaces.info/vocab/toType\">http://id.emplaces.info/vocab/toType</a>: 8"
      ],
      "text/plain": [
       "<IPython.core.display.HTML object>"
      ]
     },
     "metadata": {},
     "output_type": "display_data"
    },
    {
     "name": "stdout",
     "output_type": "stream",
     "text": [
      "http://timbuctoo.huygens.knaw.nl/static/v5/vocabulary#hasIndexConfig: 3\n",
      "http://timbuctoo.huygens.knaw.nl/static/v5/vocabulary#hasViewConfig: 1\n"
     ]
    },
    {
     "data": {
      "text/html": [
       "<a target=\"_blank\" href=\"http://www.w3.org/1999/02/22-rdf-syntax-ns#type\">http://www.w3.org/1999/02/22-rdf-syntax-ns#type</a>: 1706"
      ],
      "text/plain": [
       "<IPython.core.display.HTML object>"
      ]
     },
     "metadata": {},
     "output_type": "display_data"
    },
    {
     "data": {
      "text/html": [
       "<a target=\"_blank\" href=\"http://www.w3.org/2000/01/rdf-schema#comment\">http://www.w3.org/2000/01/rdf-schema#comment</a>: 39"
      ],
      "text/plain": [
       "<IPython.core.display.HTML object>"
      ]
     },
     "metadata": {},
     "output_type": "display_data"
    },
    {
     "data": {
      "text/html": [
       "<a target=\"_blank\" href=\"http://www.w3.org/2000/01/rdf-schema#isDefinedBy\">http://www.w3.org/2000/01/rdf-schema#isDefinedBy</a>: 204"
      ],
      "text/plain": [
       "<IPython.core.display.HTML object>"
      ]
     },
     "metadata": {},
     "output_type": "display_data"
    },
    {
     "data": {
      "text/html": [
       "<a target=\"_blank\" href=\"http://www.w3.org/2000/01/rdf-schema#label\">http://www.w3.org/2000/01/rdf-schema#label</a>: 447"
      ],
      "text/plain": [
       "<IPython.core.display.HTML object>"
      ]
     },
     "metadata": {},
     "output_type": "display_data"
    },
    {
     "data": {
      "text/html": [
       "<a target=\"_blank\" href=\"http://www.w3.org/2000/01/rdf-schema#range\">http://www.w3.org/2000/01/rdf-schema#range</a>: 2"
      ],
      "text/plain": [
       "<IPython.core.display.HTML object>"
      ]
     },
     "metadata": {},
     "output_type": "display_data"
    },
    {
     "data": {
      "text/html": [
       "<a target=\"_blank\" href=\"http://www.w3.org/2000/01/rdf-schema#seeAlso\">http://www.w3.org/2000/01/rdf-schema#seeAlso</a>: 404"
      ],
      "text/plain": [
       "<IPython.core.display.HTML object>"
      ]
     },
     "metadata": {},
     "output_type": "display_data"
    },
    {
     "data": {
      "text/html": [
       "<a target=\"_blank\" href=\"http://www.w3.org/2000/01/rdf-schema#subClassOf\">http://www.w3.org/2000/01/rdf-schema#subClassOf</a>: 4"
      ],
      "text/plain": [
       "<IPython.core.display.HTML object>"
      ]
     },
     "metadata": {},
     "output_type": "display_data"
    },
    {
     "data": {
      "text/html": [
       "<a target=\"_blank\" href=\"http://www.w3.org/2000/01/rdf-schema#subPropertyOf\">http://www.w3.org/2000/01/rdf-schema#subPropertyOf</a>: 4"
      ],
      "text/plain": [
       "<IPython.core.display.HTML object>"
      ]
     },
     "metadata": {},
     "output_type": "display_data"
    },
    {
     "data": {
      "text/html": [
       "<a target=\"_blank\" href=\"http://www.w3.org/2003/01/geo/wgs84_pos#lat\">http://www.w3.org/2003/01/geo/wgs84_pos#lat</a>: 102"
      ],
      "text/plain": [
       "<IPython.core.display.HTML object>"
      ]
     },
     "metadata": {},
     "output_type": "display_data"
    },
    {
     "data": {
      "text/html": [
       "<a target=\"_blank\" href=\"http://www.w3.org/2003/01/geo/wgs84_pos#long\">http://www.w3.org/2003/01/geo/wgs84_pos#long</a>: 102"
      ],
      "text/plain": [
       "<IPython.core.display.HTML object>"
      ]
     },
     "metadata": {},
     "output_type": "display_data"
    },
    {
     "data": {
      "text/html": [
       "<a target=\"_blank\" href=\"http://www.w3.org/2004/02/skos/core#broader\">http://www.w3.org/2004/02/skos/core#broader</a>: 4"
      ],
      "text/plain": [
       "<IPython.core.display.HTML object>"
      ]
     },
     "metadata": {},
     "output_type": "display_data"
    },
    {
     "data": {
      "text/html": [
       "<a target=\"_blank\" href=\"http://www.w3.org/2004/02/skos/core#narrower\">http://www.w3.org/2004/02/skos/core#narrower</a>: 24"
      ],
      "text/plain": [
       "<IPython.core.display.HTML object>"
      ]
     },
     "metadata": {},
     "output_type": "display_data"
    },
    {
     "data": {
      "text/html": [
       "<a target=\"_blank\" href=\"http://www.w3.org/ns/oa#hasBody\">http://www.w3.org/ns/oa#hasBody</a>: 204"
      ],
      "text/plain": [
       "<IPython.core.display.HTML object>"
      ]
     },
     "metadata": {},
     "output_type": "display_data"
    },
    {
     "data": {
      "text/html": [
       "<a target=\"_blank\" href=\"http://www.w3.org/ns/oa#hasTarget\">http://www.w3.org/ns/oa#hasTarget</a>: 204"
      ],
      "text/plain": [
       "<IPython.core.display.HTML object>"
      ]
     },
     "metadata": {},
     "output_type": "display_data"
    },
    {
     "data": {
      "text/html": [
       "<a target=\"_blank\" href=\"http://www.w3.org/ns/oa#motivatedBy\">http://www.w3.org/ns/oa#motivatedBy</a>: 204"
      ],
      "text/plain": [
       "<IPython.core.display.HTML object>"
      ]
     },
     "metadata": {},
     "output_type": "display_data"
    },
    {
     "data": {
      "text/html": [
       "<h3>fingerprint</h3>"
      ],
      "text/plain": [
       "<IPython.core.display.HTML object>"
      ]
     },
     "metadata": {},
     "output_type": "display_data"
    },
    {
     "data": {
      "text/html": [
       "<a target=\"_blank\" href=\"https://repository.huygens.knaw.nl/v5/resourcesync/u38d24500551ccff8d2b0c4f84fc947f45934aa26/emplaces/dataset.nq\">https://repository.huygens.knaw.nl/v5/resourcesync/u38d24500551ccff8d2b0c4f84fc947f45934aa26/emplaces/dataset.nq</a>"
      ],
      "text/plain": [
       "<IPython.core.display.HTML object>"
      ]
     },
     "metadata": {},
     "output_type": "display_data"
    },
    {
     "name": "stdout",
     "output_type": "stream",
     "text": [
      "contexts  :            1\n",
      "statements:        1.795\n",
      "literals  :          519\n",
      "literal ratio:    0,29\n",
      "\n",
      "subject netlocs: 19 {'': 817, 'emplaces.namespace.example.org': 306, 'sws.geonames.org': 29, 'emplaces.data.example.org': 464, 'www.w3.org': 41, 'www.geonames.org': 98, 'davidrumsey.georeferencer.com': 10, 'retromap.ru': 2, 'www.dokumentyslaska.pl': 6, 'dbpedia.org': 5, 'en.wikipedia.org': 5, 'ru.wikipedia.org': 3, 'xmlns.com': 3, 'data.huygens.knaw.nl': 1, 'ome-lexikon.uni-oldenburg.de': 1, 'dolny-slask.org.pl': 1, 'www.herder-institut.de': 1, 'github.com': 1, 'purl.org': 1}\n",
      "object netlocs: 19 {'emplaces.namespace.example.org': 269, 'www.w3.org': 41, '': 597, 'emplaces.data.example.org': 228, 'xmlns.com': 3, 'www.geonames.org': 72, 'sws.geonames.org': 29, 'en.wikipedia.org': 5, 'ru.wikipedia.org': 3, 'www.dokumentyslaska.pl': 6, 'davidrumsey.georeferencer.com': 10, 'dbpedia.org': 5, 'data.huygens.knaw.nl': 1, 'retromap.ru': 2, 'www.herder-institut.de': 1, 'dolny-slask.org.pl': 1, 'github.com': 1, 'purl.org': 1, 'ome-lexikon.uni-oldenburg.de': 1}\n",
      "\n",
      "example.org | s 0 | p 0 | o 0 | total 0\n",
      "\n",
      "predicate netlocs: 6 | {'www.w3.org': 809, 'emplaces.namespace.example.org': 970, 'xmlns.com': 5, 'purl.org': 9, 'www.geonames.org': 1, 'timbuctoo.huygens.knaw.nl': 1}\n",
      "predicates: 60\n",
      "http://emplaces.namespace.example.org/alternateName: 198\n",
      "http://emplaces.namespace.example.org/alternateURI: 10\n",
      "http://emplaces.namespace.example.org/canonicalURI: 10\n",
      "http://emplaces.namespace.example.org/competence: 44\n",
      "http://emplaces.namespace.example.org/displayName: 8\n",
      "http://emplaces.namespace.example.org/earliestEnd:: 1\n",
      "http://emplaces.namespace.example.org/editorialNote: 1\n",
      "http://emplaces.namespace.example.org/end: 29\n",
      "http://emplaces.namespace.example.org/fromType: 6\n",
      "http://emplaces.namespace.example.org/hasAnnotation: 46\n",
      "http://emplaces.namespace.example.org/hasRelation: 26\n",
      "http://emplaces.namespace.example.org/language: 20\n",
      "http://emplaces.namespace.example.org/latestStart:: 1\n",
      "http://emplaces.namespace.example.org/link: 96\n",
      "http://emplaces.namespace.example.org/location: 10\n",
      "http://emplaces.namespace.example.org/name: 10\n",
      "http://emplaces.namespace.example.org/placeCategory: 20\n",
      "http://emplaces.namespace.example.org/placeType: 20\n",
      "http://emplaces.namespace.example.org/place_data: 22\n",
      "http://emplaces.namespace.example.org/preferredName: 5\n",
      "http://emplaces.namespace.example.org/preview: 22\n",
      "http://emplaces.namespace.example.org/reference: 2\n",
      "http://emplaces.namespace.example.org/relatedResource: 12\n",
      "http://emplaces.namespace.example.org/relationTo: 26\n",
      "http://emplaces.namespace.example.org/relationType: 26\n",
      "http://emplaces.namespace.example.org/short_label: 11\n",
      "http://emplaces.namespace.example.org/source: 88\n",
      "http://emplaces.namespace.example.org/start: 31\n",
      "http://emplaces.namespace.example.org/tag: 3\n",
      "http://emplaces.namespace.example.org/timespan: 66\n",
      "http://emplaces.namespace.example.org/toType: 6\n",
      "http://emplaces.namespace.example.org/when: 84\n",
      "http://emplaces.namespace.example.org/where: 10\n"
     ]
    },
    {
     "data": {
      "text/html": [
       "<a target=\"_blank\" href=\"http://purl.org/dc/terms/date\">http://purl.org/dc/terms/date</a>: 1"
      ],
      "text/plain": [
       "<IPython.core.display.HTML object>"
      ]
     },
     "metadata": {},
     "output_type": "display_data"
    },
    {
     "data": {
      "text/html": [
       "<a target=\"_blank\" href=\"http://purl.org/dc/terms/publisher\">http://purl.org/dc/terms/publisher</a>: 2"
      ],
      "text/plain": [
       "<IPython.core.display.HTML object>"
      ]
     },
     "metadata": {},
     "output_type": "display_data"
    },
    {
     "data": {
      "text/html": [
       "<a target=\"_blank\" href=\"http://purl.org/dc/terms/source\">http://purl.org/dc/terms/source</a>: 1"
      ],
      "text/plain": [
       "<IPython.core.display.HTML object>"
      ]
     },
     "metadata": {},
     "output_type": "display_data"
    },
    {
     "data": {
      "text/html": [
       "<a target=\"_blank\" href=\"http://purl.org/dc/terms/title\">http://purl.org/dc/terms/title</a>: 1"
      ],
      "text/plain": [
       "<IPython.core.display.HTML object>"
      ]
     },
     "metadata": {},
     "output_type": "display_data"
    },
    {
     "data": {
      "text/html": [
       "<a target=\"_blank\" href=\"http://purl.org/ontology/bibo/authorList\">http://purl.org/ontology/bibo/authorList</a>: 2"
      ],
      "text/plain": [
       "<IPython.core.display.HTML object>"
      ]
     },
     "metadata": {},
     "output_type": "display_data"
    },
    {
     "data": {
      "text/html": [
       "<a target=\"_blank\" href=\"http://purl.org/ontology/bibo/isbn10\">http://purl.org/ontology/bibo/isbn10</a>: 1"
      ],
      "text/plain": [
       "<IPython.core.display.HTML object>"
      ]
     },
     "metadata": {},
     "output_type": "display_data"
    },
    {
     "data": {
      "text/html": [
       "<a target=\"_blank\" href=\"http://purl.org/ontology/bibo/isbn13\">http://purl.org/ontology/bibo/isbn13</a>: 1"
      ],
      "text/plain": [
       "<IPython.core.display.HTML object>"
      ]
     },
     "metadata": {},
     "output_type": "display_data"
    },
    {
     "name": "stdout",
     "output_type": "stream",
     "text": [
      "http://timbuctoo.huygens.knaw.nl/static/v5/vocabulary#hasIndexConfig: 1\n"
     ]
    },
    {
     "data": {
      "text/html": [
       "<a target=\"_blank\" href=\"http://www.geonames.org/ontology#countryCode\">http://www.geonames.org/ontology#countryCode</a>: 1"
      ],
      "text/plain": [
       "<IPython.core.display.HTML object>"
      ]
     },
     "metadata": {},
     "output_type": "display_data"
    },
    {
     "data": {
      "text/html": [
       "<a target=\"_blank\" href=\"http://www.w3.org/1999/02/22-rdf-syntax-ns#first\">http://www.w3.org/1999/02/22-rdf-syntax-ns#first</a>: 4"
      ],
      "text/plain": [
       "<IPython.core.display.HTML object>"
      ]
     },
     "metadata": {},
     "output_type": "display_data"
    },
    {
     "data": {
      "text/html": [
       "<a target=\"_blank\" href=\"http://www.w3.org/1999/02/22-rdf-syntax-ns#rest\">http://www.w3.org/1999/02/22-rdf-syntax-ns#rest</a>: 4"
      ],
      "text/plain": [
       "<IPython.core.display.HTML object>"
      ]
     },
     "metadata": {},
     "output_type": "display_data"
    },
    {
     "data": {
      "text/html": [
       "<a target=\"_blank\" href=\"http://www.w3.org/1999/02/22-rdf-syntax-ns#type\">http://www.w3.org/1999/02/22-rdf-syntax-ns#type</a>: 386"
      ],
      "text/plain": [
       "<IPython.core.display.HTML object>"
      ]
     },
     "metadata": {},
     "output_type": "display_data"
    },
    {
     "data": {
      "text/html": [
       "<a target=\"_blank\" href=\"http://www.w3.org/2000/01/rdf-schema#comment\">http://www.w3.org/2000/01/rdf-schema#comment</a>: 65"
      ],
      "text/plain": [
       "<IPython.core.display.HTML object>"
      ]
     },
     "metadata": {},
     "output_type": "display_data"
    },
    {
     "data": {
      "text/html": [
       "<a target=\"_blank\" href=\"http://www.w3.org/2000/01/rdf-schema#isDefinedBy\">http://www.w3.org/2000/01/rdf-schema#isDefinedBy</a>: 10"
      ],
      "text/plain": [
       "<IPython.core.display.HTML object>"
      ]
     },
     "metadata": {},
     "output_type": "display_data"
    },
    {
     "data": {
      "text/html": [
       "<a target=\"_blank\" href=\"http://www.w3.org/2000/01/rdf-schema#label\">http://www.w3.org/2000/01/rdf-schema#label</a>: 134"
      ],
      "text/plain": [
       "<IPython.core.display.HTML object>"
      ]
     },
     "metadata": {},
     "output_type": "display_data"
    },
    {
     "data": {
      "text/html": [
       "<a target=\"_blank\" href=\"http://www.w3.org/2000/01/rdf-schema#range\">http://www.w3.org/2000/01/rdf-schema#range</a>: 2"
      ],
      "text/plain": [
       "<IPython.core.display.HTML object>"
      ]
     },
     "metadata": {},
     "output_type": "display_data"
    },
    {
     "data": {
      "text/html": [
       "<a target=\"_blank\" href=\"http://www.w3.org/2000/01/rdf-schema#seeAlso\">http://www.w3.org/2000/01/rdf-schema#seeAlso</a>: 26"
      ],
      "text/plain": [
       "<IPython.core.display.HTML object>"
      ]
     },
     "metadata": {},
     "output_type": "display_data"
    },
    {
     "data": {
      "text/html": [
       "<a target=\"_blank\" href=\"http://www.w3.org/2000/01/rdf-schema#subClassOf\">http://www.w3.org/2000/01/rdf-schema#subClassOf</a>: 4"
      ],
      "text/plain": [
       "<IPython.core.display.HTML object>"
      ]
     },
     "metadata": {},
     "output_type": "display_data"
    },
    {
     "data": {
      "text/html": [
       "<a target=\"_blank\" href=\"http://www.w3.org/2003/01/geo/wgs84_pos#lat\">http://www.w3.org/2003/01/geo/wgs84_pos#lat</a>: 5"
      ],
      "text/plain": [
       "<IPython.core.display.HTML object>"
      ]
     },
     "metadata": {},
     "output_type": "display_data"
    },
    {
     "data": {
      "text/html": [
       "<a target=\"_blank\" href=\"http://www.w3.org/2003/01/geo/wgs84_pos#long\">http://www.w3.org/2003/01/geo/wgs84_pos#long</a>: 5"
      ],
      "text/plain": [
       "<IPython.core.display.HTML object>"
      ]
     },
     "metadata": {},
     "output_type": "display_data"
    },
    {
     "data": {
      "text/html": [
       "<a target=\"_blank\" href=\"http://www.w3.org/2004/02/skos/core#broader\">http://www.w3.org/2004/02/skos/core#broader</a>: 26"
      ],
      "text/plain": [
       "<IPython.core.display.HTML object>"
      ]
     },
     "metadata": {},
     "output_type": "display_data"
    },
    {
     "data": {
      "text/html": [
       "<a target=\"_blank\" href=\"http://www.w3.org/ns/oa#hasBody\">http://www.w3.org/ns/oa#hasBody</a>: 46"
      ],
      "text/plain": [
       "<IPython.core.display.HTML object>"
      ]
     },
     "metadata": {},
     "output_type": "display_data"
    },
    {
     "data": {
      "text/html": [
       "<a target=\"_blank\" href=\"http://www.w3.org/ns/oa#hasTarget\">http://www.w3.org/ns/oa#hasTarget</a>: 46"
      ],
      "text/plain": [
       "<IPython.core.display.HTML object>"
      ]
     },
     "metadata": {},
     "output_type": "display_data"
    },
    {
     "data": {
      "text/html": [
       "<a target=\"_blank\" href=\"http://www.w3.org/ns/oa#motivatedBy\">http://www.w3.org/ns/oa#motivatedBy</a>: 46"
      ],
      "text/plain": [
       "<IPython.core.display.HTML object>"
      ]
     },
     "metadata": {},
     "output_type": "display_data"
    },
    {
     "data": {
      "text/html": [
       "<a target=\"_blank\" href=\"http://xmlns.com/foaf/0.1/firstName\">http://xmlns.com/foaf/0.1/firstName</a>: 2"
      ],
      "text/plain": [
       "<IPython.core.display.HTML object>"
      ]
     },
     "metadata": {},
     "output_type": "display_data"
    },
    {
     "data": {
      "text/html": [
       "<a target=\"_blank\" href=\"http://xmlns.com/foaf/0.1/name\">http://xmlns.com/foaf/0.1/name</a>: 1"
      ],
      "text/plain": [
       "<IPython.core.display.HTML object>"
      ]
     },
     "metadata": {},
     "output_type": "display_data"
    },
    {
     "data": {
      "text/html": [
       "<a target=\"_blank\" href=\"http://xmlns.com/foaf/0.1/surname\">http://xmlns.com/foaf/0.1/surname</a>: 2"
      ],
      "text/plain": [
       "<IPython.core.display.HTML object>"
      ]
     },
     "metadata": {},
     "output_type": "display_data"
    },
    {
     "data": {
      "text/html": [
       "<h3>fingerprint</h3>"
      ],
      "text/plain": [
       "<IPython.core.display.HTML object>"
      ]
     },
     "metadata": {},
     "output_type": "display_data"
    },
    {
     "data": {
      "text/html": [
       "<a target=\"_blank\" href=\"https://repository.huygens.knaw.nl/v5/resourcesync/u74ccc032adf8422d7ea92df96cd4783f0543db3b/dwc/dataset.nq\">https://repository.huygens.knaw.nl/v5/resourcesync/u74ccc032adf8422d7ea92df96cd4783f0543db3b/dwc/dataset.nq</a>"
      ],
      "text/plain": [
       "<IPython.core.display.HTML object>"
      ]
     },
     "metadata": {},
     "output_type": "display_data"
    },
    {
     "name": "stdout",
     "output_type": "stream",
     "text": [
      "contexts  :            1\n",
      "statements:      529.878\n",
      "literals  :      133.686\n",
      "literal ratio:    0,25\n",
      "\n",
      "subject netlocs: 7 {'example.org': 508099, 'timbuctoo.huygens.knaw.nl': 7555, 'sws.geonames.org': 4236, 'viaf.org': 2137, 'www.dwc.knaw.nl': 7832, 'data.huygens.knaw.nl': 18, 'creativecommons.org': 1}\n",
      "object netlocs: 7 {'example.org': 374422, 'www.dwc.knaw.nl': 7832, 'timbuctoo.huygens.knaw.nl': 7555, 'sws.geonames.org': 4236, 'viaf.org': 2137, 'data.huygens.knaw.nl': 9, 'creativecommons.org': 1}\n",
      "\n",
      "example.org | s 508099 | p 248695 | o 374422 | total 1131216\n",
      "\n",
      "predicate netlocs: 7 | {'www.w3.org': 167563, 'example.org': 248695, 'schema.org': 100766, 'timbuctoo.huygens.knaw.nl': 10718, 'www.geonames.org': 2123, 'purl.org': 12, 'xmlns.com': 1}\n",
      "predicates: 60\n",
      "http://example.org/datasets/u33707283d426f900d4d33707283d426f900d4d0d/bia/predicate/Country: 2123\n",
      "http://example.org/datasets/u33707283d426f900d4d33707283d426f900d4d0d/bia/predicate/aboutPerson: 24978\n",
      "http://example.org/datasets/u33707283d426f900d4d33707283d426f900d4d0d/bia/predicate/atInstitute: 4394\n",
      "http://example.org/datasets/u33707283d426f900d4d33707283d426f900d4d0d/bia/predicate/atPlace: 7260\n",
      "http://example.org/datasets/u33707283d426f900d4d33707283d426f900d4d0d/bia/predicate/birthDateRemark: 39\n",
      "http://example.org/datasets/u33707283d426f900d4d33707283d426f900d4d0d/bia/predicate/carriedOutBy: 11446\n",
      "http://example.org/datasets/u33707283d426f900d4d33707283d426f900d4d0d/bia/predicate/dataSetName: 9686\n",
      "http://example.org/datasets/u33707283d426f900d4d33707283d426f900d4d0d/bia/predicate/deathDateRemark: 6\n",
      "http://example.org/datasets/u33707283d426f900d4d33707283d426f900d4d0d/bia/predicate/dissertationTitle: 447\n",
      "http://example.org/datasets/u33707283d426f900d4d33707283d426f900d4d0d/bia/predicate/hasFieldOfInterest: 12040\n",
      "http://example.org/datasets/u33707283d426f900d4d33707283d426f900d4d0d/bia/predicate/hasInstitute: 23802\n",
      "http://example.org/datasets/u33707283d426f900d4d33707283d426f900d4d0d/bia/predicate/hasLocation: 20300\n",
      "http://example.org/datasets/u33707283d426f900d4d33707283d426f900d4d0d/bia/predicate/hasMember: 23812\n",
      "http://example.org/datasets/u33707283d426f900d4d33707283d426f900d4d0d/bia/predicate/hasProvenanceType: 24978\n",
      "http://example.org/datasets/u33707283d426f900d4d33707283d426f900d4d0d/bia/predicate/hasPublication: 9634\n",
      "http://example.org/datasets/u33707283d426f900d4d33707283d426f900d4d0d/bia/predicate/hasResident: 15758\n",
      "http://example.org/datasets/u33707283d426f900d4d33707283d426f900d4d0d/bia/predicate/hasStudent: 2472\n",
      "http://example.org/datasets/u33707283d426f900d4d33707283d426f900d4d0d/bia/predicate/hasWriter: 9634\n",
      "http://example.org/datasets/u33707283d426f900d4d33707283d426f900d4d0d/bia/predicate/highestDegree: 1571\n",
      "http://example.org/datasets/u33707283d426f900d4d33707283d426f900d4d0d/bia/predicate/isAbout: 12368\n",
      "http://example.org/datasets/u33707283d426f900d4d33707283d426f900d4d0d/bia/predicate/obituaryUrl: 2782\n",
      "http://example.org/datasets/u33707283d426f900d4d33707283d426f900d4d0d/bia/predicate/originDb: 2295\n",
      "http://example.org/datasets/u33707283d426f900d4d33707283d426f900d4d0d/bia/predicate/pageNumbers: 4542\n",
      "http://example.org/datasets/u33707283d426f900d4d33707283d426f900d4d0d/bia/predicate/portraitUrl: 3798\n",
      "http://example.org/datasets/u33707283d426f900d4d33707283d426f900d4d0d/bia/predicate/reference: 4542\n",
      "http://example.org/datasets/u33707283d426f900d4d33707283d426f900d4d0d/bia/predicate/type: 362\n",
      "http://example.org/datasets/u33707283d426f900d4d33707283d426f900d4d0d/bia/predicate/url: 9084\n",
      "http://example.org/datasets/u33707283d426f900d4d33707283d426f900d4d0d/bia/predicate/year: 4542\n"
     ]
    },
    {
     "data": {
      "text/html": [
       "<a target=\"_blank\" href=\"http://purl.org/dc/terms/abstract\">http://purl.org/dc/terms/abstract</a>: 2"
      ],
      "text/plain": [
       "<IPython.core.display.HTML object>"
      ]
     },
     "metadata": {},
     "output_type": "display_data"
    },
    {
     "data": {
      "text/html": [
       "<a target=\"_blank\" href=\"http://purl.org/dc/terms/description\">http://purl.org/dc/terms/description</a>: 2"
      ],
      "text/plain": [
       "<IPython.core.display.HTML object>"
      ]
     },
     "metadata": {},
     "output_type": "display_data"
    },
    {
     "data": {
      "text/html": [
       "<a target=\"_blank\" href=\"http://purl.org/dc/terms/license\">http://purl.org/dc/terms/license</a>: 2"
      ],
      "text/plain": [
       "<IPython.core.display.HTML object>"
      ]
     },
     "metadata": {},
     "output_type": "display_data"
    },
    {
     "data": {
      "text/html": [
       "<a target=\"_blank\" href=\"http://purl.org/dc/terms/provenance\">http://purl.org/dc/terms/provenance</a>: 2"
      ],
      "text/plain": [
       "<IPython.core.display.HTML object>"
      ]
     },
     "metadata": {},
     "output_type": "display_data"
    },
    {
     "data": {
      "text/html": [
       "<a target=\"_blank\" href=\"http://purl.org/dc/terms/rightsHolder\">http://purl.org/dc/terms/rightsHolder</a>: 2"
      ],
      "text/plain": [
       "<IPython.core.display.HTML object>"
      ]
     },
     "metadata": {},
     "output_type": "display_data"
    },
    {
     "data": {
      "text/html": [
       "<a target=\"_blank\" href=\"http://purl.org/dc/terms/title\">http://purl.org/dc/terms/title</a>: 2"
      ],
      "text/plain": [
       "<IPython.core.display.HTML object>"
      ]
     },
     "metadata": {},
     "output_type": "display_data"
    },
    {
     "data": {
      "text/html": [
       "<a target=\"_blank\" href=\"http://schema.org/ContactPoint\">http://schema.org/ContactPoint</a>: 2"
      ],
      "text/plain": [
       "<IPython.core.display.HTML object>"
      ]
     },
     "metadata": {},
     "output_type": "display_data"
    },
    {
     "data": {
      "text/html": [
       "<a target=\"_blank\" href=\"http://schema.org/birthDate\">http://schema.org/birthDate</a>: 4585"
      ],
      "text/plain": [
       "<IPython.core.display.HTML object>"
      ]
     },
     "metadata": {},
     "output_type": "display_data"
    },
    {
     "data": {
      "text/html": [
       "<a target=\"_blank\" href=\"http://schema.org/birthPlace\">http://schema.org/birthPlace</a>: 7318"
      ],
      "text/plain": [
       "<IPython.core.display.HTML object>"
      ]
     },
     "metadata": {},
     "output_type": "display_data"
    },
    {
     "data": {
      "text/html": [
       "<a target=\"_blank\" href=\"http://schema.org/deathDate\">http://schema.org/deathDate</a>: 4693"
      ],
      "text/plain": [
       "<IPython.core.display.HTML object>"
      ]
     },
     "metadata": {},
     "output_type": "display_data"
    },
    {
     "data": {
      "text/html": [
       "<a target=\"_blank\" href=\"http://schema.org/deathPlace\">http://schema.org/deathPlace</a>: 7012"
      ],
      "text/plain": [
       "<IPython.core.display.HTML object>"
      ]
     },
     "metadata": {},
     "output_type": "display_data"
    },
    {
     "data": {
      "text/html": [
       "<a target=\"_blank\" href=\"http://schema.org/description\">http://schema.org/description</a>: 33895"
      ],
      "text/plain": [
       "<IPython.core.display.HTML object>"
      ]
     },
     "metadata": {},
     "output_type": "display_data"
    },
    {
     "data": {
      "text/html": [
       "<a target=\"_blank\" href=\"http://schema.org/email\">http://schema.org/email</a>: 2"
      ],
      "text/plain": [
       "<IPython.core.display.HTML object>"
      ]
     },
     "metadata": {},
     "output_type": "display_data"
    },
    {
     "data": {
      "text/html": [
       "<a target=\"_blank\" href=\"http://schema.org/endDate\">http://schema.org/endDate</a>: 8401"
      ],
      "text/plain": [
       "<IPython.core.display.HTML object>"
      ]
     },
     "metadata": {},
     "output_type": "display_data"
    },
    {
     "data": {
      "text/html": [
       "<a target=\"_blank\" href=\"http://schema.org/gender\">http://schema.org/gender</a>: 9309"
      ],
      "text/plain": [
       "<IPython.core.display.HTML object>"
      ]
     },
     "metadata": {},
     "output_type": "display_data"
    },
    {
     "name": "stdout",
     "output_type": "stream",
     "text": [
      "http://schema.org/label: 588\n"
     ]
    },
    {
     "data": {
      "text/html": [
       "<a target=\"_blank\" href=\"http://schema.org/name\">http://schema.org/name</a>: 3327"
      ],
      "text/plain": [
       "<IPython.core.display.HTML object>"
      ]
     },
     "metadata": {},
     "output_type": "display_data"
    },
    {
     "data": {
      "text/html": [
       "<a target=\"_blank\" href=\"http://schema.org/startDate\">http://schema.org/startDate</a>: 17092"
      ],
      "text/plain": [
       "<IPython.core.display.HTML object>"
      ]
     },
     "metadata": {},
     "output_type": "display_data"
    },
    {
     "data": {
      "text/html": [
       "<a target=\"_blank\" href=\"http://schema.org/title\">http://schema.org/title</a>: 4542"
      ],
      "text/plain": [
       "<IPython.core.display.HTML object>"
      ]
     },
     "metadata": {},
     "output_type": "display_data"
    },
    {
     "name": "stdout",
     "output_type": "stream",
     "text": [
      "http://timbuctoo.huygens.knaw.nl/static/v5/predicate/names: 10694\n",
      "http://timbuctoo.huygens.knaw.nl/static/v5/vocabulary#hasIndexConfig: 7\n",
      "http://timbuctoo.huygens.knaw.nl/static/v5/vocabulary#hasViewConfig: 4\n",
      "http://timbuctoo.huygens.knaw.nl/static/v5/vocabulary#summaryDescriptionPredicate: 10\n",
      "http://timbuctoo.huygens.knaw.nl/static/v5/vocabulary#summaryTitlePredicate: 3\n"
     ]
    },
    {
     "data": {
      "text/html": [
       "<a target=\"_blank\" href=\"http://www.geonames.org/ontology#countryCode\">http://www.geonames.org/ontology#countryCode</a>: 2123"
      ],
      "text/plain": [
       "<IPython.core.display.HTML object>"
      ]
     },
     "metadata": {},
     "output_type": "display_data"
    },
    {
     "data": {
      "text/html": [
       "<a target=\"_blank\" href=\"http://www.w3.org/1999/02/22-rdf-syntax-ns#type\">http://www.w3.org/1999/02/22-rdf-syntax-ns#type</a>: 135456"
      ],
      "text/plain": [
       "<IPython.core.display.HTML object>"
      ]
     },
     "metadata": {},
     "output_type": "display_data"
    },
    {
     "data": {
      "text/html": [
       "<a target=\"_blank\" href=\"http://www.w3.org/2000/01/rdf-schema#label\">http://www.w3.org/2000/01/rdf-schema#label</a>: 13"
      ],
      "text/plain": [
       "<IPython.core.display.HTML object>"
      ]
     },
     "metadata": {},
     "output_type": "display_data"
    },
    {
     "data": {
      "text/html": [
       "<a target=\"_blank\" href=\"http://www.w3.org/2000/01/rdf-schema#subClassOf\">http://www.w3.org/2000/01/rdf-schema#subClassOf</a>: 12"
      ],
      "text/plain": [
       "<IPython.core.display.HTML object>"
      ]
     },
     "metadata": {},
     "output_type": "display_data"
    },
    {
     "data": {
      "text/html": [
       "<a target=\"_blank\" href=\"http://www.w3.org/2002/07/owl#sameAs\">http://www.w3.org/2002/07/owl#sameAs</a>: 27844"
      ],
      "text/plain": [
       "<IPython.core.display.HTML object>"
      ]
     },
     "metadata": {},
     "output_type": "display_data"
    },
    {
     "data": {
      "text/html": [
       "<a target=\"_blank\" href=\"http://www.w3.org/2003/01/geo/wgs84_pos#lat\">http://www.w3.org/2003/01/geo/wgs84_pos#lat</a>: 2119"
      ],
      "text/plain": [
       "<IPython.core.display.HTML object>"
      ]
     },
     "metadata": {},
     "output_type": "display_data"
    },
    {
     "data": {
      "text/html": [
       "<a target=\"_blank\" href=\"http://www.w3.org/2003/01/geo/wgs84_pos#long\">http://www.w3.org/2003/01/geo/wgs84_pos#long</a>: 2119"
      ],
      "text/plain": [
       "<IPython.core.display.HTML object>"
      ]
     },
     "metadata": {},
     "output_type": "display_data"
    },
    {
     "data": {
      "text/html": [
       "<a target=\"_blank\" href=\"http://xmlns.com/foaf/0.1/depiction\">http://xmlns.com/foaf/0.1/depiction</a>: 1"
      ],
      "text/plain": [
       "<IPython.core.display.HTML object>"
      ]
     },
     "metadata": {},
     "output_type": "display_data"
    },
    {
     "data": {
      "text/html": [
       "<h3>fingerprint</h3>"
      ],
      "text/plain": [
       "<IPython.core.display.HTML object>"
      ]
     },
     "metadata": {},
     "output_type": "display_data"
    },
    {
     "data": {
      "text/html": [
       "<a target=\"_blank\" href=\"https://repository.huygens.knaw.nl/v5/resourcesync/u74ccc032adf8422d7ea92df96cd4783f0543db3b/charterportaal/dataset.nq\">https://repository.huygens.knaw.nl/v5/resourcesync/u74ccc032adf8422d7ea92df96cd4783f0543db3b/charterportaal/dataset.nq</a>"
      ],
      "text/plain": [
       "<IPython.core.display.HTML object>"
      ]
     },
     "metadata": {},
     "output_type": "display_data"
    },
    {
     "name": "stdout",
     "output_type": "stream",
     "text": [
      "contexts  :            1\n",
      "statements:      128.950\n",
      "literals  :       90.746\n",
      "literal ratio:    0,70\n",
      "\n",
      "subject netlocs: 6 {'resources.huygens.knaw.nl': 115390, 'thumbnails.huygens.knaw.nl': 5324, 'proxy.handle.net': 8216, 'data.huygens.knaw.nl': 18, 'creativecommons.org': 1, 'timbuctoo.huygens.knaw.nl': 1}\n",
      "object netlocs: 6 {'proxy.handle.net': 8216, 'resources.huygens.knaw.nl': 27315, 'thumbnails.huygens.knaw.nl': 2662, 'data.huygens.knaw.nl': 9, 'creativecommons.org': 1, 'timbuctoo.huygens.knaw.nl': 1}\n",
      "\n",
      "example.org | s 0 | p 0 | o 0 | total 0\n",
      "\n",
      "predicate netlocs: 6 | {'resources.huygens.knaw.nl': 104502, 'www.w3.org': 19101, 'xmlns.com': 5325, 'timbuctoo.huygens.knaw.nl': 4, 'purl.org': 12, 'schema.org': 6}\n",
      "predicates: 40\n"
     ]
    },
    {
     "data": {
      "text/html": [
       "<a target=\"_blank\" href=\"http://purl.org/dc/terms/abstract\">http://purl.org/dc/terms/abstract</a>: 2"
      ],
      "text/plain": [
       "<IPython.core.display.HTML object>"
      ]
     },
     "metadata": {},
     "output_type": "display_data"
    },
    {
     "data": {
      "text/html": [
       "<a target=\"_blank\" href=\"http://purl.org/dc/terms/description\">http://purl.org/dc/terms/description</a>: 2"
      ],
      "text/plain": [
       "<IPython.core.display.HTML object>"
      ]
     },
     "metadata": {},
     "output_type": "display_data"
    },
    {
     "data": {
      "text/html": [
       "<a target=\"_blank\" href=\"http://purl.org/dc/terms/license\">http://purl.org/dc/terms/license</a>: 2"
      ],
      "text/plain": [
       "<IPython.core.display.HTML object>"
      ]
     },
     "metadata": {},
     "output_type": "display_data"
    },
    {
     "data": {
      "text/html": [
       "<a target=\"_blank\" href=\"http://purl.org/dc/terms/provenance\">http://purl.org/dc/terms/provenance</a>: 2"
      ],
      "text/plain": [
       "<IPython.core.display.HTML object>"
      ]
     },
     "metadata": {},
     "output_type": "display_data"
    },
    {
     "data": {
      "text/html": [
       "<a target=\"_blank\" href=\"http://purl.org/dc/terms/rightsHolder\">http://purl.org/dc/terms/rightsHolder</a>: 2"
      ],
      "text/plain": [
       "<IPython.core.display.HTML object>"
      ]
     },
     "metadata": {},
     "output_type": "display_data"
    },
    {
     "data": {
      "text/html": [
       "<a target=\"_blank\" href=\"http://purl.org/dc/terms/title\">http://purl.org/dc/terms/title</a>: 2"
      ],
      "text/plain": [
       "<IPython.core.display.HTML object>"
      ]
     },
     "metadata": {},
     "output_type": "display_data"
    },
    {
     "name": "stdout",
     "output_type": "stream",
     "text": [
      "http://resources.huygens.knaw.nl/charterportal/archive: 8218\n",
      "http://resources.huygens.knaw.nl/charterportal/collection: 8218\n",
      "http://resources.huygens.knaw.nl/charterportal/dates_0: 8218\n",
      "http://resources.huygens.knaw.nl/charterportal/dates_1: 8218\n",
      "http://resources.huygens.knaw.nl/charterportal/dates_2: 8218\n",
      "http://resources.huygens.knaw.nl/charterportal/editie: 332\n",
      "http://resources.huygens.knaw.nl/charterportal/fondsnaam: 8218\n",
      "http://resources.huygens.knaw.nl/charterportal/inventaris_tekst: 8218\n",
      "http://resources.huygens.knaw.nl/charterportal/level: 8218\n",
      "http://resources.huygens.knaw.nl/charterportal/links: 16432\n",
      "http://resources.huygens.knaw.nl/charterportal/overige: 2990\n",
      "http://resources.huygens.knaw.nl/charterportal/regest_tekst: 2568\n",
      "http://resources.huygens.knaw.nl/charterportal/title: 8218\n",
      "http://resources.huygens.knaw.nl/charterportal/unit_ids_1: 6\n",
      "http://resources.huygens.knaw.nl/charterportal/unit_ids_2: 161\n",
      "http://resources.huygens.knaw.nl/charterportal/unit_ids_3: 1352\n",
      "http://resources.huygens.knaw.nl/charterportal/unit_ids_4: 2179\n",
      "http://resources.huygens.knaw.nl/charterportal/unit_ids_5: 2585\n",
      "http://resources.huygens.knaw.nl/charterportal/unit_ids_6: 989\n",
      "http://resources.huygens.knaw.nl/charterportal/unit_ids_7: 614\n",
      "http://resources.huygens.knaw.nl/charterportal/unit_ids_8: 152\n",
      "http://resources.huygens.knaw.nl/charterportal/unit_ids_9: 180\n"
     ]
    },
    {
     "data": {
      "text/html": [
       "<a target=\"_blank\" href=\"http://schema.org/ContactPoint\">http://schema.org/ContactPoint</a>: 2"
      ],
      "text/plain": [
       "<IPython.core.display.HTML object>"
      ]
     },
     "metadata": {},
     "output_type": "display_data"
    },
    {
     "data": {
      "text/html": [
       "<a target=\"_blank\" href=\"http://schema.org/email\">http://schema.org/email</a>: 2"
      ],
      "text/plain": [
       "<IPython.core.display.HTML object>"
      ]
     },
     "metadata": {},
     "output_type": "display_data"
    },
    {
     "data": {
      "text/html": [
       "<a target=\"_blank\" href=\"http://schema.org/name\">http://schema.org/name</a>: 2"
      ],
      "text/plain": [
       "<IPython.core.display.HTML object>"
      ]
     },
     "metadata": {},
     "output_type": "display_data"
    },
    {
     "name": "stdout",
     "output_type": "stream",
     "text": [
      "http://timbuctoo.huygens.knaw.nl/static/v5/vocabulary#hasIndexConfig: 1\n",
      "http://timbuctoo.huygens.knaw.nl/static/v5/vocabulary#hasViewConfig: 1\n",
      "http://timbuctoo.huygens.knaw.nl/static/v5/vocabulary#summaryDescriptionPredicate: 1\n",
      "http://timbuctoo.huygens.knaw.nl/static/v5/vocabulary#summaryTitlePredicate: 1\n"
     ]
    },
    {
     "data": {
      "text/html": [
       "<a target=\"_blank\" href=\"http://www.w3.org/1999/02/22-rdf-syntax-ns#type\">http://www.w3.org/1999/02/22-rdf-syntax-ns#type</a>: 16436"
      ],
      "text/plain": [
       "<IPython.core.display.HTML object>"
      ]
     },
     "metadata": {},
     "output_type": "display_data"
    },
    {
     "data": {
      "text/html": [
       "<a target=\"_blank\" href=\"http://www.w3.org/2000/01/rdf-schema#label\">http://www.w3.org/2000/01/rdf-schema#label</a>: 2663"
      ],
      "text/plain": [
       "<IPython.core.display.HTML object>"
      ]
     },
     "metadata": {},
     "output_type": "display_data"
    },
    {
     "data": {
      "text/html": [
       "<a target=\"_blank\" href=\"http://www.w3.org/2000/01/rdf-schema#subClassOf\">http://www.w3.org/2000/01/rdf-schema#subClassOf</a>: 2"
      ],
      "text/plain": [
       "<IPython.core.display.HTML object>"
      ]
     },
     "metadata": {},
     "output_type": "display_data"
    },
    {
     "data": {
      "text/html": [
       "<a target=\"_blank\" href=\"http://xmlns.com/foaf/0.1/depiction\">http://xmlns.com/foaf/0.1/depiction</a>: 1"
      ],
      "text/plain": [
       "<IPython.core.display.HTML object>"
      ]
     },
     "metadata": {},
     "output_type": "display_data"
    },
    {
     "data": {
      "text/html": [
       "<a target=\"_blank\" href=\"http://xmlns.com/foaf/spec/#term_depiction\">http://xmlns.com/foaf/spec/#term_depiction</a>: 5324"
      ],
      "text/plain": [
       "<IPython.core.display.HTML object>"
      ]
     },
     "metadata": {},
     "output_type": "display_data"
    },
    {
     "data": {
      "text/html": [
       "<h3>fingerprint</h3>"
      ],
      "text/plain": [
       "<IPython.core.display.HTML object>"
      ]
     },
     "metadata": {},
     "output_type": "display_data"
    },
    {
     "data": {
      "text/html": [
       "<a target=\"_blank\" href=\"https://repository.huygens.knaw.nl/v5/resourcesync/u74ccc032adf8422d7ea92df96cd4783f0543db3b/bioport/dataset.nq\">https://repository.huygens.knaw.nl/v5/resourcesync/u74ccc032adf8422d7ea92df96cd4783f0543db3b/bioport/dataset.nq</a>"
      ],
      "text/plain": [
       "<IPython.core.display.HTML object>"
      ]
     },
     "metadata": {},
     "output_type": "display_data"
    },
    {
     "name": "stdout",
     "output_type": "stream",
     "text": [
      "contexts  :            1\n",
      "statements:      854.194\n",
      "literals  :      688.460\n",
      "literal ratio:    0,81\n",
      "\n",
      "subject netlocs: 3 {'example.org': 854174, 'data.huygens.knaw.nl': 19, 'creativecommons.org': 1}\n",
      "object netlocs: 3 {'example.org': 165724, 'data.huygens.knaw.nl': 9, 'creativecommons.org': 1}\n",
      "\n",
      "example.org | s 854174 | p 350379 | o 165724 | total 1370277\n",
      "\n",
      "predicate netlocs: 7 | {'www.w3.org': 165725, 'timbuctoo.huygens.knaw.nl': 108149, 'example.org': 350379, 'schema.org': 229926, 'xmlns.com': 1, 'purl.org': 13, '': 1}\n",
      "predicates: 32\n",
      "http://example.org/datasets/u33707283d426f900d4d33707283d426f900d4d0d/bioport/predicate/Bioport_id: 82862\n",
      "http://example.org/datasets/u33707283d426f900d4d33707283d426f900d4d0d/bioport/predicate/Person_id: 82862\n",
      "http://example.org/datasets/u33707283d426f900d4d33707283d426f900d4d0d/bioport/predicate/Variant_id: 11604\n",
      "http://example.org/datasets/u33707283d426f900d4d33707283d426f900d4d0d/bioport/predicate/birthDateRemark: 1729\n",
      "http://example.org/datasets/u33707283d426f900d4d33707283d426f900d4d0d/bioport/predicate/category: 67553\n",
      "http://example.org/datasets/u33707283d426f900d4d33707283d426f900d4d0d/bioport/predicate/deathDateRemark: 1592\n",
      "http://example.org/datasets/u33707283d426f900d4d33707283d426f900d4d0d/bioport/predicate/funeralPlace: 76461\n",
      "http://example.org/datasets/u33707283d426f900d4d33707283d426f900d4d0d/bioport/predicate/religion: 2846\n",
      "http://example.org/datasets/u33707283d426f900d4d33707283d426f900d4d0d/bioport/predicate/viafUri: 9379\n",
      "http://example.org/datasets/u33707283d426f900d4d33707283d426f900d4d0d/bioport/predicate/wikiDataUri: 13491\n"
     ]
    },
    {
     "data": {
      "text/html": [
       "<a target=\"_blank\" href=\"http://purl.org/dc/terms/abstract\">http://purl.org/dc/terms/abstract</a>: 2"
      ],
      "text/plain": [
       "<IPython.core.display.HTML object>"
      ]
     },
     "metadata": {},
     "output_type": "display_data"
    },
    {
     "data": {
      "text/html": [
       "<a target=\"_blank\" href=\"http://purl.org/dc/terms/description\">http://purl.org/dc/terms/description</a>: 3"
      ],
      "text/plain": [
       "<IPython.core.display.HTML object>"
      ]
     },
     "metadata": {},
     "output_type": "display_data"
    },
    {
     "data": {
      "text/html": [
       "<a target=\"_blank\" href=\"http://purl.org/dc/terms/license\">http://purl.org/dc/terms/license</a>: 2"
      ],
      "text/plain": [
       "<IPython.core.display.HTML object>"
      ]
     },
     "metadata": {},
     "output_type": "display_data"
    },
    {
     "data": {
      "text/html": [
       "<a target=\"_blank\" href=\"http://purl.org/dc/terms/provenance\">http://purl.org/dc/terms/provenance</a>: 2"
      ],
      "text/plain": [
       "<IPython.core.display.HTML object>"
      ]
     },
     "metadata": {},
     "output_type": "display_data"
    },
    {
     "data": {
      "text/html": [
       "<a target=\"_blank\" href=\"http://purl.org/dc/terms/rightsHolder\">http://purl.org/dc/terms/rightsHolder</a>: 2"
      ],
      "text/plain": [
       "<IPython.core.display.HTML object>"
      ]
     },
     "metadata": {},
     "output_type": "display_data"
    },
    {
     "data": {
      "text/html": [
       "<a target=\"_blank\" href=\"http://purl.org/dc/terms/title\">http://purl.org/dc/terms/title</a>: 2"
      ],
      "text/plain": [
       "<IPython.core.display.HTML object>"
      ]
     },
     "metadata": {},
     "output_type": "display_data"
    },
    {
     "data": {
      "text/html": [
       "<a target=\"_blank\" href=\"http://schema.org/ContactPoint\">http://schema.org/ContactPoint</a>: 2"
      ],
      "text/plain": [
       "<IPython.core.display.HTML object>"
      ]
     },
     "metadata": {},
     "output_type": "display_data"
    },
    {
     "data": {
      "text/html": [
       "<a target=\"_blank\" href=\"http://schema.org/birthDate\">http://schema.org/birthDate</a>: 56012"
      ],
      "text/plain": [
       "<IPython.core.display.HTML object>"
      ]
     },
     "metadata": {},
     "output_type": "display_data"
    },
    {
     "data": {
      "text/html": [
       "<a target=\"_blank\" href=\"http://schema.org/birthPlace\">http://schema.org/birthPlace</a>: 45680"
      ],
      "text/plain": [
       "<IPython.core.display.HTML object>"
      ]
     },
     "metadata": {},
     "output_type": "display_data"
    },
    {
     "data": {
      "text/html": [
       "<a target=\"_blank\" href=\"http://schema.org/deathDate\">http://schema.org/deathDate</a>: 56948"
      ],
      "text/plain": [
       "<IPython.core.display.HTML object>"
      ]
     },
     "metadata": {},
     "output_type": "display_data"
    },
    {
     "data": {
      "text/html": [
       "<a target=\"_blank\" href=\"http://schema.org/deathPlace\">http://schema.org/deathPlace</a>: 40175"
      ],
      "text/plain": [
       "<IPython.core.display.HTML object>"
      ]
     },
     "metadata": {},
     "output_type": "display_data"
    },
    {
     "data": {
      "text/html": [
       "<a target=\"_blank\" href=\"http://schema.org/email\">http://schema.org/email</a>: 2"
      ],
      "text/plain": [
       "<IPython.core.display.HTML object>"
      ]
     },
     "metadata": {},
     "output_type": "display_data"
    },
    {
     "data": {
      "text/html": [
       "<a target=\"_blank\" href=\"http://schema.org/gender\">http://schema.org/gender</a>: 31105"
      ],
      "text/plain": [
       "<IPython.core.display.HTML object>"
      ]
     },
     "metadata": {},
     "output_type": "display_data"
    },
    {
     "data": {
      "text/html": [
       "<a target=\"_blank\" href=\"http://schema.org/name\">http://schema.org/name</a>: 2"
      ],
      "text/plain": [
       "<IPython.core.display.HTML object>"
      ]
     },
     "metadata": {},
     "output_type": "display_data"
    },
    {
     "name": "stdout",
     "output_type": "stream",
     "text": [
      "http://timbuctoo.huygens.knaw.nl/static/v5/predicate/names: 108146\n",
      "http://timbuctoo.huygens.knaw.nl/static/v5/vocabulary#hasIndexConfig: 1\n",
      "http://timbuctoo.huygens.knaw.nl/static/v5/vocabulary#hasViewConfig: 1\n",
      "http://timbuctoo.huygens.knaw.nl/static/v5/vocabulary#summaryTitlePredicate: 1\n"
     ]
    },
    {
     "data": {
      "text/html": [
       "<a target=\"_blank\" href=\"http://www.w3.org/1999/02/22-rdf-syntax-ns#type\">http://www.w3.org/1999/02/22-rdf-syntax-ns#type</a>: 165724"
      ],
      "text/plain": [
       "<IPython.core.display.HTML object>"
      ]
     },
     "metadata": {},
     "output_type": "display_data"
    },
    {
     "data": {
      "text/html": [
       "<a target=\"_blank\" href=\"http://www.w3.org/2000/01/rdf-schema#label\">http://www.w3.org/2000/01/rdf-schema#label</a>: 1"
      ],
      "text/plain": [
       "<IPython.core.display.HTML object>"
      ]
     },
     "metadata": {},
     "output_type": "display_data"
    },
    {
     "data": {
      "text/html": [
       "<a target=\"_blank\" href=\"http://xmlns.com/foaf/0.1/depiction\">http://xmlns.com/foaf/0.1/depiction</a>: 1"
      ],
      "text/plain": [
       "<IPython.core.display.HTML object>"
      ]
     },
     "metadata": {},
     "output_type": "display_data"
    },
    {
     "name": "stdout",
     "output_type": "stream",
     "text": [
      "rdfs:label: 1\n"
     ]
    },
    {
     "data": {
      "text/html": [
       "<h3>fingerprint</h3>"
      ],
      "text/plain": [
       "<IPython.core.display.HTML object>"
      ]
     },
     "metadata": {},
     "output_type": "display_data"
    },
    {
     "data": {
      "text/html": [
       "<a target=\"_blank\" href=\"https://repository.huygens.knaw.nl/v5/resourcesync/u0b4a3b0677e8bed3acb26c2d785a1b2090b59bbb/migratiegids/dataset.nq\">https://repository.huygens.knaw.nl/v5/resourcesync/u0b4a3b0677e8bed3acb26c2d785a1b2090b59bbb/migratiegids/dataset.nq</a>"
      ],
      "text/plain": [
       "<IPython.core.display.HTML object>"
      ]
     },
     "metadata": {},
     "output_type": "display_data"
    },
    {
     "name": "stdout",
     "output_type": "stream",
     "text": [
      "<class 'rdflib.plugins.parsers.ntriples.ParseError'>\n"
     ]
    },
    {
     "data": {
      "text/html": [
       "<h3>fingerprint</h3>"
      ],
      "text/plain": [
       "<IPython.core.display.HTML object>"
      ]
     },
     "metadata": {},
     "output_type": "display_data"
    },
    {
     "data": {
      "text/html": [
       "<a target=\"_blank\" href=\"https://repository.huygens.knaw.nl/v5/resourcesync/u0c0efe7fb8a246c7ebb7b0d710d7b19d5e60ce3d/vocopvarenden2/dataset.nq\">https://repository.huygens.knaw.nl/v5/resourcesync/u0c0efe7fb8a246c7ebb7b0d710d7b19d5e60ce3d/vocopvarenden2/dataset.nq</a>"
      ],
      "text/plain": [
       "<IPython.core.display.HTML object>"
      ]
     },
     "metadata": {},
     "output_type": "display_data"
    },
    {
     "name": "stdout",
     "output_type": "stream",
     "text": [
      "contexts  :            1\n",
      "statements:    1.639.845\n",
      "literals  :    1.339.719\n",
      "literal ratio:    0,82\n",
      "\n",
      "subject netlocs: 2 {'data.huygens.knaw.nl': 894987, 'timbuctoo.huygens.knaw.nl': 744858}\n",
      "object netlocs: 2 {'data.huygens.knaw.nl': 200106, 'timbuctoo.huygens.knaw.nl': 100020}\n",
      "\n",
      "example.org | s 0 | p 0 | o 0 | total 0\n",
      "\n",
      "predicate netlocs: 3 | {'timbuctoo.huygens.knaw.nl': 744942, 'www.w3.org': 200066, 'data.huygens.knaw.nl': 694837}\n",
      "predicates: 49\n",
      "http://timbuctoo.huygens.knaw.nl/properties/Achternaam: 49998\n",
      "http://timbuctoo.huygens.knaw.nl/properties/BegunstigdeAchternaam: 4927\n",
      "http://timbuctoo.huygens.knaw.nl/properties/BegunstigdePatroniem: 295\n",
      "http://timbuctoo.huygens.knaw.nl/properties/BegunstigdeRelatie: 4901\n",
      "http://timbuctoo.huygens.knaw.nl/properties/BegunstigdeTussenvoegsel: 1141\n",
      "http://timbuctoo.huygens.knaw.nl/properties/BegunstigdeVoornaam: 4932\n",
      "http://timbuctoo.huygens.knaw.nl/properties/DSS_ID: 49999\n",
      "http://timbuctoo.huygens.knaw.nl/properties/DatumIndiensttreding: 49999\n",
      "http://timbuctoo.huygens.knaw.nl/properties/DatumUitDienst_original: 49993\n",
      "http://timbuctoo.huygens.knaw.nl/properties/DatumUitDienst_parseDag: 30536\n",
      "http://timbuctoo.huygens.knaw.nl/properties/DatumUitDienst_parseJaar: 49993\n",
      "http://timbuctoo.huygens.knaw.nl/properties/DatumUitDienst_parseMaand: 30534\n",
      "http://timbuctoo.huygens.knaw.nl/properties/OmschrijvingUitDienst: 49999\n",
      "http://timbuctoo.huygens.knaw.nl/properties/Patroniem: 7136\n",
      "http://timbuctoo.huygens.knaw.nl/properties/PlaatsHerkomst: 49944\n",
      "http://timbuctoo.huygens.knaw.nl/properties/Rang: 49999\n",
      "http://timbuctoo.huygens.knaw.nl/properties/Tussenvoegsel: 10522\n",
      "http://timbuctoo.huygens.knaw.nl/properties/VolledigeNaam: 49999\n",
      "http://timbuctoo.huygens.knaw.nl/properties/Voornaam: 49998\n",
      "http://timbuctoo.huygens.knaw.nl/properties/deathDateRemark: 49993\n",
      "http://timbuctoo.huygens.knaw.nl/static/v5/vocabulary#hasProperty: 42\n",
      "http://timbuctoo.huygens.knaw.nl/static/v5/vocabulary#mimetype: 1\n",
      "http://timbuctoo.huygens.knaw.nl/static/v5/vocabulary#next: 42\n",
      "http://timbuctoo.huygens.knaw.nl/static/v5/vocabulary#propertyId: 21\n",
      "http://timbuctoo.huygens.knaw.nl/static/v5/vocabulary#timhasrow: 99998\n"
     ]
    },
    {
     "data": {
      "text/html": [
       "<a target=\"_blank\" href=\"http://www.w3.org/1999/02/22-rdf-syntax-ns#type\">http://www.w3.org/1999/02/22-rdf-syntax-ns#type</a>: 200042"
      ],
      "text/plain": [
       "<IPython.core.display.HTML object>"
      ]
     },
     "metadata": {},
     "output_type": "display_data"
    },
    {
     "data": {
      "text/html": [
       "<a target=\"_blank\" href=\"http://www.w3.org/2000/01/rdf-schema#label\">http://www.w3.org/2000/01/rdf-schema#label</a>: 22"
      ],
      "text/plain": [
       "<IPython.core.display.HTML object>"
      ]
     },
     "metadata": {},
     "output_type": "display_data"
    },
    {
     "data": {
      "text/html": [
       "<a target=\"_blank\" href=\"http://www.w3.org/ns/prov#wasDerivedFrom\">http://www.w3.org/ns/prov#wasDerivedFrom</a>: 2"
      ],
      "text/plain": [
       "<IPython.core.display.HTML object>"
      ]
     },
     "metadata": {},
     "output_type": "display_data"
    },
    {
     "data": {
      "text/html": [
       "<a target=\"_blank\" href=\"https://data.huygens.knaw.nl/rdf/datasets/u0c0efe7fb8a246c7ebb7b0d710d7b19d5e60ce3d/vocopvarenden2/rawData/82f6a986-c589-4e0b-a7bf-c3de05496376-file/props/Achternaam\">https://data.huygens.knaw.nl/rdf/datasets/u0c0efe7fb8a246c7ebb7b0d710d7b19d5e60ce3d/vocopvarenden2/rawData/82f6a986-c589-4e0b-a7bf-c3de05496376-file/props/Achternaam</a>: 49998"
      ],
      "text/plain": [
       "<IPython.core.display.HTML object>"
      ]
     },
     "metadata": {},
     "output_type": "display_data"
    },
    {
     "data": {
      "text/html": [
       "<a target=\"_blank\" href=\"https://data.huygens.knaw.nl/rdf/datasets/u0c0efe7fb8a246c7ebb7b0d710d7b19d5e60ce3d/vocopvarenden2/rawData/82f6a986-c589-4e0b-a7bf-c3de05496376-file/props/BegunstigdeAchternaam\">https://data.huygens.knaw.nl/rdf/datasets/u0c0efe7fb8a246c7ebb7b0d710d7b19d5e60ce3d/vocopvarenden2/rawData/82f6a986-c589-4e0b-a7bf-c3de05496376-file/props/BegunstigdeAchternaam</a>: 4927"
      ],
      "text/plain": [
       "<IPython.core.display.HTML object>"
      ]
     },
     "metadata": {},
     "output_type": "display_data"
    },
    {
     "data": {
      "text/html": [
       "<a target=\"_blank\" href=\"https://data.huygens.knaw.nl/rdf/datasets/u0c0efe7fb8a246c7ebb7b0d710d7b19d5e60ce3d/vocopvarenden2/rawData/82f6a986-c589-4e0b-a7bf-c3de05496376-file/props/BegunstigdePatroniem\">https://data.huygens.knaw.nl/rdf/datasets/u0c0efe7fb8a246c7ebb7b0d710d7b19d5e60ce3d/vocopvarenden2/rawData/82f6a986-c589-4e0b-a7bf-c3de05496376-file/props/BegunstigdePatroniem</a>: 295"
      ],
      "text/plain": [
       "<IPython.core.display.HTML object>"
      ]
     },
     "metadata": {},
     "output_type": "display_data"
    },
    {
     "data": {
      "text/html": [
       "<a target=\"_blank\" href=\"https://data.huygens.knaw.nl/rdf/datasets/u0c0efe7fb8a246c7ebb7b0d710d7b19d5e60ce3d/vocopvarenden2/rawData/82f6a986-c589-4e0b-a7bf-c3de05496376-file/props/BegunstigdeRelatie\">https://data.huygens.knaw.nl/rdf/datasets/u0c0efe7fb8a246c7ebb7b0d710d7b19d5e60ce3d/vocopvarenden2/rawData/82f6a986-c589-4e0b-a7bf-c3de05496376-file/props/BegunstigdeRelatie</a>: 4901"
      ],
      "text/plain": [
       "<IPython.core.display.HTML object>"
      ]
     },
     "metadata": {},
     "output_type": "display_data"
    },
    {
     "data": {
      "text/html": [
       "<a target=\"_blank\" href=\"https://data.huygens.knaw.nl/rdf/datasets/u0c0efe7fb8a246c7ebb7b0d710d7b19d5e60ce3d/vocopvarenden2/rawData/82f6a986-c589-4e0b-a7bf-c3de05496376-file/props/BegunstigdeTussenvoegsel\">https://data.huygens.knaw.nl/rdf/datasets/u0c0efe7fb8a246c7ebb7b0d710d7b19d5e60ce3d/vocopvarenden2/rawData/82f6a986-c589-4e0b-a7bf-c3de05496376-file/props/BegunstigdeTussenvoegsel</a>: 1141"
      ],
      "text/plain": [
       "<IPython.core.display.HTML object>"
      ]
     },
     "metadata": {},
     "output_type": "display_data"
    },
    {
     "data": {
      "text/html": [
       "<a target=\"_blank\" href=\"https://data.huygens.knaw.nl/rdf/datasets/u0c0efe7fb8a246c7ebb7b0d710d7b19d5e60ce3d/vocopvarenden2/rawData/82f6a986-c589-4e0b-a7bf-c3de05496376-file/props/BegunstigdeVoornaam\">https://data.huygens.knaw.nl/rdf/datasets/u0c0efe7fb8a246c7ebb7b0d710d7b19d5e60ce3d/vocopvarenden2/rawData/82f6a986-c589-4e0b-a7bf-c3de05496376-file/props/BegunstigdeVoornaam</a>: 4932"
      ],
      "text/plain": [
       "<IPython.core.display.HTML object>"
      ]
     },
     "metadata": {},
     "output_type": "display_data"
    },
    {
     "data": {
      "text/html": [
       "<a target=\"_blank\" href=\"https://data.huygens.knaw.nl/rdf/datasets/u0c0efe7fb8a246c7ebb7b0d710d7b19d5e60ce3d/vocopvarenden2/rawData/82f6a986-c589-4e0b-a7bf-c3de05496376-file/props/DSS_ID\">https://data.huygens.knaw.nl/rdf/datasets/u0c0efe7fb8a246c7ebb7b0d710d7b19d5e60ce3d/vocopvarenden2/rawData/82f6a986-c589-4e0b-a7bf-c3de05496376-file/props/DSS_ID</a>: 49999"
      ],
      "text/plain": [
       "<IPython.core.display.HTML object>"
      ]
     },
     "metadata": {},
     "output_type": "display_data"
    },
    {
     "data": {
      "text/html": [
       "<a target=\"_blank\" href=\"https://data.huygens.knaw.nl/rdf/datasets/u0c0efe7fb8a246c7ebb7b0d710d7b19d5e60ce3d/vocopvarenden2/rawData/82f6a986-c589-4e0b-a7bf-c3de05496376-file/props/DatumIndiensttreding\">https://data.huygens.knaw.nl/rdf/datasets/u0c0efe7fb8a246c7ebb7b0d710d7b19d5e60ce3d/vocopvarenden2/rawData/82f6a986-c589-4e0b-a7bf-c3de05496376-file/props/DatumIndiensttreding</a>: 49999"
      ],
      "text/plain": [
       "<IPython.core.display.HTML object>"
      ]
     },
     "metadata": {},
     "output_type": "display_data"
    },
    {
     "data": {
      "text/html": [
       "<a target=\"_blank\" href=\"https://data.huygens.knaw.nl/rdf/datasets/u0c0efe7fb8a246c7ebb7b0d710d7b19d5e60ce3d/vocopvarenden2/rawData/82f6a986-c589-4e0b-a7bf-c3de05496376-file/props/DatumUitDienst_noZerosEDTF\">https://data.huygens.knaw.nl/rdf/datasets/u0c0efe7fb8a246c7ebb7b0d710d7b19d5e60ce3d/vocopvarenden2/rawData/82f6a986-c589-4e0b-a7bf-c3de05496376-file/props/DatumUitDienst_noZerosEDTF</a>: 49993"
      ],
      "text/plain": [
       "<IPython.core.display.HTML object>"
      ]
     },
     "metadata": {},
     "output_type": "display_data"
    },
    {
     "data": {
      "text/html": [
       "<a target=\"_blank\" href=\"https://data.huygens.knaw.nl/rdf/datasets/u0c0efe7fb8a246c7ebb7b0d710d7b19d5e60ce3d/vocopvarenden2/rawData/82f6a986-c589-4e0b-a7bf-c3de05496376-file/props/DatumUitDienst_original\">https://data.huygens.knaw.nl/rdf/datasets/u0c0efe7fb8a246c7ebb7b0d710d7b19d5e60ce3d/vocopvarenden2/rawData/82f6a986-c589-4e0b-a7bf-c3de05496376-file/props/DatumUitDienst_original</a>: 49993"
      ],
      "text/plain": [
       "<IPython.core.display.HTML object>"
      ]
     },
     "metadata": {},
     "output_type": "display_data"
    },
    {
     "data": {
      "text/html": [
       "<a target=\"_blank\" href=\"https://data.huygens.knaw.nl/rdf/datasets/u0c0efe7fb8a246c7ebb7b0d710d7b19d5e60ce3d/vocopvarenden2/rawData/82f6a986-c589-4e0b-a7bf-c3de05496376-file/props/DatumUitDienst_parseDag\">https://data.huygens.knaw.nl/rdf/datasets/u0c0efe7fb8a246c7ebb7b0d710d7b19d5e60ce3d/vocopvarenden2/rawData/82f6a986-c589-4e0b-a7bf-c3de05496376-file/props/DatumUitDienst_parseDag</a>: 30536"
      ],
      "text/plain": [
       "<IPython.core.display.HTML object>"
      ]
     },
     "metadata": {},
     "output_type": "display_data"
    },
    {
     "data": {
      "text/html": [
       "<a target=\"_blank\" href=\"https://data.huygens.knaw.nl/rdf/datasets/u0c0efe7fb8a246c7ebb7b0d710d7b19d5e60ce3d/vocopvarenden2/rawData/82f6a986-c589-4e0b-a7bf-c3de05496376-file/props/DatumUitDienst_parseJaar\">https://data.huygens.knaw.nl/rdf/datasets/u0c0efe7fb8a246c7ebb7b0d710d7b19d5e60ce3d/vocopvarenden2/rawData/82f6a986-c589-4e0b-a7bf-c3de05496376-file/props/DatumUitDienst_parseJaar</a>: 49993"
      ],
      "text/plain": [
       "<IPython.core.display.HTML object>"
      ]
     },
     "metadata": {},
     "output_type": "display_data"
    },
    {
     "data": {
      "text/html": [
       "<a target=\"_blank\" href=\"https://data.huygens.knaw.nl/rdf/datasets/u0c0efe7fb8a246c7ebb7b0d710d7b19d5e60ce3d/vocopvarenden2/rawData/82f6a986-c589-4e0b-a7bf-c3de05496376-file/props/DatumUitDienst_parseMaand\">https://data.huygens.knaw.nl/rdf/datasets/u0c0efe7fb8a246c7ebb7b0d710d7b19d5e60ce3d/vocopvarenden2/rawData/82f6a986-c589-4e0b-a7bf-c3de05496376-file/props/DatumUitDienst_parseMaand</a>: 30534"
      ],
      "text/plain": [
       "<IPython.core.display.HTML object>"
      ]
     },
     "metadata": {},
     "output_type": "display_data"
    },
    {
     "data": {
      "text/html": [
       "<a target=\"_blank\" href=\"https://data.huygens.knaw.nl/rdf/datasets/u0c0efe7fb8a246c7ebb7b0d710d7b19d5e60ce3d/vocopvarenden2/rawData/82f6a986-c589-4e0b-a7bf-c3de05496376-file/props/OmschrijvingUitDienst\">https://data.huygens.knaw.nl/rdf/datasets/u0c0efe7fb8a246c7ebb7b0d710d7b19d5e60ce3d/vocopvarenden2/rawData/82f6a986-c589-4e0b-a7bf-c3de05496376-file/props/OmschrijvingUitDienst</a>: 49999"
      ],
      "text/plain": [
       "<IPython.core.display.HTML object>"
      ]
     },
     "metadata": {},
     "output_type": "display_data"
    },
    {
     "data": {
      "text/html": [
       "<a target=\"_blank\" href=\"https://data.huygens.knaw.nl/rdf/datasets/u0c0efe7fb8a246c7ebb7b0d710d7b19d5e60ce3d/vocopvarenden2/rawData/82f6a986-c589-4e0b-a7bf-c3de05496376-file/props/Patroniem\">https://data.huygens.knaw.nl/rdf/datasets/u0c0efe7fb8a246c7ebb7b0d710d7b19d5e60ce3d/vocopvarenden2/rawData/82f6a986-c589-4e0b-a7bf-c3de05496376-file/props/Patroniem</a>: 7136"
      ],
      "text/plain": [
       "<IPython.core.display.HTML object>"
      ]
     },
     "metadata": {},
     "output_type": "display_data"
    },
    {
     "data": {
      "text/html": [
       "<a target=\"_blank\" href=\"https://data.huygens.knaw.nl/rdf/datasets/u0c0efe7fb8a246c7ebb7b0d710d7b19d5e60ce3d/vocopvarenden2/rawData/82f6a986-c589-4e0b-a7bf-c3de05496376-file/props/PlaatsHerkomst\">https://data.huygens.knaw.nl/rdf/datasets/u0c0efe7fb8a246c7ebb7b0d710d7b19d5e60ce3d/vocopvarenden2/rawData/82f6a986-c589-4e0b-a7bf-c3de05496376-file/props/PlaatsHerkomst</a>: 49944"
      ],
      "text/plain": [
       "<IPython.core.display.HTML object>"
      ]
     },
     "metadata": {},
     "output_type": "display_data"
    },
    {
     "data": {
      "text/html": [
       "<a target=\"_blank\" href=\"https://data.huygens.knaw.nl/rdf/datasets/u0c0efe7fb8a246c7ebb7b0d710d7b19d5e60ce3d/vocopvarenden2/rawData/82f6a986-c589-4e0b-a7bf-c3de05496376-file/props/Rang\">https://data.huygens.knaw.nl/rdf/datasets/u0c0efe7fb8a246c7ebb7b0d710d7b19d5e60ce3d/vocopvarenden2/rawData/82f6a986-c589-4e0b-a7bf-c3de05496376-file/props/Rang</a>: 49999"
      ],
      "text/plain": [
       "<IPython.core.display.HTML object>"
      ]
     },
     "metadata": {},
     "output_type": "display_data"
    },
    {
     "data": {
      "text/html": [
       "<a target=\"_blank\" href=\"https://data.huygens.knaw.nl/rdf/datasets/u0c0efe7fb8a246c7ebb7b0d710d7b19d5e60ce3d/vocopvarenden2/rawData/82f6a986-c589-4e0b-a7bf-c3de05496376-file/props/Tussenvoegsel\">https://data.huygens.knaw.nl/rdf/datasets/u0c0efe7fb8a246c7ebb7b0d710d7b19d5e60ce3d/vocopvarenden2/rawData/82f6a986-c589-4e0b-a7bf-c3de05496376-file/props/Tussenvoegsel</a>: 10522"
      ],
      "text/plain": [
       "<IPython.core.display.HTML object>"
      ]
     },
     "metadata": {},
     "output_type": "display_data"
    },
    {
     "data": {
      "text/html": [
       "<a target=\"_blank\" href=\"https://data.huygens.knaw.nl/rdf/datasets/u0c0efe7fb8a246c7ebb7b0d710d7b19d5e60ce3d/vocopvarenden2/rawData/82f6a986-c589-4e0b-a7bf-c3de05496376-file/props/VolledigeNaam\">https://data.huygens.knaw.nl/rdf/datasets/u0c0efe7fb8a246c7ebb7b0d710d7b19d5e60ce3d/vocopvarenden2/rawData/82f6a986-c589-4e0b-a7bf-c3de05496376-file/props/VolledigeNaam</a>: 49999"
      ],
      "text/plain": [
       "<IPython.core.display.HTML object>"
      ]
     },
     "metadata": {},
     "output_type": "display_data"
    },
    {
     "data": {
      "text/html": [
       "<a target=\"_blank\" href=\"https://data.huygens.knaw.nl/rdf/datasets/u0c0efe7fb8a246c7ebb7b0d710d7b19d5e60ce3d/vocopvarenden2/rawData/82f6a986-c589-4e0b-a7bf-c3de05496376-file/props/Voornaam\">https://data.huygens.knaw.nl/rdf/datasets/u0c0efe7fb8a246c7ebb7b0d710d7b19d5e60ce3d/vocopvarenden2/rawData/82f6a986-c589-4e0b-a7bf-c3de05496376-file/props/Voornaam</a>: 49998"
      ],
      "text/plain": [
       "<IPython.core.display.HTML object>"
      ]
     },
     "metadata": {},
     "output_type": "display_data"
    },
    {
     "data": {
      "text/html": [
       "<a target=\"_blank\" href=\"https://data.huygens.knaw.nl/rdf/datasets/u0c0efe7fb8a246c7ebb7b0d710d7b19d5e60ce3d/vocopvarenden2/rawData/82f6a986-c589-4e0b-a7bf-c3de05496376-file/props/tim_id\">https://data.huygens.knaw.nl/rdf/datasets/u0c0efe7fb8a246c7ebb7b0d710d7b19d5e60ce3d/vocopvarenden2/rawData/82f6a986-c589-4e0b-a7bf-c3de05496376-file/props/tim_id</a>: 49999"
      ],
      "text/plain": [
       "<IPython.core.display.HTML object>"
      ]
     },
     "metadata": {},
     "output_type": "display_data"
    },
    {
     "data": {
      "text/html": [
       "<h3>fingerprint</h3>"
      ],
      "text/plain": [
       "<IPython.core.display.HTML object>"
      ]
     },
     "metadata": {},
     "output_type": "display_data"
    },
    {
     "data": {
      "text/html": [
       "<a target=\"_blank\" href=\"https://repository.huygens.knaw.nl/v5/resourcesync/u0c0efe7fb8a246c7ebb7b0d710d7b19d5e60ce3d/prizepapers/dataset.nq\">https://repository.huygens.knaw.nl/v5/resourcesync/u0c0efe7fb8a246c7ebb7b0d710d7b19d5e60ce3d/prizepapers/dataset.nq</a>"
      ],
      "text/plain": [
       "<IPython.core.display.HTML object>"
      ]
     },
     "metadata": {},
     "output_type": "display_data"
    },
    {
     "name": "stdout",
     "output_type": "stream",
     "text": [
      "contexts  :            1\n",
      "statements:    3.405.684\n",
      "literals  :    2.647.496\n",
      "literal ratio:    0,78\n",
      "\n",
      "subject netlocs: 2 {'data.huygens.knaw.nl': 1892408, 'timbuctoo.huygens.knaw.nl': 1513276}\n",
      "object netlocs: 2 {'data.huygens.knaw.nl': 505471, 'timbuctoo.huygens.knaw.nl': 252717}\n",
      "\n",
      "example.org | s 0 | p 0 | o 0 | total 0\n",
      "\n",
      "predicate netlocs: 3 | {'data.huygens.knaw.nl': 1386911, 'timbuctoo.huygens.knaw.nl': 1513321, 'www.w3.org': 505452}\n",
      "predicates: 31\n",
      "http://timbuctoo.huygens.knaw.nl/properties/DeskewAngle: 126338\n",
      "http://timbuctoo.huygens.knaw.nl/properties/DocumentImageType: 126352\n",
      "http://timbuctoo.huygens.knaw.nl/properties/Height: 126352\n",
      "http://timbuctoo.huygens.knaw.nl/properties/Imageset: 126352\n",
      "http://timbuctoo.huygens.knaw.nl/properties/LanguageBest: 124197\n",
      "http://timbuctoo.huygens.knaw.nl/properties/Series: 126352\n",
      "http://timbuctoo.huygens.knaw.nl/properties/Width: 126352\n",
      "http://timbuctoo.huygens.knaw.nl/properties/remoteuri: 126352\n",
      "http://timbuctoo.huygens.knaw.nl/properties/size: 126352\n",
      "http://timbuctoo.huygens.knaw.nl/properties/tesseract4besthocrconfidence: 125560\n",
      "http://timbuctoo.huygens.knaw.nl/static/v5/vocabulary#hasCollection: 2\n",
      "http://timbuctoo.huygens.knaw.nl/static/v5/vocabulary#hasProperty: 22\n",
      "http://timbuctoo.huygens.knaw.nl/static/v5/vocabulary#mimetype: 1\n",
      "http://timbuctoo.huygens.knaw.nl/static/v5/vocabulary#next: 22\n",
      "http://timbuctoo.huygens.knaw.nl/static/v5/vocabulary#propertyId: 11\n",
      "http://timbuctoo.huygens.knaw.nl/static/v5/vocabulary#timhasrow: 252704\n"
     ]
    },
    {
     "data": {
      "text/html": [
       "<a target=\"_blank\" href=\"http://www.w3.org/1999/02/22-rdf-syntax-ns#type\">http://www.w3.org/1999/02/22-rdf-syntax-ns#type</a>: 505436"
      ],
      "text/plain": [
       "<IPython.core.display.HTML object>"
      ]
     },
     "metadata": {},
     "output_type": "display_data"
    },
    {
     "data": {
      "text/html": [
       "<a target=\"_blank\" href=\"http://www.w3.org/2000/01/rdf-schema#label\">http://www.w3.org/2000/01/rdf-schema#label</a>: 13"
      ],
      "text/plain": [
       "<IPython.core.display.HTML object>"
      ]
     },
     "metadata": {},
     "output_type": "display_data"
    },
    {
     "data": {
      "text/html": [
       "<a target=\"_blank\" href=\"http://www.w3.org/ns/prov#atTime\">http://www.w3.org/ns/prov#atTime</a>: 1"
      ],
      "text/plain": [
       "<IPython.core.display.HTML object>"
      ]
     },
     "metadata": {},
     "output_type": "display_data"
    },
    {
     "data": {
      "text/html": [
       "<a target=\"_blank\" href=\"http://www.w3.org/ns/prov#wasDerivedFrom\">http://www.w3.org/ns/prov#wasDerivedFrom</a>: 2"
      ],
      "text/plain": [
       "<IPython.core.display.HTML object>"
      ]
     },
     "metadata": {},
     "output_type": "display_data"
    },
    {
     "data": {
      "text/html": [
       "<a target=\"_blank\" href=\"https://data.huygens.knaw.nl/rdf/datasets/u0c0efe7fb8a246c7ebb7b0d710d7b19d5e60ce3d/prizepapers/rawData/0a479720-f202-41c6-ba24-1baea05f2674-prizepaperstypologyA_csv/props/deskewangle\">https://data.huygens.knaw.nl/rdf/datasets/u0c0efe7fb8a246c7ebb7b0d710d7b19d5e60ce3d/prizepapers/rawData/0a479720-f202-41c6-ba24-1baea05f2674-prizepaperstypologyA_csv/props/deskewangle</a>: 126338"
      ],
      "text/plain": [
       "<IPython.core.display.HTML object>"
      ]
     },
     "metadata": {},
     "output_type": "display_data"
    },
    {
     "data": {
      "text/html": [
       "<a target=\"_blank\" href=\"https://data.huygens.knaw.nl/rdf/datasets/u0c0efe7fb8a246c7ebb7b0d710d7b19d5e60ce3d/prizepapers/rawData/0a479720-f202-41c6-ba24-1baea05f2674-prizepaperstypologyA_csv/props/documentimagetype\">https://data.huygens.knaw.nl/rdf/datasets/u0c0efe7fb8a246c7ebb7b0d710d7b19d5e60ce3d/prizepapers/rawData/0a479720-f202-41c6-ba24-1baea05f2674-prizepaperstypologyA_csv/props/documentimagetype</a>: 126352"
      ],
      "text/plain": [
       "<IPython.core.display.HTML object>"
      ]
     },
     "metadata": {},
     "output_type": "display_data"
    },
    {
     "data": {
      "text/html": [
       "<a target=\"_blank\" href=\"https://data.huygens.knaw.nl/rdf/datasets/u0c0efe7fb8a246c7ebb7b0d710d7b19d5e60ce3d/prizepapers/rawData/0a479720-f202-41c6-ba24-1baea05f2674-prizepaperstypologyA_csv/props/height\">https://data.huygens.knaw.nl/rdf/datasets/u0c0efe7fb8a246c7ebb7b0d710d7b19d5e60ce3d/prizepapers/rawData/0a479720-f202-41c6-ba24-1baea05f2674-prizepaperstypologyA_csv/props/height</a>: 126352"
      ],
      "text/plain": [
       "<IPython.core.display.HTML object>"
      ]
     },
     "metadata": {},
     "output_type": "display_data"
    },
    {
     "data": {
      "text/html": [
       "<a target=\"_blank\" href=\"https://data.huygens.knaw.nl/rdf/datasets/u0c0efe7fb8a246c7ebb7b0d710d7b19d5e60ce3d/prizepapers/rawData/0a479720-f202-41c6-ba24-1baea05f2674-prizepaperstypologyA_csv/props/imageset\">https://data.huygens.knaw.nl/rdf/datasets/u0c0efe7fb8a246c7ebb7b0d710d7b19d5e60ce3d/prizepapers/rawData/0a479720-f202-41c6-ba24-1baea05f2674-prizepaperstypologyA_csv/props/imageset</a>: 126352"
      ],
      "text/plain": [
       "<IPython.core.display.HTML object>"
      ]
     },
     "metadata": {},
     "output_type": "display_data"
    },
    {
     "data": {
      "text/html": [
       "<a target=\"_blank\" href=\"https://data.huygens.knaw.nl/rdf/datasets/u0c0efe7fb8a246c7ebb7b0d710d7b19d5e60ce3d/prizepapers/rawData/0a479720-f202-41c6-ba24-1baea05f2674-prizepaperstypologyA_csv/props/languagebest\">https://data.huygens.knaw.nl/rdf/datasets/u0c0efe7fb8a246c7ebb7b0d710d7b19d5e60ce3d/prizepapers/rawData/0a479720-f202-41c6-ba24-1baea05f2674-prizepaperstypologyA_csv/props/languagebest</a>: 124197"
      ],
      "text/plain": [
       "<IPython.core.display.HTML object>"
      ]
     },
     "metadata": {},
     "output_type": "display_data"
    },
    {
     "data": {
      "text/html": [
       "<a target=\"_blank\" href=\"https://data.huygens.knaw.nl/rdf/datasets/u0c0efe7fb8a246c7ebb7b0d710d7b19d5e60ce3d/prizepapers/rawData/0a479720-f202-41c6-ba24-1baea05f2674-prizepaperstypologyA_csv/props/remoteuri\">https://data.huygens.knaw.nl/rdf/datasets/u0c0efe7fb8a246c7ebb7b0d710d7b19d5e60ce3d/prizepapers/rawData/0a479720-f202-41c6-ba24-1baea05f2674-prizepaperstypologyA_csv/props/remoteuri</a>: 126352"
      ],
      "text/plain": [
       "<IPython.core.display.HTML object>"
      ]
     },
     "metadata": {},
     "output_type": "display_data"
    },
    {
     "data": {
      "text/html": [
       "<a target=\"_blank\" href=\"https://data.huygens.knaw.nl/rdf/datasets/u0c0efe7fb8a246c7ebb7b0d710d7b19d5e60ce3d/prizepapers/rawData/0a479720-f202-41c6-ba24-1baea05f2674-prizepaperstypologyA_csv/props/series\">https://data.huygens.knaw.nl/rdf/datasets/u0c0efe7fb8a246c7ebb7b0d710d7b19d5e60ce3d/prizepapers/rawData/0a479720-f202-41c6-ba24-1baea05f2674-prizepaperstypologyA_csv/props/series</a>: 126352"
      ],
      "text/plain": [
       "<IPython.core.display.HTML object>"
      ]
     },
     "metadata": {},
     "output_type": "display_data"
    },
    {
     "data": {
      "text/html": [
       "<a target=\"_blank\" href=\"https://data.huygens.knaw.nl/rdf/datasets/u0c0efe7fb8a246c7ebb7b0d710d7b19d5e60ce3d/prizepapers/rawData/0a479720-f202-41c6-ba24-1baea05f2674-prizepaperstypologyA_csv/props/size\">https://data.huygens.knaw.nl/rdf/datasets/u0c0efe7fb8a246c7ebb7b0d710d7b19d5e60ce3d/prizepapers/rawData/0a479720-f202-41c6-ba24-1baea05f2674-prizepaperstypologyA_csv/props/size</a>: 126352"
      ],
      "text/plain": [
       "<IPython.core.display.HTML object>"
      ]
     },
     "metadata": {},
     "output_type": "display_data"
    },
    {
     "data": {
      "text/html": [
       "<a target=\"_blank\" href=\"https://data.huygens.knaw.nl/rdf/datasets/u0c0efe7fb8a246c7ebb7b0d710d7b19d5e60ce3d/prizepapers/rawData/0a479720-f202-41c6-ba24-1baea05f2674-prizepaperstypologyA_csv/props/tesseract4besthocrconfidence\">https://data.huygens.knaw.nl/rdf/datasets/u0c0efe7fb8a246c7ebb7b0d710d7b19d5e60ce3d/prizepapers/rawData/0a479720-f202-41c6-ba24-1baea05f2674-prizepaperstypologyA_csv/props/tesseract4besthocrconfidence</a>: 125560"
      ],
      "text/plain": [
       "<IPython.core.display.HTML object>"
      ]
     },
     "metadata": {},
     "output_type": "display_data"
    },
    {
     "data": {
      "text/html": [
       "<a target=\"_blank\" href=\"https://data.huygens.knaw.nl/rdf/datasets/u0c0efe7fb8a246c7ebb7b0d710d7b19d5e60ce3d/prizepapers/rawData/0a479720-f202-41c6-ba24-1baea05f2674-prizepaperstypologyA_csv/props/tim_id\">https://data.huygens.knaw.nl/rdf/datasets/u0c0efe7fb8a246c7ebb7b0d710d7b19d5e60ce3d/prizepapers/rawData/0a479720-f202-41c6-ba24-1baea05f2674-prizepaperstypologyA_csv/props/tim_id</a>: 126352"
      ],
      "text/plain": [
       "<IPython.core.display.HTML object>"
      ]
     },
     "metadata": {},
     "output_type": "display_data"
    },
    {
     "data": {
      "text/html": [
       "<a target=\"_blank\" href=\"https://data.huygens.knaw.nl/rdf/datasets/u0c0efe7fb8a246c7ebb7b0d710d7b19d5e60ce3d/prizepapers/rawData/0a479720-f202-41c6-ba24-1baea05f2674-prizepaperstypologyA_csv/props/width\">https://data.huygens.knaw.nl/rdf/datasets/u0c0efe7fb8a246c7ebb7b0d710d7b19d5e60ce3d/prizepapers/rawData/0a479720-f202-41c6-ba24-1baea05f2674-prizepaperstypologyA_csv/props/width</a>: 126352"
      ],
      "text/plain": [
       "<IPython.core.display.HTML object>"
      ]
     },
     "metadata": {},
     "output_type": "display_data"
    },
    {
     "data": {
      "text/html": [
       "<h3>fingerprint</h3>"
      ],
      "text/plain": [
       "<IPython.core.display.HTML object>"
      ]
     },
     "metadata": {},
     "output_type": "display_data"
    },
    {
     "data": {
      "text/html": [
       "<a target=\"_blank\" href=\"https://repository.huygens.knaw.nl/v5/resourcesync/ue85b462c027ef2b282bf87b44e9670ebb085715d/emlo_oppole/dataset.nq\">https://repository.huygens.knaw.nl/v5/resourcesync/ue85b462c027ef2b282bf87b44e9670ebb085715d/emlo_oppole/dataset.nq</a>"
      ],
      "text/plain": [
       "<IPython.core.display.HTML object>"
      ]
     },
     "metadata": {},
     "output_type": "display_data"
    },
    {
     "name": "stdout",
     "output_type": "stream",
     "text": [
      "contexts  :            1\n",
      "statements:        1.568\n",
      "literals  :          483\n",
      "literal ratio:    0,31\n",
      "\n",
      "subject netlocs: 18 {'emplaces.data.example.org': 385, '': 771, 'emplaces.namespace.example.org': 218, 'en.wikipedia.org': 5, 'www.geonames.org': 93, 'www.w3.org': 40, 'davidrumsey.georeferencer.com': 5, 'www.dokumentyslaska.pl': 6, 'sws.geonames.org': 28, 'ru.wikipedia.org': 3, 'www.herder-institut.de': 1, 'purl.org': 1, 'data.huygens.knaw.nl': 1, 'ome-lexikon.uni-oldenburg.de': 1, 'dolny-slask.org.pl': 1, 'xmlns.com': 3, 'dbpedia.org': 5, 'retromap.ru': 1}\n",
      "object netlocs: 18 {'': 557, 'emplaces.namespace.example.org': 198, 'sws.geonames.org': 28, 'emplaces.data.example.org': 162, 'www.w3.org': 40, 'www.geonames.org': 67, 'www.dokumentyslaska.pl': 6, 'davidrumsey.georeferencer.com': 5, 'dbpedia.org': 5, 'en.wikipedia.org': 5, 'xmlns.com': 3, 'ru.wikipedia.org': 3, 'ome-lexikon.uni-oldenburg.de': 1, 'dolny-slask.org.pl': 1, 'data.huygens.knaw.nl': 1, 'purl.org': 1, 'retromap.ru': 1, 'www.herder-institut.de': 1}\n",
      "\n",
      "example.org | s 0 | p 0 | o 0 | total 0\n",
      "\n",
      "predicate netlocs: 5 | {'www.w3.org': 670, 'emplaces.namespace.example.org': 883, 'purl.org': 9, 'www.geonames.org': 1, 'xmlns.com': 5}\n",
      "predicates: 58\n",
      "http://emplaces.namespace.example.org/alternateName: 198\n",
      "http://emplaces.namespace.example.org/alternateURI: 10\n",
      "http://emplaces.namespace.example.org/canonicalURI: 5\n",
      "http://emplaces.namespace.example.org/competence: 44\n",
      "http://emplaces.namespace.example.org/coreDataRef: 10\n",
      "http://emplaces.namespace.example.org/corePlaceType: 10\n",
      "http://emplaces.namespace.example.org/coreProperty: 8\n",
      "http://emplaces.namespace.example.org/editorialNote: 1\n",
      "http://emplaces.namespace.example.org/fromType: 6\n",
      "http://emplaces.namespace.example.org/hasAnnotation: 46\n",
      "http://emplaces.namespace.example.org/hasRelation: 26\n",
      "http://emplaces.namespace.example.org/language: 10\n",
      "http://emplaces.namespace.example.org/link: 94\n",
      "http://emplaces.namespace.example.org/location: 10\n",
      "http://emplaces.namespace.example.org/name: 10\n",
      "http://emplaces.namespace.example.org/placeCategory: 20\n",
      "http://emplaces.namespace.example.org/placeType: 10\n",
      "http://emplaces.namespace.example.org/preferredName: 5\n",
      "http://emplaces.namespace.example.org/reference: 2\n",
      "http://emplaces.namespace.example.org/relatedResource: 12\n",
      "http://emplaces.namespace.example.org/relationTo: 26\n",
      "http://emplaces.namespace.example.org/relationType: 26\n",
      "http://emplaces.namespace.example.org/source: 66\n",
      "http://emplaces.namespace.example.org/temporal/earliestEnd:: 1\n",
      "http://emplaces.namespace.example.org/temporal/end: 29\n",
      "http://emplaces.namespace.example.org/temporal/latestStart:: 1\n",
      "http://emplaces.namespace.example.org/temporal/start: 31\n",
      "http://emplaces.namespace.example.org/temporal/timespan: 66\n",
      "http://emplaces.namespace.example.org/toType: 6\n",
      "http://emplaces.namespace.example.org/when: 84\n",
      "http://emplaces.namespace.example.org/where: 10\n"
     ]
    },
    {
     "data": {
      "text/html": [
       "<a target=\"_blank\" href=\"http://purl.org/dc/terms/date\">http://purl.org/dc/terms/date</a>: 1"
      ],
      "text/plain": [
       "<IPython.core.display.HTML object>"
      ]
     },
     "metadata": {},
     "output_type": "display_data"
    },
    {
     "data": {
      "text/html": [
       "<a target=\"_blank\" href=\"http://purl.org/dc/terms/publisher\">http://purl.org/dc/terms/publisher</a>: 2"
      ],
      "text/plain": [
       "<IPython.core.display.HTML object>"
      ]
     },
     "metadata": {},
     "output_type": "display_data"
    },
    {
     "data": {
      "text/html": [
       "<a target=\"_blank\" href=\"http://purl.org/dc/terms/source\">http://purl.org/dc/terms/source</a>: 1"
      ],
      "text/plain": [
       "<IPython.core.display.HTML object>"
      ]
     },
     "metadata": {},
     "output_type": "display_data"
    },
    {
     "data": {
      "text/html": [
       "<a target=\"_blank\" href=\"http://purl.org/dc/terms/title\">http://purl.org/dc/terms/title</a>: 1"
      ],
      "text/plain": [
       "<IPython.core.display.HTML object>"
      ]
     },
     "metadata": {},
     "output_type": "display_data"
    },
    {
     "data": {
      "text/html": [
       "<a target=\"_blank\" href=\"http://purl.org/ontology/bibo/authorList\">http://purl.org/ontology/bibo/authorList</a>: 2"
      ],
      "text/plain": [
       "<IPython.core.display.HTML object>"
      ]
     },
     "metadata": {},
     "output_type": "display_data"
    },
    {
     "data": {
      "text/html": [
       "<a target=\"_blank\" href=\"http://purl.org/ontology/bibo/isbn10\">http://purl.org/ontology/bibo/isbn10</a>: 1"
      ],
      "text/plain": [
       "<IPython.core.display.HTML object>"
      ]
     },
     "metadata": {},
     "output_type": "display_data"
    },
    {
     "data": {
      "text/html": [
       "<a target=\"_blank\" href=\"http://purl.org/ontology/bibo/isbn13\">http://purl.org/ontology/bibo/isbn13</a>: 1"
      ],
      "text/plain": [
       "<IPython.core.display.HTML object>"
      ]
     },
     "metadata": {},
     "output_type": "display_data"
    },
    {
     "data": {
      "text/html": [
       "<a target=\"_blank\" href=\"http://www.geonames.org/ontology#countryCode\">http://www.geonames.org/ontology#countryCode</a>: 1"
      ],
      "text/plain": [
       "<IPython.core.display.HTML object>"
      ]
     },
     "metadata": {},
     "output_type": "display_data"
    },
    {
     "data": {
      "text/html": [
       "<a target=\"_blank\" href=\"http://www.w3.org/1999/02/22-rdf-syntax-ns#first\">http://www.w3.org/1999/02/22-rdf-syntax-ns#first</a>: 4"
      ],
      "text/plain": [
       "<IPython.core.display.HTML object>"
      ]
     },
     "metadata": {},
     "output_type": "display_data"
    },
    {
     "data": {
      "text/html": [
       "<a target=\"_blank\" href=\"http://www.w3.org/1999/02/22-rdf-syntax-ns#rest\">http://www.w3.org/1999/02/22-rdf-syntax-ns#rest</a>: 4"
      ],
      "text/plain": [
       "<IPython.core.display.HTML object>"
      ]
     },
     "metadata": {},
     "output_type": "display_data"
    },
    {
     "data": {
      "text/html": [
       "<a target=\"_blank\" href=\"http://www.w3.org/1999/02/22-rdf-syntax-ns#type\">http://www.w3.org/1999/02/22-rdf-syntax-ns#type</a>: 272"
      ],
      "text/plain": [
       "<IPython.core.display.HTML object>"
      ]
     },
     "metadata": {},
     "output_type": "display_data"
    },
    {
     "data": {
      "text/html": [
       "<a target=\"_blank\" href=\"http://www.w3.org/2000/01/rdf-schema#comment\">http://www.w3.org/2000/01/rdf-schema#comment</a>: 55"
      ],
      "text/plain": [
       "<IPython.core.display.HTML object>"
      ]
     },
     "metadata": {},
     "output_type": "display_data"
    },
    {
     "data": {
      "text/html": [
       "<a target=\"_blank\" href=\"http://www.w3.org/2000/01/rdf-schema#isDefinedBy\">http://www.w3.org/2000/01/rdf-schema#isDefinedBy</a>: 8"
      ],
      "text/plain": [
       "<IPython.core.display.HTML object>"
      ]
     },
     "metadata": {},
     "output_type": "display_data"
    },
    {
     "data": {
      "text/html": [
       "<a target=\"_blank\" href=\"http://www.w3.org/2000/01/rdf-schema#label\">http://www.w3.org/2000/01/rdf-schema#label</a>: 121"
      ],
      "text/plain": [
       "<IPython.core.display.HTML object>"
      ]
     },
     "metadata": {},
     "output_type": "display_data"
    },
    {
     "data": {
      "text/html": [
       "<a target=\"_blank\" href=\"http://www.w3.org/2000/01/rdf-schema#range\">http://www.w3.org/2000/01/rdf-schema#range</a>: 2"
      ],
      "text/plain": [
       "<IPython.core.display.HTML object>"
      ]
     },
     "metadata": {},
     "output_type": "display_data"
    },
    {
     "data": {
      "text/html": [
       "<a target=\"_blank\" href=\"http://www.w3.org/2000/01/rdf-schema#seeAlso\">http://www.w3.org/2000/01/rdf-schema#seeAlso</a>: 26"
      ],
      "text/plain": [
       "<IPython.core.display.HTML object>"
      ]
     },
     "metadata": {},
     "output_type": "display_data"
    },
    {
     "data": {
      "text/html": [
       "<a target=\"_blank\" href=\"http://www.w3.org/2000/01/rdf-schema#subPropertyOf\">http://www.w3.org/2000/01/rdf-schema#subPropertyOf</a>: 4"
      ],
      "text/plain": [
       "<IPython.core.display.HTML object>"
      ]
     },
     "metadata": {},
     "output_type": "display_data"
    },
    {
     "data": {
      "text/html": [
       "<a target=\"_blank\" href=\"http://www.w3.org/2003/01/geo/wgs84_pos#lat\">http://www.w3.org/2003/01/geo/wgs84_pos#lat</a>: 5"
      ],
      "text/plain": [
       "<IPython.core.display.HTML object>"
      ]
     },
     "metadata": {},
     "output_type": "display_data"
    },
    {
     "data": {
      "text/html": [
       "<a target=\"_blank\" href=\"http://www.w3.org/2003/01/geo/wgs84_pos#long\">http://www.w3.org/2003/01/geo/wgs84_pos#long</a>: 5"
      ],
      "text/plain": [
       "<IPython.core.display.HTML object>"
      ]
     },
     "metadata": {},
     "output_type": "display_data"
    },
    {
     "data": {
      "text/html": [
       "<a target=\"_blank\" href=\"http://www.w3.org/2004/02/skos/core#broader\">http://www.w3.org/2004/02/skos/core#broader</a>: 4"
      ],
      "text/plain": [
       "<IPython.core.display.HTML object>"
      ]
     },
     "metadata": {},
     "output_type": "display_data"
    },
    {
     "data": {
      "text/html": [
       "<a target=\"_blank\" href=\"http://www.w3.org/2004/02/skos/core#narrower\">http://www.w3.org/2004/02/skos/core#narrower</a>: 22"
      ],
      "text/plain": [
       "<IPython.core.display.HTML object>"
      ]
     },
     "metadata": {},
     "output_type": "display_data"
    },
    {
     "data": {
      "text/html": [
       "<a target=\"_blank\" href=\"http://www.w3.org/ns/oa#hasBody\">http://www.w3.org/ns/oa#hasBody</a>: 46"
      ],
      "text/plain": [
       "<IPython.core.display.HTML object>"
      ]
     },
     "metadata": {},
     "output_type": "display_data"
    },
    {
     "data": {
      "text/html": [
       "<a target=\"_blank\" href=\"http://www.w3.org/ns/oa#hasTarget\">http://www.w3.org/ns/oa#hasTarget</a>: 46"
      ],
      "text/plain": [
       "<IPython.core.display.HTML object>"
      ]
     },
     "metadata": {},
     "output_type": "display_data"
    },
    {
     "data": {
      "text/html": [
       "<a target=\"_blank\" href=\"http://www.w3.org/ns/oa#motivatedBy\">http://www.w3.org/ns/oa#motivatedBy</a>: 46"
      ],
      "text/plain": [
       "<IPython.core.display.HTML object>"
      ]
     },
     "metadata": {},
     "output_type": "display_data"
    },
    {
     "data": {
      "text/html": [
       "<a target=\"_blank\" href=\"http://xmlns.com/foaf/0.1/firstName\">http://xmlns.com/foaf/0.1/firstName</a>: 2"
      ],
      "text/plain": [
       "<IPython.core.display.HTML object>"
      ]
     },
     "metadata": {},
     "output_type": "display_data"
    },
    {
     "data": {
      "text/html": [
       "<a target=\"_blank\" href=\"http://xmlns.com/foaf/0.1/name\">http://xmlns.com/foaf/0.1/name</a>: 1"
      ],
      "text/plain": [
       "<IPython.core.display.HTML object>"
      ]
     },
     "metadata": {},
     "output_type": "display_data"
    },
    {
     "data": {
      "text/html": [
       "<a target=\"_blank\" href=\"http://xmlns.com/foaf/0.1/surname\">http://xmlns.com/foaf/0.1/surname</a>: 2"
      ],
      "text/plain": [
       "<IPython.core.display.HTML object>"
      ]
     },
     "metadata": {},
     "output_type": "display_data"
    },
    {
     "data": {
      "text/html": [
       "<h3>fingerprint</h3>"
      ],
      "text/plain": [
       "<IPython.core.display.HTML object>"
      ]
     },
     "metadata": {},
     "output_type": "display_data"
    },
    {
     "data": {
      "text/html": [
       "<a target=\"_blank\" href=\"https://repository.huygens.knaw.nl/v5/resourcesync/ue85b462c027ef2b282bf87b44e9670ebb085715d/emlo_oppole20180627/dataset.nq\">https://repository.huygens.knaw.nl/v5/resourcesync/ue85b462c027ef2b282bf87b44e9670ebb085715d/emlo_oppole20180627/dataset.nq</a>"
      ],
      "text/plain": [
       "<IPython.core.display.HTML object>"
      ]
     },
     "metadata": {},
     "output_type": "display_data"
    },
    {
     "name": "stdout",
     "output_type": "stream",
     "text": [
      "contexts  :            1\n",
      "statements:        1.608\n",
      "literals  :          493\n",
      "literal ratio:    0,31\n",
      "\n",
      "subject netlocs: 18 {'emplaces.data.example.org': 398, '': 771, 'emplaces.namespace.example.org': 244, 'www.geonames.org': 93, 'www.w3.org': 40, 'en.wikipedia.org': 5, 'dbpedia.org': 5, 'ru.wikipedia.org': 3, 'sws.geonames.org': 29, 'xmlns.com': 3, 'davidrumsey.georeferencer.com': 5, 'data.huygens.knaw.nl': 1, 'purl.org': 1, 'ome-lexikon.uni-oldenburg.de': 1, 'www.dokumentyslaska.pl': 6, 'dolny-slask.org.pl': 1, 'retromap.ru': 1, 'www.herder-institut.de': 1}\n",
      "object netlocs: 18 {'www.w3.org': 40, '': 567, 'emplaces.namespace.example.org': 216, 'www.geonames.org': 67, 'sws.geonames.org': 29, 'emplaces.data.example.org': 163, 'xmlns.com': 3, 'dolny-slask.org.pl': 1, 'www.dokumentyslaska.pl': 6, 'purl.org': 1, 'en.wikipedia.org': 5, 'dbpedia.org': 5, 'ru.wikipedia.org': 3, 'davidrumsey.georeferencer.com': 5, 'data.huygens.knaw.nl': 1, 'ome-lexikon.uni-oldenburg.de': 1, 'www.herder-institut.de': 1, 'retromap.ru': 1}\n",
      "\n",
      "example.org | s 0 | p 0 | o 0 | total 0\n",
      "\n",
      "predicate netlocs: 5 | {'emplaces.namespace.example.org': 904, 'www.w3.org': 689, 'purl.org': 9, 'xmlns.com': 5, 'www.geonames.org': 1}\n",
      "predicates: 60\n",
      "http://emplaces.namespace.example.org/alternateName: 198\n",
      "http://emplaces.namespace.example.org/alternateURI: 10\n",
      "http://emplaces.namespace.example.org/canonicalURI: 5\n",
      "http://emplaces.namespace.example.org/competence: 44\n",
      "http://emplaces.namespace.example.org/coreDataRef: 10\n",
      "http://emplaces.namespace.example.org/corePlaceType: 10\n",
      "http://emplaces.namespace.example.org/coreProperty: 8\n",
      "http://emplaces.namespace.example.org/displayName: 8\n",
      "http://emplaces.namespace.example.org/earliestEnd:: 1\n",
      "http://emplaces.namespace.example.org/editorialNote: 1\n",
      "http://emplaces.namespace.example.org/end: 29\n",
      "http://emplaces.namespace.example.org/fromType: 6\n",
      "http://emplaces.namespace.example.org/hasAnnotation: 46\n",
      "http://emplaces.namespace.example.org/hasRelation: 26\n",
      "http://emplaces.namespace.example.org/language: 20\n",
      "http://emplaces.namespace.example.org/latestStart:: 1\n",
      "http://emplaces.namespace.example.org/link: 94\n",
      "http://emplaces.namespace.example.org/location: 10\n",
      "http://emplaces.namespace.example.org/name: 10\n",
      "http://emplaces.namespace.example.org/placeCategory: 20\n",
      "http://emplaces.namespace.example.org/placeType: 10\n",
      "http://emplaces.namespace.example.org/preferredName: 5\n",
      "http://emplaces.namespace.example.org/reference: 2\n",
      "http://emplaces.namespace.example.org/relatedResource: 12\n",
      "http://emplaces.namespace.example.org/relationTo: 26\n",
      "http://emplaces.namespace.example.org/relationType: 26\n",
      "http://emplaces.namespace.example.org/source: 66\n",
      "http://emplaces.namespace.example.org/start: 31\n",
      "http://emplaces.namespace.example.org/tag: 3\n",
      "http://emplaces.namespace.example.org/timespan: 66\n",
      "http://emplaces.namespace.example.org/toType: 6\n",
      "http://emplaces.namespace.example.org/when: 84\n",
      "http://emplaces.namespace.example.org/where: 10\n"
     ]
    },
    {
     "data": {
      "text/html": [
       "<a target=\"_blank\" href=\"http://purl.org/dc/terms/date\">http://purl.org/dc/terms/date</a>: 1"
      ],
      "text/plain": [
       "<IPython.core.display.HTML object>"
      ]
     },
     "metadata": {},
     "output_type": "display_data"
    },
    {
     "data": {
      "text/html": [
       "<a target=\"_blank\" href=\"http://purl.org/dc/terms/publisher\">http://purl.org/dc/terms/publisher</a>: 2"
      ],
      "text/plain": [
       "<IPython.core.display.HTML object>"
      ]
     },
     "metadata": {},
     "output_type": "display_data"
    },
    {
     "data": {
      "text/html": [
       "<a target=\"_blank\" href=\"http://purl.org/dc/terms/source\">http://purl.org/dc/terms/source</a>: 1"
      ],
      "text/plain": [
       "<IPython.core.display.HTML object>"
      ]
     },
     "metadata": {},
     "output_type": "display_data"
    },
    {
     "data": {
      "text/html": [
       "<a target=\"_blank\" href=\"http://purl.org/dc/terms/title\">http://purl.org/dc/terms/title</a>: 1"
      ],
      "text/plain": [
       "<IPython.core.display.HTML object>"
      ]
     },
     "metadata": {},
     "output_type": "display_data"
    },
    {
     "data": {
      "text/html": [
       "<a target=\"_blank\" href=\"http://purl.org/ontology/bibo/authorList\">http://purl.org/ontology/bibo/authorList</a>: 2"
      ],
      "text/plain": [
       "<IPython.core.display.HTML object>"
      ]
     },
     "metadata": {},
     "output_type": "display_data"
    },
    {
     "data": {
      "text/html": [
       "<a target=\"_blank\" href=\"http://purl.org/ontology/bibo/isbn10\">http://purl.org/ontology/bibo/isbn10</a>: 1"
      ],
      "text/plain": [
       "<IPython.core.display.HTML object>"
      ]
     },
     "metadata": {},
     "output_type": "display_data"
    },
    {
     "data": {
      "text/html": [
       "<a target=\"_blank\" href=\"http://purl.org/ontology/bibo/isbn13\">http://purl.org/ontology/bibo/isbn13</a>: 1"
      ],
      "text/plain": [
       "<IPython.core.display.HTML object>"
      ]
     },
     "metadata": {},
     "output_type": "display_data"
    },
    {
     "data": {
      "text/html": [
       "<a target=\"_blank\" href=\"http://www.geonames.org/ontology#countryCode\">http://www.geonames.org/ontology#countryCode</a>: 1"
      ],
      "text/plain": [
       "<IPython.core.display.HTML object>"
      ]
     },
     "metadata": {},
     "output_type": "display_data"
    },
    {
     "data": {
      "text/html": [
       "<a target=\"_blank\" href=\"http://www.w3.org/1999/02/22-rdf-syntax-ns#first\">http://www.w3.org/1999/02/22-rdf-syntax-ns#first</a>: 4"
      ],
      "text/plain": [
       "<IPython.core.display.HTML object>"
      ]
     },
     "metadata": {},
     "output_type": "display_data"
    },
    {
     "data": {
      "text/html": [
       "<a target=\"_blank\" href=\"http://www.w3.org/1999/02/22-rdf-syntax-ns#rest\">http://www.w3.org/1999/02/22-rdf-syntax-ns#rest</a>: 4"
      ],
      "text/plain": [
       "<IPython.core.display.HTML object>"
      ]
     },
     "metadata": {},
     "output_type": "display_data"
    },
    {
     "data": {
      "text/html": [
       "<a target=\"_blank\" href=\"http://www.w3.org/1999/02/22-rdf-syntax-ns#type\">http://www.w3.org/1999/02/22-rdf-syntax-ns#type</a>: 280"
      ],
      "text/plain": [
       "<IPython.core.display.HTML object>"
      ]
     },
     "metadata": {},
     "output_type": "display_data"
    },
    {
     "data": {
      "text/html": [
       "<a target=\"_blank\" href=\"http://www.w3.org/2000/01/rdf-schema#comment\">http://www.w3.org/2000/01/rdf-schema#comment</a>: 56"
      ],
      "text/plain": [
       "<IPython.core.display.HTML object>"
      ]
     },
     "metadata": {},
     "output_type": "display_data"
    },
    {
     "data": {
      "text/html": [
       "<a target=\"_blank\" href=\"http://www.w3.org/2000/01/rdf-schema#isDefinedBy\">http://www.w3.org/2000/01/rdf-schema#isDefinedBy</a>: 10"
      ],
      "text/plain": [
       "<IPython.core.display.HTML object>"
      ]
     },
     "metadata": {},
     "output_type": "display_data"
    },
    {
     "data": {
      "text/html": [
       "<a target=\"_blank\" href=\"http://www.w3.org/2000/01/rdf-schema#label\">http://www.w3.org/2000/01/rdf-schema#label</a>: 129"
      ],
      "text/plain": [
       "<IPython.core.display.HTML object>"
      ]
     },
     "metadata": {},
     "output_type": "display_data"
    },
    {
     "data": {
      "text/html": [
       "<a target=\"_blank\" href=\"http://www.w3.org/2000/01/rdf-schema#range\">http://www.w3.org/2000/01/rdf-schema#range</a>: 2"
      ],
      "text/plain": [
       "<IPython.core.display.HTML object>"
      ]
     },
     "metadata": {},
     "output_type": "display_data"
    },
    {
     "data": {
      "text/html": [
       "<a target=\"_blank\" href=\"http://www.w3.org/2000/01/rdf-schema#seeAlso\">http://www.w3.org/2000/01/rdf-schema#seeAlso</a>: 26"
      ],
      "text/plain": [
       "<IPython.core.display.HTML object>"
      ]
     },
     "metadata": {},
     "output_type": "display_data"
    },
    {
     "data": {
      "text/html": [
       "<a target=\"_blank\" href=\"http://www.w3.org/2000/01/rdf-schema#subPropertyOf\">http://www.w3.org/2000/01/rdf-schema#subPropertyOf</a>: 4"
      ],
      "text/plain": [
       "<IPython.core.display.HTML object>"
      ]
     },
     "metadata": {},
     "output_type": "display_data"
    },
    {
     "data": {
      "text/html": [
       "<a target=\"_blank\" href=\"http://www.w3.org/2003/01/geo/wgs84_pos#lat\">http://www.w3.org/2003/01/geo/wgs84_pos#lat</a>: 5"
      ],
      "text/plain": [
       "<IPython.core.display.HTML object>"
      ]
     },
     "metadata": {},
     "output_type": "display_data"
    },
    {
     "data": {
      "text/html": [
       "<a target=\"_blank\" href=\"http://www.w3.org/2003/01/geo/wgs84_pos#long\">http://www.w3.org/2003/01/geo/wgs84_pos#long</a>: 5"
      ],
      "text/plain": [
       "<IPython.core.display.HTML object>"
      ]
     },
     "metadata": {},
     "output_type": "display_data"
    },
    {
     "data": {
      "text/html": [
       "<a target=\"_blank\" href=\"http://www.w3.org/2004/02/skos/core#broader\">http://www.w3.org/2004/02/skos/core#broader</a>: 4"
      ],
      "text/plain": [
       "<IPython.core.display.HTML object>"
      ]
     },
     "metadata": {},
     "output_type": "display_data"
    },
    {
     "data": {
      "text/html": [
       "<a target=\"_blank\" href=\"http://www.w3.org/2004/02/skos/core#narrower\">http://www.w3.org/2004/02/skos/core#narrower</a>: 22"
      ],
      "text/plain": [
       "<IPython.core.display.HTML object>"
      ]
     },
     "metadata": {},
     "output_type": "display_data"
    },
    {
     "data": {
      "text/html": [
       "<a target=\"_blank\" href=\"http://www.w3.org/ns/oa#hasBody\">http://www.w3.org/ns/oa#hasBody</a>: 46"
      ],
      "text/plain": [
       "<IPython.core.display.HTML object>"
      ]
     },
     "metadata": {},
     "output_type": "display_data"
    },
    {
     "data": {
      "text/html": [
       "<a target=\"_blank\" href=\"http://www.w3.org/ns/oa#hasTarget\">http://www.w3.org/ns/oa#hasTarget</a>: 46"
      ],
      "text/plain": [
       "<IPython.core.display.HTML object>"
      ]
     },
     "metadata": {},
     "output_type": "display_data"
    },
    {
     "data": {
      "text/html": [
       "<a target=\"_blank\" href=\"http://www.w3.org/ns/oa#motivatedBy\">http://www.w3.org/ns/oa#motivatedBy</a>: 46"
      ],
      "text/plain": [
       "<IPython.core.display.HTML object>"
      ]
     },
     "metadata": {},
     "output_type": "display_data"
    },
    {
     "data": {
      "text/html": [
       "<a target=\"_blank\" href=\"http://xmlns.com/foaf/0.1/firstName\">http://xmlns.com/foaf/0.1/firstName</a>: 2"
      ],
      "text/plain": [
       "<IPython.core.display.HTML object>"
      ]
     },
     "metadata": {},
     "output_type": "display_data"
    },
    {
     "data": {
      "text/html": [
       "<a target=\"_blank\" href=\"http://xmlns.com/foaf/0.1/name\">http://xmlns.com/foaf/0.1/name</a>: 1"
      ],
      "text/plain": [
       "<IPython.core.display.HTML object>"
      ]
     },
     "metadata": {},
     "output_type": "display_data"
    },
    {
     "data": {
      "text/html": [
       "<a target=\"_blank\" href=\"http://xmlns.com/foaf/0.1/surname\">http://xmlns.com/foaf/0.1/surname</a>: 2"
      ],
      "text/plain": [
       "<IPython.core.display.HTML object>"
      ]
     },
     "metadata": {},
     "output_type": "display_data"
    },
    {
     "data": {
      "text/html": [
       "<h3>fingerprint</h3>"
      ],
      "text/plain": [
       "<IPython.core.display.HTML object>"
      ]
     },
     "metadata": {},
     "output_type": "display_data"
    },
    {
     "data": {
      "text/html": [
       "<a target=\"_blank\" href=\"https://repository.huygens.knaw.nl/v5/resourcesync/ue85b462c027ef2b282bf87b44e9670ebb085715d/demo/dataset.nq\">https://repository.huygens.knaw.nl/v5/resourcesync/ue85b462c027ef2b282bf87b44e9670ebb085715d/demo/dataset.nq</a>"
      ],
      "text/plain": [
       "<IPython.core.display.HTML object>"
      ]
     },
     "metadata": {},
     "output_type": "display_data"
    },
    {
     "name": "stdout",
     "output_type": "stream",
     "text": [
      "contexts  :            1\n",
      "statements:      310.827\n",
      "literals  :       77.523\n",
      "literal ratio:    0,25\n",
      "\n",
      "subject netlocs: 6 {'example.org': 294892, 'www.dwc.knaw.nl': 7823, 'sws.geonames.org': 4206, 'viaf.org': 2137, 'timbuctoo.huygens.knaw.nl': 1768, 'rkd.nl': 1}\n",
      "object netlocs: 6 {'example.org': 217369, 'www.dwc.knaw.nl': 7823, 'sws.geonames.org': 4206, 'viaf.org': 2137, 'timbuctoo.huygens.knaw.nl': 1768, 'rkd.nl': 1}\n",
      "\n",
      "example.org | s 294892 | p 149351 | o 217369 | total 661612\n",
      "\n",
      "predicate netlocs: 5 | {'www.w3.org': 100740, 'example.org': 149351, 'schema.org': 53802, 'timbuctoo.huygens.knaw.nl': 4826, 'www.geonames.org': 2108}\n",
      "predicates: 46\n",
      "http://example.org/datasets/u33707283d426f900d4d33707283d426f900d4d0d/bia/predicate/Country: 2108\n",
      "http://example.org/datasets/u33707283d426f900d4d33707283d426f900d4d0d/bia/predicate/aboutPerson: 13130\n",
      "http://example.org/datasets/u33707283d426f900d4d33707283d426f900d4d0d/bia/predicate/atInstitute: 2422\n",
      "http://example.org/datasets/u33707283d426f900d4d33707283d426f900d4d0d/bia/predicate/atPlace: 4608\n",
      "http://example.org/datasets/u33707283d426f900d4d33707283d426f900d4d0d/bia/predicate/birthDateRemark: 6\n",
      "http://example.org/datasets/u33707283d426f900d4d33707283d426f900d4d0d/bia/predicate/carriedOutBy: 6416\n",
      "http://example.org/datasets/u33707283d426f900d4d33707283d426f900d4d0d/bia/predicate/dataSetName: 3905\n",
      "http://example.org/datasets/u33707283d426f900d4d33707283d426f900d4d0d/bia/predicate/deathDateRemark: 1\n",
      "http://example.org/datasets/u33707283d426f900d4d33707283d426f900d4d0d/bia/predicate/dissertationTitle: 182\n",
      "http://example.org/datasets/u33707283d426f900d4d33707283d426f900d4d0d/bia/predicate/hasFieldOfInterest: 9352\n",
      "http://example.org/datasets/u33707283d426f900d4d33707283d426f900d4d0d/bia/predicate/hasInstitute: 7562\n",
      "http://example.org/datasets/u33707283d426f900d4d33707283d426f900d4d0d/bia/predicate/hasLocation: 10648\n",
      "http://example.org/datasets/u33707283d426f900d4d33707283d426f900d4d0d/bia/predicate/hasMember: 7566\n",
      "http://example.org/datasets/u33707283d426f900d4d33707283d426f900d4d0d/bia/predicate/hasProvenanceType: 13130\n",
      "http://example.org/datasets/u33707283d426f900d4d33707283d426f900d4d0d/bia/predicate/hasPublication: 9634\n",
      "http://example.org/datasets/u33707283d426f900d4d33707283d426f900d4d0d/bia/predicate/hasResident: 7882\n",
      "http://example.org/datasets/u33707283d426f900d4d33707283d426f900d4d0d/bia/predicate/hasStudent: 1236\n",
      "http://example.org/datasets/u33707283d426f900d4d33707283d426f900d4d0d/bia/predicate/hasWriter: 9634\n",
      "http://example.org/datasets/u33707283d426f900d4d33707283d426f900d4d0d/bia/predicate/highestDegree: 356\n",
      "http://example.org/datasets/u33707283d426f900d4d33707283d426f900d4d0d/bia/predicate/isAbout: 7642\n",
      "http://example.org/datasets/u33707283d426f900d4d33707283d426f900d4d0d/bia/predicate/obituaryUrl: 2782\n",
      "http://example.org/datasets/u33707283d426f900d4d33707283d426f900d4d0d/bia/predicate/originDb: 2295\n",
      "http://example.org/datasets/u33707283d426f900d4d33707283d426f900d4d0d/bia/predicate/pageNumbers: 4542\n",
      "http://example.org/datasets/u33707283d426f900d4d33707283d426f900d4d0d/bia/predicate/portraitUrl: 3782\n",
      "http://example.org/datasets/u33707283d426f900d4d33707283d426f900d4d0d/bia/predicate/reference: 4542\n",
      "http://example.org/datasets/u33707283d426f900d4d33707283d426f900d4d0d/bia/predicate/type: 362\n",
      "http://example.org/datasets/u33707283d426f900d4d33707283d426f900d4d0d/bia/predicate/url: 9084\n",
      "http://example.org/datasets/u33707283d426f900d4d33707283d426f900d4d0d/bia/predicate/year: 4542\n"
     ]
    },
    {
     "data": {
      "text/html": [
       "<a target=\"_blank\" href=\"http://schema.org/birthDate\">http://schema.org/birthDate</a>: 2928"
      ],
      "text/plain": [
       "<IPython.core.display.HTML object>"
      ]
     },
     "metadata": {},
     "output_type": "display_data"
    },
    {
     "data": {
      "text/html": [
       "<a target=\"_blank\" href=\"http://schema.org/birthPlace\">http://schema.org/birthPlace</a>: 5144"
      ],
      "text/plain": [
       "<IPython.core.display.HTML object>"
      ]
     },
     "metadata": {},
     "output_type": "display_data"
    },
    {
     "data": {
      "text/html": [
       "<a target=\"_blank\" href=\"http://schema.org/deathDate\">http://schema.org/deathDate</a>: 2979"
      ],
      "text/plain": [
       "<IPython.core.display.HTML object>"
      ]
     },
     "metadata": {},
     "output_type": "display_data"
    },
    {
     "data": {
      "text/html": [
       "<a target=\"_blank\" href=\"http://schema.org/deathPlace\">http://schema.org/deathPlace</a>: 5118"
      ],
      "text/plain": [
       "<IPython.core.display.HTML object>"
      ]
     },
     "metadata": {},
     "output_type": "display_data"
    },
    {
     "data": {
      "text/html": [
       "<a target=\"_blank\" href=\"http://schema.org/description\">http://schema.org/description</a>: 16180"
      ],
      "text/plain": [
       "<IPython.core.display.HTML object>"
      ]
     },
     "metadata": {},
     "output_type": "display_data"
    },
    {
     "data": {
      "text/html": [
       "<a target=\"_blank\" href=\"http://schema.org/endDate\">http://schema.org/endDate</a>: 2675"
      ],
      "text/plain": [
       "<IPython.core.display.HTML object>"
      ]
     },
     "metadata": {},
     "output_type": "display_data"
    },
    {
     "data": {
      "text/html": [
       "<a target=\"_blank\" href=\"http://schema.org/gender\">http://schema.org/gender</a>: 3898"
      ],
      "text/plain": [
       "<IPython.core.display.HTML object>"
      ]
     },
     "metadata": {},
     "output_type": "display_data"
    },
    {
     "name": "stdout",
     "output_type": "stream",
     "text": [
      "http://schema.org/label: 588\n"
     ]
    },
    {
     "data": {
      "text/html": [
       "<a target=\"_blank\" href=\"http://schema.org/name\">http://schema.org/name</a>: 3309"
      ],
      "text/plain": [
       "<IPython.core.display.HTML object>"
      ]
     },
     "metadata": {},
     "output_type": "display_data"
    },
    {
     "data": {
      "text/html": [
       "<a target=\"_blank\" href=\"http://schema.org/startDate\">http://schema.org/startDate</a>: 6441"
      ],
      "text/plain": [
       "<IPython.core.display.HTML object>"
      ]
     },
     "metadata": {},
     "output_type": "display_data"
    },
    {
     "data": {
      "text/html": [
       "<a target=\"_blank\" href=\"http://schema.org/title\">http://schema.org/title</a>: 4542"
      ],
      "text/plain": [
       "<IPython.core.display.HTML object>"
      ]
     },
     "metadata": {},
     "output_type": "display_data"
    },
    {
     "name": "stdout",
     "output_type": "stream",
     "text": [
      "http://timbuctoo.huygens.knaw.nl/static/v5/predicate/names: 4825\n",
      "http://timbuctoo.huygens.knaw.nl/static/v5/vocabulary#hasIndexConfig: 1\n"
     ]
    },
    {
     "data": {
      "text/html": [
       "<a target=\"_blank\" href=\"http://www.geonames.org/ontology#countryCode\">http://www.geonames.org/ontology#countryCode</a>: 2108"
      ],
      "text/plain": [
       "<IPython.core.display.HTML object>"
      ]
     },
     "metadata": {},
     "output_type": "display_data"
    },
    {
     "data": {
      "text/html": [
       "<a target=\"_blank\" href=\"http://www.w3.org/1999/02/22-rdf-syntax-ns#type\">http://www.w3.org/1999/02/22-rdf-syntax-ns#type</a>: 80310"
      ],
      "text/plain": [
       "<IPython.core.display.HTML object>"
      ]
     },
     "metadata": {},
     "output_type": "display_data"
    },
    {
     "data": {
      "text/html": [
       "<a target=\"_blank\" href=\"http://www.w3.org/2002/07/owl#sameAs\">http://www.w3.org/2002/07/owl#sameAs</a>: 16222"
      ],
      "text/plain": [
       "<IPython.core.display.HTML object>"
      ]
     },
     "metadata": {},
     "output_type": "display_data"
    },
    {
     "data": {
      "text/html": [
       "<a target=\"_blank\" href=\"http://www.w3.org/2003/01/geo/wgs84_pos#lat\">http://www.w3.org/2003/01/geo/wgs84_pos#lat</a>: 2104"
      ],
      "text/plain": [
       "<IPython.core.display.HTML object>"
      ]
     },
     "metadata": {},
     "output_type": "display_data"
    },
    {
     "data": {
      "text/html": [
       "<a target=\"_blank\" href=\"http://www.w3.org/2003/01/geo/wgs84_pos#long\">http://www.w3.org/2003/01/geo/wgs84_pos#long</a>: 2104"
      ],
      "text/plain": [
       "<IPython.core.display.HTML object>"
      ]
     },
     "metadata": {},
     "output_type": "display_data"
    },
    {
     "data": {
      "text/html": [
       "<h3>fingerprint</h3>"
      ],
      "text/plain": [
       "<IPython.core.display.HTML object>"
      ]
     },
     "metadata": {},
     "output_type": "display_data"
    },
    {
     "data": {
      "text/html": [
       "<a target=\"_blank\" href=\"https://repository.huygens.knaw.nl/v5/resourcesync/ue85b462c027ef2b282bf87b44e9670ebb085715d/emdates_places/dataset.nq\">https://repository.huygens.knaw.nl/v5/resourcesync/ue85b462c027ef2b282bf87b44e9670ebb085715d/emdates_places/dataset.nq</a>"
      ],
      "text/plain": [
       "<IPython.core.display.HTML object>"
      ]
     },
     "metadata": {},
     "output_type": "display_data"
    },
    {
     "name": "stdout",
     "output_type": "stream",
     "text": [
      "contexts  :            1\n",
      "statements:        1.847\n",
      "literals  :          551\n",
      "literal ratio:    0,30\n",
      "\n",
      "subject netlocs: 19 {'': 835, 'id.emplaces.info': 799, 'en.wikipedia.org': 5, 'www.geonames.org': 98, 'www.w3.org': 44, 'www.dokumentyslaska.pl': 6, 'dbpedia.org': 5, 'data.huygens.knaw.nl': 1, 'retromap.ru': 2, 'davidrumsey.georeferencer.com': 10, 'xmlns.com': 3, 'ru.wikipedia.org': 3, 'sws.geonames.org': 30, 'vocab.getty.edu': 1, 'purl.org': 1, 'ome-lexikon.uni-oldenburg.de': 1, 'www.herder-institut.de': 1, 'github.com': 1, 'dolny-slask.org.pl': 1}\n",
      "object netlocs: 19 {'id.emplaces.info': 506, '': 603, 'www.w3.org': 44, 'www.geonames.org': 72, 'sws.geonames.org': 30, 'ru.wikipedia.org': 3, 'davidrumsey.georeferencer.com': 10, 'dbpedia.org': 5, 'vocab.getty.edu': 1, 'en.wikipedia.org': 5, 'www.dokumentyslaska.pl': 6, 'github.com': 1, 'www.herder-institut.de': 1, 'xmlns.com': 3, 'dolny-slask.org.pl': 1, 'retromap.ru': 2, 'purl.org': 1, 'data.huygens.knaw.nl': 1, 'ome-lexikon.uni-oldenburg.de': 1}\n",
      "\n",
      "example.org | s 0 | p 0 | o 0 | total 0\n",
      "\n",
      "predicate netlocs: 5 | {'www.w3.org': 838, 'id.emplaces.info': 994, 'purl.org': 9, 'www.geonames.org': 1, 'xmlns.com': 5}\n",
      "predicates: 61\n"
     ]
    },
    {
     "data": {
      "text/html": [
       "<a target=\"_blank\" href=\"http://id.emplaces.info/vocab/alternateAuthority\">http://id.emplaces.info/vocab/alternateAuthority</a>: 4"
      ],
      "text/plain": [
       "<IPython.core.display.HTML object>"
      ]
     },
     "metadata": {},
     "output_type": "display_data"
    },
    {
     "data": {
      "text/html": [
       "<a target=\"_blank\" href=\"http://id.emplaces.info/vocab/alternateName\">http://id.emplaces.info/vocab/alternateName</a>: 198"
      ],
      "text/plain": [
       "<IPython.core.display.HTML object>"
      ]
     },
     "metadata": {},
     "output_type": "display_data"
    },
    {
     "data": {
      "text/html": [
       "<a target=\"_blank\" href=\"http://id.emplaces.info/vocab/alternateURI\">http://id.emplaces.info/vocab/alternateURI</a>: 10"
      ],
      "text/plain": [
       "<IPython.core.display.HTML object>"
      ]
     },
     "metadata": {},
     "output_type": "display_data"
    },
    {
     "data": {
      "text/html": [
       "<a target=\"_blank\" href=\"http://id.emplaces.info/vocab/canonicalURI\">http://id.emplaces.info/vocab/canonicalURI</a>: 10"
      ],
      "text/plain": [
       "<IPython.core.display.HTML object>"
      ]
     },
     "metadata": {},
     "output_type": "display_data"
    },
    {
     "data": {
      "text/html": [
       "<a target=\"_blank\" href=\"http://id.emplaces.info/vocab/competence\">http://id.emplaces.info/vocab/competence</a>: 44"
      ],
      "text/plain": [
       "<IPython.core.display.HTML object>"
      ]
     },
     "metadata": {},
     "output_type": "display_data"
    },
    {
     "data": {
      "text/html": [
       "<a target=\"_blank\" href=\"http://id.emplaces.info/vocab/displayName\">http://id.emplaces.info/vocab/displayName</a>: 8"
      ],
      "text/plain": [
       "<IPython.core.display.HTML object>"
      ]
     },
     "metadata": {},
     "output_type": "display_data"
    },
    {
     "data": {
      "text/html": [
       "<a target=\"_blank\" href=\"http://id.emplaces.info/vocab/earliestEnd:\">http://id.emplaces.info/vocab/earliestEnd:</a>: 1"
      ],
      "text/plain": [
       "<IPython.core.display.HTML object>"
      ]
     },
     "metadata": {},
     "output_type": "display_data"
    },
    {
     "data": {
      "text/html": [
       "<a target=\"_blank\" href=\"http://id.emplaces.info/vocab/editorialNote\">http://id.emplaces.info/vocab/editorialNote</a>: 1"
      ],
      "text/plain": [
       "<IPython.core.display.HTML object>"
      ]
     },
     "metadata": {},
     "output_type": "display_data"
    },
    {
     "data": {
      "text/html": [
       "<a target=\"_blank\" href=\"http://id.emplaces.info/vocab/end\">http://id.emplaces.info/vocab/end</a>: 29"
      ],
      "text/plain": [
       "<IPython.core.display.HTML object>"
      ]
     },
     "metadata": {},
     "output_type": "display_data"
    },
    {
     "data": {
      "text/html": [
       "<a target=\"_blank\" href=\"http://id.emplaces.info/vocab/fromType\">http://id.emplaces.info/vocab/fromType</a>: 6"
      ],
      "text/plain": [
       "<IPython.core.display.HTML object>"
      ]
     },
     "metadata": {},
     "output_type": "display_data"
    },
    {
     "data": {
      "text/html": [
       "<a target=\"_blank\" href=\"http://id.emplaces.info/vocab/hasAnnotation\">http://id.emplaces.info/vocab/hasAnnotation</a>: 46"
      ],
      "text/plain": [
       "<IPython.core.display.HTML object>"
      ]
     },
     "metadata": {},
     "output_type": "display_data"
    },
    {
     "data": {
      "text/html": [
       "<a target=\"_blank\" href=\"http://id.emplaces.info/vocab/hasRelation\">http://id.emplaces.info/vocab/hasRelation</a>: 26"
      ],
      "text/plain": [
       "<IPython.core.display.HTML object>"
      ]
     },
     "metadata": {},
     "output_type": "display_data"
    },
    {
     "data": {
      "text/html": [
       "<a target=\"_blank\" href=\"http://id.emplaces.info/vocab/language\">http://id.emplaces.info/vocab/language</a>: 20"
      ],
      "text/plain": [
       "<IPython.core.display.HTML object>"
      ]
     },
     "metadata": {},
     "output_type": "display_data"
    },
    {
     "data": {
      "text/html": [
       "<a target=\"_blank\" href=\"http://id.emplaces.info/vocab/latestStart:\">http://id.emplaces.info/vocab/latestStart:</a>: 1"
      ],
      "text/plain": [
       "<IPython.core.display.HTML object>"
      ]
     },
     "metadata": {},
     "output_type": "display_data"
    },
    {
     "data": {
      "text/html": [
       "<a target=\"_blank\" href=\"http://id.emplaces.info/vocab/link\">http://id.emplaces.info/vocab/link</a>: 100"
      ],
      "text/plain": [
       "<IPython.core.display.HTML object>"
      ]
     },
     "metadata": {},
     "output_type": "display_data"
    },
    {
     "data": {
      "text/html": [
       "<a target=\"_blank\" href=\"http://id.emplaces.info/vocab/location\">http://id.emplaces.info/vocab/location</a>: 10"
      ],
      "text/plain": [
       "<IPython.core.display.HTML object>"
      ]
     },
     "metadata": {},
     "output_type": "display_data"
    },
    {
     "data": {
      "text/html": [
       "<a target=\"_blank\" href=\"http://id.emplaces.info/vocab/name\">http://id.emplaces.info/vocab/name</a>: 10"
      ],
      "text/plain": [
       "<IPython.core.display.HTML object>"
      ]
     },
     "metadata": {},
     "output_type": "display_data"
    },
    {
     "data": {
      "text/html": [
       "<a target=\"_blank\" href=\"http://id.emplaces.info/vocab/placeCategory\">http://id.emplaces.info/vocab/placeCategory</a>: 20"
      ],
      "text/plain": [
       "<IPython.core.display.HTML object>"
      ]
     },
     "metadata": {},
     "output_type": "display_data"
    },
    {
     "data": {
      "text/html": [
       "<a target=\"_blank\" href=\"http://id.emplaces.info/vocab/placeType\">http://id.emplaces.info/vocab/placeType</a>: 20"
      ],
      "text/plain": [
       "<IPython.core.display.HTML object>"
      ]
     },
     "metadata": {},
     "output_type": "display_data"
    },
    {
     "data": {
      "text/html": [
       "<a target=\"_blank\" href=\"http://id.emplaces.info/vocab/place_data\">http://id.emplaces.info/vocab/place_data</a>: 22"
      ],
      "text/plain": [
       "<IPython.core.display.HTML object>"
      ]
     },
     "metadata": {},
     "output_type": "display_data"
    },
    {
     "data": {
      "text/html": [
       "<a target=\"_blank\" href=\"http://id.emplaces.info/vocab/preferredName\">http://id.emplaces.info/vocab/preferredName</a>: 5"
      ],
      "text/plain": [
       "<IPython.core.display.HTML object>"
      ]
     },
     "metadata": {},
     "output_type": "display_data"
    },
    {
     "data": {
      "text/html": [
       "<a target=\"_blank\" href=\"http://id.emplaces.info/vocab/preview\">http://id.emplaces.info/vocab/preview</a>: 22"
      ],
      "text/plain": [
       "<IPython.core.display.HTML object>"
      ]
     },
     "metadata": {},
     "output_type": "display_data"
    },
    {
     "data": {
      "text/html": [
       "<a target=\"_blank\" href=\"http://id.emplaces.info/vocab/reference\">http://id.emplaces.info/vocab/reference</a>: 2"
      ],
      "text/plain": [
       "<IPython.core.display.HTML object>"
      ]
     },
     "metadata": {},
     "output_type": "display_data"
    },
    {
     "data": {
      "text/html": [
       "<a target=\"_blank\" href=\"http://id.emplaces.info/vocab/relatedResource\">http://id.emplaces.info/vocab/relatedResource</a>: 12"
      ],
      "text/plain": [
       "<IPython.core.display.HTML object>"
      ]
     },
     "metadata": {},
     "output_type": "display_data"
    },
    {
     "data": {
      "text/html": [
       "<a target=\"_blank\" href=\"http://id.emplaces.info/vocab/relationTo\">http://id.emplaces.info/vocab/relationTo</a>: 26"
      ],
      "text/plain": [
       "<IPython.core.display.HTML object>"
      ]
     },
     "metadata": {},
     "output_type": "display_data"
    },
    {
     "data": {
      "text/html": [
       "<a target=\"_blank\" href=\"http://id.emplaces.info/vocab/relationType\">http://id.emplaces.info/vocab/relationType</a>: 26"
      ],
      "text/plain": [
       "<IPython.core.display.HTML object>"
      ]
     },
     "metadata": {},
     "output_type": "display_data"
    },
    {
     "data": {
      "text/html": [
       "<a target=\"_blank\" href=\"http://id.emplaces.info/vocab/short_label\">http://id.emplaces.info/vocab/short_label</a>: 22"
      ],
      "text/plain": [
       "<IPython.core.display.HTML object>"
      ]
     },
     "metadata": {},
     "output_type": "display_data"
    },
    {
     "data": {
      "text/html": [
       "<a target=\"_blank\" href=\"http://id.emplaces.info/vocab/source\">http://id.emplaces.info/vocab/source</a>: 88"
      ],
      "text/plain": [
       "<IPython.core.display.HTML object>"
      ]
     },
     "metadata": {},
     "output_type": "display_data"
    },
    {
     "data": {
      "text/html": [
       "<a target=\"_blank\" href=\"http://id.emplaces.info/vocab/start\">http://id.emplaces.info/vocab/start</a>: 31"
      ],
      "text/plain": [
       "<IPython.core.display.HTML object>"
      ]
     },
     "metadata": {},
     "output_type": "display_data"
    },
    {
     "data": {
      "text/html": [
       "<a target=\"_blank\" href=\"http://id.emplaces.info/vocab/tag_639_1\">http://id.emplaces.info/vocab/tag_639_1</a>: 4"
      ],
      "text/plain": [
       "<IPython.core.display.HTML object>"
      ]
     },
     "metadata": {},
     "output_type": "display_data"
    },
    {
     "data": {
      "text/html": [
       "<a target=\"_blank\" href=\"http://id.emplaces.info/vocab/tag_639_2\">http://id.emplaces.info/vocab/tag_639_2</a>: 4"
      ],
      "text/plain": [
       "<IPython.core.display.HTML object>"
      ]
     },
     "metadata": {},
     "output_type": "display_data"
    },
    {
     "data": {
      "text/html": [
       "<a target=\"_blank\" href=\"http://id.emplaces.info/vocab/timespan\">http://id.emplaces.info/vocab/timespan</a>: 66"
      ],
      "text/plain": [
       "<IPython.core.display.HTML object>"
      ]
     },
     "metadata": {},
     "output_type": "display_data"
    },
    {
     "data": {
      "text/html": [
       "<a target=\"_blank\" href=\"http://id.emplaces.info/vocab/toType\">http://id.emplaces.info/vocab/toType</a>: 6"
      ],
      "text/plain": [
       "<IPython.core.display.HTML object>"
      ]
     },
     "metadata": {},
     "output_type": "display_data"
    },
    {
     "data": {
      "text/html": [
       "<a target=\"_blank\" href=\"http://id.emplaces.info/vocab/when\">http://id.emplaces.info/vocab/when</a>: 84"
      ],
      "text/plain": [
       "<IPython.core.display.HTML object>"
      ]
     },
     "metadata": {},
     "output_type": "display_data"
    },
    {
     "data": {
      "text/html": [
       "<a target=\"_blank\" href=\"http://id.emplaces.info/vocab/where\">http://id.emplaces.info/vocab/where</a>: 10"
      ],
      "text/plain": [
       "<IPython.core.display.HTML object>"
      ]
     },
     "metadata": {},
     "output_type": "display_data"
    },
    {
     "data": {
      "text/html": [
       "<a target=\"_blank\" href=\"http://purl.org/dc/terms/date\">http://purl.org/dc/terms/date</a>: 1"
      ],
      "text/plain": [
       "<IPython.core.display.HTML object>"
      ]
     },
     "metadata": {},
     "output_type": "display_data"
    },
    {
     "data": {
      "text/html": [
       "<a target=\"_blank\" href=\"http://purl.org/dc/terms/publisher\">http://purl.org/dc/terms/publisher</a>: 2"
      ],
      "text/plain": [
       "<IPython.core.display.HTML object>"
      ]
     },
     "metadata": {},
     "output_type": "display_data"
    },
    {
     "data": {
      "text/html": [
       "<a target=\"_blank\" href=\"http://purl.org/dc/terms/source\">http://purl.org/dc/terms/source</a>: 1"
      ],
      "text/plain": [
       "<IPython.core.display.HTML object>"
      ]
     },
     "metadata": {},
     "output_type": "display_data"
    },
    {
     "data": {
      "text/html": [
       "<a target=\"_blank\" href=\"http://purl.org/dc/terms/title\">http://purl.org/dc/terms/title</a>: 1"
      ],
      "text/plain": [
       "<IPython.core.display.HTML object>"
      ]
     },
     "metadata": {},
     "output_type": "display_data"
    },
    {
     "data": {
      "text/html": [
       "<a target=\"_blank\" href=\"http://purl.org/ontology/bibo/authorList\">http://purl.org/ontology/bibo/authorList</a>: 2"
      ],
      "text/plain": [
       "<IPython.core.display.HTML object>"
      ]
     },
     "metadata": {},
     "output_type": "display_data"
    },
    {
     "data": {
      "text/html": [
       "<a target=\"_blank\" href=\"http://purl.org/ontology/bibo/isbn10\">http://purl.org/ontology/bibo/isbn10</a>: 1"
      ],
      "text/plain": [
       "<IPython.core.display.HTML object>"
      ]
     },
     "metadata": {},
     "output_type": "display_data"
    },
    {
     "data": {
      "text/html": [
       "<a target=\"_blank\" href=\"http://purl.org/ontology/bibo/isbn13\">http://purl.org/ontology/bibo/isbn13</a>: 1"
      ],
      "text/plain": [
       "<IPython.core.display.HTML object>"
      ]
     },
     "metadata": {},
     "output_type": "display_data"
    },
    {
     "data": {
      "text/html": [
       "<a target=\"_blank\" href=\"http://www.geonames.org/ontology#countryCode\">http://www.geonames.org/ontology#countryCode</a>: 1"
      ],
      "text/plain": [
       "<IPython.core.display.HTML object>"
      ]
     },
     "metadata": {},
     "output_type": "display_data"
    },
    {
     "data": {
      "text/html": [
       "<a target=\"_blank\" href=\"http://www.w3.org/1999/02/22-rdf-syntax-ns#first\">http://www.w3.org/1999/02/22-rdf-syntax-ns#first</a>: 4"
      ],
      "text/plain": [
       "<IPython.core.display.HTML object>"
      ]
     },
     "metadata": {},
     "output_type": "display_data"
    },
    {
     "data": {
      "text/html": [
       "<a target=\"_blank\" href=\"http://www.w3.org/1999/02/22-rdf-syntax-ns#rest\">http://www.w3.org/1999/02/22-rdf-syntax-ns#rest</a>: 4"
      ],
      "text/plain": [
       "<IPython.core.display.HTML object>"
      ]
     },
     "metadata": {},
     "output_type": "display_data"
    },
    {
     "data": {
      "text/html": [
       "<a target=\"_blank\" href=\"http://www.w3.org/1999/02/22-rdf-syntax-ns#type\">http://www.w3.org/1999/02/22-rdf-syntax-ns#type</a>: 398"
      ],
      "text/plain": [
       "<IPython.core.display.HTML object>"
      ]
     },
     "metadata": {},
     "output_type": "display_data"
    },
    {
     "data": {
      "text/html": [
       "<a target=\"_blank\" href=\"http://www.w3.org/2000/01/rdf-schema#comment\">http://www.w3.org/2000/01/rdf-schema#comment</a>: 74"
      ],
      "text/plain": [
       "<IPython.core.display.HTML object>"
      ]
     },
     "metadata": {},
     "output_type": "display_data"
    },
    {
     "data": {
      "text/html": [
       "<a target=\"_blank\" href=\"http://www.w3.org/2000/01/rdf-schema#isDefinedBy\">http://www.w3.org/2000/01/rdf-schema#isDefinedBy</a>: 10"
      ],
      "text/plain": [
       "<IPython.core.display.HTML object>"
      ]
     },
     "metadata": {},
     "output_type": "display_data"
    },
    {
     "data": {
      "text/html": [
       "<a target=\"_blank\" href=\"http://www.w3.org/2000/01/rdf-schema#label\">http://www.w3.org/2000/01/rdf-schema#label</a>: 142"
      ],
      "text/plain": [
       "<IPython.core.display.HTML object>"
      ]
     },
     "metadata": {},
     "output_type": "display_data"
    },
    {
     "data": {
      "text/html": [
       "<a target=\"_blank\" href=\"http://www.w3.org/2000/01/rdf-schema#range\">http://www.w3.org/2000/01/rdf-schema#range</a>: 2"
      ],
      "text/plain": [
       "<IPython.core.display.HTML object>"
      ]
     },
     "metadata": {},
     "output_type": "display_data"
    },
    {
     "data": {
      "text/html": [
       "<a target=\"_blank\" href=\"http://www.w3.org/2000/01/rdf-schema#seeAlso\">http://www.w3.org/2000/01/rdf-schema#seeAlso</a>: 26"
      ],
      "text/plain": [
       "<IPython.core.display.HTML object>"
      ]
     },
     "metadata": {},
     "output_type": "display_data"
    },
    {
     "data": {
      "text/html": [
       "<a target=\"_blank\" href=\"http://www.w3.org/2000/01/rdf-schema#subClassOf\">http://www.w3.org/2000/01/rdf-schema#subClassOf</a>: 4"
      ],
      "text/plain": [
       "<IPython.core.display.HTML object>"
      ]
     },
     "metadata": {},
     "output_type": "display_data"
    },
    {
     "data": {
      "text/html": [
       "<a target=\"_blank\" href=\"http://www.w3.org/2003/01/geo/wgs84_pos#lat\">http://www.w3.org/2003/01/geo/wgs84_pos#lat</a>: 5"
      ],
      "text/plain": [
       "<IPython.core.display.HTML object>"
      ]
     },
     "metadata": {},
     "output_type": "display_data"
    },
    {
     "data": {
      "text/html": [
       "<a target=\"_blank\" href=\"http://www.w3.org/2003/01/geo/wgs84_pos#long\">http://www.w3.org/2003/01/geo/wgs84_pos#long</a>: 5"
      ],
      "text/plain": [
       "<IPython.core.display.HTML object>"
      ]
     },
     "metadata": {},
     "output_type": "display_data"
    },
    {
     "data": {
      "text/html": [
       "<a target=\"_blank\" href=\"http://www.w3.org/2004/02/skos/core#broader\">http://www.w3.org/2004/02/skos/core#broader</a>: 26"
      ],
      "text/plain": [
       "<IPython.core.display.HTML object>"
      ]
     },
     "metadata": {},
     "output_type": "display_data"
    },
    {
     "data": {
      "text/html": [
       "<a target=\"_blank\" href=\"http://www.w3.org/ns/oa#hasBody\">http://www.w3.org/ns/oa#hasBody</a>: 46"
      ],
      "text/plain": [
       "<IPython.core.display.HTML object>"
      ]
     },
     "metadata": {},
     "output_type": "display_data"
    },
    {
     "data": {
      "text/html": [
       "<a target=\"_blank\" href=\"http://www.w3.org/ns/oa#hasTarget\">http://www.w3.org/ns/oa#hasTarget</a>: 46"
      ],
      "text/plain": [
       "<IPython.core.display.HTML object>"
      ]
     },
     "metadata": {},
     "output_type": "display_data"
    },
    {
     "data": {
      "text/html": [
       "<a target=\"_blank\" href=\"http://www.w3.org/ns/oa#motivatedBy\">http://www.w3.org/ns/oa#motivatedBy</a>: 46"
      ],
      "text/plain": [
       "<IPython.core.display.HTML object>"
      ]
     },
     "metadata": {},
     "output_type": "display_data"
    },
    {
     "data": {
      "text/html": [
       "<a target=\"_blank\" href=\"http://xmlns.com/foaf/0.1/familyName\">http://xmlns.com/foaf/0.1/familyName</a>: 2"
      ],
      "text/plain": [
       "<IPython.core.display.HTML object>"
      ]
     },
     "metadata": {},
     "output_type": "display_data"
    },
    {
     "data": {
      "text/html": [
       "<a target=\"_blank\" href=\"http://xmlns.com/foaf/0.1/givenName\">http://xmlns.com/foaf/0.1/givenName</a>: 2"
      ],
      "text/plain": [
       "<IPython.core.display.HTML object>"
      ]
     },
     "metadata": {},
     "output_type": "display_data"
    },
    {
     "data": {
      "text/html": [
       "<a target=\"_blank\" href=\"http://xmlns.com/foaf/0.1/name\">http://xmlns.com/foaf/0.1/name</a>: 1"
      ],
      "text/plain": [
       "<IPython.core.display.HTML object>"
      ]
     },
     "metadata": {},
     "output_type": "display_data"
    },
    {
     "data": {
      "text/html": [
       "<h3>fingerprint</h3>"
      ],
      "text/plain": [
       "<IPython.core.display.HTML object>"
      ]
     },
     "metadata": {},
     "output_type": "display_data"
    },
    {
     "data": {
      "text/html": [
       "<a target=\"_blank\" href=\"https://repository.huygens.knaw.nl/v5/resourcesync/ue85b462c027ef2b282bf87b44e9670ebb085715d/emlo_oppole20180625/dataset.nq\">https://repository.huygens.knaw.nl/v5/resourcesync/ue85b462c027ef2b282bf87b44e9670ebb085715d/emlo_oppole20180625/dataset.nq</a>"
      ],
      "text/plain": [
       "<IPython.core.display.HTML object>"
      ]
     },
     "metadata": {},
     "output_type": "display_data"
    },
    {
     "name": "stdout",
     "output_type": "stream",
     "text": [
      "contexts  :            1\n",
      "statements:        1.603\n",
      "literals  :          490\n",
      "literal ratio:    0,31\n",
      "\n",
      "subject netlocs: 18 {'': 771, 'www.geonames.org': 93, 'sws.geonames.org': 28, 'emplaces.data.example.org': 393, 'emplaces.namespace.example.org': 245, 'www.dokumentyslaska.pl': 6, 'xmlns.com': 3, 'dbpedia.org': 5, 'www.w3.org': 40, 'en.wikipedia.org': 5, 'ome-lexikon.uni-oldenburg.de': 1, 'ru.wikipedia.org': 3, 'davidrumsey.georeferencer.com': 5, 'www.herder-institut.de': 1, 'data.huygens.knaw.nl': 1, 'dolny-slask.org.pl': 1, 'purl.org': 1, 'retromap.ru': 1}\n",
      "object netlocs: 18 {'': 567, 'sws.geonames.org': 28, 'emplaces.namespace.example.org': 216, 'emplaces.data.example.org': 162, 'www.w3.org': 40, 'www.geonames.org': 67, 'en.wikipedia.org': 5, 'dbpedia.org': 5, 'davidrumsey.georeferencer.com': 5, 'www.dokumentyslaska.pl': 6, 'ru.wikipedia.org': 3, 'dolny-slask.org.pl': 1, 'retromap.ru': 1, 'xmlns.com': 3, 'www.herder-institut.de': 1, 'ome-lexikon.uni-oldenburg.de': 1, 'data.huygens.knaw.nl': 1, 'purl.org': 1}\n",
      "\n",
      "example.org | s 0 | p 0 | o 0 | total 0\n",
      "\n",
      "predicate netlocs: 6 | {'emplaces.namespace.example.org': 904, 'www.w3.org': 683, 'purl.org': 9, 'xmlns.com': 5, 'timbuctoo.huygens.knaw.nl': 1, 'www.geonames.org': 1}\n",
      "predicates: 61\n",
      "http://emplaces.namespace.example.org/alternateName: 198\n",
      "http://emplaces.namespace.example.org/alternateURI: 10\n",
      "http://emplaces.namespace.example.org/canonicalURI: 5\n",
      "http://emplaces.namespace.example.org/competence: 44\n",
      "http://emplaces.namespace.example.org/coreDataRef: 10\n",
      "http://emplaces.namespace.example.org/corePlaceType: 10\n",
      "http://emplaces.namespace.example.org/coreProperty: 8\n",
      "http://emplaces.namespace.example.org/displayName: 8\n",
      "http://emplaces.namespace.example.org/earliestEnd:: 1\n",
      "http://emplaces.namespace.example.org/editorialNote: 1\n",
      "http://emplaces.namespace.example.org/end: 29\n",
      "http://emplaces.namespace.example.org/fromType: 6\n",
      "http://emplaces.namespace.example.org/hasAnnotation: 46\n",
      "http://emplaces.namespace.example.org/hasRelation: 26\n",
      "http://emplaces.namespace.example.org/language: 20\n",
      "http://emplaces.namespace.example.org/latestStart:: 1\n",
      "http://emplaces.namespace.example.org/link: 94\n",
      "http://emplaces.namespace.example.org/location: 10\n",
      "http://emplaces.namespace.example.org/name: 10\n",
      "http://emplaces.namespace.example.org/placeCategory: 20\n",
      "http://emplaces.namespace.example.org/placeType: 10\n",
      "http://emplaces.namespace.example.org/preferredName: 5\n",
      "http://emplaces.namespace.example.org/reference: 2\n",
      "http://emplaces.namespace.example.org/relatedResource: 12\n",
      "http://emplaces.namespace.example.org/relationTo: 26\n",
      "http://emplaces.namespace.example.org/relationType: 26\n",
      "http://emplaces.namespace.example.org/source: 66\n",
      "http://emplaces.namespace.example.org/start: 31\n",
      "http://emplaces.namespace.example.org/tag: 3\n",
      "http://emplaces.namespace.example.org/timespan: 66\n",
      "http://emplaces.namespace.example.org/toType: 6\n",
      "http://emplaces.namespace.example.org/when: 84\n",
      "http://emplaces.namespace.example.org/where: 10\n"
     ]
    },
    {
     "data": {
      "text/html": [
       "<a target=\"_blank\" href=\"http://purl.org/dc/terms/date\">http://purl.org/dc/terms/date</a>: 1"
      ],
      "text/plain": [
       "<IPython.core.display.HTML object>"
      ]
     },
     "metadata": {},
     "output_type": "display_data"
    },
    {
     "data": {
      "text/html": [
       "<a target=\"_blank\" href=\"http://purl.org/dc/terms/publisher\">http://purl.org/dc/terms/publisher</a>: 2"
      ],
      "text/plain": [
       "<IPython.core.display.HTML object>"
      ]
     },
     "metadata": {},
     "output_type": "display_data"
    },
    {
     "data": {
      "text/html": [
       "<a target=\"_blank\" href=\"http://purl.org/dc/terms/source\">http://purl.org/dc/terms/source</a>: 1"
      ],
      "text/plain": [
       "<IPython.core.display.HTML object>"
      ]
     },
     "metadata": {},
     "output_type": "display_data"
    },
    {
     "data": {
      "text/html": [
       "<a target=\"_blank\" href=\"http://purl.org/dc/terms/title\">http://purl.org/dc/terms/title</a>: 1"
      ],
      "text/plain": [
       "<IPython.core.display.HTML object>"
      ]
     },
     "metadata": {},
     "output_type": "display_data"
    },
    {
     "data": {
      "text/html": [
       "<a target=\"_blank\" href=\"http://purl.org/ontology/bibo/authorList\">http://purl.org/ontology/bibo/authorList</a>: 2"
      ],
      "text/plain": [
       "<IPython.core.display.HTML object>"
      ]
     },
     "metadata": {},
     "output_type": "display_data"
    },
    {
     "data": {
      "text/html": [
       "<a target=\"_blank\" href=\"http://purl.org/ontology/bibo/isbn10\">http://purl.org/ontology/bibo/isbn10</a>: 1"
      ],
      "text/plain": [
       "<IPython.core.display.HTML object>"
      ]
     },
     "metadata": {},
     "output_type": "display_data"
    },
    {
     "data": {
      "text/html": [
       "<a target=\"_blank\" href=\"http://purl.org/ontology/bibo/isbn13\">http://purl.org/ontology/bibo/isbn13</a>: 1"
      ],
      "text/plain": [
       "<IPython.core.display.HTML object>"
      ]
     },
     "metadata": {},
     "output_type": "display_data"
    },
    {
     "name": "stdout",
     "output_type": "stream",
     "text": [
      "http://timbuctoo.huygens.knaw.nl/static/v5/vocabulary#hasIndexConfig: 1\n"
     ]
    },
    {
     "data": {
      "text/html": [
       "<a target=\"_blank\" href=\"http://www.geonames.org/ontology#countryCode\">http://www.geonames.org/ontology#countryCode</a>: 1"
      ],
      "text/plain": [
       "<IPython.core.display.HTML object>"
      ]
     },
     "metadata": {},
     "output_type": "display_data"
    },
    {
     "data": {
      "text/html": [
       "<a target=\"_blank\" href=\"http://www.w3.org/1999/02/22-rdf-syntax-ns#first\">http://www.w3.org/1999/02/22-rdf-syntax-ns#first</a>: 4"
      ],
      "text/plain": [
       "<IPython.core.display.HTML object>"
      ]
     },
     "metadata": {},
     "output_type": "display_data"
    },
    {
     "data": {
      "text/html": [
       "<a target=\"_blank\" href=\"http://www.w3.org/1999/02/22-rdf-syntax-ns#rest\">http://www.w3.org/1999/02/22-rdf-syntax-ns#rest</a>: 4"
      ],
      "text/plain": [
       "<IPython.core.display.HTML object>"
      ]
     },
     "metadata": {},
     "output_type": "display_data"
    },
    {
     "data": {
      "text/html": [
       "<a target=\"_blank\" href=\"http://www.w3.org/1999/02/22-rdf-syntax-ns#type\">http://www.w3.org/1999/02/22-rdf-syntax-ns#type</a>: 280"
      ],
      "text/plain": [
       "<IPython.core.display.HTML object>"
      ]
     },
     "metadata": {},
     "output_type": "display_data"
    },
    {
     "data": {
      "text/html": [
       "<a target=\"_blank\" href=\"http://www.w3.org/2000/01/rdf-schema#comment\">http://www.w3.org/2000/01/rdf-schema#comment</a>: 56"
      ],
      "text/plain": [
       "<IPython.core.display.HTML object>"
      ]
     },
     "metadata": {},
     "output_type": "display_data"
    },
    {
     "data": {
      "text/html": [
       "<a target=\"_blank\" href=\"http://www.w3.org/2000/01/rdf-schema#isDefinedBy\">http://www.w3.org/2000/01/rdf-schema#isDefinedBy</a>: 8"
      ],
      "text/plain": [
       "<IPython.core.display.HTML object>"
      ]
     },
     "metadata": {},
     "output_type": "display_data"
    },
    {
     "data": {
      "text/html": [
       "<a target=\"_blank\" href=\"http://www.w3.org/2000/01/rdf-schema#label\">http://www.w3.org/2000/01/rdf-schema#label</a>: 125"
      ],
      "text/plain": [
       "<IPython.core.display.HTML object>"
      ]
     },
     "metadata": {},
     "output_type": "display_data"
    },
    {
     "data": {
      "text/html": [
       "<a target=\"_blank\" href=\"http://www.w3.org/2000/01/rdf-schema#range\">http://www.w3.org/2000/01/rdf-schema#range</a>: 2"
      ],
      "text/plain": [
       "<IPython.core.display.HTML object>"
      ]
     },
     "metadata": {},
     "output_type": "display_data"
    },
    {
     "data": {
      "text/html": [
       "<a target=\"_blank\" href=\"http://www.w3.org/2000/01/rdf-schema#seeAlso\">http://www.w3.org/2000/01/rdf-schema#seeAlso</a>: 26"
      ],
      "text/plain": [
       "<IPython.core.display.HTML object>"
      ]
     },
     "metadata": {},
     "output_type": "display_data"
    },
    {
     "data": {
      "text/html": [
       "<a target=\"_blank\" href=\"http://www.w3.org/2000/01/rdf-schema#subPropertyOf\">http://www.w3.org/2000/01/rdf-schema#subPropertyOf</a>: 4"
      ],
      "text/plain": [
       "<IPython.core.display.HTML object>"
      ]
     },
     "metadata": {},
     "output_type": "display_data"
    },
    {
     "data": {
      "text/html": [
       "<a target=\"_blank\" href=\"http://www.w3.org/2003/01/geo/wgs84_pos#lat\">http://www.w3.org/2003/01/geo/wgs84_pos#lat</a>: 5"
      ],
      "text/plain": [
       "<IPython.core.display.HTML object>"
      ]
     },
     "metadata": {},
     "output_type": "display_data"
    },
    {
     "data": {
      "text/html": [
       "<a target=\"_blank\" href=\"http://www.w3.org/2003/01/geo/wgs84_pos#long\">http://www.w3.org/2003/01/geo/wgs84_pos#long</a>: 5"
      ],
      "text/plain": [
       "<IPython.core.display.HTML object>"
      ]
     },
     "metadata": {},
     "output_type": "display_data"
    },
    {
     "data": {
      "text/html": [
       "<a target=\"_blank\" href=\"http://www.w3.org/2004/02/skos/core#broader\">http://www.w3.org/2004/02/skos/core#broader</a>: 4"
      ],
      "text/plain": [
       "<IPython.core.display.HTML object>"
      ]
     },
     "metadata": {},
     "output_type": "display_data"
    },
    {
     "data": {
      "text/html": [
       "<a target=\"_blank\" href=\"http://www.w3.org/2004/02/skos/core#narrower\">http://www.w3.org/2004/02/skos/core#narrower</a>: 22"
      ],
      "text/plain": [
       "<IPython.core.display.HTML object>"
      ]
     },
     "metadata": {},
     "output_type": "display_data"
    },
    {
     "data": {
      "text/html": [
       "<a target=\"_blank\" href=\"http://www.w3.org/ns/oa#hasBody\">http://www.w3.org/ns/oa#hasBody</a>: 46"
      ],
      "text/plain": [
       "<IPython.core.display.HTML object>"
      ]
     },
     "metadata": {},
     "output_type": "display_data"
    },
    {
     "data": {
      "text/html": [
       "<a target=\"_blank\" href=\"http://www.w3.org/ns/oa#hasTarget\">http://www.w3.org/ns/oa#hasTarget</a>: 46"
      ],
      "text/plain": [
       "<IPython.core.display.HTML object>"
      ]
     },
     "metadata": {},
     "output_type": "display_data"
    },
    {
     "data": {
      "text/html": [
       "<a target=\"_blank\" href=\"http://www.w3.org/ns/oa#motivatedBy\">http://www.w3.org/ns/oa#motivatedBy</a>: 46"
      ],
      "text/plain": [
       "<IPython.core.display.HTML object>"
      ]
     },
     "metadata": {},
     "output_type": "display_data"
    },
    {
     "data": {
      "text/html": [
       "<a target=\"_blank\" href=\"http://xmlns.com/foaf/0.1/firstName\">http://xmlns.com/foaf/0.1/firstName</a>: 2"
      ],
      "text/plain": [
       "<IPython.core.display.HTML object>"
      ]
     },
     "metadata": {},
     "output_type": "display_data"
    },
    {
     "data": {
      "text/html": [
       "<a target=\"_blank\" href=\"http://xmlns.com/foaf/0.1/name\">http://xmlns.com/foaf/0.1/name</a>: 1"
      ],
      "text/plain": [
       "<IPython.core.display.HTML object>"
      ]
     },
     "metadata": {},
     "output_type": "display_data"
    },
    {
     "data": {
      "text/html": [
       "<a target=\"_blank\" href=\"http://xmlns.com/foaf/0.1/surname\">http://xmlns.com/foaf/0.1/surname</a>: 2"
      ],
      "text/plain": [
       "<IPython.core.display.HTML object>"
      ]
     },
     "metadata": {},
     "output_type": "display_data"
    },
    {
     "data": {
      "text/html": [
       "<h3>fingerprint</h3>"
      ],
      "text/plain": [
       "<IPython.core.display.HTML object>"
      ]
     },
     "metadata": {},
     "output_type": "display_data"
    },
    {
     "data": {
      "text/html": [
       "<a target=\"_blank\" href=\"https://repository.huygens.knaw.nl/v5/resourcesync/u28f4a6e30d2ef7728fb4b3233cc6313e316cd992/cor19_7/dataset.nq\">https://repository.huygens.knaw.nl/v5/resourcesync/u28f4a6e30d2ef7728fb4b3233cc6313e316cd992/cor19_7/dataset.nq</a>"
      ],
      "text/plain": [
       "<IPython.core.display.HTML object>"
      ]
     },
     "metadata": {},
     "output_type": "display_data"
    },
    {
     "name": "stdout",
     "output_type": "stream",
     "text": [
      "contexts  :            1\n",
      "statements:      162.795\n",
      "literals  :       81.169\n",
      "literal ratio:    0,50\n",
      "\n",
      "subject netlocs: 2 {'timbuctoo.huygens.knaw.nl': 80089, 'data.huygens.knaw.nl': 82706}\n",
      "object netlocs: 2 {'timbuctoo.huygens.knaw.nl': 56651, 'data.huygens.knaw.nl': 24975}\n",
      "\n",
      "example.org | s 0 | p 0 | o 0 | total 0\n",
      "\n",
      "predicate netlocs: 3 | {'timbuctoo.huygens.knaw.nl': 79490, 'data.huygens.knaw.nl': 57669, 'www.w3.org': 25636}\n",
      "predicates: 44\n",
      "http://timbuctoo.huygens.knaw.nl/properties/CORRESPONDENCE_ID: 2\n",
      "http://timbuctoo.huygens.knaw.nl/properties/Correspondence: 11024\n",
      "http://timbuctoo.huygens.knaw.nl/properties/Date: 5512\n",
      "http://timbuctoo.huygens.knaw.nl/properties/LETTER_ID: 5512\n",
      "http://timbuctoo.huygens.knaw.nl/properties/LocalID: 5512\n",
      "http://timbuctoo.huygens.knaw.nl/properties/PERSON_ID: 467\n",
      "http://timbuctoo.huygens.knaw.nl/properties/PLACE_ID: 226\n",
      "http://timbuctoo.huygens.knaw.nl/properties/PergamonURL: 5512\n",
      "http://timbuctoo.huygens.knaw.nl/properties/Recipient: 11494\n",
      "http://timbuctoo.huygens.knaw.nl/properties/Sender: 11444\n",
      "http://timbuctoo.huygens.knaw.nl/properties/SenderLocation: 10244\n",
      "http://timbuctoo.huygens.knaw.nl/static/v5/vocabulary#hasCollection: 8\n",
      "http://timbuctoo.huygens.knaw.nl/static/v5/vocabulary#hasProperty: 46\n",
      "http://timbuctoo.huygens.knaw.nl/static/v5/vocabulary#mimetype: 4\n",
      "http://timbuctoo.huygens.knaw.nl/static/v5/vocabulary#next: 46\n",
      "http://timbuctoo.huygens.knaw.nl/static/v5/vocabulary#propertyId: 23\n",
      "http://timbuctoo.huygens.knaw.nl/static/v5/vocabulary#timhasrow: 12414\n"
     ]
    },
    {
     "data": {
      "text/html": [
       "<a target=\"_blank\" href=\"http://www.w3.org/1999/02/22-rdf-syntax-ns#type\">http://www.w3.org/1999/02/22-rdf-syntax-ns#type</a>: 24898"
      ],
      "text/plain": [
       "<IPython.core.display.HTML object>"
      ]
     },
     "metadata": {},
     "output_type": "display_data"
    },
    {
     "data": {
      "text/html": [
       "<a target=\"_blank\" href=\"http://www.w3.org/2000/01/rdf-schema#label\">http://www.w3.org/2000/01/rdf-schema#label</a>: 726"
      ],
      "text/plain": [
       "<IPython.core.display.HTML object>"
      ]
     },
     "metadata": {},
     "output_type": "display_data"
    },
    {
     "data": {
      "text/html": [
       "<a target=\"_blank\" href=\"http://www.w3.org/ns/prov#atTime\">http://www.w3.org/ns/prov#atTime</a>: 4"
      ],
      "text/plain": [
       "<IPython.core.display.HTML object>"
      ]
     },
     "metadata": {},
     "output_type": "display_data"
    },
    {
     "data": {
      "text/html": [
       "<a target=\"_blank\" href=\"http://www.w3.org/ns/prov#wasDerivedFrom\">http://www.w3.org/ns/prov#wasDerivedFrom</a>: 8"
      ],
      "text/plain": [
       "<IPython.core.display.HTML object>"
      ]
     },
     "metadata": {},
     "output_type": "display_data"
    },
    {
     "data": {
      "text/html": [
       "<a target=\"_blank\" href=\"https://data.huygens.knaw.nl/rdf/datasets/u28f4a6e30d2ef7728fb4b3233cc6313e316cd992/cor19_7/rawData/28374959-3d20-4b7e-8965-d88071af4232-persons_csv/props/PERSON_ID\">https://data.huygens.knaw.nl/rdf/datasets/u28f4a6e30d2ef7728fb4b3233cc6313e316cd992/cor19_7/rawData/28374959-3d20-4b7e-8965-d88071af4232-persons_csv/props/PERSON_ID</a>: 467"
      ],
      "text/plain": [
       "<IPython.core.display.HTML object>"
      ]
     },
     "metadata": {},
     "output_type": "display_data"
    },
    {
     "data": {
      "text/html": [
       "<a target=\"_blank\" href=\"https://data.huygens.knaw.nl/rdf/datasets/u28f4a6e30d2ef7728fb4b3233cc6313e316cd992/cor19_7/rawData/28374959-3d20-4b7e-8965-d88071af4232-persons_csv/props/PERSON_NAME\">https://data.huygens.knaw.nl/rdf/datasets/u28f4a6e30d2ef7728fb4b3233cc6313e316cd992/cor19_7/rawData/28374959-3d20-4b7e-8965-d88071af4232-persons_csv/props/PERSON_NAME</a>: 467"
      ],
      "text/plain": [
       "<IPython.core.display.HTML object>"
      ]
     },
     "metadata": {},
     "output_type": "display_data"
    },
    {
     "data": {
      "text/html": [
       "<a target=\"_blank\" href=\"https://data.huygens.knaw.nl/rdf/datasets/u28f4a6e30d2ef7728fb4b3233cc6313e316cd992/cor19_7/rawData/28374959-3d20-4b7e-8965-d88071af4232-persons_csv/props/tim_id\">https://data.huygens.knaw.nl/rdf/datasets/u28f4a6e30d2ef7728fb4b3233cc6313e316cd992/cor19_7/rawData/28374959-3d20-4b7e-8965-d88071af4232-persons_csv/props/tim_id</a>: 467"
      ],
      "text/plain": [
       "<IPython.core.display.HTML object>"
      ]
     },
     "metadata": {},
     "output_type": "display_data"
    },
    {
     "data": {
      "text/html": [
       "<a target=\"_blank\" href=\"https://data.huygens.knaw.nl/rdf/datasets/u28f4a6e30d2ef7728fb4b3233cc6313e316cd992/cor19_7/rawData/9f7ec7eb-c403-49b8-9229-8d56174e2f1d-places_csv/props/PLACE_ID\">https://data.huygens.knaw.nl/rdf/datasets/u28f4a6e30d2ef7728fb4b3233cc6313e316cd992/cor19_7/rawData/9f7ec7eb-c403-49b8-9229-8d56174e2f1d-places_csv/props/PLACE_ID</a>: 226"
      ],
      "text/plain": [
       "<IPython.core.display.HTML object>"
      ]
     },
     "metadata": {},
     "output_type": "display_data"
    },
    {
     "data": {
      "text/html": [
       "<a target=\"_blank\" href=\"https://data.huygens.knaw.nl/rdf/datasets/u28f4a6e30d2ef7728fb4b3233cc6313e316cd992/cor19_7/rawData/9f7ec7eb-c403-49b8-9229-8d56174e2f1d-places_csv/props/PLACE_NAME\">https://data.huygens.knaw.nl/rdf/datasets/u28f4a6e30d2ef7728fb4b3233cc6313e316cd992/cor19_7/rawData/9f7ec7eb-c403-49b8-9229-8d56174e2f1d-places_csv/props/PLACE_NAME</a>: 226"
      ],
      "text/plain": [
       "<IPython.core.display.HTML object>"
      ]
     },
     "metadata": {},
     "output_type": "display_data"
    },
    {
     "data": {
      "text/html": [
       "<a target=\"_blank\" href=\"https://data.huygens.knaw.nl/rdf/datasets/u28f4a6e30d2ef7728fb4b3233cc6313e316cd992/cor19_7/rawData/9f7ec7eb-c403-49b8-9229-8d56174e2f1d-places_csv/props/tim_id\">https://data.huygens.knaw.nl/rdf/datasets/u28f4a6e30d2ef7728fb4b3233cc6313e316cd992/cor19_7/rawData/9f7ec7eb-c403-49b8-9229-8d56174e2f1d-places_csv/props/tim_id</a>: 226"
      ],
      "text/plain": [
       "<IPython.core.display.HTML object>"
      ]
     },
     "metadata": {},
     "output_type": "display_data"
    },
    {
     "data": {
      "text/html": [
       "<a target=\"_blank\" href=\"https://data.huygens.knaw.nl/rdf/datasets/u28f4a6e30d2ef7728fb4b3233cc6313e316cd992/cor19_7/rawData/ba9892dd-84bd-486b-a6e8-e8e039243593-letters_csv/props/CORRESPONDENCE_ID\">https://data.huygens.knaw.nl/rdf/datasets/u28f4a6e30d2ef7728fb4b3233cc6313e316cd992/cor19_7/rawData/ba9892dd-84bd-486b-a6e8-e8e039243593-letters_csv/props/CORRESPONDENCE_ID</a>: 5512"
      ],
      "text/plain": [
       "<IPython.core.display.HTML object>"
      ]
     },
     "metadata": {},
     "output_type": "display_data"
    },
    {
     "data": {
      "text/html": [
       "<a target=\"_blank\" href=\"https://data.huygens.knaw.nl/rdf/datasets/u28f4a6e30d2ef7728fb4b3233cc6313e316cd992/cor19_7/rawData/ba9892dd-84bd-486b-a6e8-e8e039243593-letters_csv/props/DATE\">https://data.huygens.knaw.nl/rdf/datasets/u28f4a6e30d2ef7728fb4b3233cc6313e316cd992/cor19_7/rawData/ba9892dd-84bd-486b-a6e8-e8e039243593-letters_csv/props/DATE</a>: 5512"
      ],
      "text/plain": [
       "<IPython.core.display.HTML object>"
      ]
     },
     "metadata": {},
     "output_type": "display_data"
    },
    {
     "data": {
      "text/html": [
       "<a target=\"_blank\" href=\"https://data.huygens.knaw.nl/rdf/datasets/u28f4a6e30d2ef7728fb4b3233cc6313e316cd992/cor19_7/rawData/ba9892dd-84bd-486b-a6e8-e8e039243593-letters_csv/props/LETTER_ID\">https://data.huygens.knaw.nl/rdf/datasets/u28f4a6e30d2ef7728fb4b3233cc6313e316cd992/cor19_7/rawData/ba9892dd-84bd-486b-a6e8-e8e039243593-letters_csv/props/LETTER_ID</a>: 5512"
      ],
      "text/plain": [
       "<IPython.core.display.HTML object>"
      ]
     },
     "metadata": {},
     "output_type": "display_data"
    },
    {
     "data": {
      "text/html": [
       "<a target=\"_blank\" href=\"https://data.huygens.knaw.nl/rdf/datasets/u28f4a6e30d2ef7728fb4b3233cc6313e316cd992/cor19_7/rawData/ba9892dd-84bd-486b-a6e8-e8e039243593-letters_csv/props/LOCAL_ID\">https://data.huygens.knaw.nl/rdf/datasets/u28f4a6e30d2ef7728fb4b3233cc6313e316cd992/cor19_7/rawData/ba9892dd-84bd-486b-a6e8-e8e039243593-letters_csv/props/LOCAL_ID</a>: 5512"
      ],
      "text/plain": [
       "<IPython.core.display.HTML object>"
      ]
     },
     "metadata": {},
     "output_type": "display_data"
    },
    {
     "data": {
      "text/html": [
       "<a target=\"_blank\" href=\"https://data.huygens.knaw.nl/rdf/datasets/u28f4a6e30d2ef7728fb4b3233cc6313e316cd992/cor19_7/rawData/ba9892dd-84bd-486b-a6e8-e8e039243593-letters_csv/props/RECIPIENT2_ID\">https://data.huygens.knaw.nl/rdf/datasets/u28f4a6e30d2ef7728fb4b3233cc6313e316cd992/cor19_7/rawData/ba9892dd-84bd-486b-a6e8-e8e039243593-letters_csv/props/RECIPIENT2_ID</a>: 222"
      ],
      "text/plain": [
       "<IPython.core.display.HTML object>"
      ]
     },
     "metadata": {},
     "output_type": "display_data"
    },
    {
     "data": {
      "text/html": [
       "<a target=\"_blank\" href=\"https://data.huygens.knaw.nl/rdf/datasets/u28f4a6e30d2ef7728fb4b3233cc6313e316cd992/cor19_7/rawData/ba9892dd-84bd-486b-a6e8-e8e039243593-letters_csv/props/RECIPIENT3_ID\">https://data.huygens.knaw.nl/rdf/datasets/u28f4a6e30d2ef7728fb4b3233cc6313e316cd992/cor19_7/rawData/ba9892dd-84bd-486b-a6e8-e8e039243593-letters_csv/props/RECIPIENT3_ID</a>: 29"
      ],
      "text/plain": [
       "<IPython.core.display.HTML object>"
      ]
     },
     "metadata": {},
     "output_type": "display_data"
    },
    {
     "data": {
      "text/html": [
       "<a target=\"_blank\" href=\"https://data.huygens.knaw.nl/rdf/datasets/u28f4a6e30d2ef7728fb4b3233cc6313e316cd992/cor19_7/rawData/ba9892dd-84bd-486b-a6e8-e8e039243593-letters_csv/props/RECIPIENT_ID\">https://data.huygens.knaw.nl/rdf/datasets/u28f4a6e30d2ef7728fb4b3233cc6313e316cd992/cor19_7/rawData/ba9892dd-84bd-486b-a6e8-e8e039243593-letters_csv/props/RECIPIENT_ID</a>: 5512"
      ],
      "text/plain": [
       "<IPython.core.display.HTML object>"
      ]
     },
     "metadata": {},
     "output_type": "display_data"
    },
    {
     "data": {
      "text/html": [
       "<a target=\"_blank\" href=\"https://data.huygens.knaw.nl/rdf/datasets/u28f4a6e30d2ef7728fb4b3233cc6313e316cd992/cor19_7/rawData/ba9892dd-84bd-486b-a6e8-e8e039243593-letters_csv/props/RECIPIENT_LOC_ID\">https://data.huygens.knaw.nl/rdf/datasets/u28f4a6e30d2ef7728fb4b3233cc6313e316cd992/cor19_7/rawData/ba9892dd-84bd-486b-a6e8-e8e039243593-letters_csv/props/RECIPIENT_LOC_ID</a>: 5512"
      ],
      "text/plain": [
       "<IPython.core.display.HTML object>"
      ]
     },
     "metadata": {},
     "output_type": "display_data"
    },
    {
     "data": {
      "text/html": [
       "<a target=\"_blank\" href=\"https://data.huygens.knaw.nl/rdf/datasets/u28f4a6e30d2ef7728fb4b3233cc6313e316cd992/cor19_7/rawData/ba9892dd-84bd-486b-a6e8-e8e039243593-letters_csv/props/SENDER2_ID\">https://data.huygens.knaw.nl/rdf/datasets/u28f4a6e30d2ef7728fb4b3233cc6313e316cd992/cor19_7/rawData/ba9892dd-84bd-486b-a6e8-e8e039243593-letters_csv/props/SENDER2_ID</a>: 163"
      ],
      "text/plain": [
       "<IPython.core.display.HTML object>"
      ]
     },
     "metadata": {},
     "output_type": "display_data"
    },
    {
     "data": {
      "text/html": [
       "<a target=\"_blank\" href=\"https://data.huygens.knaw.nl/rdf/datasets/u28f4a6e30d2ef7728fb4b3233cc6313e316cd992/cor19_7/rawData/ba9892dd-84bd-486b-a6e8-e8e039243593-letters_csv/props/SENDER3_ID\">https://data.huygens.knaw.nl/rdf/datasets/u28f4a6e30d2ef7728fb4b3233cc6313e316cd992/cor19_7/rawData/ba9892dd-84bd-486b-a6e8-e8e039243593-letters_csv/props/SENDER3_ID</a>: 50"
      ],
      "text/plain": [
       "<IPython.core.display.HTML object>"
      ]
     },
     "metadata": {},
     "output_type": "display_data"
    },
    {
     "data": {
      "text/html": [
       "<a target=\"_blank\" href=\"https://data.huygens.knaw.nl/rdf/datasets/u28f4a6e30d2ef7728fb4b3233cc6313e316cd992/cor19_7/rawData/ba9892dd-84bd-486b-a6e8-e8e039243593-letters_csv/props/SENDER_ID\">https://data.huygens.knaw.nl/rdf/datasets/u28f4a6e30d2ef7728fb4b3233cc6313e316cd992/cor19_7/rawData/ba9892dd-84bd-486b-a6e8-e8e039243593-letters_csv/props/SENDER_ID</a>: 5512"
      ],
      "text/plain": [
       "<IPython.core.display.HTML object>"
      ]
     },
     "metadata": {},
     "output_type": "display_data"
    },
    {
     "data": {
      "text/html": [
       "<a target=\"_blank\" href=\"https://data.huygens.knaw.nl/rdf/datasets/u28f4a6e30d2ef7728fb4b3233cc6313e316cd992/cor19_7/rawData/ba9892dd-84bd-486b-a6e8-e8e039243593-letters_csv/props/SENDER_LOC_ID\">https://data.huygens.knaw.nl/rdf/datasets/u28f4a6e30d2ef7728fb4b3233cc6313e316cd992/cor19_7/rawData/ba9892dd-84bd-486b-a6e8-e8e039243593-letters_csv/props/SENDER_LOC_ID</a>: 5512"
      ],
      "text/plain": [
       "<IPython.core.display.HTML object>"
      ]
     },
     "metadata": {},
     "output_type": "display_data"
    },
    {
     "data": {
      "text/html": [
       "<a target=\"_blank\" href=\"https://data.huygens.knaw.nl/rdf/datasets/u28f4a6e30d2ef7728fb4b3233cc6313e316cd992/cor19_7/rawData/ba9892dd-84bd-486b-a6e8-e8e039243593-letters_csv/props/URL\">https://data.huygens.knaw.nl/rdf/datasets/u28f4a6e30d2ef7728fb4b3233cc6313e316cd992/cor19_7/rawData/ba9892dd-84bd-486b-a6e8-e8e039243593-letters_csv/props/URL</a>: 5512"
      ],
      "text/plain": [
       "<IPython.core.display.HTML object>"
      ]
     },
     "metadata": {},
     "output_type": "display_data"
    },
    {
     "data": {
      "text/html": [
       "<a target=\"_blank\" href=\"https://data.huygens.knaw.nl/rdf/datasets/u28f4a6e30d2ef7728fb4b3233cc6313e316cd992/cor19_7/rawData/ba9892dd-84bd-486b-a6e8-e8e039243593-letters_csv/props/tim_id\">https://data.huygens.knaw.nl/rdf/datasets/u28f4a6e30d2ef7728fb4b3233cc6313e316cd992/cor19_7/rawData/ba9892dd-84bd-486b-a6e8-e8e039243593-letters_csv/props/tim_id</a>: 5512"
      ],
      "text/plain": [
       "<IPython.core.display.HTML object>"
      ]
     },
     "metadata": {},
     "output_type": "display_data"
    },
    {
     "data": {
      "text/html": [
       "<a target=\"_blank\" href=\"https://data.huygens.knaw.nl/rdf/datasets/u28f4a6e30d2ef7728fb4b3233cc6313e316cd992/cor19_7/rawData/c0c5ccb3-c3ad-4979-a497-be09cce295e5-correspondences_csv/props/CORRESPONDENCE_ID\">https://data.huygens.knaw.nl/rdf/datasets/u28f4a6e30d2ef7728fb4b3233cc6313e316cd992/cor19_7/rawData/c0c5ccb3-c3ad-4979-a497-be09cce295e5-correspondences_csv/props/CORRESPONDENCE_ID</a>: 2"
      ],
      "text/plain": [
       "<IPython.core.display.HTML object>"
      ]
     },
     "metadata": {},
     "output_type": "display_data"
    },
    {
     "data": {
      "text/html": [
       "<a target=\"_blank\" href=\"https://data.huygens.knaw.nl/rdf/datasets/u28f4a6e30d2ef7728fb4b3233cc6313e316cd992/cor19_7/rawData/c0c5ccb3-c3ad-4979-a497-be09cce295e5-correspondences_csv/props/CORRESPONDENCE_NAME\">https://data.huygens.knaw.nl/rdf/datasets/u28f4a6e30d2ef7728fb4b3233cc6313e316cd992/cor19_7/rawData/c0c5ccb3-c3ad-4979-a497-be09cce295e5-correspondences_csv/props/CORRESPONDENCE_NAME</a>: 2"
      ],
      "text/plain": [
       "<IPython.core.display.HTML object>"
      ]
     },
     "metadata": {},
     "output_type": "display_data"
    },
    {
     "data": {
      "text/html": [
       "<a target=\"_blank\" href=\"https://data.huygens.knaw.nl/rdf/datasets/u28f4a6e30d2ef7728fb4b3233cc6313e316cd992/cor19_7/rawData/c0c5ccb3-c3ad-4979-a497-be09cce295e5-correspondences_csv/props/tim_id\">https://data.huygens.knaw.nl/rdf/datasets/u28f4a6e30d2ef7728fb4b3233cc6313e316cd992/cor19_7/rawData/c0c5ccb3-c3ad-4979-a497-be09cce295e5-correspondences_csv/props/tim_id</a>: 2"
      ],
      "text/plain": [
       "<IPython.core.display.HTML object>"
      ]
     },
     "metadata": {},
     "output_type": "display_data"
    },
    {
     "data": {
      "text/html": [
       "<h3>fingerprint</h3>"
      ],
      "text/plain": [
       "<IPython.core.display.HTML object>"
      ]
     },
     "metadata": {},
     "output_type": "display_data"
    },
    {
     "data": {
      "text/html": [
       "<a target=\"_blank\" href=\"https://repository.huygens.knaw.nl/v5/resourcesync/u28f4a6e30d2ef7728fb4b3233cc6313e316cd992/cor19_8/dataset.nq\">https://repository.huygens.knaw.nl/v5/resourcesync/u28f4a6e30d2ef7728fb4b3233cc6313e316cd992/cor19_8/dataset.nq</a>"
      ],
      "text/plain": [
       "<IPython.core.display.HTML object>"
      ]
     },
     "metadata": {},
     "output_type": "display_data"
    },
    {
     "name": "stdout",
     "output_type": "stream",
     "text": [
      "contexts  :            1\n",
      "statements:      162.795\n",
      "literals  :       81.169\n",
      "literal ratio:    0,50\n",
      "\n",
      "subject netlocs: 2 {'data.huygens.knaw.nl': 82706, 'timbuctoo.huygens.knaw.nl': 80089}\n",
      "object netlocs: 2 {'timbuctoo.huygens.knaw.nl': 56651, 'data.huygens.knaw.nl': 24975}\n",
      "\n",
      "example.org | s 0 | p 0 | o 0 | total 0\n",
      "\n",
      "predicate netlocs: 3 | {'data.huygens.knaw.nl': 57669, 'timbuctoo.huygens.knaw.nl': 73978, 'www.w3.org': 31148}\n",
      "predicates: 43\n",
      "http://timbuctoo.huygens.knaw.nl/properties/CORRESPONDENCE_ID: 2\n",
      "http://timbuctoo.huygens.knaw.nl/properties/Correspondence: 11024\n",
      "http://timbuctoo.huygens.knaw.nl/properties/Date: 5512\n",
      "http://timbuctoo.huygens.knaw.nl/properties/LETTER_ID: 5512\n",
      "http://timbuctoo.huygens.knaw.nl/properties/PERSON_ID: 467\n",
      "http://timbuctoo.huygens.knaw.nl/properties/PLACE_ID: 226\n",
      "http://timbuctoo.huygens.knaw.nl/properties/PergamonURL: 5512\n",
      "http://timbuctoo.huygens.knaw.nl/properties/Recipient: 11494\n",
      "http://timbuctoo.huygens.knaw.nl/properties/Sender: 11444\n",
      "http://timbuctoo.huygens.knaw.nl/properties/SenderLocation: 10244\n",
      "http://timbuctoo.huygens.knaw.nl/static/v5/vocabulary#hasCollection: 8\n",
      "http://timbuctoo.huygens.knaw.nl/static/v5/vocabulary#hasProperty: 46\n",
      "http://timbuctoo.huygens.knaw.nl/static/v5/vocabulary#mimetype: 4\n",
      "http://timbuctoo.huygens.knaw.nl/static/v5/vocabulary#next: 46\n",
      "http://timbuctoo.huygens.knaw.nl/static/v5/vocabulary#propertyId: 23\n",
      "http://timbuctoo.huygens.knaw.nl/static/v5/vocabulary#timhasrow: 12414\n"
     ]
    },
    {
     "data": {
      "text/html": [
       "<a target=\"_blank\" href=\"http://www.w3.org/1999/02/22-rdf-syntax-ns#type\">http://www.w3.org/1999/02/22-rdf-syntax-ns#type</a>: 24898"
      ],
      "text/plain": [
       "<IPython.core.display.HTML object>"
      ]
     },
     "metadata": {},
     "output_type": "display_data"
    },
    {
     "data": {
      "text/html": [
       "<a target=\"_blank\" href=\"http://www.w3.org/2000/01/rdf-schema#label\">http://www.w3.org/2000/01/rdf-schema#label</a>: 6238"
      ],
      "text/plain": [
       "<IPython.core.display.HTML object>"
      ]
     },
     "metadata": {},
     "output_type": "display_data"
    },
    {
     "data": {
      "text/html": [
       "<a target=\"_blank\" href=\"http://www.w3.org/ns/prov#atTime\">http://www.w3.org/ns/prov#atTime</a>: 4"
      ],
      "text/plain": [
       "<IPython.core.display.HTML object>"
      ]
     },
     "metadata": {},
     "output_type": "display_data"
    },
    {
     "data": {
      "text/html": [
       "<a target=\"_blank\" href=\"http://www.w3.org/ns/prov#wasDerivedFrom\">http://www.w3.org/ns/prov#wasDerivedFrom</a>: 8"
      ],
      "text/plain": [
       "<IPython.core.display.HTML object>"
      ]
     },
     "metadata": {},
     "output_type": "display_data"
    },
    {
     "data": {
      "text/html": [
       "<a target=\"_blank\" href=\"https://data.huygens.knaw.nl/rdf/datasets/u28f4a6e30d2ef7728fb4b3233cc6313e316cd992/cor19_8/rawData/4fe1cf02-0826-495c-a50f-26e9b93ae303-letters_csv/props/CORRESPONDENCE_ID\">https://data.huygens.knaw.nl/rdf/datasets/u28f4a6e30d2ef7728fb4b3233cc6313e316cd992/cor19_8/rawData/4fe1cf02-0826-495c-a50f-26e9b93ae303-letters_csv/props/CORRESPONDENCE_ID</a>: 5512"
      ],
      "text/plain": [
       "<IPython.core.display.HTML object>"
      ]
     },
     "metadata": {},
     "output_type": "display_data"
    },
    {
     "data": {
      "text/html": [
       "<a target=\"_blank\" href=\"https://data.huygens.knaw.nl/rdf/datasets/u28f4a6e30d2ef7728fb4b3233cc6313e316cd992/cor19_8/rawData/4fe1cf02-0826-495c-a50f-26e9b93ae303-letters_csv/props/DATE\">https://data.huygens.knaw.nl/rdf/datasets/u28f4a6e30d2ef7728fb4b3233cc6313e316cd992/cor19_8/rawData/4fe1cf02-0826-495c-a50f-26e9b93ae303-letters_csv/props/DATE</a>: 5512"
      ],
      "text/plain": [
       "<IPython.core.display.HTML object>"
      ]
     },
     "metadata": {},
     "output_type": "display_data"
    },
    {
     "data": {
      "text/html": [
       "<a target=\"_blank\" href=\"https://data.huygens.knaw.nl/rdf/datasets/u28f4a6e30d2ef7728fb4b3233cc6313e316cd992/cor19_8/rawData/4fe1cf02-0826-495c-a50f-26e9b93ae303-letters_csv/props/LETTER_ID\">https://data.huygens.knaw.nl/rdf/datasets/u28f4a6e30d2ef7728fb4b3233cc6313e316cd992/cor19_8/rawData/4fe1cf02-0826-495c-a50f-26e9b93ae303-letters_csv/props/LETTER_ID</a>: 5512"
      ],
      "text/plain": [
       "<IPython.core.display.HTML object>"
      ]
     },
     "metadata": {},
     "output_type": "display_data"
    },
    {
     "data": {
      "text/html": [
       "<a target=\"_blank\" href=\"https://data.huygens.knaw.nl/rdf/datasets/u28f4a6e30d2ef7728fb4b3233cc6313e316cd992/cor19_8/rawData/4fe1cf02-0826-495c-a50f-26e9b93ae303-letters_csv/props/LOCAL_ID\">https://data.huygens.knaw.nl/rdf/datasets/u28f4a6e30d2ef7728fb4b3233cc6313e316cd992/cor19_8/rawData/4fe1cf02-0826-495c-a50f-26e9b93ae303-letters_csv/props/LOCAL_ID</a>: 5512"
      ],
      "text/plain": [
       "<IPython.core.display.HTML object>"
      ]
     },
     "metadata": {},
     "output_type": "display_data"
    },
    {
     "data": {
      "text/html": [
       "<a target=\"_blank\" href=\"https://data.huygens.knaw.nl/rdf/datasets/u28f4a6e30d2ef7728fb4b3233cc6313e316cd992/cor19_8/rawData/4fe1cf02-0826-495c-a50f-26e9b93ae303-letters_csv/props/RECIPIENT2_ID\">https://data.huygens.knaw.nl/rdf/datasets/u28f4a6e30d2ef7728fb4b3233cc6313e316cd992/cor19_8/rawData/4fe1cf02-0826-495c-a50f-26e9b93ae303-letters_csv/props/RECIPIENT2_ID</a>: 222"
      ],
      "text/plain": [
       "<IPython.core.display.HTML object>"
      ]
     },
     "metadata": {},
     "output_type": "display_data"
    },
    {
     "data": {
      "text/html": [
       "<a target=\"_blank\" href=\"https://data.huygens.knaw.nl/rdf/datasets/u28f4a6e30d2ef7728fb4b3233cc6313e316cd992/cor19_8/rawData/4fe1cf02-0826-495c-a50f-26e9b93ae303-letters_csv/props/RECIPIENT3_ID\">https://data.huygens.knaw.nl/rdf/datasets/u28f4a6e30d2ef7728fb4b3233cc6313e316cd992/cor19_8/rawData/4fe1cf02-0826-495c-a50f-26e9b93ae303-letters_csv/props/RECIPIENT3_ID</a>: 29"
      ],
      "text/plain": [
       "<IPython.core.display.HTML object>"
      ]
     },
     "metadata": {},
     "output_type": "display_data"
    },
    {
     "data": {
      "text/html": [
       "<a target=\"_blank\" href=\"https://data.huygens.knaw.nl/rdf/datasets/u28f4a6e30d2ef7728fb4b3233cc6313e316cd992/cor19_8/rawData/4fe1cf02-0826-495c-a50f-26e9b93ae303-letters_csv/props/RECIPIENT_ID\">https://data.huygens.knaw.nl/rdf/datasets/u28f4a6e30d2ef7728fb4b3233cc6313e316cd992/cor19_8/rawData/4fe1cf02-0826-495c-a50f-26e9b93ae303-letters_csv/props/RECIPIENT_ID</a>: 5512"
      ],
      "text/plain": [
       "<IPython.core.display.HTML object>"
      ]
     },
     "metadata": {},
     "output_type": "display_data"
    },
    {
     "data": {
      "text/html": [
       "<a target=\"_blank\" href=\"https://data.huygens.knaw.nl/rdf/datasets/u28f4a6e30d2ef7728fb4b3233cc6313e316cd992/cor19_8/rawData/4fe1cf02-0826-495c-a50f-26e9b93ae303-letters_csv/props/RECIPIENT_LOC_ID\">https://data.huygens.knaw.nl/rdf/datasets/u28f4a6e30d2ef7728fb4b3233cc6313e316cd992/cor19_8/rawData/4fe1cf02-0826-495c-a50f-26e9b93ae303-letters_csv/props/RECIPIENT_LOC_ID</a>: 5512"
      ],
      "text/plain": [
       "<IPython.core.display.HTML object>"
      ]
     },
     "metadata": {},
     "output_type": "display_data"
    },
    {
     "data": {
      "text/html": [
       "<a target=\"_blank\" href=\"https://data.huygens.knaw.nl/rdf/datasets/u28f4a6e30d2ef7728fb4b3233cc6313e316cd992/cor19_8/rawData/4fe1cf02-0826-495c-a50f-26e9b93ae303-letters_csv/props/SENDER2_ID\">https://data.huygens.knaw.nl/rdf/datasets/u28f4a6e30d2ef7728fb4b3233cc6313e316cd992/cor19_8/rawData/4fe1cf02-0826-495c-a50f-26e9b93ae303-letters_csv/props/SENDER2_ID</a>: 163"
      ],
      "text/plain": [
       "<IPython.core.display.HTML object>"
      ]
     },
     "metadata": {},
     "output_type": "display_data"
    },
    {
     "data": {
      "text/html": [
       "<a target=\"_blank\" href=\"https://data.huygens.knaw.nl/rdf/datasets/u28f4a6e30d2ef7728fb4b3233cc6313e316cd992/cor19_8/rawData/4fe1cf02-0826-495c-a50f-26e9b93ae303-letters_csv/props/SENDER3_ID\">https://data.huygens.knaw.nl/rdf/datasets/u28f4a6e30d2ef7728fb4b3233cc6313e316cd992/cor19_8/rawData/4fe1cf02-0826-495c-a50f-26e9b93ae303-letters_csv/props/SENDER3_ID</a>: 50"
      ],
      "text/plain": [
       "<IPython.core.display.HTML object>"
      ]
     },
     "metadata": {},
     "output_type": "display_data"
    },
    {
     "data": {
      "text/html": [
       "<a target=\"_blank\" href=\"https://data.huygens.knaw.nl/rdf/datasets/u28f4a6e30d2ef7728fb4b3233cc6313e316cd992/cor19_8/rawData/4fe1cf02-0826-495c-a50f-26e9b93ae303-letters_csv/props/SENDER_ID\">https://data.huygens.knaw.nl/rdf/datasets/u28f4a6e30d2ef7728fb4b3233cc6313e316cd992/cor19_8/rawData/4fe1cf02-0826-495c-a50f-26e9b93ae303-letters_csv/props/SENDER_ID</a>: 5512"
      ],
      "text/plain": [
       "<IPython.core.display.HTML object>"
      ]
     },
     "metadata": {},
     "output_type": "display_data"
    },
    {
     "data": {
      "text/html": [
       "<a target=\"_blank\" href=\"https://data.huygens.knaw.nl/rdf/datasets/u28f4a6e30d2ef7728fb4b3233cc6313e316cd992/cor19_8/rawData/4fe1cf02-0826-495c-a50f-26e9b93ae303-letters_csv/props/SENDER_LOC_ID\">https://data.huygens.knaw.nl/rdf/datasets/u28f4a6e30d2ef7728fb4b3233cc6313e316cd992/cor19_8/rawData/4fe1cf02-0826-495c-a50f-26e9b93ae303-letters_csv/props/SENDER_LOC_ID</a>: 5512"
      ],
      "text/plain": [
       "<IPython.core.display.HTML object>"
      ]
     },
     "metadata": {},
     "output_type": "display_data"
    },
    {
     "data": {
      "text/html": [
       "<a target=\"_blank\" href=\"https://data.huygens.knaw.nl/rdf/datasets/u28f4a6e30d2ef7728fb4b3233cc6313e316cd992/cor19_8/rawData/4fe1cf02-0826-495c-a50f-26e9b93ae303-letters_csv/props/URL\">https://data.huygens.knaw.nl/rdf/datasets/u28f4a6e30d2ef7728fb4b3233cc6313e316cd992/cor19_8/rawData/4fe1cf02-0826-495c-a50f-26e9b93ae303-letters_csv/props/URL</a>: 5512"
      ],
      "text/plain": [
       "<IPython.core.display.HTML object>"
      ]
     },
     "metadata": {},
     "output_type": "display_data"
    },
    {
     "data": {
      "text/html": [
       "<a target=\"_blank\" href=\"https://data.huygens.knaw.nl/rdf/datasets/u28f4a6e30d2ef7728fb4b3233cc6313e316cd992/cor19_8/rawData/4fe1cf02-0826-495c-a50f-26e9b93ae303-letters_csv/props/tim_id\">https://data.huygens.knaw.nl/rdf/datasets/u28f4a6e30d2ef7728fb4b3233cc6313e316cd992/cor19_8/rawData/4fe1cf02-0826-495c-a50f-26e9b93ae303-letters_csv/props/tim_id</a>: 5512"
      ],
      "text/plain": [
       "<IPython.core.display.HTML object>"
      ]
     },
     "metadata": {},
     "output_type": "display_data"
    },
    {
     "data": {
      "text/html": [
       "<a target=\"_blank\" href=\"https://data.huygens.knaw.nl/rdf/datasets/u28f4a6e30d2ef7728fb4b3233cc6313e316cd992/cor19_8/rawData/969f20a0-7b3f-4feb-8448-496e7acaf0c5-places_csv/props/PLACE_ID\">https://data.huygens.knaw.nl/rdf/datasets/u28f4a6e30d2ef7728fb4b3233cc6313e316cd992/cor19_8/rawData/969f20a0-7b3f-4feb-8448-496e7acaf0c5-places_csv/props/PLACE_ID</a>: 226"
      ],
      "text/plain": [
       "<IPython.core.display.HTML object>"
      ]
     },
     "metadata": {},
     "output_type": "display_data"
    },
    {
     "data": {
      "text/html": [
       "<a target=\"_blank\" href=\"https://data.huygens.knaw.nl/rdf/datasets/u28f4a6e30d2ef7728fb4b3233cc6313e316cd992/cor19_8/rawData/969f20a0-7b3f-4feb-8448-496e7acaf0c5-places_csv/props/PLACE_NAME\">https://data.huygens.knaw.nl/rdf/datasets/u28f4a6e30d2ef7728fb4b3233cc6313e316cd992/cor19_8/rawData/969f20a0-7b3f-4feb-8448-496e7acaf0c5-places_csv/props/PLACE_NAME</a>: 226"
      ],
      "text/plain": [
       "<IPython.core.display.HTML object>"
      ]
     },
     "metadata": {},
     "output_type": "display_data"
    },
    {
     "data": {
      "text/html": [
       "<a target=\"_blank\" href=\"https://data.huygens.knaw.nl/rdf/datasets/u28f4a6e30d2ef7728fb4b3233cc6313e316cd992/cor19_8/rawData/969f20a0-7b3f-4feb-8448-496e7acaf0c5-places_csv/props/tim_id\">https://data.huygens.knaw.nl/rdf/datasets/u28f4a6e30d2ef7728fb4b3233cc6313e316cd992/cor19_8/rawData/969f20a0-7b3f-4feb-8448-496e7acaf0c5-places_csv/props/tim_id</a>: 226"
      ],
      "text/plain": [
       "<IPython.core.display.HTML object>"
      ]
     },
     "metadata": {},
     "output_type": "display_data"
    },
    {
     "data": {
      "text/html": [
       "<a target=\"_blank\" href=\"https://data.huygens.knaw.nl/rdf/datasets/u28f4a6e30d2ef7728fb4b3233cc6313e316cd992/cor19_8/rawData/e47dd0c5-b995-42a4-9b62-26f519fd503a-correspondences_csv/props/CORRESPONDENCE_ID\">https://data.huygens.knaw.nl/rdf/datasets/u28f4a6e30d2ef7728fb4b3233cc6313e316cd992/cor19_8/rawData/e47dd0c5-b995-42a4-9b62-26f519fd503a-correspondences_csv/props/CORRESPONDENCE_ID</a>: 2"
      ],
      "text/plain": [
       "<IPython.core.display.HTML object>"
      ]
     },
     "metadata": {},
     "output_type": "display_data"
    },
    {
     "data": {
      "text/html": [
       "<a target=\"_blank\" href=\"https://data.huygens.knaw.nl/rdf/datasets/u28f4a6e30d2ef7728fb4b3233cc6313e316cd992/cor19_8/rawData/e47dd0c5-b995-42a4-9b62-26f519fd503a-correspondences_csv/props/CORRESPONDENCE_NAME\">https://data.huygens.knaw.nl/rdf/datasets/u28f4a6e30d2ef7728fb4b3233cc6313e316cd992/cor19_8/rawData/e47dd0c5-b995-42a4-9b62-26f519fd503a-correspondences_csv/props/CORRESPONDENCE_NAME</a>: 2"
      ],
      "text/plain": [
       "<IPython.core.display.HTML object>"
      ]
     },
     "metadata": {},
     "output_type": "display_data"
    },
    {
     "data": {
      "text/html": [
       "<a target=\"_blank\" href=\"https://data.huygens.knaw.nl/rdf/datasets/u28f4a6e30d2ef7728fb4b3233cc6313e316cd992/cor19_8/rawData/e47dd0c5-b995-42a4-9b62-26f519fd503a-correspondences_csv/props/tim_id\">https://data.huygens.knaw.nl/rdf/datasets/u28f4a6e30d2ef7728fb4b3233cc6313e316cd992/cor19_8/rawData/e47dd0c5-b995-42a4-9b62-26f519fd503a-correspondences_csv/props/tim_id</a>: 2"
      ],
      "text/plain": [
       "<IPython.core.display.HTML object>"
      ]
     },
     "metadata": {},
     "output_type": "display_data"
    },
    {
     "data": {
      "text/html": [
       "<a target=\"_blank\" href=\"https://data.huygens.knaw.nl/rdf/datasets/u28f4a6e30d2ef7728fb4b3233cc6313e316cd992/cor19_8/rawData/fb4bcdfc-0f9f-4845-8185-0abb2e6f9d89-persons_csv/props/PERSON_ID\">https://data.huygens.knaw.nl/rdf/datasets/u28f4a6e30d2ef7728fb4b3233cc6313e316cd992/cor19_8/rawData/fb4bcdfc-0f9f-4845-8185-0abb2e6f9d89-persons_csv/props/PERSON_ID</a>: 467"
      ],
      "text/plain": [
       "<IPython.core.display.HTML object>"
      ]
     },
     "metadata": {},
     "output_type": "display_data"
    },
    {
     "data": {
      "text/html": [
       "<a target=\"_blank\" href=\"https://data.huygens.knaw.nl/rdf/datasets/u28f4a6e30d2ef7728fb4b3233cc6313e316cd992/cor19_8/rawData/fb4bcdfc-0f9f-4845-8185-0abb2e6f9d89-persons_csv/props/PERSON_NAME\">https://data.huygens.knaw.nl/rdf/datasets/u28f4a6e30d2ef7728fb4b3233cc6313e316cd992/cor19_8/rawData/fb4bcdfc-0f9f-4845-8185-0abb2e6f9d89-persons_csv/props/PERSON_NAME</a>: 467"
      ],
      "text/plain": [
       "<IPython.core.display.HTML object>"
      ]
     },
     "metadata": {},
     "output_type": "display_data"
    },
    {
     "data": {
      "text/html": [
       "<a target=\"_blank\" href=\"https://data.huygens.knaw.nl/rdf/datasets/u28f4a6e30d2ef7728fb4b3233cc6313e316cd992/cor19_8/rawData/fb4bcdfc-0f9f-4845-8185-0abb2e6f9d89-persons_csv/props/tim_id\">https://data.huygens.knaw.nl/rdf/datasets/u28f4a6e30d2ef7728fb4b3233cc6313e316cd992/cor19_8/rawData/fb4bcdfc-0f9f-4845-8185-0abb2e6f9d89-persons_csv/props/tim_id</a>: 467"
      ],
      "text/plain": [
       "<IPython.core.display.HTML object>"
      ]
     },
     "metadata": {},
     "output_type": "display_data"
    },
    {
     "data": {
      "text/html": [
       "<h3>fingerprint</h3>"
      ],
      "text/plain": [
       "<IPython.core.display.HTML object>"
      ]
     },
     "metadata": {},
     "output_type": "display_data"
    },
    {
     "data": {
      "text/html": [
       "<a target=\"_blank\" href=\"https://repository.huygens.knaw.nl/v5/resourcesync/u28f4a6e30d2ef7728fb4b3233cc6313e316cd992/ckcc_a/dataset.nq\">https://repository.huygens.knaw.nl/v5/resourcesync/u28f4a6e30d2ef7728fb4b3233cc6313e316cd992/ckcc_a/dataset.nq</a>"
      ],
      "text/plain": [
       "<IPython.core.display.HTML object>"
      ]
     },
     "metadata": {},
     "output_type": "display_data"
    },
    {
     "name": "stdout",
     "output_type": "stream",
     "text": [
      "contexts  :            1\n",
      "statements:      815.378\n",
      "literals  :      469.454\n",
      "literal ratio:    0,58\n",
      "\n",
      "subject netlocs: 2 {'data.huygens.knaw.nl': 413950, 'timbuctoo.huygens.knaw.nl': 401428}\n",
      "object netlocs: 2 {'data.huygens.knaw.nl': 114431, 'timbuctoo.huygens.knaw.nl': 231493}\n",
      "\n",
      "example.org | s 0 | p 0 | o 0 | total 0\n",
      "\n",
      "predicate netlocs: 3 | {'timbuctoo.huygens.knaw.nl': 402113, 'www.w3.org': 113884, 'data.huygens.knaw.nl': 299381}\n",
      "predicates: 111\n",
      "http://timbuctoo.huygens.knaw.nl/properties/BirthDate: 4374\n",
      "http://timbuctoo.huygens.knaw.nl/properties/BirthPlace: 2408\n",
      "http://timbuctoo.huygens.knaw.nl/properties/BirthPlaceName: 1204\n",
      "http://timbuctoo.huygens.knaw.nl/properties/Bloc: 17\n",
      "http://timbuctoo.huygens.knaw.nl/properties/CEN_NAME: 729\n",
      "http://timbuctoo.huygens.knaw.nl/properties/CEN_PPN: 556\n",
      "http://timbuctoo.huygens.knaw.nl/properties/Child: 332\n",
      "http://timbuctoo.huygens.knaw.nl/properties/Correspondence: 22104\n",
      "http://timbuctoo.huygens.knaw.nl/properties/Country: 1807\n",
      "http://timbuctoo.huygens.knaw.nl/properties/CountryCode: 1806\n",
      "http://timbuctoo.huygens.knaw.nl/properties/Date: 22104\n",
      "http://timbuctoo.huygens.knaw.nl/properties/DeathDate: 4374\n",
      "http://timbuctoo.huygens.knaw.nl/properties/DeathPlace: 1522\n",
      "http://timbuctoo.huygens.knaw.nl/properties/DeathPlaceName: 761\n",
      "http://timbuctoo.huygens.knaw.nl/properties/District: 63\n",
      "http://timbuctoo.huygens.knaw.nl/properties/FloruitHi: 812\n",
      "http://timbuctoo.huygens.knaw.nl/properties/FloruitLo: 812\n",
      "http://timbuctoo.huygens.knaw.nl/properties/Forename: 4067\n",
      "http://timbuctoo.huygens.knaw.nl/properties/GenderCode: 4374\n",
      "http://timbuctoo.huygens.knaw.nl/properties/GenderName: 4374\n",
      "http://timbuctoo.huygens.knaw.nl/properties/LETTER_ID: 22104\n",
      "http://timbuctoo.huygens.knaw.nl/properties/Latitude: 1824\n",
      "http://timbuctoo.huygens.knaw.nl/properties/LocalID: 22104\n",
      "http://timbuctoo.huygens.knaw.nl/properties/Longitude: 1824\n",
      "http://timbuctoo.huygens.knaw.nl/properties/NOTES: 114\n",
      "http://timbuctoo.huygens.knaw.nl/properties/Name: 4374\n",
      "http://timbuctoo.huygens.knaw.nl/properties/NameInfix: 1522\n",
      "http://timbuctoo.huygens.knaw.nl/properties/NamePostfix: 548\n",
      "http://timbuctoo.huygens.knaw.nl/properties/NamePrefix: 124\n",
      "http://timbuctoo.huygens.knaw.nl/properties/ORIGIN: 4374\n",
      "http://timbuctoo.huygens.knaw.nl/properties/PERSON_ID: 4374\n",
      "http://timbuctoo.huygens.knaw.nl/properties/PLACE_ID: 1824\n",
      "http://timbuctoo.huygens.knaw.nl/properties/PergamonURL: 22104\n",
      "http://timbuctoo.huygens.knaw.nl/properties/PlaceName: 1824\n",
      "http://timbuctoo.huygens.knaw.nl/properties/Recipient: 43914\n",
      "http://timbuctoo.huygens.knaw.nl/properties/RecipientLocation: 39506\n",
      "http://timbuctoo.huygens.knaw.nl/properties/Region: 856\n",
      "http://timbuctoo.huygens.knaw.nl/properties/Sender: 44034\n",
      "http://timbuctoo.huygens.knaw.nl/properties/SenderLocation: 42992\n",
      "http://timbuctoo.huygens.knaw.nl/properties/Settlement: 1427\n",
      "http://timbuctoo.huygens.knaw.nl/properties/Spouse: 112\n",
      "http://timbuctoo.huygens.knaw.nl/properties/Surname: 4276\n",
      "http://timbuctoo.huygens.knaw.nl/static/v5/vocabulary#hasCollection: 10\n",
      "http://timbuctoo.huygens.knaw.nl/static/v5/vocabulary#hasProperty: 118\n",
      "http://timbuctoo.huygens.knaw.nl/static/v5/vocabulary#mimetype: 5\n",
      "http://timbuctoo.huygens.knaw.nl/static/v5/vocabulary#next: 118\n",
      "http://timbuctoo.huygens.knaw.nl/static/v5/vocabulary#propertyId: 59\n",
      "http://timbuctoo.huygens.knaw.nl/static/v5/vocabulary#timhasrow: 57048\n"
     ]
    },
    {
     "data": {
      "text/html": [
       "<a target=\"_blank\" href=\"http://www.w3.org/1999/02/22-rdf-syntax-ns#type\">http://www.w3.org/1999/02/22-rdf-syntax-ns#type</a>: 113800"
      ],
      "text/plain": [
       "<IPython.core.display.HTML object>"
      ]
     },
     "metadata": {},
     "output_type": "display_data"
    },
    {
     "data": {
      "text/html": [
       "<a target=\"_blank\" href=\"http://www.w3.org/2000/01/rdf-schema#label\">http://www.w3.org/2000/01/rdf-schema#label</a>: 69"
      ],
      "text/plain": [
       "<IPython.core.display.HTML object>"
      ]
     },
     "metadata": {},
     "output_type": "display_data"
    },
    {
     "data": {
      "text/html": [
       "<a target=\"_blank\" href=\"http://www.w3.org/ns/prov#atTime\">http://www.w3.org/ns/prov#atTime</a>: 5"
      ],
      "text/plain": [
       "<IPython.core.display.HTML object>"
      ]
     },
     "metadata": {},
     "output_type": "display_data"
    },
    {
     "data": {
      "text/html": [
       "<a target=\"_blank\" href=\"http://www.w3.org/ns/prov#wasDerivedFrom\">http://www.w3.org/ns/prov#wasDerivedFrom</a>: 10"
      ],
      "text/plain": [
       "<IPython.core.display.HTML object>"
      ]
     },
     "metadata": {},
     "output_type": "display_data"
    },
    {
     "data": {
      "text/html": [
       "<a target=\"_blank\" href=\"https://data.huygens.knaw.nl/rdf/datasets/u28f4a6e30d2ef7728fb4b3233cc6313e316cd992/ckcc_a/rawData/a28526f3-724b-46cc-bf97-0f33f8641900-offspring_relations_csv/props/CHILD_ID\">https://data.huygens.knaw.nl/rdf/datasets/u28f4a6e30d2ef7728fb4b3233cc6313e316cd992/ckcc_a/rawData/a28526f3-724b-46cc-bf97-0f33f8641900-offspring_relations_csv/props/CHILD_ID</a>: 166"
      ],
      "text/plain": [
       "<IPython.core.display.HTML object>"
      ]
     },
     "metadata": {},
     "output_type": "display_data"
    },
    {
     "data": {
      "text/html": [
       "<a target=\"_blank\" href=\"https://data.huygens.knaw.nl/rdf/datasets/u28f4a6e30d2ef7728fb4b3233cc6313e316cd992/ckcc_a/rawData/a28526f3-724b-46cc-bf97-0f33f8641900-offspring_relations_csv/props/PARENT_ID\">https://data.huygens.knaw.nl/rdf/datasets/u28f4a6e30d2ef7728fb4b3233cc6313e316cd992/ckcc_a/rawData/a28526f3-724b-46cc-bf97-0f33f8641900-offspring_relations_csv/props/PARENT_ID</a>: 166"
      ],
      "text/plain": [
       "<IPython.core.display.HTML object>"
      ]
     },
     "metadata": {},
     "output_type": "display_data"
    },
    {
     "data": {
      "text/html": [
       "<a target=\"_blank\" href=\"https://data.huygens.knaw.nl/rdf/datasets/u28f4a6e30d2ef7728fb4b3233cc6313e316cd992/ckcc_a/rawData/a28526f3-724b-46cc-bf97-0f33f8641900-offspring_relations_csv/props/tim_id\">https://data.huygens.knaw.nl/rdf/datasets/u28f4a6e30d2ef7728fb4b3233cc6313e316cd992/ckcc_a/rawData/a28526f3-724b-46cc-bf97-0f33f8641900-offspring_relations_csv/props/tim_id</a>: 166"
      ],
      "text/plain": [
       "<IPython.core.display.HTML object>"
      ]
     },
     "metadata": {},
     "output_type": "display_data"
    },
    {
     "data": {
      "text/html": [
       "<a target=\"_blank\" href=\"https://data.huygens.knaw.nl/rdf/datasets/u28f4a6e30d2ef7728fb4b3233cc6313e316cd992/ckcc_a/rawData/bd6430b1-d1bc-4693-8d13-7d67837a2c42-persons_csv/props/BIRTH_DATE\">https://data.huygens.knaw.nl/rdf/datasets/u28f4a6e30d2ef7728fb4b3233cc6313e316cd992/ckcc_a/rawData/bd6430b1-d1bc-4693-8d13-7d67837a2c42-persons_csv/props/BIRTH_DATE</a>: 4374"
      ],
      "text/plain": [
       "<IPython.core.display.HTML object>"
      ]
     },
     "metadata": {},
     "output_type": "display_data"
    },
    {
     "data": {
      "text/html": [
       "<a target=\"_blank\" href=\"https://data.huygens.knaw.nl/rdf/datasets/u28f4a6e30d2ef7728fb4b3233cc6313e316cd992/ckcc_a/rawData/bd6430b1-d1bc-4693-8d13-7d67837a2c42-persons_csv/props/BIRTH_PLACE_ID\">https://data.huygens.knaw.nl/rdf/datasets/u28f4a6e30d2ef7728fb4b3233cc6313e316cd992/ckcc_a/rawData/bd6430b1-d1bc-4693-8d13-7d67837a2c42-persons_csv/props/BIRTH_PLACE_ID</a>: 4374"
      ],
      "text/plain": [
       "<IPython.core.display.HTML object>"
      ]
     },
     "metadata": {},
     "output_type": "display_data"
    },
    {
     "data": {
      "text/html": [
       "<a target=\"_blank\" href=\"https://data.huygens.knaw.nl/rdf/datasets/u28f4a6e30d2ef7728fb4b3233cc6313e316cd992/ckcc_a/rawData/bd6430b1-d1bc-4693-8d13-7d67837a2c42-persons_csv/props/BIRTH_PLACE_NAME\">https://data.huygens.knaw.nl/rdf/datasets/u28f4a6e30d2ef7728fb4b3233cc6313e316cd992/ckcc_a/rawData/bd6430b1-d1bc-4693-8d13-7d67837a2c42-persons_csv/props/BIRTH_PLACE_NAME</a>: 1204"
      ],
      "text/plain": [
       "<IPython.core.display.HTML object>"
      ]
     },
     "metadata": {},
     "output_type": "display_data"
    },
    {
     "data": {
      "text/html": [
       "<a target=\"_blank\" href=\"https://data.huygens.knaw.nl/rdf/datasets/u28f4a6e30d2ef7728fb4b3233cc6313e316cd992/ckcc_a/rawData/bd6430b1-d1bc-4693-8d13-7d67837a2c42-persons_csv/props/CEN_NAME\">https://data.huygens.knaw.nl/rdf/datasets/u28f4a6e30d2ef7728fb4b3233cc6313e316cd992/ckcc_a/rawData/bd6430b1-d1bc-4693-8d13-7d67837a2c42-persons_csv/props/CEN_NAME</a>: 729"
      ],
      "text/plain": [
       "<IPython.core.display.HTML object>"
      ]
     },
     "metadata": {},
     "output_type": "display_data"
    },
    {
     "data": {
      "text/html": [
       "<a target=\"_blank\" href=\"https://data.huygens.knaw.nl/rdf/datasets/u28f4a6e30d2ef7728fb4b3233cc6313e316cd992/ckcc_a/rawData/bd6430b1-d1bc-4693-8d13-7d67837a2c42-persons_csv/props/CEN_PPN\">https://data.huygens.knaw.nl/rdf/datasets/u28f4a6e30d2ef7728fb4b3233cc6313e316cd992/ckcc_a/rawData/bd6430b1-d1bc-4693-8d13-7d67837a2c42-persons_csv/props/CEN_PPN</a>: 556"
      ],
      "text/plain": [
       "<IPython.core.display.HTML object>"
      ]
     },
     "metadata": {},
     "output_type": "display_data"
    },
    {
     "data": {
      "text/html": [
       "<a target=\"_blank\" href=\"https://data.huygens.knaw.nl/rdf/datasets/u28f4a6e30d2ef7728fb4b3233cc6313e316cd992/ckcc_a/rawData/bd6430b1-d1bc-4693-8d13-7d67837a2c42-persons_csv/props/DEATH_DATE\">https://data.huygens.knaw.nl/rdf/datasets/u28f4a6e30d2ef7728fb4b3233cc6313e316cd992/ckcc_a/rawData/bd6430b1-d1bc-4693-8d13-7d67837a2c42-persons_csv/props/DEATH_DATE</a>: 4374"
      ],
      "text/plain": [
       "<IPython.core.display.HTML object>"
      ]
     },
     "metadata": {},
     "output_type": "display_data"
    },
    {
     "data": {
      "text/html": [
       "<a target=\"_blank\" href=\"https://data.huygens.knaw.nl/rdf/datasets/u28f4a6e30d2ef7728fb4b3233cc6313e316cd992/ckcc_a/rawData/bd6430b1-d1bc-4693-8d13-7d67837a2c42-persons_csv/props/DEATH_PLACE_ID\">https://data.huygens.knaw.nl/rdf/datasets/u28f4a6e30d2ef7728fb4b3233cc6313e316cd992/ckcc_a/rawData/bd6430b1-d1bc-4693-8d13-7d67837a2c42-persons_csv/props/DEATH_PLACE_ID</a>: 4374"
      ],
      "text/plain": [
       "<IPython.core.display.HTML object>"
      ]
     },
     "metadata": {},
     "output_type": "display_data"
    },
    {
     "data": {
      "text/html": [
       "<a target=\"_blank\" href=\"https://data.huygens.knaw.nl/rdf/datasets/u28f4a6e30d2ef7728fb4b3233cc6313e316cd992/ckcc_a/rawData/bd6430b1-d1bc-4693-8d13-7d67837a2c42-persons_csv/props/DEATH_PLACE_NAME\">https://data.huygens.knaw.nl/rdf/datasets/u28f4a6e30d2ef7728fb4b3233cc6313e316cd992/ckcc_a/rawData/bd6430b1-d1bc-4693-8d13-7d67837a2c42-persons_csv/props/DEATH_PLACE_NAME</a>: 761"
      ],
      "text/plain": [
       "<IPython.core.display.HTML object>"
      ]
     },
     "metadata": {},
     "output_type": "display_data"
    },
    {
     "data": {
      "text/html": [
       "<a target=\"_blank\" href=\"https://data.huygens.knaw.nl/rdf/datasets/u28f4a6e30d2ef7728fb4b3233cc6313e316cd992/ckcc_a/rawData/bd6430b1-d1bc-4693-8d13-7d67837a2c42-persons_csv/props/FLORUIT_HI\">https://data.huygens.knaw.nl/rdf/datasets/u28f4a6e30d2ef7728fb4b3233cc6313e316cd992/ckcc_a/rawData/bd6430b1-d1bc-4693-8d13-7d67837a2c42-persons_csv/props/FLORUIT_HI</a>: 812"
      ],
      "text/plain": [
       "<IPython.core.display.HTML object>"
      ]
     },
     "metadata": {},
     "output_type": "display_data"
    },
    {
     "data": {
      "text/html": [
       "<a target=\"_blank\" href=\"https://data.huygens.knaw.nl/rdf/datasets/u28f4a6e30d2ef7728fb4b3233cc6313e316cd992/ckcc_a/rawData/bd6430b1-d1bc-4693-8d13-7d67837a2c42-persons_csv/props/FLORUIT_LO\">https://data.huygens.knaw.nl/rdf/datasets/u28f4a6e30d2ef7728fb4b3233cc6313e316cd992/ckcc_a/rawData/bd6430b1-d1bc-4693-8d13-7d67837a2c42-persons_csv/props/FLORUIT_LO</a>: 812"
      ],
      "text/plain": [
       "<IPython.core.display.HTML object>"
      ]
     },
     "metadata": {},
     "output_type": "display_data"
    },
    {
     "data": {
      "text/html": [
       "<a target=\"_blank\" href=\"https://data.huygens.knaw.nl/rdf/datasets/u28f4a6e30d2ef7728fb4b3233cc6313e316cd992/ckcc_a/rawData/bd6430b1-d1bc-4693-8d13-7d67837a2c42-persons_csv/props/FORENAME\">https://data.huygens.knaw.nl/rdf/datasets/u28f4a6e30d2ef7728fb4b3233cc6313e316cd992/ckcc_a/rawData/bd6430b1-d1bc-4693-8d13-7d67837a2c42-persons_csv/props/FORENAME</a>: 4067"
      ],
      "text/plain": [
       "<IPython.core.display.HTML object>"
      ]
     },
     "metadata": {},
     "output_type": "display_data"
    },
    {
     "data": {
      "text/html": [
       "<a target=\"_blank\" href=\"https://data.huygens.knaw.nl/rdf/datasets/u28f4a6e30d2ef7728fb4b3233cc6313e316cd992/ckcc_a/rawData/bd6430b1-d1bc-4693-8d13-7d67837a2c42-persons_csv/props/GENDER_CODE\">https://data.huygens.knaw.nl/rdf/datasets/u28f4a6e30d2ef7728fb4b3233cc6313e316cd992/ckcc_a/rawData/bd6430b1-d1bc-4693-8d13-7d67837a2c42-persons_csv/props/GENDER_CODE</a>: 4374"
      ],
      "text/plain": [
       "<IPython.core.display.HTML object>"
      ]
     },
     "metadata": {},
     "output_type": "display_data"
    },
    {
     "data": {
      "text/html": [
       "<a target=\"_blank\" href=\"https://data.huygens.knaw.nl/rdf/datasets/u28f4a6e30d2ef7728fb4b3233cc6313e316cd992/ckcc_a/rawData/bd6430b1-d1bc-4693-8d13-7d67837a2c42-persons_csv/props/GENDER_NAME\">https://data.huygens.knaw.nl/rdf/datasets/u28f4a6e30d2ef7728fb4b3233cc6313e316cd992/ckcc_a/rawData/bd6430b1-d1bc-4693-8d13-7d67837a2c42-persons_csv/props/GENDER_NAME</a>: 4374"
      ],
      "text/plain": [
       "<IPython.core.display.HTML object>"
      ]
     },
     "metadata": {},
     "output_type": "display_data"
    },
    {
     "data": {
      "text/html": [
       "<a target=\"_blank\" href=\"https://data.huygens.knaw.nl/rdf/datasets/u28f4a6e30d2ef7728fb4b3233cc6313e316cd992/ckcc_a/rawData/bd6430b1-d1bc-4693-8d13-7d67837a2c42-persons_csv/props/NAME_INFIX\">https://data.huygens.knaw.nl/rdf/datasets/u28f4a6e30d2ef7728fb4b3233cc6313e316cd992/ckcc_a/rawData/bd6430b1-d1bc-4693-8d13-7d67837a2c42-persons_csv/props/NAME_INFIX</a>: 1522"
      ],
      "text/plain": [
       "<IPython.core.display.HTML object>"
      ]
     },
     "metadata": {},
     "output_type": "display_data"
    },
    {
     "data": {
      "text/html": [
       "<a target=\"_blank\" href=\"https://data.huygens.knaw.nl/rdf/datasets/u28f4a6e30d2ef7728fb4b3233cc6313e316cd992/ckcc_a/rawData/bd6430b1-d1bc-4693-8d13-7d67837a2c42-persons_csv/props/NAME_POSTFIX\">https://data.huygens.knaw.nl/rdf/datasets/u28f4a6e30d2ef7728fb4b3233cc6313e316cd992/ckcc_a/rawData/bd6430b1-d1bc-4693-8d13-7d67837a2c42-persons_csv/props/NAME_POSTFIX</a>: 548"
      ],
      "text/plain": [
       "<IPython.core.display.HTML object>"
      ]
     },
     "metadata": {},
     "output_type": "display_data"
    },
    {
     "data": {
      "text/html": [
       "<a target=\"_blank\" href=\"https://data.huygens.knaw.nl/rdf/datasets/u28f4a6e30d2ef7728fb4b3233cc6313e316cd992/ckcc_a/rawData/bd6430b1-d1bc-4693-8d13-7d67837a2c42-persons_csv/props/NAME_PREFIX\">https://data.huygens.knaw.nl/rdf/datasets/u28f4a6e30d2ef7728fb4b3233cc6313e316cd992/ckcc_a/rawData/bd6430b1-d1bc-4693-8d13-7d67837a2c42-persons_csv/props/NAME_PREFIX</a>: 124"
      ],
      "text/plain": [
       "<IPython.core.display.HTML object>"
      ]
     },
     "metadata": {},
     "output_type": "display_data"
    },
    {
     "data": {
      "text/html": [
       "<a target=\"_blank\" href=\"https://data.huygens.knaw.nl/rdf/datasets/u28f4a6e30d2ef7728fb4b3233cc6313e316cd992/ckcc_a/rawData/bd6430b1-d1bc-4693-8d13-7d67837a2c42-persons_csv/props/OCCUPATION1\">https://data.huygens.knaw.nl/rdf/datasets/u28f4a6e30d2ef7728fb4b3233cc6313e316cd992/ckcc_a/rawData/bd6430b1-d1bc-4693-8d13-7d67837a2c42-persons_csv/props/OCCUPATION1</a>: 2281"
      ],
      "text/plain": [
       "<IPython.core.display.HTML object>"
      ]
     },
     "metadata": {},
     "output_type": "display_data"
    },
    {
     "data": {
      "text/html": [
       "<a target=\"_blank\" href=\"https://data.huygens.knaw.nl/rdf/datasets/u28f4a6e30d2ef7728fb4b3233cc6313e316cd992/ckcc_a/rawData/bd6430b1-d1bc-4693-8d13-7d67837a2c42-persons_csv/props/OCCUPATION2\">https://data.huygens.knaw.nl/rdf/datasets/u28f4a6e30d2ef7728fb4b3233cc6313e316cd992/ckcc_a/rawData/bd6430b1-d1bc-4693-8d13-7d67837a2c42-persons_csv/props/OCCUPATION2</a>: 618"
      ],
      "text/plain": [
       "<IPython.core.display.HTML object>"
      ]
     },
     "metadata": {},
     "output_type": "display_data"
    },
    {
     "data": {
      "text/html": [
       "<a target=\"_blank\" href=\"https://data.huygens.knaw.nl/rdf/datasets/u28f4a6e30d2ef7728fb4b3233cc6313e316cd992/ckcc_a/rawData/bd6430b1-d1bc-4693-8d13-7d67837a2c42-persons_csv/props/OCCUPATION3\">https://data.huygens.knaw.nl/rdf/datasets/u28f4a6e30d2ef7728fb4b3233cc6313e316cd992/ckcc_a/rawData/bd6430b1-d1bc-4693-8d13-7d67837a2c42-persons_csv/props/OCCUPATION3</a>: 118"
      ],
      "text/plain": [
       "<IPython.core.display.HTML object>"
      ]
     },
     "metadata": {},
     "output_type": "display_data"
    },
    {
     "data": {
      "text/html": [
       "<a target=\"_blank\" href=\"https://data.huygens.knaw.nl/rdf/datasets/u28f4a6e30d2ef7728fb4b3233cc6313e316cd992/ckcc_a/rawData/bd6430b1-d1bc-4693-8d13-7d67837a2c42-persons_csv/props/OCCUPATION4\">https://data.huygens.knaw.nl/rdf/datasets/u28f4a6e30d2ef7728fb4b3233cc6313e316cd992/ckcc_a/rawData/bd6430b1-d1bc-4693-8d13-7d67837a2c42-persons_csv/props/OCCUPATION4</a>: 18"
      ],
      "text/plain": [
       "<IPython.core.display.HTML object>"
      ]
     },
     "metadata": {},
     "output_type": "display_data"
    },
    {
     "data": {
      "text/html": [
       "<a target=\"_blank\" href=\"https://data.huygens.knaw.nl/rdf/datasets/u28f4a6e30d2ef7728fb4b3233cc6313e316cd992/ckcc_a/rawData/bd6430b1-d1bc-4693-8d13-7d67837a2c42-persons_csv/props/ORIGIN\">https://data.huygens.knaw.nl/rdf/datasets/u28f4a6e30d2ef7728fb4b3233cc6313e316cd992/ckcc_a/rawData/bd6430b1-d1bc-4693-8d13-7d67837a2c42-persons_csv/props/ORIGIN</a>: 4374"
      ],
      "text/plain": [
       "<IPython.core.display.HTML object>"
      ]
     },
     "metadata": {},
     "output_type": "display_data"
    },
    {
     "data": {
      "text/html": [
       "<a target=\"_blank\" href=\"https://data.huygens.knaw.nl/rdf/datasets/u28f4a6e30d2ef7728fb4b3233cc6313e316cd992/ckcc_a/rawData/bd6430b1-d1bc-4693-8d13-7d67837a2c42-persons_csv/props/PERSON_ID\">https://data.huygens.knaw.nl/rdf/datasets/u28f4a6e30d2ef7728fb4b3233cc6313e316cd992/ckcc_a/rawData/bd6430b1-d1bc-4693-8d13-7d67837a2c42-persons_csv/props/PERSON_ID</a>: 4374"
      ],
      "text/plain": [
       "<IPython.core.display.HTML object>"
      ]
     },
     "metadata": {},
     "output_type": "display_data"
    },
    {
     "data": {
      "text/html": [
       "<a target=\"_blank\" href=\"https://data.huygens.knaw.nl/rdf/datasets/u28f4a6e30d2ef7728fb4b3233cc6313e316cd992/ckcc_a/rawData/bd6430b1-d1bc-4693-8d13-7d67837a2c42-persons_csv/props/PERSON_NAME\">https://data.huygens.knaw.nl/rdf/datasets/u28f4a6e30d2ef7728fb4b3233cc6313e316cd992/ckcc_a/rawData/bd6430b1-d1bc-4693-8d13-7d67837a2c42-persons_csv/props/PERSON_NAME</a>: 4374"
      ],
      "text/plain": [
       "<IPython.core.display.HTML object>"
      ]
     },
     "metadata": {},
     "output_type": "display_data"
    },
    {
     "data": {
      "text/html": [
       "<a target=\"_blank\" href=\"https://data.huygens.knaw.nl/rdf/datasets/u28f4a6e30d2ef7728fb4b3233cc6313e316cd992/ckcc_a/rawData/bd6430b1-d1bc-4693-8d13-7d67837a2c42-persons_csv/props/SURNAME\">https://data.huygens.knaw.nl/rdf/datasets/u28f4a6e30d2ef7728fb4b3233cc6313e316cd992/ckcc_a/rawData/bd6430b1-d1bc-4693-8d13-7d67837a2c42-persons_csv/props/SURNAME</a>: 4276"
      ],
      "text/plain": [
       "<IPython.core.display.HTML object>"
      ]
     },
     "metadata": {},
     "output_type": "display_data"
    },
    {
     "data": {
      "text/html": [
       "<a target=\"_blank\" href=\"https://data.huygens.knaw.nl/rdf/datasets/u28f4a6e30d2ef7728fb4b3233cc6313e316cd992/ckcc_a/rawData/bd6430b1-d1bc-4693-8d13-7d67837a2c42-persons_csv/props/tim_id\">https://data.huygens.knaw.nl/rdf/datasets/u28f4a6e30d2ef7728fb4b3233cc6313e316cd992/ckcc_a/rawData/bd6430b1-d1bc-4693-8d13-7d67837a2c42-persons_csv/props/tim_id</a>: 4374"
      ],
      "text/plain": [
       "<IPython.core.display.HTML object>"
      ]
     },
     "metadata": {},
     "output_type": "display_data"
    },
    {
     "data": {
      "text/html": [
       "<a target=\"_blank\" href=\"https://data.huygens.knaw.nl/rdf/datasets/u28f4a6e30d2ef7728fb4b3233cc6313e316cd992/ckcc_a/rawData/d18b0103-de30-42fd-b8dc-3828e519da8b-letters_csv/props/CORRESPONDENCE\">https://data.huygens.knaw.nl/rdf/datasets/u28f4a6e30d2ef7728fb4b3233cc6313e316cd992/ckcc_a/rawData/d18b0103-de30-42fd-b8dc-3828e519da8b-letters_csv/props/CORRESPONDENCE</a>: 22104"
      ],
      "text/plain": [
       "<IPython.core.display.HTML object>"
      ]
     },
     "metadata": {},
     "output_type": "display_data"
    },
    {
     "data": {
      "text/html": [
       "<a target=\"_blank\" href=\"https://data.huygens.knaw.nl/rdf/datasets/u28f4a6e30d2ef7728fb4b3233cc6313e316cd992/ckcc_a/rawData/d18b0103-de30-42fd-b8dc-3828e519da8b-letters_csv/props/DATE\">https://data.huygens.knaw.nl/rdf/datasets/u28f4a6e30d2ef7728fb4b3233cc6313e316cd992/ckcc_a/rawData/d18b0103-de30-42fd-b8dc-3828e519da8b-letters_csv/props/DATE</a>: 22104"
      ],
      "text/plain": [
       "<IPython.core.display.HTML object>"
      ]
     },
     "metadata": {},
     "output_type": "display_data"
    },
    {
     "data": {
      "text/html": [
       "<a target=\"_blank\" href=\"https://data.huygens.knaw.nl/rdf/datasets/u28f4a6e30d2ef7728fb4b3233cc6313e316cd992/ckcc_a/rawData/d18b0103-de30-42fd-b8dc-3828e519da8b-letters_csv/props/LETTER_ID\">https://data.huygens.knaw.nl/rdf/datasets/u28f4a6e30d2ef7728fb4b3233cc6313e316cd992/ckcc_a/rawData/d18b0103-de30-42fd-b8dc-3828e519da8b-letters_csv/props/LETTER_ID</a>: 22104"
      ],
      "text/plain": [
       "<IPython.core.display.HTML object>"
      ]
     },
     "metadata": {},
     "output_type": "display_data"
    },
    {
     "data": {
      "text/html": [
       "<a target=\"_blank\" href=\"https://data.huygens.knaw.nl/rdf/datasets/u28f4a6e30d2ef7728fb4b3233cc6313e316cd992/ckcc_a/rawData/d18b0103-de30-42fd-b8dc-3828e519da8b-letters_csv/props/LOCAL_ID\">https://data.huygens.knaw.nl/rdf/datasets/u28f4a6e30d2ef7728fb4b3233cc6313e316cd992/ckcc_a/rawData/d18b0103-de30-42fd-b8dc-3828e519da8b-letters_csv/props/LOCAL_ID</a>: 22104"
      ],
      "text/plain": [
       "<IPython.core.display.HTML object>"
      ]
     },
     "metadata": {},
     "output_type": "display_data"
    },
    {
     "data": {
      "text/html": [
       "<a target=\"_blank\" href=\"https://data.huygens.knaw.nl/rdf/datasets/u28f4a6e30d2ef7728fb4b3233cc6313e316cd992/ckcc_a/rawData/d18b0103-de30-42fd-b8dc-3828e519da8b-letters_csv/props/RECIPIENT2_ID\">https://data.huygens.knaw.nl/rdf/datasets/u28f4a6e30d2ef7728fb4b3233cc6313e316cd992/ckcc_a/rawData/d18b0103-de30-42fd-b8dc-3828e519da8b-letters_csv/props/RECIPIENT2_ID</a>: 190"
      ],
      "text/plain": [
       "<IPython.core.display.HTML object>"
      ]
     },
     "metadata": {},
     "output_type": "display_data"
    },
    {
     "data": {
      "text/html": [
       "<a target=\"_blank\" href=\"https://data.huygens.knaw.nl/rdf/datasets/u28f4a6e30d2ef7728fb4b3233cc6313e316cd992/ckcc_a/rawData/d18b0103-de30-42fd-b8dc-3828e519da8b-letters_csv/props/RECIPIENT3_ID\">https://data.huygens.knaw.nl/rdf/datasets/u28f4a6e30d2ef7728fb4b3233cc6313e316cd992/ckcc_a/rawData/d18b0103-de30-42fd-b8dc-3828e519da8b-letters_csv/props/RECIPIENT3_ID</a>: 7"
      ],
      "text/plain": [
       "<IPython.core.display.HTML object>"
      ]
     },
     "metadata": {},
     "output_type": "display_data"
    },
    {
     "data": {
      "text/html": [
       "<a target=\"_blank\" href=\"https://data.huygens.knaw.nl/rdf/datasets/u28f4a6e30d2ef7728fb4b3233cc6313e316cd992/ckcc_a/rawData/d18b0103-de30-42fd-b8dc-3828e519da8b-letters_csv/props/RECIPIENT4_ID\">https://data.huygens.knaw.nl/rdf/datasets/u28f4a6e30d2ef7728fb4b3233cc6313e316cd992/ckcc_a/rawData/d18b0103-de30-42fd-b8dc-3828e519da8b-letters_csv/props/RECIPIENT4_ID</a>: 3"
      ],
      "text/plain": [
       "<IPython.core.display.HTML object>"
      ]
     },
     "metadata": {},
     "output_type": "display_data"
    },
    {
     "data": {
      "text/html": [
       "<a target=\"_blank\" href=\"https://data.huygens.knaw.nl/rdf/datasets/u28f4a6e30d2ef7728fb4b3233cc6313e316cd992/ckcc_a/rawData/d18b0103-de30-42fd-b8dc-3828e519da8b-letters_csv/props/RECIPIENT_ID\">https://data.huygens.knaw.nl/rdf/datasets/u28f4a6e30d2ef7728fb4b3233cc6313e316cd992/ckcc_a/rawData/d18b0103-de30-42fd-b8dc-3828e519da8b-letters_csv/props/RECIPIENT_ID</a>: 22104"
      ],
      "text/plain": [
       "<IPython.core.display.HTML object>"
      ]
     },
     "metadata": {},
     "output_type": "display_data"
    },
    {
     "data": {
      "text/html": [
       "<a target=\"_blank\" href=\"https://data.huygens.knaw.nl/rdf/datasets/u28f4a6e30d2ef7728fb4b3233cc6313e316cd992/ckcc_a/rawData/d18b0103-de30-42fd-b8dc-3828e519da8b-letters_csv/props/RECIPIENT_LOC_ID\">https://data.huygens.knaw.nl/rdf/datasets/u28f4a6e30d2ef7728fb4b3233cc6313e316cd992/ckcc_a/rawData/d18b0103-de30-42fd-b8dc-3828e519da8b-letters_csv/props/RECIPIENT_LOC_ID</a>: 22104"
      ],
      "text/plain": [
       "<IPython.core.display.HTML object>"
      ]
     },
     "metadata": {},
     "output_type": "display_data"
    },
    {
     "data": {
      "text/html": [
       "<a target=\"_blank\" href=\"https://data.huygens.knaw.nl/rdf/datasets/u28f4a6e30d2ef7728fb4b3233cc6313e316cd992/ckcc_a/rawData/d18b0103-de30-42fd-b8dc-3828e519da8b-letters_csv/props/SENDER2_ID\">https://data.huygens.knaw.nl/rdf/datasets/u28f4a6e30d2ef7728fb4b3233cc6313e316cd992/ckcc_a/rawData/d18b0103-de30-42fd-b8dc-3828e519da8b-letters_csv/props/SENDER2_ID</a>: 69"
      ],
      "text/plain": [
       "<IPython.core.display.HTML object>"
      ]
     },
     "metadata": {},
     "output_type": "display_data"
    },
    {
     "data": {
      "text/html": [
       "<a target=\"_blank\" href=\"https://data.huygens.knaw.nl/rdf/datasets/u28f4a6e30d2ef7728fb4b3233cc6313e316cd992/ckcc_a/rawData/d18b0103-de30-42fd-b8dc-3828e519da8b-letters_csv/props/SENDER3_ID\">https://data.huygens.knaw.nl/rdf/datasets/u28f4a6e30d2ef7728fb4b3233cc6313e316cd992/ckcc_a/rawData/d18b0103-de30-42fd-b8dc-3828e519da8b-letters_csv/props/SENDER3_ID</a>: 6"
      ],
      "text/plain": [
       "<IPython.core.display.HTML object>"
      ]
     },
     "metadata": {},
     "output_type": "display_data"
    },
    {
     "data": {
      "text/html": [
       "<a target=\"_blank\" href=\"https://data.huygens.knaw.nl/rdf/datasets/u28f4a6e30d2ef7728fb4b3233cc6313e316cd992/ckcc_a/rawData/d18b0103-de30-42fd-b8dc-3828e519da8b-letters_csv/props/SENDER4_ID\">https://data.huygens.knaw.nl/rdf/datasets/u28f4a6e30d2ef7728fb4b3233cc6313e316cd992/ckcc_a/rawData/d18b0103-de30-42fd-b8dc-3828e519da8b-letters_csv/props/SENDER4_ID</a>: 4"
      ],
      "text/plain": [
       "<IPython.core.display.HTML object>"
      ]
     },
     "metadata": {},
     "output_type": "display_data"
    },
    {
     "data": {
      "text/html": [
       "<a target=\"_blank\" href=\"https://data.huygens.knaw.nl/rdf/datasets/u28f4a6e30d2ef7728fb4b3233cc6313e316cd992/ckcc_a/rawData/d18b0103-de30-42fd-b8dc-3828e519da8b-letters_csv/props/SENDER_ID\">https://data.huygens.knaw.nl/rdf/datasets/u28f4a6e30d2ef7728fb4b3233cc6313e316cd992/ckcc_a/rawData/d18b0103-de30-42fd-b8dc-3828e519da8b-letters_csv/props/SENDER_ID</a>: 22104"
      ],
      "text/plain": [
       "<IPython.core.display.HTML object>"
      ]
     },
     "metadata": {},
     "output_type": "display_data"
    },
    {
     "data": {
      "text/html": [
       "<a target=\"_blank\" href=\"https://data.huygens.knaw.nl/rdf/datasets/u28f4a6e30d2ef7728fb4b3233cc6313e316cd992/ckcc_a/rawData/d18b0103-de30-42fd-b8dc-3828e519da8b-letters_csv/props/SENDER_LOC_ID\">https://data.huygens.knaw.nl/rdf/datasets/u28f4a6e30d2ef7728fb4b3233cc6313e316cd992/ckcc_a/rawData/d18b0103-de30-42fd-b8dc-3828e519da8b-letters_csv/props/SENDER_LOC_ID</a>: 22104"
      ],
      "text/plain": [
       "<IPython.core.display.HTML object>"
      ]
     },
     "metadata": {},
     "output_type": "display_data"
    },
    {
     "data": {
      "text/html": [
       "<a target=\"_blank\" href=\"https://data.huygens.knaw.nl/rdf/datasets/u28f4a6e30d2ef7728fb4b3233cc6313e316cd992/ckcc_a/rawData/d18b0103-de30-42fd-b8dc-3828e519da8b-letters_csv/props/URL\">https://data.huygens.knaw.nl/rdf/datasets/u28f4a6e30d2ef7728fb4b3233cc6313e316cd992/ckcc_a/rawData/d18b0103-de30-42fd-b8dc-3828e519da8b-letters_csv/props/URL</a>: 22104"
      ],
      "text/plain": [
       "<IPython.core.display.HTML object>"
      ]
     },
     "metadata": {},
     "output_type": "display_data"
    },
    {
     "data": {
      "text/html": [
       "<a target=\"_blank\" href=\"https://data.huygens.knaw.nl/rdf/datasets/u28f4a6e30d2ef7728fb4b3233cc6313e316cd992/ckcc_a/rawData/d18b0103-de30-42fd-b8dc-3828e519da8b-letters_csv/props/tim_id\">https://data.huygens.knaw.nl/rdf/datasets/u28f4a6e30d2ef7728fb4b3233cc6313e316cd992/ckcc_a/rawData/d18b0103-de30-42fd-b8dc-3828e519da8b-letters_csv/props/tim_id</a>: 22104"
      ],
      "text/plain": [
       "<IPython.core.display.HTML object>"
      ]
     },
     "metadata": {},
     "output_type": "display_data"
    },
    {
     "data": {
      "text/html": [
       "<a target=\"_blank\" href=\"https://data.huygens.knaw.nl/rdf/datasets/u28f4a6e30d2ef7728fb4b3233cc6313e316cd992/ckcc_a/rawData/df290e71-c984-43b7-8c81-8b931aaf6192-places_csv/props/BLOC\">https://data.huygens.knaw.nl/rdf/datasets/u28f4a6e30d2ef7728fb4b3233cc6313e316cd992/ckcc_a/rawData/df290e71-c984-43b7-8c81-8b931aaf6192-places_csv/props/BLOC</a>: 17"
      ],
      "text/plain": [
       "<IPython.core.display.HTML object>"
      ]
     },
     "metadata": {},
     "output_type": "display_data"
    },
    {
     "data": {
      "text/html": [
       "<a target=\"_blank\" href=\"https://data.huygens.knaw.nl/rdf/datasets/u28f4a6e30d2ef7728fb4b3233cc6313e316cd992/ckcc_a/rawData/df290e71-c984-43b7-8c81-8b931aaf6192-places_csv/props/COUNTRY\">https://data.huygens.knaw.nl/rdf/datasets/u28f4a6e30d2ef7728fb4b3233cc6313e316cd992/ckcc_a/rawData/df290e71-c984-43b7-8c81-8b931aaf6192-places_csv/props/COUNTRY</a>: 1807"
      ],
      "text/plain": [
       "<IPython.core.display.HTML object>"
      ]
     },
     "metadata": {},
     "output_type": "display_data"
    },
    {
     "data": {
      "text/html": [
       "<a target=\"_blank\" href=\"https://data.huygens.knaw.nl/rdf/datasets/u28f4a6e30d2ef7728fb4b3233cc6313e316cd992/ckcc_a/rawData/df290e71-c984-43b7-8c81-8b931aaf6192-places_csv/props/COUNTRY_CODE\">https://data.huygens.knaw.nl/rdf/datasets/u28f4a6e30d2ef7728fb4b3233cc6313e316cd992/ckcc_a/rawData/df290e71-c984-43b7-8c81-8b931aaf6192-places_csv/props/COUNTRY_CODE</a>: 1806"
      ],
      "text/plain": [
       "<IPython.core.display.HTML object>"
      ]
     },
     "metadata": {},
     "output_type": "display_data"
    },
    {
     "data": {
      "text/html": [
       "<a target=\"_blank\" href=\"https://data.huygens.knaw.nl/rdf/datasets/u28f4a6e30d2ef7728fb4b3233cc6313e316cd992/ckcc_a/rawData/df290e71-c984-43b7-8c81-8b931aaf6192-places_csv/props/DISTRICT\">https://data.huygens.knaw.nl/rdf/datasets/u28f4a6e30d2ef7728fb4b3233cc6313e316cd992/ckcc_a/rawData/df290e71-c984-43b7-8c81-8b931aaf6192-places_csv/props/DISTRICT</a>: 63"
      ],
      "text/plain": [
       "<IPython.core.display.HTML object>"
      ]
     },
     "metadata": {},
     "output_type": "display_data"
    },
    {
     "data": {
      "text/html": [
       "<a target=\"_blank\" href=\"https://data.huygens.knaw.nl/rdf/datasets/u28f4a6e30d2ef7728fb4b3233cc6313e316cd992/ckcc_a/rawData/df290e71-c984-43b7-8c81-8b931aaf6192-places_csv/props/LATITUDE\">https://data.huygens.knaw.nl/rdf/datasets/u28f4a6e30d2ef7728fb4b3233cc6313e316cd992/ckcc_a/rawData/df290e71-c984-43b7-8c81-8b931aaf6192-places_csv/props/LATITUDE</a>: 1824"
      ],
      "text/plain": [
       "<IPython.core.display.HTML object>"
      ]
     },
     "metadata": {},
     "output_type": "display_data"
    },
    {
     "data": {
      "text/html": [
       "<a target=\"_blank\" href=\"https://data.huygens.knaw.nl/rdf/datasets/u28f4a6e30d2ef7728fb4b3233cc6313e316cd992/ckcc_a/rawData/df290e71-c984-43b7-8c81-8b931aaf6192-places_csv/props/LONGITUDE\">https://data.huygens.knaw.nl/rdf/datasets/u28f4a6e30d2ef7728fb4b3233cc6313e316cd992/ckcc_a/rawData/df290e71-c984-43b7-8c81-8b931aaf6192-places_csv/props/LONGITUDE</a>: 1824"
      ],
      "text/plain": [
       "<IPython.core.display.HTML object>"
      ]
     },
     "metadata": {},
     "output_type": "display_data"
    },
    {
     "data": {
      "text/html": [
       "<a target=\"_blank\" href=\"https://data.huygens.knaw.nl/rdf/datasets/u28f4a6e30d2ef7728fb4b3233cc6313e316cd992/ckcc_a/rawData/df290e71-c984-43b7-8c81-8b931aaf6192-places_csv/props/NOTES\">https://data.huygens.knaw.nl/rdf/datasets/u28f4a6e30d2ef7728fb4b3233cc6313e316cd992/ckcc_a/rawData/df290e71-c984-43b7-8c81-8b931aaf6192-places_csv/props/NOTES</a>: 114"
      ],
      "text/plain": [
       "<IPython.core.display.HTML object>"
      ]
     },
     "metadata": {},
     "output_type": "display_data"
    },
    {
     "data": {
      "text/html": [
       "<a target=\"_blank\" href=\"https://data.huygens.knaw.nl/rdf/datasets/u28f4a6e30d2ef7728fb4b3233cc6313e316cd992/ckcc_a/rawData/df290e71-c984-43b7-8c81-8b931aaf6192-places_csv/props/PLACE_ID\">https://data.huygens.knaw.nl/rdf/datasets/u28f4a6e30d2ef7728fb4b3233cc6313e316cd992/ckcc_a/rawData/df290e71-c984-43b7-8c81-8b931aaf6192-places_csv/props/PLACE_ID</a>: 1824"
      ],
      "text/plain": [
       "<IPython.core.display.HTML object>"
      ]
     },
     "metadata": {},
     "output_type": "display_data"
    },
    {
     "data": {
      "text/html": [
       "<a target=\"_blank\" href=\"https://data.huygens.knaw.nl/rdf/datasets/u28f4a6e30d2ef7728fb4b3233cc6313e316cd992/ckcc_a/rawData/df290e71-c984-43b7-8c81-8b931aaf6192-places_csv/props/PLACE_NAME\">https://data.huygens.knaw.nl/rdf/datasets/u28f4a6e30d2ef7728fb4b3233cc6313e316cd992/ckcc_a/rawData/df290e71-c984-43b7-8c81-8b931aaf6192-places_csv/props/PLACE_NAME</a>: 1824"
      ],
      "text/plain": [
       "<IPython.core.display.HTML object>"
      ]
     },
     "metadata": {},
     "output_type": "display_data"
    },
    {
     "data": {
      "text/html": [
       "<a target=\"_blank\" href=\"https://data.huygens.knaw.nl/rdf/datasets/u28f4a6e30d2ef7728fb4b3233cc6313e316cd992/ckcc_a/rawData/df290e71-c984-43b7-8c81-8b931aaf6192-places_csv/props/REGION\">https://data.huygens.knaw.nl/rdf/datasets/u28f4a6e30d2ef7728fb4b3233cc6313e316cd992/ckcc_a/rawData/df290e71-c984-43b7-8c81-8b931aaf6192-places_csv/props/REGION</a>: 856"
      ],
      "text/plain": [
       "<IPython.core.display.HTML object>"
      ]
     },
     "metadata": {},
     "output_type": "display_data"
    },
    {
     "data": {
      "text/html": [
       "<a target=\"_blank\" href=\"https://data.huygens.knaw.nl/rdf/datasets/u28f4a6e30d2ef7728fb4b3233cc6313e316cd992/ckcc_a/rawData/df290e71-c984-43b7-8c81-8b931aaf6192-places_csv/props/SETTLEMENT\">https://data.huygens.knaw.nl/rdf/datasets/u28f4a6e30d2ef7728fb4b3233cc6313e316cd992/ckcc_a/rawData/df290e71-c984-43b7-8c81-8b931aaf6192-places_csv/props/SETTLEMENT</a>: 1427"
      ],
      "text/plain": [
       "<IPython.core.display.HTML object>"
      ]
     },
     "metadata": {},
     "output_type": "display_data"
    },
    {
     "data": {
      "text/html": [
       "<a target=\"_blank\" href=\"https://data.huygens.knaw.nl/rdf/datasets/u28f4a6e30d2ef7728fb4b3233cc6313e316cd992/ckcc_a/rawData/df290e71-c984-43b7-8c81-8b931aaf6192-places_csv/props/tim_id\">https://data.huygens.knaw.nl/rdf/datasets/u28f4a6e30d2ef7728fb4b3233cc6313e316cd992/ckcc_a/rawData/df290e71-c984-43b7-8c81-8b931aaf6192-places_csv/props/tim_id</a>: 1824"
      ],
      "text/plain": [
       "<IPython.core.display.HTML object>"
      ]
     },
     "metadata": {},
     "output_type": "display_data"
    },
    {
     "data": {
      "text/html": [
       "<a target=\"_blank\" href=\"https://data.huygens.knaw.nl/rdf/datasets/u28f4a6e30d2ef7728fb4b3233cc6313e316cd992/ckcc_a/rawData/ff115486-38f3-4eea-9752-15077b731972-spouse_relations_csv/props/PERSON_ID1\">https://data.huygens.knaw.nl/rdf/datasets/u28f4a6e30d2ef7728fb4b3233cc6313e316cd992/ckcc_a/rawData/ff115486-38f3-4eea-9752-15077b731972-spouse_relations_csv/props/PERSON_ID1</a>: 56"
      ],
      "text/plain": [
       "<IPython.core.display.HTML object>"
      ]
     },
     "metadata": {},
     "output_type": "display_data"
    },
    {
     "data": {
      "text/html": [
       "<a target=\"_blank\" href=\"https://data.huygens.knaw.nl/rdf/datasets/u28f4a6e30d2ef7728fb4b3233cc6313e316cd992/ckcc_a/rawData/ff115486-38f3-4eea-9752-15077b731972-spouse_relations_csv/props/PERSON_ID2\">https://data.huygens.knaw.nl/rdf/datasets/u28f4a6e30d2ef7728fb4b3233cc6313e316cd992/ckcc_a/rawData/ff115486-38f3-4eea-9752-15077b731972-spouse_relations_csv/props/PERSON_ID2</a>: 56"
      ],
      "text/plain": [
       "<IPython.core.display.HTML object>"
      ]
     },
     "metadata": {},
     "output_type": "display_data"
    },
    {
     "data": {
      "text/html": [
       "<a target=\"_blank\" href=\"https://data.huygens.knaw.nl/rdf/datasets/u28f4a6e30d2ef7728fb4b3233cc6313e316cd992/ckcc_a/rawData/ff115486-38f3-4eea-9752-15077b731972-spouse_relations_csv/props/tim_id\">https://data.huygens.knaw.nl/rdf/datasets/u28f4a6e30d2ef7728fb4b3233cc6313e316cd992/ckcc_a/rawData/ff115486-38f3-4eea-9752-15077b731972-spouse_relations_csv/props/tim_id</a>: 56"
      ],
      "text/plain": [
       "<IPython.core.display.HTML object>"
      ]
     },
     "metadata": {},
     "output_type": "display_data"
    },
    {
     "data": {
      "text/html": [
       "<h3>fingerprint</h3>"
      ],
      "text/plain": [
       "<IPython.core.display.HTML object>"
      ]
     },
     "metadata": {},
     "output_type": "display_data"
    },
    {
     "data": {
      "text/html": [
       "<a target=\"_blank\" href=\"https://repository.huygens.knaw.nl/v5/resourcesync/u28f4a6e30d2ef7728fb4b3233cc6313e316cd992/clusius/dataset.nq\">https://repository.huygens.knaw.nl/v5/resourcesync/u28f4a6e30d2ef7728fb4b3233cc6313e316cd992/clusius/dataset.nq</a>"
      ],
      "text/plain": [
       "<IPython.core.display.HTML object>"
      ]
     },
     "metadata": {},
     "output_type": "display_data"
    },
    {
     "name": "stdout",
     "output_type": "stream",
     "text": [
      "contexts  :            1\n",
      "statements:       51.481\n",
      "literals  :       26.589\n",
      "literal ratio:    0,52\n",
      "\n",
      "subject netlocs: 2 {'timbuctoo.huygens.knaw.nl': 25370, 'data.huygens.knaw.nl': 26111}\n",
      "object netlocs: 2 {'timbuctoo.huygens.knaw.nl': 16352, 'data.huygens.knaw.nl': 8540}\n",
      "\n",
      "example.org | s 0 | p 0 | o 0 | total 0\n",
      "\n",
      "predicate netlocs: 3 | {'timbuctoo.huygens.knaw.nl': 25437, 'data.huygens.knaw.nl': 17527, 'www.w3.org': 8517}\n",
      "predicates: 39\n",
      "http://timbuctoo.huygens.knaw.nl/properties/Correspondence: 1600\n",
      "http://timbuctoo.huygens.knaw.nl/properties/Date: 1600\n",
      "http://timbuctoo.huygens.knaw.nl/properties/LETTER_ID: 1600\n",
      "http://timbuctoo.huygens.knaw.nl/properties/LocalID: 1600\n",
      "http://timbuctoo.huygens.knaw.nl/properties/Name: 340\n",
      "http://timbuctoo.huygens.knaw.nl/properties/PERSON_ID: 340\n",
      "http://timbuctoo.huygens.knaw.nl/properties/PLACE_ID: 169\n",
      "http://timbuctoo.huygens.knaw.nl/properties/PergamonURL: 1600\n",
      "http://timbuctoo.huygens.knaw.nl/properties/PlaceName: 169\n",
      "http://timbuctoo.huygens.knaw.nl/properties/Recipient: 3200\n",
      "http://timbuctoo.huygens.knaw.nl/properties/RecipientLocation: 2640\n",
      "http://timbuctoo.huygens.knaw.nl/properties/Sender: 3200\n",
      "http://timbuctoo.huygens.knaw.nl/properties/SenderLocation: 3072\n",
      "http://timbuctoo.huygens.knaw.nl/static/v5/vocabulary#hasCollection: 6\n",
      "http://timbuctoo.huygens.knaw.nl/static/v5/vocabulary#hasProperty: 32\n",
      "http://timbuctoo.huygens.knaw.nl/static/v5/vocabulary#mimetype: 3\n",
      "http://timbuctoo.huygens.knaw.nl/static/v5/vocabulary#next: 32\n",
      "http://timbuctoo.huygens.knaw.nl/static/v5/vocabulary#propertyId: 16\n",
      "http://timbuctoo.huygens.knaw.nl/static/v5/vocabulary#timhasrow: 4218\n"
     ]
    },
    {
     "data": {
      "text/html": [
       "<a target=\"_blank\" href=\"http://www.w3.org/1999/02/22-rdf-syntax-ns#type\">http://www.w3.org/1999/02/22-rdf-syntax-ns#type</a>: 8486"
      ],
      "text/plain": [
       "<IPython.core.display.HTML object>"
      ]
     },
     "metadata": {},
     "output_type": "display_data"
    },
    {
     "data": {
      "text/html": [
       "<a target=\"_blank\" href=\"http://www.w3.org/2000/01/rdf-schema#label\">http://www.w3.org/2000/01/rdf-schema#label</a>: 22"
      ],
      "text/plain": [
       "<IPython.core.display.HTML object>"
      ]
     },
     "metadata": {},
     "output_type": "display_data"
    },
    {
     "data": {
      "text/html": [
       "<a target=\"_blank\" href=\"http://www.w3.org/ns/prov#atTime\">http://www.w3.org/ns/prov#atTime</a>: 3"
      ],
      "text/plain": [
       "<IPython.core.display.HTML object>"
      ]
     },
     "metadata": {},
     "output_type": "display_data"
    },
    {
     "data": {
      "text/html": [
       "<a target=\"_blank\" href=\"http://www.w3.org/ns/prov#wasDerivedFrom\">http://www.w3.org/ns/prov#wasDerivedFrom</a>: 6"
      ],
      "text/plain": [
       "<IPython.core.display.HTML object>"
      ]
     },
     "metadata": {},
     "output_type": "display_data"
    },
    {
     "data": {
      "text/html": [
       "<a target=\"_blank\" href=\"https://data.huygens.knaw.nl/rdf/datasets/u28f4a6e30d2ef7728fb4b3233cc6313e316cd992/clusius/rawData/407bcaa0-e077-4c82-bcf3-da3446d39b9e-letters_csv/props/CORRESPONDENCE\">https://data.huygens.knaw.nl/rdf/datasets/u28f4a6e30d2ef7728fb4b3233cc6313e316cd992/clusius/rawData/407bcaa0-e077-4c82-bcf3-da3446d39b9e-letters_csv/props/CORRESPONDENCE</a>: 1600"
      ],
      "text/plain": [
       "<IPython.core.display.HTML object>"
      ]
     },
     "metadata": {},
     "output_type": "display_data"
    },
    {
     "data": {
      "text/html": [
       "<a target=\"_blank\" href=\"https://data.huygens.knaw.nl/rdf/datasets/u28f4a6e30d2ef7728fb4b3233cc6313e316cd992/clusius/rawData/407bcaa0-e077-4c82-bcf3-da3446d39b9e-letters_csv/props/DATE\">https://data.huygens.knaw.nl/rdf/datasets/u28f4a6e30d2ef7728fb4b3233cc6313e316cd992/clusius/rawData/407bcaa0-e077-4c82-bcf3-da3446d39b9e-letters_csv/props/DATE</a>: 1600"
      ],
      "text/plain": [
       "<IPython.core.display.HTML object>"
      ]
     },
     "metadata": {},
     "output_type": "display_data"
    },
    {
     "data": {
      "text/html": [
       "<a target=\"_blank\" href=\"https://data.huygens.knaw.nl/rdf/datasets/u28f4a6e30d2ef7728fb4b3233cc6313e316cd992/clusius/rawData/407bcaa0-e077-4c82-bcf3-da3446d39b9e-letters_csv/props/LETTER_ID\">https://data.huygens.knaw.nl/rdf/datasets/u28f4a6e30d2ef7728fb4b3233cc6313e316cd992/clusius/rawData/407bcaa0-e077-4c82-bcf3-da3446d39b9e-letters_csv/props/LETTER_ID</a>: 1600"
      ],
      "text/plain": [
       "<IPython.core.display.HTML object>"
      ]
     },
     "metadata": {},
     "output_type": "display_data"
    },
    {
     "data": {
      "text/html": [
       "<a target=\"_blank\" href=\"https://data.huygens.knaw.nl/rdf/datasets/u28f4a6e30d2ef7728fb4b3233cc6313e316cd992/clusius/rawData/407bcaa0-e077-4c82-bcf3-da3446d39b9e-letters_csv/props/LOCAL_ID\">https://data.huygens.knaw.nl/rdf/datasets/u28f4a6e30d2ef7728fb4b3233cc6313e316cd992/clusius/rawData/407bcaa0-e077-4c82-bcf3-da3446d39b9e-letters_csv/props/LOCAL_ID</a>: 1600"
      ],
      "text/plain": [
       "<IPython.core.display.HTML object>"
      ]
     },
     "metadata": {},
     "output_type": "display_data"
    },
    {
     "data": {
      "text/html": [
       "<a target=\"_blank\" href=\"https://data.huygens.knaw.nl/rdf/datasets/u28f4a6e30d2ef7728fb4b3233cc6313e316cd992/clusius/rawData/407bcaa0-e077-4c82-bcf3-da3446d39b9e-letters_csv/props/RECIPIENT_ID\">https://data.huygens.knaw.nl/rdf/datasets/u28f4a6e30d2ef7728fb4b3233cc6313e316cd992/clusius/rawData/407bcaa0-e077-4c82-bcf3-da3446d39b9e-letters_csv/props/RECIPIENT_ID</a>: 1600"
      ],
      "text/plain": [
       "<IPython.core.display.HTML object>"
      ]
     },
     "metadata": {},
     "output_type": "display_data"
    },
    {
     "data": {
      "text/html": [
       "<a target=\"_blank\" href=\"https://data.huygens.knaw.nl/rdf/datasets/u28f4a6e30d2ef7728fb4b3233cc6313e316cd992/clusius/rawData/407bcaa0-e077-4c82-bcf3-da3446d39b9e-letters_csv/props/RECIPIENT_LOC_ID\">https://data.huygens.knaw.nl/rdf/datasets/u28f4a6e30d2ef7728fb4b3233cc6313e316cd992/clusius/rawData/407bcaa0-e077-4c82-bcf3-da3446d39b9e-letters_csv/props/RECIPIENT_LOC_ID</a>: 1600"
      ],
      "text/plain": [
       "<IPython.core.display.HTML object>"
      ]
     },
     "metadata": {},
     "output_type": "display_data"
    },
    {
     "data": {
      "text/html": [
       "<a target=\"_blank\" href=\"https://data.huygens.knaw.nl/rdf/datasets/u28f4a6e30d2ef7728fb4b3233cc6313e316cd992/clusius/rawData/407bcaa0-e077-4c82-bcf3-da3446d39b9e-letters_csv/props/SENDER_ID\">https://data.huygens.knaw.nl/rdf/datasets/u28f4a6e30d2ef7728fb4b3233cc6313e316cd992/clusius/rawData/407bcaa0-e077-4c82-bcf3-da3446d39b9e-letters_csv/props/SENDER_ID</a>: 1600"
      ],
      "text/plain": [
       "<IPython.core.display.HTML object>"
      ]
     },
     "metadata": {},
     "output_type": "display_data"
    },
    {
     "data": {
      "text/html": [
       "<a target=\"_blank\" href=\"https://data.huygens.knaw.nl/rdf/datasets/u28f4a6e30d2ef7728fb4b3233cc6313e316cd992/clusius/rawData/407bcaa0-e077-4c82-bcf3-da3446d39b9e-letters_csv/props/SENDER_LOC_ID\">https://data.huygens.knaw.nl/rdf/datasets/u28f4a6e30d2ef7728fb4b3233cc6313e316cd992/clusius/rawData/407bcaa0-e077-4c82-bcf3-da3446d39b9e-letters_csv/props/SENDER_LOC_ID</a>: 1600"
      ],
      "text/plain": [
       "<IPython.core.display.HTML object>"
      ]
     },
     "metadata": {},
     "output_type": "display_data"
    },
    {
     "data": {
      "text/html": [
       "<a target=\"_blank\" href=\"https://data.huygens.knaw.nl/rdf/datasets/u28f4a6e30d2ef7728fb4b3233cc6313e316cd992/clusius/rawData/407bcaa0-e077-4c82-bcf3-da3446d39b9e-letters_csv/props/URL\">https://data.huygens.knaw.nl/rdf/datasets/u28f4a6e30d2ef7728fb4b3233cc6313e316cd992/clusius/rawData/407bcaa0-e077-4c82-bcf3-da3446d39b9e-letters_csv/props/URL</a>: 1600"
      ],
      "text/plain": [
       "<IPython.core.display.HTML object>"
      ]
     },
     "metadata": {},
     "output_type": "display_data"
    },
    {
     "data": {
      "text/html": [
       "<a target=\"_blank\" href=\"https://data.huygens.knaw.nl/rdf/datasets/u28f4a6e30d2ef7728fb4b3233cc6313e316cd992/clusius/rawData/407bcaa0-e077-4c82-bcf3-da3446d39b9e-letters_csv/props/tim_id\">https://data.huygens.knaw.nl/rdf/datasets/u28f4a6e30d2ef7728fb4b3233cc6313e316cd992/clusius/rawData/407bcaa0-e077-4c82-bcf3-da3446d39b9e-letters_csv/props/tim_id</a>: 1600"
      ],
      "text/plain": [
       "<IPython.core.display.HTML object>"
      ]
     },
     "metadata": {},
     "output_type": "display_data"
    },
    {
     "data": {
      "text/html": [
       "<a target=\"_blank\" href=\"https://data.huygens.knaw.nl/rdf/datasets/u28f4a6e30d2ef7728fb4b3233cc6313e316cd992/clusius/rawData/99fb1242-265c-41ac-89b8-1f7bc321749f-persons_csv/props/PERSON_ID\">https://data.huygens.knaw.nl/rdf/datasets/u28f4a6e30d2ef7728fb4b3233cc6313e316cd992/clusius/rawData/99fb1242-265c-41ac-89b8-1f7bc321749f-persons_csv/props/PERSON_ID</a>: 340"
      ],
      "text/plain": [
       "<IPython.core.display.HTML object>"
      ]
     },
     "metadata": {},
     "output_type": "display_data"
    },
    {
     "data": {
      "text/html": [
       "<a target=\"_blank\" href=\"https://data.huygens.knaw.nl/rdf/datasets/u28f4a6e30d2ef7728fb4b3233cc6313e316cd992/clusius/rawData/99fb1242-265c-41ac-89b8-1f7bc321749f-persons_csv/props/PERSON_NAME\">https://data.huygens.knaw.nl/rdf/datasets/u28f4a6e30d2ef7728fb4b3233cc6313e316cd992/clusius/rawData/99fb1242-265c-41ac-89b8-1f7bc321749f-persons_csv/props/PERSON_NAME</a>: 340"
      ],
      "text/plain": [
       "<IPython.core.display.HTML object>"
      ]
     },
     "metadata": {},
     "output_type": "display_data"
    },
    {
     "data": {
      "text/html": [
       "<a target=\"_blank\" href=\"https://data.huygens.knaw.nl/rdf/datasets/u28f4a6e30d2ef7728fb4b3233cc6313e316cd992/clusius/rawData/99fb1242-265c-41ac-89b8-1f7bc321749f-persons_csv/props/tim_id\">https://data.huygens.knaw.nl/rdf/datasets/u28f4a6e30d2ef7728fb4b3233cc6313e316cd992/clusius/rawData/99fb1242-265c-41ac-89b8-1f7bc321749f-persons_csv/props/tim_id</a>: 340"
      ],
      "text/plain": [
       "<IPython.core.display.HTML object>"
      ]
     },
     "metadata": {},
     "output_type": "display_data"
    },
    {
     "data": {
      "text/html": [
       "<a target=\"_blank\" href=\"https://data.huygens.knaw.nl/rdf/datasets/u28f4a6e30d2ef7728fb4b3233cc6313e316cd992/clusius/rawData/ab660d37-a2ce-42f8-879c-621ad5104187-places_csv/props/PLACE_ID\">https://data.huygens.knaw.nl/rdf/datasets/u28f4a6e30d2ef7728fb4b3233cc6313e316cd992/clusius/rawData/ab660d37-a2ce-42f8-879c-621ad5104187-places_csv/props/PLACE_ID</a>: 169"
      ],
      "text/plain": [
       "<IPython.core.display.HTML object>"
      ]
     },
     "metadata": {},
     "output_type": "display_data"
    },
    {
     "data": {
      "text/html": [
       "<a target=\"_blank\" href=\"https://data.huygens.knaw.nl/rdf/datasets/u28f4a6e30d2ef7728fb4b3233cc6313e316cd992/clusius/rawData/ab660d37-a2ce-42f8-879c-621ad5104187-places_csv/props/PLACE_NAME\">https://data.huygens.knaw.nl/rdf/datasets/u28f4a6e30d2ef7728fb4b3233cc6313e316cd992/clusius/rawData/ab660d37-a2ce-42f8-879c-621ad5104187-places_csv/props/PLACE_NAME</a>: 169"
      ],
      "text/plain": [
       "<IPython.core.display.HTML object>"
      ]
     },
     "metadata": {},
     "output_type": "display_data"
    },
    {
     "data": {
      "text/html": [
       "<a target=\"_blank\" href=\"https://data.huygens.knaw.nl/rdf/datasets/u28f4a6e30d2ef7728fb4b3233cc6313e316cd992/clusius/rawData/ab660d37-a2ce-42f8-879c-621ad5104187-places_csv/props/tim_id\">https://data.huygens.knaw.nl/rdf/datasets/u28f4a6e30d2ef7728fb4b3233cc6313e316cd992/clusius/rawData/ab660d37-a2ce-42f8-879c-621ad5104187-places_csv/props/tim_id</a>: 169"
      ],
      "text/plain": [
       "<IPython.core.display.HTML object>"
      ]
     },
     "metadata": {},
     "output_type": "display_data"
    },
    {
     "data": {
      "text/html": [
       "<h3>fingerprint</h3>"
      ],
      "text/plain": [
       "<IPython.core.display.HTML object>"
      ]
     },
     "metadata": {},
     "output_type": "display_data"
    },
    {
     "data": {
      "text/html": [
       "<a target=\"_blank\" href=\"https://repository.huygens.knaw.nl/v5/resourcesync/u28f4a6e30d2ef7728fb4b3233cc6313e316cd992/ppds/dataset.nq\">https://repository.huygens.knaw.nl/v5/resourcesync/u28f4a6e30d2ef7728fb4b3233cc6313e316cd992/ppds/dataset.nq</a>"
      ],
      "text/plain": [
       "<IPython.core.display.HTML object>"
      ]
     },
     "metadata": {},
     "output_type": "display_data"
    },
    {
     "name": "stdout",
     "output_type": "stream",
     "text": [
      "contexts  :            1\n",
      "statements:    3.099.251\n",
      "literals  :    2.722.435\n",
      "literal ratio:    0,88\n",
      "\n",
      "subject netlocs: 2 {'data.huygens.knaw.nl': 1603020, 'timbuctoo.huygens.knaw.nl': 1496231}\n",
      "object netlocs: 2 {'timbuctoo.huygens.knaw.nl': 211372, 'data.huygens.knaw.nl': 165444}\n",
      "\n",
      "example.org | s 0 | p 0 | o 0 | total 0\n",
      "\n",
      "predicate netlocs: 3 | {'data.huygens.knaw.nl': 1437252, 'timbuctoo.huygens.knaw.nl': 1527994, 'www.w3.org': 134005}\n",
      "predicates: 299\n",
      "http://timbuctoo.huygens.knaw.nl/properties/Alt_ScanBPL: 2832\n",
      "http://timbuctoo.huygens.knaw.nl/properties/Alt_ScanRES: 2720\n",
      "http://timbuctoo.huygens.knaw.nl/properties/Alt_Scan_RegMig: 2168\n",
      "http://timbuctoo.huygens.knaw.nl/properties/BPL_Geonames_toponym: 15241\n",
      "http://timbuctoo.huygens.knaw.nl/properties/BPL_OR_DIS_KM: 15005\n",
      "http://timbuctoo.huygens.knaw.nl/properties/BPL_PPD_place: 30482\n",
      "http://timbuctoo.huygens.knaw.nl/properties/BPL_RES_DIS_KM: 14646\n",
      "http://timbuctoo.huygens.knaw.nl/properties/BPL_coastalKM: 15241\n",
      "http://timbuctoo.huygens.knaw.nl/properties/BPL_coastalclass: 15253\n",
      "http://timbuctoo.huygens.knaw.nl/properties/BPL_country: 15253\n",
      "http://timbuctoo.huygens.knaw.nl/properties/BPL_google: 15241\n",
      "http://timbuctoo.huygens.knaw.nl/properties/BPL_histpol: 15242\n",
      "http://timbuctoo.huygens.knaw.nl/properties/BPL_latitude: 15241\n",
      "http://timbuctoo.huygens.knaw.nl/properties/BPL_longitude: 15241\n",
      "http://timbuctoo.huygens.knaw.nl/properties/BPL_northsouth: 15253\n",
      "http://timbuctoo.huygens.knaw.nl/properties/BPL_place: 15253\n",
      "http://timbuctoo.huygens.knaw.nl/properties/BPL_placeclass: 15253\n",
      "http://timbuctoo.huygens.knaw.nl/properties/BPL_pop: 15243\n",
      "http://timbuctoo.huygens.knaw.nl/properties/BPL_region: 15253\n",
      "http://timbuctoo.huygens.knaw.nl/properties/BPL_ubrur: 15243\n",
      "http://timbuctoo.huygens.knaw.nl/properties/Comment: 227\n",
      "http://timbuctoo.huygens.knaw.nl/properties/CrewAge: 12938\n",
      "http://timbuctoo.huygens.knaw.nl/properties/CrewBurgher: 12030\n",
      "http://timbuctoo.huygens.knaw.nl/properties/CrewFamStat: 15474\n",
      "http://timbuctoo.huygens.knaw.nl/properties/CrewFirstName: 15544\n",
      "http://timbuctoo.huygens.knaw.nl/properties/CrewKnowSkip: 8304\n",
      "http://timbuctoo.huygens.knaw.nl/properties/CrewLastName: 15540\n",
      "http://timbuctoo.huygens.knaw.nl/properties/CrewLit: 15102\n",
      "http://timbuctoo.huygens.knaw.nl/properties/CrewMarStat: 15474\n",
      "http://timbuctoo.huygens.knaw.nl/properties/CrewPlaceBirth: 15460\n",
      "http://timbuctoo.huygens.knaw.nl/properties/CrewPlaceMust: 12950\n",
      "http://timbuctoo.huygens.knaw.nl/properties/CrewPlaceRes: 15344\n",
      "http://timbuctoo.huygens.knaw.nl/properties/CrewRank: 15139\n",
      "http://timbuctoo.huygens.knaw.nl/properties/CrewRankGen: 15550\n",
      "http://timbuctoo.huygens.knaw.nl/properties/CrewRelSkip: 15440\n",
      "http://timbuctoo.huygens.knaw.nl/properties/CrewResStay: 12929\n",
      "http://timbuctoo.huygens.knaw.nl/properties/CrewSubject: 14390\n",
      "http://timbuctoo.huygens.knaw.nl/properties/GeonamesAddedBy: 1232\n",
      "http://timbuctoo.huygens.knaw.nl/properties/GeonamesID: 3596\n",
      "http://timbuctoo.huygens.knaw.nl/properties/GeonamesToponym: 3596\n",
      "http://timbuctoo.huygens.knaw.nl/properties/GeonamesURI: 3596\n",
      "http://timbuctoo.huygens.knaw.nl/properties/IdCrew: 15550\n",
      "http://timbuctoo.huygens.knaw.nl/properties/IdSchipVerwijzing: 15542\n",
      "http://timbuctoo.huygens.knaw.nl/properties/IdShip: 6440\n",
      "http://timbuctoo.huygens.knaw.nl/properties/JB_Geonames_toponym: 6298\n",
      "http://timbuctoo.huygens.knaw.nl/properties/JB_PPD_place: 12596\n",
      "http://timbuctoo.huygens.knaw.nl/properties/JB_coastalKM: 6298\n",
      "http://timbuctoo.huygens.knaw.nl/properties/JB_coastalclass: 6298\n",
      "http://timbuctoo.huygens.knaw.nl/properties/JB_country: 6298\n",
      "http://timbuctoo.huygens.knaw.nl/properties/JB_google: 6298\n",
      "http://timbuctoo.huygens.knaw.nl/properties/JB_histpol: 6227\n",
      "http://timbuctoo.huygens.knaw.nl/properties/JB_latitude: 6298\n",
      "http://timbuctoo.huygens.knaw.nl/properties/JB_longitude: 6298\n",
      "http://timbuctoo.huygens.knaw.nl/properties/JB_northsouth: 6298\n",
      "http://timbuctoo.huygens.knaw.nl/properties/JB_place: 6298\n",
      "http://timbuctoo.huygens.knaw.nl/properties/JB_placeclass: 6298\n",
      "http://timbuctoo.huygens.knaw.nl/properties/JB_region: 6298\n",
      "http://timbuctoo.huygens.knaw.nl/properties/JE_Geonames_toponym: 6283\n",
      "http://timbuctoo.huygens.knaw.nl/properties/JE_PPD_place: 12566\n",
      "http://timbuctoo.huygens.knaw.nl/properties/JE_coastalKM: 6283\n",
      "http://timbuctoo.huygens.knaw.nl/properties/JE_coastalclass: 6326\n",
      "http://timbuctoo.huygens.knaw.nl/properties/JE_country: 6326\n",
      "http://timbuctoo.huygens.knaw.nl/properties/JE_google: 6283\n",
      "http://timbuctoo.huygens.knaw.nl/properties/JE_histpol: 6315\n",
      "http://timbuctoo.huygens.knaw.nl/properties/JE_latitude: 6283\n",
      "http://timbuctoo.huygens.knaw.nl/properties/JE_longitude: 6283\n",
      "http://timbuctoo.huygens.knaw.nl/properties/JE_northsouth: 6326\n",
      "http://timbuctoo.huygens.knaw.nl/properties/JE_place: 6326\n",
      "http://timbuctoo.huygens.knaw.nl/properties/JE_placeclass: 6326\n",
      "http://timbuctoo.huygens.knaw.nl/properties/JE_region: 6326\n",
      "http://timbuctoo.huygens.knaw.nl/properties/LAT_check: 15241\n",
      "http://timbuctoo.huygens.knaw.nl/properties/Latitude_original: 3596\n",
      "http://timbuctoo.huygens.knaw.nl/properties/Longitude_original: 3596\n",
      "http://timbuctoo.huygens.knaw.nl/properties/MAJORGROUP: 14742\n",
      "http://timbuctoo.huygens.knaw.nl/properties/MIGRANT_CODE: 15550\n",
      "http://timbuctoo.huygens.knaw.nl/properties/MINORGROUP: 14742\n",
      "http://timbuctoo.huygens.knaw.nl/properties/OCCUPTITLE: 15550\n",
      "http://timbuctoo.huygens.knaw.nl/properties/OCCUPTITLE_PPD_RANK_ID: 15550\n",
      "http://timbuctoo.huygens.knaw.nl/properties/OR_Geonames_topomym: 6306\n",
      "http://timbuctoo.huygens.knaw.nl/properties/OR_PPD_place: 12612\n",
      "http://timbuctoo.huygens.knaw.nl/properties/OR_altscan: 856\n",
      "http://timbuctoo.huygens.knaw.nl/properties/OR_coastalKM: 6306\n",
      "http://timbuctoo.huygens.knaw.nl/properties/OR_coastalclass: 6371\n",
      "http://timbuctoo.huygens.knaw.nl/properties/OR_country: 6307\n",
      "http://timbuctoo.huygens.knaw.nl/properties/OR_google: 6306\n",
      "http://timbuctoo.huygens.knaw.nl/properties/OR_histpol: 6364\n",
      "http://timbuctoo.huygens.knaw.nl/properties/OR_latitude: 6306\n",
      "http://timbuctoo.huygens.knaw.nl/properties/OR_longitude: 6306\n",
      "http://timbuctoo.huygens.knaw.nl/properties/OR_northsouth: 6307\n",
      "http://timbuctoo.huygens.knaw.nl/properties/OR_place: 6307\n",
      "http://timbuctoo.huygens.knaw.nl/properties/OR_placeclass: 6371\n",
      "http://timbuctoo.huygens.knaw.nl/properties/OR_region: 6307\n",
      "http://timbuctoo.huygens.knaw.nl/properties/PPD_CREW_ID: 15550\n",
      "http://timbuctoo.huygens.knaw.nl/properties/PPD_PL_ID: 3596\n",
      "http://timbuctoo.huygens.knaw.nl/properties/PPD_SHIP_ID: 6440\n",
      "http://timbuctoo.huygens.knaw.nl/properties/REGIONAL_MIG_CODE: 15550\n",
      "http://timbuctoo.huygens.knaw.nl/properties/RES_Geonames_toponym: 14807\n",
      "http://timbuctoo.huygens.knaw.nl/properties/RES_OR_DIS_KM: 14589\n",
      "http://timbuctoo.huygens.knaw.nl/properties/RES_PPD_place: 29614\n",
      "http://timbuctoo.huygens.knaw.nl/properties/RES_coastalKM: 14807\n",
      "http://timbuctoo.huygens.knaw.nl/properties/RES_coastalclass: 15191\n",
      "http://timbuctoo.huygens.knaw.nl/properties/RES_country: 15191\n",
      "http://timbuctoo.huygens.knaw.nl/properties/RES_google: 14807\n",
      "http://timbuctoo.huygens.knaw.nl/properties/RES_histpol: 15550\n",
      "http://timbuctoo.huygens.knaw.nl/properties/RES_latitude: 14807\n",
      "http://timbuctoo.huygens.knaw.nl/properties/RES_longitude: 14807\n",
      "http://timbuctoo.huygens.knaw.nl/properties/RES_northsouth: 15191\n",
      "http://timbuctoo.huygens.knaw.nl/properties/RES_place: 15191\n",
      "http://timbuctoo.huygens.knaw.nl/properties/RES_placeclass: 15191\n",
      "http://timbuctoo.huygens.knaw.nl/properties/RES_pop: 15181\n",
      "http://timbuctoo.huygens.knaw.nl/properties/RES_region: 15191\n",
      "http://timbuctoo.huygens.knaw.nl/properties/RES_urbrur: 15181\n",
      "http://timbuctoo.huygens.knaw.nl/properties/RuralUrbanMigrant: 15550\n",
      "http://timbuctoo.huygens.knaw.nl/properties/SHIP_CONV_TONNAGE: 6151\n",
      "http://timbuctoo.huygens.knaw.nl/properties/ShipAge: 1607\n",
      "http://timbuctoo.huygens.knaw.nl/properties/ShipComments: 2483\n",
      "http://timbuctoo.huygens.knaw.nl/properties/ShipConstrPlace: 5204\n",
      "http://timbuctoo.huygens.knaw.nl/properties/ShipCrewNat: 6378\n",
      "http://timbuctoo.huygens.knaw.nl/properties/ShipCrewTot: 6066\n",
      "http://timbuctoo.huygens.knaw.nl/properties/ShipDateEDTF: 6438\n",
      "http://timbuctoo.huygens.knaw.nl/properties/ShipDateMonth: 5737\n",
      "http://timbuctoo.huygens.knaw.nl/properties/ShipDateYear: 6438\n",
      "http://timbuctoo.huygens.knaw.nl/properties/ShipJournBegin: 6433\n",
      "http://timbuctoo.huygens.knaw.nl/properties/ShipJournEnd: 6427\n",
      "http://timbuctoo.huygens.knaw.nl/properties/ShipLastage: 1438\n",
      "http://timbuctoo.huygens.knaw.nl/properties/ShipMustPlace: 5450\n",
      "http://timbuctoo.huygens.knaw.nl/properties/ShipName: 6439\n",
      "http://timbuctoo.huygens.knaw.nl/properties/ShipOwnGender: 4836\n",
      "http://timbuctoo.huygens.knaw.nl/properties/ShipOwnRes: 6383\n",
      "http://timbuctoo.huygens.knaw.nl/properties/ShipSkipPart: 6353\n",
      "http://timbuctoo.huygens.knaw.nl/properties/ShipSource: 6439\n",
      "http://timbuctoo.huygens.knaw.nl/properties/ShipTakenLocation: 6034\n",
      "http://timbuctoo.huygens.knaw.nl/properties/ShipTonnage: 4742\n",
      "http://timbuctoo.huygens.knaw.nl/properties/Toponym_original: 3596\n",
      "http://timbuctoo.huygens.knaw.nl/properties/UNITCODE: 14742\n",
      "http://timbuctoo.huygens.knaw.nl/properties/hasCrewMember: 31084\n",
      "http://timbuctoo.huygens.knaw.nl/properties/period_coding: 21990\n",
      "http://timbuctoo.huygens.knaw.nl/properties/wasCrewMemberOn: 31084\n",
      "http://timbuctoo.huygens.knaw.nl/static/v5/vocabulary#hasCollection: 10\n",
      "http://timbuctoo.huygens.knaw.nl/static/v5/vocabulary#hasProperty: 304\n",
      "http://timbuctoo.huygens.knaw.nl/static/v5/vocabulary#mimetype: 5\n",
      "http://timbuctoo.huygens.knaw.nl/static/v5/vocabulary#next: 304\n",
      "http://timbuctoo.huygens.knaw.nl/static/v5/vocabulary#propertyId: 152\n",
      "http://timbuctoo.huygens.knaw.nl/static/v5/vocabulary#timhasrow: 82322\n"
     ]
    },
    {
     "data": {
      "text/html": [
       "<a target=\"_blank\" href=\"http://www.w3.org/1999/02/22-rdf-syntax-ns#type\">http://www.w3.org/1999/02/22-rdf-syntax-ns#type</a>: 133828"
      ],
      "text/plain": [
       "<IPython.core.display.HTML object>"
      ]
     },
     "metadata": {},
     "output_type": "display_data"
    },
    {
     "data": {
      "text/html": [
       "<a target=\"_blank\" href=\"http://www.w3.org/2000/01/rdf-schema#label\">http://www.w3.org/2000/01/rdf-schema#label</a>: 162"
      ],
      "text/plain": [
       "<IPython.core.display.HTML object>"
      ]
     },
     "metadata": {},
     "output_type": "display_data"
    },
    {
     "data": {
      "text/html": [
       "<a target=\"_blank\" href=\"http://www.w3.org/ns/prov#atTime\">http://www.w3.org/ns/prov#atTime</a>: 5"
      ],
      "text/plain": [
       "<IPython.core.display.HTML object>"
      ]
     },
     "metadata": {},
     "output_type": "display_data"
    },
    {
     "data": {
      "text/html": [
       "<a target=\"_blank\" href=\"http://www.w3.org/ns/prov#wasDerivedFrom\">http://www.w3.org/ns/prov#wasDerivedFrom</a>: 10"
      ],
      "text/plain": [
       "<IPython.core.display.HTML object>"
      ]
     },
     "metadata": {},
     "output_type": "display_data"
    },
    {
     "data": {
      "text/html": [
       "<a target=\"_blank\" href=\"https://data.huygens.knaw.nl/rdf/datasets/u28f4a6e30d2ef7728fb4b3233cc6313e316cd992/ppds/rawData/009fb934-01e4-44fc-bd8b-3e506d3fe2e7-ship_csv/props/IdShip\">https://data.huygens.knaw.nl/rdf/datasets/u28f4a6e30d2ef7728fb4b3233cc6313e316cd992/ppds/rawData/009fb934-01e4-44fc-bd8b-3e506d3fe2e7-ship_csv/props/IdShip</a>: 6440"
      ],
      "text/plain": [
       "<IPython.core.display.HTML object>"
      ]
     },
     "metadata": {},
     "output_type": "display_data"
    },
    {
     "data": {
      "text/html": [
       "<a target=\"_blank\" href=\"https://data.huygens.knaw.nl/rdf/datasets/u28f4a6e30d2ef7728fb4b3233cc6313e316cd992/ppds/rawData/009fb934-01e4-44fc-bd8b-3e506d3fe2e7-ship_csv/props/JB_Geonames_toponym\">https://data.huygens.knaw.nl/rdf/datasets/u28f4a6e30d2ef7728fb4b3233cc6313e316cd992/ppds/rawData/009fb934-01e4-44fc-bd8b-3e506d3fe2e7-ship_csv/props/JB_Geonames_toponym</a>: 6298"
      ],
      "text/plain": [
       "<IPython.core.display.HTML object>"
      ]
     },
     "metadata": {},
     "output_type": "display_data"
    },
    {
     "data": {
      "text/html": [
       "<a target=\"_blank\" href=\"https://data.huygens.knaw.nl/rdf/datasets/u28f4a6e30d2ef7728fb4b3233cc6313e316cd992/ppds/rawData/009fb934-01e4-44fc-bd8b-3e506d3fe2e7-ship_csv/props/JB_PPD_PL_ID\">https://data.huygens.knaw.nl/rdf/datasets/u28f4a6e30d2ef7728fb4b3233cc6313e316cd992/ppds/rawData/009fb934-01e4-44fc-bd8b-3e506d3fe2e7-ship_csv/props/JB_PPD_PL_ID</a>: 6298"
      ],
      "text/plain": [
       "<IPython.core.display.HTML object>"
      ]
     },
     "metadata": {},
     "output_type": "display_data"
    },
    {
     "data": {
      "text/html": [
       "<a target=\"_blank\" href=\"https://data.huygens.knaw.nl/rdf/datasets/u28f4a6e30d2ef7728fb4b3233cc6313e316cd992/ppds/rawData/009fb934-01e4-44fc-bd8b-3e506d3fe2e7-ship_csv/props/JB_coastalKM\">https://data.huygens.knaw.nl/rdf/datasets/u28f4a6e30d2ef7728fb4b3233cc6313e316cd992/ppds/rawData/009fb934-01e4-44fc-bd8b-3e506d3fe2e7-ship_csv/props/JB_coastalKM</a>: 6298"
      ],
      "text/plain": [
       "<IPython.core.display.HTML object>"
      ]
     },
     "metadata": {},
     "output_type": "display_data"
    },
    {
     "data": {
      "text/html": [
       "<a target=\"_blank\" href=\"https://data.huygens.knaw.nl/rdf/datasets/u28f4a6e30d2ef7728fb4b3233cc6313e316cd992/ppds/rawData/009fb934-01e4-44fc-bd8b-3e506d3fe2e7-ship_csv/props/JB_coastalclass\">https://data.huygens.knaw.nl/rdf/datasets/u28f4a6e30d2ef7728fb4b3233cc6313e316cd992/ppds/rawData/009fb934-01e4-44fc-bd8b-3e506d3fe2e7-ship_csv/props/JB_coastalclass</a>: 6298"
      ],
      "text/plain": [
       "<IPython.core.display.HTML object>"
      ]
     },
     "metadata": {},
     "output_type": "display_data"
    },
    {
     "data": {
      "text/html": [
       "<a target=\"_blank\" href=\"https://data.huygens.knaw.nl/rdf/datasets/u28f4a6e30d2ef7728fb4b3233cc6313e316cd992/ppds/rawData/009fb934-01e4-44fc-bd8b-3e506d3fe2e7-ship_csv/props/JB_country\">https://data.huygens.knaw.nl/rdf/datasets/u28f4a6e30d2ef7728fb4b3233cc6313e316cd992/ppds/rawData/009fb934-01e4-44fc-bd8b-3e506d3fe2e7-ship_csv/props/JB_country</a>: 6298"
      ],
      "text/plain": [
       "<IPython.core.display.HTML object>"
      ]
     },
     "metadata": {},
     "output_type": "display_data"
    },
    {
     "data": {
      "text/html": [
       "<a target=\"_blank\" href=\"https://data.huygens.knaw.nl/rdf/datasets/u28f4a6e30d2ef7728fb4b3233cc6313e316cd992/ppds/rawData/009fb934-01e4-44fc-bd8b-3e506d3fe2e7-ship_csv/props/JB_google\">https://data.huygens.knaw.nl/rdf/datasets/u28f4a6e30d2ef7728fb4b3233cc6313e316cd992/ppds/rawData/009fb934-01e4-44fc-bd8b-3e506d3fe2e7-ship_csv/props/JB_google</a>: 6298"
      ],
      "text/plain": [
       "<IPython.core.display.HTML object>"
      ]
     },
     "metadata": {},
     "output_type": "display_data"
    },
    {
     "data": {
      "text/html": [
       "<a target=\"_blank\" href=\"https://data.huygens.knaw.nl/rdf/datasets/u28f4a6e30d2ef7728fb4b3233cc6313e316cd992/ppds/rawData/009fb934-01e4-44fc-bd8b-3e506d3fe2e7-ship_csv/props/JB_histpol\">https://data.huygens.knaw.nl/rdf/datasets/u28f4a6e30d2ef7728fb4b3233cc6313e316cd992/ppds/rawData/009fb934-01e4-44fc-bd8b-3e506d3fe2e7-ship_csv/props/JB_histpol</a>: 6227"
      ],
      "text/plain": [
       "<IPython.core.display.HTML object>"
      ]
     },
     "metadata": {},
     "output_type": "display_data"
    },
    {
     "data": {
      "text/html": [
       "<a target=\"_blank\" href=\"https://data.huygens.knaw.nl/rdf/datasets/u28f4a6e30d2ef7728fb4b3233cc6313e316cd992/ppds/rawData/009fb934-01e4-44fc-bd8b-3e506d3fe2e7-ship_csv/props/JB_latitude\">https://data.huygens.knaw.nl/rdf/datasets/u28f4a6e30d2ef7728fb4b3233cc6313e316cd992/ppds/rawData/009fb934-01e4-44fc-bd8b-3e506d3fe2e7-ship_csv/props/JB_latitude</a>: 6298"
      ],
      "text/plain": [
       "<IPython.core.display.HTML object>"
      ]
     },
     "metadata": {},
     "output_type": "display_data"
    },
    {
     "data": {
      "text/html": [
       "<a target=\"_blank\" href=\"https://data.huygens.knaw.nl/rdf/datasets/u28f4a6e30d2ef7728fb4b3233cc6313e316cd992/ppds/rawData/009fb934-01e4-44fc-bd8b-3e506d3fe2e7-ship_csv/props/JB_longitude\">https://data.huygens.knaw.nl/rdf/datasets/u28f4a6e30d2ef7728fb4b3233cc6313e316cd992/ppds/rawData/009fb934-01e4-44fc-bd8b-3e506d3fe2e7-ship_csv/props/JB_longitude</a>: 6298"
      ],
      "text/plain": [
       "<IPython.core.display.HTML object>"
      ]
     },
     "metadata": {},
     "output_type": "display_data"
    },
    {
     "data": {
      "text/html": [
       "<a target=\"_blank\" href=\"https://data.huygens.knaw.nl/rdf/datasets/u28f4a6e30d2ef7728fb4b3233cc6313e316cd992/ppds/rawData/009fb934-01e4-44fc-bd8b-3e506d3fe2e7-ship_csv/props/JB_northsouth\">https://data.huygens.knaw.nl/rdf/datasets/u28f4a6e30d2ef7728fb4b3233cc6313e316cd992/ppds/rawData/009fb934-01e4-44fc-bd8b-3e506d3fe2e7-ship_csv/props/JB_northsouth</a>: 6298"
      ],
      "text/plain": [
       "<IPython.core.display.HTML object>"
      ]
     },
     "metadata": {},
     "output_type": "display_data"
    },
    {
     "data": {
      "text/html": [
       "<a target=\"_blank\" href=\"https://data.huygens.knaw.nl/rdf/datasets/u28f4a6e30d2ef7728fb4b3233cc6313e316cd992/ppds/rawData/009fb934-01e4-44fc-bd8b-3e506d3fe2e7-ship_csv/props/JB_place\">https://data.huygens.knaw.nl/rdf/datasets/u28f4a6e30d2ef7728fb4b3233cc6313e316cd992/ppds/rawData/009fb934-01e4-44fc-bd8b-3e506d3fe2e7-ship_csv/props/JB_place</a>: 6298"
      ],
      "text/plain": [
       "<IPython.core.display.HTML object>"
      ]
     },
     "metadata": {},
     "output_type": "display_data"
    },
    {
     "data": {
      "text/html": [
       "<a target=\"_blank\" href=\"https://data.huygens.knaw.nl/rdf/datasets/u28f4a6e30d2ef7728fb4b3233cc6313e316cd992/ppds/rawData/009fb934-01e4-44fc-bd8b-3e506d3fe2e7-ship_csv/props/JB_placeclass\">https://data.huygens.knaw.nl/rdf/datasets/u28f4a6e30d2ef7728fb4b3233cc6313e316cd992/ppds/rawData/009fb934-01e4-44fc-bd8b-3e506d3fe2e7-ship_csv/props/JB_placeclass</a>: 6298"
      ],
      "text/plain": [
       "<IPython.core.display.HTML object>"
      ]
     },
     "metadata": {},
     "output_type": "display_data"
    },
    {
     "data": {
      "text/html": [
       "<a target=\"_blank\" href=\"https://data.huygens.knaw.nl/rdf/datasets/u28f4a6e30d2ef7728fb4b3233cc6313e316cd992/ppds/rawData/009fb934-01e4-44fc-bd8b-3e506d3fe2e7-ship_csv/props/JB_region\">https://data.huygens.knaw.nl/rdf/datasets/u28f4a6e30d2ef7728fb4b3233cc6313e316cd992/ppds/rawData/009fb934-01e4-44fc-bd8b-3e506d3fe2e7-ship_csv/props/JB_region</a>: 6298"
      ],
      "text/plain": [
       "<IPython.core.display.HTML object>"
      ]
     },
     "metadata": {},
     "output_type": "display_data"
    },
    {
     "data": {
      "text/html": [
       "<a target=\"_blank\" href=\"https://data.huygens.knaw.nl/rdf/datasets/u28f4a6e30d2ef7728fb4b3233cc6313e316cd992/ppds/rawData/009fb934-01e4-44fc-bd8b-3e506d3fe2e7-ship_csv/props/JE_Geonames_toponym\">https://data.huygens.knaw.nl/rdf/datasets/u28f4a6e30d2ef7728fb4b3233cc6313e316cd992/ppds/rawData/009fb934-01e4-44fc-bd8b-3e506d3fe2e7-ship_csv/props/JE_Geonames_toponym</a>: 6283"
      ],
      "text/plain": [
       "<IPython.core.display.HTML object>"
      ]
     },
     "metadata": {},
     "output_type": "display_data"
    },
    {
     "data": {
      "text/html": [
       "<a target=\"_blank\" href=\"https://data.huygens.knaw.nl/rdf/datasets/u28f4a6e30d2ef7728fb4b3233cc6313e316cd992/ppds/rawData/009fb934-01e4-44fc-bd8b-3e506d3fe2e7-ship_csv/props/JE_PPD_PL_ID\">https://data.huygens.knaw.nl/rdf/datasets/u28f4a6e30d2ef7728fb4b3233cc6313e316cd992/ppds/rawData/009fb934-01e4-44fc-bd8b-3e506d3fe2e7-ship_csv/props/JE_PPD_PL_ID</a>: 6283"
      ],
      "text/plain": [
       "<IPython.core.display.HTML object>"
      ]
     },
     "metadata": {},
     "output_type": "display_data"
    },
    {
     "data": {
      "text/html": [
       "<a target=\"_blank\" href=\"https://data.huygens.knaw.nl/rdf/datasets/u28f4a6e30d2ef7728fb4b3233cc6313e316cd992/ppds/rawData/009fb934-01e4-44fc-bd8b-3e506d3fe2e7-ship_csv/props/JE_coastalKM\">https://data.huygens.knaw.nl/rdf/datasets/u28f4a6e30d2ef7728fb4b3233cc6313e316cd992/ppds/rawData/009fb934-01e4-44fc-bd8b-3e506d3fe2e7-ship_csv/props/JE_coastalKM</a>: 6283"
      ],
      "text/plain": [
       "<IPython.core.display.HTML object>"
      ]
     },
     "metadata": {},
     "output_type": "display_data"
    },
    {
     "data": {
      "text/html": [
       "<a target=\"_blank\" href=\"https://data.huygens.knaw.nl/rdf/datasets/u28f4a6e30d2ef7728fb4b3233cc6313e316cd992/ppds/rawData/009fb934-01e4-44fc-bd8b-3e506d3fe2e7-ship_csv/props/JE_coastalclass\">https://data.huygens.knaw.nl/rdf/datasets/u28f4a6e30d2ef7728fb4b3233cc6313e316cd992/ppds/rawData/009fb934-01e4-44fc-bd8b-3e506d3fe2e7-ship_csv/props/JE_coastalclass</a>: 6326"
      ],
      "text/plain": [
       "<IPython.core.display.HTML object>"
      ]
     },
     "metadata": {},
     "output_type": "display_data"
    },
    {
     "data": {
      "text/html": [
       "<a target=\"_blank\" href=\"https://data.huygens.knaw.nl/rdf/datasets/u28f4a6e30d2ef7728fb4b3233cc6313e316cd992/ppds/rawData/009fb934-01e4-44fc-bd8b-3e506d3fe2e7-ship_csv/props/JE_country\">https://data.huygens.knaw.nl/rdf/datasets/u28f4a6e30d2ef7728fb4b3233cc6313e316cd992/ppds/rawData/009fb934-01e4-44fc-bd8b-3e506d3fe2e7-ship_csv/props/JE_country</a>: 6326"
      ],
      "text/plain": [
       "<IPython.core.display.HTML object>"
      ]
     },
     "metadata": {},
     "output_type": "display_data"
    },
    {
     "data": {
      "text/html": [
       "<a target=\"_blank\" href=\"https://data.huygens.knaw.nl/rdf/datasets/u28f4a6e30d2ef7728fb4b3233cc6313e316cd992/ppds/rawData/009fb934-01e4-44fc-bd8b-3e506d3fe2e7-ship_csv/props/JE_google\">https://data.huygens.knaw.nl/rdf/datasets/u28f4a6e30d2ef7728fb4b3233cc6313e316cd992/ppds/rawData/009fb934-01e4-44fc-bd8b-3e506d3fe2e7-ship_csv/props/JE_google</a>: 6283"
      ],
      "text/plain": [
       "<IPython.core.display.HTML object>"
      ]
     },
     "metadata": {},
     "output_type": "display_data"
    },
    {
     "data": {
      "text/html": [
       "<a target=\"_blank\" href=\"https://data.huygens.knaw.nl/rdf/datasets/u28f4a6e30d2ef7728fb4b3233cc6313e316cd992/ppds/rawData/009fb934-01e4-44fc-bd8b-3e506d3fe2e7-ship_csv/props/JE_histpol\">https://data.huygens.knaw.nl/rdf/datasets/u28f4a6e30d2ef7728fb4b3233cc6313e316cd992/ppds/rawData/009fb934-01e4-44fc-bd8b-3e506d3fe2e7-ship_csv/props/JE_histpol</a>: 6315"
      ],
      "text/plain": [
       "<IPython.core.display.HTML object>"
      ]
     },
     "metadata": {},
     "output_type": "display_data"
    },
    {
     "data": {
      "text/html": [
       "<a target=\"_blank\" href=\"https://data.huygens.knaw.nl/rdf/datasets/u28f4a6e30d2ef7728fb4b3233cc6313e316cd992/ppds/rawData/009fb934-01e4-44fc-bd8b-3e506d3fe2e7-ship_csv/props/JE_latitude\">https://data.huygens.knaw.nl/rdf/datasets/u28f4a6e30d2ef7728fb4b3233cc6313e316cd992/ppds/rawData/009fb934-01e4-44fc-bd8b-3e506d3fe2e7-ship_csv/props/JE_latitude</a>: 6283"
      ],
      "text/plain": [
       "<IPython.core.display.HTML object>"
      ]
     },
     "metadata": {},
     "output_type": "display_data"
    },
    {
     "data": {
      "text/html": [
       "<a target=\"_blank\" href=\"https://data.huygens.knaw.nl/rdf/datasets/u28f4a6e30d2ef7728fb4b3233cc6313e316cd992/ppds/rawData/009fb934-01e4-44fc-bd8b-3e506d3fe2e7-ship_csv/props/JE_longitude\">https://data.huygens.knaw.nl/rdf/datasets/u28f4a6e30d2ef7728fb4b3233cc6313e316cd992/ppds/rawData/009fb934-01e4-44fc-bd8b-3e506d3fe2e7-ship_csv/props/JE_longitude</a>: 6283"
      ],
      "text/plain": [
       "<IPython.core.display.HTML object>"
      ]
     },
     "metadata": {},
     "output_type": "display_data"
    },
    {
     "data": {
      "text/html": [
       "<a target=\"_blank\" href=\"https://data.huygens.knaw.nl/rdf/datasets/u28f4a6e30d2ef7728fb4b3233cc6313e316cd992/ppds/rawData/009fb934-01e4-44fc-bd8b-3e506d3fe2e7-ship_csv/props/JE_northsouth\">https://data.huygens.knaw.nl/rdf/datasets/u28f4a6e30d2ef7728fb4b3233cc6313e316cd992/ppds/rawData/009fb934-01e4-44fc-bd8b-3e506d3fe2e7-ship_csv/props/JE_northsouth</a>: 6326"
      ],
      "text/plain": [
       "<IPython.core.display.HTML object>"
      ]
     },
     "metadata": {},
     "output_type": "display_data"
    },
    {
     "data": {
      "text/html": [
       "<a target=\"_blank\" href=\"https://data.huygens.knaw.nl/rdf/datasets/u28f4a6e30d2ef7728fb4b3233cc6313e316cd992/ppds/rawData/009fb934-01e4-44fc-bd8b-3e506d3fe2e7-ship_csv/props/JE_place\">https://data.huygens.knaw.nl/rdf/datasets/u28f4a6e30d2ef7728fb4b3233cc6313e316cd992/ppds/rawData/009fb934-01e4-44fc-bd8b-3e506d3fe2e7-ship_csv/props/JE_place</a>: 6326"
      ],
      "text/plain": [
       "<IPython.core.display.HTML object>"
      ]
     },
     "metadata": {},
     "output_type": "display_data"
    },
    {
     "data": {
      "text/html": [
       "<a target=\"_blank\" href=\"https://data.huygens.knaw.nl/rdf/datasets/u28f4a6e30d2ef7728fb4b3233cc6313e316cd992/ppds/rawData/009fb934-01e4-44fc-bd8b-3e506d3fe2e7-ship_csv/props/JE_placeclass\">https://data.huygens.knaw.nl/rdf/datasets/u28f4a6e30d2ef7728fb4b3233cc6313e316cd992/ppds/rawData/009fb934-01e4-44fc-bd8b-3e506d3fe2e7-ship_csv/props/JE_placeclass</a>: 6326"
      ],
      "text/plain": [
       "<IPython.core.display.HTML object>"
      ]
     },
     "metadata": {},
     "output_type": "display_data"
    },
    {
     "data": {
      "text/html": [
       "<a target=\"_blank\" href=\"https://data.huygens.knaw.nl/rdf/datasets/u28f4a6e30d2ef7728fb4b3233cc6313e316cd992/ppds/rawData/009fb934-01e4-44fc-bd8b-3e506d3fe2e7-ship_csv/props/JE_region\">https://data.huygens.knaw.nl/rdf/datasets/u28f4a6e30d2ef7728fb4b3233cc6313e316cd992/ppds/rawData/009fb934-01e4-44fc-bd8b-3e506d3fe2e7-ship_csv/props/JE_region</a>: 6326"
      ],
      "text/plain": [
       "<IPython.core.display.HTML object>"
      ]
     },
     "metadata": {},
     "output_type": "display_data"
    },
    {
     "data": {
      "text/html": [
       "<a target=\"_blank\" href=\"https://data.huygens.knaw.nl/rdf/datasets/u28f4a6e30d2ef7728fb4b3233cc6313e316cd992/ppds/rawData/009fb934-01e4-44fc-bd8b-3e506d3fe2e7-ship_csv/props/OR_Geonames_topomym\">https://data.huygens.knaw.nl/rdf/datasets/u28f4a6e30d2ef7728fb4b3233cc6313e316cd992/ppds/rawData/009fb934-01e4-44fc-bd8b-3e506d3fe2e7-ship_csv/props/OR_Geonames_topomym</a>: 6306"
      ],
      "text/plain": [
       "<IPython.core.display.HTML object>"
      ]
     },
     "metadata": {},
     "output_type": "display_data"
    },
    {
     "data": {
      "text/html": [
       "<a target=\"_blank\" href=\"https://data.huygens.knaw.nl/rdf/datasets/u28f4a6e30d2ef7728fb4b3233cc6313e316cd992/ppds/rawData/009fb934-01e4-44fc-bd8b-3e506d3fe2e7-ship_csv/props/OR_PPD_PL_ID\">https://data.huygens.knaw.nl/rdf/datasets/u28f4a6e30d2ef7728fb4b3233cc6313e316cd992/ppds/rawData/009fb934-01e4-44fc-bd8b-3e506d3fe2e7-ship_csv/props/OR_PPD_PL_ID</a>: 6306"
      ],
      "text/plain": [
       "<IPython.core.display.HTML object>"
      ]
     },
     "metadata": {},
     "output_type": "display_data"
    },
    {
     "data": {
      "text/html": [
       "<a target=\"_blank\" href=\"https://data.huygens.knaw.nl/rdf/datasets/u28f4a6e30d2ef7728fb4b3233cc6313e316cd992/ppds/rawData/009fb934-01e4-44fc-bd8b-3e506d3fe2e7-ship_csv/props/OR_altscan\">https://data.huygens.knaw.nl/rdf/datasets/u28f4a6e30d2ef7728fb4b3233cc6313e316cd992/ppds/rawData/009fb934-01e4-44fc-bd8b-3e506d3fe2e7-ship_csv/props/OR_altscan</a>: 856"
      ],
      "text/plain": [
       "<IPython.core.display.HTML object>"
      ]
     },
     "metadata": {},
     "output_type": "display_data"
    },
    {
     "data": {
      "text/html": [
       "<a target=\"_blank\" href=\"https://data.huygens.knaw.nl/rdf/datasets/u28f4a6e30d2ef7728fb4b3233cc6313e316cd992/ppds/rawData/009fb934-01e4-44fc-bd8b-3e506d3fe2e7-ship_csv/props/OR_coastalKM\">https://data.huygens.knaw.nl/rdf/datasets/u28f4a6e30d2ef7728fb4b3233cc6313e316cd992/ppds/rawData/009fb934-01e4-44fc-bd8b-3e506d3fe2e7-ship_csv/props/OR_coastalKM</a>: 6306"
      ],
      "text/plain": [
       "<IPython.core.display.HTML object>"
      ]
     },
     "metadata": {},
     "output_type": "display_data"
    },
    {
     "data": {
      "text/html": [
       "<a target=\"_blank\" href=\"https://data.huygens.knaw.nl/rdf/datasets/u28f4a6e30d2ef7728fb4b3233cc6313e316cd992/ppds/rawData/009fb934-01e4-44fc-bd8b-3e506d3fe2e7-ship_csv/props/OR_coastalclass\">https://data.huygens.knaw.nl/rdf/datasets/u28f4a6e30d2ef7728fb4b3233cc6313e316cd992/ppds/rawData/009fb934-01e4-44fc-bd8b-3e506d3fe2e7-ship_csv/props/OR_coastalclass</a>: 6371"
      ],
      "text/plain": [
       "<IPython.core.display.HTML object>"
      ]
     },
     "metadata": {},
     "output_type": "display_data"
    },
    {
     "data": {
      "text/html": [
       "<a target=\"_blank\" href=\"https://data.huygens.knaw.nl/rdf/datasets/u28f4a6e30d2ef7728fb4b3233cc6313e316cd992/ppds/rawData/009fb934-01e4-44fc-bd8b-3e506d3fe2e7-ship_csv/props/OR_country\">https://data.huygens.knaw.nl/rdf/datasets/u28f4a6e30d2ef7728fb4b3233cc6313e316cd992/ppds/rawData/009fb934-01e4-44fc-bd8b-3e506d3fe2e7-ship_csv/props/OR_country</a>: 6307"
      ],
      "text/plain": [
       "<IPython.core.display.HTML object>"
      ]
     },
     "metadata": {},
     "output_type": "display_data"
    },
    {
     "data": {
      "text/html": [
       "<a target=\"_blank\" href=\"https://data.huygens.knaw.nl/rdf/datasets/u28f4a6e30d2ef7728fb4b3233cc6313e316cd992/ppds/rawData/009fb934-01e4-44fc-bd8b-3e506d3fe2e7-ship_csv/props/OR_google\">https://data.huygens.knaw.nl/rdf/datasets/u28f4a6e30d2ef7728fb4b3233cc6313e316cd992/ppds/rawData/009fb934-01e4-44fc-bd8b-3e506d3fe2e7-ship_csv/props/OR_google</a>: 6306"
      ],
      "text/plain": [
       "<IPython.core.display.HTML object>"
      ]
     },
     "metadata": {},
     "output_type": "display_data"
    },
    {
     "data": {
      "text/html": [
       "<a target=\"_blank\" href=\"https://data.huygens.knaw.nl/rdf/datasets/u28f4a6e30d2ef7728fb4b3233cc6313e316cd992/ppds/rawData/009fb934-01e4-44fc-bd8b-3e506d3fe2e7-ship_csv/props/OR_histpol\">https://data.huygens.knaw.nl/rdf/datasets/u28f4a6e30d2ef7728fb4b3233cc6313e316cd992/ppds/rawData/009fb934-01e4-44fc-bd8b-3e506d3fe2e7-ship_csv/props/OR_histpol</a>: 6364"
      ],
      "text/plain": [
       "<IPython.core.display.HTML object>"
      ]
     },
     "metadata": {},
     "output_type": "display_data"
    },
    {
     "data": {
      "text/html": [
       "<a target=\"_blank\" href=\"https://data.huygens.knaw.nl/rdf/datasets/u28f4a6e30d2ef7728fb4b3233cc6313e316cd992/ppds/rawData/009fb934-01e4-44fc-bd8b-3e506d3fe2e7-ship_csv/props/OR_latitude\">https://data.huygens.knaw.nl/rdf/datasets/u28f4a6e30d2ef7728fb4b3233cc6313e316cd992/ppds/rawData/009fb934-01e4-44fc-bd8b-3e506d3fe2e7-ship_csv/props/OR_latitude</a>: 6306"
      ],
      "text/plain": [
       "<IPython.core.display.HTML object>"
      ]
     },
     "metadata": {},
     "output_type": "display_data"
    },
    {
     "data": {
      "text/html": [
       "<a target=\"_blank\" href=\"https://data.huygens.knaw.nl/rdf/datasets/u28f4a6e30d2ef7728fb4b3233cc6313e316cd992/ppds/rawData/009fb934-01e4-44fc-bd8b-3e506d3fe2e7-ship_csv/props/OR_longitude\">https://data.huygens.knaw.nl/rdf/datasets/u28f4a6e30d2ef7728fb4b3233cc6313e316cd992/ppds/rawData/009fb934-01e4-44fc-bd8b-3e506d3fe2e7-ship_csv/props/OR_longitude</a>: 6306"
      ],
      "text/plain": [
       "<IPython.core.display.HTML object>"
      ]
     },
     "metadata": {},
     "output_type": "display_data"
    },
    {
     "data": {
      "text/html": [
       "<a target=\"_blank\" href=\"https://data.huygens.knaw.nl/rdf/datasets/u28f4a6e30d2ef7728fb4b3233cc6313e316cd992/ppds/rawData/009fb934-01e4-44fc-bd8b-3e506d3fe2e7-ship_csv/props/OR_northsouth\">https://data.huygens.knaw.nl/rdf/datasets/u28f4a6e30d2ef7728fb4b3233cc6313e316cd992/ppds/rawData/009fb934-01e4-44fc-bd8b-3e506d3fe2e7-ship_csv/props/OR_northsouth</a>: 6307"
      ],
      "text/plain": [
       "<IPython.core.display.HTML object>"
      ]
     },
     "metadata": {},
     "output_type": "display_data"
    },
    {
     "data": {
      "text/html": [
       "<a target=\"_blank\" href=\"https://data.huygens.knaw.nl/rdf/datasets/u28f4a6e30d2ef7728fb4b3233cc6313e316cd992/ppds/rawData/009fb934-01e4-44fc-bd8b-3e506d3fe2e7-ship_csv/props/OR_place\">https://data.huygens.knaw.nl/rdf/datasets/u28f4a6e30d2ef7728fb4b3233cc6313e316cd992/ppds/rawData/009fb934-01e4-44fc-bd8b-3e506d3fe2e7-ship_csv/props/OR_place</a>: 6307"
      ],
      "text/plain": [
       "<IPython.core.display.HTML object>"
      ]
     },
     "metadata": {},
     "output_type": "display_data"
    },
    {
     "data": {
      "text/html": [
       "<a target=\"_blank\" href=\"https://data.huygens.knaw.nl/rdf/datasets/u28f4a6e30d2ef7728fb4b3233cc6313e316cd992/ppds/rawData/009fb934-01e4-44fc-bd8b-3e506d3fe2e7-ship_csv/props/OR_placeclass\">https://data.huygens.knaw.nl/rdf/datasets/u28f4a6e30d2ef7728fb4b3233cc6313e316cd992/ppds/rawData/009fb934-01e4-44fc-bd8b-3e506d3fe2e7-ship_csv/props/OR_placeclass</a>: 6371"
      ],
      "text/plain": [
       "<IPython.core.display.HTML object>"
      ]
     },
     "metadata": {},
     "output_type": "display_data"
    },
    {
     "data": {
      "text/html": [
       "<a target=\"_blank\" href=\"https://data.huygens.knaw.nl/rdf/datasets/u28f4a6e30d2ef7728fb4b3233cc6313e316cd992/ppds/rawData/009fb934-01e4-44fc-bd8b-3e506d3fe2e7-ship_csv/props/OR_region\">https://data.huygens.knaw.nl/rdf/datasets/u28f4a6e30d2ef7728fb4b3233cc6313e316cd992/ppds/rawData/009fb934-01e4-44fc-bd8b-3e506d3fe2e7-ship_csv/props/OR_region</a>: 6307"
      ],
      "text/plain": [
       "<IPython.core.display.HTML object>"
      ]
     },
     "metadata": {},
     "output_type": "display_data"
    },
    {
     "data": {
      "text/html": [
       "<a target=\"_blank\" href=\"https://data.huygens.knaw.nl/rdf/datasets/u28f4a6e30d2ef7728fb4b3233cc6313e316cd992/ppds/rawData/009fb934-01e4-44fc-bd8b-3e506d3fe2e7-ship_csv/props/PPD_SHIP_ID\">https://data.huygens.knaw.nl/rdf/datasets/u28f4a6e30d2ef7728fb4b3233cc6313e316cd992/ppds/rawData/009fb934-01e4-44fc-bd8b-3e506d3fe2e7-ship_csv/props/PPD_SHIP_ID</a>: 6440"
      ],
      "text/plain": [
       "<IPython.core.display.HTML object>"
      ]
     },
     "metadata": {},
     "output_type": "display_data"
    },
    {
     "data": {
      "text/html": [
       "<a target=\"_blank\" href=\"https://data.huygens.knaw.nl/rdf/datasets/u28f4a6e30d2ef7728fb4b3233cc6313e316cd992/ppds/rawData/009fb934-01e4-44fc-bd8b-3e506d3fe2e7-ship_csv/props/SHIP_CONV_TONNAGE\">https://data.huygens.knaw.nl/rdf/datasets/u28f4a6e30d2ef7728fb4b3233cc6313e316cd992/ppds/rawData/009fb934-01e4-44fc-bd8b-3e506d3fe2e7-ship_csv/props/SHIP_CONV_TONNAGE</a>: 6151"
      ],
      "text/plain": [
       "<IPython.core.display.HTML object>"
      ]
     },
     "metadata": {},
     "output_type": "display_data"
    },
    {
     "data": {
      "text/html": [
       "<a target=\"_blank\" href=\"https://data.huygens.knaw.nl/rdf/datasets/u28f4a6e30d2ef7728fb4b3233cc6313e316cd992/ppds/rawData/009fb934-01e4-44fc-bd8b-3e506d3fe2e7-ship_csv/props/ShipAge\">https://data.huygens.knaw.nl/rdf/datasets/u28f4a6e30d2ef7728fb4b3233cc6313e316cd992/ppds/rawData/009fb934-01e4-44fc-bd8b-3e506d3fe2e7-ship_csv/props/ShipAge</a>: 1607"
      ],
      "text/plain": [
       "<IPython.core.display.HTML object>"
      ]
     },
     "metadata": {},
     "output_type": "display_data"
    },
    {
     "data": {
      "text/html": [
       "<a target=\"_blank\" href=\"https://data.huygens.knaw.nl/rdf/datasets/u28f4a6e30d2ef7728fb4b3233cc6313e316cd992/ppds/rawData/009fb934-01e4-44fc-bd8b-3e506d3fe2e7-ship_csv/props/ShipComments\">https://data.huygens.knaw.nl/rdf/datasets/u28f4a6e30d2ef7728fb4b3233cc6313e316cd992/ppds/rawData/009fb934-01e4-44fc-bd8b-3e506d3fe2e7-ship_csv/props/ShipComments</a>: 2483"
      ],
      "text/plain": [
       "<IPython.core.display.HTML object>"
      ]
     },
     "metadata": {},
     "output_type": "display_data"
    },
    {
     "data": {
      "text/html": [
       "<a target=\"_blank\" href=\"https://data.huygens.knaw.nl/rdf/datasets/u28f4a6e30d2ef7728fb4b3233cc6313e316cd992/ppds/rawData/009fb934-01e4-44fc-bd8b-3e506d3fe2e7-ship_csv/props/ShipConstrPlace\">https://data.huygens.knaw.nl/rdf/datasets/u28f4a6e30d2ef7728fb4b3233cc6313e316cd992/ppds/rawData/009fb934-01e4-44fc-bd8b-3e506d3fe2e7-ship_csv/props/ShipConstrPlace</a>: 5204"
      ],
      "text/plain": [
       "<IPython.core.display.HTML object>"
      ]
     },
     "metadata": {},
     "output_type": "display_data"
    },
    {
     "data": {
      "text/html": [
       "<a target=\"_blank\" href=\"https://data.huygens.knaw.nl/rdf/datasets/u28f4a6e30d2ef7728fb4b3233cc6313e316cd992/ppds/rawData/009fb934-01e4-44fc-bd8b-3e506d3fe2e7-ship_csv/props/ShipCrewNat\">https://data.huygens.knaw.nl/rdf/datasets/u28f4a6e30d2ef7728fb4b3233cc6313e316cd992/ppds/rawData/009fb934-01e4-44fc-bd8b-3e506d3fe2e7-ship_csv/props/ShipCrewNat</a>: 6378"
      ],
      "text/plain": [
       "<IPython.core.display.HTML object>"
      ]
     },
     "metadata": {},
     "output_type": "display_data"
    },
    {
     "data": {
      "text/html": [
       "<a target=\"_blank\" href=\"https://data.huygens.knaw.nl/rdf/datasets/u28f4a6e30d2ef7728fb4b3233cc6313e316cd992/ppds/rawData/009fb934-01e4-44fc-bd8b-3e506d3fe2e7-ship_csv/props/ShipCrewTot\">https://data.huygens.knaw.nl/rdf/datasets/u28f4a6e30d2ef7728fb4b3233cc6313e316cd992/ppds/rawData/009fb934-01e4-44fc-bd8b-3e506d3fe2e7-ship_csv/props/ShipCrewTot</a>: 6066"
      ],
      "text/plain": [
       "<IPython.core.display.HTML object>"
      ]
     },
     "metadata": {},
     "output_type": "display_data"
    },
    {
     "data": {
      "text/html": [
       "<a target=\"_blank\" href=\"https://data.huygens.knaw.nl/rdf/datasets/u28f4a6e30d2ef7728fb4b3233cc6313e316cd992/ppds/rawData/009fb934-01e4-44fc-bd8b-3e506d3fe2e7-ship_csv/props/ShipDateEDTF\">https://data.huygens.knaw.nl/rdf/datasets/u28f4a6e30d2ef7728fb4b3233cc6313e316cd992/ppds/rawData/009fb934-01e4-44fc-bd8b-3e506d3fe2e7-ship_csv/props/ShipDateEDTF</a>: 6438"
      ],
      "text/plain": [
       "<IPython.core.display.HTML object>"
      ]
     },
     "metadata": {},
     "output_type": "display_data"
    },
    {
     "data": {
      "text/html": [
       "<a target=\"_blank\" href=\"https://data.huygens.knaw.nl/rdf/datasets/u28f4a6e30d2ef7728fb4b3233cc6313e316cd992/ppds/rawData/009fb934-01e4-44fc-bd8b-3e506d3fe2e7-ship_csv/props/ShipDateMonth\">https://data.huygens.knaw.nl/rdf/datasets/u28f4a6e30d2ef7728fb4b3233cc6313e316cd992/ppds/rawData/009fb934-01e4-44fc-bd8b-3e506d3fe2e7-ship_csv/props/ShipDateMonth</a>: 5737"
      ],
      "text/plain": [
       "<IPython.core.display.HTML object>"
      ]
     },
     "metadata": {},
     "output_type": "display_data"
    },
    {
     "data": {
      "text/html": [
       "<a target=\"_blank\" href=\"https://data.huygens.knaw.nl/rdf/datasets/u28f4a6e30d2ef7728fb4b3233cc6313e316cd992/ppds/rawData/009fb934-01e4-44fc-bd8b-3e506d3fe2e7-ship_csv/props/ShipDateYear\">https://data.huygens.knaw.nl/rdf/datasets/u28f4a6e30d2ef7728fb4b3233cc6313e316cd992/ppds/rawData/009fb934-01e4-44fc-bd8b-3e506d3fe2e7-ship_csv/props/ShipDateYear</a>: 6438"
      ],
      "text/plain": [
       "<IPython.core.display.HTML object>"
      ]
     },
     "metadata": {},
     "output_type": "display_data"
    },
    {
     "data": {
      "text/html": [
       "<a target=\"_blank\" href=\"https://data.huygens.knaw.nl/rdf/datasets/u28f4a6e30d2ef7728fb4b3233cc6313e316cd992/ppds/rawData/009fb934-01e4-44fc-bd8b-3e506d3fe2e7-ship_csv/props/ShipJournBegin\">https://data.huygens.knaw.nl/rdf/datasets/u28f4a6e30d2ef7728fb4b3233cc6313e316cd992/ppds/rawData/009fb934-01e4-44fc-bd8b-3e506d3fe2e7-ship_csv/props/ShipJournBegin</a>: 6433"
      ],
      "text/plain": [
       "<IPython.core.display.HTML object>"
      ]
     },
     "metadata": {},
     "output_type": "display_data"
    },
    {
     "data": {
      "text/html": [
       "<a target=\"_blank\" href=\"https://data.huygens.knaw.nl/rdf/datasets/u28f4a6e30d2ef7728fb4b3233cc6313e316cd992/ppds/rawData/009fb934-01e4-44fc-bd8b-3e506d3fe2e7-ship_csv/props/ShipJournEnd\">https://data.huygens.knaw.nl/rdf/datasets/u28f4a6e30d2ef7728fb4b3233cc6313e316cd992/ppds/rawData/009fb934-01e4-44fc-bd8b-3e506d3fe2e7-ship_csv/props/ShipJournEnd</a>: 6427"
      ],
      "text/plain": [
       "<IPython.core.display.HTML object>"
      ]
     },
     "metadata": {},
     "output_type": "display_data"
    },
    {
     "data": {
      "text/html": [
       "<a target=\"_blank\" href=\"https://data.huygens.knaw.nl/rdf/datasets/u28f4a6e30d2ef7728fb4b3233cc6313e316cd992/ppds/rawData/009fb934-01e4-44fc-bd8b-3e506d3fe2e7-ship_csv/props/ShipLastage\">https://data.huygens.knaw.nl/rdf/datasets/u28f4a6e30d2ef7728fb4b3233cc6313e316cd992/ppds/rawData/009fb934-01e4-44fc-bd8b-3e506d3fe2e7-ship_csv/props/ShipLastage</a>: 1438"
      ],
      "text/plain": [
       "<IPython.core.display.HTML object>"
      ]
     },
     "metadata": {},
     "output_type": "display_data"
    },
    {
     "data": {
      "text/html": [
       "<a target=\"_blank\" href=\"https://data.huygens.knaw.nl/rdf/datasets/u28f4a6e30d2ef7728fb4b3233cc6313e316cd992/ppds/rawData/009fb934-01e4-44fc-bd8b-3e506d3fe2e7-ship_csv/props/ShipMustPlace\">https://data.huygens.knaw.nl/rdf/datasets/u28f4a6e30d2ef7728fb4b3233cc6313e316cd992/ppds/rawData/009fb934-01e4-44fc-bd8b-3e506d3fe2e7-ship_csv/props/ShipMustPlace</a>: 5450"
      ],
      "text/plain": [
       "<IPython.core.display.HTML object>"
      ]
     },
     "metadata": {},
     "output_type": "display_data"
    },
    {
     "data": {
      "text/html": [
       "<a target=\"_blank\" href=\"https://data.huygens.knaw.nl/rdf/datasets/u28f4a6e30d2ef7728fb4b3233cc6313e316cd992/ppds/rawData/009fb934-01e4-44fc-bd8b-3e506d3fe2e7-ship_csv/props/ShipName\">https://data.huygens.knaw.nl/rdf/datasets/u28f4a6e30d2ef7728fb4b3233cc6313e316cd992/ppds/rawData/009fb934-01e4-44fc-bd8b-3e506d3fe2e7-ship_csv/props/ShipName</a>: 6439"
      ],
      "text/plain": [
       "<IPython.core.display.HTML object>"
      ]
     },
     "metadata": {},
     "output_type": "display_data"
    },
    {
     "data": {
      "text/html": [
       "<a target=\"_blank\" href=\"https://data.huygens.knaw.nl/rdf/datasets/u28f4a6e30d2ef7728fb4b3233cc6313e316cd992/ppds/rawData/009fb934-01e4-44fc-bd8b-3e506d3fe2e7-ship_csv/props/ShipOwnGender\">https://data.huygens.knaw.nl/rdf/datasets/u28f4a6e30d2ef7728fb4b3233cc6313e316cd992/ppds/rawData/009fb934-01e4-44fc-bd8b-3e506d3fe2e7-ship_csv/props/ShipOwnGender</a>: 4836"
      ],
      "text/plain": [
       "<IPython.core.display.HTML object>"
      ]
     },
     "metadata": {},
     "output_type": "display_data"
    },
    {
     "data": {
      "text/html": [
       "<a target=\"_blank\" href=\"https://data.huygens.knaw.nl/rdf/datasets/u28f4a6e30d2ef7728fb4b3233cc6313e316cd992/ppds/rawData/009fb934-01e4-44fc-bd8b-3e506d3fe2e7-ship_csv/props/ShipOwnRes\">https://data.huygens.knaw.nl/rdf/datasets/u28f4a6e30d2ef7728fb4b3233cc6313e316cd992/ppds/rawData/009fb934-01e4-44fc-bd8b-3e506d3fe2e7-ship_csv/props/ShipOwnRes</a>: 6383"
      ],
      "text/plain": [
       "<IPython.core.display.HTML object>"
      ]
     },
     "metadata": {},
     "output_type": "display_data"
    },
    {
     "data": {
      "text/html": [
       "<a target=\"_blank\" href=\"https://data.huygens.knaw.nl/rdf/datasets/u28f4a6e30d2ef7728fb4b3233cc6313e316cd992/ppds/rawData/009fb934-01e4-44fc-bd8b-3e506d3fe2e7-ship_csv/props/ShipSkipPart\">https://data.huygens.knaw.nl/rdf/datasets/u28f4a6e30d2ef7728fb4b3233cc6313e316cd992/ppds/rawData/009fb934-01e4-44fc-bd8b-3e506d3fe2e7-ship_csv/props/ShipSkipPart</a>: 6353"
      ],
      "text/plain": [
       "<IPython.core.display.HTML object>"
      ]
     },
     "metadata": {},
     "output_type": "display_data"
    },
    {
     "data": {
      "text/html": [
       "<a target=\"_blank\" href=\"https://data.huygens.knaw.nl/rdf/datasets/u28f4a6e30d2ef7728fb4b3233cc6313e316cd992/ppds/rawData/009fb934-01e4-44fc-bd8b-3e506d3fe2e7-ship_csv/props/ShipSource\">https://data.huygens.knaw.nl/rdf/datasets/u28f4a6e30d2ef7728fb4b3233cc6313e316cd992/ppds/rawData/009fb934-01e4-44fc-bd8b-3e506d3fe2e7-ship_csv/props/ShipSource</a>: 6439"
      ],
      "text/plain": [
       "<IPython.core.display.HTML object>"
      ]
     },
     "metadata": {},
     "output_type": "display_data"
    },
    {
     "data": {
      "text/html": [
       "<a target=\"_blank\" href=\"https://data.huygens.knaw.nl/rdf/datasets/u28f4a6e30d2ef7728fb4b3233cc6313e316cd992/ppds/rawData/009fb934-01e4-44fc-bd8b-3e506d3fe2e7-ship_csv/props/ShipTakenLocation\">https://data.huygens.knaw.nl/rdf/datasets/u28f4a6e30d2ef7728fb4b3233cc6313e316cd992/ppds/rawData/009fb934-01e4-44fc-bd8b-3e506d3fe2e7-ship_csv/props/ShipTakenLocation</a>: 6034"
      ],
      "text/plain": [
       "<IPython.core.display.HTML object>"
      ]
     },
     "metadata": {},
     "output_type": "display_data"
    },
    {
     "data": {
      "text/html": [
       "<a target=\"_blank\" href=\"https://data.huygens.knaw.nl/rdf/datasets/u28f4a6e30d2ef7728fb4b3233cc6313e316cd992/ppds/rawData/009fb934-01e4-44fc-bd8b-3e506d3fe2e7-ship_csv/props/ShipTonnage\">https://data.huygens.knaw.nl/rdf/datasets/u28f4a6e30d2ef7728fb4b3233cc6313e316cd992/ppds/rawData/009fb934-01e4-44fc-bd8b-3e506d3fe2e7-ship_csv/props/ShipTonnage</a>: 4742"
      ],
      "text/plain": [
       "<IPython.core.display.HTML object>"
      ]
     },
     "metadata": {},
     "output_type": "display_data"
    },
    {
     "data": {
      "text/html": [
       "<a target=\"_blank\" href=\"https://data.huygens.knaw.nl/rdf/datasets/u28f4a6e30d2ef7728fb4b3233cc6313e316cd992/ppds/rawData/009fb934-01e4-44fc-bd8b-3e506d3fe2e7-ship_csv/props/period_coding\">https://data.huygens.knaw.nl/rdf/datasets/u28f4a6e30d2ef7728fb4b3233cc6313e316cd992/ppds/rawData/009fb934-01e4-44fc-bd8b-3e506d3fe2e7-ship_csv/props/period_coding</a>: 6440"
      ],
      "text/plain": [
       "<IPython.core.display.HTML object>"
      ]
     },
     "metadata": {},
     "output_type": "display_data"
    },
    {
     "data": {
      "text/html": [
       "<a target=\"_blank\" href=\"https://data.huygens.knaw.nl/rdf/datasets/u28f4a6e30d2ef7728fb4b3233cc6313e316cd992/ppds/rawData/009fb934-01e4-44fc-bd8b-3e506d3fe2e7-ship_csv/props/tim_id\">https://data.huygens.knaw.nl/rdf/datasets/u28f4a6e30d2ef7728fb4b3233cc6313e316cd992/ppds/rawData/009fb934-01e4-44fc-bd8b-3e506d3fe2e7-ship_csv/props/tim_id</a>: 6440"
      ],
      "text/plain": [
       "<IPython.core.display.HTML object>"
      ]
     },
     "metadata": {},
     "output_type": "display_data"
    },
    {
     "data": {
      "text/html": [
       "<a target=\"_blank\" href=\"https://data.huygens.knaw.nl/rdf/datasets/u28f4a6e30d2ef7728fb4b3233cc6313e316cd992/ppds/rawData/022833ba-6228-4ad1-a0d0-732c51174d4b-crew_csv/props/Alt_ScanBPL\">https://data.huygens.knaw.nl/rdf/datasets/u28f4a6e30d2ef7728fb4b3233cc6313e316cd992/ppds/rawData/022833ba-6228-4ad1-a0d0-732c51174d4b-crew_csv/props/Alt_ScanBPL</a>: 2832"
      ],
      "text/plain": [
       "<IPython.core.display.HTML object>"
      ]
     },
     "metadata": {},
     "output_type": "display_data"
    },
    {
     "data": {
      "text/html": [
       "<a target=\"_blank\" href=\"https://data.huygens.knaw.nl/rdf/datasets/u28f4a6e30d2ef7728fb4b3233cc6313e316cd992/ppds/rawData/022833ba-6228-4ad1-a0d0-732c51174d4b-crew_csv/props/Alt_ScanRES\">https://data.huygens.knaw.nl/rdf/datasets/u28f4a6e30d2ef7728fb4b3233cc6313e316cd992/ppds/rawData/022833ba-6228-4ad1-a0d0-732c51174d4b-crew_csv/props/Alt_ScanRES</a>: 2720"
      ],
      "text/plain": [
       "<IPython.core.display.HTML object>"
      ]
     },
     "metadata": {},
     "output_type": "display_data"
    },
    {
     "data": {
      "text/html": [
       "<a target=\"_blank\" href=\"https://data.huygens.knaw.nl/rdf/datasets/u28f4a6e30d2ef7728fb4b3233cc6313e316cd992/ppds/rawData/022833ba-6228-4ad1-a0d0-732c51174d4b-crew_csv/props/Alt_Scan_RegMig\">https://data.huygens.knaw.nl/rdf/datasets/u28f4a6e30d2ef7728fb4b3233cc6313e316cd992/ppds/rawData/022833ba-6228-4ad1-a0d0-732c51174d4b-crew_csv/props/Alt_Scan_RegMig</a>: 2168"
      ],
      "text/plain": [
       "<IPython.core.display.HTML object>"
      ]
     },
     "metadata": {},
     "output_type": "display_data"
    },
    {
     "data": {
      "text/html": [
       "<a target=\"_blank\" href=\"https://data.huygens.knaw.nl/rdf/datasets/u28f4a6e30d2ef7728fb4b3233cc6313e316cd992/ppds/rawData/022833ba-6228-4ad1-a0d0-732c51174d4b-crew_csv/props/BPL_Geonames_toponym\">https://data.huygens.knaw.nl/rdf/datasets/u28f4a6e30d2ef7728fb4b3233cc6313e316cd992/ppds/rawData/022833ba-6228-4ad1-a0d0-732c51174d4b-crew_csv/props/BPL_Geonames_toponym</a>: 15241"
      ],
      "text/plain": [
       "<IPython.core.display.HTML object>"
      ]
     },
     "metadata": {},
     "output_type": "display_data"
    },
    {
     "data": {
      "text/html": [
       "<a target=\"_blank\" href=\"https://data.huygens.knaw.nl/rdf/datasets/u28f4a6e30d2ef7728fb4b3233cc6313e316cd992/ppds/rawData/022833ba-6228-4ad1-a0d0-732c51174d4b-crew_csv/props/BPL_OR_DIS_KM\">https://data.huygens.knaw.nl/rdf/datasets/u28f4a6e30d2ef7728fb4b3233cc6313e316cd992/ppds/rawData/022833ba-6228-4ad1-a0d0-732c51174d4b-crew_csv/props/BPL_OR_DIS_KM</a>: 15005"
      ],
      "text/plain": [
       "<IPython.core.display.HTML object>"
      ]
     },
     "metadata": {},
     "output_type": "display_data"
    },
    {
     "data": {
      "text/html": [
       "<a target=\"_blank\" href=\"https://data.huygens.knaw.nl/rdf/datasets/u28f4a6e30d2ef7728fb4b3233cc6313e316cd992/ppds/rawData/022833ba-6228-4ad1-a0d0-732c51174d4b-crew_csv/props/BPL_PPD_PL_ID\">https://data.huygens.knaw.nl/rdf/datasets/u28f4a6e30d2ef7728fb4b3233cc6313e316cd992/ppds/rawData/022833ba-6228-4ad1-a0d0-732c51174d4b-crew_csv/props/BPL_PPD_PL_ID</a>: 15241"
      ],
      "text/plain": [
       "<IPython.core.display.HTML object>"
      ]
     },
     "metadata": {},
     "output_type": "display_data"
    },
    {
     "data": {
      "text/html": [
       "<a target=\"_blank\" href=\"https://data.huygens.knaw.nl/rdf/datasets/u28f4a6e30d2ef7728fb4b3233cc6313e316cd992/ppds/rawData/022833ba-6228-4ad1-a0d0-732c51174d4b-crew_csv/props/BPL_RES_DIS_KM\">https://data.huygens.knaw.nl/rdf/datasets/u28f4a6e30d2ef7728fb4b3233cc6313e316cd992/ppds/rawData/022833ba-6228-4ad1-a0d0-732c51174d4b-crew_csv/props/BPL_RES_DIS_KM</a>: 14646"
      ],
      "text/plain": [
       "<IPython.core.display.HTML object>"
      ]
     },
     "metadata": {},
     "output_type": "display_data"
    },
    {
     "data": {
      "text/html": [
       "<a target=\"_blank\" href=\"https://data.huygens.knaw.nl/rdf/datasets/u28f4a6e30d2ef7728fb4b3233cc6313e316cd992/ppds/rawData/022833ba-6228-4ad1-a0d0-732c51174d4b-crew_csv/props/BPL_coastalKM\">https://data.huygens.knaw.nl/rdf/datasets/u28f4a6e30d2ef7728fb4b3233cc6313e316cd992/ppds/rawData/022833ba-6228-4ad1-a0d0-732c51174d4b-crew_csv/props/BPL_coastalKM</a>: 15241"
      ],
      "text/plain": [
       "<IPython.core.display.HTML object>"
      ]
     },
     "metadata": {},
     "output_type": "display_data"
    },
    {
     "data": {
      "text/html": [
       "<a target=\"_blank\" href=\"https://data.huygens.knaw.nl/rdf/datasets/u28f4a6e30d2ef7728fb4b3233cc6313e316cd992/ppds/rawData/022833ba-6228-4ad1-a0d0-732c51174d4b-crew_csv/props/BPL_coastalclass\">https://data.huygens.knaw.nl/rdf/datasets/u28f4a6e30d2ef7728fb4b3233cc6313e316cd992/ppds/rawData/022833ba-6228-4ad1-a0d0-732c51174d4b-crew_csv/props/BPL_coastalclass</a>: 15253"
      ],
      "text/plain": [
       "<IPython.core.display.HTML object>"
      ]
     },
     "metadata": {},
     "output_type": "display_data"
    },
    {
     "data": {
      "text/html": [
       "<a target=\"_blank\" href=\"https://data.huygens.knaw.nl/rdf/datasets/u28f4a6e30d2ef7728fb4b3233cc6313e316cd992/ppds/rawData/022833ba-6228-4ad1-a0d0-732c51174d4b-crew_csv/props/BPL_country\">https://data.huygens.knaw.nl/rdf/datasets/u28f4a6e30d2ef7728fb4b3233cc6313e316cd992/ppds/rawData/022833ba-6228-4ad1-a0d0-732c51174d4b-crew_csv/props/BPL_country</a>: 15253"
      ],
      "text/plain": [
       "<IPython.core.display.HTML object>"
      ]
     },
     "metadata": {},
     "output_type": "display_data"
    },
    {
     "data": {
      "text/html": [
       "<a target=\"_blank\" href=\"https://data.huygens.knaw.nl/rdf/datasets/u28f4a6e30d2ef7728fb4b3233cc6313e316cd992/ppds/rawData/022833ba-6228-4ad1-a0d0-732c51174d4b-crew_csv/props/BPL_google\">https://data.huygens.knaw.nl/rdf/datasets/u28f4a6e30d2ef7728fb4b3233cc6313e316cd992/ppds/rawData/022833ba-6228-4ad1-a0d0-732c51174d4b-crew_csv/props/BPL_google</a>: 15241"
      ],
      "text/plain": [
       "<IPython.core.display.HTML object>"
      ]
     },
     "metadata": {},
     "output_type": "display_data"
    },
    {
     "data": {
      "text/html": [
       "<a target=\"_blank\" href=\"https://data.huygens.knaw.nl/rdf/datasets/u28f4a6e30d2ef7728fb4b3233cc6313e316cd992/ppds/rawData/022833ba-6228-4ad1-a0d0-732c51174d4b-crew_csv/props/BPL_histpol\">https://data.huygens.knaw.nl/rdf/datasets/u28f4a6e30d2ef7728fb4b3233cc6313e316cd992/ppds/rawData/022833ba-6228-4ad1-a0d0-732c51174d4b-crew_csv/props/BPL_histpol</a>: 15242"
      ],
      "text/plain": [
       "<IPython.core.display.HTML object>"
      ]
     },
     "metadata": {},
     "output_type": "display_data"
    },
    {
     "data": {
      "text/html": [
       "<a target=\"_blank\" href=\"https://data.huygens.knaw.nl/rdf/datasets/u28f4a6e30d2ef7728fb4b3233cc6313e316cd992/ppds/rawData/022833ba-6228-4ad1-a0d0-732c51174d4b-crew_csv/props/BPL_latitude\">https://data.huygens.knaw.nl/rdf/datasets/u28f4a6e30d2ef7728fb4b3233cc6313e316cd992/ppds/rawData/022833ba-6228-4ad1-a0d0-732c51174d4b-crew_csv/props/BPL_latitude</a>: 15241"
      ],
      "text/plain": [
       "<IPython.core.display.HTML object>"
      ]
     },
     "metadata": {},
     "output_type": "display_data"
    },
    {
     "data": {
      "text/html": [
       "<a target=\"_blank\" href=\"https://data.huygens.knaw.nl/rdf/datasets/u28f4a6e30d2ef7728fb4b3233cc6313e316cd992/ppds/rawData/022833ba-6228-4ad1-a0d0-732c51174d4b-crew_csv/props/BPL_longitude\">https://data.huygens.knaw.nl/rdf/datasets/u28f4a6e30d2ef7728fb4b3233cc6313e316cd992/ppds/rawData/022833ba-6228-4ad1-a0d0-732c51174d4b-crew_csv/props/BPL_longitude</a>: 15241"
      ],
      "text/plain": [
       "<IPython.core.display.HTML object>"
      ]
     },
     "metadata": {},
     "output_type": "display_data"
    },
    {
     "data": {
      "text/html": [
       "<a target=\"_blank\" href=\"https://data.huygens.knaw.nl/rdf/datasets/u28f4a6e30d2ef7728fb4b3233cc6313e316cd992/ppds/rawData/022833ba-6228-4ad1-a0d0-732c51174d4b-crew_csv/props/BPL_northsouth\">https://data.huygens.knaw.nl/rdf/datasets/u28f4a6e30d2ef7728fb4b3233cc6313e316cd992/ppds/rawData/022833ba-6228-4ad1-a0d0-732c51174d4b-crew_csv/props/BPL_northsouth</a>: 15253"
      ],
      "text/plain": [
       "<IPython.core.display.HTML object>"
      ]
     },
     "metadata": {},
     "output_type": "display_data"
    },
    {
     "data": {
      "text/html": [
       "<a target=\"_blank\" href=\"https://data.huygens.knaw.nl/rdf/datasets/u28f4a6e30d2ef7728fb4b3233cc6313e316cd992/ppds/rawData/022833ba-6228-4ad1-a0d0-732c51174d4b-crew_csv/props/BPL_place\">https://data.huygens.knaw.nl/rdf/datasets/u28f4a6e30d2ef7728fb4b3233cc6313e316cd992/ppds/rawData/022833ba-6228-4ad1-a0d0-732c51174d4b-crew_csv/props/BPL_place</a>: 15253"
      ],
      "text/plain": [
       "<IPython.core.display.HTML object>"
      ]
     },
     "metadata": {},
     "output_type": "display_data"
    },
    {
     "data": {
      "text/html": [
       "<a target=\"_blank\" href=\"https://data.huygens.knaw.nl/rdf/datasets/u28f4a6e30d2ef7728fb4b3233cc6313e316cd992/ppds/rawData/022833ba-6228-4ad1-a0d0-732c51174d4b-crew_csv/props/BPL_placeclass\">https://data.huygens.knaw.nl/rdf/datasets/u28f4a6e30d2ef7728fb4b3233cc6313e316cd992/ppds/rawData/022833ba-6228-4ad1-a0d0-732c51174d4b-crew_csv/props/BPL_placeclass</a>: 15253"
      ],
      "text/plain": [
       "<IPython.core.display.HTML object>"
      ]
     },
     "metadata": {},
     "output_type": "display_data"
    },
    {
     "data": {
      "text/html": [
       "<a target=\"_blank\" href=\"https://data.huygens.knaw.nl/rdf/datasets/u28f4a6e30d2ef7728fb4b3233cc6313e316cd992/ppds/rawData/022833ba-6228-4ad1-a0d0-732c51174d4b-crew_csv/props/BPL_pop\">https://data.huygens.knaw.nl/rdf/datasets/u28f4a6e30d2ef7728fb4b3233cc6313e316cd992/ppds/rawData/022833ba-6228-4ad1-a0d0-732c51174d4b-crew_csv/props/BPL_pop</a>: 15243"
      ],
      "text/plain": [
       "<IPython.core.display.HTML object>"
      ]
     },
     "metadata": {},
     "output_type": "display_data"
    },
    {
     "data": {
      "text/html": [
       "<a target=\"_blank\" href=\"https://data.huygens.knaw.nl/rdf/datasets/u28f4a6e30d2ef7728fb4b3233cc6313e316cd992/ppds/rawData/022833ba-6228-4ad1-a0d0-732c51174d4b-crew_csv/props/BPL_region\">https://data.huygens.knaw.nl/rdf/datasets/u28f4a6e30d2ef7728fb4b3233cc6313e316cd992/ppds/rawData/022833ba-6228-4ad1-a0d0-732c51174d4b-crew_csv/props/BPL_region</a>: 15253"
      ],
      "text/plain": [
       "<IPython.core.display.HTML object>"
      ]
     },
     "metadata": {},
     "output_type": "display_data"
    },
    {
     "data": {
      "text/html": [
       "<a target=\"_blank\" href=\"https://data.huygens.knaw.nl/rdf/datasets/u28f4a6e30d2ef7728fb4b3233cc6313e316cd992/ppds/rawData/022833ba-6228-4ad1-a0d0-732c51174d4b-crew_csv/props/BPL_ubrur\">https://data.huygens.knaw.nl/rdf/datasets/u28f4a6e30d2ef7728fb4b3233cc6313e316cd992/ppds/rawData/022833ba-6228-4ad1-a0d0-732c51174d4b-crew_csv/props/BPL_ubrur</a>: 15243"
      ],
      "text/plain": [
       "<IPython.core.display.HTML object>"
      ]
     },
     "metadata": {},
     "output_type": "display_data"
    },
    {
     "data": {
      "text/html": [
       "<a target=\"_blank\" href=\"https://data.huygens.knaw.nl/rdf/datasets/u28f4a6e30d2ef7728fb4b3233cc6313e316cd992/ppds/rawData/022833ba-6228-4ad1-a0d0-732c51174d4b-crew_csv/props/CrewAge\">https://data.huygens.knaw.nl/rdf/datasets/u28f4a6e30d2ef7728fb4b3233cc6313e316cd992/ppds/rawData/022833ba-6228-4ad1-a0d0-732c51174d4b-crew_csv/props/CrewAge</a>: 12938"
      ],
      "text/plain": [
       "<IPython.core.display.HTML object>"
      ]
     },
     "metadata": {},
     "output_type": "display_data"
    },
    {
     "data": {
      "text/html": [
       "<a target=\"_blank\" href=\"https://data.huygens.knaw.nl/rdf/datasets/u28f4a6e30d2ef7728fb4b3233cc6313e316cd992/ppds/rawData/022833ba-6228-4ad1-a0d0-732c51174d4b-crew_csv/props/CrewBurgher\">https://data.huygens.knaw.nl/rdf/datasets/u28f4a6e30d2ef7728fb4b3233cc6313e316cd992/ppds/rawData/022833ba-6228-4ad1-a0d0-732c51174d4b-crew_csv/props/CrewBurgher</a>: 12030"
      ],
      "text/plain": [
       "<IPython.core.display.HTML object>"
      ]
     },
     "metadata": {},
     "output_type": "display_data"
    },
    {
     "data": {
      "text/html": [
       "<a target=\"_blank\" href=\"https://data.huygens.knaw.nl/rdf/datasets/u28f4a6e30d2ef7728fb4b3233cc6313e316cd992/ppds/rawData/022833ba-6228-4ad1-a0d0-732c51174d4b-crew_csv/props/CrewFamStat\">https://data.huygens.knaw.nl/rdf/datasets/u28f4a6e30d2ef7728fb4b3233cc6313e316cd992/ppds/rawData/022833ba-6228-4ad1-a0d0-732c51174d4b-crew_csv/props/CrewFamStat</a>: 15474"
      ],
      "text/plain": [
       "<IPython.core.display.HTML object>"
      ]
     },
     "metadata": {},
     "output_type": "display_data"
    },
    {
     "data": {
      "text/html": [
       "<a target=\"_blank\" href=\"https://data.huygens.knaw.nl/rdf/datasets/u28f4a6e30d2ef7728fb4b3233cc6313e316cd992/ppds/rawData/022833ba-6228-4ad1-a0d0-732c51174d4b-crew_csv/props/CrewFirstName\">https://data.huygens.knaw.nl/rdf/datasets/u28f4a6e30d2ef7728fb4b3233cc6313e316cd992/ppds/rawData/022833ba-6228-4ad1-a0d0-732c51174d4b-crew_csv/props/CrewFirstName</a>: 15544"
      ],
      "text/plain": [
       "<IPython.core.display.HTML object>"
      ]
     },
     "metadata": {},
     "output_type": "display_data"
    },
    {
     "data": {
      "text/html": [
       "<a target=\"_blank\" href=\"https://data.huygens.knaw.nl/rdf/datasets/u28f4a6e30d2ef7728fb4b3233cc6313e316cd992/ppds/rawData/022833ba-6228-4ad1-a0d0-732c51174d4b-crew_csv/props/CrewKnowSkip\">https://data.huygens.knaw.nl/rdf/datasets/u28f4a6e30d2ef7728fb4b3233cc6313e316cd992/ppds/rawData/022833ba-6228-4ad1-a0d0-732c51174d4b-crew_csv/props/CrewKnowSkip</a>: 8304"
      ],
      "text/plain": [
       "<IPython.core.display.HTML object>"
      ]
     },
     "metadata": {},
     "output_type": "display_data"
    },
    {
     "data": {
      "text/html": [
       "<a target=\"_blank\" href=\"https://data.huygens.knaw.nl/rdf/datasets/u28f4a6e30d2ef7728fb4b3233cc6313e316cd992/ppds/rawData/022833ba-6228-4ad1-a0d0-732c51174d4b-crew_csv/props/CrewLastName\">https://data.huygens.knaw.nl/rdf/datasets/u28f4a6e30d2ef7728fb4b3233cc6313e316cd992/ppds/rawData/022833ba-6228-4ad1-a0d0-732c51174d4b-crew_csv/props/CrewLastName</a>: 15540"
      ],
      "text/plain": [
       "<IPython.core.display.HTML object>"
      ]
     },
     "metadata": {},
     "output_type": "display_data"
    },
    {
     "data": {
      "text/html": [
       "<a target=\"_blank\" href=\"https://data.huygens.knaw.nl/rdf/datasets/u28f4a6e30d2ef7728fb4b3233cc6313e316cd992/ppds/rawData/022833ba-6228-4ad1-a0d0-732c51174d4b-crew_csv/props/CrewLit\">https://data.huygens.knaw.nl/rdf/datasets/u28f4a6e30d2ef7728fb4b3233cc6313e316cd992/ppds/rawData/022833ba-6228-4ad1-a0d0-732c51174d4b-crew_csv/props/CrewLit</a>: 15102"
      ],
      "text/plain": [
       "<IPython.core.display.HTML object>"
      ]
     },
     "metadata": {},
     "output_type": "display_data"
    },
    {
     "data": {
      "text/html": [
       "<a target=\"_blank\" href=\"https://data.huygens.knaw.nl/rdf/datasets/u28f4a6e30d2ef7728fb4b3233cc6313e316cd992/ppds/rawData/022833ba-6228-4ad1-a0d0-732c51174d4b-crew_csv/props/CrewMarStat\">https://data.huygens.knaw.nl/rdf/datasets/u28f4a6e30d2ef7728fb4b3233cc6313e316cd992/ppds/rawData/022833ba-6228-4ad1-a0d0-732c51174d4b-crew_csv/props/CrewMarStat</a>: 15474"
      ],
      "text/plain": [
       "<IPython.core.display.HTML object>"
      ]
     },
     "metadata": {},
     "output_type": "display_data"
    },
    {
     "data": {
      "text/html": [
       "<a target=\"_blank\" href=\"https://data.huygens.knaw.nl/rdf/datasets/u28f4a6e30d2ef7728fb4b3233cc6313e316cd992/ppds/rawData/022833ba-6228-4ad1-a0d0-732c51174d4b-crew_csv/props/CrewPlaceBirth\">https://data.huygens.knaw.nl/rdf/datasets/u28f4a6e30d2ef7728fb4b3233cc6313e316cd992/ppds/rawData/022833ba-6228-4ad1-a0d0-732c51174d4b-crew_csv/props/CrewPlaceBirth</a>: 15460"
      ],
      "text/plain": [
       "<IPython.core.display.HTML object>"
      ]
     },
     "metadata": {},
     "output_type": "display_data"
    },
    {
     "data": {
      "text/html": [
       "<a target=\"_blank\" href=\"https://data.huygens.knaw.nl/rdf/datasets/u28f4a6e30d2ef7728fb4b3233cc6313e316cd992/ppds/rawData/022833ba-6228-4ad1-a0d0-732c51174d4b-crew_csv/props/CrewPlaceMust\">https://data.huygens.knaw.nl/rdf/datasets/u28f4a6e30d2ef7728fb4b3233cc6313e316cd992/ppds/rawData/022833ba-6228-4ad1-a0d0-732c51174d4b-crew_csv/props/CrewPlaceMust</a>: 12950"
      ],
      "text/plain": [
       "<IPython.core.display.HTML object>"
      ]
     },
     "metadata": {},
     "output_type": "display_data"
    },
    {
     "data": {
      "text/html": [
       "<a target=\"_blank\" href=\"https://data.huygens.knaw.nl/rdf/datasets/u28f4a6e30d2ef7728fb4b3233cc6313e316cd992/ppds/rawData/022833ba-6228-4ad1-a0d0-732c51174d4b-crew_csv/props/CrewPlaceRes\">https://data.huygens.knaw.nl/rdf/datasets/u28f4a6e30d2ef7728fb4b3233cc6313e316cd992/ppds/rawData/022833ba-6228-4ad1-a0d0-732c51174d4b-crew_csv/props/CrewPlaceRes</a>: 15344"
      ],
      "text/plain": [
       "<IPython.core.display.HTML object>"
      ]
     },
     "metadata": {},
     "output_type": "display_data"
    },
    {
     "data": {
      "text/html": [
       "<a target=\"_blank\" href=\"https://data.huygens.knaw.nl/rdf/datasets/u28f4a6e30d2ef7728fb4b3233cc6313e316cd992/ppds/rawData/022833ba-6228-4ad1-a0d0-732c51174d4b-crew_csv/props/CrewRank\">https://data.huygens.knaw.nl/rdf/datasets/u28f4a6e30d2ef7728fb4b3233cc6313e316cd992/ppds/rawData/022833ba-6228-4ad1-a0d0-732c51174d4b-crew_csv/props/CrewRank</a>: 15139"
      ],
      "text/plain": [
       "<IPython.core.display.HTML object>"
      ]
     },
     "metadata": {},
     "output_type": "display_data"
    },
    {
     "data": {
      "text/html": [
       "<a target=\"_blank\" href=\"https://data.huygens.knaw.nl/rdf/datasets/u28f4a6e30d2ef7728fb4b3233cc6313e316cd992/ppds/rawData/022833ba-6228-4ad1-a0d0-732c51174d4b-crew_csv/props/CrewRankGen\">https://data.huygens.knaw.nl/rdf/datasets/u28f4a6e30d2ef7728fb4b3233cc6313e316cd992/ppds/rawData/022833ba-6228-4ad1-a0d0-732c51174d4b-crew_csv/props/CrewRankGen</a>: 15550"
      ],
      "text/plain": [
       "<IPython.core.display.HTML object>"
      ]
     },
     "metadata": {},
     "output_type": "display_data"
    },
    {
     "data": {
      "text/html": [
       "<a target=\"_blank\" href=\"https://data.huygens.knaw.nl/rdf/datasets/u28f4a6e30d2ef7728fb4b3233cc6313e316cd992/ppds/rawData/022833ba-6228-4ad1-a0d0-732c51174d4b-crew_csv/props/CrewRelSkip\">https://data.huygens.knaw.nl/rdf/datasets/u28f4a6e30d2ef7728fb4b3233cc6313e316cd992/ppds/rawData/022833ba-6228-4ad1-a0d0-732c51174d4b-crew_csv/props/CrewRelSkip</a>: 15440"
      ],
      "text/plain": [
       "<IPython.core.display.HTML object>"
      ]
     },
     "metadata": {},
     "output_type": "display_data"
    },
    {
     "data": {
      "text/html": [
       "<a target=\"_blank\" href=\"https://data.huygens.knaw.nl/rdf/datasets/u28f4a6e30d2ef7728fb4b3233cc6313e316cd992/ppds/rawData/022833ba-6228-4ad1-a0d0-732c51174d4b-crew_csv/props/CrewResStay\">https://data.huygens.knaw.nl/rdf/datasets/u28f4a6e30d2ef7728fb4b3233cc6313e316cd992/ppds/rawData/022833ba-6228-4ad1-a0d0-732c51174d4b-crew_csv/props/CrewResStay</a>: 12929"
      ],
      "text/plain": [
       "<IPython.core.display.HTML object>"
      ]
     },
     "metadata": {},
     "output_type": "display_data"
    },
    {
     "data": {
      "text/html": [
       "<a target=\"_blank\" href=\"https://data.huygens.knaw.nl/rdf/datasets/u28f4a6e30d2ef7728fb4b3233cc6313e316cd992/ppds/rawData/022833ba-6228-4ad1-a0d0-732c51174d4b-crew_csv/props/CrewSubject\">https://data.huygens.knaw.nl/rdf/datasets/u28f4a6e30d2ef7728fb4b3233cc6313e316cd992/ppds/rawData/022833ba-6228-4ad1-a0d0-732c51174d4b-crew_csv/props/CrewSubject</a>: 14390"
      ],
      "text/plain": [
       "<IPython.core.display.HTML object>"
      ]
     },
     "metadata": {},
     "output_type": "display_data"
    },
    {
     "data": {
      "text/html": [
       "<a target=\"_blank\" href=\"https://data.huygens.knaw.nl/rdf/datasets/u28f4a6e30d2ef7728fb4b3233cc6313e316cd992/ppds/rawData/022833ba-6228-4ad1-a0d0-732c51174d4b-crew_csv/props/IdCrew\">https://data.huygens.knaw.nl/rdf/datasets/u28f4a6e30d2ef7728fb4b3233cc6313e316cd992/ppds/rawData/022833ba-6228-4ad1-a0d0-732c51174d4b-crew_csv/props/IdCrew</a>: 15550"
      ],
      "text/plain": [
       "<IPython.core.display.HTML object>"
      ]
     },
     "metadata": {},
     "output_type": "display_data"
    },
    {
     "data": {
      "text/html": [
       "<a target=\"_blank\" href=\"https://data.huygens.knaw.nl/rdf/datasets/u28f4a6e30d2ef7728fb4b3233cc6313e316cd992/ppds/rawData/022833ba-6228-4ad1-a0d0-732c51174d4b-crew_csv/props/IdSchipVerwijzing\">https://data.huygens.knaw.nl/rdf/datasets/u28f4a6e30d2ef7728fb4b3233cc6313e316cd992/ppds/rawData/022833ba-6228-4ad1-a0d0-732c51174d4b-crew_csv/props/IdSchipVerwijzing</a>: 15542"
      ],
      "text/plain": [
       "<IPython.core.display.HTML object>"
      ]
     },
     "metadata": {},
     "output_type": "display_data"
    },
    {
     "data": {
      "text/html": [
       "<a target=\"_blank\" href=\"https://data.huygens.knaw.nl/rdf/datasets/u28f4a6e30d2ef7728fb4b3233cc6313e316cd992/ppds/rawData/022833ba-6228-4ad1-a0d0-732c51174d4b-crew_csv/props/LAT_check\">https://data.huygens.knaw.nl/rdf/datasets/u28f4a6e30d2ef7728fb4b3233cc6313e316cd992/ppds/rawData/022833ba-6228-4ad1-a0d0-732c51174d4b-crew_csv/props/LAT_check</a>: 15241"
      ],
      "text/plain": [
       "<IPython.core.display.HTML object>"
      ]
     },
     "metadata": {},
     "output_type": "display_data"
    },
    {
     "data": {
      "text/html": [
       "<a target=\"_blank\" href=\"https://data.huygens.knaw.nl/rdf/datasets/u28f4a6e30d2ef7728fb4b3233cc6313e316cd992/ppds/rawData/022833ba-6228-4ad1-a0d0-732c51174d4b-crew_csv/props/MAJORGROUP\">https://data.huygens.knaw.nl/rdf/datasets/u28f4a6e30d2ef7728fb4b3233cc6313e316cd992/ppds/rawData/022833ba-6228-4ad1-a0d0-732c51174d4b-crew_csv/props/MAJORGROUP</a>: 14742"
      ],
      "text/plain": [
       "<IPython.core.display.HTML object>"
      ]
     },
     "metadata": {},
     "output_type": "display_data"
    },
    {
     "data": {
      "text/html": [
       "<a target=\"_blank\" href=\"https://data.huygens.knaw.nl/rdf/datasets/u28f4a6e30d2ef7728fb4b3233cc6313e316cd992/ppds/rawData/022833ba-6228-4ad1-a0d0-732c51174d4b-crew_csv/props/MIGRANT_CODE\">https://data.huygens.knaw.nl/rdf/datasets/u28f4a6e30d2ef7728fb4b3233cc6313e316cd992/ppds/rawData/022833ba-6228-4ad1-a0d0-732c51174d4b-crew_csv/props/MIGRANT_CODE</a>: 15550"
      ],
      "text/plain": [
       "<IPython.core.display.HTML object>"
      ]
     },
     "metadata": {},
     "output_type": "display_data"
    },
    {
     "data": {
      "text/html": [
       "<a target=\"_blank\" href=\"https://data.huygens.knaw.nl/rdf/datasets/u28f4a6e30d2ef7728fb4b3233cc6313e316cd992/ppds/rawData/022833ba-6228-4ad1-a0d0-732c51174d4b-crew_csv/props/MINORGROUP\">https://data.huygens.knaw.nl/rdf/datasets/u28f4a6e30d2ef7728fb4b3233cc6313e316cd992/ppds/rawData/022833ba-6228-4ad1-a0d0-732c51174d4b-crew_csv/props/MINORGROUP</a>: 14742"
      ],
      "text/plain": [
       "<IPython.core.display.HTML object>"
      ]
     },
     "metadata": {},
     "output_type": "display_data"
    },
    {
     "data": {
      "text/html": [
       "<a target=\"_blank\" href=\"https://data.huygens.knaw.nl/rdf/datasets/u28f4a6e30d2ef7728fb4b3233cc6313e316cd992/ppds/rawData/022833ba-6228-4ad1-a0d0-732c51174d4b-crew_csv/props/OCCUPTITLE\">https://data.huygens.knaw.nl/rdf/datasets/u28f4a6e30d2ef7728fb4b3233cc6313e316cd992/ppds/rawData/022833ba-6228-4ad1-a0d0-732c51174d4b-crew_csv/props/OCCUPTITLE</a>: 15550"
      ],
      "text/plain": [
       "<IPython.core.display.HTML object>"
      ]
     },
     "metadata": {},
     "output_type": "display_data"
    },
    {
     "data": {
      "text/html": [
       "<a target=\"_blank\" href=\"https://data.huygens.knaw.nl/rdf/datasets/u28f4a6e30d2ef7728fb4b3233cc6313e316cd992/ppds/rawData/022833ba-6228-4ad1-a0d0-732c51174d4b-crew_csv/props/OCCUPTITLE_PPD_RANK_ID\">https://data.huygens.knaw.nl/rdf/datasets/u28f4a6e30d2ef7728fb4b3233cc6313e316cd992/ppds/rawData/022833ba-6228-4ad1-a0d0-732c51174d4b-crew_csv/props/OCCUPTITLE_PPD_RANK_ID</a>: 15550"
      ],
      "text/plain": [
       "<IPython.core.display.HTML object>"
      ]
     },
     "metadata": {},
     "output_type": "display_data"
    },
    {
     "data": {
      "text/html": [
       "<a target=\"_blank\" href=\"https://data.huygens.knaw.nl/rdf/datasets/u28f4a6e30d2ef7728fb4b3233cc6313e316cd992/ppds/rawData/022833ba-6228-4ad1-a0d0-732c51174d4b-crew_csv/props/PPD_CREW_ID\">https://data.huygens.knaw.nl/rdf/datasets/u28f4a6e30d2ef7728fb4b3233cc6313e316cd992/ppds/rawData/022833ba-6228-4ad1-a0d0-732c51174d4b-crew_csv/props/PPD_CREW_ID</a>: 15550"
      ],
      "text/plain": [
       "<IPython.core.display.HTML object>"
      ]
     },
     "metadata": {},
     "output_type": "display_data"
    },
    {
     "data": {
      "text/html": [
       "<a target=\"_blank\" href=\"https://data.huygens.knaw.nl/rdf/datasets/u28f4a6e30d2ef7728fb4b3233cc6313e316cd992/ppds/rawData/022833ba-6228-4ad1-a0d0-732c51174d4b-crew_csv/props/REGIONAL_MIG_CODE\">https://data.huygens.knaw.nl/rdf/datasets/u28f4a6e30d2ef7728fb4b3233cc6313e316cd992/ppds/rawData/022833ba-6228-4ad1-a0d0-732c51174d4b-crew_csv/props/REGIONAL_MIG_CODE</a>: 15550"
      ],
      "text/plain": [
       "<IPython.core.display.HTML object>"
      ]
     },
     "metadata": {},
     "output_type": "display_data"
    },
    {
     "data": {
      "text/html": [
       "<a target=\"_blank\" href=\"https://data.huygens.knaw.nl/rdf/datasets/u28f4a6e30d2ef7728fb4b3233cc6313e316cd992/ppds/rawData/022833ba-6228-4ad1-a0d0-732c51174d4b-crew_csv/props/RES_Geonames_toponym\">https://data.huygens.knaw.nl/rdf/datasets/u28f4a6e30d2ef7728fb4b3233cc6313e316cd992/ppds/rawData/022833ba-6228-4ad1-a0d0-732c51174d4b-crew_csv/props/RES_Geonames_toponym</a>: 14807"
      ],
      "text/plain": [
       "<IPython.core.display.HTML object>"
      ]
     },
     "metadata": {},
     "output_type": "display_data"
    },
    {
     "data": {
      "text/html": [
       "<a target=\"_blank\" href=\"https://data.huygens.knaw.nl/rdf/datasets/u28f4a6e30d2ef7728fb4b3233cc6313e316cd992/ppds/rawData/022833ba-6228-4ad1-a0d0-732c51174d4b-crew_csv/props/RES_OR_DIS_KM\">https://data.huygens.knaw.nl/rdf/datasets/u28f4a6e30d2ef7728fb4b3233cc6313e316cd992/ppds/rawData/022833ba-6228-4ad1-a0d0-732c51174d4b-crew_csv/props/RES_OR_DIS_KM</a>: 14589"
      ],
      "text/plain": [
       "<IPython.core.display.HTML object>"
      ]
     },
     "metadata": {},
     "output_type": "display_data"
    },
    {
     "data": {
      "text/html": [
       "<a target=\"_blank\" href=\"https://data.huygens.knaw.nl/rdf/datasets/u28f4a6e30d2ef7728fb4b3233cc6313e316cd992/ppds/rawData/022833ba-6228-4ad1-a0d0-732c51174d4b-crew_csv/props/RES_PPD_PL_ID\">https://data.huygens.knaw.nl/rdf/datasets/u28f4a6e30d2ef7728fb4b3233cc6313e316cd992/ppds/rawData/022833ba-6228-4ad1-a0d0-732c51174d4b-crew_csv/props/RES_PPD_PL_ID</a>: 14807"
      ],
      "text/plain": [
       "<IPython.core.display.HTML object>"
      ]
     },
     "metadata": {},
     "output_type": "display_data"
    },
    {
     "data": {
      "text/html": [
       "<a target=\"_blank\" href=\"https://data.huygens.knaw.nl/rdf/datasets/u28f4a6e30d2ef7728fb4b3233cc6313e316cd992/ppds/rawData/022833ba-6228-4ad1-a0d0-732c51174d4b-crew_csv/props/RES_coastalKM\">https://data.huygens.knaw.nl/rdf/datasets/u28f4a6e30d2ef7728fb4b3233cc6313e316cd992/ppds/rawData/022833ba-6228-4ad1-a0d0-732c51174d4b-crew_csv/props/RES_coastalKM</a>: 14807"
      ],
      "text/plain": [
       "<IPython.core.display.HTML object>"
      ]
     },
     "metadata": {},
     "output_type": "display_data"
    },
    {
     "data": {
      "text/html": [
       "<a target=\"_blank\" href=\"https://data.huygens.knaw.nl/rdf/datasets/u28f4a6e30d2ef7728fb4b3233cc6313e316cd992/ppds/rawData/022833ba-6228-4ad1-a0d0-732c51174d4b-crew_csv/props/RES_coastalclass\">https://data.huygens.knaw.nl/rdf/datasets/u28f4a6e30d2ef7728fb4b3233cc6313e316cd992/ppds/rawData/022833ba-6228-4ad1-a0d0-732c51174d4b-crew_csv/props/RES_coastalclass</a>: 15191"
      ],
      "text/plain": [
       "<IPython.core.display.HTML object>"
      ]
     },
     "metadata": {},
     "output_type": "display_data"
    },
    {
     "data": {
      "text/html": [
       "<a target=\"_blank\" href=\"https://data.huygens.knaw.nl/rdf/datasets/u28f4a6e30d2ef7728fb4b3233cc6313e316cd992/ppds/rawData/022833ba-6228-4ad1-a0d0-732c51174d4b-crew_csv/props/RES_country\">https://data.huygens.knaw.nl/rdf/datasets/u28f4a6e30d2ef7728fb4b3233cc6313e316cd992/ppds/rawData/022833ba-6228-4ad1-a0d0-732c51174d4b-crew_csv/props/RES_country</a>: 15191"
      ],
      "text/plain": [
       "<IPython.core.display.HTML object>"
      ]
     },
     "metadata": {},
     "output_type": "display_data"
    },
    {
     "data": {
      "text/html": [
       "<a target=\"_blank\" href=\"https://data.huygens.knaw.nl/rdf/datasets/u28f4a6e30d2ef7728fb4b3233cc6313e316cd992/ppds/rawData/022833ba-6228-4ad1-a0d0-732c51174d4b-crew_csv/props/RES_google\">https://data.huygens.knaw.nl/rdf/datasets/u28f4a6e30d2ef7728fb4b3233cc6313e316cd992/ppds/rawData/022833ba-6228-4ad1-a0d0-732c51174d4b-crew_csv/props/RES_google</a>: 14807"
      ],
      "text/plain": [
       "<IPython.core.display.HTML object>"
      ]
     },
     "metadata": {},
     "output_type": "display_data"
    },
    {
     "data": {
      "text/html": [
       "<a target=\"_blank\" href=\"https://data.huygens.knaw.nl/rdf/datasets/u28f4a6e30d2ef7728fb4b3233cc6313e316cd992/ppds/rawData/022833ba-6228-4ad1-a0d0-732c51174d4b-crew_csv/props/RES_histpol\">https://data.huygens.knaw.nl/rdf/datasets/u28f4a6e30d2ef7728fb4b3233cc6313e316cd992/ppds/rawData/022833ba-6228-4ad1-a0d0-732c51174d4b-crew_csv/props/RES_histpol</a>: 15550"
      ],
      "text/plain": [
       "<IPython.core.display.HTML object>"
      ]
     },
     "metadata": {},
     "output_type": "display_data"
    },
    {
     "data": {
      "text/html": [
       "<a target=\"_blank\" href=\"https://data.huygens.knaw.nl/rdf/datasets/u28f4a6e30d2ef7728fb4b3233cc6313e316cd992/ppds/rawData/022833ba-6228-4ad1-a0d0-732c51174d4b-crew_csv/props/RES_latitude\">https://data.huygens.knaw.nl/rdf/datasets/u28f4a6e30d2ef7728fb4b3233cc6313e316cd992/ppds/rawData/022833ba-6228-4ad1-a0d0-732c51174d4b-crew_csv/props/RES_latitude</a>: 14807"
      ],
      "text/plain": [
       "<IPython.core.display.HTML object>"
      ]
     },
     "metadata": {},
     "output_type": "display_data"
    },
    {
     "data": {
      "text/html": [
       "<a target=\"_blank\" href=\"https://data.huygens.knaw.nl/rdf/datasets/u28f4a6e30d2ef7728fb4b3233cc6313e316cd992/ppds/rawData/022833ba-6228-4ad1-a0d0-732c51174d4b-crew_csv/props/RES_longitude\">https://data.huygens.knaw.nl/rdf/datasets/u28f4a6e30d2ef7728fb4b3233cc6313e316cd992/ppds/rawData/022833ba-6228-4ad1-a0d0-732c51174d4b-crew_csv/props/RES_longitude</a>: 14807"
      ],
      "text/plain": [
       "<IPython.core.display.HTML object>"
      ]
     },
     "metadata": {},
     "output_type": "display_data"
    },
    {
     "data": {
      "text/html": [
       "<a target=\"_blank\" href=\"https://data.huygens.knaw.nl/rdf/datasets/u28f4a6e30d2ef7728fb4b3233cc6313e316cd992/ppds/rawData/022833ba-6228-4ad1-a0d0-732c51174d4b-crew_csv/props/RES_northsouth\">https://data.huygens.knaw.nl/rdf/datasets/u28f4a6e30d2ef7728fb4b3233cc6313e316cd992/ppds/rawData/022833ba-6228-4ad1-a0d0-732c51174d4b-crew_csv/props/RES_northsouth</a>: 15191"
      ],
      "text/plain": [
       "<IPython.core.display.HTML object>"
      ]
     },
     "metadata": {},
     "output_type": "display_data"
    },
    {
     "data": {
      "text/html": [
       "<a target=\"_blank\" href=\"https://data.huygens.knaw.nl/rdf/datasets/u28f4a6e30d2ef7728fb4b3233cc6313e316cd992/ppds/rawData/022833ba-6228-4ad1-a0d0-732c51174d4b-crew_csv/props/RES_place\">https://data.huygens.knaw.nl/rdf/datasets/u28f4a6e30d2ef7728fb4b3233cc6313e316cd992/ppds/rawData/022833ba-6228-4ad1-a0d0-732c51174d4b-crew_csv/props/RES_place</a>: 15191"
      ],
      "text/plain": [
       "<IPython.core.display.HTML object>"
      ]
     },
     "metadata": {},
     "output_type": "display_data"
    },
    {
     "data": {
      "text/html": [
       "<a target=\"_blank\" href=\"https://data.huygens.knaw.nl/rdf/datasets/u28f4a6e30d2ef7728fb4b3233cc6313e316cd992/ppds/rawData/022833ba-6228-4ad1-a0d0-732c51174d4b-crew_csv/props/RES_placeclass\">https://data.huygens.knaw.nl/rdf/datasets/u28f4a6e30d2ef7728fb4b3233cc6313e316cd992/ppds/rawData/022833ba-6228-4ad1-a0d0-732c51174d4b-crew_csv/props/RES_placeclass</a>: 15191"
      ],
      "text/plain": [
       "<IPython.core.display.HTML object>"
      ]
     },
     "metadata": {},
     "output_type": "display_data"
    },
    {
     "data": {
      "text/html": [
       "<a target=\"_blank\" href=\"https://data.huygens.knaw.nl/rdf/datasets/u28f4a6e30d2ef7728fb4b3233cc6313e316cd992/ppds/rawData/022833ba-6228-4ad1-a0d0-732c51174d4b-crew_csv/props/RES_pop\">https://data.huygens.knaw.nl/rdf/datasets/u28f4a6e30d2ef7728fb4b3233cc6313e316cd992/ppds/rawData/022833ba-6228-4ad1-a0d0-732c51174d4b-crew_csv/props/RES_pop</a>: 15181"
      ],
      "text/plain": [
       "<IPython.core.display.HTML object>"
      ]
     },
     "metadata": {},
     "output_type": "display_data"
    },
    {
     "data": {
      "text/html": [
       "<a target=\"_blank\" href=\"https://data.huygens.knaw.nl/rdf/datasets/u28f4a6e30d2ef7728fb4b3233cc6313e316cd992/ppds/rawData/022833ba-6228-4ad1-a0d0-732c51174d4b-crew_csv/props/RES_region\">https://data.huygens.knaw.nl/rdf/datasets/u28f4a6e30d2ef7728fb4b3233cc6313e316cd992/ppds/rawData/022833ba-6228-4ad1-a0d0-732c51174d4b-crew_csv/props/RES_region</a>: 15191"
      ],
      "text/plain": [
       "<IPython.core.display.HTML object>"
      ]
     },
     "metadata": {},
     "output_type": "display_data"
    },
    {
     "data": {
      "text/html": [
       "<a target=\"_blank\" href=\"https://data.huygens.knaw.nl/rdf/datasets/u28f4a6e30d2ef7728fb4b3233cc6313e316cd992/ppds/rawData/022833ba-6228-4ad1-a0d0-732c51174d4b-crew_csv/props/RES_urbrur\">https://data.huygens.knaw.nl/rdf/datasets/u28f4a6e30d2ef7728fb4b3233cc6313e316cd992/ppds/rawData/022833ba-6228-4ad1-a0d0-732c51174d4b-crew_csv/props/RES_urbrur</a>: 15181"
      ],
      "text/plain": [
       "<IPython.core.display.HTML object>"
      ]
     },
     "metadata": {},
     "output_type": "display_data"
    },
    {
     "data": {
      "text/html": [
       "<a target=\"_blank\" href=\"https://data.huygens.knaw.nl/rdf/datasets/u28f4a6e30d2ef7728fb4b3233cc6313e316cd992/ppds/rawData/022833ba-6228-4ad1-a0d0-732c51174d4b-crew_csv/props/RuralUrbanMigrant\">https://data.huygens.knaw.nl/rdf/datasets/u28f4a6e30d2ef7728fb4b3233cc6313e316cd992/ppds/rawData/022833ba-6228-4ad1-a0d0-732c51174d4b-crew_csv/props/RuralUrbanMigrant</a>: 15550"
      ],
      "text/plain": [
       "<IPython.core.display.HTML object>"
      ]
     },
     "metadata": {},
     "output_type": "display_data"
    },
    {
     "data": {
      "text/html": [
       "<a target=\"_blank\" href=\"https://data.huygens.knaw.nl/rdf/datasets/u28f4a6e30d2ef7728fb4b3233cc6313e316cd992/ppds/rawData/022833ba-6228-4ad1-a0d0-732c51174d4b-crew_csv/props/UNITCODE\">https://data.huygens.knaw.nl/rdf/datasets/u28f4a6e30d2ef7728fb4b3233cc6313e316cd992/ppds/rawData/022833ba-6228-4ad1-a0d0-732c51174d4b-crew_csv/props/UNITCODE</a>: 14742"
      ],
      "text/plain": [
       "<IPython.core.display.HTML object>"
      ]
     },
     "metadata": {},
     "output_type": "display_data"
    },
    {
     "data": {
      "text/html": [
       "<a target=\"_blank\" href=\"https://data.huygens.knaw.nl/rdf/datasets/u28f4a6e30d2ef7728fb4b3233cc6313e316cd992/ppds/rawData/022833ba-6228-4ad1-a0d0-732c51174d4b-crew_csv/props/period_coding\">https://data.huygens.knaw.nl/rdf/datasets/u28f4a6e30d2ef7728fb4b3233cc6313e316cd992/ppds/rawData/022833ba-6228-4ad1-a0d0-732c51174d4b-crew_csv/props/period_coding</a>: 15550"
      ],
      "text/plain": [
       "<IPython.core.display.HTML object>"
      ]
     },
     "metadata": {},
     "output_type": "display_data"
    },
    {
     "data": {
      "text/html": [
       "<a target=\"_blank\" href=\"https://data.huygens.knaw.nl/rdf/datasets/u28f4a6e30d2ef7728fb4b3233cc6313e316cd992/ppds/rawData/022833ba-6228-4ad1-a0d0-732c51174d4b-crew_csv/props/tim_id\">https://data.huygens.knaw.nl/rdf/datasets/u28f4a6e30d2ef7728fb4b3233cc6313e316cd992/ppds/rawData/022833ba-6228-4ad1-a0d0-732c51174d4b-crew_csv/props/tim_id</a>: 15550"
      ],
      "text/plain": [
       "<IPython.core.display.HTML object>"
      ]
     },
     "metadata": {},
     "output_type": "display_data"
    },
    {
     "data": {
      "text/html": [
       "<a target=\"_blank\" href=\"https://data.huygens.knaw.nl/rdf/datasets/u28f4a6e30d2ef7728fb4b3233cc6313e316cd992/ppds/rawData/3af334f4-5838-45bc-a0f2-d92c52fa1e24-crew_ship_csv/props/IdCrew\">https://data.huygens.knaw.nl/rdf/datasets/u28f4a6e30d2ef7728fb4b3233cc6313e316cd992/ppds/rawData/3af334f4-5838-45bc-a0f2-d92c52fa1e24-crew_ship_csv/props/IdCrew</a>: 15550"
      ],
      "text/plain": [
       "<IPython.core.display.HTML object>"
      ]
     },
     "metadata": {},
     "output_type": "display_data"
    },
    {
     "data": {
      "text/html": [
       "<a target=\"_blank\" href=\"https://data.huygens.knaw.nl/rdf/datasets/u28f4a6e30d2ef7728fb4b3233cc6313e316cd992/ppds/rawData/3af334f4-5838-45bc-a0f2-d92c52fa1e24-crew_ship_csv/props/IdSchipVerwijzing\">https://data.huygens.knaw.nl/rdf/datasets/u28f4a6e30d2ef7728fb4b3233cc6313e316cd992/ppds/rawData/3af334f4-5838-45bc-a0f2-d92c52fa1e24-crew_ship_csv/props/IdSchipVerwijzing</a>: 15542"
      ],
      "text/plain": [
       "<IPython.core.display.HTML object>"
      ]
     },
     "metadata": {},
     "output_type": "display_data"
    },
    {
     "data": {
      "text/html": [
       "<a target=\"_blank\" href=\"https://data.huygens.knaw.nl/rdf/datasets/u28f4a6e30d2ef7728fb4b3233cc6313e316cd992/ppds/rawData/3af334f4-5838-45bc-a0f2-d92c52fa1e24-crew_ship_csv/props/PPD_CREW_ID\">https://data.huygens.knaw.nl/rdf/datasets/u28f4a6e30d2ef7728fb4b3233cc6313e316cd992/ppds/rawData/3af334f4-5838-45bc-a0f2-d92c52fa1e24-crew_ship_csv/props/PPD_CREW_ID</a>: 15550"
      ],
      "text/plain": [
       "<IPython.core.display.HTML object>"
      ]
     },
     "metadata": {},
     "output_type": "display_data"
    },
    {
     "data": {
      "text/html": [
       "<a target=\"_blank\" href=\"https://data.huygens.knaw.nl/rdf/datasets/u28f4a6e30d2ef7728fb4b3233cc6313e316cd992/ppds/rawData/3af334f4-5838-45bc-a0f2-d92c52fa1e24-crew_ship_csv/props/PPD_SHIP_ID\">https://data.huygens.knaw.nl/rdf/datasets/u28f4a6e30d2ef7728fb4b3233cc6313e316cd992/ppds/rawData/3af334f4-5838-45bc-a0f2-d92c52fa1e24-crew_ship_csv/props/PPD_SHIP_ID</a>: 15542"
      ],
      "text/plain": [
       "<IPython.core.display.HTML object>"
      ]
     },
     "metadata": {},
     "output_type": "display_data"
    },
    {
     "data": {
      "text/html": [
       "<a target=\"_blank\" href=\"https://data.huygens.knaw.nl/rdf/datasets/u28f4a6e30d2ef7728fb4b3233cc6313e316cd992/ppds/rawData/3af334f4-5838-45bc-a0f2-d92c52fa1e24-crew_ship_csv/props/tim_id\">https://data.huygens.knaw.nl/rdf/datasets/u28f4a6e30d2ef7728fb4b3233cc6313e316cd992/ppds/rawData/3af334f4-5838-45bc-a0f2-d92c52fa1e24-crew_ship_csv/props/tim_id</a>: 15550"
      ],
      "text/plain": [
       "<IPython.core.display.HTML object>"
      ]
     },
     "metadata": {},
     "output_type": "display_data"
    },
    {
     "data": {
      "text/html": [
       "<a target=\"_blank\" href=\"https://data.huygens.knaw.nl/rdf/datasets/u28f4a6e30d2ef7728fb4b3233cc6313e316cd992/ppds/rawData/784db1af-7b86-4d07-b64c-b6c5a9934c37-rank_csv/props/HISCO_URI\">https://data.huygens.knaw.nl/rdf/datasets/u28f4a6e30d2ef7728fb4b3233cc6313e316cd992/ppds/rawData/784db1af-7b86-4d07-b64c-b6c5a9934c37-rank_csv/props/HISCO_URI</a>: 21"
      ],
      "text/plain": [
       "<IPython.core.display.HTML object>"
      ]
     },
     "metadata": {},
     "output_type": "display_data"
    },
    {
     "data": {
      "text/html": [
       "<a target=\"_blank\" href=\"https://data.huygens.knaw.nl/rdf/datasets/u28f4a6e30d2ef7728fb4b3233cc6313e316cd992/ppds/rawData/784db1af-7b86-4d07-b64c-b6c5a9934c37-rank_csv/props/OCCUPCODE\">https://data.huygens.knaw.nl/rdf/datasets/u28f4a6e30d2ef7728fb4b3233cc6313e316cd992/ppds/rawData/784db1af-7b86-4d07-b64c-b6c5a9934c37-rank_csv/props/OCCUPCODE</a>: 21"
      ],
      "text/plain": [
       "<IPython.core.display.HTML object>"
      ]
     },
     "metadata": {},
     "output_type": "display_data"
    },
    {
     "data": {
      "text/html": [
       "<a target=\"_blank\" href=\"https://data.huygens.knaw.nl/rdf/datasets/u28f4a6e30d2ef7728fb4b3233cc6313e316cd992/ppds/rawData/784db1af-7b86-4d07-b64c-b6c5a9934c37-rank_csv/props/OCCUPCODE_1\">https://data.huygens.knaw.nl/rdf/datasets/u28f4a6e30d2ef7728fb4b3233cc6313e316cd992/ppds/rawData/784db1af-7b86-4d07-b64c-b6c5a9934c37-rank_csv/props/OCCUPCODE_1</a>: 21"
      ],
      "text/plain": [
       "<IPython.core.display.HTML object>"
      ]
     },
     "metadata": {},
     "output_type": "display_data"
    },
    {
     "data": {
      "text/html": [
       "<a target=\"_blank\" href=\"https://data.huygens.knaw.nl/rdf/datasets/u28f4a6e30d2ef7728fb4b3233cc6313e316cd992/ppds/rawData/784db1af-7b86-4d07-b64c-b6c5a9934c37-rank_csv/props/OCCUPTITLE\">https://data.huygens.knaw.nl/rdf/datasets/u28f4a6e30d2ef7728fb4b3233cc6313e316cd992/ppds/rawData/784db1af-7b86-4d07-b64c-b6c5a9934c37-rank_csv/props/OCCUPTITLE</a>: 25"
      ],
      "text/plain": [
       "<IPython.core.display.HTML object>"
      ]
     },
     "metadata": {},
     "output_type": "display_data"
    },
    {
     "data": {
      "text/html": [
       "<a target=\"_blank\" href=\"https://data.huygens.knaw.nl/rdf/datasets/u28f4a6e30d2ef7728fb4b3233cc6313e316cd992/ppds/rawData/784db1af-7b86-4d07-b64c-b6c5a9934c37-rank_csv/props/PPD_RANK_ID\">https://data.huygens.knaw.nl/rdf/datasets/u28f4a6e30d2ef7728fb4b3233cc6313e316cd992/ppds/rawData/784db1af-7b86-4d07-b64c-b6c5a9934c37-rank_csv/props/PPD_RANK_ID</a>: 25"
      ],
      "text/plain": [
       "<IPython.core.display.HTML object>"
      ]
     },
     "metadata": {},
     "output_type": "display_data"
    },
    {
     "data": {
      "text/html": [
       "<a target=\"_blank\" href=\"https://data.huygens.knaw.nl/rdf/datasets/u28f4a6e30d2ef7728fb4b3233cc6313e316cd992/ppds/rawData/784db1af-7b86-4d07-b64c-b6c5a9934c37-rank_csv/props/tim_id\">https://data.huygens.knaw.nl/rdf/datasets/u28f4a6e30d2ef7728fb4b3233cc6313e316cd992/ppds/rawData/784db1af-7b86-4d07-b64c-b6c5a9934c37-rank_csv/props/tim_id</a>: 25"
      ],
      "text/plain": [
       "<IPython.core.display.HTML object>"
      ]
     },
     "metadata": {},
     "output_type": "display_data"
    },
    {
     "data": {
      "text/html": [
       "<a target=\"_blank\" href=\"https://data.huygens.knaw.nl/rdf/datasets/u28f4a6e30d2ef7728fb4b3233cc6313e316cd992/ppds/rawData/ef547135-5c53-459a-bfdb-2622f6205596-gazetteer_csv/props/Comment\">https://data.huygens.knaw.nl/rdf/datasets/u28f4a6e30d2ef7728fb4b3233cc6313e316cd992/ppds/rawData/ef547135-5c53-459a-bfdb-2622f6205596-gazetteer_csv/props/Comment</a>: 227"
      ],
      "text/plain": [
       "<IPython.core.display.HTML object>"
      ]
     },
     "metadata": {},
     "output_type": "display_data"
    },
    {
     "data": {
      "text/html": [
       "<a target=\"_blank\" href=\"https://data.huygens.knaw.nl/rdf/datasets/u28f4a6e30d2ef7728fb4b3233cc6313e316cd992/ppds/rawData/ef547135-5c53-459a-bfdb-2622f6205596-gazetteer_csv/props/GeonamesAddedBy\">https://data.huygens.knaw.nl/rdf/datasets/u28f4a6e30d2ef7728fb4b3233cc6313e316cd992/ppds/rawData/ef547135-5c53-459a-bfdb-2622f6205596-gazetteer_csv/props/GeonamesAddedBy</a>: 1232"
      ],
      "text/plain": [
       "<IPython.core.display.HTML object>"
      ]
     },
     "metadata": {},
     "output_type": "display_data"
    },
    {
     "data": {
      "text/html": [
       "<a target=\"_blank\" href=\"https://data.huygens.knaw.nl/rdf/datasets/u28f4a6e30d2ef7728fb4b3233cc6313e316cd992/ppds/rawData/ef547135-5c53-459a-bfdb-2622f6205596-gazetteer_csv/props/GeonamesID\">https://data.huygens.knaw.nl/rdf/datasets/u28f4a6e30d2ef7728fb4b3233cc6313e316cd992/ppds/rawData/ef547135-5c53-459a-bfdb-2622f6205596-gazetteer_csv/props/GeonamesID</a>: 3596"
      ],
      "text/plain": [
       "<IPython.core.display.HTML object>"
      ]
     },
     "metadata": {},
     "output_type": "display_data"
    },
    {
     "data": {
      "text/html": [
       "<a target=\"_blank\" href=\"https://data.huygens.knaw.nl/rdf/datasets/u28f4a6e30d2ef7728fb4b3233cc6313e316cd992/ppds/rawData/ef547135-5c53-459a-bfdb-2622f6205596-gazetteer_csv/props/GeonamesToponym\">https://data.huygens.knaw.nl/rdf/datasets/u28f4a6e30d2ef7728fb4b3233cc6313e316cd992/ppds/rawData/ef547135-5c53-459a-bfdb-2622f6205596-gazetteer_csv/props/GeonamesToponym</a>: 3596"
      ],
      "text/plain": [
       "<IPython.core.display.HTML object>"
      ]
     },
     "metadata": {},
     "output_type": "display_data"
    },
    {
     "data": {
      "text/html": [
       "<a target=\"_blank\" href=\"https://data.huygens.knaw.nl/rdf/datasets/u28f4a6e30d2ef7728fb4b3233cc6313e316cd992/ppds/rawData/ef547135-5c53-459a-bfdb-2622f6205596-gazetteer_csv/props/GeonamesURI\">https://data.huygens.knaw.nl/rdf/datasets/u28f4a6e30d2ef7728fb4b3233cc6313e316cd992/ppds/rawData/ef547135-5c53-459a-bfdb-2622f6205596-gazetteer_csv/props/GeonamesURI</a>: 3596"
      ],
      "text/plain": [
       "<IPython.core.display.HTML object>"
      ]
     },
     "metadata": {},
     "output_type": "display_data"
    },
    {
     "data": {
      "text/html": [
       "<a target=\"_blank\" href=\"https://data.huygens.knaw.nl/rdf/datasets/u28f4a6e30d2ef7728fb4b3233cc6313e316cd992/ppds/rawData/ef547135-5c53-459a-bfdb-2622f6205596-gazetteer_csv/props/Latitude_original\">https://data.huygens.knaw.nl/rdf/datasets/u28f4a6e30d2ef7728fb4b3233cc6313e316cd992/ppds/rawData/ef547135-5c53-459a-bfdb-2622f6205596-gazetteer_csv/props/Latitude_original</a>: 3596"
      ],
      "text/plain": [
       "<IPython.core.display.HTML object>"
      ]
     },
     "metadata": {},
     "output_type": "display_data"
    },
    {
     "data": {
      "text/html": [
       "<a target=\"_blank\" href=\"https://data.huygens.knaw.nl/rdf/datasets/u28f4a6e30d2ef7728fb4b3233cc6313e316cd992/ppds/rawData/ef547135-5c53-459a-bfdb-2622f6205596-gazetteer_csv/props/Longitude_original\">https://data.huygens.knaw.nl/rdf/datasets/u28f4a6e30d2ef7728fb4b3233cc6313e316cd992/ppds/rawData/ef547135-5c53-459a-bfdb-2622f6205596-gazetteer_csv/props/Longitude_original</a>: 3596"
      ],
      "text/plain": [
       "<IPython.core.display.HTML object>"
      ]
     },
     "metadata": {},
     "output_type": "display_data"
    },
    {
     "data": {
      "text/html": [
       "<a target=\"_blank\" href=\"https://data.huygens.knaw.nl/rdf/datasets/u28f4a6e30d2ef7728fb4b3233cc6313e316cd992/ppds/rawData/ef547135-5c53-459a-bfdb-2622f6205596-gazetteer_csv/props/PPD_PL_ID\">https://data.huygens.knaw.nl/rdf/datasets/u28f4a6e30d2ef7728fb4b3233cc6313e316cd992/ppds/rawData/ef547135-5c53-459a-bfdb-2622f6205596-gazetteer_csv/props/PPD_PL_ID</a>: 3596"
      ],
      "text/plain": [
       "<IPython.core.display.HTML object>"
      ]
     },
     "metadata": {},
     "output_type": "display_data"
    },
    {
     "data": {
      "text/html": [
       "<a target=\"_blank\" href=\"https://data.huygens.knaw.nl/rdf/datasets/u28f4a6e30d2ef7728fb4b3233cc6313e316cd992/ppds/rawData/ef547135-5c53-459a-bfdb-2622f6205596-gazetteer_csv/props/Toponym_original\">https://data.huygens.knaw.nl/rdf/datasets/u28f4a6e30d2ef7728fb4b3233cc6313e316cd992/ppds/rawData/ef547135-5c53-459a-bfdb-2622f6205596-gazetteer_csv/props/Toponym_original</a>: 3596"
      ],
      "text/plain": [
       "<IPython.core.display.HTML object>"
      ]
     },
     "metadata": {},
     "output_type": "display_data"
    },
    {
     "data": {
      "text/html": [
       "<a target=\"_blank\" href=\"https://data.huygens.knaw.nl/rdf/datasets/u28f4a6e30d2ef7728fb4b3233cc6313e316cd992/ppds/rawData/ef547135-5c53-459a-bfdb-2622f6205596-gazetteer_csv/props/tim_id\">https://data.huygens.knaw.nl/rdf/datasets/u28f4a6e30d2ef7728fb4b3233cc6313e316cd992/ppds/rawData/ef547135-5c53-459a-bfdb-2622f6205596-gazetteer_csv/props/tim_id</a>: 3596"
      ],
      "text/plain": [
       "<IPython.core.display.HTML object>"
      ]
     },
     "metadata": {},
     "output_type": "display_data"
    },
    {
     "data": {
      "text/html": [
       "<h3>fingerprint</h3>"
      ],
      "text/plain": [
       "<IPython.core.display.HTML object>"
      ]
     },
     "metadata": {},
     "output_type": "display_data"
    },
    {
     "data": {
      "text/html": [
       "<a target=\"_blank\" href=\"https://repository.huygens.knaw.nl/v5/resourcesync/uce2a3bf7348ceaed31feb7c9d44618d20f742ba7/emlo_smalltest2/dataset.nq\">https://repository.huygens.knaw.nl/v5/resourcesync/uce2a3bf7348ceaed31feb7c9d44618d20f742ba7/emlo_smalltest2/dataset.nq</a>"
      ],
      "text/plain": [
       "<IPython.core.display.HTML object>"
      ]
     },
     "metadata": {},
     "output_type": "display_data"
    },
    {
     "name": "stdout",
     "output_type": "stream",
     "text": [
      "contexts  :            1\n",
      "statements:        1.584\n",
      "literals  :          493\n",
      "literal ratio:    0,31\n",
      "\n",
      "subject netlocs: 18 {'': 771, 'emplaces.namespace.example.org': 219, 'sws.geonames.org': 28, 'emplaces.data.example.org': 385, 'xmlns.com': 3, 'davidrumsey.georeferencer.com': 5, 'www.geonames.org': 93, 'www.w3.org': 40, 'data.huygens.knaw.nl': 16, 'www.dokumentyslaska.pl': 6, 'dbpedia.org': 5, 'ru.wikipedia.org': 3, 'en.wikipedia.org': 5, 'www.herder-institut.de': 1, 'purl.org': 1, 'retromap.ru': 1, 'dolny-slask.org.pl': 1, 'ome-lexikon.uni-oldenburg.de': 1}\n",
      "object netlocs: 18 {'emplaces.namespace.example.org': 198, 'davidrumsey.georeferencer.com': 5, '': 557, 'www.w3.org': 40, 'emplaces.data.example.org': 162, 'www.geonames.org': 67, 'xmlns.com': 3, 'en.wikipedia.org': 5, 'data.huygens.knaw.nl': 7, 'www.dokumentyslaska.pl': 6, 'ome-lexikon.uni-oldenburg.de': 1, 'dbpedia.org': 5, 'sws.geonames.org': 28, 'ru.wikipedia.org': 3, 'dolny-slask.org.pl': 1, 'purl.org': 1, 'www.herder-institut.de': 1, 'retromap.ru': 1}\n",
      "\n",
      "example.org | s 0 | p 0 | o 0 | total 0\n",
      "\n",
      "predicate netlocs: 7 | {'emplaces.namespace.example.org': 883, 'www.w3.org': 670, 'xmlns.com': 6, 'purl.org': 17, 'schema.org': 6, 'timbuctoo.huygens.knaw.nl': 1, 'www.geonames.org': 1}\n",
      "predicates: 66\n",
      "http://emplaces.namespace.example.org/alternateName: 198\n",
      "http://emplaces.namespace.example.org/alternateURI: 10\n",
      "http://emplaces.namespace.example.org/canonicalURI: 5\n",
      "http://emplaces.namespace.example.org/competence: 44\n",
      "http://emplaces.namespace.example.org/coreDataRef: 10\n",
      "http://emplaces.namespace.example.org/corePlaceType: 10\n",
      "http://emplaces.namespace.example.org/coreProperty: 8\n",
      "http://emplaces.namespace.example.org/earliestEnd:: 1\n",
      "http://emplaces.namespace.example.org/editorialNote: 1\n",
      "http://emplaces.namespace.example.org/end: 29\n",
      "http://emplaces.namespace.example.org/fromType: 6\n",
      "http://emplaces.namespace.example.org/hasAnnotation: 46\n",
      "http://emplaces.namespace.example.org/hasRelation: 26\n",
      "http://emplaces.namespace.example.org/language: 10\n",
      "http://emplaces.namespace.example.org/latestStart:: 1\n",
      "http://emplaces.namespace.example.org/link: 94\n",
      "http://emplaces.namespace.example.org/location: 10\n",
      "http://emplaces.namespace.example.org/name: 10\n",
      "http://emplaces.namespace.example.org/placeCategory: 20\n",
      "http://emplaces.namespace.example.org/placeType: 10\n",
      "http://emplaces.namespace.example.org/preferredName: 5\n",
      "http://emplaces.namespace.example.org/reference: 2\n",
      "http://emplaces.namespace.example.org/relatedResource: 12\n",
      "http://emplaces.namespace.example.org/relationTo: 26\n",
      "http://emplaces.namespace.example.org/relationType: 26\n",
      "http://emplaces.namespace.example.org/source: 66\n",
      "http://emplaces.namespace.example.org/start: 31\n",
      "http://emplaces.namespace.example.org/timespan: 66\n",
      "http://emplaces.namespace.example.org/toType: 6\n",
      "http://emplaces.namespace.example.org/when: 84\n",
      "http://emplaces.namespace.example.org/where: 10\n"
     ]
    },
    {
     "data": {
      "text/html": [
       "<a target=\"_blank\" href=\"http://purl.org/dc/terms/date\">http://purl.org/dc/terms/date</a>: 1"
      ],
      "text/plain": [
       "<IPython.core.display.HTML object>"
      ]
     },
     "metadata": {},
     "output_type": "display_data"
    },
    {
     "data": {
      "text/html": [
       "<a target=\"_blank\" href=\"http://purl.org/dc/terms/description\">http://purl.org/dc/terms/description</a>: 2"
      ],
      "text/plain": [
       "<IPython.core.display.HTML object>"
      ]
     },
     "metadata": {},
     "output_type": "display_data"
    },
    {
     "data": {
      "text/html": [
       "<a target=\"_blank\" href=\"http://purl.org/dc/terms/provenance\">http://purl.org/dc/terms/provenance</a>: 2"
      ],
      "text/plain": [
       "<IPython.core.display.HTML object>"
      ]
     },
     "metadata": {},
     "output_type": "display_data"
    },
    {
     "data": {
      "text/html": [
       "<a target=\"_blank\" href=\"http://purl.org/dc/terms/publisher\">http://purl.org/dc/terms/publisher</a>: 2"
      ],
      "text/plain": [
       "<IPython.core.display.HTML object>"
      ]
     },
     "metadata": {},
     "output_type": "display_data"
    },
    {
     "data": {
      "text/html": [
       "<a target=\"_blank\" href=\"http://purl.org/dc/terms/rightsHolder\">http://purl.org/dc/terms/rightsHolder</a>: 2"
      ],
      "text/plain": [
       "<IPython.core.display.HTML object>"
      ]
     },
     "metadata": {},
     "output_type": "display_data"
    },
    {
     "data": {
      "text/html": [
       "<a target=\"_blank\" href=\"http://purl.org/dc/terms/source\">http://purl.org/dc/terms/source</a>: 1"
      ],
      "text/plain": [
       "<IPython.core.display.HTML object>"
      ]
     },
     "metadata": {},
     "output_type": "display_data"
    },
    {
     "data": {
      "text/html": [
       "<a target=\"_blank\" href=\"http://purl.org/dc/terms/title\">http://purl.org/dc/terms/title</a>: 3"
      ],
      "text/plain": [
       "<IPython.core.display.HTML object>"
      ]
     },
     "metadata": {},
     "output_type": "display_data"
    },
    {
     "data": {
      "text/html": [
       "<a target=\"_blank\" href=\"http://purl.org/ontology/bibo/authorList\">http://purl.org/ontology/bibo/authorList</a>: 2"
      ],
      "text/plain": [
       "<IPython.core.display.HTML object>"
      ]
     },
     "metadata": {},
     "output_type": "display_data"
    },
    {
     "data": {
      "text/html": [
       "<a target=\"_blank\" href=\"http://purl.org/ontology/bibo/isbn10\">http://purl.org/ontology/bibo/isbn10</a>: 1"
      ],
      "text/plain": [
       "<IPython.core.display.HTML object>"
      ]
     },
     "metadata": {},
     "output_type": "display_data"
    },
    {
     "data": {
      "text/html": [
       "<a target=\"_blank\" href=\"http://purl.org/ontology/bibo/isbn13\">http://purl.org/ontology/bibo/isbn13</a>: 1"
      ],
      "text/plain": [
       "<IPython.core.display.HTML object>"
      ]
     },
     "metadata": {},
     "output_type": "display_data"
    },
    {
     "data": {
      "text/html": [
       "<a target=\"_blank\" href=\"http://schema.org/ContactPoint\">http://schema.org/ContactPoint</a>: 2"
      ],
      "text/plain": [
       "<IPython.core.display.HTML object>"
      ]
     },
     "metadata": {},
     "output_type": "display_data"
    },
    {
     "data": {
      "text/html": [
       "<a target=\"_blank\" href=\"http://schema.org/email\">http://schema.org/email</a>: 2"
      ],
      "text/plain": [
       "<IPython.core.display.HTML object>"
      ]
     },
     "metadata": {},
     "output_type": "display_data"
    },
    {
     "data": {
      "text/html": [
       "<a target=\"_blank\" href=\"http://schema.org/name\">http://schema.org/name</a>: 2"
      ],
      "text/plain": [
       "<IPython.core.display.HTML object>"
      ]
     },
     "metadata": {},
     "output_type": "display_data"
    },
    {
     "name": "stdout",
     "output_type": "stream",
     "text": [
      "http://timbuctoo.huygens.knaw.nl/static/v5/vocabulary#hasIndexConfig: 1\n"
     ]
    },
    {
     "data": {
      "text/html": [
       "<a target=\"_blank\" href=\"http://www.geonames.org/ontology#countryCode\">http://www.geonames.org/ontology#countryCode</a>: 1"
      ],
      "text/plain": [
       "<IPython.core.display.HTML object>"
      ]
     },
     "metadata": {},
     "output_type": "display_data"
    },
    {
     "data": {
      "text/html": [
       "<a target=\"_blank\" href=\"http://www.w3.org/1999/02/22-rdf-syntax-ns#first\">http://www.w3.org/1999/02/22-rdf-syntax-ns#first</a>: 4"
      ],
      "text/plain": [
       "<IPython.core.display.HTML object>"
      ]
     },
     "metadata": {},
     "output_type": "display_data"
    },
    {
     "data": {
      "text/html": [
       "<a target=\"_blank\" href=\"http://www.w3.org/1999/02/22-rdf-syntax-ns#rest\">http://www.w3.org/1999/02/22-rdf-syntax-ns#rest</a>: 4"
      ],
      "text/plain": [
       "<IPython.core.display.HTML object>"
      ]
     },
     "metadata": {},
     "output_type": "display_data"
    },
    {
     "data": {
      "text/html": [
       "<a target=\"_blank\" href=\"http://www.w3.org/1999/02/22-rdf-syntax-ns#type\">http://www.w3.org/1999/02/22-rdf-syntax-ns#type</a>: 272"
      ],
      "text/plain": [
       "<IPython.core.display.HTML object>"
      ]
     },
     "metadata": {},
     "output_type": "display_data"
    },
    {
     "data": {
      "text/html": [
       "<a target=\"_blank\" href=\"http://www.w3.org/2000/01/rdf-schema#comment\">http://www.w3.org/2000/01/rdf-schema#comment</a>: 55"
      ],
      "text/plain": [
       "<IPython.core.display.HTML object>"
      ]
     },
     "metadata": {},
     "output_type": "display_data"
    },
    {
     "data": {
      "text/html": [
       "<a target=\"_blank\" href=\"http://www.w3.org/2000/01/rdf-schema#isDefinedBy\">http://www.w3.org/2000/01/rdf-schema#isDefinedBy</a>: 8"
      ],
      "text/plain": [
       "<IPython.core.display.HTML object>"
      ]
     },
     "metadata": {},
     "output_type": "display_data"
    },
    {
     "data": {
      "text/html": [
       "<a target=\"_blank\" href=\"http://www.w3.org/2000/01/rdf-schema#label\">http://www.w3.org/2000/01/rdf-schema#label</a>: 121"
      ],
      "text/plain": [
       "<IPython.core.display.HTML object>"
      ]
     },
     "metadata": {},
     "output_type": "display_data"
    },
    {
     "data": {
      "text/html": [
       "<a target=\"_blank\" href=\"http://www.w3.org/2000/01/rdf-schema#range\">http://www.w3.org/2000/01/rdf-schema#range</a>: 2"
      ],
      "text/plain": [
       "<IPython.core.display.HTML object>"
      ]
     },
     "metadata": {},
     "output_type": "display_data"
    },
    {
     "data": {
      "text/html": [
       "<a target=\"_blank\" href=\"http://www.w3.org/2000/01/rdf-schema#seeAlso\">http://www.w3.org/2000/01/rdf-schema#seeAlso</a>: 26"
      ],
      "text/plain": [
       "<IPython.core.display.HTML object>"
      ]
     },
     "metadata": {},
     "output_type": "display_data"
    },
    {
     "data": {
      "text/html": [
       "<a target=\"_blank\" href=\"http://www.w3.org/2000/01/rdf-schema#subPropertyOf\">http://www.w3.org/2000/01/rdf-schema#subPropertyOf</a>: 4"
      ],
      "text/plain": [
       "<IPython.core.display.HTML object>"
      ]
     },
     "metadata": {},
     "output_type": "display_data"
    },
    {
     "data": {
      "text/html": [
       "<a target=\"_blank\" href=\"http://www.w3.org/2003/01/geo/wgs84_pos#lat\">http://www.w3.org/2003/01/geo/wgs84_pos#lat</a>: 5"
      ],
      "text/plain": [
       "<IPython.core.display.HTML object>"
      ]
     },
     "metadata": {},
     "output_type": "display_data"
    },
    {
     "data": {
      "text/html": [
       "<a target=\"_blank\" href=\"http://www.w3.org/2003/01/geo/wgs84_pos#long\">http://www.w3.org/2003/01/geo/wgs84_pos#long</a>: 5"
      ],
      "text/plain": [
       "<IPython.core.display.HTML object>"
      ]
     },
     "metadata": {},
     "output_type": "display_data"
    },
    {
     "data": {
      "text/html": [
       "<a target=\"_blank\" href=\"http://www.w3.org/2004/02/skos/core#broader\">http://www.w3.org/2004/02/skos/core#broader</a>: 4"
      ],
      "text/plain": [
       "<IPython.core.display.HTML object>"
      ]
     },
     "metadata": {},
     "output_type": "display_data"
    },
    {
     "data": {
      "text/html": [
       "<a target=\"_blank\" href=\"http://www.w3.org/2004/02/skos/core#narrower\">http://www.w3.org/2004/02/skos/core#narrower</a>: 22"
      ],
      "text/plain": [
       "<IPython.core.display.HTML object>"
      ]
     },
     "metadata": {},
     "output_type": "display_data"
    },
    {
     "data": {
      "text/html": [
       "<a target=\"_blank\" href=\"http://www.w3.org/ns/oa#hasBody\">http://www.w3.org/ns/oa#hasBody</a>: 46"
      ],
      "text/plain": [
       "<IPython.core.display.HTML object>"
      ]
     },
     "metadata": {},
     "output_type": "display_data"
    },
    {
     "data": {
      "text/html": [
       "<a target=\"_blank\" href=\"http://www.w3.org/ns/oa#hasTarget\">http://www.w3.org/ns/oa#hasTarget</a>: 46"
      ],
      "text/plain": [
       "<IPython.core.display.HTML object>"
      ]
     },
     "metadata": {},
     "output_type": "display_data"
    },
    {
     "data": {
      "text/html": [
       "<a target=\"_blank\" href=\"http://www.w3.org/ns/oa#motivatedBy\">http://www.w3.org/ns/oa#motivatedBy</a>: 46"
      ],
      "text/plain": [
       "<IPython.core.display.HTML object>"
      ]
     },
     "metadata": {},
     "output_type": "display_data"
    },
    {
     "data": {
      "text/html": [
       "<a target=\"_blank\" href=\"http://xmlns.com/foaf/0.1/depiction\">http://xmlns.com/foaf/0.1/depiction</a>: 1"
      ],
      "text/plain": [
       "<IPython.core.display.HTML object>"
      ]
     },
     "metadata": {},
     "output_type": "display_data"
    },
    {
     "data": {
      "text/html": [
       "<a target=\"_blank\" href=\"http://xmlns.com/foaf/0.1/firstName\">http://xmlns.com/foaf/0.1/firstName</a>: 2"
      ],
      "text/plain": [
       "<IPython.core.display.HTML object>"
      ]
     },
     "metadata": {},
     "output_type": "display_data"
    },
    {
     "data": {
      "text/html": [
       "<a target=\"_blank\" href=\"http://xmlns.com/foaf/0.1/name\">http://xmlns.com/foaf/0.1/name</a>: 1"
      ],
      "text/plain": [
       "<IPython.core.display.HTML object>"
      ]
     },
     "metadata": {},
     "output_type": "display_data"
    },
    {
     "data": {
      "text/html": [
       "<a target=\"_blank\" href=\"http://xmlns.com/foaf/0.1/surname\">http://xmlns.com/foaf/0.1/surname</a>: 2"
      ],
      "text/plain": [
       "<IPython.core.display.HTML object>"
      ]
     },
     "metadata": {},
     "output_type": "display_data"
    },
    {
     "data": {
      "text/html": [
       "<h3>fingerprint</h3>"
      ],
      "text/plain": [
       "<IPython.core.display.HTML object>"
      ]
     },
     "metadata": {},
     "output_type": "display_data"
    },
    {
     "data": {
      "text/html": [
       "<a target=\"_blank\" href=\"https://repository.huygens.knaw.nl/v5/resourcesync/uce2a3bf7348ceaed31feb7c9d44618d20f742ba7/emlo_smalltest/dataset.nq\">https://repository.huygens.knaw.nl/v5/resourcesync/uce2a3bf7348ceaed31feb7c9d44618d20f742ba7/emlo_smalltest/dataset.nq</a>"
      ],
      "text/plain": [
       "<IPython.core.display.HTML object>"
      ]
     },
     "metadata": {},
     "output_type": "display_data"
    },
    {
     "name": "stdout",
     "output_type": "stream",
     "text": [
      "contexts  :            1\n",
      "statements:        1.403\n",
      "literals  :          454\n",
      "literal ratio:    0,32\n",
      "\n",
      "subject netlocs: 18 {'': 684, 'emplaces.data.example.org': 379, 'emplaces.namespace.example.org': 161, 'sws.geonames.org': 14, 'www.geonames.org': 93, 'retromap.ru': 1, 'dolny-slask.org.pl': 1, 'www.dokumentyslaska.pl': 6, 'www.w3.org': 38, 'data.huygens.knaw.nl': 2, 'ru.wikipedia.org': 3, 'xmlns.com': 3, 'en.wikipedia.org': 5, 'dbpedia.org': 5, 'www.herder-institut.de': 1, 'davidrumsey.georeferencer.com': 5, 'purl.org': 1, 'ome-lexikon.uni-oldenburg.de': 1}\n",
      "object netlocs: 18 {'': 489, 'emplaces.data.example.org': 156, 'emplaces.namespace.example.org': 151, 'www.w3.org': 38, 'www.geonames.org': 67, 'retromap.ru': 1, 'xmlns.com': 3, 'dbpedia.org': 5, 'en.wikipedia.org': 5, 'sws.geonames.org': 14, 'davidrumsey.georeferencer.com': 5, 'data.huygens.knaw.nl': 2, 'ru.wikipedia.org': 3, 'dolny-slask.org.pl': 1, 'www.dokumentyslaska.pl': 6, 'ome-lexikon.uni-oldenburg.de': 1, 'purl.org': 1, 'www.herder-institut.de': 1}\n",
      "\n",
      "example.org | s 0 | p 0 | o 0 | total 0\n",
      "\n",
      "predicate netlocs: 5 | {'emplaces.namespace.example.org': 765, 'www.w3.org': 623, 'purl.org': 9, 'xmlns.com': 5, 'www.geonames.org': 1}\n",
      "predicates: 52\n",
      "http://emplaces.namespace.example.org/alternateName: 198\n",
      "http://emplaces.namespace.example.org/canonicalURI: 5\n",
      "http://emplaces.namespace.example.org/coreDataRef: 8\n",
      "http://emplaces.namespace.example.org/editorialNote: 1\n",
      "http://emplaces.namespace.example.org/fromType: 6\n",
      "http://emplaces.namespace.example.org/hasAnnotation: 46\n",
      "http://emplaces.namespace.example.org/hasRelation: 26\n",
      "http://emplaces.namespace.example.org/language: 10\n",
      "http://emplaces.namespace.example.org/link: 58\n",
      "http://emplaces.namespace.example.org/location: 10\n",
      "http://emplaces.namespace.example.org/name: 10\n",
      "http://emplaces.namespace.example.org/placeCategory: 20\n",
      "http://emplaces.namespace.example.org/placeType: 20\n",
      "http://emplaces.namespace.example.org/preferredName: 5\n",
      "http://emplaces.namespace.example.org/reference: 2\n",
      "http://emplaces.namespace.example.org/relatedResource: 12\n",
      "http://emplaces.namespace.example.org/relationTo: 26\n",
      "http://emplaces.namespace.example.org/relationType: 26\n",
      "http://emplaces.namespace.example.org/source: 48\n",
      "http://emplaces.namespace.example.org/temporal/earliestEnd:: 1\n",
      "http://emplaces.namespace.example.org/temporal/end: 29\n",
      "http://emplaces.namespace.example.org/temporal/latestStart:: 1\n",
      "http://emplaces.namespace.example.org/temporal/start: 31\n",
      "http://emplaces.namespace.example.org/temporal/timespan: 66\n",
      "http://emplaces.namespace.example.org/toType: 6\n",
      "http://emplaces.namespace.example.org/when: 84\n",
      "http://emplaces.namespace.example.org/where: 10\n"
     ]
    },
    {
     "data": {
      "text/html": [
       "<a target=\"_blank\" href=\"http://purl.org/dc/terms/date\">http://purl.org/dc/terms/date</a>: 1"
      ],
      "text/plain": [
       "<IPython.core.display.HTML object>"
      ]
     },
     "metadata": {},
     "output_type": "display_data"
    },
    {
     "data": {
      "text/html": [
       "<a target=\"_blank\" href=\"http://purl.org/dc/terms/publisher\">http://purl.org/dc/terms/publisher</a>: 2"
      ],
      "text/plain": [
       "<IPython.core.display.HTML object>"
      ]
     },
     "metadata": {},
     "output_type": "display_data"
    },
    {
     "data": {
      "text/html": [
       "<a target=\"_blank\" href=\"http://purl.org/dc/terms/source\">http://purl.org/dc/terms/source</a>: 1"
      ],
      "text/plain": [
       "<IPython.core.display.HTML object>"
      ]
     },
     "metadata": {},
     "output_type": "display_data"
    },
    {
     "data": {
      "text/html": [
       "<a target=\"_blank\" href=\"http://purl.org/dc/terms/title\">http://purl.org/dc/terms/title</a>: 1"
      ],
      "text/plain": [
       "<IPython.core.display.HTML object>"
      ]
     },
     "metadata": {},
     "output_type": "display_data"
    },
    {
     "data": {
      "text/html": [
       "<a target=\"_blank\" href=\"http://purl.org/ontology/bibo/authorList\">http://purl.org/ontology/bibo/authorList</a>: 2"
      ],
      "text/plain": [
       "<IPython.core.display.HTML object>"
      ]
     },
     "metadata": {},
     "output_type": "display_data"
    },
    {
     "data": {
      "text/html": [
       "<a target=\"_blank\" href=\"http://purl.org/ontology/bibo/isbn10\">http://purl.org/ontology/bibo/isbn10</a>: 1"
      ],
      "text/plain": [
       "<IPython.core.display.HTML object>"
      ]
     },
     "metadata": {},
     "output_type": "display_data"
    },
    {
     "data": {
      "text/html": [
       "<a target=\"_blank\" href=\"http://purl.org/ontology/bibo/isbn13\">http://purl.org/ontology/bibo/isbn13</a>: 1"
      ],
      "text/plain": [
       "<IPython.core.display.HTML object>"
      ]
     },
     "metadata": {},
     "output_type": "display_data"
    },
    {
     "data": {
      "text/html": [
       "<a target=\"_blank\" href=\"http://www.geonames.org/ontology#countryCode\">http://www.geonames.org/ontology#countryCode</a>: 1"
      ],
      "text/plain": [
       "<IPython.core.display.HTML object>"
      ]
     },
     "metadata": {},
     "output_type": "display_data"
    },
    {
     "data": {
      "text/html": [
       "<a target=\"_blank\" href=\"http://www.w3.org/1999/02/22-rdf-syntax-ns#first\">http://www.w3.org/1999/02/22-rdf-syntax-ns#first</a>: 4"
      ],
      "text/plain": [
       "<IPython.core.display.HTML object>"
      ]
     },
     "metadata": {},
     "output_type": "display_data"
    },
    {
     "data": {
      "text/html": [
       "<a target=\"_blank\" href=\"http://www.w3.org/1999/02/22-rdf-syntax-ns#rest\">http://www.w3.org/1999/02/22-rdf-syntax-ns#rest</a>: 4"
      ],
      "text/plain": [
       "<IPython.core.display.HTML object>"
      ]
     },
     "metadata": {},
     "output_type": "display_data"
    },
    {
     "data": {
      "text/html": [
       "<a target=\"_blank\" href=\"http://www.w3.org/1999/02/22-rdf-syntax-ns#type\">http://www.w3.org/1999/02/22-rdf-syntax-ns#type</a>: 258"
      ],
      "text/plain": [
       "<IPython.core.display.HTML object>"
      ]
     },
     "metadata": {},
     "output_type": "display_data"
    },
    {
     "name": "stdout",
     "output_type": "stream",
     "text": [
      "http://www.w3.org/1999/02/22-rdf-syntax-oa#hasBody: 46\n",
      "http://www.w3.org/1999/02/22-rdf-syntax-oa#hasTarget: 46\n",
      "http://www.w3.org/1999/02/22-rdf-syntax-oa#motivatedBy: 46\n"
     ]
    },
    {
     "data": {
      "text/html": [
       "<a target=\"_blank\" href=\"http://www.w3.org/2000/01/rdf-schema#comment\">http://www.w3.org/2000/01/rdf-schema#comment</a>: 50"
      ],
      "text/plain": [
       "<IPython.core.display.HTML object>"
      ]
     },
     "metadata": {},
     "output_type": "display_data"
    },
    {
     "data": {
      "text/html": [
       "<a target=\"_blank\" href=\"http://www.w3.org/2000/01/rdf-schema#isDefinedBy\">http://www.w3.org/2000/01/rdf-schema#isDefinedBy</a>: 10"
      ],
      "text/plain": [
       "<IPython.core.display.HTML object>"
      ]
     },
     "metadata": {},
     "output_type": "display_data"
    },
    {
     "data": {
      "text/html": [
       "<a target=\"_blank\" href=\"http://www.w3.org/2000/01/rdf-schema#label\">http://www.w3.org/2000/01/rdf-schema#label</a>: 97"
      ],
      "text/plain": [
       "<IPython.core.display.HTML object>"
      ]
     },
     "metadata": {},
     "output_type": "display_data"
    },
    {
     "data": {
      "text/html": [
       "<a target=\"_blank\" href=\"http://www.w3.org/2000/01/rdf-schema#seeAlso\">http://www.w3.org/2000/01/rdf-schema#seeAlso</a>: 26"
      ],
      "text/plain": [
       "<IPython.core.display.HTML object>"
      ]
     },
     "metadata": {},
     "output_type": "display_data"
    },
    {
     "data": {
      "text/html": [
       "<a target=\"_blank\" href=\"http://www.w3.org/2003/01/geo/wgs84_pos#lat\">http://www.w3.org/2003/01/geo/wgs84_pos#lat</a>: 5"
      ],
      "text/plain": [
       "<IPython.core.display.HTML object>"
      ]
     },
     "metadata": {},
     "output_type": "display_data"
    },
    {
     "data": {
      "text/html": [
       "<a target=\"_blank\" href=\"http://www.w3.org/2003/01/geo/wgs84_pos#long\">http://www.w3.org/2003/01/geo/wgs84_pos#long</a>: 5"
      ],
      "text/plain": [
       "<IPython.core.display.HTML object>"
      ]
     },
     "metadata": {},
     "output_type": "display_data"
    },
    {
     "data": {
      "text/html": [
       "<a target=\"_blank\" href=\"http://www.w3.org/2004/02/skos/core#broader\">http://www.w3.org/2004/02/skos/core#broader</a>: 4"
      ],
      "text/plain": [
       "<IPython.core.display.HTML object>"
      ]
     },
     "metadata": {},
     "output_type": "display_data"
    },
    {
     "data": {
      "text/html": [
       "<a target=\"_blank\" href=\"http://www.w3.org/2004/02/skos/core#narrower\">http://www.w3.org/2004/02/skos/core#narrower</a>: 22"
      ],
      "text/plain": [
       "<IPython.core.display.HTML object>"
      ]
     },
     "metadata": {},
     "output_type": "display_data"
    },
    {
     "data": {
      "text/html": [
       "<a target=\"_blank\" href=\"http://xmlns.com/foaf/0.1/firstName\">http://xmlns.com/foaf/0.1/firstName</a>: 2"
      ],
      "text/plain": [
       "<IPython.core.display.HTML object>"
      ]
     },
     "metadata": {},
     "output_type": "display_data"
    },
    {
     "data": {
      "text/html": [
       "<a target=\"_blank\" href=\"http://xmlns.com/foaf/0.1/name\">http://xmlns.com/foaf/0.1/name</a>: 1"
      ],
      "text/plain": [
       "<IPython.core.display.HTML object>"
      ]
     },
     "metadata": {},
     "output_type": "display_data"
    },
    {
     "data": {
      "text/html": [
       "<a target=\"_blank\" href=\"http://xmlns.com/foaf/0.1/surname\">http://xmlns.com/foaf/0.1/surname</a>: 2"
      ],
      "text/plain": [
       "<IPython.core.display.HTML object>"
      ]
     },
     "metadata": {},
     "output_type": "display_data"
    },
    {
     "data": {
      "text/html": [
       "<h3>fingerprint</h3>"
      ],
      "text/plain": [
       "<IPython.core.display.HTML object>"
      ]
     },
     "metadata": {},
     "output_type": "display_data"
    },
    {
     "data": {
      "text/html": [
       "<a target=\"_blank\" href=\"https://repository.huygens.knaw.nl/v5/resourcesync/u7226ce46babcb2e8dd733d7c0ff211330bd63b79/soundtoll_11/dataset.nq\">https://repository.huygens.knaw.nl/v5/resourcesync/u7226ce46babcb2e8dd733d7c0ff211330bd63b79/soundtoll_11/dataset.nq</a>"
      ],
      "text/plain": [
       "<IPython.core.display.HTML object>"
      ]
     },
     "metadata": {},
     "output_type": "display_data"
    },
    {
     "name": "stdout",
     "output_type": "stream",
     "text": [
      "contexts  :            1\n",
      "statements:    6.066.607\n",
      "literals  :    4.537.991\n",
      "literal ratio:    0,75\n",
      "\n",
      "subject netlocs: 2 {'data.huygens.knaw.nl': 6066494, 'timbuctoo.huygens.knaw.nl': 113}\n",
      "object netlocs: 2 {'data.huygens.knaw.nl': 1528503, 'timbuctoo.huygens.knaw.nl': 113}\n",
      "\n",
      "example.org | s 0 | p 0 | o 0 | total 0\n",
      "\n",
      "predicate netlocs: 3 | {'data.huygens.knaw.nl': 4537759, 'timbuctoo.huygens.knaw.nl': 764510, 'www.w3.org': 764338}\n",
      "predicates: 96\n",
      "http://timbuctoo.huygens.knaw.nl/static/v5/vocabulary#hasCollection: 10\n",
      "http://timbuctoo.huygens.knaw.nl/static/v5/vocabulary#hasIndexConfig: 3\n",
      "http://timbuctoo.huygens.knaw.nl/static/v5/vocabulary#hasProperty: 206\n",
      "http://timbuctoo.huygens.knaw.nl/static/v5/vocabulary#hasViewConfig: 3\n",
      "http://timbuctoo.huygens.knaw.nl/static/v5/vocabulary#mimetype: 5\n",
      "http://timbuctoo.huygens.knaw.nl/static/v5/vocabulary#next: 206\n",
      "http://timbuctoo.huygens.knaw.nl/static/v5/vocabulary#propertyId: 103\n",
      "http://timbuctoo.huygens.knaw.nl/static/v5/vocabulary#timhasrow: 763974\n"
     ]
    },
    {
     "data": {
      "text/html": [
       "<a target=\"_blank\" href=\"http://www.w3.org/1999/02/22-rdf-syntax-ns#type\">http://www.w3.org/1999/02/22-rdf-syntax-ns#type</a>: 764210"
      ],
      "text/plain": [
       "<IPython.core.display.HTML object>"
      ]
     },
     "metadata": {},
     "output_type": "display_data"
    },
    {
     "data": {
      "text/html": [
       "<a target=\"_blank\" href=\"http://www.w3.org/2000/01/rdf-schema#label\">http://www.w3.org/2000/01/rdf-schema#label</a>: 113"
      ],
      "text/plain": [
       "<IPython.core.display.HTML object>"
      ]
     },
     "metadata": {},
     "output_type": "display_data"
    },
    {
     "data": {
      "text/html": [
       "<a target=\"_blank\" href=\"http://www.w3.org/ns/prov#atTime\">http://www.w3.org/ns/prov#atTime</a>: 5"
      ],
      "text/plain": [
       "<IPython.core.display.HTML object>"
      ]
     },
     "metadata": {},
     "output_type": "display_data"
    },
    {
     "data": {
      "text/html": [
       "<a target=\"_blank\" href=\"http://www.w3.org/ns/prov#wasDerivedFrom\">http://www.w3.org/ns/prov#wasDerivedFrom</a>: 10"
      ],
      "text/plain": [
       "<IPython.core.display.HTML object>"
      ]
     },
     "metadata": {},
     "output_type": "display_data"
    },
    {
     "data": {
      "text/html": [
       "<a target=\"_blank\" href=\"https://data.huygens.knaw.nl/rdf/datasets/u7226ce46babcb2e8dd733d7c0ff211330bd63b79/soundtoll_11/rawData/4d296bd8-7ea5-497e-b2fc-0f8471fc7dd9-places_source_csv/props/HP\">https://data.huygens.knaw.nl/rdf/datasets/u7226ce46babcb2e8dd733d7c0ff211330bd63b79/soundtoll_11/rawData/4d296bd8-7ea5-497e-b2fc-0f8471fc7dd9-places_source_csv/props/HP</a>: 62568"
      ],
      "text/plain": [
       "<IPython.core.display.HTML object>"
      ]
     },
     "metadata": {},
     "output_type": "display_data"
    },
    {
     "data": {
      "text/html": [
       "<a target=\"_blank\" href=\"https://data.huygens.knaw.nl/rdf/datasets/u7226ce46babcb2e8dd733d7c0ff211330bd63b79/soundtoll_11/rawData/4d296bd8-7ea5-497e-b2fc-0f8471fc7dd9-places_source_csv/props/opm\">https://data.huygens.knaw.nl/rdf/datasets/u7226ce46babcb2e8dd733d7c0ff211330bd63b79/soundtoll_11/rawData/4d296bd8-7ea5-497e-b2fc-0f8471fc7dd9-places_source_csv/props/opm</a>: 7612"
      ],
      "text/plain": [
       "<IPython.core.display.HTML object>"
      ]
     },
     "metadata": {},
     "output_type": "display_data"
    },
    {
     "data": {
      "text/html": [
       "<a target=\"_blank\" href=\"https://data.huygens.knaw.nl/rdf/datasets/u7226ce46babcb2e8dd733d7c0ff211330bd63b79/soundtoll_11/rawData/4d296bd8-7ea5-497e-b2fc-0f8471fc7dd9-places_source_csv/props/place\">https://data.huygens.knaw.nl/rdf/datasets/u7226ce46babcb2e8dd733d7c0ff211330bd63b79/soundtoll_11/rawData/4d296bd8-7ea5-497e-b2fc-0f8471fc7dd9-places_source_csv/props/place</a>: 78938"
      ],
      "text/plain": [
       "<IPython.core.display.HTML object>"
      ]
     },
     "metadata": {},
     "output_type": "display_data"
    },
    {
     "data": {
      "text/html": [
       "<a target=\"_blank\" href=\"https://data.huygens.knaw.nl/rdf/datasets/u7226ce46babcb2e8dd733d7c0ff211330bd63b79/soundtoll_11/rawData/4d296bd8-7ea5-497e-b2fc-0f8471fc7dd9-places_source_csv/props/secundair\">https://data.huygens.knaw.nl/rdf/datasets/u7226ce46babcb2e8dd733d7c0ff211330bd63b79/soundtoll_11/rawData/4d296bd8-7ea5-497e-b2fc-0f8471fc7dd9-places_source_csv/props/secundair</a>: 78938"
      ],
      "text/plain": [
       "<IPython.core.display.HTML object>"
      ]
     },
     "metadata": {},
     "output_type": "display_data"
    },
    {
     "data": {
      "text/html": [
       "<a target=\"_blank\" href=\"https://data.huygens.knaw.nl/rdf/datasets/u7226ce46babcb2e8dd733d7c0ff211330bd63b79/soundtoll_11/rawData/4d296bd8-7ea5-497e-b2fc-0f8471fc7dd9-places_source_csv/props/soundcoding\">https://data.huygens.knaw.nl/rdf/datasets/u7226ce46babcb2e8dd733d7c0ff211330bd63b79/soundtoll_11/rawData/4d296bd8-7ea5-497e-b2fc-0f8471fc7dd9-places_source_csv/props/soundcoding</a>: 78938"
      ],
      "text/plain": [
       "<IPython.core.display.HTML object>"
      ]
     },
     "metadata": {},
     "output_type": "display_data"
    },
    {
     "data": {
      "text/html": [
       "<a target=\"_blank\" href=\"https://data.huygens.knaw.nl/rdf/datasets/u7226ce46babcb2e8dd733d7c0ff211330bd63b79/soundtoll_11/rawData/4d296bd8-7ea5-497e-b2fc-0f8471fc7dd9-places_source_csv/props/tim_id\">https://data.huygens.knaw.nl/rdf/datasets/u7226ce46babcb2e8dd733d7c0ff211330bd63b79/soundtoll_11/rawData/4d296bd8-7ea5-497e-b2fc-0f8471fc7dd9-places_source_csv/props/tim_id</a>: 78938"
      ],
      "text/plain": [
       "<IPython.core.display.HTML object>"
      ]
     },
     "metadata": {},
     "output_type": "display_data"
    },
    {
     "data": {
      "text/html": [
       "<a target=\"_blank\" href=\"https://data.huygens.knaw.nl/rdf/datasets/u7226ce46babcb2e8dd733d7c0ff211330bd63b79/soundtoll_11/rawData/4d296bd8-7ea5-497e-b2fc-0f8471fc7dd9-places_source_csv/props/vnr\">https://data.huygens.knaw.nl/rdf/datasets/u7226ce46babcb2e8dd733d7c0ff211330bd63b79/soundtoll_11/rawData/4d296bd8-7ea5-497e-b2fc-0f8471fc7dd9-places_source_csv/props/vnr</a>: 78938"
      ],
      "text/plain": [
       "<IPython.core.display.HTML object>"
      ]
     },
     "metadata": {},
     "output_type": "display_data"
    },
    {
     "data": {
      "text/html": [
       "<a target=\"_blank\" href=\"https://data.huygens.knaw.nl/rdf/datasets/u7226ce46babcb2e8dd733d7c0ff211330bd63b79/soundtoll_11/rawData/7934aa46-0e73-4e7d-a430-10ebb5b2d363-belastingen_csv/props/bedrag1\">https://data.huygens.knaw.nl/rdf/datasets/u7226ce46babcb2e8dd733d7c0ff211330bd63b79/soundtoll_11/rawData/7934aa46-0e73-4e7d-a430-10ebb5b2d363-belastingen_csv/props/bedrag1</a>: 100000"
      ],
      "text/plain": [
       "<IPython.core.display.HTML object>"
      ]
     },
     "metadata": {},
     "output_type": "display_data"
    },
    {
     "data": {
      "text/html": [
       "<a target=\"_blank\" href=\"https://data.huygens.knaw.nl/rdf/datasets/u7226ce46babcb2e8dd733d7c0ff211330bd63b79/soundtoll_11/rawData/7934aa46-0e73-4e7d-a430-10ebb5b2d363-belastingen_csv/props/bedrag2\">https://data.huygens.knaw.nl/rdf/datasets/u7226ce46babcb2e8dd733d7c0ff211330bd63b79/soundtoll_11/rawData/7934aa46-0e73-4e7d-a430-10ebb5b2d363-belastingen_csv/props/bedrag2</a>: 7976"
      ],
      "text/plain": [
       "<IPython.core.display.HTML object>"
      ]
     },
     "metadata": {},
     "output_type": "display_data"
    },
    {
     "data": {
      "text/html": [
       "<a target=\"_blank\" href=\"https://data.huygens.knaw.nl/rdf/datasets/u7226ce46babcb2e8dd733d7c0ff211330bd63b79/soundtoll_11/rawData/7934aa46-0e73-4e7d-a430-10ebb5b2d363-belastingen_csv/props/hulp\">https://data.huygens.knaw.nl/rdf/datasets/u7226ce46babcb2e8dd733d7c0ff211330bd63b79/soundtoll_11/rawData/7934aa46-0e73-4e7d-a430-10ebb5b2d363-belastingen_csv/props/hulp</a>: 3599"
      ],
      "text/plain": [
       "<IPython.core.display.HTML object>"
      ]
     },
     "metadata": {},
     "output_type": "display_data"
    },
    {
     "data": {
      "text/html": [
       "<a target=\"_blank\" href=\"https://data.huygens.knaw.nl/rdf/datasets/u7226ce46babcb2e8dd733d7c0ff211330bd63b79/soundtoll_11/rawData/7934aa46-0e73-4e7d-a430-10ebb5b2d363-belastingen_csv/props/id_doorvaart\">https://data.huygens.knaw.nl/rdf/datasets/u7226ce46babcb2e8dd733d7c0ff211330bd63b79/soundtoll_11/rawData/7934aa46-0e73-4e7d-a430-10ebb5b2d363-belastingen_csv/props/id_doorvaart</a>: 100000"
      ],
      "text/plain": [
       "<IPython.core.display.HTML object>"
      ]
     },
     "metadata": {},
     "output_type": "display_data"
    },
    {
     "data": {
      "text/html": [
       "<a target=\"_blank\" href=\"https://data.huygens.knaw.nl/rdf/datasets/u7226ce46babcb2e8dd733d7c0ff211330bd63b79/soundtoll_11/rawData/7934aa46-0e73-4e7d-a430-10ebb5b2d363-belastingen_csv/props/korting\">https://data.huygens.knaw.nl/rdf/datasets/u7226ce46babcb2e8dd733d7c0ff211330bd63b79/soundtoll_11/rawData/7934aa46-0e73-4e7d-a430-10ebb5b2d363-belastingen_csv/props/korting</a>: 100000"
      ],
      "text/plain": [
       "<IPython.core.display.HTML object>"
      ]
     },
     "metadata": {},
     "output_type": "display_data"
    },
    {
     "data": {
      "text/html": [
       "<a target=\"_blank\" href=\"https://data.huygens.knaw.nl/rdf/datasets/u7226ce46babcb2e8dd733d7c0ff211330bd63b79/soundtoll_11/rawData/7934aa46-0e73-4e7d-a430-10ebb5b2d363-belastingen_csv/props/muntsoort1\">https://data.huygens.knaw.nl/rdf/datasets/u7226ce46babcb2e8dd733d7c0ff211330bd63b79/soundtoll_11/rawData/7934aa46-0e73-4e7d-a430-10ebb5b2d363-belastingen_csv/props/muntsoort1</a>: 100000"
      ],
      "text/plain": [
       "<IPython.core.display.HTML object>"
      ]
     },
     "metadata": {},
     "output_type": "display_data"
    },
    {
     "data": {
      "text/html": [
       "<a target=\"_blank\" href=\"https://data.huygens.knaw.nl/rdf/datasets/u7226ce46babcb2e8dd733d7c0ff211330bd63b79/soundtoll_11/rawData/7934aa46-0e73-4e7d-a430-10ebb5b2d363-belastingen_csv/props/muntsoort2\">https://data.huygens.knaw.nl/rdf/datasets/u7226ce46babcb2e8dd733d7c0ff211330bd63b79/soundtoll_11/rawData/7934aa46-0e73-4e7d-a430-10ebb5b2d363-belastingen_csv/props/muntsoort2</a>: 7976"
      ],
      "text/plain": [
       "<IPython.core.display.HTML object>"
      ]
     },
     "metadata": {},
     "output_type": "display_data"
    },
    {
     "data": {
      "text/html": [
       "<a target=\"_blank\" href=\"https://data.huygens.knaw.nl/rdf/datasets/u7226ce46babcb2e8dd733d7c0ff211330bd63b79/soundtoll_11/rawData/7934aa46-0e73-4e7d-a430-10ebb5b2d363-belastingen_csv/props/naam\">https://data.huygens.knaw.nl/rdf/datasets/u7226ce46babcb2e8dd733d7c0ff211330bd63b79/soundtoll_11/rawData/7934aa46-0e73-4e7d-a430-10ebb5b2d363-belastingen_csv/props/naam</a>: 100000"
      ],
      "text/plain": [
       "<IPython.core.display.HTML object>"
      ]
     },
     "metadata": {},
     "output_type": "display_data"
    },
    {
     "data": {
      "text/html": [
       "<a target=\"_blank\" href=\"https://data.huygens.knaw.nl/rdf/datasets/u7226ce46babcb2e8dd733d7c0ff211330bd63b79/soundtoll_11/rawData/7934aa46-0e73-4e7d-a430-10ebb5b2d363-belastingen_csv/props/regel\">https://data.huygens.knaw.nl/rdf/datasets/u7226ce46babcb2e8dd733d7c0ff211330bd63b79/soundtoll_11/rawData/7934aa46-0e73-4e7d-a430-10ebb5b2d363-belastingen_csv/props/regel</a>: 100000"
      ],
      "text/plain": [
       "<IPython.core.display.HTML object>"
      ]
     },
     "metadata": {},
     "output_type": "display_data"
    },
    {
     "data": {
      "text/html": [
       "<a target=\"_blank\" href=\"https://data.huygens.knaw.nl/rdf/datasets/u7226ce46babcb2e8dd733d7c0ff211330bd63b79/soundtoll_11/rawData/7934aa46-0e73-4e7d-a430-10ebb5b2d363-belastingen_csv/props/tim_id\">https://data.huygens.knaw.nl/rdf/datasets/u7226ce46babcb2e8dd733d7c0ff211330bd63b79/soundtoll_11/rawData/7934aa46-0e73-4e7d-a430-10ebb5b2d363-belastingen_csv/props/tim_id</a>: 100000"
      ],
      "text/plain": [
       "<IPython.core.display.HTML object>"
      ]
     },
     "metadata": {},
     "output_type": "display_data"
    },
    {
     "data": {
      "text/html": [
       "<a target=\"_blank\" href=\"https://data.huygens.knaw.nl/rdf/datasets/u7226ce46babcb2e8dd733d7c0ff211330bd63b79/soundtoll_11/rawData/afa7c3ea-4694-405a-b9fd-148fccd83a1a-places_standard_csv/props/Kode\">https://data.huygens.knaw.nl/rdf/datasets/u7226ce46babcb2e8dd733d7c0ff211330bd63b79/soundtoll_11/rawData/afa7c3ea-4694-405a-b9fd-148fccd83a1a-places_standard_csv/props/Kode</a>: 3049"
      ],
      "text/plain": [
       "<IPython.core.display.HTML object>"
      ]
     },
     "metadata": {},
     "output_type": "display_data"
    },
    {
     "data": {
      "text/html": [
       "<a target=\"_blank\" href=\"https://data.huygens.knaw.nl/rdf/datasets/u7226ce46babcb2e8dd733d7c0ff211330bd63b79/soundtoll_11/rawData/afa7c3ea-4694-405a-b9fd-148fccd83a1a-places_standard_csv/props/Modern_Country\">https://data.huygens.knaw.nl/rdf/datasets/u7226ce46babcb2e8dd733d7c0ff211330bd63b79/soundtoll_11/rawData/afa7c3ea-4694-405a-b9fd-148fccd83a1a-places_standard_csv/props/Modern_Country</a>: 3034"
      ],
      "text/plain": [
       "<IPython.core.display.HTML object>"
      ]
     },
     "metadata": {},
     "output_type": "display_data"
    },
    {
     "data": {
      "text/html": [
       "<a target=\"_blank\" href=\"https://data.huygens.knaw.nl/rdf/datasets/u7226ce46babcb2e8dd733d7c0ff211330bd63b79/soundtoll_11/rawData/afa7c3ea-4694-405a-b9fd-148fccd83a1a-places_standard_csv/props/Modern_name\">https://data.huygens.knaw.nl/rdf/datasets/u7226ce46babcb2e8dd733d7c0ff211330bd63b79/soundtoll_11/rawData/afa7c3ea-4694-405a-b9fd-148fccd83a1a-places_standard_csv/props/Modern_name</a>: 3046"
      ],
      "text/plain": [
       "<IPython.core.display.HTML object>"
      ]
     },
     "metadata": {},
     "output_type": "display_data"
    },
    {
     "data": {
      "text/html": [
       "<a target=\"_blank\" href=\"https://data.huygens.knaw.nl/rdf/datasets/u7226ce46babcb2e8dd733d7c0ff211330bd63b79/soundtoll_11/rawData/afa7c3ea-4694-405a-b9fd-148fccd83a1a-places_standard_csv/props/Province\">https://data.huygens.knaw.nl/rdf/datasets/u7226ce46babcb2e8dd733d7c0ff211330bd63b79/soundtoll_11/rawData/afa7c3ea-4694-405a-b9fd-148fccd83a1a-places_standard_csv/props/Province</a>: 3019"
      ],
      "text/plain": [
       "<IPython.core.display.HTML object>"
      ]
     },
     "metadata": {},
     "output_type": "display_data"
    },
    {
     "data": {
      "text/html": [
       "<a target=\"_blank\" href=\"https://data.huygens.knaw.nl/rdf/datasets/u7226ce46babcb2e8dd733d7c0ff211330bd63b79/soundtoll_11/rawData/afa7c3ea-4694-405a-b9fd-148fccd83a1a-places_standard_csv/props/Remark\">https://data.huygens.knaw.nl/rdf/datasets/u7226ce46babcb2e8dd733d7c0ff211330bd63b79/soundtoll_11/rawData/afa7c3ea-4694-405a-b9fd-148fccd83a1a-places_standard_csv/props/Remark</a>: 48"
      ],
      "text/plain": [
       "<IPython.core.display.HTML object>"
      ]
     },
     "metadata": {},
     "output_type": "display_data"
    },
    {
     "data": {
      "text/html": [
       "<a target=\"_blank\" href=\"https://data.huygens.knaw.nl/rdf/datasets/u7226ce46babcb2e8dd733d7c0ff211330bd63b79/soundtoll_11/rawData/afa7c3ea-4694-405a-b9fd-148fccd83a1a-places_standard_csv/props/Stednavn\">https://data.huygens.knaw.nl/rdf/datasets/u7226ce46babcb2e8dd733d7c0ff211330bd63b79/soundtoll_11/rawData/afa7c3ea-4694-405a-b9fd-148fccd83a1a-places_standard_csv/props/Stednavn</a>: 3040"
      ],
      "text/plain": [
       "<IPython.core.display.HTML object>"
      ]
     },
     "metadata": {},
     "output_type": "display_data"
    },
    {
     "data": {
      "text/html": [
       "<a target=\"_blank\" href=\"https://data.huygens.knaw.nl/rdf/datasets/u7226ce46babcb2e8dd733d7c0ff211330bd63b79/soundtoll_11/rawData/afa7c3ea-4694-405a-b9fd-148fccd83a1a-places_standard_csv/props/Zoom\">https://data.huygens.knaw.nl/rdf/datasets/u7226ce46babcb2e8dd733d7c0ff211330bd63b79/soundtoll_11/rawData/afa7c3ea-4694-405a-b9fd-148fccd83a1a-places_standard_csv/props/Zoom</a>: 3049"
      ],
      "text/plain": [
       "<IPython.core.display.HTML object>"
      ]
     },
     "metadata": {},
     "output_type": "display_data"
    },
    {
     "data": {
      "text/html": [
       "<a target=\"_blank\" href=\"https://data.huygens.knaw.nl/rdf/datasets/u7226ce46babcb2e8dd733d7c0ff211330bd63b79/soundtoll_11/rawData/afa7c3ea-4694-405a-b9fd-148fccd83a1a-places_standard_csv/props/big_category\">https://data.huygens.knaw.nl/rdf/datasets/u7226ce46babcb2e8dd733d7c0ff211330bd63b79/soundtoll_11/rawData/afa7c3ea-4694-405a-b9fd-148fccd83a1a-places_standard_csv/props/big_category</a>: 3046"
      ],
      "text/plain": [
       "<IPython.core.display.HTML object>"
      ]
     },
     "metadata": {},
     "output_type": "display_data"
    },
    {
     "data": {
      "text/html": [
       "<a target=\"_blank\" href=\"https://data.huygens.knaw.nl/rdf/datasets/u7226ce46babcb2e8dd733d7c0ff211330bd63b79/soundtoll_11/rawData/afa7c3ea-4694-405a-b9fd-148fccd83a1a-places_standard_csv/props/big_category_code\">https://data.huygens.knaw.nl/rdf/datasets/u7226ce46babcb2e8dd733d7c0ff211330bd63b79/soundtoll_11/rawData/afa7c3ea-4694-405a-b9fd-148fccd83a1a-places_standard_csv/props/big_category_code</a>: 3049"
      ],
      "text/plain": [
       "<IPython.core.display.HTML object>"
      ]
     },
     "metadata": {},
     "output_type": "display_data"
    },
    {
     "data": {
      "text/html": [
       "<a target=\"_blank\" href=\"https://data.huygens.knaw.nl/rdf/datasets/u7226ce46babcb2e8dd733d7c0ff211330bd63b79/soundtoll_11/rawData/afa7c3ea-4694-405a-b9fd-148fccd83a1a-places_standard_csv/props/decLatitude\">https://data.huygens.knaw.nl/rdf/datasets/u7226ce46babcb2e8dd733d7c0ff211330bd63b79/soundtoll_11/rawData/afa7c3ea-4694-405a-b9fd-148fccd83a1a-places_standard_csv/props/decLatitude</a>: 3049"
      ],
      "text/plain": [
       "<IPython.core.display.HTML object>"
      ]
     },
     "metadata": {},
     "output_type": "display_data"
    },
    {
     "data": {
      "text/html": [
       "<a target=\"_blank\" href=\"https://data.huygens.knaw.nl/rdf/datasets/u7226ce46babcb2e8dd733d7c0ff211330bd63b79/soundtoll_11/rawData/afa7c3ea-4694-405a-b9fd-148fccd83a1a-places_standard_csv/props/decLongitude\">https://data.huygens.knaw.nl/rdf/datasets/u7226ce46babcb2e8dd733d7c0ff211330bd63b79/soundtoll_11/rawData/afa7c3ea-4694-405a-b9fd-148fccd83a1a-places_standard_csv/props/decLongitude</a>: 3049"
      ],
      "text/plain": [
       "<IPython.core.display.HTML object>"
      ]
     },
     "metadata": {},
     "output_type": "display_data"
    },
    {
     "data": {
      "text/html": [
       "<a target=\"_blank\" href=\"https://data.huygens.knaw.nl/rdf/datasets/u7226ce46babcb2e8dd733d7c0ff211330bd63b79/soundtoll_11/rawData/afa7c3ea-4694-405a-b9fd-148fccd83a1a-places_standard_csv/props/region\">https://data.huygens.knaw.nl/rdf/datasets/u7226ce46babcb2e8dd733d7c0ff211330bd63b79/soundtoll_11/rawData/afa7c3ea-4694-405a-b9fd-148fccd83a1a-places_standard_csv/props/region</a>: 3023"
      ],
      "text/plain": [
       "<IPython.core.display.HTML object>"
      ]
     },
     "metadata": {},
     "output_type": "display_data"
    },
    {
     "data": {
      "text/html": [
       "<a target=\"_blank\" href=\"https://data.huygens.knaw.nl/rdf/datasets/u7226ce46babcb2e8dd733d7c0ff211330bd63b79/soundtoll_11/rawData/afa7c3ea-4694-405a-b9fd-148fccd83a1a-places_standard_csv/props/small_category\">https://data.huygens.knaw.nl/rdf/datasets/u7226ce46babcb2e8dd733d7c0ff211330bd63b79/soundtoll_11/rawData/afa7c3ea-4694-405a-b9fd-148fccd83a1a-places_standard_csv/props/small_category</a>: 3046"
      ],
      "text/plain": [
       "<IPython.core.display.HTML object>"
      ]
     },
     "metadata": {},
     "output_type": "display_data"
    },
    {
     "data": {
      "text/html": [
       "<a target=\"_blank\" href=\"https://data.huygens.knaw.nl/rdf/datasets/u7226ce46babcb2e8dd733d7c0ff211330bd63b79/soundtoll_11/rawData/afa7c3ea-4694-405a-b9fd-148fccd83a1a-places_standard_csv/props/small_category_code\">https://data.huygens.knaw.nl/rdf/datasets/u7226ce46babcb2e8dd733d7c0ff211330bd63b79/soundtoll_11/rawData/afa7c3ea-4694-405a-b9fd-148fccd83a1a-places_standard_csv/props/small_category_code</a>: 3049"
      ],
      "text/plain": [
       "<IPython.core.display.HTML object>"
      ]
     },
     "metadata": {},
     "output_type": "display_data"
    },
    {
     "data": {
      "text/html": [
       "<a target=\"_blank\" href=\"https://data.huygens.knaw.nl/rdf/datasets/u7226ce46babcb2e8dd733d7c0ff211330bd63b79/soundtoll_11/rawData/afa7c3ea-4694-405a-b9fd-148fccd83a1a-places_standard_csv/props/tim_id\">https://data.huygens.knaw.nl/rdf/datasets/u7226ce46babcb2e8dd733d7c0ff211330bd63b79/soundtoll_11/rawData/afa7c3ea-4694-405a-b9fd-148fccd83a1a-places_standard_csv/props/tim_id</a>: 3049"
      ],
      "text/plain": [
       "<IPython.core.display.HTML object>"
      ]
     },
     "metadata": {},
     "output_type": "display_data"
    },
    {
     "data": {
      "text/html": [
       "<a target=\"_blank\" href=\"https://data.huygens.knaw.nl/rdf/datasets/u7226ce46babcb2e8dd733d7c0ff211330bd63b79/soundtoll_11/rawData/afa7c3ea-4694-405a-b9fd-148fccd83a1a-places_standard_csv/props/west_of_Helsing%C3%B8r\">https://data.huygens.knaw.nl/rdf/datasets/u7226ce46babcb2e8dd733d7c0ff211330bd63b79/soundtoll_11/rawData/afa7c3ea-4694-405a-b9fd-148fccd83a1a-places_standard_csv/props/west_of_Helsing%C3%B8r</a>: 3049"
      ],
      "text/plain": [
       "<IPython.core.display.HTML object>"
      ]
     },
     "metadata": {},
     "output_type": "display_data"
    },
    {
     "data": {
      "text/html": [
       "<a target=\"_blank\" href=\"https://data.huygens.knaw.nl/rdf/datasets/u7226ce46babcb2e8dd733d7c0ff211330bd63b79/soundtoll_11/rawData/cc8f6f64-4bf5-4153-b930-77e10b048148-ladingen_csv/props/aantal\">https://data.huygens.knaw.nl/rdf/datasets/u7226ce46babcb2e8dd733d7c0ff211330bd63b79/soundtoll_11/rawData/cc8f6f64-4bf5-4153-b930-77e10b048148-ladingen_csv/props/aantal</a>: 89077"
      ],
      "text/plain": [
       "<IPython.core.display.HTML object>"
      ]
     },
     "metadata": {},
     "output_type": "display_data"
    },
    {
     "data": {
      "text/html": [
       "<a target=\"_blank\" href=\"https://data.huygens.knaw.nl/rdf/datasets/u7226ce46babcb2e8dd733d7c0ff211330bd63b79/soundtoll_11/rawData/cc8f6f64-4bf5-4153-b930-77e10b048148-ladingen_csv/props/aantal_alt\">https://data.huygens.knaw.nl/rdf/datasets/u7226ce46babcb2e8dd733d7c0ff211330bd63b79/soundtoll_11/rawData/cc8f6f64-4bf5-4153-b930-77e10b048148-ladingen_csv/props/aantal_alt</a>: 443"
      ],
      "text/plain": [
       "<IPython.core.display.HTML object>"
      ]
     },
     "metadata": {},
     "output_type": "display_data"
    },
    {
     "data": {
      "text/html": [
       "<a target=\"_blank\" href=\"https://data.huygens.knaw.nl/rdf/datasets/u7226ce46babcb2e8dd733d7c0ff211330bd63b79/soundtoll_11/rawData/cc8f6f64-4bf5-4153-b930-77e10b048148-ladingen_csv/props/bedrag1\">https://data.huygens.knaw.nl/rdf/datasets/u7226ce46babcb2e8dd733d7c0ff211330bd63b79/soundtoll_11/rawData/cc8f6f64-4bf5-4153-b930-77e10b048148-ladingen_csv/props/bedrag1</a>: 81491"
      ],
      "text/plain": [
       "<IPython.core.display.HTML object>"
      ]
     },
     "metadata": {},
     "output_type": "display_data"
    },
    {
     "data": {
      "text/html": [
       "<a target=\"_blank\" href=\"https://data.huygens.knaw.nl/rdf/datasets/u7226ce46babcb2e8dd733d7c0ff211330bd63b79/soundtoll_11/rawData/cc8f6f64-4bf5-4153-b930-77e10b048148-ladingen_csv/props/bedrag2\">https://data.huygens.knaw.nl/rdf/datasets/u7226ce46babcb2e8dd733d7c0ff211330bd63b79/soundtoll_11/rawData/cc8f6f64-4bf5-4153-b930-77e10b048148-ladingen_csv/props/bedrag2</a>: 51520"
      ],
      "text/plain": [
       "<IPython.core.display.HTML object>"
      ]
     },
     "metadata": {},
     "output_type": "display_data"
    },
    {
     "data": {
      "text/html": [
       "<a target=\"_blank\" href=\"https://data.huygens.knaw.nl/rdf/datasets/u7226ce46babcb2e8dd733d7c0ff211330bd63b79/soundtoll_11/rawData/cc8f6f64-4bf5-4153-b930-77e10b048148-ladingen_csv/props/hulp\">https://data.huygens.knaw.nl/rdf/datasets/u7226ce46babcb2e8dd733d7c0ff211330bd63b79/soundtoll_11/rawData/cc8f6f64-4bf5-4153-b930-77e10b048148-ladingen_csv/props/hulp</a>: 499"
      ],
      "text/plain": [
       "<IPython.core.display.HTML object>"
      ]
     },
     "metadata": {},
     "output_type": "display_data"
    },
    {
     "data": {
      "text/html": [
       "<a target=\"_blank\" href=\"https://data.huygens.knaw.nl/rdf/datasets/u7226ce46babcb2e8dd733d7c0ff211330bd63b79/soundtoll_11/rawData/cc8f6f64-4bf5-4153-b930-77e10b048148-ladingen_csv/props/id_doorvaart\">https://data.huygens.knaw.nl/rdf/datasets/u7226ce46babcb2e8dd733d7c0ff211330bd63b79/soundtoll_11/rawData/cc8f6f64-4bf5-4153-b930-77e10b048148-ladingen_csv/props/id_doorvaart</a>: 100000"
      ],
      "text/plain": [
       "<IPython.core.display.HTML object>"
      ]
     },
     "metadata": {},
     "output_type": "display_data"
    },
    {
     "data": {
      "text/html": [
       "<a target=\"_blank\" href=\"https://data.huygens.knaw.nl/rdf/datasets/u7226ce46babcb2e8dd733d7c0ff211330bd63b79/soundtoll_11/rawData/cc8f6f64-4bf5-4153-b930-77e10b048148-ladingen_csv/props/maat\">https://data.huygens.knaw.nl/rdf/datasets/u7226ce46babcb2e8dd733d7c0ff211330bd63b79/soundtoll_11/rawData/cc8f6f64-4bf5-4153-b930-77e10b048148-ladingen_csv/props/maat</a>: 90484"
      ],
      "text/plain": [
       "<IPython.core.display.HTML object>"
      ]
     },
     "metadata": {},
     "output_type": "display_data"
    },
    {
     "data": {
      "text/html": [
       "<a target=\"_blank\" href=\"https://data.huygens.knaw.nl/rdf/datasets/u7226ce46babcb2e8dd733d7c0ff211330bd63b79/soundtoll_11/rawData/cc8f6f64-4bf5-4153-b930-77e10b048148-ladingen_csv/props/maat_alt\">https://data.huygens.knaw.nl/rdf/datasets/u7226ce46babcb2e8dd733d7c0ff211330bd63b79/soundtoll_11/rawData/cc8f6f64-4bf5-4153-b930-77e10b048148-ladingen_csv/props/maat_alt</a>: 443"
      ],
      "text/plain": [
       "<IPython.core.display.HTML object>"
      ]
     },
     "metadata": {},
     "output_type": "display_data"
    },
    {
     "data": {
      "text/html": [
       "<a target=\"_blank\" href=\"https://data.huygens.knaw.nl/rdf/datasets/u7226ce46babcb2e8dd733d7c0ff211330bd63b79/soundtoll_11/rawData/cc8f6f64-4bf5-4153-b930-77e10b048148-ladingen_csv/props/muntsoort1\">https://data.huygens.knaw.nl/rdf/datasets/u7226ce46babcb2e8dd733d7c0ff211330bd63b79/soundtoll_11/rawData/cc8f6f64-4bf5-4153-b930-77e10b048148-ladingen_csv/props/muntsoort1</a>: 81491"
      ],
      "text/plain": [
       "<IPython.core.display.HTML object>"
      ]
     },
     "metadata": {},
     "output_type": "display_data"
    },
    {
     "data": {
      "text/html": [
       "<a target=\"_blank\" href=\"https://data.huygens.knaw.nl/rdf/datasets/u7226ce46babcb2e8dd733d7c0ff211330bd63b79/soundtoll_11/rawData/cc8f6f64-4bf5-4153-b930-77e10b048148-ladingen_csv/props/muntsoort2\">https://data.huygens.knaw.nl/rdf/datasets/u7226ce46babcb2e8dd733d7c0ff211330bd63b79/soundtoll_11/rawData/cc8f6f64-4bf5-4153-b930-77e10b048148-ladingen_csv/props/muntsoort2</a>: 51520"
      ],
      "text/plain": [
       "<IPython.core.display.HTML object>"
      ]
     },
     "metadata": {},
     "output_type": "display_data"
    },
    {
     "data": {
      "text/html": [
       "<a target=\"_blank\" href=\"https://data.huygens.knaw.nl/rdf/datasets/u7226ce46babcb2e8dd733d7c0ff211330bd63b79/soundtoll_11/rawData/cc8f6f64-4bf5-4153-b930-77e10b048148-ladingen_csv/props/naar\">https://data.huygens.knaw.nl/rdf/datasets/u7226ce46babcb2e8dd733d7c0ff211330bd63b79/soundtoll_11/rawData/cc8f6f64-4bf5-4153-b930-77e10b048148-ladingen_csv/props/naar</a>: 100000"
      ],
      "text/plain": [
       "<IPython.core.display.HTML object>"
      ]
     },
     "metadata": {},
     "output_type": "display_data"
    },
    {
     "data": {
      "text/html": [
       "<a target=\"_blank\" href=\"https://data.huygens.knaw.nl/rdf/datasets/u7226ce46babcb2e8dd733d7c0ff211330bd63b79/soundtoll_11/rawData/cc8f6f64-4bf5-4153-b930-77e10b048148-ladingen_csv/props/regel\">https://data.huygens.knaw.nl/rdf/datasets/u7226ce46babcb2e8dd733d7c0ff211330bd63b79/soundtoll_11/rawData/cc8f6f64-4bf5-4153-b930-77e10b048148-ladingen_csv/props/regel</a>: 100000"
      ],
      "text/plain": [
       "<IPython.core.display.HTML object>"
      ]
     },
     "metadata": {},
     "output_type": "display_data"
    },
    {
     "data": {
      "text/html": [
       "<a target=\"_blank\" href=\"https://data.huygens.knaw.nl/rdf/datasets/u7226ce46babcb2e8dd733d7c0ff211330bd63b79/soundtoll_11/rawData/cc8f6f64-4bf5-4153-b930-77e10b048148-ladingen_csv/props/soort\">https://data.huygens.knaw.nl/rdf/datasets/u7226ce46babcb2e8dd733d7c0ff211330bd63b79/soundtoll_11/rawData/cc8f6f64-4bf5-4153-b930-77e10b048148-ladingen_csv/props/soort</a>: 100000"
      ],
      "text/plain": [
       "<IPython.core.display.HTML object>"
      ]
     },
     "metadata": {},
     "output_type": "display_data"
    },
    {
     "data": {
      "text/html": [
       "<a target=\"_blank\" href=\"https://data.huygens.knaw.nl/rdf/datasets/u7226ce46babcb2e8dd733d7c0ff211330bd63b79/soundtoll_11/rawData/cc8f6f64-4bf5-4153-b930-77e10b048148-ladingen_csv/props/tim_id\">https://data.huygens.knaw.nl/rdf/datasets/u7226ce46babcb2e8dd733d7c0ff211330bd63b79/soundtoll_11/rawData/cc8f6f64-4bf5-4153-b930-77e10b048148-ladingen_csv/props/tim_id</a>: 100000"
      ],
      "text/plain": [
       "<IPython.core.display.HTML object>"
      ]
     },
     "metadata": {},
     "output_type": "display_data"
    },
    {
     "data": {
      "text/html": [
       "<a target=\"_blank\" href=\"https://data.huygens.knaw.nl/rdf/datasets/u7226ce46babcb2e8dd733d7c0ff211330bd63b79/soundtoll_11/rawData/cc8f6f64-4bf5-4153-b930-77e10b048148-ladingen_csv/props/van\">https://data.huygens.knaw.nl/rdf/datasets/u7226ce46babcb2e8dd733d7c0ff211330bd63b79/soundtoll_11/rawData/cc8f6f64-4bf5-4153-b930-77e10b048148-ladingen_csv/props/van</a>: 99999"
      ],
      "text/plain": [
       "<IPython.core.display.HTML object>"
      ]
     },
     "metadata": {},
     "output_type": "display_data"
    },
    {
     "data": {
      "text/html": [
       "<a target=\"_blank\" href=\"https://data.huygens.knaw.nl/rdf/datasets/u7226ce46babcb2e8dd733d7c0ff211330bd63b79/soundtoll_11/rawData/f5b8e525-a79b-49e0-a01c-03a487f56440-doorvaarten_csv/props/dag\">https://data.huygens.knaw.nl/rdf/datasets/u7226ce46babcb2e8dd733d7c0ff211330bd63b79/soundtoll_11/rawData/f5b8e525-a79b-49e0-a01c-03a487f56440-doorvaarten_csv/props/dag</a>: 100000"
      ],
      "text/plain": [
       "<IPython.core.display.HTML object>"
      ]
     },
     "metadata": {},
     "output_type": "display_data"
    },
    {
     "data": {
      "text/html": [
       "<a target=\"_blank\" href=\"https://data.huygens.knaw.nl/rdf/datasets/u7226ce46babcb2e8dd733d7c0ff211330bd63b79/soundtoll_11/rawData/f5b8e525-a79b-49e0-a01c-03a487f56440-doorvaarten_csv/props/datum_opgevoerd\">https://data.huygens.knaw.nl/rdf/datasets/u7226ce46babcb2e8dd733d7c0ff211330bd63b79/soundtoll_11/rawData/f5b8e525-a79b-49e0-a01c-03a487f56440-doorvaarten_csv/props/datum_opgevoerd</a>: 99999"
      ],
      "text/plain": [
       "<IPython.core.display.HTML object>"
      ]
     },
     "metadata": {},
     "output_type": "display_data"
    },
    {
     "data": {
      "text/html": [
       "<a target=\"_blank\" href=\"https://data.huygens.knaw.nl/rdf/datasets/u7226ce46babcb2e8dd733d7c0ff211330bd63b79/soundtoll_11/rawData/f5b8e525-a79b-49e0-a01c-03a487f56440-doorvaarten_csv/props/dirnummer\">https://data.huygens.knaw.nl/rdf/datasets/u7226ce46babcb2e8dd733d7c0ff211330bd63b79/soundtoll_11/rawData/f5b8e525-a79b-49e0-a01c-03a487f56440-doorvaarten_csv/props/dirnummer</a>: 100000"
      ],
      "text/plain": [
       "<IPython.core.display.HTML object>"
      ]
     },
     "metadata": {},
     "output_type": "display_data"
    },
    {
     "data": {
      "text/html": [
       "<a target=\"_blank\" href=\"https://data.huygens.knaw.nl/rdf/datasets/u7226ce46babcb2e8dd733d7c0ff211330bd63b79/soundtoll_11/rawData/f5b8e525-a79b-49e0-a01c-03a487f56440-doorvaarten_csv/props/hulp2\">https://data.huygens.knaw.nl/rdf/datasets/u7226ce46babcb2e8dd733d7c0ff211330bd63b79/soundtoll_11/rawData/f5b8e525-a79b-49e0-a01c-03a487f56440-doorvaarten_csv/props/hulp2</a>: 7419"
      ],
      "text/plain": [
       "<IPython.core.display.HTML object>"
      ]
     },
     "metadata": {},
     "output_type": "display_data"
    },
    {
     "data": {
      "text/html": [
       "<a target=\"_blank\" href=\"https://data.huygens.knaw.nl/rdf/datasets/u7226ce46babcb2e8dd733d7c0ff211330bd63b79/soundtoll_11/rawData/f5b8e525-a79b-49e0-a01c-03a487f56440-doorvaarten_csv/props/id_doorvaart\">https://data.huygens.knaw.nl/rdf/datasets/u7226ce46babcb2e8dd733d7c0ff211330bd63b79/soundtoll_11/rawData/f5b8e525-a79b-49e0-a01c-03a487f56440-doorvaarten_csv/props/id_doorvaart</a>: 100000"
      ],
      "text/plain": [
       "<IPython.core.display.HTML object>"
      ]
     },
     "metadata": {},
     "output_type": "display_data"
    },
    {
     "data": {
      "text/html": [
       "<a target=\"_blank\" href=\"https://data.huygens.knaw.nl/rdf/datasets/u7226ce46babcb2e8dd733d7c0ff211330bd63b79/soundtoll_11/rawData/f5b8e525-a79b-49e0-a01c-03a487f56440-doorvaarten_csv/props/jaar\">https://data.huygens.knaw.nl/rdf/datasets/u7226ce46babcb2e8dd733d7c0ff211330bd63b79/soundtoll_11/rawData/f5b8e525-a79b-49e0-a01c-03a487f56440-doorvaarten_csv/props/jaar</a>: 100000"
      ],
      "text/plain": [
       "<IPython.core.display.HTML object>"
      ]
     },
     "metadata": {},
     "output_type": "display_data"
    },
    {
     "data": {
      "text/html": [
       "<a target=\"_blank\" href=\"https://data.huygens.knaw.nl/rdf/datasets/u7226ce46babcb2e8dd733d7c0ff211330bd63b79/soundtoll_11/rawData/f5b8e525-a79b-49e0-a01c-03a487f56440-doorvaarten_csv/props/korting_bedrag1\">https://data.huygens.knaw.nl/rdf/datasets/u7226ce46babcb2e8dd733d7c0ff211330bd63b79/soundtoll_11/rawData/f5b8e525-a79b-49e0-a01c-03a487f56440-doorvaarten_csv/props/korting_bedrag1</a>: 61678"
      ],
      "text/plain": [
       "<IPython.core.display.HTML object>"
      ]
     },
     "metadata": {},
     "output_type": "display_data"
    },
    {
     "data": {
      "text/html": [
       "<a target=\"_blank\" href=\"https://data.huygens.knaw.nl/rdf/datasets/u7226ce46babcb2e8dd733d7c0ff211330bd63b79/soundtoll_11/rawData/f5b8e525-a79b-49e0-a01c-03a487f56440-doorvaarten_csv/props/korting_bedrag2\">https://data.huygens.knaw.nl/rdf/datasets/u7226ce46babcb2e8dd733d7c0ff211330bd63b79/soundtoll_11/rawData/f5b8e525-a79b-49e0-a01c-03a487f56440-doorvaarten_csv/props/korting_bedrag2</a>: 41418"
      ],
      "text/plain": [
       "<IPython.core.display.HTML object>"
      ]
     },
     "metadata": {},
     "output_type": "display_data"
    },
    {
     "data": {
      "text/html": [
       "<a target=\"_blank\" href=\"https://data.huygens.knaw.nl/rdf/datasets/u7226ce46babcb2e8dd733d7c0ff211330bd63b79/soundtoll_11/rawData/f5b8e525-a79b-49e0-a01c-03a487f56440-doorvaarten_csv/props/korting_muntsoort1\">https://data.huygens.knaw.nl/rdf/datasets/u7226ce46babcb2e8dd733d7c0ff211330bd63b79/soundtoll_11/rawData/f5b8e525-a79b-49e0-a01c-03a487f56440-doorvaarten_csv/props/korting_muntsoort1</a>: 61678"
      ],
      "text/plain": [
       "<IPython.core.display.HTML object>"
      ]
     },
     "metadata": {},
     "output_type": "display_data"
    },
    {
     "data": {
      "text/html": [
       "<a target=\"_blank\" href=\"https://data.huygens.knaw.nl/rdf/datasets/u7226ce46babcb2e8dd733d7c0ff211330bd63b79/soundtoll_11/rawData/f5b8e525-a79b-49e0-a01c-03a487f56440-doorvaarten_csv/props/korting_muntsoort2\">https://data.huygens.knaw.nl/rdf/datasets/u7226ce46babcb2e8dd733d7c0ff211330bd63b79/soundtoll_11/rawData/f5b8e525-a79b-49e0-a01c-03a487f56440-doorvaarten_csv/props/korting_muntsoort2</a>: 41418"
      ],
      "text/plain": [
       "<IPython.core.display.HTML object>"
      ]
     },
     "metadata": {},
     "output_type": "display_data"
    },
    {
     "data": {
      "text/html": [
       "<a target=\"_blank\" href=\"https://data.huygens.knaw.nl/rdf/datasets/u7226ce46babcb2e8dd733d7c0ff211330bd63b79/soundtoll_11/rawData/f5b8e525-a79b-49e0-a01c-03a487f56440-doorvaarten_csv/props/maand\">https://data.huygens.knaw.nl/rdf/datasets/u7226ce46babcb2e8dd733d7c0ff211330bd63b79/soundtoll_11/rawData/f5b8e525-a79b-49e0-a01c-03a487f56440-doorvaarten_csv/props/maand</a>: 100000"
      ],
      "text/plain": [
       "<IPython.core.display.HTML object>"
      ]
     },
     "metadata": {},
     "output_type": "display_data"
    },
    {
     "data": {
      "text/html": [
       "<a target=\"_blank\" href=\"https://data.huygens.knaw.nl/rdf/datasets/u7226ce46babcb2e8dd733d7c0ff211330bd63b79/soundtoll_11/rawData/f5b8e525-a79b-49e0-a01c-03a487f56440-doorvaarten_csv/props/naam_invoerder\">https://data.huygens.knaw.nl/rdf/datasets/u7226ce46babcb2e8dd733d7c0ff211330bd63b79/soundtoll_11/rawData/f5b8e525-a79b-49e0-a01c-03a487f56440-doorvaarten_csv/props/naam_invoerder</a>: 99999"
      ],
      "text/plain": [
       "<IPython.core.display.HTML object>"
      ]
     },
     "metadata": {},
     "output_type": "display_data"
    },
    {
     "data": {
      "text/html": [
       "<a target=\"_blank\" href=\"https://data.huygens.knaw.nl/rdf/datasets/u7226ce46babcb2e8dd733d7c0ff211330bd63b79/soundtoll_11/rawData/f5b8e525-a79b-49e0-a01c-03a487f56440-doorvaarten_csv/props/opmerking_bron\">https://data.huygens.knaw.nl/rdf/datasets/u7226ce46babcb2e8dd733d7c0ff211330bd63b79/soundtoll_11/rawData/f5b8e525-a79b-49e0-a01c-03a487f56440-doorvaarten_csv/props/opmerking_bron</a>: 1165"
      ],
      "text/plain": [
       "<IPython.core.display.HTML object>"
      ]
     },
     "metadata": {},
     "output_type": "display_data"
    },
    {
     "data": {
      "text/html": [
       "<a target=\"_blank\" href=\"https://data.huygens.knaw.nl/rdf/datasets/u7226ce46babcb2e8dd733d7c0ff211330bd63b79/soundtoll_11/rawData/f5b8e525-a79b-49e0-a01c-03a487f56440-doorvaarten_csv/props/schipper_achternaam\">https://data.huygens.knaw.nl/rdf/datasets/u7226ce46babcb2e8dd733d7c0ff211330bd63b79/soundtoll_11/rawData/f5b8e525-a79b-49e0-a01c-03a487f56440-doorvaarten_csv/props/schipper_achternaam</a>: 100000"
      ],
      "text/plain": [
       "<IPython.core.display.HTML object>"
      ]
     },
     "metadata": {},
     "output_type": "display_data"
    },
    {
     "data": {
      "text/html": [
       "<a target=\"_blank\" href=\"https://data.huygens.knaw.nl/rdf/datasets/u7226ce46babcb2e8dd733d7c0ff211330bd63b79/soundtoll_11/rawData/f5b8e525-a79b-49e0-a01c-03a487f56440-doorvaarten_csv/props/schipper_patroniem\">https://data.huygens.knaw.nl/rdf/datasets/u7226ce46babcb2e8dd733d7c0ff211330bd63b79/soundtoll_11/rawData/f5b8e525-a79b-49e0-a01c-03a487f56440-doorvaarten_csv/props/schipper_patroniem</a>: 8161"
      ],
      "text/plain": [
       "<IPython.core.display.HTML object>"
      ]
     },
     "metadata": {},
     "output_type": "display_data"
    },
    {
     "data": {
      "text/html": [
       "<a target=\"_blank\" href=\"https://data.huygens.knaw.nl/rdf/datasets/u7226ce46babcb2e8dd733d7c0ff211330bd63b79/soundtoll_11/rawData/f5b8e525-a79b-49e0-a01c-03a487f56440-doorvaarten_csv/props/schipper_plaatsnaam\">https://data.huygens.knaw.nl/rdf/datasets/u7226ce46babcb2e8dd733d7c0ff211330bd63b79/soundtoll_11/rawData/f5b8e525-a79b-49e0-a01c-03a487f56440-doorvaarten_csv/props/schipper_plaatsnaam</a>: 100000"
      ],
      "text/plain": [
       "<IPython.core.display.HTML object>"
      ]
     },
     "metadata": {},
     "output_type": "display_data"
    },
    {
     "data": {
      "text/html": [
       "<a target=\"_blank\" href=\"https://data.huygens.knaw.nl/rdf/datasets/u7226ce46babcb2e8dd733d7c0ff211330bd63b79/soundtoll_11/rawData/f5b8e525-a79b-49e0-a01c-03a487f56440-doorvaarten_csv/props/schipper_tussenvoegsel\">https://data.huygens.knaw.nl/rdf/datasets/u7226ce46babcb2e8dd733d7c0ff211330bd63b79/soundtoll_11/rawData/f5b8e525-a79b-49e0-a01c-03a487f56440-doorvaarten_csv/props/schipper_tussenvoegsel</a>: 2124"
      ],
      "text/plain": [
       "<IPython.core.display.HTML object>"
      ]
     },
     "metadata": {},
     "output_type": "display_data"
    },
    {
     "data": {
      "text/html": [
       "<a target=\"_blank\" href=\"https://data.huygens.knaw.nl/rdf/datasets/u7226ce46babcb2e8dd733d7c0ff211330bd63b79/soundtoll_11/rawData/f5b8e525-a79b-49e0-a01c-03a487f56440-doorvaarten_csv/props/schipper_voornamen\">https://data.huygens.knaw.nl/rdf/datasets/u7226ce46babcb2e8dd733d7c0ff211330bd63b79/soundtoll_11/rawData/f5b8e525-a79b-49e0-a01c-03a487f56440-doorvaarten_csv/props/schipper_voornamen</a>: 100000"
      ],
      "text/plain": [
       "<IPython.core.display.HTML object>"
      ]
     },
     "metadata": {},
     "output_type": "display_data"
    },
    {
     "data": {
      "text/html": [
       "<a target=\"_blank\" href=\"https://data.huygens.knaw.nl/rdf/datasets/u7226ce46babcb2e8dd733d7c0ff211330bd63b79/soundtoll_11/rawData/f5b8e525-a79b-49e0-a01c-03a487f56440-doorvaarten_csv/props/soort_korting\">https://data.huygens.knaw.nl/rdf/datasets/u7226ce46babcb2e8dd733d7c0ff211330bd63b79/soundtoll_11/rawData/f5b8e525-a79b-49e0-a01c-03a487f56440-doorvaarten_csv/props/soort_korting</a>: 61794"
      ],
      "text/plain": [
       "<IPython.core.display.HTML object>"
      ]
     },
     "metadata": {},
     "output_type": "display_data"
    },
    {
     "data": {
      "text/html": [
       "<a target=\"_blank\" href=\"https://data.huygens.knaw.nl/rdf/datasets/u7226ce46babcb2e8dd733d7c0ff211330bd63b79/soundtoll_11/rawData/f5b8e525-a79b-49e0-a01c-03a487f56440-doorvaarten_csv/props/subtotaal1_bedrag1\">https://data.huygens.knaw.nl/rdf/datasets/u7226ce46babcb2e8dd733d7c0ff211330bd63b79/soundtoll_11/rawData/f5b8e525-a79b-49e0-a01c-03a487f56440-doorvaarten_csv/props/subtotaal1_bedrag1</a>: 64397"
      ],
      "text/plain": [
       "<IPython.core.display.HTML object>"
      ]
     },
     "metadata": {},
     "output_type": "display_data"
    },
    {
     "data": {
      "text/html": [
       "<a target=\"_blank\" href=\"https://data.huygens.knaw.nl/rdf/datasets/u7226ce46babcb2e8dd733d7c0ff211330bd63b79/soundtoll_11/rawData/f5b8e525-a79b-49e0-a01c-03a487f56440-doorvaarten_csv/props/subtotaal1_bedrag2\">https://data.huygens.knaw.nl/rdf/datasets/u7226ce46babcb2e8dd733d7c0ff211330bd63b79/soundtoll_11/rawData/f5b8e525-a79b-49e0-a01c-03a487f56440-doorvaarten_csv/props/subtotaal1_bedrag2</a>: 52468"
      ],
      "text/plain": [
       "<IPython.core.display.HTML object>"
      ]
     },
     "metadata": {},
     "output_type": "display_data"
    },
    {
     "data": {
      "text/html": [
       "<a target=\"_blank\" href=\"https://data.huygens.knaw.nl/rdf/datasets/u7226ce46babcb2e8dd733d7c0ff211330bd63b79/soundtoll_11/rawData/f5b8e525-a79b-49e0-a01c-03a487f56440-doorvaarten_csv/props/subtotaal1_muntsoort1\">https://data.huygens.knaw.nl/rdf/datasets/u7226ce46babcb2e8dd733d7c0ff211330bd63b79/soundtoll_11/rawData/f5b8e525-a79b-49e0-a01c-03a487f56440-doorvaarten_csv/props/subtotaal1_muntsoort1</a>: 64397"
      ],
      "text/plain": [
       "<IPython.core.display.HTML object>"
      ]
     },
     "metadata": {},
     "output_type": "display_data"
    },
    {
     "data": {
      "text/html": [
       "<a target=\"_blank\" href=\"https://data.huygens.knaw.nl/rdf/datasets/u7226ce46babcb2e8dd733d7c0ff211330bd63b79/soundtoll_11/rawData/f5b8e525-a79b-49e0-a01c-03a487f56440-doorvaarten_csv/props/subtotaal1_muntsoort2\">https://data.huygens.knaw.nl/rdf/datasets/u7226ce46babcb2e8dd733d7c0ff211330bd63b79/soundtoll_11/rawData/f5b8e525-a79b-49e0-a01c-03a487f56440-doorvaarten_csv/props/subtotaal1_muntsoort2</a>: 52468"
      ],
      "text/plain": [
       "<IPython.core.display.HTML object>"
      ]
     },
     "metadata": {},
     "output_type": "display_data"
    },
    {
     "data": {
      "text/html": [
       "<a target=\"_blank\" href=\"https://data.huygens.knaw.nl/rdf/datasets/u7226ce46babcb2e8dd733d7c0ff211330bd63b79/soundtoll_11/rawData/f5b8e525-a79b-49e0-a01c-03a487f56440-doorvaarten_csv/props/subtotaal2_bedrag1\">https://data.huygens.knaw.nl/rdf/datasets/u7226ce46babcb2e8dd733d7c0ff211330bd63b79/soundtoll_11/rawData/f5b8e525-a79b-49e0-a01c-03a487f56440-doorvaarten_csv/props/subtotaal2_bedrag1</a>: 63905"
      ],
      "text/plain": [
       "<IPython.core.display.HTML object>"
      ]
     },
     "metadata": {},
     "output_type": "display_data"
    },
    {
     "data": {
      "text/html": [
       "<a target=\"_blank\" href=\"https://data.huygens.knaw.nl/rdf/datasets/u7226ce46babcb2e8dd733d7c0ff211330bd63b79/soundtoll_11/rawData/f5b8e525-a79b-49e0-a01c-03a487f56440-doorvaarten_csv/props/subtotaal2_bedrag2\">https://data.huygens.knaw.nl/rdf/datasets/u7226ce46babcb2e8dd733d7c0ff211330bd63b79/soundtoll_11/rawData/f5b8e525-a79b-49e0-a01c-03a487f56440-doorvaarten_csv/props/subtotaal2_bedrag2</a>: 44282"
      ],
      "text/plain": [
       "<IPython.core.display.HTML object>"
      ]
     },
     "metadata": {},
     "output_type": "display_data"
    },
    {
     "data": {
      "text/html": [
       "<a target=\"_blank\" href=\"https://data.huygens.knaw.nl/rdf/datasets/u7226ce46babcb2e8dd733d7c0ff211330bd63b79/soundtoll_11/rawData/f5b8e525-a79b-49e0-a01c-03a487f56440-doorvaarten_csv/props/subtotaal2_muntsoort1\">https://data.huygens.knaw.nl/rdf/datasets/u7226ce46babcb2e8dd733d7c0ff211330bd63b79/soundtoll_11/rawData/f5b8e525-a79b-49e0-a01c-03a487f56440-doorvaarten_csv/props/subtotaal2_muntsoort1</a>: 63905"
      ],
      "text/plain": [
       "<IPython.core.display.HTML object>"
      ]
     },
     "metadata": {},
     "output_type": "display_data"
    },
    {
     "data": {
      "text/html": [
       "<a target=\"_blank\" href=\"https://data.huygens.knaw.nl/rdf/datasets/u7226ce46babcb2e8dd733d7c0ff211330bd63b79/soundtoll_11/rawData/f5b8e525-a79b-49e0-a01c-03a487f56440-doorvaarten_csv/props/subtotaal2_muntsoort2\">https://data.huygens.knaw.nl/rdf/datasets/u7226ce46babcb2e8dd733d7c0ff211330bd63b79/soundtoll_11/rawData/f5b8e525-a79b-49e0-a01c-03a487f56440-doorvaarten_csv/props/subtotaal2_muntsoort2</a>: 44282"
      ],
      "text/plain": [
       "<IPython.core.display.HTML object>"
      ]
     },
     "metadata": {},
     "output_type": "display_data"
    },
    {
     "data": {
      "text/html": [
       "<a target=\"_blank\" href=\"https://data.huygens.knaw.nl/rdf/datasets/u7226ce46babcb2e8dd733d7c0ff211330bd63b79/soundtoll_11/rawData/f5b8e525-a79b-49e0-a01c-03a487f56440-doorvaarten_csv/props/tim_id\">https://data.huygens.knaw.nl/rdf/datasets/u7226ce46babcb2e8dd733d7c0ff211330bd63b79/soundtoll_11/rawData/f5b8e525-a79b-49e0-a01c-03a487f56440-doorvaarten_csv/props/tim_id</a>: 100000"
      ],
      "text/plain": [
       "<IPython.core.display.HTML object>"
      ]
     },
     "metadata": {},
     "output_type": "display_data"
    },
    {
     "data": {
      "text/html": [
       "<a target=\"_blank\" href=\"https://data.huygens.knaw.nl/rdf/datasets/u7226ce46babcb2e8dd733d7c0ff211330bd63b79/soundtoll_11/rawData/f5b8e525-a79b-49e0-a01c-03a487f56440-doorvaarten_csv/props/tonnage\">https://data.huygens.knaw.nl/rdf/datasets/u7226ce46babcb2e8dd733d7c0ff211330bd63b79/soundtoll_11/rawData/f5b8e525-a79b-49e0-a01c-03a487f56440-doorvaarten_csv/props/tonnage</a>: 15904"
      ],
      "text/plain": [
       "<IPython.core.display.HTML object>"
      ]
     },
     "metadata": {},
     "output_type": "display_data"
    },
    {
     "data": {
      "text/html": [
       "<a target=\"_blank\" href=\"https://data.huygens.knaw.nl/rdf/datasets/u7226ce46babcb2e8dd733d7c0ff211330bd63b79/soundtoll_11/rawData/f5b8e525-a79b-49e0-a01c-03a487f56440-doorvaarten_csv/props/totaal_bedrag1\">https://data.huygens.knaw.nl/rdf/datasets/u7226ce46babcb2e8dd733d7c0ff211330bd63b79/soundtoll_11/rawData/f5b8e525-a79b-49e0-a01c-03a487f56440-doorvaarten_csv/props/totaal_bedrag1</a>: 99999"
      ],
      "text/plain": [
       "<IPython.core.display.HTML object>"
      ]
     },
     "metadata": {},
     "output_type": "display_data"
    },
    {
     "data": {
      "text/html": [
       "<a target=\"_blank\" href=\"https://data.huygens.knaw.nl/rdf/datasets/u7226ce46babcb2e8dd733d7c0ff211330bd63b79/soundtoll_11/rawData/f5b8e525-a79b-49e0-a01c-03a487f56440-doorvaarten_csv/props/totaal_bedrag2\">https://data.huygens.knaw.nl/rdf/datasets/u7226ce46babcb2e8dd733d7c0ff211330bd63b79/soundtoll_11/rawData/f5b8e525-a79b-49e0-a01c-03a487f56440-doorvaarten_csv/props/totaal_bedrag2</a>: 50431"
      ],
      "text/plain": [
       "<IPython.core.display.HTML object>"
      ]
     },
     "metadata": {},
     "output_type": "display_data"
    },
    {
     "data": {
      "text/html": [
       "<a target=\"_blank\" href=\"https://data.huygens.knaw.nl/rdf/datasets/u7226ce46babcb2e8dd733d7c0ff211330bd63b79/soundtoll_11/rawData/f5b8e525-a79b-49e0-a01c-03a487f56440-doorvaarten_csv/props/totaal_bedrag3\">https://data.huygens.knaw.nl/rdf/datasets/u7226ce46babcb2e8dd733d7c0ff211330bd63b79/soundtoll_11/rawData/f5b8e525-a79b-49e0-a01c-03a487f56440-doorvaarten_csv/props/totaal_bedrag3</a>: 3478"
      ],
      "text/plain": [
       "<IPython.core.display.HTML object>"
      ]
     },
     "metadata": {},
     "output_type": "display_data"
    },
    {
     "data": {
      "text/html": [
       "<a target=\"_blank\" href=\"https://data.huygens.knaw.nl/rdf/datasets/u7226ce46babcb2e8dd733d7c0ff211330bd63b79/soundtoll_11/rawData/f5b8e525-a79b-49e0-a01c-03a487f56440-doorvaarten_csv/props/totaal_muntsoort1\">https://data.huygens.knaw.nl/rdf/datasets/u7226ce46babcb2e8dd733d7c0ff211330bd63b79/soundtoll_11/rawData/f5b8e525-a79b-49e0-a01c-03a487f56440-doorvaarten_csv/props/totaal_muntsoort1</a>: 99999"
      ],
      "text/plain": [
       "<IPython.core.display.HTML object>"
      ]
     },
     "metadata": {},
     "output_type": "display_data"
    },
    {
     "data": {
      "text/html": [
       "<a target=\"_blank\" href=\"https://data.huygens.knaw.nl/rdf/datasets/u7226ce46babcb2e8dd733d7c0ff211330bd63b79/soundtoll_11/rawData/f5b8e525-a79b-49e0-a01c-03a487f56440-doorvaarten_csv/props/totaal_muntsoort2\">https://data.huygens.knaw.nl/rdf/datasets/u7226ce46babcb2e8dd733d7c0ff211330bd63b79/soundtoll_11/rawData/f5b8e525-a79b-49e0-a01c-03a487f56440-doorvaarten_csv/props/totaal_muntsoort2</a>: 50431"
      ],
      "text/plain": [
       "<IPython.core.display.HTML object>"
      ]
     },
     "metadata": {},
     "output_type": "display_data"
    },
    {
     "data": {
      "text/html": [
       "<a target=\"_blank\" href=\"https://data.huygens.knaw.nl/rdf/datasets/u7226ce46babcb2e8dd733d7c0ff211330bd63b79/soundtoll_11/rawData/f5b8e525-a79b-49e0-a01c-03a487f56440-doorvaarten_csv/props/totaal_muntsoort3\">https://data.huygens.knaw.nl/rdf/datasets/u7226ce46babcb2e8dd733d7c0ff211330bd63b79/soundtoll_11/rawData/f5b8e525-a79b-49e0-a01c-03a487f56440-doorvaarten_csv/props/totaal_muntsoort3</a>: 3478"
      ],
      "text/plain": [
       "<IPython.core.display.HTML object>"
      ]
     },
     "metadata": {},
     "output_type": "display_data"
    },
    {
     "data": {
      "text/html": [
       "<a target=\"_blank\" href=\"https://data.huygens.knaw.nl/rdf/datasets/u7226ce46babcb2e8dd733d7c0ff211330bd63b79/soundtoll_11/rawData/f5b8e525-a79b-49e0-a01c-03a487f56440-doorvaarten_csv/props/volgnummer\">https://data.huygens.knaw.nl/rdf/datasets/u7226ce46babcb2e8dd733d7c0ff211330bd63b79/soundtoll_11/rawData/f5b8e525-a79b-49e0-a01c-03a487f56440-doorvaarten_csv/props/volgnummer</a>: 100000"
      ],
      "text/plain": [
       "<IPython.core.display.HTML object>"
      ]
     },
     "metadata": {},
     "output_type": "display_data"
    },
    {
     "data": {
      "text/html": [
       "<h3>fingerprint</h3>"
      ],
      "text/plain": [
       "<IPython.core.display.HTML object>"
      ]
     },
     "metadata": {},
     "output_type": "display_data"
    },
    {
     "data": {
      "text/html": [
       "<a target=\"_blank\" href=\"https://repository.huygens.knaw.nl/v5/resourcesync/u7226ce46babcb2e8dd733d7c0ff211330bd63b79/raa/dataset.nq\">https://repository.huygens.knaw.nl/v5/resourcesync/u7226ce46babcb2e8dd733d7c0ff211330bd63b79/raa/dataset.nq</a>"
      ],
      "text/plain": [
       "<IPython.core.display.HTML object>"
      ]
     },
     "metadata": {},
     "output_type": "display_data"
    },
    {
     "name": "stdout",
     "output_type": "stream",
     "text": [
      "contexts  :            1\n",
      "statements:        2.082\n",
      "literals  :        1.286\n",
      "literal ratio:    0,62\n",
      "\n",
      "subject netlocs: 2 {'data.huygens.knaw.nl': 2055, 'timbuctoo.huygens.knaw.nl': 27}\n",
      "object netlocs: 2 {'data.huygens.knaw.nl': 769, 'timbuctoo.huygens.knaw.nl': 27}\n",
      "\n",
      "example.org | s 0 | p 0 | o 0 | total 0\n",
      "\n",
      "predicate netlocs: 4 | {'data.huygens.knaw.nl': 888, 'timbuctoo.huygens.knaw.nl': 361, 'schema.org': 345, 'www.w3.org': 488}\n",
      "predicates: 40\n"
     ]
    },
    {
     "data": {
      "text/html": [
       "<a target=\"_blank\" href=\"http://schema.org/Organization\">http://schema.org/Organization</a>: 57"
      ],
      "text/plain": [
       "<IPython.core.display.HTML object>"
      ]
     },
     "metadata": {},
     "output_type": "display_data"
    },
    {
     "name": "stdout",
     "output_type": "stream",
     "text": [
      "http://schema.org/RAA-ID: 58\n",
      "http://schema.org/dateStart: 58\n"
     ]
    },
    {
     "data": {
      "text/html": [
       "<a target=\"_blank\" href=\"http://schema.org/function\">http://schema.org/function</a>: 58"
      ],
      "text/plain": [
       "<IPython.core.display.HTML object>"
      ]
     },
     "metadata": {},
     "output_type": "display_data"
    },
    {
     "name": "stdout",
     "output_type": "stream",
     "text": [
      "http://schema.org/officeID: 58\n",
      "http://schema.org/place: 28\n",
      "http://schema.org/placeID: 28\n",
      "http://timbuctoo.huygens.knaw.nl/static/v5/vocabulary#hasCollection: 6\n",
      "http://timbuctoo.huygens.knaw.nl/static/v5/vocabulary#hasProperty: 52\n",
      "http://timbuctoo.huygens.knaw.nl/static/v5/vocabulary#mimetype: 1\n",
      "http://timbuctoo.huygens.knaw.nl/static/v5/vocabulary#next: 52\n",
      "http://timbuctoo.huygens.knaw.nl/static/v5/vocabulary#propertyId: 24\n",
      "http://timbuctoo.huygens.knaw.nl/static/v5/vocabulary#timhasrow: 226\n"
     ]
    },
    {
     "data": {
      "text/html": [
       "<a target=\"_blank\" href=\"http://www.w3.org/1999/02/22-rdf-syntax-ns#type\">http://www.w3.org/1999/02/22-rdf-syntax-ns#type</a>: 458"
      ],
      "text/plain": [
       "<IPython.core.display.HTML object>"
      ]
     },
     "metadata": {},
     "output_type": "display_data"
    },
    {
     "data": {
      "text/html": [
       "<a target=\"_blank\" href=\"http://www.w3.org/2000/01/rdf-schema#label\">http://www.w3.org/2000/01/rdf-schema#label</a>: 27"
      ],
      "text/plain": [
       "<IPython.core.display.HTML object>"
      ]
     },
     "metadata": {},
     "output_type": "display_data"
    },
    {
     "data": {
      "text/html": [
       "<a target=\"_blank\" href=\"http://www.w3.org/ns/prov#atTime\">http://www.w3.org/ns/prov#atTime</a>: 1"
      ],
      "text/plain": [
       "<IPython.core.display.HTML object>"
      ]
     },
     "metadata": {},
     "output_type": "display_data"
    },
    {
     "data": {
      "text/html": [
       "<a target=\"_blank\" href=\"http://www.w3.org/ns/prov#wasDerivedFrom\">http://www.w3.org/ns/prov#wasDerivedFrom</a>: 2"
      ],
      "text/plain": [
       "<IPython.core.display.HTML object>"
      ]
     },
     "metadata": {},
     "output_type": "display_data"
    },
    {
     "data": {
      "text/html": [
       "<a target=\"_blank\" href=\"https://data.huygens.knaw.nl/rdf/datasets/u7226ce46babcb2e8dd733d7c0ff211330bd63b79/raa/rawData/fa2061ae-8ee6-4294-9e11-98e16680fce5-RAA_toogdag2018_update_xlsx/props/BIOPORT-ID_temp\">https://data.huygens.knaw.nl/rdf/datasets/u7226ce46babcb2e8dd733d7c0ff211330bd63b79/raa/rawData/fa2061ae-8ee6-4294-9e11-98e16680fce5-RAA_toogdag2018_update_xlsx/props/BIOPORT-ID_temp</a>: 27"
      ],
      "text/plain": [
       "<IPython.core.display.HTML object>"
      ]
     },
     "metadata": {},
     "output_type": "display_data"
    },
    {
     "data": {
      "text/html": [
       "<a target=\"_blank\" href=\"https://data.huygens.knaw.nl/rdf/datasets/u7226ce46babcb2e8dd733d7c0ff211330bd63b79/raa/rawData/fa2061ae-8ee6-4294-9e11-98e16680fce5-RAA_toogdag2018_update_xlsx/props/Geslachtsnaam\">https://data.huygens.knaw.nl/rdf/datasets/u7226ce46babcb2e8dd733d7c0ff211330bd63b79/raa/rawData/fa2061ae-8ee6-4294-9e11-98e16680fce5-RAA_toogdag2018_update_xlsx/props/Geslachtsnaam</a>: 27"
      ],
      "text/plain": [
       "<IPython.core.display.HTML object>"
      ]
     },
     "metadata": {},
     "output_type": "display_data"
    },
    {
     "data": {
      "text/html": [
       "<a target=\"_blank\" href=\"https://data.huygens.knaw.nl/rdf/datasets/u7226ce46babcb2e8dd733d7c0ff211330bd63b79/raa/rawData/fa2061ae-8ee6-4294-9e11-98e16680fce5-RAA_toogdag2018_update_xlsx/props/NG-ID\">https://data.huygens.knaw.nl/rdf/datasets/u7226ce46babcb2e8dd733d7c0ff211330bd63b79/raa/rawData/fa2061ae-8ee6-4294-9e11-98e16680fce5-RAA_toogdag2018_update_xlsx/props/NG-ID</a>: 27"
      ],
      "text/plain": [
       "<IPython.core.display.HTML object>"
      ]
     },
     "metadata": {},
     "output_type": "display_data"
    },
    {
     "data": {
      "text/html": [
       "<a target=\"_blank\" href=\"https://data.huygens.knaw.nl/rdf/datasets/u7226ce46babcb2e8dd733d7c0ff211330bd63b79/raa/rawData/fa2061ae-8ee6-4294-9e11-98e16680fce5-RAA_toogdag2018_update_xlsx/props/Organization\">https://data.huygens.knaw.nl/rdf/datasets/u7226ce46babcb2e8dd733d7c0ff211330bd63b79/raa/rawData/fa2061ae-8ee6-4294-9e11-98e16680fce5-RAA_toogdag2018_update_xlsx/props/Organization</a>: 57"
      ],
      "text/plain": [
       "<IPython.core.display.HTML object>"
      ]
     },
     "metadata": {},
     "output_type": "display_data"
    },
    {
     "data": {
      "text/html": [
       "<a target=\"_blank\" href=\"https://data.huygens.knaw.nl/rdf/datasets/u7226ce46babcb2e8dd733d7c0ff211330bd63b79/raa/rawData/fa2061ae-8ee6-4294-9e11-98e16680fce5-RAA_toogdag2018_update_xlsx/props/RAA-ID\">https://data.huygens.knaw.nl/rdf/datasets/u7226ce46babcb2e8dd733d7c0ff211330bd63b79/raa/rawData/fa2061ae-8ee6-4294-9e11-98e16680fce5-RAA_toogdag2018_update_xlsx/props/RAA-ID</a>: 85"
      ],
      "text/plain": [
       "<IPython.core.display.HTML object>"
      ]
     },
     "metadata": {},
     "output_type": "display_data"
    },
    {
     "data": {
      "text/html": [
       "<a target=\"_blank\" href=\"https://data.huygens.knaw.nl/rdf/datasets/u7226ce46babcb2e8dd733d7c0ff211330bd63b79/raa/rawData/fa2061ae-8ee6-4294-9e11-98e16680fce5-RAA_toogdag2018_update_xlsx/props/Tussenvoegsel\">https://data.huygens.knaw.nl/rdf/datasets/u7226ce46babcb2e8dd733d7c0ff211330bd63b79/raa/rawData/fa2061ae-8ee6-4294-9e11-98e16680fce5-RAA_toogdag2018_update_xlsx/props/Tussenvoegsel</a>: 14"
      ],
      "text/plain": [
       "<IPython.core.display.HTML object>"
      ]
     },
     "metadata": {},
     "output_type": "display_data"
    },
    {
     "data": {
      "text/html": [
       "<a target=\"_blank\" href=\"https://data.huygens.knaw.nl/rdf/datasets/u7226ce46babcb2e8dd733d7c0ff211330bd63b79/raa/rawData/fa2061ae-8ee6-4294-9e11-98e16680fce5-RAA_toogdag2018_update_xlsx/props/Voornaam\">https://data.huygens.knaw.nl/rdf/datasets/u7226ce46babcb2e8dd733d7c0ff211330bd63b79/raa/rawData/fa2061ae-8ee6-4294-9e11-98e16680fce5-RAA_toogdag2018_update_xlsx/props/Voornaam</a>: 27"
      ],
      "text/plain": [
       "<IPython.core.display.HTML object>"
      ]
     },
     "metadata": {},
     "output_type": "display_data"
    },
    {
     "data": {
      "text/html": [
       "<a target=\"_blank\" href=\"https://data.huygens.knaw.nl/rdf/datasets/u7226ce46babcb2e8dd733d7c0ff211330bd63b79/raa/rawData/fa2061ae-8ee6-4294-9e11-98e16680fce5-RAA_toogdag2018_update_xlsx/props/bioportID\">https://data.huygens.knaw.nl/rdf/datasets/u7226ce46babcb2e8dd733d7c0ff211330bd63b79/raa/rawData/fa2061ae-8ee6-4294-9e11-98e16680fce5-RAA_toogdag2018_update_xlsx/props/bioportID</a>: 27"
      ],
      "text/plain": [
       "<IPython.core.display.HTML object>"
      ]
     },
     "metadata": {},
     "output_type": "display_data"
    },
    {
     "data": {
      "text/html": [
       "<a target=\"_blank\" href=\"https://data.huygens.knaw.nl/rdf/datasets/u7226ce46babcb2e8dd733d7c0ff211330bd63b79/raa/rawData/fa2061ae-8ee6-4294-9e11-98e16680fce5-RAA_toogdag2018_update_xlsx/props/bprID\">https://data.huygens.knaw.nl/rdf/datasets/u7226ce46babcb2e8dd733d7c0ff211330bd63b79/raa/rawData/fa2061ae-8ee6-4294-9e11-98e16680fce5-RAA_toogdag2018_update_xlsx/props/bprID</a>: 27"
      ],
      "text/plain": [
       "<IPython.core.display.HTML object>"
      ]
     },
     "metadata": {},
     "output_type": "display_data"
    },
    {
     "data": {
      "text/html": [
       "<a target=\"_blank\" href=\"https://data.huygens.knaw.nl/rdf/datasets/u7226ce46babcb2e8dd733d7c0ff211330bd63b79/raa/rawData/fa2061ae-8ee6-4294-9e11-98e16680fce5-RAA_toogdag2018_update_xlsx/props/bprURL\">https://data.huygens.knaw.nl/rdf/datasets/u7226ce46babcb2e8dd733d7c0ff211330bd63b79/raa/rawData/fa2061ae-8ee6-4294-9e11-98e16680fce5-RAA_toogdag2018_update_xlsx/props/bprURL</a>: 27"
      ],
      "text/plain": [
       "<IPython.core.display.HTML object>"
      ]
     },
     "metadata": {},
     "output_type": "display_data"
    },
    {
     "data": {
      "text/html": [
       "<a target=\"_blank\" href=\"https://data.huygens.knaw.nl/rdf/datasets/u7226ce46babcb2e8dd733d7c0ff211330bd63b79/raa/rawData/fa2061ae-8ee6-4294-9e11-98e16680fce5-RAA_toogdag2018_update_xlsx/props/dateEnd+\">https://data.huygens.knaw.nl/rdf/datasets/u7226ce46babcb2e8dd733d7c0ff211330bd63b79/raa/rawData/fa2061ae-8ee6-4294-9e11-98e16680fce5-RAA_toogdag2018_update_xlsx/props/dateEnd+</a>: 57"
      ],
      "text/plain": [
       "<IPython.core.display.HTML object>"
      ]
     },
     "metadata": {},
     "output_type": "display_data"
    },
    {
     "data": {
      "text/html": [
       "<a target=\"_blank\" href=\"https://data.huygens.knaw.nl/rdf/datasets/u7226ce46babcb2e8dd733d7c0ff211330bd63b79/raa/rawData/fa2061ae-8ee6-4294-9e11-98e16680fce5-RAA_toogdag2018_update_xlsx/props/dateOfBirth\">https://data.huygens.knaw.nl/rdf/datasets/u7226ce46babcb2e8dd733d7c0ff211330bd63b79/raa/rawData/fa2061ae-8ee6-4294-9e11-98e16680fce5-RAA_toogdag2018_update_xlsx/props/dateOfBirth</a>: 25"
      ],
      "text/plain": [
       "<IPython.core.display.HTML object>"
      ]
     },
     "metadata": {},
     "output_type": "display_data"
    },
    {
     "data": {
      "text/html": [
       "<a target=\"_blank\" href=\"https://data.huygens.knaw.nl/rdf/datasets/u7226ce46babcb2e8dd733d7c0ff211330bd63b79/raa/rawData/fa2061ae-8ee6-4294-9e11-98e16680fce5-RAA_toogdag2018_update_xlsx/props/dateOfDeath\">https://data.huygens.knaw.nl/rdf/datasets/u7226ce46babcb2e8dd733d7c0ff211330bd63b79/raa/rawData/fa2061ae-8ee6-4294-9e11-98e16680fce5-RAA_toogdag2018_update_xlsx/props/dateOfDeath</a>: 26"
      ],
      "text/plain": [
       "<IPython.core.display.HTML object>"
      ]
     },
     "metadata": {},
     "output_type": "display_data"
    },
    {
     "data": {
      "text/html": [
       "<a target=\"_blank\" href=\"https://data.huygens.knaw.nl/rdf/datasets/u7226ce46babcb2e8dd733d7c0ff211330bd63b79/raa/rawData/fa2061ae-8ee6-4294-9e11-98e16680fce5-RAA_toogdag2018_update_xlsx/props/dateStart\">https://data.huygens.knaw.nl/rdf/datasets/u7226ce46babcb2e8dd733d7c0ff211330bd63b79/raa/rawData/fa2061ae-8ee6-4294-9e11-98e16680fce5-RAA_toogdag2018_update_xlsx/props/dateStart</a>: 58"
      ],
      "text/plain": [
       "<IPython.core.display.HTML object>"
      ]
     },
     "metadata": {},
     "output_type": "display_data"
    },
    {
     "data": {
      "text/html": [
       "<a target=\"_blank\" href=\"https://data.huygens.knaw.nl/rdf/datasets/u7226ce46babcb2e8dd733d7c0ff211330bd63b79/raa/rawData/fa2061ae-8ee6-4294-9e11-98e16680fce5-RAA_toogdag2018_update_xlsx/props/function\">https://data.huygens.knaw.nl/rdf/datasets/u7226ce46babcb2e8dd733d7c0ff211330bd63b79/raa/rawData/fa2061ae-8ee6-4294-9e11-98e16680fce5-RAA_toogdag2018_update_xlsx/props/function</a>: 58"
      ],
      "text/plain": [
       "<IPython.core.display.HTML object>"
      ]
     },
     "metadata": {},
     "output_type": "display_data"
    },
    {
     "data": {
      "text/html": [
       "<a target=\"_blank\" href=\"https://data.huygens.knaw.nl/rdf/datasets/u7226ce46babcb2e8dd733d7c0ff211330bd63b79/raa/rawData/fa2061ae-8ee6-4294-9e11-98e16680fce5-RAA_toogdag2018_update_xlsx/props/officeID\">https://data.huygens.knaw.nl/rdf/datasets/u7226ce46babcb2e8dd733d7c0ff211330bd63b79/raa/rawData/fa2061ae-8ee6-4294-9e11-98e16680fce5-RAA_toogdag2018_update_xlsx/props/officeID</a>: 58"
      ],
      "text/plain": [
       "<IPython.core.display.HTML object>"
      ]
     },
     "metadata": {},
     "output_type": "display_data"
    },
    {
     "data": {
      "text/html": [
       "<a target=\"_blank\" href=\"https://data.huygens.knaw.nl/rdf/datasets/u7226ce46babcb2e8dd733d7c0ff211330bd63b79/raa/rawData/fa2061ae-8ee6-4294-9e11-98e16680fce5-RAA_toogdag2018_update_xlsx/props/place\">https://data.huygens.knaw.nl/rdf/datasets/u7226ce46babcb2e8dd733d7c0ff211330bd63b79/raa/rawData/fa2061ae-8ee6-4294-9e11-98e16680fce5-RAA_toogdag2018_update_xlsx/props/place</a>: 28"
      ],
      "text/plain": [
       "<IPython.core.display.HTML object>"
      ]
     },
     "metadata": {},
     "output_type": "display_data"
    },
    {
     "data": {
      "text/html": [
       "<a target=\"_blank\" href=\"https://data.huygens.knaw.nl/rdf/datasets/u7226ce46babcb2e8dd733d7c0ff211330bd63b79/raa/rawData/fa2061ae-8ee6-4294-9e11-98e16680fce5-RAA_toogdag2018_update_xlsx/props/placeID\">https://data.huygens.knaw.nl/rdf/datasets/u7226ce46babcb2e8dd733d7c0ff211330bd63b79/raa/rawData/fa2061ae-8ee6-4294-9e11-98e16680fce5-RAA_toogdag2018_update_xlsx/props/placeID</a>: 28"
      ],
      "text/plain": [
       "<IPython.core.display.HTML object>"
      ]
     },
     "metadata": {},
     "output_type": "display_data"
    },
    {
     "data": {
      "text/html": [
       "<a target=\"_blank\" href=\"https://data.huygens.knaw.nl/rdf/datasets/u7226ce46babcb2e8dd733d7c0ff211330bd63b79/raa/rawData/fa2061ae-8ee6-4294-9e11-98e16680fce5-RAA_toogdag2018_update_xlsx/props/placeOfBirthID\">https://data.huygens.knaw.nl/rdf/datasets/u7226ce46babcb2e8dd733d7c0ff211330bd63b79/raa/rawData/fa2061ae-8ee6-4294-9e11-98e16680fce5-RAA_toogdag2018_update_xlsx/props/placeOfBirthID</a>: 25"
      ],
      "text/plain": [
       "<IPython.core.display.HTML object>"
      ]
     },
     "metadata": {},
     "output_type": "display_data"
    },
    {
     "data": {
      "text/html": [
       "<a target=\"_blank\" href=\"https://data.huygens.knaw.nl/rdf/datasets/u7226ce46babcb2e8dd733d7c0ff211330bd63b79/raa/rawData/fa2061ae-8ee6-4294-9e11-98e16680fce5-RAA_toogdag2018_update_xlsx/props/placeOfDeathID\">https://data.huygens.knaw.nl/rdf/datasets/u7226ce46babcb2e8dd733d7c0ff211330bd63b79/raa/rawData/fa2061ae-8ee6-4294-9e11-98e16680fce5-RAA_toogdag2018_update_xlsx/props/placeOfDeathID</a>: 25"
      ],
      "text/plain": [
       "<IPython.core.display.HTML object>"
      ]
     },
     "metadata": {},
     "output_type": "display_data"
    },
    {
     "data": {
      "text/html": [
       "<a target=\"_blank\" href=\"https://data.huygens.knaw.nl/rdf/datasets/u7226ce46babcb2e8dd733d7c0ff211330bd63b79/raa/rawData/fa2061ae-8ee6-4294-9e11-98e16680fce5-RAA_toogdag2018_update_xlsx/props/tim_id\">https://data.huygens.knaw.nl/rdf/datasets/u7226ce46babcb2e8dd733d7c0ff211330bd63b79/raa/rawData/fa2061ae-8ee6-4294-9e11-98e16680fce5-RAA_toogdag2018_update_xlsx/props/tim_id</a>: 113"
      ],
      "text/plain": [
       "<IPython.core.display.HTML object>"
      ]
     },
     "metadata": {},
     "output_type": "display_data"
    },
    {
     "data": {
      "text/html": [
       "<a target=\"_blank\" href=\"https://data.huygens.knaw.nl/rdf/datasets/u7226ce46babcb2e8dd733d7c0ff211330bd63b79/raa/rawData/fa2061ae-8ee6-4294-9e11-98e16680fce5-RAA_toogdag2018_update_xlsx/props/viafID\">https://data.huygens.knaw.nl/rdf/datasets/u7226ce46babcb2e8dd733d7c0ff211330bd63b79/raa/rawData/fa2061ae-8ee6-4294-9e11-98e16680fce5-RAA_toogdag2018_update_xlsx/props/viafID</a>: 21"
      ],
      "text/plain": [
       "<IPython.core.display.HTML object>"
      ]
     },
     "metadata": {},
     "output_type": "display_data"
    },
    {
     "data": {
      "text/html": [
       "<a target=\"_blank\" href=\"https://data.huygens.knaw.nl/rdf/datasets/u7226ce46babcb2e8dd733d7c0ff211330bd63b79/raa/rawData/fa2061ae-8ee6-4294-9e11-98e16680fce5-RAA_toogdag2018_update_xlsx/props/viafURL\">https://data.huygens.knaw.nl/rdf/datasets/u7226ce46babcb2e8dd733d7c0ff211330bd63b79/raa/rawData/fa2061ae-8ee6-4294-9e11-98e16680fce5-RAA_toogdag2018_update_xlsx/props/viafURL</a>: 21"
      ],
      "text/plain": [
       "<IPython.core.display.HTML object>"
      ]
     },
     "metadata": {},
     "output_type": "display_data"
    },
    {
     "data": {
      "text/html": [
       "<h3>fingerprint</h3>"
      ],
      "text/plain": [
       "<IPython.core.display.HTML object>"
      ]
     },
     "metadata": {},
     "output_type": "display_data"
    },
    {
     "data": {
      "text/html": [
       "<a target=\"_blank\" href=\"https://repository.huygens.knaw.nl/v5/resourcesync/u519bd710306620fa7c56d541ae7b9f5b7f57a706/hg_2/dataset.nq\">https://repository.huygens.knaw.nl/v5/resourcesync/u519bd710306620fa7c56d541ae7b9f5b7f57a706/hg_2/dataset.nq</a>"
      ],
      "text/plain": [
       "<IPython.core.display.HTML object>"
      ]
     },
     "metadata": {},
     "output_type": "display_data"
    },
    {
     "name": "stdout",
     "output_type": "stream",
     "text": [
      "contexts  :            1\n",
      "statements:      199.168\n",
      "literals  :      142.780\n",
      "literal ratio:    0,72\n",
      "\n",
      "subject netlocs: 4 {'resource.huygens.knaw.nl': 59909, '': 132201, 'www.w3.org': 7048, 'data.huygens.knaw.nl': 10}\n",
      "object netlocs: 4 {'resource.huygens.knaw.nl': 24668, '': 24668, 'www.w3.org': 7048, 'data.huygens.knaw.nl': 4}\n",
      "\n",
      "example.org | s 0 | p 0 | o 0 | total 0\n",
      "\n",
      "predicate netlocs: 5 | {'resource.huygens.knaw.nl': 178013, 'www.w3.org': 21144, 'timbuctoo.huygens.knaw.nl': 1, 'schema.org': 6, 'purl.org': 4}\n",
      "predicates: 27\n"
     ]
    },
    {
     "data": {
      "text/html": [
       "<a target=\"_blank\" href=\"http://purl.org/dc/terms/description\">http://purl.org/dc/terms/description</a>: 1"
      ],
      "text/plain": [
       "<IPython.core.display.HTML object>"
      ]
     },
     "metadata": {},
     "output_type": "display_data"
    },
    {
     "data": {
      "text/html": [
       "<a target=\"_blank\" href=\"http://purl.org/dc/terms/rightsHolder\">http://purl.org/dc/terms/rightsHolder</a>: 2"
      ],
      "text/plain": [
       "<IPython.core.display.HTML object>"
      ]
     },
     "metadata": {},
     "output_type": "display_data"
    },
    {
     "data": {
      "text/html": [
       "<a target=\"_blank\" href=\"http://purl.org/dc/terms/title\">http://purl.org/dc/terms/title</a>: 1"
      ],
      "text/plain": [
       "<IPython.core.display.HTML object>"
      ]
     },
     "metadata": {},
     "output_type": "display_data"
    },
    {
     "data": {
      "text/html": [
       "<a target=\"_blank\" href=\"http://schema.org/ContactPoint\">http://schema.org/ContactPoint</a>: 2"
      ],
      "text/plain": [
       "<IPython.core.display.HTML object>"
      ]
     },
     "metadata": {},
     "output_type": "display_data"
    },
    {
     "data": {
      "text/html": [
       "<a target=\"_blank\" href=\"http://schema.org/email\">http://schema.org/email</a>: 2"
      ],
      "text/plain": [
       "<IPython.core.display.HTML object>"
      ]
     },
     "metadata": {},
     "output_type": "display_data"
    },
    {
     "data": {
      "text/html": [
       "<a target=\"_blank\" href=\"http://schema.org/name\">http://schema.org/name</a>: 2"
      ],
      "text/plain": [
       "<IPython.core.display.HTML object>"
      ]
     },
     "metadata": {},
     "output_type": "display_data"
    },
    {
     "name": "stdout",
     "output_type": "stream",
     "text": [
      "http://timbuctoo.huygens.knaw.nl/static/v5/vocabulary#hasViewConfig: 1\n"
     ]
    },
    {
     "data": {
      "text/html": [
       "<a target=\"_blank\" href=\"http://www.w3.org/1999/02/22-rdf-syntax-ns#type\">http://www.w3.org/1999/02/22-rdf-syntax-ns#type</a>: 21144"
      ],
      "text/plain": [
       "<IPython.core.display.HTML object>"
      ]
     },
     "metadata": {},
     "output_type": "display_data"
    },
    {
     "name": "stdout",
     "output_type": "stream",
     "text": [
      "https://resource.huygens.knaw.nl/henegouwen/ha: 7048\n",
      "https://resource.huygens.knaw.nl/henegouwen/hb: 7048\n",
      "https://resource.huygens.knaw.nl/henegouwen/hc: 7048\n",
      "https://resource.huygens.knaw.nl/henegouwen/hdatum: 3524\n",
      "https://resource.huygens.knaw.nl/henegouwen/hdatum_opt: 3524\n",
      "https://resource.huygens.knaw.nl/henegouwen/hdestinataris: 3524\n",
      "https://resource.huygens.knaw.nl/henegouwen/hdienstaantekening: 3524\n",
      "https://resource.huygens.knaw.nl/henegouwen/heditie: 3524\n",
      "https://resource.huygens.knaw.nl/henegouwen/hnaam: 32003\n",
      "https://resource.huygens.knaw.nl/henegouwen/hnamen: 7048\n",
      "https://resource.huygens.knaw.nl/henegouwen/hoorkonder: 3524\n",
      "https://resource.huygens.knaw.nl/henegouwen/hopmerkingen: 14096\n",
      "https://resource.huygens.knaw.nl/henegouwen/hopschrift: 10572\n",
      "https://resource.huygens.knaw.nl/henegouwen/hplaats: 3524\n",
      "https://resource.huygens.knaw.nl/henegouwen/hregest: 3524\n",
      "https://resource.huygens.knaw.nl/henegouwen/hregister: 10572\n",
      "https://resource.huygens.knaw.nl/henegouwen/htranscriptie: 3524\n",
      "https://resource.huygens.knaw.nl/henegouwen/htrefwoord: 43814\n",
      "https://resource.huygens.knaw.nl/henegouwen/htrefwoorden: 7048\n"
     ]
    },
    {
     "data": {
      "text/html": [
       "<h3>fingerprint</h3>"
      ],
      "text/plain": [
       "<IPython.core.display.HTML object>"
      ]
     },
     "metadata": {},
     "output_type": "display_data"
    },
    {
     "data": {
      "text/html": [
       "<a target=\"_blank\" href=\"https://repository.huygens.knaw.nl/v5/resourcesync/u519bd710306620fa7c56d541ae7b9f5b7f57a706/ogt_2/dataset.nq\">https://repository.huygens.knaw.nl/v5/resourcesync/u519bd710306620fa7c56d541ae7b9f5b7f57a706/ogt_2/dataset.nq</a>"
      ],
      "text/plain": [
       "<IPython.core.display.HTML object>"
      ]
     },
     "metadata": {},
     "output_type": "display_data"
    },
    {
     "name": "stdout",
     "output_type": "stream",
     "text": [
      "contexts  :            1\n",
      "statements:      110.897\n",
      "literals  :       51.649\n",
      "literal ratio:    0,47\n",
      "\n",
      "subject netlocs: 4 {'resource.huygens.knaw.nl': 56654, '': 42630, 'www.w3.org': 11603, 'data.huygens.knaw.nl': 10}\n",
      "object netlocs: 4 {'resource.huygens.knaw.nl': 15141, 'www.w3.org': 11603, '': 32500, 'data.huygens.knaw.nl': 4}\n",
      "\n",
      "example.org | s 0 | p 0 | o 0 | total 0\n",
      "\n",
      "predicate netlocs: 5 | {'resource.huygens.knaw.nl': 82370, 'www.w3.org': 26744, 'schema.org': 1775, 'purl.org': 4, 'timbuctoo.huygens.knaw.nl': 4}\n",
      "predicates: 155\n"
     ]
    },
    {
     "data": {
      "text/html": [
       "<a target=\"_blank\" href=\"http://purl.org/dc/terms/description\">http://purl.org/dc/terms/description</a>: 1"
      ],
      "text/plain": [
       "<IPython.core.display.HTML object>"
      ]
     },
     "metadata": {},
     "output_type": "display_data"
    },
    {
     "data": {
      "text/html": [
       "<a target=\"_blank\" href=\"http://purl.org/dc/terms/rightsHolder\">http://purl.org/dc/terms/rightsHolder</a>: 2"
      ],
      "text/plain": [
       "<IPython.core.display.HTML object>"
      ]
     },
     "metadata": {},
     "output_type": "display_data"
    },
    {
     "data": {
      "text/html": [
       "<a target=\"_blank\" href=\"http://purl.org/dc/terms/title\">http://purl.org/dc/terms/title</a>: 1"
      ],
      "text/plain": [
       "<IPython.core.display.HTML object>"
      ]
     },
     "metadata": {},
     "output_type": "display_data"
    },
    {
     "data": {
      "text/html": [
       "<a target=\"_blank\" href=\"http://schema.org/ContactPoint\">http://schema.org/ContactPoint</a>: 2"
      ],
      "text/plain": [
       "<IPython.core.display.HTML object>"
      ]
     },
     "metadata": {},
     "output_type": "display_data"
    },
    {
     "data": {
      "text/html": [
       "<a target=\"_blank\" href=\"http://schema.org/email\">http://schema.org/email</a>: 2"
      ],
      "text/plain": [
       "<IPython.core.display.HTML object>"
      ]
     },
     "metadata": {},
     "output_type": "display_data"
    },
    {
     "data": {
      "text/html": [
       "<a target=\"_blank\" href=\"http://schema.org/name\">http://schema.org/name</a>: 597"
      ],
      "text/plain": [
       "<IPython.core.display.HTML object>"
      ]
     },
     "metadata": {},
     "output_type": "display_data"
    },
    {
     "data": {
      "text/html": [
       "<a target=\"_blank\" href=\"http://schema.org/title\">http://schema.org/title</a>: 1174"
      ],
      "text/plain": [
       "<IPython.core.display.HTML object>"
      ]
     },
     "metadata": {},
     "output_type": "display_data"
    },
    {
     "name": "stdout",
     "output_type": "stream",
     "text": [
      "http://timbuctoo.huygens.knaw.nl/static/v5/vocabulary#hasViewConfig: 4\n"
     ]
    },
    {
     "data": {
      "text/html": [
       "<a target=\"_blank\" href=\"http://www.w3.org/1999/02/22-rdf-syntax-ns#type\">http://www.w3.org/1999/02/22-rdf-syntax-ns#type</a>: 26744"
      ],
      "text/plain": [
       "<IPython.core.display.HTML object>"
      ]
     },
     "metadata": {},
     "output_type": "display_data"
    },
    {
     "name": "stdout",
     "output_type": "stream",
     "text": [
      "https://resource.huygens.knaw.nl/oorlogsgetroffenen/oArchiefordening: 445\n",
      "https://resource.huygens.knaw.nl/oorlogsgetroffenen/oInformatiedrager: 340\n",
      "https://resource.huygens.knaw.nl/oorlogsgetroffenen/oOpenbaarheid: 277\n",
      "https://resource.huygens.knaw.nl/oorlogsgetroffenen/oaangemaakt_door: 595\n",
      "https://resource.huygens.knaw.nl/oorlogsgetroffenen/oaanleiding_voor_oprichting: 273\n",
      "https://resource.huygens.knaw.nl/oorlogsgetroffenen/oaantal_inventarisnummers: 322\n",
      "https://resource.huygens.knaw.nl/oorlogsgetroffenen/oaantekening: 596\n",
      "https://resource.huygens.knaw.nl/oorlogsgetroffenen/oaantekeningen: 2364\n",
      "https://resource.huygens.knaw.nl/oorlogsgetroffenen/oanalytische_beschrijving: 322\n",
      "https://resource.huygens.knaw.nl/oorlogsgetroffenen/oandere_archieven: 322\n",
      "https://resource.huygens.knaw.nl/oorlogsgetroffenen/oandere_geografische_trefwoorden: 546\n",
      "https://resource.huygens.knaw.nl/oorlogsgetroffenen/oanders_geografische_trefwoorden: 2000\n",
      "https://resource.huygens.knaw.nl/oorlogsgetroffenen/oantwoord: 15\n",
      "https://resource.huygens.knaw.nl/oorlogsgetroffenen/oarchiefordening: 644\n",
      "https://resource.huygens.knaw.nl/oorlogsgetroffenen/oarchiefordening_extra: 322\n",
      "https://resource.huygens.knaw.nl/oorlogsgetroffenen/oarchieven: 273\n",
      "https://resource.huygens.knaw.nl/oorlogsgetroffenen/oarchivalia_andere_archieven: 322\n",
      "https://resource.huygens.knaw.nl/oorlogsgetroffenen/oauteur: 35\n",
      "https://resource.huygens.knaw.nl/oorlogsgetroffenen/oavmat: 35\n",
      "https://resource.huygens.knaw.nl/oorlogsgetroffenen/obeginjaar: 322\n",
      "https://resource.huygens.knaw.nl/oorlogsgetroffenen/obegrip_overige: 24\n",
      "https://resource.huygens.knaw.nl/oorlogsgetroffenen/obegrippen: 35\n",
      "https://resource.huygens.knaw.nl/oorlogsgetroffenen/obesteld: 1115\n",
      "https://resource.huygens.knaw.nl/oorlogsgetroffenen/obij_format: 1115\n",
      "https://resource.huygens.knaw.nl/oorlogsgetroffenen/obijschrift: 1115\n",
      "https://resource.huygens.knaw.nl/oorlogsgetroffenen/obinnen: 1115\n",
      "https://resource.huygens.knaw.nl/oorlogsgetroffenen/obiografie: 273\n",
      "https://resource.huygens.knaw.nl/oorlogsgetroffenen/obrievencollectie: 322\n",
      "https://resource.huygens.knaw.nl/oorlogsgetroffenen/obron: 24\n",
      "https://resource.huygens.knaw.nl/oorlogsgetroffenen/obronnen: 357\n",
      "https://resource.huygens.knaw.nl/oorlogsgetroffenen/oburger: 149\n",
      "https://resource.huygens.knaw.nl/oorlogsgetroffenen/oburgers: 546\n",
      "https://resource.huygens.knaw.nl/oorlogsgetroffenen/oburgers_overige: 546\n",
      "https://resource.huygens.knaw.nl/oorlogsgetroffenen/odatum: 1448\n",
      "https://resource.huygens.knaw.nl/oorlogsgetroffenen/odocumentatie: 322\n",
      "https://resource.huygens.knaw.nl/oorlogsgetroffenen/odocumentnr: 1115\n",
      "https://resource.huygens.knaw.nl/oorlogsgetroffenen/odoelstelling: 273\n",
      "https://resource.huygens.knaw.nl/oorlogsgetroffenen/oeindjaar: 322\n",
      "https://resource.huygens.knaw.nl/oorlogsgetroffenen/ofinancien: 322\n",
      "https://resource.huygens.knaw.nl/oorlogsgetroffenen/oformats: 15\n",
      "https://resource.huygens.knaw.nl/oorlogsgetroffenen/ofoute_ned: 1\n",
      "https://resource.huygens.knaw.nl/oorlogsgetroffenen/ofoutened: 546\n",
      "https://resource.huygens.knaw.nl/oorlogsgetroffenen/ofoutened_overige: 273\n",
      "https://resource.huygens.knaw.nl/oorlogsgetroffenen/ofuncties_persoon: 273\n",
      "https://resource.huygens.knaw.nl/oorlogsgetroffenen/ogeografisch_trefwoord: 2230\n",
      "https://resource.huygens.knaw.nl/oorlogsgetroffenen/ogeografische_trefwoord: 1001\n",
      "https://resource.huygens.knaw.nl/oorlogsgetroffenen/ogeografische_trefwoorden: 546\n",
      "https://resource.huygens.knaw.nl/oorlogsgetroffenen/ogeografische_verwijzigingen: 273\n",
      "https://resource.huygens.knaw.nl/oorlogsgetroffenen/ogeselecteerd: 1115\n",
      "https://resource.huygens.knaw.nl/oorlogsgetroffenen/ogewijzigd_door: 595\n",
      "https://resource.huygens.knaw.nl/oorlogsgetroffenen/ogewijzigd_op: 595\n",
      "https://resource.huygens.knaw.nl/oorlogsgetroffenen/ogids: 23\n",
      "https://resource.huygens.knaw.nl/oorlogsgetroffenen/ogidsen: 48\n",
      "https://resource.huygens.knaw.nl/oorlogsgetroffenen/ogidsonderdeel: 1123\n",
      "https://resource.huygens.knaw.nl/oorlogsgetroffenen/oheader_einde_instelling_persoon_richtte: 273\n",
      "https://resource.huygens.knaw.nl/oorlogsgetroffenen/oheader_instelling_persoon_richtte: 273\n",
      "https://resource.huygens.knaw.nl/oorlogsgetroffenen/oindex: 322\n",
      "https://resource.huygens.knaw.nl/oorlogsgetroffenen/oinformatiedrager: 644\n",
      "https://resource.huygens.knaw.nl/oorlogsgetroffenen/oinformatiedrager_extra: 322\n",
      "https://resource.huygens.knaw.nl/oorlogsgetroffenen/oinhoud_overig: 322\n",
      "https://resource.huygens.knaw.nl/oorlogsgetroffenen/oinhoud_separator: 322\n",
      "https://resource.huygens.knaw.nl/oorlogsgetroffenen/oinrichting_organisatie: 273\n",
      "https://resource.huygens.knaw.nl/oorlogsgetroffenen/ojaarverslagen: 322\n",
      "https://resource.huygens.knaw.nl/oorlogsgetroffenen/okenmerk: 322\n",
      "https://resource.huygens.knaw.nl/oorlogsgetroffenen/okeyword: 3311\n",
      "https://resource.huygens.knaw.nl/oorlogsgetroffenen/okopie: 1115\n",
      "https://resource.huygens.knaw.nl/oorlogsgetroffenen/okrijgsgevangene: 9\n",
      "https://resource.huygens.knaw.nl/oorlogsgetroffenen/okrijgsgevangenen: 546\n",
      "https://resource.huygens.knaw.nl/oorlogsgetroffenen/okrijgsgevangenen_overige: 273\n",
      "https://resource.huygens.knaw.nl/oorlogsgetroffenen/olengte: 322\n",
      "https://resource.huygens.knaw.nl/oorlogsgetroffenen/oliteratuur: 273\n",
      "https://resource.huygens.knaw.nl/oorlogsgetroffenen/olocatie: 1115\n",
      "https://resource.huygens.knaw.nl/oorlogsgetroffenen/omaker: 1115\n",
      "https://resource.huygens.knaw.nl/oorlogsgetroffenen/omat: 1115\n",
      "https://resource.huygens.knaw.nl/oorlogsgetroffenen/omatsoort: 2230\n",
      "https://resource.huygens.knaw.nl/oorlogsgetroffenen/omatsoort_anders: 1115\n",
      "https://resource.huygens.knaw.nl/oorlogsgetroffenen/omilitair: 2\n",
      "https://resource.huygens.knaw.nl/oorlogsgetroffenen/omilitairen: 546\n",
      "https://resource.huygens.knaw.nl/oorlogsgetroffenen/omilitairen_overige: 273\n",
      "https://resource.huygens.knaw.nl/oorlogsgetroffenen/onaambestand: 1115\n",
      "https://resource.huygens.knaw.nl/oorlogsgetroffenen/onaamsafkorting: 273\n",
      "https://resource.huygens.knaw.nl/oorlogsgetroffenen/onaamsvariant: 273\n",
      "https://resource.huygens.knaw.nl/oorlogsgetroffenen/oname: 298\n",
      "https://resource.huygens.knaw.nl/oorlogsgetroffenen/oned_indie: 90\n",
      "https://resource.huygens.knaw.nl/oorlogsgetroffenen/oned_indie_lijst: 546\n",
      "https://resource.huygens.knaw.nl/oorlogsgetroffenen/oned_indie_overige: 546\n",
      "https://resource.huygens.knaw.nl/oorlogsgetroffenen/onotes: 298\n",
      "https://resource.huygens.knaw.nl/oorlogsgetroffenen/onotulen: 322\n",
      "https://resource.huygens.knaw.nl/oorlogsgetroffenen/onr: 1115\n",
      "https://resource.huygens.knaw.nl/oorlogsgetroffenen/oomschrijving: 24\n",
      "https://resource.huygens.knaw.nl/oorlogsgetroffenen/oonderdeel: 2230\n",
      "https://resource.huygens.knaw.nl/oorlogsgetroffenen/oopenbaarheid: 644\n",
      "https://resource.huygens.knaw.nl/oorlogsgetroffenen/oopenbaarheid_toelichting: 322\n",
      "https://resource.huygens.knaw.nl/oorlogsgetroffenen/oopheffings_sterfdatum: 273\n",
      "https://resource.huygens.knaw.nl/oorlogsgetroffenen/oopmerkingen: 595\n",
      "https://resource.huygens.knaw.nl/oorlogsgetroffenen/oopmerkingen_periode_bestaan: 273\n",
      "https://resource.huygens.knaw.nl/oorlogsgetroffenen/ooprichters: 273\n",
      "https://resource.huygens.knaw.nl/oorlogsgetroffenen/ooprichtings_geboortedatum: 273\n",
      "https://resource.huygens.knaw.nl/oorlogsgetroffenen/oopvolger: 273\n",
      "https://resource.huygens.knaw.nl/oorlogsgetroffenen/oorganisatie_bevoegheden: 273\n",
      "https://resource.huygens.knaw.nl/oorlogsgetroffenen/oorganisatie_format: 1115\n",
      "https://resource.huygens.knaw.nl/oorlogsgetroffenen/oorganisatie_karakter: 273\n",
      "https://resource.huygens.knaw.nl/oorlogsgetroffenen/oother: 38\n",
      "https://resource.huygens.knaw.nl/oorlogsgetroffenen/ooverige: 76\n",
      "https://resource.huygens.knaw.nl/oorlogsgetroffenen/opersonen: 1115\n",
      "https://resource.huygens.knaw.nl/oorlogsgetroffenen/opersoonsdossiers: 322\n",
      "https://resource.huygens.knaw.nl/oorlogsgetroffenen/opositie_organisatie: 273\n",
      "https://resource.huygens.knaw.nl/oorlogsgetroffenen/oprogrammapunt: 273\n",
      "https://resource.huygens.knaw.nl/oorlogsgetroffenen/orechhebbenden: 1115\n",
      "https://resource.huygens.knaw.nl/oorlogsgetroffenen/orechten: 1115\n",
      "https://resource.huygens.knaw.nl/oorlogsgetroffenen/orechtsvorm: 273\n",
      "https://resource.huygens.knaw.nl/oorlogsgetroffenen/orepatriant: 41\n",
      "https://resource.huygens.knaw.nl/oorlogsgetroffenen/orepatrianten: 546\n",
      "https://resource.huygens.knaw.nl/oorlogsgetroffenen/orepatrianten_overige: 546\n",
      "https://resource.huygens.knaw.nl/oorlogsgetroffenen/ostatus: 35\n",
      "https://resource.huygens.knaw.nl/oorlogsgetroffenen/osubthema_tekst: 273\n",
      "https://resource.huygens.knaw.nl/oorlogsgetroffenen/otaak_activiteiten: 546\n",
      "https://resource.huygens.knaw.nl/oorlogsgetroffenen/otekst: 20\n",
      "https://resource.huygens.knaw.nl/oorlogsgetroffenen/otoegang: 345\n",
      "https://resource.huygens.knaw.nl/oorlogsgetroffenen/otoegangen: 644\n",
      "https://resource.huygens.knaw.nl/oorlogsgetroffenen/otoelichting_toegang: 322\n",
      "https://resource.huygens.knaw.nl/oorlogsgetroffenen/otrefwoord: 6622\n",
      "https://resource.huygens.knaw.nl/oorlogsgetroffenen/otrefwoorden: 2230\n",
      "https://resource.huygens.knaw.nl/oorlogsgetroffenen/otweede_gen: 37\n",
      "https://resource.huygens.knaw.nl/oorlogsgetroffenen/otweedegen: 546\n",
      "https://resource.huygens.knaw.nl/oorlogsgetroffenen/otweedegen_overige: 273\n",
      "https://resource.huygens.knaw.nl/oorlogsgetroffenen/otyperingen: 317\n",
      "https://resource.huygens.knaw.nl/oorlogsgetroffenen/overloren: 322\n",
      "https://resource.huygens.knaw.nl/oorlogsgetroffenen/overnietigd: 322\n",
      "https://resource.huygens.knaw.nl/oorlogsgetroffenen/overvolging: 546\n",
      "https://resource.huygens.knaw.nl/oorlogsgetroffenen/overvolging_overige: 546\n",
      "https://resource.huygens.knaw.nl/oorlogsgetroffenen/overvolgingsslachtoffers: 341\n",
      "https://resource.huygens.knaw.nl/oorlogsgetroffenen/overwijzingen: 322\n",
      "https://resource.huygens.knaw.nl/oorlogsgetroffenen/overzet: 106\n",
      "https://resource.huygens.knaw.nl/oorlogsgetroffenen/overzet_lijst: 546\n",
      "https://resource.huygens.knaw.nl/oorlogsgetroffenen/overzet_overige: 546\n",
      "https://resource.huygens.knaw.nl/oorlogsgetroffenen/ovindplaats: 322\n",
      "https://resource.huygens.knaw.nl/oorlogsgetroffenen/ovoorloper: 273\n",
      "https://resource.huygens.knaw.nl/oorlogsgetroffenen/ovraag: 15\n",
      "https://resource.huygens.knaw.nl/oorlogsgetroffenen/owebsite: 273\n",
      "https://resource.huygens.knaw.nl/oorlogsgetroffenen/owet: 102\n",
      "https://resource.huygens.knaw.nl/oorlogsgetroffenen/owetten: 644\n",
      "https://resource.huygens.knaw.nl/oorlogsgetroffenen/owetten_extra: 322\n",
      "https://resource.huygens.knaw.nl/oorlogsgetroffenen/ozeelied: 23\n",
      "https://resource.huygens.knaw.nl/oorlogsgetroffenen/ozeelieden: 546\n",
      "https://resource.huygens.knaw.nl/oorlogsgetroffenen/ozeelieden_overige: 273\n"
     ]
    },
    {
     "data": {
      "text/html": [
       "<h3>fingerprint</h3>"
      ],
      "text/plain": [
       "<IPython.core.display.HTML object>"
      ]
     },
     "metadata": {},
     "output_type": "display_data"
    },
    {
     "data": {
      "text/html": [
       "<a target=\"_blank\" href=\"https://repository.huygens.knaw.nl/v5/resourcesync/u519bd710306620fa7c56d541ae7b9f5b7f57a706/constitutionele_commissies/dataset.nq\">https://repository.huygens.knaw.nl/v5/resourcesync/u519bd710306620fa7c56d541ae7b9f5b7f57a706/constitutionele_commissies/dataset.nq</a>"
      ],
      "text/plain": [
       "<IPython.core.display.HTML object>"
      ]
     },
     "metadata": {},
     "output_type": "display_data"
    },
    {
     "name": "stdout",
     "output_type": "stream",
     "text": [
      "contexts  :            1\n",
      "statements:       89.876\n",
      "literals  :       40.760\n",
      "literal ratio:    0,45\n",
      "\n",
      "subject netlocs: 4 {'resource.huygens.knaw.nl': 36220, '': 45549, 'www.w3.org': 8093, 'data.huygens.knaw.nl': 14}\n",
      "object netlocs: 4 {'': 31301, 'www.w3.org': 8093, 'resource.huygens.knaw.nl': 9716, 'data.huygens.knaw.nl': 6}\n",
      "\n",
      "example.org | s 0 | p 0 | o 0 | total 0\n",
      "\n",
      "predicate netlocs: 5 | {'resource.huygens.knaw.nl': 68970, 'www.w3.org': 19380, 'schema.org': 1509, 'purl.org': 8, 'timbuctoo.huygens.knaw.nl': 9}\n",
      "predicates: 128\n"
     ]
    },
    {
     "data": {
      "text/html": [
       "<a target=\"_blank\" href=\"http://purl.org/dc/terms/description\">http://purl.org/dc/terms/description</a>: 2"
      ],
      "text/plain": [
       "<IPython.core.display.HTML object>"
      ]
     },
     "metadata": {},
     "output_type": "display_data"
    },
    {
     "data": {
      "text/html": [
       "<a target=\"_blank\" href=\"http://purl.org/dc/terms/provenance\">http://purl.org/dc/terms/provenance</a>: 2"
      ],
      "text/plain": [
       "<IPython.core.display.HTML object>"
      ]
     },
     "metadata": {},
     "output_type": "display_data"
    },
    {
     "data": {
      "text/html": [
       "<a target=\"_blank\" href=\"http://purl.org/dc/terms/rightsHolder\">http://purl.org/dc/terms/rightsHolder</a>: 2"
      ],
      "text/plain": [
       "<IPython.core.display.HTML object>"
      ]
     },
     "metadata": {},
     "output_type": "display_data"
    },
    {
     "data": {
      "text/html": [
       "<a target=\"_blank\" href=\"http://purl.org/dc/terms/title\">http://purl.org/dc/terms/title</a>: 2"
      ],
      "text/plain": [
       "<IPython.core.display.HTML object>"
      ]
     },
     "metadata": {},
     "output_type": "display_data"
    },
    {
     "data": {
      "text/html": [
       "<a target=\"_blank\" href=\"http://schema.org/ContactPoint\">http://schema.org/ContactPoint</a>: 2"
      ],
      "text/plain": [
       "<IPython.core.display.HTML object>"
      ]
     },
     "metadata": {},
     "output_type": "display_data"
    },
    {
     "data": {
      "text/html": [
       "<a target=\"_blank\" href=\"http://schema.org/email\">http://schema.org/email</a>: 2"
      ],
      "text/plain": [
       "<IPython.core.display.HTML object>"
      ]
     },
     "metadata": {},
     "output_type": "display_data"
    },
    {
     "data": {
      "text/html": [
       "<a target=\"_blank\" href=\"http://schema.org/name\">http://schema.org/name</a>: 395"
      ],
      "text/plain": [
       "<IPython.core.display.HTML object>"
      ]
     },
     "metadata": {},
     "output_type": "display_data"
    },
    {
     "data": {
      "text/html": [
       "<a target=\"_blank\" href=\"http://schema.org/title\">http://schema.org/title</a>: 1110"
      ],
      "text/plain": [
       "<IPython.core.display.HTML object>"
      ]
     },
     "metadata": {},
     "output_type": "display_data"
    },
    {
     "name": "stdout",
     "output_type": "stream",
     "text": [
      "http://timbuctoo.huygens.knaw.nl/static/v5/vocabulary#hasViewConfig: 9\n"
     ]
    },
    {
     "data": {
      "text/html": [
       "<a target=\"_blank\" href=\"http://www.w3.org/1999/02/22-rdf-syntax-ns#type\">http://www.w3.org/1999/02/22-rdf-syntax-ns#type</a>: 19192"
      ],
      "text/plain": [
       "<IPython.core.display.HTML object>"
      ]
     },
     "metadata": {},
     "output_type": "display_data"
    },
    {
     "data": {
      "text/html": [
       "<a target=\"_blank\" href=\"http://www.w3.org/2000/01/rdf-schema#label\">http://www.w3.org/2000/01/rdf-schema#label</a>: 188"
      ],
      "text/plain": [
       "<IPython.core.display.HTML object>"
      ]
     },
     "metadata": {},
     "output_type": "display_data"
    },
    {
     "name": "stdout",
     "output_type": "stream",
     "text": [
      "https://resource.huygens.knaw.nl/constitutionele_commissies/cFunctie: 552\n",
      "https://resource.huygens.knaw.nl/constitutionele_commissies/cThema: 2766\n",
      "https://resource.huygens.knaw.nl/constitutionele_commissies/caangemaakt_door: 310\n",
      "https://resource.huygens.knaw.nl/constitutionele_commissies/caant_annotatie: 698\n",
      "https://resource.huygens.knaw.nl/constitutionele_commissies/caantal_bijeenkomsten: 17\n",
      "https://resource.huygens.knaw.nl/constitutionele_commissies/caantekeningen: 1503\n",
      "https://resource.huygens.knaw.nl/constitutionele_commissies/caard_stuk: 698\n",
      "https://resource.huygens.knaw.nl/constitutionele_commissies/caard_van_de_documentatie: 49\n",
      "https://resource.huygens.knaw.nl/constitutionele_commissies/cactoor: 101\n",
      "https://resource.huygens.knaw.nl/constitutionele_commissies/cactoren: 202\n",
      "https://resource.huygens.knaw.nl/constitutionele_commissies/cankernaam: 1594\n",
      "https://resource.huygens.knaw.nl/constitutionele_commissies/canno: 3188\n",
      "https://resource.huygens.knaw.nl/constitutionele_commissies/cannotatie: 1496\n",
      "https://resource.huygens.knaw.nl/constitutionele_commissies/cannotatie_tekst: 1594\n",
      "https://resource.huygens.knaw.nl/constitutionele_commissies/cartikel: 884\n",
      "https://resource.huygens.knaw.nl/constitutionele_commissies/cav_bronnen: 17\n",
      "https://resource.huygens.knaw.nl/constitutionele_commissies/cbeschrijving: 279\n",
      "https://resource.huygens.knaw.nl/constitutionele_commissies/cbetrokken: 554\n",
      "https://resource.huygens.knaw.nl/constitutionele_commissies/cbetrokken_bij: 116\n",
      "https://resource.huygens.knaw.nl/constitutionele_commissies/cbijschrift: 279\n",
      "https://resource.huygens.knaw.nl/constitutionele_commissies/cbijzondere_stukken: 166\n",
      "https://resource.huygens.knaw.nl/constitutionele_commissies/cbiografische_gegevens_in: 215\n",
      "https://resource.huygens.knaw.nl/constitutionele_commissies/cbronfragment: 698\n",
      "https://resource.huygens.knaw.nl/constitutionele_commissies/ccollectie: 156\n",
      "https://resource.huygens.knaw.nl/constitutionele_commissies/ccommissie: 1052\n",
      "https://resource.huygens.knaw.nl/constitutionele_commissies/ccommissies: 558\n",
      "https://resource.huygens.knaw.nl/constitutionele_commissies/cdatum: 977\n",
      "https://resource.huygens.knaw.nl/constitutionele_commissies/cdatum_aanbieding_aan_tk: 17\n",
      "https://resource.huygens.knaw.nl/constitutionele_commissies/cdatum_eindverslag: 17\n",
      "https://resource.huygens.knaw.nl/constitutionele_commissies/cdefinitief: 864\n",
      "https://resource.huygens.knaw.nl/constitutionele_commissies/cdocumentnaam: 698\n",
      "https://resource.huygens.knaw.nl/constitutionele_commissies/cdocumentnr: 279\n",
      "https://resource.huygens.knaw.nl/constitutionele_commissies/cfragment: 698\n",
      "https://resource.huygens.knaw.nl/constitutionele_commissies/cfunctie: 274\n",
      "https://resource.huygens.knaw.nl/constitutionele_commissies/cfuncties: 215\n",
      "https://resource.huygens.knaw.nl/constitutionele_commissies/cgeselecteerd: 279\n",
      "https://resource.huygens.knaw.nl/constitutionele_commissies/cgewijzigd_door: 476\n",
      "https://resource.huygens.knaw.nl/constitutionele_commissies/cgewijzigd_op: 476\n",
      "https://resource.huygens.knaw.nl/constitutionele_commissies/cgrondwetartikel: 1768\n",
      "https://resource.huygens.knaw.nl/constitutionele_commissies/cgrondwetartikelen: 1396\n",
      "https://resource.huygens.knaw.nl/constitutionele_commissies/cherzieningsjaar: 17\n",
      "https://resource.huygens.knaw.nl/constitutionele_commissies/cin_staatscommissie: 504\n",
      "https://resource.huygens.knaw.nl/constitutionele_commissies/cinhoud: 301\n",
      "https://resource.huygens.knaw.nl/constitutionele_commissies/cinstelling: 226\n",
      "https://resource.huygens.knaw.nl/constitutionele_commissies/cinventaris_bewerkt_door: 166\n",
      "https://resource.huygens.knaw.nl/constitutionele_commissies/cinventaris_geraadpleegd: 166\n",
      "https://resource.huygens.knaw.nl/constitutionele_commissies/cinventarisnummers: 49\n",
      "https://resource.huygens.knaw.nl/constitutionele_commissies/cjaar: 884\n",
      "https://resource.huygens.knaw.nl/constitutionele_commissies/cjaren: 17\n",
      "https://resource.huygens.knaw.nl/constitutionele_commissies/ckb_instelling: 17\n",
      "https://resource.huygens.knaw.nl/constitutionele_commissies/ckb_ontbinding: 17\n",
      "https://resource.huygens.knaw.nl/constitutionele_commissies/ckenmerk_toegang: 166\n",
      "https://resource.huygens.knaw.nl/constitutionele_commissies/ckosten: 279\n",
      "https://resource.huygens.knaw.nl/constitutionele_commissies/cleefjaren: 215\n",
      "https://resource.huygens.knaw.nl/constitutionele_commissies/clid: 884\n",
      "https://resource.huygens.knaw.nl/constitutionele_commissies/cliteratuur: 990\n",
      "https://resource.huygens.knaw.nl/constitutionele_commissies/cliteratuur_titel: 348\n",
      "https://resource.huygens.knaw.nl/constitutionele_commissies/cliteratuurlijst: 1396\n",
      "https://resource.huygens.knaw.nl/constitutionele_commissies/cmaker: 279\n",
      "https://resource.huygens.knaw.nl/constitutionele_commissies/cmat: 294\n",
      "https://resource.huygens.knaw.nl/constitutionele_commissies/cmatsoort: 558\n",
      "https://resource.huygens.knaw.nl/constitutionele_commissies/cnaam_archiefcollectie: 117\n",
      "https://resource.huygens.knaw.nl/constitutionele_commissies/cnaam_archiefvormer: 49\n",
      "https://resource.huygens.knaw.nl/constitutionele_commissies/cnaam_persoon_inst: 1028\n",
      "https://resource.huygens.knaw.nl/constitutionele_commissies/cnaam_staatscommissie: 698\n",
      "https://resource.huygens.knaw.nl/constitutionele_commissies/cnaam_varianten: 62\n",
      "https://resource.huygens.knaw.nl/constitutionele_commissies/cnaambestand: 279\n",
      "https://resource.huygens.knaw.nl/constitutionele_commissies/cnaamsvarianten: 17\n",
      "https://resource.huygens.knaw.nl/constitutionele_commissies/cofficiele_naam: 17\n",
      "https://resource.huygens.knaw.nl/constitutionele_commissies/contwikkelingsstadium: 698\n",
      "https://resource.huygens.knaw.nl/constitutionele_commissies/copdracht: 17\n",
      "https://resource.huygens.knaw.nl/constitutionele_commissies/copenbaarheid: 166\n",
      "https://resource.huygens.knaw.nl/constitutionele_commissies/copm_datum: 698\n",
      "https://resource.huygens.knaw.nl/constitutionele_commissies/copmerkingen: 1634\n",
      "https://resource.huygens.knaw.nl/constitutionele_commissies/copmerkingen_archivalia: 277\n",
      "https://resource.huygens.knaw.nl/constitutionele_commissies/copmerkingen_overig: 166\n",
      "https://resource.huygens.knaw.nl/constitutionele_commissies/corganisatie: 62\n",
      "https://resource.huygens.knaw.nl/constitutionele_commissies/coverige_actoren: 1396\n",
      "https://resource.huygens.knaw.nl/constitutionele_commissies/coverige_betrokkenen: 32\n",
      "https://resource.huygens.knaw.nl/constitutionele_commissies/coverige_betrokkenen_instellingen: 32\n",
      "https://resource.huygens.knaw.nl/constitutionele_commissies/cpaginas: 698\n",
      "https://resource.huygens.knaw.nl/constitutionele_commissies/cpartij: 276\n",
      "https://resource.huygens.knaw.nl/constitutionele_commissies/cperiode_archief: 166\n",
      "https://resource.huygens.knaw.nl/constitutionele_commissies/cperiode_van_bestaan: 62\n",
      "https://resource.huygens.knaw.nl/constitutionele_commissies/cpersonen: 1954\n",
      "https://resource.huygens.knaw.nl/constitutionele_commissies/cpersoon: 1830\n",
      "https://resource.huygens.knaw.nl/constitutionele_commissies/cpolitieke_partij: 215\n",
      "https://resource.huygens.knaw.nl/constitutionele_commissies/crechthebbenden: 279\n",
      "https://resource.huygens.knaw.nl/constitutionele_commissies/csamenhangende_stukken: 1396\n",
      "https://resource.huygens.knaw.nl/constitutionele_commissies/csamenstelling: 34\n",
      "https://resource.huygens.knaw.nl/constitutionele_commissies/csoort_toegang: 166\n",
      "https://resource.huygens.knaw.nl/constitutionele_commissies/cstaatscommissie: 234\n",
      "https://resource.huygens.knaw.nl/constitutionele_commissies/cstatus: 279\n",
      "https://resource.huygens.knaw.nl/constitutionele_commissies/cstuk: 666\n",
      "https://resource.huygens.knaw.nl/constitutionele_commissies/cstukken: 1332\n",
      "https://resource.huygens.knaw.nl/constitutionele_commissies/cstukken_bewerkt_door: 166\n",
      "https://resource.huygens.knaw.nl/constitutionele_commissies/cstukken_geraadpleegd: 166\n",
      "https://resource.huygens.knaw.nl/constitutionele_commissies/csubcommissies: 17\n",
      "https://resource.huygens.knaw.nl/constitutionele_commissies/csubthema: 1383\n",
      "https://resource.huygens.knaw.nl/constitutionele_commissies/ctaken: 62\n",
      "https://resource.huygens.knaw.nl/constitutionele_commissies/ctekst: 50\n",
      "https://resource.huygens.knaw.nl/constitutionele_commissies/cthema: 1377\n",
      "https://resource.huygens.knaw.nl/constitutionele_commissies/cthemapaar: 2766\n",
      "https://resource.huygens.knaw.nl/constitutionele_commissies/cthemas: 1954\n",
      "https://resource.huygens.knaw.nl/constitutionele_commissies/cverslagen: 17\n",
      "https://resource.huygens.knaw.nl/constitutionele_commissies/cvindplaats: 1299\n",
      "https://resource.huygens.knaw.nl/constitutionele_commissies/cwaardering1: 698\n",
      "https://resource.huygens.knaw.nl/constitutionele_commissies/cwaardering2: 698\n",
      "https://resource.huygens.knaw.nl/constitutionele_commissies/cwaardering3: 698\n",
      "https://resource.huygens.knaw.nl/constitutionele_commissies/cwaardering_belang_archivalia: 166\n",
      "https://resource.huygens.knaw.nl/constitutionele_commissies/cwt1: 698\n",
      "https://resource.huygens.knaw.nl/constitutionele_commissies/cwt2: 698\n",
      "https://resource.huygens.knaw.nl/constitutionele_commissies/cwt3: 698\n",
      "https://resource.huygens.knaw.nl/constitutionele_commissies/cwt4: 698\n",
      "https://resource.huygens.knaw.nl/constitutionele_commissies/cwt5: 698\n",
      "https://resource.huygens.knaw.nl/constitutionele_commissies/czitting: 430\n",
      "https://resource.huygens.knaw.nl/constitutionele_commissies/czitting_in: 552\n"
     ]
    },
    {
     "data": {
      "text/html": [
       "<h3>fingerprint</h3>"
      ],
      "text/plain": [
       "<IPython.core.display.HTML object>"
      ]
     },
     "metadata": {},
     "output_type": "display_data"
    },
    {
     "data": {
      "text/html": [
       "<a target=\"_blank\" href=\"https://repository.huygens.knaw.nl/v5/resourcesync/u519bd710306620fa7c56d541ae7b9f5b7f57a706/rsg_2/dataset.nq\">https://repository.huygens.knaw.nl/v5/resourcesync/u519bd710306620fa7c56d541ae7b9f5b7f57a706/rsg_2/dataset.nq</a>"
      ],
      "text/plain": [
       "<IPython.core.display.HTML object>"
      ]
     },
     "metadata": {},
     "output_type": "display_data"
    },
    {
     "name": "stdout",
     "output_type": "stream",
     "text": [
      "<class 'rdflib.plugins.parsers.ntriples.ParseError'>\n"
     ]
    },
    {
     "data": {
      "text/html": [
       "<h3>fingerprint</h3>"
      ],
      "text/plain": [
       "<IPython.core.display.HTML object>"
      ]
     },
     "metadata": {},
     "output_type": "display_data"
    },
    {
     "data": {
      "text/html": [
       "<a target=\"_blank\" href=\"https://repository.huygens.knaw.nl/v5/resourcesync/u519bd710306620fa7c56d541ae7b9f5b7f57a706/plakaatboek/dataset.nq\">https://repository.huygens.knaw.nl/v5/resourcesync/u519bd710306620fa7c56d541ae7b9f5b7f57a706/plakaatboek/dataset.nq</a>"
      ],
      "text/plain": [
       "<IPython.core.display.HTML object>"
      ]
     },
     "metadata": {},
     "output_type": "display_data"
    },
    {
     "name": "stdout",
     "output_type": "stream",
     "text": [
      "contexts  :            1\n",
      "statements:      106.202\n",
      "literals  :       34.412\n",
      "literal ratio:    0,32\n",
      "\n",
      "subject netlocs: 4 {'resource.huygens.knaw.nl': 38361, '': 51391, 'www.w3.org': 16440, 'data.huygens.knaw.nl': 10}\n",
      "object netlocs: 4 {'resource.huygens.knaw.nl': 19180, '': 36166, 'www.w3.org': 16440, 'data.huygens.knaw.nl': 4}\n",
      "\n",
      "example.org | s 0 | p 0 | o 0 | total 0\n",
      "\n",
      "predicate netlocs: 5 | {'www.w3.org': 35620, 'resource.huygens.knaw.nl': 69201, 'schema.org': 1376, 'purl.org': 4, 'timbuctoo.huygens.knaw.nl': 1}\n",
      "predicates: 46\n"
     ]
    },
    {
     "data": {
      "text/html": [
       "<a target=\"_blank\" href=\"http://purl.org/dc/terms/description\">http://purl.org/dc/terms/description</a>: 1"
      ],
      "text/plain": [
       "<IPython.core.display.HTML object>"
      ]
     },
     "metadata": {},
     "output_type": "display_data"
    },
    {
     "data": {
      "text/html": [
       "<a target=\"_blank\" href=\"http://purl.org/dc/terms/rightsHolder\">http://purl.org/dc/terms/rightsHolder</a>: 2"
      ],
      "text/plain": [
       "<IPython.core.display.HTML object>"
      ]
     },
     "metadata": {},
     "output_type": "display_data"
    },
    {
     "data": {
      "text/html": [
       "<a target=\"_blank\" href=\"http://purl.org/dc/terms/title\">http://purl.org/dc/terms/title</a>: 1"
      ],
      "text/plain": [
       "<IPython.core.display.HTML object>"
      ]
     },
     "metadata": {},
     "output_type": "display_data"
    },
    {
     "data": {
      "text/html": [
       "<a target=\"_blank\" href=\"http://schema.org/ContactPoint\">http://schema.org/ContactPoint</a>: 2"
      ],
      "text/plain": [
       "<IPython.core.display.HTML object>"
      ]
     },
     "metadata": {},
     "output_type": "display_data"
    },
    {
     "data": {
      "text/html": [
       "<a target=\"_blank\" href=\"http://schema.org/email\">http://schema.org/email</a>: 2"
      ],
      "text/plain": [
       "<IPython.core.display.HTML object>"
      ]
     },
     "metadata": {},
     "output_type": "display_data"
    },
    {
     "data": {
      "text/html": [
       "<a target=\"_blank\" href=\"http://schema.org/name\">http://schema.org/name</a>: 2"
      ],
      "text/plain": [
       "<IPython.core.display.HTML object>"
      ]
     },
     "metadata": {},
     "output_type": "display_data"
    },
    {
     "data": {
      "text/html": [
       "<a target=\"_blank\" href=\"http://schema.org/title\">http://schema.org/title</a>: 1370"
      ],
      "text/plain": [
       "<IPython.core.display.HTML object>"
      ]
     },
     "metadata": {},
     "output_type": "display_data"
    },
    {
     "name": "stdout",
     "output_type": "stream",
     "text": [
      "http://timbuctoo.huygens.knaw.nl/static/v5/vocabulary#hasViewConfig: 1\n"
     ]
    },
    {
     "data": {
      "text/html": [
       "<a target=\"_blank\" href=\"http://www.w3.org/1999/02/22-rdf-syntax-ns#type\">http://www.w3.org/1999/02/22-rdf-syntax-ns#type</a>: 35620"
      ],
      "text/plain": [
       "<IPython.core.display.HTML object>"
      ]
     },
     "metadata": {},
     "output_type": "display_data"
    },
    {
     "name": "stdout",
     "output_type": "stream",
     "text": [
      "https://resource.huygens.knaw.nl/plakaatboekguyana/paantekeningen: 1370\n",
      "https://resource.huygens.knaw.nl/plakaatboekguyana/palt_vindplaatsen: 1370\n",
      "https://resource.huygens.knaw.nl/plakaatboekguyana/parchief: 1370\n",
      "https://resource.huygens.knaw.nl/plakaatboekguyana/parchiefinstelling: 2740\n",
      "https://resource.huygens.knaw.nl/plakaatboekguyana/pcontents: 147\n",
      "https://resource.huygens.knaw.nl/plakaatboekguyana/pdate1: 1370\n",
      "https://resource.huygens.knaw.nl/plakaatboekguyana/pdate2: 1370\n",
      "https://resource.huygens.knaw.nl/plakaatboekguyana/pdate3: 1370\n",
      "https://resource.huygens.knaw.nl/plakaatboekguyana/pdoctype: 1466\n",
      "https://resource.huygens.knaw.nl/plakaatboekguyana/pdoctypes: 2740\n",
      "https://resource.huygens.knaw.nl/plakaatboekguyana/pdocumentnr: 1370\n",
      "https://resource.huygens.knaw.nl/plakaatboekguyana/pgeobroad: 89\n",
      "https://resource.huygens.knaw.nl/plakaatboekguyana/pgeonarrow: 1958\n",
      "https://resource.huygens.knaw.nl/plakaatboekguyana/pinstelling_: 1140\n",
      "https://resource.huygens.knaw.nl/plakaatboekguyana/pkeyword: 1496\n",
      "https://resource.huygens.knaw.nl/plakaatboekguyana/pkeyword_geography_broad: 2740\n",
      "https://resource.huygens.knaw.nl/plakaatboekguyana/pkeyword_geography_narrow: 2740\n",
      "https://resource.huygens.knaw.nl/plakaatboekguyana/pkeyword_person: 2740\n",
      "https://resource.huygens.knaw.nl/plakaatboekguyana/pkeyword_subject: 2740\n",
      "https://resource.huygens.knaw.nl/plakaatboekguyana/pkeyword_subject_extra: 2740\n",
      "https://resource.huygens.knaw.nl/plakaatboekguyana/pkolonie: 2740\n",
      "https://resource.huygens.knaw.nl/plakaatboekguyana/pkolonie_: 1842\n",
      "https://resource.huygens.knaw.nl/plakaatboekguyana/plink_andereplakkaten: 2740\n",
      "https://resource.huygens.knaw.nl/plakaatboekguyana/plink_eerdere_plakaten: 2740\n",
      "https://resource.huygens.knaw.nl/plakaatboekguyana/plink_latere_plakaten: 2740\n",
      "https://resource.huygens.knaw.nl/plakaatboekguyana/ponderwerp: 1897\n",
      "https://resource.huygens.knaw.nl/plakaatboekguyana/popmerkingen: 1370\n",
      "https://resource.huygens.knaw.nl/plakaatboekguyana/ppersoon: 2992\n",
      "https://resource.huygens.knaw.nl/plakaatboekguyana/pplaats_opmaak: 1370\n",
      "https://resource.huygens.knaw.nl/plakaatboekguyana/pplakaten_other: 2740\n",
      "https://resource.huygens.knaw.nl/plakaatboekguyana/prelation: 943\n",
      "https://resource.huygens.knaw.nl/plakaatboekguyana/psee: 294\n",
      "https://resource.huygens.knaw.nl/plakaatboekguyana/psubject_other: 4247\n",
      "https://resource.huygens.knaw.nl/plakaatboekguyana/ptitel: 1370\n",
      "https://resource.huygens.knaw.nl/plakaatboekguyana/ptitel_eng: 1370\n",
      "https://resource.huygens.knaw.nl/plakaatboekguyana/ptranscriptie: 1370\n",
      "https://resource.huygens.knaw.nl/plakaatboekguyana/puitgevende_instantie: 1370\n"
     ]
    },
    {
     "data": {
      "text/html": [
       "<h3>fingerprint</h3>"
      ],
      "text/plain": [
       "<IPython.core.display.HTML object>"
      ]
     },
     "metadata": {},
     "output_type": "display_data"
    },
    {
     "data": {
      "text/html": [
       "<a target=\"_blank\" href=\"https://repository.huygens.knaw.nl/v5/resourcesync/u519bd710306620fa7c56d541ae7b9f5b7f57a706/netwerk_verwey/dataset.nq\">https://repository.huygens.knaw.nl/v5/resourcesync/u519bd710306620fa7c56d541ae7b9f5b7f57a706/netwerk_verwey/dataset.nq</a>"
      ],
      "text/plain": [
       "<IPython.core.display.HTML object>"
      ]
     },
     "metadata": {},
     "output_type": "display_data"
    },
    {
     "name": "stdout",
     "output_type": "stream",
     "text": [
      "contexts  :            1\n",
      "statements:       48.079\n",
      "literals  :       22.347\n",
      "literal ratio:    0,46\n",
      "\n",
      "subject netlocs: 4 {'www.w3.org': 4829, '': 27435, 'resource.huygens.knaw.nl': 15805, 'data.huygens.knaw.nl': 10}\n",
      "object netlocs: 4 {'': 13875, 'www.w3.org': 4829, 'resource.huygens.knaw.nl': 7024, 'data.huygens.knaw.nl': 4}\n",
      "\n",
      "example.org | s 0 | p 0 | o 0 | total 0\n",
      "\n",
      "predicate netlocs: 5 | {'www.w3.org': 10536, 'resource.huygens.knaw.nl': 37093, 'schema.org': 445, 'timbuctoo.huygens.knaw.nl': 1, 'purl.org': 4}\n",
      "predicates: 69\n"
     ]
    },
    {
     "data": {
      "text/html": [
       "<a target=\"_blank\" href=\"http://purl.org/dc/terms/description\">http://purl.org/dc/terms/description</a>: 1"
      ],
      "text/plain": [
       "<IPython.core.display.HTML object>"
      ]
     },
     "metadata": {},
     "output_type": "display_data"
    },
    {
     "data": {
      "text/html": [
       "<a target=\"_blank\" href=\"http://purl.org/dc/terms/rightsHolder\">http://purl.org/dc/terms/rightsHolder</a>: 2"
      ],
      "text/plain": [
       "<IPython.core.display.HTML object>"
      ]
     },
     "metadata": {},
     "output_type": "display_data"
    },
    {
     "data": {
      "text/html": [
       "<a target=\"_blank\" href=\"http://purl.org/dc/terms/title\">http://purl.org/dc/terms/title</a>: 1"
      ],
      "text/plain": [
       "<IPython.core.display.HTML object>"
      ]
     },
     "metadata": {},
     "output_type": "display_data"
    },
    {
     "data": {
      "text/html": [
       "<a target=\"_blank\" href=\"http://schema.org/ContactPoint\">http://schema.org/ContactPoint</a>: 2"
      ],
      "text/plain": [
       "<IPython.core.display.HTML object>"
      ]
     },
     "metadata": {},
     "output_type": "display_data"
    },
    {
     "data": {
      "text/html": [
       "<a target=\"_blank\" href=\"http://schema.org/email\">http://schema.org/email</a>: 2"
      ],
      "text/plain": [
       "<IPython.core.display.HTML object>"
      ]
     },
     "metadata": {},
     "output_type": "display_data"
    },
    {
     "data": {
      "text/html": [
       "<a target=\"_blank\" href=\"http://schema.org/name\">http://schema.org/name</a>: 441"
      ],
      "text/plain": [
       "<IPython.core.display.HTML object>"
      ]
     },
     "metadata": {},
     "output_type": "display_data"
    },
    {
     "name": "stdout",
     "output_type": "stream",
     "text": [
      "http://timbuctoo.huygens.knaw.nl/static/v5/vocabulary#hasViewConfig: 1\n"
     ]
    },
    {
     "data": {
      "text/html": [
       "<a target=\"_blank\" href=\"http://www.w3.org/1999/02/22-rdf-syntax-ns#type\">http://www.w3.org/1999/02/22-rdf-syntax-ns#type</a>: 10536"
      ],
      "text/plain": [
       "<IPython.core.display.HTML object>"
      ]
     },
     "metadata": {},
     "output_type": "display_data"
    },
    {
     "name": "stdout",
     "output_type": "stream",
     "text": [
      "https://resource.huygens.knaw.nl/netwerk_verwey/naantekeningen: 439\n",
      "https://resource.huygens.knaw.nl/netwerk_verwey/naltname: 878\n",
      "https://resource.huygens.knaw.nl/netwerk_verwey/nbiodesurl: 439\n",
      "https://resource.huygens.knaw.nl/netwerk_verwey/nbirth: 878\n",
      "https://resource.huygens.knaw.nl/netwerk_verwey/ncharacteristic: 878\n",
      "https://resource.huygens.knaw.nl/netwerk_verwey/ncharacteristic_old: 439\n",
      "https://resource.huygens.knaw.nl/netwerk_verwey/ncharacteristic_other: 439\n",
      "https://resource.huygens.knaw.nl/netwerk_verwey/ncountry: 878\n",
      "https://resource.huygens.knaw.nl/netwerk_verwey/ndate: 878\n",
      "https://resource.huygens.knaw.nl/netwerk_verwey/ndbnl_url: 439\n",
      "https://resource.huygens.knaw.nl/netwerk_verwey/ndeath: 878\n",
      "https://resource.huygens.knaw.nl/netwerk_verwey/ndomain: 1424\n",
      "https://resource.huygens.knaw.nl/netwerk_verwey/ndomains: 878\n",
      "https://resource.huygens.knaw.nl/netwerk_verwey/ndomains_old: 878\n",
      "https://resource.huygens.knaw.nl/netwerk_verwey/ndomains_other: 439\n",
      "https://resource.huygens.knaw.nl/netwerk_verwey/ndomein: 1070\n",
      "https://resource.huygens.knaw.nl/netwerk_verwey/neducation: 439\n",
      "https://resource.huygens.knaw.nl/netwerk_verwey/nfamilyname: 502\n",
      "https://resource.huygens.knaw.nl/netwerk_verwey/nfirstname: 502\n",
      "https://resource.huygens.knaw.nl/netwerk_verwey/nidentifier: 11\n",
      "https://resource.huygens.knaw.nl/netwerk_verwey/nintraposition: 502\n",
      "https://resource.huygens.knaw.nl/netwerk_verwey/nkarakteristic: 1766\n",
      "https://resource.huygens.knaw.nl/netwerk_verwey/nkoppelnaam: 439\n",
      "https://resource.huygens.knaw.nl/netwerk_verwey/nkoppelname: 497\n",
      "https://resource.huygens.knaw.nl/netwerk_verwey/nlevensbeschouwing: 439\n",
      "https://resource.huygens.knaw.nl/netwerk_verwey/nlidmaatschap: 655\n",
      "https://resource.huygens.knaw.nl/netwerk_verwey/nlink: 22\n",
      "https://resource.huygens.knaw.nl/netwerk_verwey/nliteratuur: 439\n",
      "https://resource.huygens.knaw.nl/netwerk_verwey/nmemberships: 878\n",
      "https://resource.huygens.knaw.nl/netwerk_verwey/nmemberships_other: 439\n",
      "https://resource.huygens.knaw.nl/netwerk_verwey/nname: 502\n",
      "https://resource.huygens.knaw.nl/netwerk_verwey/nnames: 126\n",
      "https://resource.huygens.knaw.nl/netwerk_verwey/nnametype: 63\n",
      "https://resource.huygens.knaw.nl/netwerk_verwey/nnetwork: 878\n",
      "https://resource.huygens.knaw.nl/netwerk_verwey/nnotities: 439\n",
      "https://resource.huygens.knaw.nl/netwerk_verwey/noccupation: 439\n",
      "https://resource.huygens.knaw.nl/netwerk_verwey/nopm_politics: 439\n",
      "https://resource.huygens.knaw.nl/netwerk_verwey/nopmerkingen: 450\n",
      "https://resource.huygens.knaw.nl/netwerk_verwey/nother: 1\n",
      "https://resource.huygens.knaw.nl/netwerk_verwey/noverig: 2\n",
      "https://resource.huygens.knaw.nl/netwerk_verwey/nperiodiek: 1248\n",
      "https://resource.huygens.knaw.nl/netwerk_verwey/nperiodieken: 878\n",
      "https://resource.huygens.knaw.nl/netwerk_verwey/nperiodieken_other: 878\n",
      "https://resource.huygens.knaw.nl/netwerk_verwey/npersname: 878\n",
      "https://resource.huygens.knaw.nl/netwerk_verwey/nplace: 878\n",
      "https://resource.huygens.knaw.nl/netwerk_verwey/npolitics: 439\n",
      "https://resource.huygens.knaw.nl/netwerk_verwey/npostposition: 502\n",
      "https://resource.huygens.knaw.nl/netwerk_verwey/npreposition: 502\n",
      "https://resource.huygens.knaw.nl/netwerk_verwey/nrelatie: 994\n",
      "https://resource.huygens.knaw.nl/netwerk_verwey/nrelatives: 878\n",
      "https://resource.huygens.knaw.nl/netwerk_verwey/nreltype: 497\n",
      "https://resource.huygens.knaw.nl/netwerk_verwey/nsex: 439\n",
      "https://resource.huygens.knaw.nl/netwerk_verwey/nsoort: 11\n",
      "https://resource.huygens.knaw.nl/netwerk_verwey/nsubdomain: 531\n",
      "https://resource.huygens.knaw.nl/netwerk_verwey/nsubdomains: 878\n",
      "https://resource.huygens.knaw.nl/netwerk_verwey/nsubdomains_other: 439\n",
      "https://resource.huygens.knaw.nl/netwerk_verwey/nurl: 11\n",
      "https://resource.huygens.knaw.nl/netwerk_verwey/nval: 118\n",
      "https://resource.huygens.knaw.nl/netwerk_verwey/nvalues: 1756\n",
      "https://resource.huygens.knaw.nl/netwerk_verwey/nverwijzingen: 878\n",
      "https://resource.huygens.knaw.nl/netwerk_verwey/nwoonplaats: 439\n"
     ]
    },
    {
     "data": {
      "text/html": [
       "<h3>fingerprint</h3>"
      ],
      "text/plain": [
       "<IPython.core.display.HTML object>"
      ]
     },
     "metadata": {},
     "output_type": "display_data"
    },
    {
     "data": {
      "text/html": [
       "<a target=\"_blank\" href=\"https://repository.huygens.knaw.nl/v5/resourcesync/u519bd710306620fa7c56d541ae7b9f5b7f57a706/donb/dataset.nq\">https://repository.huygens.knaw.nl/v5/resourcesync/u519bd710306620fa7c56d541ae7b9f5b7f57a706/donb/dataset.nq</a>"
      ],
      "text/plain": [
       "<IPython.core.display.HTML object>"
      ]
     },
     "metadata": {},
     "output_type": "display_data"
    },
    {
     "name": "stdout",
     "output_type": "stream",
     "text": [
      "contexts  :            1\n",
      "statements:       40.901\n",
      "literals  :       32.003\n",
      "literal ratio:    0,78\n",
      "\n",
      "subject netlocs: 4 {'resource.huygens.knaw.nl': 30979, '': 8364, 'www.w3.org': 1544, 'data.huygens.knaw.nl': 14}\n",
      "object netlocs: 4 {'': 4144, 'resource.huygens.knaw.nl': 3204, 'www.w3.org': 1544, 'data.huygens.knaw.nl': 6}\n",
      "\n",
      "example.org | s 0 | p 0 | o 0 | total 0\n",
      "\n",
      "predicate netlocs: 5 | {'resource.huygens.knaw.nl': 35308, 'schema.org': 836, 'www.w3.org': 4748, 'purl.org': 8, 'timbuctoo.huygens.knaw.nl': 1}\n",
      "predicates: 54\n"
     ]
    },
    {
     "data": {
      "text/html": [
       "<a target=\"_blank\" href=\"http://purl.org/dc/terms/description\">http://purl.org/dc/terms/description</a>: 2"
      ],
      "text/plain": [
       "<IPython.core.display.HTML object>"
      ]
     },
     "metadata": {},
     "output_type": "display_data"
    },
    {
     "data": {
      "text/html": [
       "<a target=\"_blank\" href=\"http://purl.org/dc/terms/provenance\">http://purl.org/dc/terms/provenance</a>: 2"
      ],
      "text/plain": [
       "<IPython.core.display.HTML object>"
      ]
     },
     "metadata": {},
     "output_type": "display_data"
    },
    {
     "data": {
      "text/html": [
       "<a target=\"_blank\" href=\"http://purl.org/dc/terms/rightsHolder\">http://purl.org/dc/terms/rightsHolder</a>: 2"
      ],
      "text/plain": [
       "<IPython.core.display.HTML object>"
      ]
     },
     "metadata": {},
     "output_type": "display_data"
    },
    {
     "data": {
      "text/html": [
       "<a target=\"_blank\" href=\"http://purl.org/dc/terms/title\">http://purl.org/dc/terms/title</a>: 2"
      ],
      "text/plain": [
       "<IPython.core.display.HTML object>"
      ]
     },
     "metadata": {},
     "output_type": "display_data"
    },
    {
     "data": {
      "text/html": [
       "<a target=\"_blank\" href=\"http://schema.org/ContactPoint\">http://schema.org/ContactPoint</a>: 2"
      ],
      "text/plain": [
       "<IPython.core.display.HTML object>"
      ]
     },
     "metadata": {},
     "output_type": "display_data"
    },
    {
     "data": {
      "text/html": [
       "<a target=\"_blank\" href=\"http://schema.org/email\">http://schema.org/email</a>: 2"
      ],
      "text/plain": [
       "<IPython.core.display.HTML object>"
      ]
     },
     "metadata": {},
     "output_type": "display_data"
    },
    {
     "data": {
      "text/html": [
       "<a target=\"_blank\" href=\"http://schema.org/name\">http://schema.org/name</a>: 2"
      ],
      "text/plain": [
       "<IPython.core.display.HTML object>"
      ]
     },
     "metadata": {},
     "output_type": "display_data"
    },
    {
     "data": {
      "text/html": [
       "<a target=\"_blank\" href=\"http://schema.org/title\">http://schema.org/title</a>: 830"
      ],
      "text/plain": [
       "<IPython.core.display.HTML object>"
      ]
     },
     "metadata": {},
     "output_type": "display_data"
    },
    {
     "name": "stdout",
     "output_type": "stream",
     "text": [
      "http://timbuctoo.huygens.knaw.nl/static/v5/vocabulary#hasViewConfig: 1\n"
     ]
    },
    {
     "data": {
      "text/html": [
       "<a target=\"_blank\" href=\"http://www.w3.org/1999/02/22-rdf-syntax-ns#type\">http://www.w3.org/1999/02/22-rdf-syntax-ns#type</a>: 4748"
      ],
      "text/plain": [
       "<IPython.core.display.HTML object>"
      ]
     },
     "metadata": {},
     "output_type": "display_data"
    },
    {
     "name": "stdout",
     "output_type": "stream",
     "text": [
      "https://resource.huygens.knaw.nl/donb/dAfbeelding: 1056\n",
      "https://resource.huygens.knaw.nl/donb/daantekening: 830\n",
      "https://resource.huygens.knaw.nl/donb/dafbeelding: 58\n",
      "https://resource.huygens.knaw.nl/donb/dafbeeldingen: 1544\n",
      "https://resource.huygens.knaw.nl/donb/dafschrift: 772\n",
      "https://resource.huygens.knaw.nl/donb/dafschriften: 772\n",
      "https://resource.huygens.knaw.nl/donb/dbestand: 528\n",
      "https://resource.huygens.knaw.nl/donb/dbewerker: 830\n",
      "https://resource.huygens.knaw.nl/donb/ddatering: 772\n",
      "https://resource.huygens.knaw.nl/donb/ddateverv: 772\n",
      "https://resource.huygens.knaw.nl/donb/ddatum: 772\n",
      "https://resource.huygens.knaw.nl/donb/ddeperditum: 772\n",
      "https://resource.huygens.knaw.nl/donb/ddorsalens: 772\n",
      "https://resource.huygens.knaw.nl/donb/dlogo: 58\n",
      "https://resource.huygens.knaw.nl/donb/dlokalisering: 772\n",
      "https://resource.huygens.knaw.nl/donb/dmeta: 528\n",
      "https://resource.huygens.knaw.nl/donb/dnaam: 3164\n",
      "https://resource.huygens.knaw.nl/donb/dnamen: 1544\n",
      "https://resource.huygens.knaw.nl/donb/dnoten: 58\n",
      "https://resource.huygens.knaw.nl/donb/dnummer: 830\n",
      "https://resource.huygens.knaw.nl/donb/donechtheid: 772\n",
      "https://resource.huygens.knaw.nl/donb/dontstaan: 772\n",
      "https://resource.huygens.knaw.nl/donb/dontstaan_algemeen: 772\n",
      "https://resource.huygens.knaw.nl/donb/dontstaan_uitgave: 772\n",
      "https://resource.huygens.knaw.nl/donb/dopmerkingen: 830\n",
      "https://resource.huygens.knaw.nl/donb/dopname: 772\n",
      "https://resource.huygens.knaw.nl/donb/dorigineel: 772\n",
      "https://resource.huygens.knaw.nl/donb/doriginelen: 772\n",
      "https://resource.huygens.knaw.nl/donb/doverlevering: 772\n",
      "https://resource.huygens.knaw.nl/donb/dplaats: 772\n",
      "https://resource.huygens.knaw.nl/donb/dpublicatie: 830\n",
      "https://resource.huygens.knaw.nl/donb/dregest: 830\n",
      "https://resource.huygens.knaw.nl/donb/dregesten: 772\n",
      "https://resource.huygens.knaw.nl/donb/dregesten2: 772\n",
      "https://resource.huygens.knaw.nl/donb/dretro: 772\n",
      "https://resource.huygens.knaw.nl/donb/dsamenhang: 772\n",
      "https://resource.huygens.knaw.nl/donb/dsorigineel: 772\n",
      "https://resource.huygens.knaw.nl/donb/dtekst: 58\n",
      "https://resource.huygens.knaw.nl/donb/dtekstuitgave: 772\n",
      "https://resource.huygens.knaw.nl/donb/dtranscriptie: 772\n",
      "https://resource.huygens.knaw.nl/donb/dtransfix: 772\n",
      "https://resource.huygens.knaw.nl/donb/duitgave: 830\n",
      "https://resource.huygens.knaw.nl/donb/duitgaven: 772\n",
      "https://resource.huygens.knaw.nl/donb/dvertaling: 830\n"
     ]
    },
    {
     "data": {
      "text/html": [
       "<h3>fingerprint</h3>"
      ],
      "text/plain": [
       "<IPython.core.display.HTML object>"
      ]
     },
     "metadata": {},
     "output_type": "display_data"
    },
    {
     "data": {
      "text/html": [
       "<a target=\"_blank\" href=\"https://repository.huygens.knaw.nl/v5/resourcesync/u519bd710306620fa7c56d541ae7b9f5b7f57a706/women_writers/dataset.nq\">https://repository.huygens.knaw.nl/v5/resourcesync/u519bd710306620fa7c56d541ae7b9f5b7f57a706/women_writers/dataset.nq</a>"
      ],
      "text/plain": [
       "<IPython.core.display.HTML object>"
      ]
     },
     "metadata": {},
     "output_type": "display_data"
    },
    {
     "name": "stdout",
     "output_type": "stream",
     "text": [
      "contexts  :            1\n",
      "statements:    2.144.539\n",
      "literals  :    1.133.787\n",
      "literal ratio:    0,53\n",
      "\n",
      "subject netlocs: 3 {'': 1469823, 'resource.huygens.knaw.nl': 531710, 'www.w3.org': 143006}\n",
      "object netlocs: 3 {'www.w3.org': 143006, '': 691055, 'resource.huygens.knaw.nl': 176691}\n",
      "\n",
      "example.org | s 0 | p 0 | o 0 | total 0\n",
      "\n",
      "predicate netlocs: 3 | {'www.w3.org': 328296, 'schema.org': 1816239, 'timbuctoo.huygens.knaw.nl': 4}\n",
      "predicates: 161\n",
      "http://schema.org/_id: 21142\n",
      "http://schema.org/accepted: 50948\n",
      "http://schema.org/bibliography: 5622\n"
     ]
    },
    {
     "data": {
      "text/html": [
       "<a target=\"_blank\" href=\"http://schema.org/birthDate\">http://schema.org/birthDate</a>: 8975"
      ],
      "text/plain": [
       "<IPython.core.display.HTML object>"
      ]
     },
     "metadata": {},
     "output_type": "display_data"
    },
    {
     "data": {
      "text/html": [
       "<a target=\"_blank\" href=\"http://schema.org/children\">http://schema.org/children</a>: 9781"
      ],
      "text/plain": [
       "<IPython.core.display.HTML object>"
      ]
     },
     "metadata": {},
     "output_type": "display_data"
    },
    {
     "name": "stdout",
     "output_type": "stream",
     "text": [
      "http://schema.org/commentsOnPerso: 2508\n",
      "http://schema.org/commentsOnPerson: 2506\n",
      "http://schema.org/commentsOnWor: 2364\n",
      "http://schema.org/commentsOnWork: 2342\n",
      "http://schema.org/component: 58628\n",
      "http://schema.org/components: 25584\n",
      "http://schema.org/containedInAntholog: 8\n",
      "http://schema.org/containedInAnthology: 8\n",
      "http://schema.org/created: 42302\n",
      "http://schema.org/date: 8809\n"
     ]
    },
    {
     "data": {
      "text/html": [
       "<a target=\"_blank\" href=\"http://schema.org/deathDate\">http://schema.org/deathDate</a>: 8970"
      ],
      "text/plain": [
       "<IPython.core.display.HTML object>"
      ]
     },
     "metadata": {},
     "output_type": "display_data"
    },
    {
     "name": "stdout",
     "output_type": "stream",
     "text": [
      "http://schema.org/deleted: 21142\n",
      "http://schema.org/displayName: 72090\n",
      "http://schema.org/documentType: 8953\n",
      "http://schema.org/englishTitle: 1120\n"
     ]
    },
    {
     "data": {
      "text/html": [
       "<a target=\"_blank\" href=\"http://schema.org/gender\">http://schema.org/gender</a>: 10129"
      ],
      "text/plain": [
       "<IPython.core.display.HTML object>"
      ]
     },
     "metadata": {},
     "output_type": "display_data"
    },
    {
     "name": "stdout",
     "output_type": "stream",
     "text": [
      "http://schema.org/hasAdaptatio: 46\n",
      "http://schema.org/hasAdaptation: 38\n",
      "http://schema.org/hasAnnotationsO: 6\n",
      "http://schema.org/hasAnnotationsOn: 6\n",
      "http://schema.org/hasDocumentSourc: 11084\n",
      "http://schema.org/hasDocumentSource: 11084\n",
      "http://schema.org/hasEditio: 4\n",
      "http://schema.org/hasEdition: 4\n",
      "http://schema.org/hasGenr: 10748\n",
      "http://schema.org/hasGenre: 9978\n",
      "http://schema.org/hasPrefac: 16\n",
      "http://schema.org/hasPreface: 16\n",
      "http://schema.org/hasPublishLocatio: 17682\n",
      "http://schema.org/hasPublishLocation: 17676\n",
      "http://schema.org/hasSourceCategor: 10\n",
      "http://schema.org/hasSourceCategory: 10\n",
      "http://schema.org/hasTranslatio: 222\n",
      "http://schema.org/hasTranslation: 168\n",
      "http://schema.org/hasWorkLanguag: 12450\n",
      "http://schema.org/hasWorkLanguage: 12442\n",
      "http://schema.org/health: 3827\n",
      "http://schema.org/id: 94624\n",
      "http://schema.org/isAdaptationO: 94\n",
      "http://schema.org/isAdaptationOf: 92\n",
      "http://schema.org/isAnnotatedI: 2\n",
      "http://schema.org/isAnnotatedIn: 2\n",
      "http://schema.org/isAnthologyContainin: 6\n",
      "http://schema.org/isAnthologyContaining: 4\n",
      "http://schema.org/isBibliographyO: 2\n",
      "http://schema.org/isBibliographyOf: 2\n",
      "http://schema.org/isBiographyO: 68\n",
      "http://schema.org/isBiographyOf: 64\n",
      "http://schema.org/isCensoredB: 2\n",
      "http://schema.org/isCensoredBy: 2\n",
      "http://schema.org/isCensoringO: 2\n",
      "http://schema.org/isCensoringOf: 2\n",
      "http://schema.org/isCopiedB: 6\n",
      "http://schema.org/isCopiedBy: 6\n",
      "http://schema.org/isCopyO: 8\n",
      "http://schema.org/isCopyOf: 8\n",
      "http://schema.org/isCreatedB: 18474\n",
      "http://schema.org/isCreatedBy: 17906\n",
      "http://schema.org/isDedicatedT: 34\n",
      "http://schema.org/isDedicatedTo: 34\n",
      "http://schema.org/isDocumentSourceO: 3700\n",
      "http://schema.org/isDocumentSourceOf: 12\n",
      "http://schema.org/isEditionO: 4\n",
      "http://schema.org/isEditionOf: 4\n",
      "http://schema.org/isIntertextualO: 30\n",
      "http://schema.org/isIntertextualOf: 18\n",
      "http://schema.org/isIntertextualT: 68\n",
      "http://schema.org/isIntertextualTo: 60\n",
      "http://schema.org/isObituaryO: 54\n",
      "http://schema.org/isObituaryOf: 54\n",
      "http://schema.org/isParodiedB: 8\n",
      "http://schema.org/isParodiedBy: 6\n",
      "http://schema.org/isParodyO: 2\n",
      "http://schema.org/isParodyOf: 2\n",
      "http://schema.org/isPlagiarismO: 2\n",
      "http://schema.org/isPlagiarismOf: 2\n",
      "http://schema.org/isPrefaceO: 24\n",
      "http://schema.org/isPrefaceOf: 22\n",
      "http://schema.org/isPublishedB: 1374\n",
      "http://schema.org/isPublishedBy: 1374\n",
      "http://schema.org/isStoredA: 6352\n",
      "http://schema.org/isStoredAt: 6352\n",
      "http://schema.org/isTranslationO: 1576\n",
      "http://schema.org/isTranslationOf: 1566\n",
      "http://schema.org/isWorkCommentedOnI: 3882\n",
      "http://schema.org/isWorkCommentedOnIn: 1952\n",
      "http://schema.org/isWorkListedO: 1352\n",
      "http://schema.org/isWorkListedOn: 950\n",
      "http://schema.org/isWorkMentionedI: 1268\n",
      "http://schema.org/isWorkMentionedIn: 1028\n",
      "http://schema.org/isWorkQuotedI: 2\n",
      "http://schema.org/isWorkQuotedIn: 2\n",
      "http://schema.org/label: 10237\n",
      "http://schema.org/link: 20474\n",
      "http://schema.org/links: 41148\n",
      "http://schema.org/listsPerso: 10\n",
      "http://schema.org/listsPerson: 10\n",
      "http://schema.org/listsWor: 4734\n",
      "http://schema.org/listsWork: 4732\n",
      "http://schema.org/livedIn: 3874\n",
      "http://schema.org/mentionsPerso: 692\n",
      "http://schema.org/mentionsPerson: 664\n",
      "http://schema.org/mentionsWor: 904\n",
      "http://schema.org/mentionsWork: 902\n",
      "http://schema.org/modified: 42302\n"
     ]
    },
    {
     "data": {
      "text/html": [
       "<a target=\"_blank\" href=\"http://schema.org/name\">http://schema.org/name</a>: 97676"
      ],
      "text/plain": [
       "<IPython.core.display.HTML object>"
      ]
     },
     "metadata": {},
     "output_type": "display_data"
    },
    {
     "name": "stdout",
     "output_type": "stream",
     "text": [
      "http://schema.org/names: 20276\n"
     ]
    },
    {
     "data": {
      "text/html": [
       "<a target=\"_blank\" href=\"http://schema.org/nationality\">http://schema.org/nationality</a>: 4831"
      ],
      "text/plain": [
       "<IPython.core.display.HTML object>"
      ]
     },
     "metadata": {},
     "output_type": "display_data"
    },
    {
     "name": "stdout",
     "output_type": "stream",
     "text": [
      "http://schema.org/notes: 15366\n",
      "http://schema.org/path: 50948\n",
      "http://schema.org/personalSituation: 5665\n",
      "http://schema.org/pid: 21147\n",
      "http://schema.org/quotesPerso: 8\n",
      "http://schema.org/quotesPerson: 8\n",
      "http://schema.org/quotesWor: 4\n",
      "http://schema.org/quotesWork: 4\n",
      "http://schema.org/rdfAlternatives: 42302\n",
      "http://schema.org/reference: 6232\n",
      "http://schema.org/relationCount: 8953\n",
      "http://schema.org/relationId: 50948\n",
      "http://schema.org/relationType: 50948\n",
      "http://schema.org/relations: 17906\n",
      "http://schema.org/rev: 72096\n",
      "http://schema.org/tempBirthPlace: 1517\n",
      "http://schema.org/tempChildren: 1847\n",
      "http://schema.org/tempCollaborations: 3282\n",
      "http://schema.org/tempCreator: 8884\n",
      "http://schema.org/tempDeath: 2930\n",
      "http://schema.org/tempDeathPlace: 2930\n",
      "http://schema.org/tempFinancialSituation: 4776\n",
      "http://schema.org/tempLanguage: 3358\n",
      "http://schema.org/tempLocationPlacename: 855\n",
      "http://schema.org/tempMemberships: 3174\n",
      "http://schema.org/tempMotherTongue: 3536\n",
      "http://schema.org/tempName: 7909\n",
      "http://schema.org/tempOldId: 16762\n",
      "http://schema.org/tempOrigin: 8984\n",
      "http://schema.org/tempPlaceOfBirth: 6519\n",
      "http://schema.org/tempPsChildren: 3217\n",
      "http://schema.org/tempPseudonyms: 1958\n",
      "http://schema.org/tempShortName: 121\n",
      "http://schema.org/tempSpouse: 2626\n",
      "http://schema.org/tempType: 280\n",
      "http://schema.org/timeStamp: 42302\n"
     ]
    },
    {
     "data": {
      "text/html": [
       "<a target=\"_blank\" href=\"http://schema.org/title\">http://schema.org/title</a>: 8953"
      ],
      "text/plain": [
       "<IPython.core.display.HTML object>"
      ]
     },
     "metadata": {},
     "output_type": "display_data"
    },
    {
     "name": "stdout",
     "output_type": "stream",
     "text": [
      "http://schema.org/type: 156669\n",
      "http://schema.org/types: 20276\n"
     ]
    },
    {
     "data": {
      "text/html": [
       "<a target=\"_blank\" href=\"http://schema.org/url\">http://schema.org/url</a>: 10237"
      ],
      "text/plain": [
       "<IPython.core.display.HTML object>"
      ]
     },
     "metadata": {},
     "output_type": "display_data"
    },
    {
     "name": "stdout",
     "output_type": "stream",
     "text": [
      "http://schema.org/userId: 42302\n",
      "http://schema.org/username: 16770\n"
     ]
    },
    {
     "data": {
      "text/html": [
       "<a target=\"_blank\" href=\"http://schema.org/value\">http://schema.org/value</a>: 29314"
      ],
      "text/plain": [
       "<IPython.core.display.HTML object>"
      ]
     },
     "metadata": {},
     "output_type": "display_data"
    },
    {
     "name": "stdout",
     "output_type": "stream",
     "text": [
      "http://schema.org/variationRef: 87352\n",
      "http://schema.org/variationRefs: 42302\n",
      "http://schema.org/vreId: 42302\n",
      "http://timbuctoo.huygens.knaw.nl/static/v5/vocabulary#hasViewConfig: 4\n"
     ]
    },
    {
     "data": {
      "text/html": [
       "<a target=\"_blank\" href=\"http://www.w3.org/1999/02/22-rdf-syntax-ns#type\">http://www.w3.org/1999/02/22-rdf-syntax-ns#type</a>: 328296"
      ],
      "text/plain": [
       "<IPython.core.display.HTML object>"
      ]
     },
     "metadata": {},
     "output_type": "display_data"
    },
    {
     "data": {
      "text/html": [
       "<h3>fingerprint</h3>"
      ],
      "text/plain": [
       "<IPython.core.display.HTML object>"
      ]
     },
     "metadata": {},
     "output_type": "display_data"
    },
    {
     "data": {
      "text/html": [
       "<a target=\"_blank\" href=\"https://repository.huygens.knaw.nl/v5/resourcesync/u519bd710306620fa7c56d541ae7b9f5b7f57a706/declercq/dataset.nq\">https://repository.huygens.knaw.nl/v5/resourcesync/u519bd710306620fa7c56d541ae7b9f5b7f57a706/declercq/dataset.nq</a>"
      ],
      "text/plain": [
       "<IPython.core.display.HTML object>"
      ]
     },
     "metadata": {},
     "output_type": "display_data"
    },
    {
     "name": "stdout",
     "output_type": "stream",
     "text": [
      "contexts  :            1\n",
      "statements:      143.252\n",
      "literals  :      117.204\n",
      "literal ratio:    0,82\n",
      "\n",
      "subject netlocs: 2 {'resource.huygens.knaw.nl': 143242, 'data.huygens.knaw.nl': 10}\n",
      "object netlocs: 2 {'resource.huygens.knaw.nl': 26044, 'data.huygens.knaw.nl': 4}\n",
      "\n",
      "example.org | s 0 | p 0 | o 0 | total 0\n",
      "\n",
      "predicate netlocs: 4 | {'www.w3.org': 26044, 'schema.org': 13028, 'resource.huygens.knaw.nl': 104176, 'purl.org': 4}\n",
      "predicates: 16\n"
     ]
    },
    {
     "data": {
      "text/html": [
       "<a target=\"_blank\" href=\"http://purl.org/dc/terms/description\">http://purl.org/dc/terms/description</a>: 1"
      ],
      "text/plain": [
       "<IPython.core.display.HTML object>"
      ]
     },
     "metadata": {},
     "output_type": "display_data"
    },
    {
     "data": {
      "text/html": [
       "<a target=\"_blank\" href=\"http://purl.org/dc/terms/rightsHolder\">http://purl.org/dc/terms/rightsHolder</a>: 2"
      ],
      "text/plain": [
       "<IPython.core.display.HTML object>"
      ]
     },
     "metadata": {},
     "output_type": "display_data"
    },
    {
     "data": {
      "text/html": [
       "<a target=\"_blank\" href=\"http://purl.org/dc/terms/title\">http://purl.org/dc/terms/title</a>: 1"
      ],
      "text/plain": [
       "<IPython.core.display.HTML object>"
      ]
     },
     "metadata": {},
     "output_type": "display_data"
    },
    {
     "data": {
      "text/html": [
       "<a target=\"_blank\" href=\"http://schema.org/ContactPoint\">http://schema.org/ContactPoint</a>: 2"
      ],
      "text/plain": [
       "<IPython.core.display.HTML object>"
      ]
     },
     "metadata": {},
     "output_type": "display_data"
    },
    {
     "data": {
      "text/html": [
       "<a target=\"_blank\" href=\"http://schema.org/email\">http://schema.org/email</a>: 2"
      ],
      "text/plain": [
       "<IPython.core.display.HTML object>"
      ]
     },
     "metadata": {},
     "output_type": "display_data"
    },
    {
     "data": {
      "text/html": [
       "<a target=\"_blank\" href=\"http://schema.org/name\">http://schema.org/name</a>: 2"
      ],
      "text/plain": [
       "<IPython.core.display.HTML object>"
      ]
     },
     "metadata": {},
     "output_type": "display_data"
    },
    {
     "data": {
      "text/html": [
       "<a target=\"_blank\" href=\"http://schema.org/title\">http://schema.org/title</a>: 13022"
      ],
      "text/plain": [
       "<IPython.core.display.HTML object>"
      ]
     },
     "metadata": {},
     "output_type": "display_data"
    },
    {
     "data": {
      "text/html": [
       "<a target=\"_blank\" href=\"http://www.w3.org/1999/02/22-rdf-syntax-ns#type\">http://www.w3.org/1999/02/22-rdf-syntax-ns#type</a>: 26044"
      ],
      "text/plain": [
       "<IPython.core.display.HTML object>"
      ]
     },
     "metadata": {},
     "output_type": "display_data"
    },
    {
     "name": "stdout",
     "output_type": "stream",
     "text": [
      "https://resource.huygens.knaw.nl/declercq/dingevoerd_door: 13022\n",
      "https://resource.huygens.knaw.nl/declercq/djaar: 13022\n",
      "https://resource.huygens.knaw.nl/declercq/dlinks_of_rechts: 13022\n",
      "https://resource.huygens.knaw.nl/declercq/dopmerkingen: 13022\n",
      "https://resource.huygens.knaw.nl/declercq/dpaginanummer: 13022\n",
      "https://resource.huygens.knaw.nl/declercq/dscannummer: 13022\n",
      "https://resource.huygens.knaw.nl/declercq/dtranscriptie: 13022\n",
      "https://resource.huygens.knaw.nl/declercq/durl: 13022\n"
     ]
    },
    {
     "data": {
      "text/html": [
       "<h3>fingerprint</h3>"
      ],
      "text/plain": [
       "<IPython.core.display.HTML object>"
      ]
     },
     "metadata": {},
     "output_type": "display_data"
    },
    {
     "data": {
      "text/html": [
       "<a target=\"_blank\" href=\"https://repository.huygens.knaw.nl/v5/resourcesync/u519bd710306620fa7c56d541ae7b9f5b7f57a706/test_ww/dataset.nq\">https://repository.huygens.knaw.nl/v5/resourcesync/u519bd710306620fa7c56d541ae7b9f5b7f57a706/test_ww/dataset.nq</a>"
      ],
      "text/plain": [
       "<IPython.core.display.HTML object>"
      ]
     },
     "metadata": {},
     "output_type": "display_data"
    },
    {
     "name": "stdout",
     "output_type": "stream",
     "text": [
      "contexts  :            1\n",
      "statements:      136.479\n",
      "literals  :       62.369\n",
      "literal ratio:    0,46\n",
      "\n",
      "subject netlocs: 3 {'': 80001, 'resource.huygens.knaw.nl': 46875, 'www.w3.org': 9603}\n",
      "object netlocs: 3 {'resource.huygens.knaw.nl': 21934, 'www.w3.org': 9603, '': 42573}\n",
      "\n",
      "example.org | s 0 | p 0 | o 0 | total 0\n",
      "\n",
      "predicate netlocs: 4 | {'schema.org': 106471, 'www.purl.org': 4881, 'www.w3.org': 25126, 'timbuctoo.huygens.knaw.nl': 1}\n",
      "predicates: 42\n",
      "http://schema.org/_id: 2960\n"
     ]
    },
    {
     "data": {
      "text/html": [
       "<a target=\"_blank\" href=\"http://schema.org/birthDate\">http://schema.org/birthDate</a>: 215"
      ],
      "text/plain": [
       "<IPython.core.display.HTML object>"
      ]
     },
     "metadata": {},
     "output_type": "display_data"
    },
    {
     "name": "stdout",
     "output_type": "stream",
     "text": [
      "http://schema.org/created: 6320\n"
     ]
    },
    {
     "data": {
      "text/html": [
       "<a target=\"_blank\" href=\"http://schema.org/deathDate\">http://schema.org/deathDate</a>: 239"
      ],
      "text/plain": [
       "<IPython.core.display.HTML object>"
      ]
     },
     "metadata": {},
     "output_type": "display_data"
    },
    {
     "name": "stdout",
     "output_type": "stream",
     "text": [
      "http://schema.org/deleted: 2960\n",
      "http://schema.org/displayName: 2958\n"
     ]
    },
    {
     "data": {
      "text/html": [
       "<a target=\"_blank\" href=\"http://schema.org/endDate\">http://schema.org/endDate</a>: 91"
      ],
      "text/plain": [
       "<IPython.core.display.HTML object>"
      ]
     },
     "metadata": {},
     "output_type": "display_data"
    },
    {
     "name": "stdout",
     "output_type": "stream",
     "text": [
      "http://schema.org/floruit: 182\n"
     ]
    },
    {
     "data": {
      "text/html": [
       "<a target=\"_blank\" href=\"http://schema.org/gender\">http://schema.org/gender</a>: 900"
      ],
      "text/plain": [
       "<IPython.core.display.HTML object>"
      ]
     },
     "metadata": {},
     "output_type": "display_data"
    },
    {
     "name": "stdout",
     "output_type": "stream",
     "text": [
      "http://schema.org/id: 7483\n",
      "http://schema.org/label: 73\n",
      "http://schema.org/link: 146\n",
      "http://schema.org/links: 4766\n",
      "http://schema.org/modified: 6320\n"
     ]
    },
    {
     "data": {
      "text/html": [
       "<a target=\"_blank\" href=\"http://schema.org/name\">http://schema.org/name</a>: 2960"
      ],
      "text/plain": [
       "<IPython.core.display.HTML object>"
      ]
     },
     "metadata": {},
     "output_type": "display_data"
    },
    {
     "name": "stdout",
     "output_type": "stream",
     "text": [
      "http://schema.org/names: 1800\n",
      "http://schema.org/pid: 2960\n",
      "http://schema.org/rdfAlternatives: 6320\n",
      "http://schema.org/rev: 2960\n"
     ]
    },
    {
     "data": {
      "text/html": [
       "<a target=\"_blank\" href=\"http://schema.org/startDate\">http://schema.org/startDate</a>: 91"
      ],
      "text/plain": [
       "<IPython.core.display.HTML object>"
      ]
     },
     "metadata": {},
     "output_type": "display_data"
    },
    {
     "name": "stdout",
     "output_type": "stream",
     "text": [
      "http://schema.org/tempLocationPlacename: 855\n",
      "http://schema.org/tempOrigin: 129\n",
      "http://schema.org/tempShortName: 121\n",
      "http://schema.org/tempType: 280\n",
      "http://schema.org/timeStamp: 6320\n",
      "http://schema.org/type: 11926\n"
     ]
    },
    {
     "data": {
      "text/html": [
       "<a target=\"_blank\" href=\"http://schema.org/url\">http://schema.org/url</a>: 73"
      ],
      "text/plain": [
       "<IPython.core.display.HTML object>"
      ]
     },
     "metadata": {},
     "output_type": "display_data"
    },
    {
     "name": "stdout",
     "output_type": "stream",
     "text": [
      "http://schema.org/userId: 6320\n",
      "http://schema.org/username: 137\n",
      "http://schema.org/variationRef: 14966\n",
      "http://schema.org/variationRefs: 6320\n",
      "http://schema.org/vreId: 6320\n",
      "http://timbuctoo.huygens.knaw.nl/static/v5/vocabulary#hasViewConfig: 1\n",
      "http://www.purl.org/pnv/baseSurname: 917\n",
      "http://www.purl.org/pnv/givenName: 835\n",
      "http://www.purl.org/pnv/givenNameSuffix: 4\n",
      "http://www.purl.org/pnv/literalName: 922\n",
      "http://www.purl.org/pnv/name: 1844\n",
      "http://www.purl.org/pnv/prefix: 9\n",
      "http://www.purl.org/pnv/surnamePrefix: 277\n",
      "http://www.purl.org/pnv/trailingPatronym: 73\n"
     ]
    },
    {
     "data": {
      "text/html": [
       "<a target=\"_blank\" href=\"http://www.w3.org/1999/02/22-rdf-syntax-ns#type\">http://www.w3.org/1999/02/22-rdf-syntax-ns#type</a>: 25126"
      ],
      "text/plain": [
       "<IPython.core.display.HTML object>"
      ]
     },
     "metadata": {},
     "output_type": "display_data"
    },
    {
     "data": {
      "text/html": [
       "<h3>fingerprint</h3>"
      ],
      "text/plain": [
       "<IPython.core.display.HTML object>"
      ]
     },
     "metadata": {},
     "output_type": "display_data"
    },
    {
     "data": {
      "text/html": [
       "<a target=\"_blank\" href=\"https://repository.huygens.knaw.nl/v5/resourcesync/u519bd710306620fa7c56d541ae7b9f5b7f57a706/missiezending/dataset.nq\">https://repository.huygens.knaw.nl/v5/resourcesync/u519bd710306620fa7c56d541ae7b9f5b7f57a706/missiezending/dataset.nq</a>"
      ],
      "text/plain": [
       "<IPython.core.display.HTML object>"
      ]
     },
     "metadata": {},
     "output_type": "display_data"
    },
    {
     "name": "stdout",
     "output_type": "stream",
     "text": [
      "contexts  :            1\n",
      "statements:      118.796\n",
      "literals  :       71.726\n",
      "literal ratio:    0,60\n",
      "\n",
      "subject netlocs: 4 {'': 85777, 'www.w3.org': 8106, 'resource.huygens.knaw.nl': 24903, 'data.huygens.knaw.nl': 10}\n",
      "object netlocs: 4 {'': 29202, 'resource.huygens.knaw.nl': 9758, 'www.w3.org': 8106, 'data.huygens.knaw.nl': 4}\n",
      "\n",
      "example.org | s 0 | p 0 | o 0 | total 0\n",
      "\n",
      "predicate netlocs: 5 | {'resource.huygens.knaw.nl': 100094, 'www.w3.org': 17864, 'schema.org': 832, 'timbuctoo.huygens.knaw.nl': 2, 'purl.org': 4}\n",
      "predicates: 88\n"
     ]
    },
    {
     "data": {
      "text/html": [
       "<a target=\"_blank\" href=\"http://purl.org/dc/terms/description\">http://purl.org/dc/terms/description</a>: 1"
      ],
      "text/plain": [
       "<IPython.core.display.HTML object>"
      ]
     },
     "metadata": {},
     "output_type": "display_data"
    },
    {
     "data": {
      "text/html": [
       "<a target=\"_blank\" href=\"http://purl.org/dc/terms/rightsHolder\">http://purl.org/dc/terms/rightsHolder</a>: 2"
      ],
      "text/plain": [
       "<IPython.core.display.HTML object>"
      ]
     },
     "metadata": {},
     "output_type": "display_data"
    },
    {
     "data": {
      "text/html": [
       "<a target=\"_blank\" href=\"http://purl.org/dc/terms/title\">http://purl.org/dc/terms/title</a>: 1"
      ],
      "text/plain": [
       "<IPython.core.display.HTML object>"
      ]
     },
     "metadata": {},
     "output_type": "display_data"
    },
    {
     "data": {
      "text/html": [
       "<a target=\"_blank\" href=\"http://schema.org/ContactPoint\">http://schema.org/ContactPoint</a>: 2"
      ],
      "text/plain": [
       "<IPython.core.display.HTML object>"
      ]
     },
     "metadata": {},
     "output_type": "display_data"
    },
    {
     "data": {
      "text/html": [
       "<a target=\"_blank\" href=\"http://schema.org/email\">http://schema.org/email</a>: 2"
      ],
      "text/plain": [
       "<IPython.core.display.HTML object>"
      ]
     },
     "metadata": {},
     "output_type": "display_data"
    },
    {
     "data": {
      "text/html": [
       "<a target=\"_blank\" href=\"http://schema.org/name\">http://schema.org/name</a>: 794"
      ],
      "text/plain": [
       "<IPython.core.display.HTML object>"
      ]
     },
     "metadata": {},
     "output_type": "display_data"
    },
    {
     "data": {
      "text/html": [
       "<a target=\"_blank\" href=\"http://schema.org/title\">http://schema.org/title</a>: 34"
      ],
      "text/plain": [
       "<IPython.core.display.HTML object>"
      ]
     },
     "metadata": {},
     "output_type": "display_data"
    },
    {
     "name": "stdout",
     "output_type": "stream",
     "text": [
      "http://timbuctoo.huygens.knaw.nl/static/v5/vocabulary#hasViewConfig: 2\n"
     ]
    },
    {
     "data": {
      "text/html": [
       "<a target=\"_blank\" href=\"http://www.w3.org/1999/02/22-rdf-syntax-ns#type\">http://www.w3.org/1999/02/22-rdf-syntax-ns#type</a>: 17864"
      ],
      "text/plain": [
       "<IPython.core.display.HTML object>"
      ]
     },
     "metadata": {},
     "output_type": "display_data"
    },
    {
     "name": "stdout",
     "output_type": "stream",
     "text": [
      "https://resource.huygens.knaw.nl/missiezending/mLokatie: 2730\n",
      "https://resource.huygens.knaw.nl/missiezending/maantekeningen: 826\n",
      "https://resource.huygens.knaw.nl/missiezending/malternatieve_namen: 1584\n",
      "https://resource.huygens.knaw.nl/missiezending/mankernaam: 27\n",
      "https://resource.huygens.knaw.nl/missiezending/manno: 54\n",
      "https://resource.huygens.knaw.nl/missiezending/mannotatie: 68\n",
      "https://resource.huygens.knaw.nl/missiezending/mannotatie_tekst: 27\n",
      "https://resource.huygens.knaw.nl/missiezending/marchief: 1848\n",
      "https://resource.huygens.knaw.nl/missiezending/marchieven: 1584\n",
      "https://resource.huygens.knaw.nl/missiezending/mauthor: 2557\n",
      "https://resource.huygens.knaw.nl/missiezending/mav_mat: 924\n",
      "https://resource.huygens.knaw.nl/missiezending/mbeschrijving: 924\n",
      "https://resource.huygens.knaw.nl/missiezending/mbeschrijving_eng: 924\n",
      "https://resource.huygens.knaw.nl/missiezending/mbewaarplaats: 924\n",
      "https://resource.huygens.knaw.nl/missiezending/mbewerkers: 792\n",
      "https://resource.huygens.knaw.nl/missiezending/mbiografie: 128\n",
      "https://resource.huygens.knaw.nl/missiezending/mbiografie_eng: 128\n",
      "https://resource.huygens.knaw.nl/missiezending/mbron: 196\n",
      "https://resource.huygens.knaw.nl/missiezending/mbronnen_verslaglegging: 792\n",
      "https://resource.huygens.knaw.nl/missiezending/mbronnenpublicatie: 1328\n",
      "https://resource.huygens.knaw.nl/missiezending/mcontinent: 647\n",
      "https://resource.huygens.knaw.nl/missiezending/mcontinenten: 1584\n",
      "https://resource.huygens.knaw.nl/missiezending/mdatum_laatste_wijziging: 792\n",
      "https://resource.huygens.knaw.nl/missiezending/mdenominatie: 792\n",
      "https://resource.huygens.knaw.nl/missiezending/mdoelstelling: 664\n",
      "https://resource.huygens.knaw.nl/missiezending/minformatiewaarde: 792\n",
      "https://resource.huygens.knaw.nl/missiezending/mkommissie_memmoires: 792\n",
      "https://resource.huygens.knaw.nl/missiezending/mkorte_geschiedenis: 664\n",
      "https://resource.huygens.knaw.nl/missiezending/mkorte_geschiedenis_eng: 664\n",
      "https://resource.huygens.knaw.nl/missiezending/mliteratuur: 3016\n",
      "https://resource.huygens.knaw.nl/missiezending/mliteratuurlijst: 1584\n",
      "https://resource.huygens.knaw.nl/missiezending/mlokatie_1: 1365\n",
      "https://resource.huygens.knaw.nl/missiezending/mlokatie_2a: 1365\n",
      "https://resource.huygens.knaw.nl/missiezending/mlokatie_2b: 1365\n",
      "https://resource.huygens.knaw.nl/missiezending/mlokatie_2c: 1365\n",
      "https://resource.huygens.knaw.nl/missiezending/mlokatie_2d: 1365\n",
      "https://resource.huygens.knaw.nl/missiezending/mlokatie_2e: 1365\n",
      "https://resource.huygens.knaw.nl/missiezending/mlokatie_2f: 1365\n",
      "https://resource.huygens.knaw.nl/missiezending/mlokatie_2g: 1365\n",
      "https://resource.huygens.knaw.nl/missiezending/mlokatie_activiteiten: 1584\n",
      "https://resource.huygens.knaw.nl/missiezending/mlosse_archiefstukken: 792\n",
      "https://resource.huygens.knaw.nl/missiezending/mnaam: 1622\n",
      "https://resource.huygens.knaw.nl/missiezending/mnadere_toegang: 792\n",
      "https://resource.huygens.knaw.nl/missiezending/mnamen: 2714\n",
      "https://resource.huygens.knaw.nl/missiezending/momvang: 924\n",
      "https://resource.huygens.knaw.nl/missiezending/mopenbaarheid: 924\n",
      "https://resource.huygens.knaw.nl/missiezending/mopm_openbaarheid: 924\n",
      "https://resource.huygens.knaw.nl/missiezending/mopm_toegang_soort: 924\n",
      "https://resource.huygens.knaw.nl/missiezending/mopmerkingen: 3349\n",
      "https://resource.huygens.knaw.nl/missiezending/mopvolger: 1328\n",
      "https://resource.huygens.knaw.nl/missiezending/mopvolgers: 354\n",
      "https://resource.huygens.knaw.nl/missiezending/morganisatie: 664\n",
      "https://resource.huygens.knaw.nl/missiezending/morganisatie_eng: 664\n",
      "https://resource.huygens.knaw.nl/missiezending/mpaginering: 2557\n",
      "https://resource.huygens.knaw.nl/missiezending/mperiode: 1057\n",
      "https://resource.huygens.knaw.nl/missiezending/mperiode_archief: 924\n",
      "https://resource.huygens.knaw.nl/missiezending/mperiodiek: 1902\n",
      "https://resource.huygens.knaw.nl/missiezending/mperiodieken: 1328\n",
      "https://resource.huygens.knaw.nl/missiezending/mppn: 2557\n",
      "https://resource.huygens.knaw.nl/missiezending/mprotected: 2557\n",
      "https://resource.huygens.knaw.nl/missiezending/mpublished_in: 2557\n",
      "https://resource.huygens.knaw.nl/missiezending/mpublisher: 2557\n",
      "https://resource.huygens.knaw.nl/missiezending/mrelation: 971\n",
      "https://resource.huygens.knaw.nl/missiezending/mrelevantie: 924\n",
      "https://resource.huygens.knaw.nl/missiezending/mseries: 2557\n",
      "https://resource.huygens.knaw.nl/missiezending/msubarchief_van: 924\n",
      "https://resource.huygens.knaw.nl/missiezending/mtaak_activiteit: 2334\n",
      "https://resource.huygens.knaw.nl/missiezending/mtaken_activiteiten: 1328\n",
      "https://resource.huygens.knaw.nl/missiezending/mtekst: 34\n",
      "https://resource.huygens.knaw.nl/missiezending/mtitle: 2557\n",
      "https://resource.huygens.knaw.nl/missiezending/mtoegang_soort: 924\n",
      "https://resource.huygens.knaw.nl/missiezending/mtoegang_titel: 924\n",
      "https://resource.huygens.knaw.nl/missiezending/murl: 2557\n",
      "https://resource.huygens.knaw.nl/missiezending/mverwijzing: 792\n",
      "https://resource.huygens.knaw.nl/missiezending/mverwijzing_link: 1584\n",
      "https://resource.huygens.knaw.nl/missiezending/mvoorloper: 1328\n",
      "https://resource.huygens.knaw.nl/missiezending/mvoorlopers: 176\n",
      "https://resource.huygens.knaw.nl/missiezending/mwebsites: 792\n",
      "https://resource.huygens.knaw.nl/missiezending/myear: 2557\n"
     ]
    },
    {
     "data": {
      "text/html": [
       "<h3>fingerprint</h3>"
      ],
      "text/plain": [
       "<IPython.core.display.HTML object>"
      ]
     },
     "metadata": {},
     "output_type": "display_data"
    },
    {
     "data": {
      "text/html": [
       "<a target=\"_blank\" href=\"https://repository.huygens.knaw.nl/v5/resourcesync/u519bd710306620fa7c56d541ae7b9f5b7f57a706/gp_2/dataset.nq\">https://repository.huygens.knaw.nl/v5/resourcesync/u519bd710306620fa7c56d541ae7b9f5b7f57a706/gp_2/dataset.nq</a>"
      ],
      "text/plain": [
       "<IPython.core.display.HTML object>"
      ]
     },
     "metadata": {},
     "output_type": "display_data"
    },
    {
     "name": "stdout",
     "output_type": "stream",
     "text": [
      "contexts  :            1\n",
      "statements:    1.295.290\n",
      "literals  :      369.200\n",
      "literal ratio:    0,29\n",
      "\n",
      "subject netlocs: 4 {'www.w3.org': 184128, 'resource.huygens.knaw.nl': 475753, '': 635395, 'data.huygens.knaw.nl': 14}\n",
      "object netlocs: 4 {'': 476791, 'www.w3.org': 184128, 'resource.huygens.knaw.nl': 265165, 'data.huygens.knaw.nl': 6}\n",
      "\n",
      "example.org | s 0 | p 0 | o 0 | total 0\n",
      "\n",
      "predicate netlocs: 5 | {'www.w3.org': 408632, 'resource.huygens.knaw.nl': 886632, 'timbuctoo.huygens.knaw.nl': 12, 'purl.org': 8, 'schema.org': 6}\n",
      "predicates: 63\n"
     ]
    },
    {
     "data": {
      "text/html": [
       "<a target=\"_blank\" href=\"http://purl.org/dc/terms/description\">http://purl.org/dc/terms/description</a>: 2"
      ],
      "text/plain": [
       "<IPython.core.display.HTML object>"
      ]
     },
     "metadata": {},
     "output_type": "display_data"
    },
    {
     "data": {
      "text/html": [
       "<a target=\"_blank\" href=\"http://purl.org/dc/terms/provenance\">http://purl.org/dc/terms/provenance</a>: 2"
      ],
      "text/plain": [
       "<IPython.core.display.HTML object>"
      ]
     },
     "metadata": {},
     "output_type": "display_data"
    },
    {
     "data": {
      "text/html": [
       "<a target=\"_blank\" href=\"http://purl.org/dc/terms/rightsHolder\">http://purl.org/dc/terms/rightsHolder</a>: 2"
      ],
      "text/plain": [
       "<IPython.core.display.HTML object>"
      ]
     },
     "metadata": {},
     "output_type": "display_data"
    },
    {
     "data": {
      "text/html": [
       "<a target=\"_blank\" href=\"http://purl.org/dc/terms/title\">http://purl.org/dc/terms/title</a>: 2"
      ],
      "text/plain": [
       "<IPython.core.display.HTML object>"
      ]
     },
     "metadata": {},
     "output_type": "display_data"
    },
    {
     "data": {
      "text/html": [
       "<a target=\"_blank\" href=\"http://schema.org/ContactPoint\">http://schema.org/ContactPoint</a>: 2"
      ],
      "text/plain": [
       "<IPython.core.display.HTML object>"
      ]
     },
     "metadata": {},
     "output_type": "display_data"
    },
    {
     "data": {
      "text/html": [
       "<a target=\"_blank\" href=\"http://schema.org/email\">http://schema.org/email</a>: 2"
      ],
      "text/plain": [
       "<IPython.core.display.HTML object>"
      ]
     },
     "metadata": {},
     "output_type": "display_data"
    },
    {
     "data": {
      "text/html": [
       "<a target=\"_blank\" href=\"http://schema.org/name\">http://schema.org/name</a>: 2"
      ],
      "text/plain": [
       "<IPython.core.display.HTML object>"
      ]
     },
     "metadata": {},
     "output_type": "display_data"
    },
    {
     "name": "stdout",
     "output_type": "stream",
     "text": [
      "http://timbuctoo.huygens.knaw.nl/static/v5/vocabulary#hasIndexConfig: 6\n",
      "http://timbuctoo.huygens.knaw.nl/static/v5/vocabulary#hasViewConfig: 6\n"
     ]
    },
    {
     "data": {
      "text/html": [
       "<a target=\"_blank\" href=\"http://www.w3.org/1999/02/22-rdf-syntax-ns#type\">http://www.w3.org/1999/02/22-rdf-syntax-ns#type</a>: 408632"
      ],
      "text/plain": [
       "<IPython.core.display.HTML object>"
      ]
     },
     "metadata": {},
     "output_type": "display_data"
    },
    {
     "name": "stdout",
     "output_type": "stream",
     "text": [
      "https://resource.huygens.knaw.nl/godsdienstpolitiek/gaantekeningen: 20188\n",
      "https://resource.huygens.knaw.nl/godsdienstpolitiek/gaddressee: 12966\n",
      "https://resource.huygens.knaw.nl/godsdienstpolitiek/garchival_references: 2536\n",
      "https://resource.huygens.knaw.nl/godsdienstpolitiek/garchival_section_number: 16973\n",
      "https://resource.huygens.knaw.nl/godsdienstpolitiek/gauthor: 15502\n",
      "https://resource.huygens.knaw.nl/godsdienstpolitiek/gbesluit: 8014\n",
      "https://resource.huygens.knaw.nl/godsdienstpolitiek/gbesluit_invnr: 4007\n",
      "https://resource.huygens.knaw.nl/godsdienstpolitiek/gbijblad: 651\n",
      "https://resource.huygens.knaw.nl/godsdienstpolitiek/gcomment: 40661\n",
      "https://resource.huygens.knaw.nl/godsdienstpolitiek/gdate: 33777\n",
      "https://resource.huygens.knaw.nl/godsdienstpolitiek/gdate_besluit: 13768\n",
      "https://resource.huygens.knaw.nl/godsdienstpolitiek/gdate_document: 31004\n",
      "https://resource.huygens.knaw.nl/godsdienstpolitiek/gdate_regulation: 1302\n",
      "https://resource.huygens.knaw.nl/godsdienstpolitiek/gdecisionmaker: 10240\n",
      "https://resource.huygens.knaw.nl/godsdienstpolitiek/gdossier: 28\n",
      "https://resource.huygens.knaw.nl/godsdienstpolitiek/ggeography: 42726\n",
      "https://resource.huygens.knaw.nl/godsdienstpolitiek/gindex_invnr: 6733\n",
      "https://resource.huygens.knaw.nl/godsdienstpolitiek/gkeyword: 68877\n",
      "https://resource.huygens.knaw.nl/godsdienstpolitiek/gkeyword_cc: 35304\n",
      "https://resource.huygens.knaw.nl/godsdienstpolitiek/gkeyword_geography: 40376\n",
      "https://resource.huygens.knaw.nl/godsdienstpolitiek/gkeyword_hbco: 35304\n",
      "https://resource.huygens.knaw.nl/godsdienstpolitiek/gkeyword_islam: 35304\n",
      "https://resource.huygens.knaw.nl/godsdienstpolitiek/gkeyword_pc: 35304\n",
      "https://resource.huygens.knaw.nl/godsdienstpolitiek/gkeyword_person: 40376\n",
      "https://resource.huygens.knaw.nl/godsdienstpolitiek/gkeyword_subject: 5072\n",
      "https://resource.huygens.knaw.nl/godsdienstpolitiek/glink_scan: 3187\n",
      "https://resource.huygens.knaw.nl/godsdienstpolitiek/gmailrapport: 12466\n",
      "https://resource.huygens.knaw.nl/godsdienstpolitiek/gmailrapport_invnr: 6233\n",
      "https://resource.huygens.knaw.nl/godsdienstpolitiek/gnumber_in_index: 6733\n",
      "https://resource.huygens.knaw.nl/godsdienstpolitiek/gother_law: 651\n",
      "https://resource.huygens.knaw.nl/godsdienstpolitiek/gperson: 22476\n",
      "https://resource.huygens.knaw.nl/godsdienstpolitiek/gpublished_in: 2536\n",
      "https://resource.huygens.knaw.nl/godsdienstpolitiek/grecipient: 2536\n",
      "https://resource.huygens.knaw.nl/godsdienstpolitiek/greference_kviv: 17624\n",
      "https://resource.huygens.knaw.nl/godsdienstpolitiek/grelated_records_besluiten: 35304\n",
      "https://resource.huygens.knaw.nl/godsdienstpolitiek/grelated_records_mailrapporten: 35304\n",
      "https://resource.huygens.knaw.nl/godsdienstpolitiek/grelated_records_staatsblad: 35304\n",
      "https://resource.huygens.knaw.nl/godsdienstpolitiek/grelated_records_verbaal: 35304\n",
      "https://resource.huygens.knaw.nl/godsdienstpolitiek/grelation: 8405\n",
      "https://resource.huygens.knaw.nl/godsdienstpolitiek/gremarks: 20188\n",
      "https://resource.huygens.knaw.nl/godsdienstpolitiek/gscan: 3187\n",
      "https://resource.huygens.knaw.nl/godsdienstpolitiek/gsecret: 16973\n",
      "https://resource.huygens.knaw.nl/godsdienstpolitiek/gsection_number: 679\n",
      "https://resource.huygens.knaw.nl/godsdienstpolitiek/gsee_also: 2536\n",
      "https://resource.huygens.knaw.nl/godsdienstpolitiek/gshort_description: 20188\n",
      "https://resource.huygens.knaw.nl/godsdienstpolitiek/gstaatsblad: 1302\n",
      "https://resource.huygens.knaw.nl/godsdienstpolitiek/gsubject: 2672\n",
      "https://resource.huygens.knaw.nl/godsdienstpolitiek/gsummary: 4007\n",
      "https://resource.huygens.knaw.nl/godsdienstpolitiek/gtitledossier: 28\n",
      "https://resource.huygens.knaw.nl/godsdienstpolitiek/gverbaal: 13466\n",
      "https://resource.huygens.knaw.nl/godsdienstpolitiek/gverbaal_found: 6733\n",
      "https://resource.huygens.knaw.nl/godsdienstpolitiek/gverbaal_invnr: 6733\n",
      "https://resource.huygens.knaw.nl/godsdienstpolitiek/gyear: 6884\n"
     ]
    },
    {
     "data": {
      "text/html": [
       "<h3>fingerprint</h3>"
      ],
      "text/plain": [
       "<IPython.core.display.HTML object>"
      ]
     },
     "metadata": {},
     "output_type": "display_data"
    },
    {
     "data": {
      "text/html": [
       "<a target=\"_blank\" href=\"https://repository.huygens.knaw.nl/v5/resourcesync/u519bd710306620fa7c56d541ae7b9f5b7f57a706/opsporingverificatie/dataset.nq\">https://repository.huygens.knaw.nl/v5/resourcesync/u519bd710306620fa7c56d541ae7b9f5b7f57a706/opsporingverificatie/dataset.nq</a>"
      ],
      "text/plain": [
       "<IPython.core.display.HTML object>"
      ]
     },
     "metadata": {},
     "output_type": "display_data"
    },
    {
     "name": "stdout",
     "output_type": "stream",
     "text": [
      "contexts  :            1\n",
      "statements:       28.426\n",
      "literals  :       13.738\n",
      "literal ratio:    0,48\n",
      "\n",
      "subject netlocs: 4 {'': 9895, 'resource.huygens.knaw.nl': 15328, 'www.w3.org': 3193, 'data.huygens.knaw.nl': 10}\n",
      "object netlocs: 4 {'resource.huygens.knaw.nl': 3847, 'www.w3.org': 3193, '': 7644, 'data.huygens.knaw.nl': 4}\n",
      "\n",
      "example.org | s 0 | p 0 | o 0 | total 0\n",
      "\n",
      "predicate netlocs: 5 | {'resource.huygens.knaw.nl': 21047, 'www.w3.org': 7040, 'schema.org': 333, 'purl.org': 4, 'timbuctoo.huygens.knaw.nl': 2}\n",
      "predicates: 115\n"
     ]
    },
    {
     "data": {
      "text/html": [
       "<a target=\"_blank\" href=\"http://purl.org/dc/terms/description\">http://purl.org/dc/terms/description</a>: 1"
      ],
      "text/plain": [
       "<IPython.core.display.HTML object>"
      ]
     },
     "metadata": {},
     "output_type": "display_data"
    },
    {
     "data": {
      "text/html": [
       "<a target=\"_blank\" href=\"http://purl.org/dc/terms/rightsHolder\">http://purl.org/dc/terms/rightsHolder</a>: 2"
      ],
      "text/plain": [
       "<IPython.core.display.HTML object>"
      ]
     },
     "metadata": {},
     "output_type": "display_data"
    },
    {
     "data": {
      "text/html": [
       "<a target=\"_blank\" href=\"http://purl.org/dc/terms/title\">http://purl.org/dc/terms/title</a>: 1"
      ],
      "text/plain": [
       "<IPython.core.display.HTML object>"
      ]
     },
     "metadata": {},
     "output_type": "display_data"
    },
    {
     "data": {
      "text/html": [
       "<a target=\"_blank\" href=\"http://schema.org/ContactPoint\">http://schema.org/ContactPoint</a>: 2"
      ],
      "text/plain": [
       "<IPython.core.display.HTML object>"
      ]
     },
     "metadata": {},
     "output_type": "display_data"
    },
    {
     "data": {
      "text/html": [
       "<a target=\"_blank\" href=\"http://schema.org/email\">http://schema.org/email</a>: 2"
      ],
      "text/plain": [
       "<IPython.core.display.HTML object>"
      ]
     },
     "metadata": {},
     "output_type": "display_data"
    },
    {
     "data": {
      "text/html": [
       "<a target=\"_blank\" href=\"http://schema.org/name\">http://schema.org/name</a>: 329"
      ],
      "text/plain": [
       "<IPython.core.display.HTML object>"
      ]
     },
     "metadata": {},
     "output_type": "display_data"
    },
    {
     "name": "stdout",
     "output_type": "stream",
     "text": [
      "http://timbuctoo.huygens.knaw.nl/static/v5/vocabulary#hasViewConfig: 2\n"
     ]
    },
    {
     "data": {
      "text/html": [
       "<a target=\"_blank\" href=\"http://www.w3.org/1999/02/22-rdf-syntax-ns#type\">http://www.w3.org/1999/02/22-rdf-syntax-ns#type</a>: 7040"
      ],
      "text/plain": [
       "<IPython.core.display.HTML object>"
      ]
     },
     "metadata": {},
     "output_type": "display_data"
    },
    {
     "name": "stdout",
     "output_type": "stream",
     "text": [
      "https://resource.huygens.knaw.nl/opsporingverificatie/oArchiefordening: 267\n",
      "https://resource.huygens.knaw.nl/opsporingverificatie/oInformatiedrager: 203\n",
      "https://resource.huygens.knaw.nl/opsporingverificatie/oOpenbaarheid: 199\n",
      "https://resource.huygens.knaw.nl/opsporingverificatie/oaangemaakt_door: 327\n",
      "https://resource.huygens.knaw.nl/opsporingverificatie/oaanleiding_voor_oprichting: 145\n",
      "https://resource.huygens.knaw.nl/opsporingverificatie/oaantekeningen: 327\n",
      "https://resource.huygens.knaw.nl/opsporingverificatie/oanalytische_beschrijving: 182\n",
      "https://resource.huygens.knaw.nl/opsporingverificatie/oandere_archieven: 182\n",
      "https://resource.huygens.knaw.nl/opsporingverificatie/oarchiefordening: 364\n",
      "https://resource.huygens.knaw.nl/opsporingverificatie/oarchiefordening_extra: 182\n",
      "https://resource.huygens.knaw.nl/opsporingverificatie/oarchieven: 145\n",
      "https://resource.huygens.knaw.nl/opsporingverificatie/oarchivalia_andere_archieven: 182\n",
      "https://resource.huygens.knaw.nl/opsporingverificatie/obiografie: 145\n",
      "https://resource.huygens.knaw.nl/opsporingverificatie/obrievencollectie: 182\n",
      "https://resource.huygens.knaw.nl/opsporingverificatie/obronnen: 182\n",
      "https://resource.huygens.knaw.nl/opsporingverificatie/oburger: 48\n",
      "https://resource.huygens.knaw.nl/opsporingverificatie/oburgers: 290\n",
      "https://resource.huygens.knaw.nl/opsporingverificatie/oburgers_overige: 290\n",
      "https://resource.huygens.knaw.nl/opsporingverificatie/odatum_opheffing: 145\n",
      "https://resource.huygens.knaw.nl/opsporingverificatie/odatum_oprichting: 145\n",
      "https://resource.huygens.knaw.nl/opsporingverificatie/odocumentatie: 182\n",
      "https://resource.huygens.knaw.nl/opsporingverificatie/odoelstelling: 145\n",
      "https://resource.huygens.knaw.nl/opsporingverificatie/ofinancien: 182\n",
      "https://resource.huygens.knaw.nl/opsporingverificatie/ofoute_ned: 20\n",
      "https://resource.huygens.knaw.nl/opsporingverificatie/ofoutened: 290\n",
      "https://resource.huygens.knaw.nl/opsporingverificatie/ofoutened_overige: 145\n",
      "https://resource.huygens.knaw.nl/opsporingverificatie/ofuncties_persoon: 145\n",
      "https://resource.huygens.knaw.nl/opsporingverificatie/ogeboorte_sterf: 145\n",
      "https://resource.huygens.knaw.nl/opsporingverificatie/ogeografische_verwijzigingen: 145\n",
      "https://resource.huygens.knaw.nl/opsporingverificatie/ogewijzigd_op: 327\n",
      "https://resource.huygens.knaw.nl/opsporingverificatie/oheader_einde_instelling_persoon_richtte: 145\n",
      "https://resource.huygens.knaw.nl/opsporingverificatie/oheader_instelling_persoon_richtte: 145\n",
      "https://resource.huygens.knaw.nl/opsporingverificatie/oindex: 182\n",
      "https://resource.huygens.knaw.nl/opsporingverificatie/oinformatiedrager: 364\n",
      "https://resource.huygens.knaw.nl/opsporingverificatie/oinformatiedrager_extra: 182\n",
      "https://resource.huygens.knaw.nl/opsporingverificatie/oinhoud_overig: 182\n",
      "https://resource.huygens.knaw.nl/opsporingverificatie/oinhoud_separator: 182\n",
      "https://resource.huygens.knaw.nl/opsporingverificatie/oinrichting_organisatie: 145\n",
      "https://resource.huygens.knaw.nl/opsporingverificatie/ojaarverslagen: 182\n",
      "https://resource.huygens.knaw.nl/opsporingverificatie/okenmerk: 182\n",
      "https://resource.huygens.knaw.nl/opsporingverificatie/okrijgsgevangene: 33\n",
      "https://resource.huygens.knaw.nl/opsporingverificatie/okrijgsgevangenen: 290\n",
      "https://resource.huygens.knaw.nl/opsporingverificatie/okrijgsgevangenen_overige: 145\n",
      "https://resource.huygens.knaw.nl/opsporingverificatie/oland: 626\n",
      "https://resource.huygens.knaw.nl/opsporingverificatie/olanden: 290\n",
      "https://resource.huygens.knaw.nl/opsporingverificatie/olandnaam: 313\n",
      "https://resource.huygens.knaw.nl/opsporingverificatie/oliteratuur: 145\n",
      "https://resource.huygens.knaw.nl/opsporingverificatie/omilitair: 17\n",
      "https://resource.huygens.knaw.nl/opsporingverificatie/omilitairen: 290\n",
      "https://resource.huygens.knaw.nl/opsporingverificatie/omilitairen_overige: 290\n",
      "https://resource.huygens.knaw.nl/opsporingverificatie/onaam_archief: 182\n",
      "https://resource.huygens.knaw.nl/opsporingverificatie/onaam_archiefvormer: 182\n",
      "https://resource.huygens.knaw.nl/opsporingverificatie/onaam_instelling_persoon: 145\n",
      "https://resource.huygens.knaw.nl/opsporingverificatie/onaamsafkorting: 145\n",
      "https://resource.huygens.knaw.nl/opsporingverificatie/onaamsvariant: 145\n",
      "https://resource.huygens.knaw.nl/opsporingverificatie/oned_indie: 290\n",
      "https://resource.huygens.knaw.nl/opsporingverificatie/oned_indie_overige: 145\n",
      "https://resource.huygens.knaw.nl/opsporingverificatie/oned_indiegroep: 54\n",
      "https://resource.huygens.knaw.nl/opsporingverificatie/onotulen: 182\n",
      "https://resource.huygens.knaw.nl/opsporingverificatie/oomvang: 182\n",
      "https://resource.huygens.knaw.nl/opsporingverificatie/oopenbaarheid: 364\n",
      "https://resource.huygens.knaw.nl/opsporingverificatie/oopenbaarheid_toelichting: 182\n",
      "https://resource.huygens.knaw.nl/opsporingverificatie/oopheffings_sterfdatum: 145\n",
      "https://resource.huygens.knaw.nl/opsporingverificatie/oopmerkingen: 327\n",
      "https://resource.huygens.knaw.nl/opsporingverificatie/ooprichters: 145\n",
      "https://resource.huygens.knaw.nl/opsporingverificatie/ooprichtings_geboortedatum: 145\n",
      "https://resource.huygens.knaw.nl/opsporingverificatie/oopvolger: 145\n",
      "https://resource.huygens.knaw.nl/opsporingverificatie/oorganisatie_karakter: 145\n",
      "https://resource.huygens.knaw.nl/opsporingverificatie/oother: 20\n",
      "https://resource.huygens.knaw.nl/opsporingverificatie/ooverige: 40\n",
      "https://resource.huygens.knaw.nl/opsporingverificatie/operiode: 182\n",
      "https://resource.huygens.knaw.nl/opsporingverificatie/operiode_van_bestaan: 145\n",
      "https://resource.huygens.knaw.nl/opsporingverificatie/opersoonsdossiers: 182\n",
      "https://resource.huygens.knaw.nl/opsporingverificatie/oplaats: 592\n",
      "https://resource.huygens.knaw.nl/opsporingverificatie/oplaatsen: 290\n",
      "https://resource.huygens.knaw.nl/opsporingverificatie/oplaatsnaam: 296\n",
      "https://resource.huygens.knaw.nl/opsporingverificatie/opositie_organisatie: 145\n",
      "https://resource.huygens.knaw.nl/opsporingverificatie/oprogrammapunt: 145\n",
      "https://resource.huygens.knaw.nl/opsporingverificatie/orechtsvorm: 145\n",
      "https://resource.huygens.knaw.nl/opsporingverificatie/orepatriant: 67\n",
      "https://resource.huygens.knaw.nl/opsporingverificatie/orepatrianten: 290\n",
      "https://resource.huygens.knaw.nl/opsporingverificatie/orepatrianten_overige: 290\n",
      "https://resource.huygens.knaw.nl/opsporingverificatie/osubthema_tekst: 145\n",
      "https://resource.huygens.knaw.nl/opsporingverificatie/otaak_activiteiten: 290\n",
      "https://resource.huygens.knaw.nl/opsporingverificatie/otoegang: 364\n",
      "https://resource.huygens.knaw.nl/opsporingverificatie/otoegangen: 283\n",
      "https://resource.huygens.knaw.nl/opsporingverificatie/otoelichting_toegang: 182\n",
      "https://resource.huygens.knaw.nl/opsporingverificatie/otweede_gen: 1\n",
      "https://resource.huygens.knaw.nl/opsporingverificatie/otweedegen: 290\n",
      "https://resource.huygens.knaw.nl/opsporingverificatie/otweedegen_overige: 145\n",
      "https://resource.huygens.knaw.nl/opsporingverificatie/otyperingen: 256\n",
      "https://resource.huygens.knaw.nl/opsporingverificatie/overloren: 182\n",
      "https://resource.huygens.knaw.nl/opsporingverificatie/overnietigd: 182\n",
      "https://resource.huygens.knaw.nl/opsporingverificatie/overvolging: 290\n",
      "https://resource.huygens.knaw.nl/opsporingverificatie/overvolging_overige: 145\n",
      "https://resource.huygens.knaw.nl/opsporingverificatie/overvolgingsslachtoffers: 94\n",
      "https://resource.huygens.knaw.nl/opsporingverificatie/overwijzingen: 182\n",
      "https://resource.huygens.knaw.nl/opsporingverificatie/overzet: 290\n",
      "https://resource.huygens.knaw.nl/opsporingverificatie/overzet_overige: 290\n",
      "https://resource.huygens.knaw.nl/opsporingverificatie/overzetnaam: 64\n",
      "https://resource.huygens.knaw.nl/opsporingverificatie/ovindplaats: 182\n",
      "https://resource.huygens.knaw.nl/opsporingverificatie/ovoorloper: 145\n",
      "https://resource.huygens.knaw.nl/opsporingverificatie/owebsite: 145\n",
      "https://resource.huygens.knaw.nl/opsporingverificatie/owetten: 182\n",
      "https://resource.huygens.knaw.nl/opsporingverificatie/ozeelied: 16\n",
      "https://resource.huygens.knaw.nl/opsporingverificatie/ozeelieden: 290\n",
      "https://resource.huygens.knaw.nl/opsporingverificatie/ozeelieden_overige: 145\n"
     ]
    },
    {
     "data": {
      "text/html": [
       "<h3>fingerprint</h3>"
      ],
      "text/plain": [
       "<IPython.core.display.HTML object>"
      ]
     },
     "metadata": {},
     "output_type": "display_data"
    },
    {
     "data": {
      "text/html": [
       "<a target=\"_blank\" href=\"https://repository.huygens.knaw.nl/v5/resourcesync/u519bd710306620fa7c56d541ae7b9f5b7f57a706/amstelveen_1/dataset.nq\">https://repository.huygens.knaw.nl/v5/resourcesync/u519bd710306620fa7c56d541ae7b9f5b7f57a706/amstelveen_1/dataset.nq</a>"
      ],
      "text/plain": [
       "<IPython.core.display.HTML object>"
      ]
     },
     "metadata": {},
     "output_type": "display_data"
    },
    {
     "name": "stdout",
     "output_type": "stream",
     "text": [
      "contexts  :            1\n",
      "statements:    2.328.203\n",
      "literals  :    2.033.375\n",
      "literal ratio:    0,87\n",
      "\n",
      "subject netlocs: 3 {'data.huygens.knaw.nl': 1288272, 'example.org': 1039906, 'timbuctoo.huygens.knaw.nl': 25}\n",
      "object netlocs: 3 {'example.org': 49028, 'data.huygens.knaw.nl': 245775, 'timbuctoo.huygens.knaw.nl': 25}\n",
      "\n",
      "example.org | s 1039906 | p 990878 | o 49028 | total 2079812\n",
      "\n",
      "predicate netlocs: 4 | {'data.huygens.knaw.nl': 1042447, 'example.org': 990878, 'www.w3.org': 196448, 'timbuctoo.huygens.knaw.nl': 98430}\n",
      "predicates: 55\n",
      "http://example.org/predicate/gemeente: 49028\n",
      "http://example.org/predicate/huisletter: 5313\n",
      "http://example.org/predicate/huisnummer: 49028\n",
      "http://example.org/predicate/huisnummertoevoeging: 5037\n",
      "http://example.org/predicate/lat: 49028\n",
      "http://example.org/predicate/lon: 49028\n",
      "http://example.org/predicate/nevenadres: 49028\n",
      "http://example.org/predicate/nummeraanduiding: 49028\n",
      "http://example.org/predicate/object_id: 49028\n",
      "http://example.org/predicate/object_type: 49028\n",
      "http://example.org/predicate/openbareruimte: 49028\n",
      "http://example.org/predicate/oppervlakteverblijfsobject: 49028\n",
      "http://example.org/predicate/pandbouwjaar: 48996\n",
      "http://example.org/predicate/pandid: 49090\n",
      "http://example.org/predicate/pandstatus: 48966\n",
      "http://example.org/predicate/postcode: 49028\n",
      "http://example.org/predicate/provincie: 49028\n",
      "http://example.org/predicate/verblijfsobjectgebruiksdoel: 49028\n",
      "http://example.org/predicate/verblijfsobjectstatus: 49028\n",
      "http://example.org/predicate/woonplaats: 49028\n",
      "http://example.org/predicate/x: 49028\n",
      "http://example.org/predicate/y: 49028\n",
      "http://timbuctoo.huygens.knaw.nl/static/v5/vocabulary#hasCollection: 2\n",
      "http://timbuctoo.huygens.knaw.nl/static/v5/vocabulary#hasProperty: 46\n",
      "http://timbuctoo.huygens.knaw.nl/static/v5/vocabulary#mimetype: 1\n",
      "http://timbuctoo.huygens.knaw.nl/static/v5/vocabulary#next: 46\n",
      "http://timbuctoo.huygens.knaw.nl/static/v5/vocabulary#propertyId: 23\n",
      "http://timbuctoo.huygens.knaw.nl/static/v5/vocabulary#timhasrow: 98312\n"
     ]
    },
    {
     "data": {
      "text/html": [
       "<a target=\"_blank\" href=\"http://www.w3.org/1999/02/22-rdf-syntax-ns#type\">http://www.w3.org/1999/02/22-rdf-syntax-ns#type</a>: 196420"
      ],
      "text/plain": [
       "<IPython.core.display.HTML object>"
      ]
     },
     "metadata": {},
     "output_type": "display_data"
    },
    {
     "data": {
      "text/html": [
       "<a target=\"_blank\" href=\"http://www.w3.org/2000/01/rdf-schema#label\">http://www.w3.org/2000/01/rdf-schema#label</a>: 25"
      ],
      "text/plain": [
       "<IPython.core.display.HTML object>"
      ]
     },
     "metadata": {},
     "output_type": "display_data"
    },
    {
     "data": {
      "text/html": [
       "<a target=\"_blank\" href=\"http://www.w3.org/ns/prov#atTime\">http://www.w3.org/ns/prov#atTime</a>: 1"
      ],
      "text/plain": [
       "<IPython.core.display.HTML object>"
      ]
     },
     "metadata": {},
     "output_type": "display_data"
    },
    {
     "data": {
      "text/html": [
       "<a target=\"_blank\" href=\"http://www.w3.org/ns/prov#wasDerivedFrom\">http://www.w3.org/ns/prov#wasDerivedFrom</a>: 2"
      ],
      "text/plain": [
       "<IPython.core.display.HTML object>"
      ]
     },
     "metadata": {},
     "output_type": "display_data"
    },
    {
     "data": {
      "text/html": [
       "<a target=\"_blank\" href=\"https://data.huygens.knaw.nl/rdf/datasets/u519bd710306620fa7c56d541ae7b9f5b7f57a706/amstelveen_1/rawData/f0587bc2-459a-44b5-9a3b-7b34f27e95b2-amstelveen_full_csv/props/gemeente\">https://data.huygens.knaw.nl/rdf/datasets/u519bd710306620fa7c56d541ae7b9f5b7f57a706/amstelveen_1/rawData/f0587bc2-459a-44b5-9a3b-7b34f27e95b2-amstelveen_full_csv/props/gemeente</a>: 49156"
      ],
      "text/plain": [
       "<IPython.core.display.HTML object>"
      ]
     },
     "metadata": {},
     "output_type": "display_data"
    },
    {
     "data": {
      "text/html": [
       "<a target=\"_blank\" href=\"https://data.huygens.knaw.nl/rdf/datasets/u519bd710306620fa7c56d541ae7b9f5b7f57a706/amstelveen_1/rawData/f0587bc2-459a-44b5-9a3b-7b34f27e95b2-amstelveen_full_csv/props/huisletter\">https://data.huygens.knaw.nl/rdf/datasets/u519bd710306620fa7c56d541ae7b9f5b7f57a706/amstelveen_1/rawData/f0587bc2-459a-44b5-9a3b-7b34f27e95b2-amstelveen_full_csv/props/huisletter</a>: 5332"
      ],
      "text/plain": [
       "<IPython.core.display.HTML object>"
      ]
     },
     "metadata": {},
     "output_type": "display_data"
    },
    {
     "data": {
      "text/html": [
       "<a target=\"_blank\" href=\"https://data.huygens.knaw.nl/rdf/datasets/u519bd710306620fa7c56d541ae7b9f5b7f57a706/amstelveen_1/rawData/f0587bc2-459a-44b5-9a3b-7b34f27e95b2-amstelveen_full_csv/props/huisnummer\">https://data.huygens.knaw.nl/rdf/datasets/u519bd710306620fa7c56d541ae7b9f5b7f57a706/amstelveen_1/rawData/f0587bc2-459a-44b5-9a3b-7b34f27e95b2-amstelveen_full_csv/props/huisnummer</a>: 49156"
      ],
      "text/plain": [
       "<IPython.core.display.HTML object>"
      ]
     },
     "metadata": {},
     "output_type": "display_data"
    },
    {
     "data": {
      "text/html": [
       "<a target=\"_blank\" href=\"https://data.huygens.knaw.nl/rdf/datasets/u519bd710306620fa7c56d541ae7b9f5b7f57a706/amstelveen_1/rawData/f0587bc2-459a-44b5-9a3b-7b34f27e95b2-amstelveen_full_csv/props/huisnummertoevoeging\">https://data.huygens.knaw.nl/rdf/datasets/u519bd710306620fa7c56d541ae7b9f5b7f57a706/amstelveen_1/rawData/f0587bc2-459a-44b5-9a3b-7b34f27e95b2-amstelveen_full_csv/props/huisnummertoevoeging</a>: 5037"
      ],
      "text/plain": [
       "<IPython.core.display.HTML object>"
      ]
     },
     "metadata": {},
     "output_type": "display_data"
    },
    {
     "data": {
      "text/html": [
       "<a target=\"_blank\" href=\"https://data.huygens.knaw.nl/rdf/datasets/u519bd710306620fa7c56d541ae7b9f5b7f57a706/amstelveen_1/rawData/f0587bc2-459a-44b5-9a3b-7b34f27e95b2-amstelveen_full_csv/props/lat\">https://data.huygens.knaw.nl/rdf/datasets/u519bd710306620fa7c56d541ae7b9f5b7f57a706/amstelveen_1/rawData/f0587bc2-459a-44b5-9a3b-7b34f27e95b2-amstelveen_full_csv/props/lat</a>: 49156"
      ],
      "text/plain": [
       "<IPython.core.display.HTML object>"
      ]
     },
     "metadata": {},
     "output_type": "display_data"
    },
    {
     "data": {
      "text/html": [
       "<a target=\"_blank\" href=\"https://data.huygens.knaw.nl/rdf/datasets/u519bd710306620fa7c56d541ae7b9f5b7f57a706/amstelveen_1/rawData/f0587bc2-459a-44b5-9a3b-7b34f27e95b2-amstelveen_full_csv/props/lon\">https://data.huygens.knaw.nl/rdf/datasets/u519bd710306620fa7c56d541ae7b9f5b7f57a706/amstelveen_1/rawData/f0587bc2-459a-44b5-9a3b-7b34f27e95b2-amstelveen_full_csv/props/lon</a>: 49156"
      ],
      "text/plain": [
       "<IPython.core.display.HTML object>"
      ]
     },
     "metadata": {},
     "output_type": "display_data"
    },
    {
     "data": {
      "text/html": [
       "<a target=\"_blank\" href=\"https://data.huygens.knaw.nl/rdf/datasets/u519bd710306620fa7c56d541ae7b9f5b7f57a706/amstelveen_1/rawData/f0587bc2-459a-44b5-9a3b-7b34f27e95b2-amstelveen_full_csv/props/nevenadres\">https://data.huygens.knaw.nl/rdf/datasets/u519bd710306620fa7c56d541ae7b9f5b7f57a706/amstelveen_1/rawData/f0587bc2-459a-44b5-9a3b-7b34f27e95b2-amstelveen_full_csv/props/nevenadres</a>: 49156"
      ],
      "text/plain": [
       "<IPython.core.display.HTML object>"
      ]
     },
     "metadata": {},
     "output_type": "display_data"
    },
    {
     "data": {
      "text/html": [
       "<a target=\"_blank\" href=\"https://data.huygens.knaw.nl/rdf/datasets/u519bd710306620fa7c56d541ae7b9f5b7f57a706/amstelveen_1/rawData/f0587bc2-459a-44b5-9a3b-7b34f27e95b2-amstelveen_full_csv/props/nummeraanduiding\">https://data.huygens.knaw.nl/rdf/datasets/u519bd710306620fa7c56d541ae7b9f5b7f57a706/amstelveen_1/rawData/f0587bc2-459a-44b5-9a3b-7b34f27e95b2-amstelveen_full_csv/props/nummeraanduiding</a>: 49156"
      ],
      "text/plain": [
       "<IPython.core.display.HTML object>"
      ]
     },
     "metadata": {},
     "output_type": "display_data"
    },
    {
     "data": {
      "text/html": [
       "<a target=\"_blank\" href=\"https://data.huygens.knaw.nl/rdf/datasets/u519bd710306620fa7c56d541ae7b9f5b7f57a706/amstelveen_1/rawData/f0587bc2-459a-44b5-9a3b-7b34f27e95b2-amstelveen_full_csv/props/object_id\">https://data.huygens.knaw.nl/rdf/datasets/u519bd710306620fa7c56d541ae7b9f5b7f57a706/amstelveen_1/rawData/f0587bc2-459a-44b5-9a3b-7b34f27e95b2-amstelveen_full_csv/props/object_id</a>: 49156"
      ],
      "text/plain": [
       "<IPython.core.display.HTML object>"
      ]
     },
     "metadata": {},
     "output_type": "display_data"
    },
    {
     "data": {
      "text/html": [
       "<a target=\"_blank\" href=\"https://data.huygens.knaw.nl/rdf/datasets/u519bd710306620fa7c56d541ae7b9f5b7f57a706/amstelveen_1/rawData/f0587bc2-459a-44b5-9a3b-7b34f27e95b2-amstelveen_full_csv/props/object_type\">https://data.huygens.knaw.nl/rdf/datasets/u519bd710306620fa7c56d541ae7b9f5b7f57a706/amstelveen_1/rawData/f0587bc2-459a-44b5-9a3b-7b34f27e95b2-amstelveen_full_csv/props/object_type</a>: 49156"
      ],
      "text/plain": [
       "<IPython.core.display.HTML object>"
      ]
     },
     "metadata": {},
     "output_type": "display_data"
    },
    {
     "data": {
      "text/html": [
       "<a target=\"_blank\" href=\"https://data.huygens.knaw.nl/rdf/datasets/u519bd710306620fa7c56d541ae7b9f5b7f57a706/amstelveen_1/rawData/f0587bc2-459a-44b5-9a3b-7b34f27e95b2-amstelveen_full_csv/props/openbareruimte\">https://data.huygens.knaw.nl/rdf/datasets/u519bd710306620fa7c56d541ae7b9f5b7f57a706/amstelveen_1/rawData/f0587bc2-459a-44b5-9a3b-7b34f27e95b2-amstelveen_full_csv/props/openbareruimte</a>: 49156"
      ],
      "text/plain": [
       "<IPython.core.display.HTML object>"
      ]
     },
     "metadata": {},
     "output_type": "display_data"
    },
    {
     "data": {
      "text/html": [
       "<a target=\"_blank\" href=\"https://data.huygens.knaw.nl/rdf/datasets/u519bd710306620fa7c56d541ae7b9f5b7f57a706/amstelveen_1/rawData/f0587bc2-459a-44b5-9a3b-7b34f27e95b2-amstelveen_full_csv/props/oppervlakteverblijfsobject\">https://data.huygens.knaw.nl/rdf/datasets/u519bd710306620fa7c56d541ae7b9f5b7f57a706/amstelveen_1/rawData/f0587bc2-459a-44b5-9a3b-7b34f27e95b2-amstelveen_full_csv/props/oppervlakteverblijfsobject</a>: 49156"
      ],
      "text/plain": [
       "<IPython.core.display.HTML object>"
      ]
     },
     "metadata": {},
     "output_type": "display_data"
    },
    {
     "data": {
      "text/html": [
       "<a target=\"_blank\" href=\"https://data.huygens.knaw.nl/rdf/datasets/u519bd710306620fa7c56d541ae7b9f5b7f57a706/amstelveen_1/rawData/f0587bc2-459a-44b5-9a3b-7b34f27e95b2-amstelveen_full_csv/props/pandbouwjaar\">https://data.huygens.knaw.nl/rdf/datasets/u519bd710306620fa7c56d541ae7b9f5b7f57a706/amstelveen_1/rawData/f0587bc2-459a-44b5-9a3b-7b34f27e95b2-amstelveen_full_csv/props/pandbouwjaar</a>: 49090"
      ],
      "text/plain": [
       "<IPython.core.display.HTML object>"
      ]
     },
     "metadata": {},
     "output_type": "display_data"
    },
    {
     "data": {
      "text/html": [
       "<a target=\"_blank\" href=\"https://data.huygens.knaw.nl/rdf/datasets/u519bd710306620fa7c56d541ae7b9f5b7f57a706/amstelveen_1/rawData/f0587bc2-459a-44b5-9a3b-7b34f27e95b2-amstelveen_full_csv/props/pandid\">https://data.huygens.knaw.nl/rdf/datasets/u519bd710306620fa7c56d541ae7b9f5b7f57a706/amstelveen_1/rawData/f0587bc2-459a-44b5-9a3b-7b34f27e95b2-amstelveen_full_csv/props/pandid</a>: 49090"
      ],
      "text/plain": [
       "<IPython.core.display.HTML object>"
      ]
     },
     "metadata": {},
     "output_type": "display_data"
    },
    {
     "data": {
      "text/html": [
       "<a target=\"_blank\" href=\"https://data.huygens.knaw.nl/rdf/datasets/u519bd710306620fa7c56d541ae7b9f5b7f57a706/amstelveen_1/rawData/f0587bc2-459a-44b5-9a3b-7b34f27e95b2-amstelveen_full_csv/props/pandstatus\">https://data.huygens.knaw.nl/rdf/datasets/u519bd710306620fa7c56d541ae7b9f5b7f57a706/amstelveen_1/rawData/f0587bc2-459a-44b5-9a3b-7b34f27e95b2-amstelveen_full_csv/props/pandstatus</a>: 49090"
      ],
      "text/plain": [
       "<IPython.core.display.HTML object>"
      ]
     },
     "metadata": {},
     "output_type": "display_data"
    },
    {
     "data": {
      "text/html": [
       "<a target=\"_blank\" href=\"https://data.huygens.knaw.nl/rdf/datasets/u519bd710306620fa7c56d541ae7b9f5b7f57a706/amstelveen_1/rawData/f0587bc2-459a-44b5-9a3b-7b34f27e95b2-amstelveen_full_csv/props/postcode\">https://data.huygens.knaw.nl/rdf/datasets/u519bd710306620fa7c56d541ae7b9f5b7f57a706/amstelveen_1/rawData/f0587bc2-459a-44b5-9a3b-7b34f27e95b2-amstelveen_full_csv/props/postcode</a>: 49156"
      ],
      "text/plain": [
       "<IPython.core.display.HTML object>"
      ]
     },
     "metadata": {},
     "output_type": "display_data"
    },
    {
     "data": {
      "text/html": [
       "<a target=\"_blank\" href=\"https://data.huygens.knaw.nl/rdf/datasets/u519bd710306620fa7c56d541ae7b9f5b7f57a706/amstelveen_1/rawData/f0587bc2-459a-44b5-9a3b-7b34f27e95b2-amstelveen_full_csv/props/provincie\">https://data.huygens.knaw.nl/rdf/datasets/u519bd710306620fa7c56d541ae7b9f5b7f57a706/amstelveen_1/rawData/f0587bc2-459a-44b5-9a3b-7b34f27e95b2-amstelveen_full_csv/props/provincie</a>: 49156"
      ],
      "text/plain": [
       "<IPython.core.display.HTML object>"
      ]
     },
     "metadata": {},
     "output_type": "display_data"
    },
    {
     "data": {
      "text/html": [
       "<a target=\"_blank\" href=\"https://data.huygens.knaw.nl/rdf/datasets/u519bd710306620fa7c56d541ae7b9f5b7f57a706/amstelveen_1/rawData/f0587bc2-459a-44b5-9a3b-7b34f27e95b2-amstelveen_full_csv/props/tim_id\">https://data.huygens.knaw.nl/rdf/datasets/u519bd710306620fa7c56d541ae7b9f5b7f57a706/amstelveen_1/rawData/f0587bc2-459a-44b5-9a3b-7b34f27e95b2-amstelveen_full_csv/props/tim_id</a>: 49156"
      ],
      "text/plain": [
       "<IPython.core.display.HTML object>"
      ]
     },
     "metadata": {},
     "output_type": "display_data"
    },
    {
     "data": {
      "text/html": [
       "<a target=\"_blank\" href=\"https://data.huygens.knaw.nl/rdf/datasets/u519bd710306620fa7c56d541ae7b9f5b7f57a706/amstelveen_1/rawData/f0587bc2-459a-44b5-9a3b-7b34f27e95b2-amstelveen_full_csv/props/verblijfsobjectgebruiksdoel\">https://data.huygens.knaw.nl/rdf/datasets/u519bd710306620fa7c56d541ae7b9f5b7f57a706/amstelveen_1/rawData/f0587bc2-459a-44b5-9a3b-7b34f27e95b2-amstelveen_full_csv/props/verblijfsobjectgebruiksdoel</a>: 49156"
      ],
      "text/plain": [
       "<IPython.core.display.HTML object>"
      ]
     },
     "metadata": {},
     "output_type": "display_data"
    },
    {
     "data": {
      "text/html": [
       "<a target=\"_blank\" href=\"https://data.huygens.knaw.nl/rdf/datasets/u519bd710306620fa7c56d541ae7b9f5b7f57a706/amstelveen_1/rawData/f0587bc2-459a-44b5-9a3b-7b34f27e95b2-amstelveen_full_csv/props/verblijfsobjectstatus\">https://data.huygens.knaw.nl/rdf/datasets/u519bd710306620fa7c56d541ae7b9f5b7f57a706/amstelveen_1/rawData/f0587bc2-459a-44b5-9a3b-7b34f27e95b2-amstelveen_full_csv/props/verblijfsobjectstatus</a>: 49156"
      ],
      "text/plain": [
       "<IPython.core.display.HTML object>"
      ]
     },
     "metadata": {},
     "output_type": "display_data"
    },
    {
     "data": {
      "text/html": [
       "<a target=\"_blank\" href=\"https://data.huygens.knaw.nl/rdf/datasets/u519bd710306620fa7c56d541ae7b9f5b7f57a706/amstelveen_1/rawData/f0587bc2-459a-44b5-9a3b-7b34f27e95b2-amstelveen_full_csv/props/woonplaats\">https://data.huygens.knaw.nl/rdf/datasets/u519bd710306620fa7c56d541ae7b9f5b7f57a706/amstelveen_1/rawData/f0587bc2-459a-44b5-9a3b-7b34f27e95b2-amstelveen_full_csv/props/woonplaats</a>: 49156"
      ],
      "text/plain": [
       "<IPython.core.display.HTML object>"
      ]
     },
     "metadata": {},
     "output_type": "display_data"
    },
    {
     "data": {
      "text/html": [
       "<a target=\"_blank\" href=\"https://data.huygens.knaw.nl/rdf/datasets/u519bd710306620fa7c56d541ae7b9f5b7f57a706/amstelveen_1/rawData/f0587bc2-459a-44b5-9a3b-7b34f27e95b2-amstelveen_full_csv/props/x\">https://data.huygens.knaw.nl/rdf/datasets/u519bd710306620fa7c56d541ae7b9f5b7f57a706/amstelveen_1/rawData/f0587bc2-459a-44b5-9a3b-7b34f27e95b2-amstelveen_full_csv/props/x</a>: 49156"
      ],
      "text/plain": [
       "<IPython.core.display.HTML object>"
      ]
     },
     "metadata": {},
     "output_type": "display_data"
    },
    {
     "data": {
      "text/html": [
       "<a target=\"_blank\" href=\"https://data.huygens.knaw.nl/rdf/datasets/u519bd710306620fa7c56d541ae7b9f5b7f57a706/amstelveen_1/rawData/f0587bc2-459a-44b5-9a3b-7b34f27e95b2-amstelveen_full_csv/props/y\">https://data.huygens.knaw.nl/rdf/datasets/u519bd710306620fa7c56d541ae7b9f5b7f57a706/amstelveen_1/rawData/f0587bc2-459a-44b5-9a3b-7b34f27e95b2-amstelveen_full_csv/props/y</a>: 49156"
      ],
      "text/plain": [
       "<IPython.core.display.HTML object>"
      ]
     },
     "metadata": {},
     "output_type": "display_data"
    },
    {
     "data": {
      "text/html": [
       "<h3>fingerprint</h3>"
      ],
      "text/plain": [
       "<IPython.core.display.HTML object>"
      ]
     },
     "metadata": {},
     "output_type": "display_data"
    },
    {
     "data": {
      "text/html": [
       "<a target=\"_blank\" href=\"https://repository.huygens.knaw.nl/v5/resourcesync/u519bd710306620fa7c56d541ae7b9f5b7f57a706/sport/dataset.nq\">https://repository.huygens.knaw.nl/v5/resourcesync/u519bd710306620fa7c56d541ae7b9f5b7f57a706/sport/dataset.nq</a>"
      ],
      "text/plain": [
       "<IPython.core.display.HTML object>"
      ]
     },
     "metadata": {},
     "output_type": "display_data"
    },
    {
     "name": "stdout",
     "output_type": "stream",
     "text": [
      "contexts  :            1\n",
      "statements:    2.220.536\n",
      "literals  :      958.192\n",
      "literal ratio:    0,43\n",
      "\n",
      "subject netlocs: 4 {'resource.huygens.knaw.nl': 959942, 'www.w3.org': 270400, '': 990180, 'data.huygens.knaw.nl': 14}\n",
      "object netlocs: 4 {'': 671946, 'www.w3.org': 270400, 'resource.huygens.knaw.nl': 319992, 'data.huygens.knaw.nl': 6}\n",
      "\n",
      "example.org | s 0 | p 0 | o 0 | total 0\n",
      "\n",
      "predicate netlocs: 5 | {'schema.org': 26681, 'resource.huygens.knaw.nl': 1599695, 'www.w3.org': 594150, 'purl.org': 8, 'timbuctoo.huygens.knaw.nl': 2}\n",
      "predicates: 69\n"
     ]
    },
    {
     "data": {
      "text/html": [
       "<a target=\"_blank\" href=\"http://purl.org/dc/terms/description\">http://purl.org/dc/terms/description</a>: 2"
      ],
      "text/plain": [
       "<IPython.core.display.HTML object>"
      ]
     },
     "metadata": {},
     "output_type": "display_data"
    },
    {
     "data": {
      "text/html": [
       "<a target=\"_blank\" href=\"http://purl.org/dc/terms/provenance\">http://purl.org/dc/terms/provenance</a>: 2"
      ],
      "text/plain": [
       "<IPython.core.display.HTML object>"
      ]
     },
     "metadata": {},
     "output_type": "display_data"
    },
    {
     "data": {
      "text/html": [
       "<a target=\"_blank\" href=\"http://purl.org/dc/terms/rightsHolder\">http://purl.org/dc/terms/rightsHolder</a>: 2"
      ],
      "text/plain": [
       "<IPython.core.display.HTML object>"
      ]
     },
     "metadata": {},
     "output_type": "display_data"
    },
    {
     "data": {
      "text/html": [
       "<a target=\"_blank\" href=\"http://purl.org/dc/terms/title\">http://purl.org/dc/terms/title</a>: 2"
      ],
      "text/plain": [
       "<IPython.core.display.HTML object>"
      ]
     },
     "metadata": {},
     "output_type": "display_data"
    },
    {
     "data": {
      "text/html": [
       "<a target=\"_blank\" href=\"http://schema.org/ContactPoint\">http://schema.org/ContactPoint</a>: 2"
      ],
      "text/plain": [
       "<IPython.core.display.HTML object>"
      ]
     },
     "metadata": {},
     "output_type": "display_data"
    },
    {
     "data": {
      "text/html": [
       "<a target=\"_blank\" href=\"http://schema.org/email\">http://schema.org/email</a>: 2"
      ],
      "text/plain": [
       "<IPython.core.display.HTML object>"
      ]
     },
     "metadata": {},
     "output_type": "display_data"
    },
    {
     "data": {
      "text/html": [
       "<a target=\"_blank\" href=\"http://schema.org/name\">http://schema.org/name</a>: 26665"
      ],
      "text/plain": [
       "<IPython.core.display.HTML object>"
      ]
     },
     "metadata": {},
     "output_type": "display_data"
    },
    {
     "data": {
      "text/html": [
       "<a target=\"_blank\" href=\"http://schema.org/title\">http://schema.org/title</a>: 12"
      ],
      "text/plain": [
       "<IPython.core.display.HTML object>"
      ]
     },
     "metadata": {},
     "output_type": "display_data"
    },
    {
     "name": "stdout",
     "output_type": "stream",
     "text": [
      "http://timbuctoo.huygens.knaw.nl/static/v5/vocabulary#hasViewConfig: 2\n"
     ]
    },
    {
     "data": {
      "text/html": [
       "<a target=\"_blank\" href=\"http://www.w3.org/1999/02/22-rdf-syntax-ns#type\">http://www.w3.org/1999/02/22-rdf-syntax-ns#type</a>: 594150"
      ],
      "text/plain": [
       "<IPython.core.display.HTML object>"
      ]
     },
     "metadata": {},
     "output_type": "display_data"
    },
    {
     "name": "stdout",
     "output_type": "stream",
     "text": [
      "https://resource.huygens.knaw.nl/sport/sLandelijke_bond: 40580\n",
      "https://resource.huygens.knaw.nl/sport/sRegionale_bond: 64714\n",
      "https://resource.huygens.knaw.nl/sport/saantekeningen: 26675\n",
      "https://resource.huygens.knaw.nl/sport/salt_namen: 13164\n",
      "https://resource.huygens.knaw.nl/sport/salternatieve_namen: 53326\n",
      "https://resource.huygens.knaw.nl/sport/sankernaam: 209\n",
      "https://resource.huygens.knaw.nl/sport/sanno: 418\n",
      "https://resource.huygens.knaw.nl/sport/sannotatie: 24\n",
      "https://resource.huygens.knaw.nl/sport/sannotatie_tekst: 209\n",
      "https://resource.huygens.knaw.nl/sport/sarchief_geschreven: 26663\n",
      "https://resource.huygens.knaw.nl/sport/sarchief_objecten: 26663\n",
      "https://resource.huygens.knaw.nl/sport/sauteur: 498\n",
      "https://resource.huygens.knaw.nl/sport/sbegindatum: 26663\n",
      "https://resource.huygens.knaw.nl/sport/sbegindatum_soort: 26663\n",
      "https://resource.huygens.knaw.nl/sport/sbeginjaar: 52647\n",
      "https://resource.huygens.knaw.nl/sport/sbeschermheren: 26663\n",
      "https://resource.huygens.knaw.nl/sport/sbestuursleden: 26663\n",
      "https://resource.huygens.knaw.nl/sport/sdag: 3740\n",
      "https://resource.huygens.knaw.nl/sport/sdoelstelling: 26663\n",
      "https://resource.huygens.knaw.nl/sport/seigen_gebouw: 26663\n",
      "https://resource.huygens.knaw.nl/sport/seinddatum: 26663\n",
      "https://resource.huygens.knaw.nl/sport/seinddatum_soort: 26663\n",
      "https://resource.huygens.knaw.nl/sport/seindjaar: 52647\n",
      "https://resource.huygens.knaw.nl/sport/sgemeente: 26663\n",
      "https://resource.huygens.knaw.nl/sport/sgemeente1984: 26663\n",
      "https://resource.huygens.knaw.nl/sport/sgoossens: 26663\n",
      "https://resource.huygens.knaw.nl/sport/sinstelling: 3758\n",
      "https://resource.huygens.knaw.nl/sport/sjvu: 498\n",
      "https://resource.huygens.knaw.nl/sport/skb: 26663\n",
      "https://resource.huygens.knaw.nl/sport/slandelijke_bonden: 53326\n",
      "https://resource.huygens.knaw.nl/sport/slevensbeschouwing: 26663\n",
      "https://resource.huygens.knaw.nl/sport/sliteratuur: 514\n",
      "https://resource.huygens.knaw.nl/sport/sliteratuur_over: 53326\n",
      "https://resource.huygens.knaw.nl/sport/snaam_alt: 59229\n",
      "https://resource.huygens.knaw.nl/sport/snr_verenigingsdossier: 26663\n",
      "https://resource.huygens.knaw.nl/sport/sopm_naam: 85892\n",
      "https://resource.huygens.knaw.nl/sport/sopmerkingen: 26663\n",
      "https://resource.huygens.knaw.nl/sport/soprichters: 26663\n",
      "https://resource.huygens.knaw.nl/sport/spages: 498\n",
      "https://resource.huygens.knaw.nl/sport/splaats: 27161\n",
      "https://resource.huygens.knaw.nl/sport/sppn: 498\n",
      "https://resource.huygens.knaw.nl/sport/sprovincie: 53326\n",
      "https://resource.huygens.knaw.nl/sport/sprovincienaam: 26665\n",
      "https://resource.huygens.knaw.nl/sport/spublicaties: 482\n",
      "https://resource.huygens.knaw.nl/sport/spublicaties_van: 53326\n",
      "https://resource.huygens.knaw.nl/sport/sregionale_bonden: 53326\n",
      "https://resource.huygens.knaw.nl/sport/srelatie: 7516\n",
      "https://resource.huygens.knaw.nl/sport/srelatie_met: 3661\n",
      "https://resource.huygens.knaw.nl/sport/srelaties: 53326\n",
      "https://resource.huygens.knaw.nl/sport/ssoort_sport: 26687\n",
      "https://resource.huygens.knaw.nl/sport/sspeeldag: 53326\n",
      "https://resource.huygens.knaw.nl/sport/ssport: 53326\n",
      "https://resource.huygens.knaw.nl/sport/stekst: 12\n",
      "https://resource.huygens.knaw.nl/sport/stitle: 498\n",
      "https://resource.huygens.knaw.nl/sport/stype_relatie: 7516\n",
      "https://resource.huygens.knaw.nl/sport/sverantwoording_gegevens: 26663\n",
      "https://resource.huygens.knaw.nl/sport/svergaderplaats: 26663\n",
      "https://resource.huygens.knaw.nl/sport/swerkingsgebied: 26565\n",
      "https://resource.huygens.knaw.nl/sport/swerkingsgebieden: 53326\n"
     ]
    },
    {
     "data": {
      "text/html": [
       "<h3>fingerprint</h3>"
      ],
      "text/plain": [
       "<IPython.core.display.HTML object>"
      ]
     },
     "metadata": {},
     "output_type": "display_data"
    },
    {
     "data": {
      "text/html": [
       "<a target=\"_blank\" href=\"https://repository.huygens.knaw.nl/v5/resourcesync/u519bd710306620fa7c56d541ae7b9f5b7f57a706/test_wwdocument/dataset.nq\">https://repository.huygens.knaw.nl/v5/resourcesync/u519bd710306620fa7c56d541ae7b9f5b7f57a706/test_wwdocument/dataset.nq</a>"
      ],
      "text/plain": [
       "<IPython.core.display.HTML object>"
      ]
     },
     "metadata": {},
     "output_type": "display_data"
    },
    {
     "name": "stdout",
     "output_type": "stream",
     "text": [
      "contexts  :            1\n",
      "statements:    1.151.542\n",
      "literals  :      641.674\n",
      "literal ratio:    0,56\n",
      "\n",
      "subject netlocs: 3 {'': 870830, 'www.w3.org': 73931, 'resource.huygens.knaw.nl': 206781}\n",
      "object netlocs: 3 {'': 364307, 'www.w3.org': 73931, 'resource.huygens.knaw.nl': 71630}\n",
      "\n",
      "example.org | s 0 | p 0 | o 0 | total 0\n",
      "\n",
      "predicate netlocs: 3 | {'schema.org': 985773, 'www.w3.org': 165768, 'timbuctoo.huygens.knaw.nl': 1}\n",
      "predicates: 130\n",
      "http://schema.org/_id: 8953\n",
      "http://schema.org/accepted: 50955\n",
      "http://schema.org/commentsOnPerso: 2508\n",
      "http://schema.org/commentsOnPerson: 2506\n",
      "http://schema.org/commentsOnWor: 2364\n",
      "http://schema.org/commentsOnWork: 2342\n",
      "http://schema.org/containedInAntholog: 8\n",
      "http://schema.org/containedInAnthology: 8\n",
      "http://schema.org/created: 17908\n",
      "http://schema.org/date: 8810\n",
      "http://schema.org/deleted: 8953\n",
      "http://schema.org/displayName: 59908\n",
      "http://schema.org/documentType: 8953\n",
      "http://schema.org/englishTitle: 1120\n",
      "http://schema.org/hasAdaptatio: 46\n",
      "http://schema.org/hasAdaptation: 38\n",
      "http://schema.org/hasAnnotationsO: 6\n",
      "http://schema.org/hasAnnotationsOn: 6\n",
      "http://schema.org/hasDocumentSourc: 11084\n",
      "http://schema.org/hasDocumentSource: 11084\n",
      "http://schema.org/hasEditio: 4\n",
      "http://schema.org/hasEdition: 4\n",
      "http://schema.org/hasGenr: 10750\n",
      "http://schema.org/hasGenre: 9980\n",
      "http://schema.org/hasPrefac: 16\n",
      "http://schema.org/hasPreface: 16\n",
      "http://schema.org/hasPublishLocatio: 17684\n",
      "http://schema.org/hasPublishLocation: 17678\n",
      "http://schema.org/hasSourceCategor: 10\n",
      "http://schema.org/hasSourceCategory: 10\n",
      "http://schema.org/hasTranslatio: 222\n",
      "http://schema.org/hasTranslation: 168\n",
      "http://schema.org/hasWorkLanguag: 12452\n",
      "http://schema.org/hasWorkLanguage: 12444\n",
      "http://schema.org/id: 68869\n",
      "http://schema.org/isAdaptationO: 94\n",
      "http://schema.org/isAdaptationOf: 92\n",
      "http://schema.org/isAnnotatedI: 2\n",
      "http://schema.org/isAnnotatedIn: 2\n",
      "http://schema.org/isAnthologyContainin: 6\n",
      "http://schema.org/isAnthologyContaining: 4\n",
      "http://schema.org/isBibliographyO: 2\n",
      "http://schema.org/isBibliographyOf: 2\n",
      "http://schema.org/isBiographyO: 68\n",
      "http://schema.org/isBiographyOf: 64\n",
      "http://schema.org/isCensoredB: 2\n",
      "http://schema.org/isCensoredBy: 2\n",
      "http://schema.org/isCensoringO: 2\n",
      "http://schema.org/isCensoringOf: 2\n",
      "http://schema.org/isCopiedB: 6\n",
      "http://schema.org/isCopiedBy: 6\n",
      "http://schema.org/isCopyO: 8\n",
      "http://schema.org/isCopyOf: 8\n",
      "http://schema.org/isCreatedB: 18476\n",
      "http://schema.org/isCreatedBy: 17908\n",
      "http://schema.org/isDedicatedT: 34\n",
      "http://schema.org/isDedicatedTo: 34\n",
      "http://schema.org/isDocumentSourceO: 3700\n",
      "http://schema.org/isDocumentSourceOf: 12\n",
      "http://schema.org/isEditionO: 4\n",
      "http://schema.org/isEditionOf: 4\n",
      "http://schema.org/isIntertextualO: 30\n",
      "http://schema.org/isIntertextualOf: 18\n",
      "http://schema.org/isIntertextualT: 68\n",
      "http://schema.org/isIntertextualTo: 60\n",
      "http://schema.org/isObituaryO: 54\n",
      "http://schema.org/isObituaryOf: 54\n",
      "http://schema.org/isParodiedB: 8\n",
      "http://schema.org/isParodiedBy: 6\n",
      "http://schema.org/isParodyO: 2\n",
      "http://schema.org/isParodyOf: 2\n",
      "http://schema.org/isPlagiarismO: 2\n",
      "http://schema.org/isPlagiarismOf: 2\n",
      "http://schema.org/isPrefaceO: 24\n",
      "http://schema.org/isPrefaceOf: 22\n",
      "http://schema.org/isPublishedB: 1376\n",
      "http://schema.org/isPublishedBy: 1376\n",
      "http://schema.org/isStoredA: 6354\n",
      "http://schema.org/isStoredAt: 6354\n",
      "http://schema.org/isTranslationO: 1576\n",
      "http://schema.org/isTranslationOf: 1566\n",
      "http://schema.org/isWorkCommentedOnI: 3884\n",
      "http://schema.org/isWorkCommentedOnIn: 1954\n",
      "http://schema.org/isWorkListedO: 1352\n",
      "http://schema.org/isWorkListedOn: 950\n",
      "http://schema.org/isWorkMentionedI: 1268\n",
      "http://schema.org/isWorkMentionedIn: 1028\n",
      "http://schema.org/isWorkQuotedI: 2\n",
      "http://schema.org/isWorkQuotedIn: 2\n",
      "http://schema.org/label: 2388\n",
      "http://schema.org/link: 4776\n",
      "http://schema.org/links: 17908\n",
      "http://schema.org/listsPerso: 10\n",
      "http://schema.org/listsPerson: 10\n",
      "http://schema.org/listsWor: 4734\n",
      "http://schema.org/listsWork: 4732\n",
      "http://schema.org/mentionsPerso: 692\n",
      "http://schema.org/mentionsPerson: 664\n",
      "http://schema.org/mentionsWor: 904\n",
      "http://schema.org/mentionsWork: 902\n",
      "http://schema.org/modified: 17908\n",
      "http://schema.org/notes: 8460\n",
      "http://schema.org/path: 50955\n",
      "http://schema.org/pid: 8953\n",
      "http://schema.org/quotesPerso: 8\n",
      "http://schema.org/quotesPerson: 8\n",
      "http://schema.org/quotesWor: 4\n",
      "http://schema.org/quotesWork: 4\n",
      "http://schema.org/rdfAlternatives: 17908\n",
      "http://schema.org/reference: 6232\n",
      "http://schema.org/relationCount: 8953\n",
      "http://schema.org/relationId: 50955\n",
      "http://schema.org/relationType: 50955\n",
      "http://schema.org/relations: 17908\n",
      "http://schema.org/rev: 59908\n",
      "http://schema.org/tempCreator: 8884\n",
      "http://schema.org/tempLanguage: 3358\n",
      "http://schema.org/tempOldId: 8854\n",
      "http://schema.org/tempOrigin: 8855\n",
      "http://schema.org/timeStamp: 17908\n"
     ]
    },
    {
     "data": {
      "text/html": [
       "<a target=\"_blank\" href=\"http://schema.org/title\">http://schema.org/title</a>: 8953"
      ],
      "text/plain": [
       "<IPython.core.display.HTML object>"
      ]
     },
     "metadata": {},
     "output_type": "display_data"
    },
    {
     "name": "stdout",
     "output_type": "stream",
     "text": [
      "http://schema.org/type: 77822\n"
     ]
    },
    {
     "data": {
      "text/html": [
       "<a target=\"_blank\" href=\"http://schema.org/url\">http://schema.org/url</a>: 2388"
      ],
      "text/plain": [
       "<IPython.core.display.HTML object>"
      ]
     },
     "metadata": {},
     "output_type": "display_data"
    },
    {
     "name": "stdout",
     "output_type": "stream",
     "text": [
      "http://schema.org/userId: 17908\n",
      "http://schema.org/username: 4555\n",
      "http://schema.org/variationRef: 35828\n",
      "http://schema.org/variationRefs: 17908\n",
      "http://schema.org/vreId: 17908\n",
      "http://timbuctoo.huygens.knaw.nl/static/v5/vocabulary#hasViewConfig: 1\n"
     ]
    },
    {
     "data": {
      "text/html": [
       "<a target=\"_blank\" href=\"http://www.w3.org/1999/02/22-rdf-syntax-ns#type\">http://www.w3.org/1999/02/22-rdf-syntax-ns#type</a>: 165768"
      ],
      "text/plain": [
       "<IPython.core.display.HTML object>"
      ]
     },
     "metadata": {},
     "output_type": "display_data"
    },
    {
     "data": {
      "text/html": [
       "<h3>fingerprint</h3>"
      ],
      "text/plain": [
       "<IPython.core.display.HTML object>"
      ]
     },
     "metadata": {},
     "output_type": "display_data"
    },
    {
     "data": {
      "text/html": [
       "<a target=\"_blank\" href=\"https://repository.huygens.knaw.nl/v5/resourcesync/u519bd710306620fa7c56d541ae7b9f5b7f57a706/emigratie/dataset.nq\">https://repository.huygens.knaw.nl/v5/resourcesync/u519bd710306620fa7c56d541ae7b9f5b7f57a706/emigratie/dataset.nq</a>"
      ],
      "text/plain": [
       "<IPython.core.display.HTML object>"
      ]
     },
     "metadata": {},
     "output_type": "display_data"
    },
    {
     "name": "stdout",
     "output_type": "stream",
     "text": [
      "contexts  :            1\n",
      "statements:       51.010\n",
      "literals  :       20.754\n",
      "literal ratio:    0,41\n",
      "\n",
      "subject netlocs: 4 {'': 20105, 'www.w3.org': 7261, 'resource.huygens.knaw.nl': 23634, 'data.huygens.knaw.nl': 10}\n",
      "object netlocs: 4 {'www.w3.org': 7261, '': 14544, 'resource.huygens.knaw.nl': 8447, 'data.huygens.knaw.nl': 4}\n",
      "\n",
      "example.org | s 0 | p 0 | o 0 | total 0\n",
      "\n",
      "predicate netlocs: 5 | {'www.w3.org': 15708, 'resource.huygens.knaw.nl': 34697, 'schema.org': 599, 'purl.org': 4, 'timbuctoo.huygens.knaw.nl': 2}\n",
      "predicates: 91\n"
     ]
    },
    {
     "data": {
      "text/html": [
       "<a target=\"_blank\" href=\"http://purl.org/dc/terms/description\">http://purl.org/dc/terms/description</a>: 1"
      ],
      "text/plain": [
       "<IPython.core.display.HTML object>"
      ]
     },
     "metadata": {},
     "output_type": "display_data"
    },
    {
     "data": {
      "text/html": [
       "<a target=\"_blank\" href=\"http://purl.org/dc/terms/rightsHolder\">http://purl.org/dc/terms/rightsHolder</a>: 2"
      ],
      "text/plain": [
       "<IPython.core.display.HTML object>"
      ]
     },
     "metadata": {},
     "output_type": "display_data"
    },
    {
     "data": {
      "text/html": [
       "<a target=\"_blank\" href=\"http://purl.org/dc/terms/title\">http://purl.org/dc/terms/title</a>: 1"
      ],
      "text/plain": [
       "<IPython.core.display.HTML object>"
      ]
     },
     "metadata": {},
     "output_type": "display_data"
    },
    {
     "data": {
      "text/html": [
       "<a target=\"_blank\" href=\"http://schema.org/ContactPoint\">http://schema.org/ContactPoint</a>: 2"
      ],
      "text/plain": [
       "<IPython.core.display.HTML object>"
      ]
     },
     "metadata": {},
     "output_type": "display_data"
    },
    {
     "data": {
      "text/html": [
       "<a target=\"_blank\" href=\"http://schema.org/email\">http://schema.org/email</a>: 2"
      ],
      "text/plain": [
       "<IPython.core.display.HTML object>"
      ]
     },
     "metadata": {},
     "output_type": "display_data"
    },
    {
     "data": {
      "text/html": [
       "<a target=\"_blank\" href=\"http://schema.org/name\">http://schema.org/name</a>: 350"
      ],
      "text/plain": [
       "<IPython.core.display.HTML object>"
      ]
     },
     "metadata": {},
     "output_type": "display_data"
    },
    {
     "data": {
      "text/html": [
       "<a target=\"_blank\" href=\"http://schema.org/title\">http://schema.org/title</a>: 245"
      ],
      "text/plain": [
       "<IPython.core.display.HTML object>"
      ]
     },
     "metadata": {},
     "output_type": "display_data"
    },
    {
     "name": "stdout",
     "output_type": "stream",
     "text": [
      "http://timbuctoo.huygens.knaw.nl/static/v5/vocabulary#hasViewConfig: 2\n"
     ]
    },
    {
     "data": {
      "text/html": [
       "<a target=\"_blank\" href=\"http://www.w3.org/1999/02/22-rdf-syntax-ns#type\">http://www.w3.org/1999/02/22-rdf-syntax-ns#type</a>: 15708"
      ],
      "text/plain": [
       "<IPython.core.display.HTML object>"
      ]
     },
     "metadata": {},
     "output_type": "display_data"
    },
    {
     "name": "stdout",
     "output_type": "stream",
     "text": [
      "https://resource.huygens.knaw.nl/emigratie/eaantekeningen: 593\n",
      "https://resource.huygens.knaw.nl/emigratie/eandere_archiefvormers: 348\n",
      "https://resource.huygens.knaw.nl/emigratie/eandere_archiefvormers_link: 696\n",
      "https://resource.huygens.knaw.nl/emigratie/eankernaam: 11\n",
      "https://resource.huygens.knaw.nl/emigratie/eanno: 22\n",
      "https://resource.huygens.knaw.nl/emigratie/eannotatie: 40\n",
      "https://resource.huygens.knaw.nl/emigratie/eannotatie_tekst: 11\n",
      "https://resource.huygens.knaw.nl/emigratie/earchief: 225\n",
      "https://resource.huygens.knaw.nl/emigratie/earchieven: 348\n",
      "https://resource.huygens.knaw.nl/emigratie/earchieven_link: 696\n",
      "https://resource.huygens.knaw.nl/emigratie/ebestemmings_landen: 696\n",
      "https://resource.huygens.knaw.nl/emigratie/ebiografie: 67\n",
      "https://resource.huygens.knaw.nl/emigratie/ebiografie_link: 134\n",
      "https://resource.huygens.knaw.nl/emigratie/edatum_laatste_verandering: 348\n",
      "https://resource.huygens.knaw.nl/emigratie/edoelgroep: 865\n",
      "https://resource.huygens.knaw.nl/emigratie/edoelgroepen: 696\n",
      "https://resource.huygens.knaw.nl/emigratie/edrager: 435\n",
      "https://resource.huygens.knaw.nl/emigratie/efuncties: 67\n",
      "https://resource.huygens.knaw.nl/emigratie/efuncties_link: 134\n",
      "https://resource.huygens.knaw.nl/emigratie/eindices_toegang: 348\n",
      "https://resource.huygens.knaw.nl/emigratie/eindices_toegang_link: 348\n",
      "https://resource.huygens.knaw.nl/emigratie/einformatiedrager: 696\n",
      "https://resource.huygens.knaw.nl/emigratie/einhoud_overig: 348\n",
      "https://resource.huygens.knaw.nl/emigratie/einhoud_overig_link: 696\n",
      "https://resource.huygens.knaw.nl/emigratie/ekenmerk_toegang: 348\n",
      "https://resource.huygens.knaw.nl/emigratie/ekenmerk_toegang_link: 348\n",
      "https://resource.huygens.knaw.nl/emigratie/ekerk: 365\n",
      "https://resource.huygens.knaw.nl/emigratie/ekerkgenootschap: 134\n",
      "https://resource.huygens.knaw.nl/emigratie/eland: 1489\n",
      "https://resource.huygens.knaw.nl/emigratie/eland_herkomst: 696\n",
      "https://resource.huygens.knaw.nl/emigratie/eliteratuur: 348\n",
      "https://resource.huygens.knaw.nl/emigratie/eliteratuur_link: 348\n",
      "https://resource.huygens.knaw.nl/emigratie/enaam_varianten: 348\n",
      "https://resource.huygens.knaw.nl/emigratie/enaam_varianten_link: 348\n",
      "https://resource.huygens.knaw.nl/emigratie/eomvang_invnr: 348\n",
      "https://resource.huygens.knaw.nl/emigratie/eomvang_invnr_link: 348\n",
      "https://resource.huygens.knaw.nl/emigratie/eopenbaarheid: 348\n",
      "https://resource.huygens.knaw.nl/emigratie/eopenbaarheid_link: 348\n",
      "https://resource.huygens.knaw.nl/emigratie/eopmerkingen: 573\n",
      "https://resource.huygens.knaw.nl/emigratie/eopmerkingen_archief: 348\n",
      "https://resource.huygens.knaw.nl/emigratie/eopmerkingen_archief_link: 696\n",
      "https://resource.huygens.knaw.nl/emigratie/eopmerkingen_link: 696\n",
      "https://resource.huygens.knaw.nl/emigratie/eopvolger: 281\n",
      "https://resource.huygens.knaw.nl/emigratie/eopvolger_link: 281\n",
      "https://resource.huygens.knaw.nl/emigratie/eorganisatie: 281\n",
      "https://resource.huygens.knaw.nl/emigratie/eorganisatie_link: 562\n",
      "https://resource.huygens.knaw.nl/emigratie/eoriginele_archivalia_ander: 348\n",
      "https://resource.huygens.knaw.nl/emigratie/eoriginele_archivalia_ander_link: 696\n",
      "https://resource.huygens.knaw.nl/emigratie/eoriginele_archivalia_deze: 348\n",
      "https://resource.huygens.knaw.nl/emigratie/eoriginele_archivalia_deze_link: 696\n",
      "https://resource.huygens.knaw.nl/emigratie/eperiode: 67\n",
      "https://resource.huygens.knaw.nl/emigratie/eperiode_archief: 348\n",
      "https://resource.huygens.knaw.nl/emigratie/eperiode_archief_link: 348\n",
      "https://resource.huygens.knaw.nl/emigratie/eperiode_van_bestaan: 281\n",
      "https://resource.huygens.knaw.nl/emigratie/erelation: 851\n",
      "https://resource.huygens.knaw.nl/emigratie/eseriele_bescheiden: 348\n",
      "https://resource.huygens.knaw.nl/emigratie/eseriele_bescheiden_link: 696\n",
      "https://resource.huygens.knaw.nl/emigratie/estatistische_gegevens: 348\n",
      "https://resource.huygens.knaw.nl/emigratie/estatistische_gegevens_link: 348\n",
      "https://resource.huygens.knaw.nl/emigratie/etaak: 281\n",
      "https://resource.huygens.knaw.nl/emigratie/etaak_link: 562\n",
      "https://resource.huygens.knaw.nl/emigratie/etekst: 20\n",
      "https://resource.huygens.knaw.nl/emigratie/etext: 225\n",
      "https://resource.huygens.knaw.nl/emigratie/etoegang: 348\n",
      "https://resource.huygens.knaw.nl/emigratie/etoegang_link: 348\n",
      "https://resource.huygens.knaw.nl/emigratie/etypering: 1332\n",
      "https://resource.huygens.knaw.nl/emigratie/etypering_instelling: 562\n",
      "https://resource.huygens.knaw.nl/emigratie/etypering_persoon: 134\n",
      "https://resource.huygens.knaw.nl/emigratie/etypering_taken: 562\n",
      "https://resource.huygens.knaw.nl/emigratie/evernietigd: 348\n",
      "https://resource.huygens.knaw.nl/emigratie/evernietigd_link: 348\n",
      "https://resource.huygens.knaw.nl/emigratie/everw_wetten: 348\n",
      "https://resource.huygens.knaw.nl/emigratie/everw_wetten_bilateraal: 696\n",
      "https://resource.huygens.knaw.nl/emigratie/everw_wetten_link: 696\n",
      "https://resource.huygens.knaw.nl/emigratie/everw_wetten_multilateraal: 696\n",
      "https://resource.huygens.knaw.nl/emigratie/everw_wetten_ned: 696\n",
      "https://resource.huygens.knaw.nl/emigratie/evindplaats: 348\n",
      "https://resource.huygens.knaw.nl/emigratie/evindplaats_link: 348\n",
      "https://resource.huygens.knaw.nl/emigratie/evoorloper: 281\n",
      "https://resource.huygens.knaw.nl/emigratie/evoorloper_link: 281\n",
      "https://resource.huygens.knaw.nl/emigratie/ewet: 202\n",
      "https://resource.huygens.knaw.nl/emigratie/ezuil: 562\n"
     ]
    }
   ],
   "source": [
    "dfhuydat = pd.read_csv('data/huydat_resources.csv', index_col=0)\n",
    "for index, row in dfhuydat.iterrows():\n",
    "    resource_url = row['resource']\n",
    "    try:\n",
    "        fingerprint(resource_url)\n",
    "    except Exception as ex:\n",
    "        print(type(ex))"
   ]
  }
 ],
 "metadata": {
  "kernelspec": {
   "display_name": "Python 3",
   "language": "python",
   "name": "python3"
  },
  "language_info": {
   "codemirror_mode": {
    "name": "ipython",
    "version": 3
   },
   "file_extension": ".py",
   "mimetype": "text/x-python",
   "name": "python",
   "nbconvert_exporter": "python",
   "pygments_lexer": "ipython3",
   "version": "3.6.8"
  }
 },
 "nbformat": 4,
 "nbformat_minor": 2
}
