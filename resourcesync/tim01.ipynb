{
 "cells": [
  {
   "cell_type": "markdown",
   "metadata": {},
   "source": [
    "# Analyse datasets in Timbuctoo-instances"
   ]
  },
  {
   "cell_type": "code",
   "execution_count": 10,
   "metadata": {},
   "outputs": [],
   "source": [
    "%%capture\n",
    "%run func.ipynb"
   ]
  },
  {
   "cell_type": "markdown",
   "metadata": {},
   "source": [
    "## List properties per database"
   ]
  },
  {
   "cell_type": "code",
   "execution_count": 11,
   "metadata": {},
   "outputs": [],
   "source": [
    "import pandas as pd\n",
    "\n",
    "def get_ds_props(url):\n",
    "    ds_names = []\n",
    "    cap_locs = []\n",
    "    desc_hrefs = []\n",
    "    desc_types = []\n",
    "    desc_lens = []\n",
    "    rl_num = []\n",
    "    cl_num = []\n",
    "    rl_locs = []\n",
    "    cl_locs = []\n",
    "    rl_ats = []\n",
    "    rl_completeds = []\n",
    "    resources = []\n",
    "    #n_stats = []\n",
    "    \n",
    "    # source description\n",
    "    source_desc = get_sitemap(url)\n",
    "    for c_url in source_desc.rs_urls: \n",
    "        desc_url = None\n",
    "        desc_type = None\n",
    "        ds_names.append(c_url.loc.split('/')[6])\n",
    "        cap_locs.append(c_url.loc) # loc of capability list\n",
    "        desc_url = c_url.describedby_href\n",
    "        desc_type = c_url.describedby_type\n",
    "        \n",
    "        # capability list\n",
    "        cap_list = get_sitemap(c_url.loc)\n",
    "        # urls\n",
    "        rl_count = 0\n",
    "        cl_count = 0\n",
    "        rl_url = None\n",
    "        cl_url = None\n",
    "        for rs_url in cap_list.rs_urls:\n",
    "            if rs_url.capability == 'resourcelist':\n",
    "                rl_count += 1\n",
    "                rl_url = rs_url.loc\n",
    "            if rs_url.capability == 'changelist':\n",
    "                cl_count += 1\n",
    "                cl_url = rs_url.loc\n",
    "        rl_num.append(rl_count)\n",
    "        cl_num.append(cl_count)\n",
    "        rl_locs.append(rl_url)\n",
    "        cl_locs.append(cl_url)\n",
    "        \n",
    "        # dataset description is in RDF\n",
    "        if desc_url is None:\n",
    "            desc_url = cap_list.describedby_href\n",
    "            desc_type = cap_list.describedby_type\n",
    "        desc_len = None\n",
    "        if desc_url:\n",
    "            desc_graph = get_graph(desc_url, desc_type)\n",
    "            desc_len = len(desc_graph)\n",
    "        desc_hrefs.append(desc_url)\n",
    "        desc_types.append(desc_type)\n",
    "        desc_lens.append(desc_len)\n",
    "        \n",
    "        # resourcelist                    \n",
    "        res_list = get_sitemap(rl_url)\n",
    "        rl_ats.append(res_list.at)\n",
    "        rl_completeds.append(res_list.completed)\n",
    "        # up till now we only encounter 1 resource-url in a resource list. \n",
    "        if len(res_list.rs_urls) != 1:\n",
    "            print('warning, %s has not expected number of 1 resource, but %d' % (rl_url, en(res_list.rs_urls)))\n",
    "        resource = res_list.rs_urls[0].loc\n",
    "        resources.append(resource)\n",
    "        \n",
    "        # resource\n",
    "#         n_statements = None\n",
    "#         try:\n",
    "#             graph = get_quads(resource)\n",
    "#             n_statements = len(graph)\n",
    "#         except:\n",
    "#             print('could not load', resource)\n",
    "#         n_stats.append(n_statements)\n",
    "        \n",
    "        \n",
    "    return pd.DataFrame({'ds_name': ds_names, 'cap_loc': cap_locs, \n",
    "                         'desc_href': desc_hrefs, 'desc_type': desc_types, 'desc_len': desc_lens,\n",
    "                         'n_rl': rl_num, 'n_cl': cl_num, 'rl_loc': rl_locs, 'cl_loc': cl_locs,\n",
    "                         'rl_at': rl_ats, 'rl_completed': rl_completeds, 'resource': resources}) #, 'n_statements': n_stats})"
   ]
  },
  {
   "cell_type": "code",
   "execution_count": 12,
   "metadata": {},
   "outputs": [
    {
     "data": {
      "text/plain": [
       "(11, 12)"
      ]
     },
     "metadata": {},
     "output_type": "display_data"
    },
    {
     "data": {
      "text/html": [
       "<div>\n",
       "<style scoped>\n",
       "    .dataframe tbody tr th:only-of-type {\n",
       "        vertical-align: middle;\n",
       "    }\n",
       "\n",
       "    .dataframe tbody tr th {\n",
       "        vertical-align: top;\n",
       "    }\n",
       "\n",
       "    .dataframe thead th {\n",
       "        text-align: right;\n",
       "    }\n",
       "</style>\n",
       "<table border=\"1\" class=\"dataframe\">\n",
       "  <thead>\n",
       "    <tr style=\"text-align: right;\">\n",
       "      <th></th>\n",
       "      <th>ds_name</th>\n",
       "      <th>cap_loc</th>\n",
       "      <th>desc_href</th>\n",
       "      <th>desc_type</th>\n",
       "      <th>desc_len</th>\n",
       "      <th>n_rl</th>\n",
       "      <th>n_cl</th>\n",
       "      <th>rl_loc</th>\n",
       "      <th>cl_loc</th>\n",
       "      <th>rl_at</th>\n",
       "      <th>rl_completed</th>\n",
       "      <th>resource</th>\n",
       "    </tr>\n",
       "  </thead>\n",
       "  <tbody>\n",
       "    <tr>\n",
       "      <th>0</th>\n",
       "      <td>wwriters_nl</td>\n",
       "      <td>https://data.anansi.clariah.nl/v5/resourcesync/u38d24500551ccff8d2b0c4f84fc947f45934aa26/wwriters_nl/capabilitylist.xml</td>\n",
       "      <td>https://data.anansi.clariah.nl/v5/resourcesync/u38d24500551ccff8d2b0c4f84fc947f45934aa26/wwriters_nl/description.xml</td>\n",
       "      <td>application/rdf+xml</td>\n",
       "      <td>0</td>\n",
       "      <td>1</td>\n",
       "      <td>1</td>\n",
       "      <td>https://data.anansi.clariah.nl/v5/resourcesync/u38d24500551ccff8d2b0c4f84fc947f45934aa26/wwriters_nl/resourcelist.xml</td>\n",
       "      <td>https://data.anansi.clariah.nl/v5/resourcesync/u38d24500551ccff8d2b0c4f84fc947f45934aa26/wwriters_nl/changelist.xml</td>\n",
       "      <td>2019-01-31 08:04:33.830000+00:00</td>\n",
       "      <td>2019-01-31 12:07:53.827000+00:00</td>\n",
       "      <td>https://data.anansi.clariah.nl/v5/resourcesync/u38d24500551ccff8d2b0c4f84fc947f45934aa26/wwriters_nl/dataset.nq</td>\n",
       "    </tr>\n",
       "    <tr>\n",
       "      <th>1</th>\n",
       "      <td>gemeentegeschiedenisnl</td>\n",
       "      <td>https://data.anansi.clariah.nl/v5/resourcesync/u74ccc032adf8422d7ea92df96cd4783f0543db3b/gemeentegeschiedenisnl/capabilitylist.xml</td>\n",
       "      <td>https://data.anansi.clariah.nl/v5/resourcesync/u74ccc032adf8422d7ea92df96cd4783f0543db3b/gemeentegeschiedenisnl/description.xml</td>\n",
       "      <td>application/rdf+xml</td>\n",
       "      <td>0</td>\n",
       "      <td>1</td>\n",
       "      <td>1</td>\n",
       "      <td>https://data.anansi.clariah.nl/v5/resourcesync/u74ccc032adf8422d7ea92df96cd4783f0543db3b/gemeentegeschiedenisnl/resourcelist.xml</td>\n",
       "      <td>https://data.anansi.clariah.nl/v5/resourcesync/u74ccc032adf8422d7ea92df96cd4783f0543db3b/gemeentegeschiedenisnl/changelist.xml</td>\n",
       "      <td>2019-01-31 08:04:34.028000+00:00</td>\n",
       "      <td>2019-01-31 12:07:54.006000+00:00</td>\n",
       "      <td>https://data.anansi.clariah.nl/v5/resourcesync/u74ccc032adf8422d7ea92df96cd4783f0543db3b/gemeentegeschiedenisnl/dataset.nq</td>\n",
       "    </tr>\n",
       "    <tr>\n",
       "      <th>2</th>\n",
       "      <td>dwc</td>\n",
       "      <td>https://data.anansi.clariah.nl/v5/resourcesync/u74ccc032adf8422d7ea92df96cd4783f0543db3b/dwc/capabilitylist.xml</td>\n",
       "      <td>https://data.anansi.clariah.nl/v5/resourcesync/u74ccc032adf8422d7ea92df96cd4783f0543db3b/dwc/description.xml</td>\n",
       "      <td>application/rdf+xml</td>\n",
       "      <td>7</td>\n",
       "      <td>1</td>\n",
       "      <td>1</td>\n",
       "      <td>https://data.anansi.clariah.nl/v5/resourcesync/u74ccc032adf8422d7ea92df96cd4783f0543db3b/dwc/resourcelist.xml</td>\n",
       "      <td>https://data.anansi.clariah.nl/v5/resourcesync/u74ccc032adf8422d7ea92df96cd4783f0543db3b/dwc/changelist.xml</td>\n",
       "      <td>2019-01-31 08:04:34.273000+00:00</td>\n",
       "      <td>2019-01-31 12:07:54.139000+00:00</td>\n",
       "      <td>https://data.anansi.clariah.nl/v5/resourcesync/u74ccc032adf8422d7ea92df96cd4783f0543db3b/dwc/dataset.nq</td>\n",
       "    </tr>\n",
       "    <tr>\n",
       "      <th>3</th>\n",
       "      <td>nlgis</td>\n",
       "      <td>https://data.anansi.clariah.nl/v5/resourcesync/u74ccc032adf8422d7ea92df96cd4783f0543db3b/nlgis/capabilitylist.xml</td>\n",
       "      <td>https://data.anansi.clariah.nl/v5/resourcesync/u74ccc032adf8422d7ea92df96cd4783f0543db3b/nlgis/description.xml</td>\n",
       "      <td>application/rdf+xml</td>\n",
       "      <td>0</td>\n",
       "      <td>1</td>\n",
       "      <td>1</td>\n",
       "      <td>https://data.anansi.clariah.nl/v5/resourcesync/u74ccc032adf8422d7ea92df96cd4783f0543db3b/nlgis/resourcelist.xml</td>\n",
       "      <td>https://data.anansi.clariah.nl/v5/resourcesync/u74ccc032adf8422d7ea92df96cd4783f0543db3b/nlgis/changelist.xml</td>\n",
       "      <td>2019-01-31 08:04:34.986000+00:00</td>\n",
       "      <td>2019-01-31 12:07:54.270000+00:00</td>\n",
       "      <td>https://data.anansi.clariah.nl/v5/resourcesync/u74ccc032adf8422d7ea92df96cd4783f0543db3b/nlgis/dataset.nq</td>\n",
       "    </tr>\n",
       "    <tr>\n",
       "      <th>4</th>\n",
       "      <td>gemeentegeschiedenis</td>\n",
       "      <td>https://data.anansi.clariah.nl/v5/resourcesync/u74ccc032adf8422d7ea92df96cd4783f0543db3b/gemeentegeschiedenis/capabilitylist.xml</td>\n",
       "      <td>https://data.anansi.clariah.nl/v5/resourcesync/u74ccc032adf8422d7ea92df96cd4783f0543db3b/gemeentegeschiedenis/description.xml</td>\n",
       "      <td>application/rdf+xml</td>\n",
       "      <td>0</td>\n",
       "      <td>1</td>\n",
       "      <td>1</td>\n",
       "      <td>https://data.anansi.clariah.nl/v5/resourcesync/u74ccc032adf8422d7ea92df96cd4783f0543db3b/gemeentegeschiedenis/resourcelist.xml</td>\n",
       "      <td>https://data.anansi.clariah.nl/v5/resourcesync/u74ccc032adf8422d7ea92df96cd4783f0543db3b/gemeentegeschiedenis/changelist.xml</td>\n",
       "      <td>2019-01-31 08:04:33.928000+00:00</td>\n",
       "      <td>2019-01-31 12:07:54.392000+00:00</td>\n",
       "      <td>https://data.anansi.clariah.nl/v5/resourcesync/u74ccc032adf8422d7ea92df96cd4783f0543db3b/gemeentegeschiedenis/dataset.nq</td>\n",
       "    </tr>\n",
       "  </tbody>\n",
       "</table>\n",
       "</div>"
      ],
      "text/plain": [
       "                  ds_name  \\\n",
       "0  wwriters_nl              \n",
       "1  gemeentegeschiedenisnl   \n",
       "2  dwc                      \n",
       "3  nlgis                    \n",
       "4  gemeentegeschiedenis     \n",
       "\n",
       "                                                                                                                              cap_loc  \\\n",
       "0  https://data.anansi.clariah.nl/v5/resourcesync/u38d24500551ccff8d2b0c4f84fc947f45934aa26/wwriters_nl/capabilitylist.xml              \n",
       "1  https://data.anansi.clariah.nl/v5/resourcesync/u74ccc032adf8422d7ea92df96cd4783f0543db3b/gemeentegeschiedenisnl/capabilitylist.xml   \n",
       "2  https://data.anansi.clariah.nl/v5/resourcesync/u74ccc032adf8422d7ea92df96cd4783f0543db3b/dwc/capabilitylist.xml                      \n",
       "3  https://data.anansi.clariah.nl/v5/resourcesync/u74ccc032adf8422d7ea92df96cd4783f0543db3b/nlgis/capabilitylist.xml                    \n",
       "4  https://data.anansi.clariah.nl/v5/resourcesync/u74ccc032adf8422d7ea92df96cd4783f0543db3b/gemeentegeschiedenis/capabilitylist.xml     \n",
       "\n",
       "                                                                                                                         desc_href  \\\n",
       "0  https://data.anansi.clariah.nl/v5/resourcesync/u38d24500551ccff8d2b0c4f84fc947f45934aa26/wwriters_nl/description.xml              \n",
       "1  https://data.anansi.clariah.nl/v5/resourcesync/u74ccc032adf8422d7ea92df96cd4783f0543db3b/gemeentegeschiedenisnl/description.xml   \n",
       "2  https://data.anansi.clariah.nl/v5/resourcesync/u74ccc032adf8422d7ea92df96cd4783f0543db3b/dwc/description.xml                      \n",
       "3  https://data.anansi.clariah.nl/v5/resourcesync/u74ccc032adf8422d7ea92df96cd4783f0543db3b/nlgis/description.xml                    \n",
       "4  https://data.anansi.clariah.nl/v5/resourcesync/u74ccc032adf8422d7ea92df96cd4783f0543db3b/gemeentegeschiedenis/description.xml     \n",
       "\n",
       "             desc_type  desc_len  n_rl  n_cl  \\\n",
       "0  application/rdf+xml  0         1     1      \n",
       "1  application/rdf+xml  0         1     1      \n",
       "2  application/rdf+xml  7         1     1      \n",
       "3  application/rdf+xml  0         1     1      \n",
       "4  application/rdf+xml  0         1     1      \n",
       "\n",
       "                                                                                                                             rl_loc  \\\n",
       "0  https://data.anansi.clariah.nl/v5/resourcesync/u38d24500551ccff8d2b0c4f84fc947f45934aa26/wwriters_nl/resourcelist.xml              \n",
       "1  https://data.anansi.clariah.nl/v5/resourcesync/u74ccc032adf8422d7ea92df96cd4783f0543db3b/gemeentegeschiedenisnl/resourcelist.xml   \n",
       "2  https://data.anansi.clariah.nl/v5/resourcesync/u74ccc032adf8422d7ea92df96cd4783f0543db3b/dwc/resourcelist.xml                      \n",
       "3  https://data.anansi.clariah.nl/v5/resourcesync/u74ccc032adf8422d7ea92df96cd4783f0543db3b/nlgis/resourcelist.xml                    \n",
       "4  https://data.anansi.clariah.nl/v5/resourcesync/u74ccc032adf8422d7ea92df96cd4783f0543db3b/gemeentegeschiedenis/resourcelist.xml     \n",
       "\n",
       "                                                                                                                           cl_loc  \\\n",
       "0  https://data.anansi.clariah.nl/v5/resourcesync/u38d24500551ccff8d2b0c4f84fc947f45934aa26/wwriters_nl/changelist.xml              \n",
       "1  https://data.anansi.clariah.nl/v5/resourcesync/u74ccc032adf8422d7ea92df96cd4783f0543db3b/gemeentegeschiedenisnl/changelist.xml   \n",
       "2  https://data.anansi.clariah.nl/v5/resourcesync/u74ccc032adf8422d7ea92df96cd4783f0543db3b/dwc/changelist.xml                      \n",
       "3  https://data.anansi.clariah.nl/v5/resourcesync/u74ccc032adf8422d7ea92df96cd4783f0543db3b/nlgis/changelist.xml                    \n",
       "4  https://data.anansi.clariah.nl/v5/resourcesync/u74ccc032adf8422d7ea92df96cd4783f0543db3b/gemeentegeschiedenis/changelist.xml     \n",
       "\n",
       "                             rl_at                     rl_completed  \\\n",
       "0 2019-01-31 08:04:33.830000+00:00 2019-01-31 12:07:53.827000+00:00   \n",
       "1 2019-01-31 08:04:34.028000+00:00 2019-01-31 12:07:54.006000+00:00   \n",
       "2 2019-01-31 08:04:34.273000+00:00 2019-01-31 12:07:54.139000+00:00   \n",
       "3 2019-01-31 08:04:34.986000+00:00 2019-01-31 12:07:54.270000+00:00   \n",
       "4 2019-01-31 08:04:33.928000+00:00 2019-01-31 12:07:54.392000+00:00   \n",
       "\n",
       "                                                                                                                     resource  \n",
       "0  https://data.anansi.clariah.nl/v5/resourcesync/u38d24500551ccff8d2b0c4f84fc947f45934aa26/wwriters_nl/dataset.nq             \n",
       "1  https://data.anansi.clariah.nl/v5/resourcesync/u74ccc032adf8422d7ea92df96cd4783f0543db3b/gemeentegeschiedenisnl/dataset.nq  \n",
       "2  https://data.anansi.clariah.nl/v5/resourcesync/u74ccc032adf8422d7ea92df96cd4783f0543db3b/dwc/dataset.nq                     \n",
       "3  https://data.anansi.clariah.nl/v5/resourcesync/u74ccc032adf8422d7ea92df96cd4783f0543db3b/nlgis/dataset.nq                   \n",
       "4  https://data.anansi.clariah.nl/v5/resourcesync/u74ccc032adf8422d7ea92df96cd4783f0543db3b/gemeentegeschiedenis/dataset.nq    "
      ]
     },
     "metadata": {},
     "output_type": "display_data"
    }
   ],
   "source": [
    "pd.options.display.max_colwidth = 0\n",
    "df = get_ds_props(ANANSI_URL)\n",
    "display(df.shape, df.head())"
   ]
  },
  {
   "cell_type": "code",
   "execution_count": 13,
   "metadata": {},
   "outputs": [],
   "source": [
    "df.to_csv('data/anansi_resources.csv')"
   ]
  },
  {
   "cell_type": "code",
   "execution_count": 14,
   "metadata": {},
   "outputs": [
    {
     "name": "stdout",
     "output_type": "stream",
     "text": [
      "<class 'pandas.core.frame.DataFrame'>\n",
      "RangeIndex: 39 entries, 0 to 38\n",
      "Data columns (total 12 columns):\n",
      "ds_name         39 non-null object\n",
      "cap_loc         39 non-null object\n",
      "desc_href       39 non-null object\n",
      "desc_type       39 non-null object\n",
      "desc_len        39 non-null int64\n",
      "n_rl            39 non-null int64\n",
      "n_cl            39 non-null int64\n",
      "rl_loc          39 non-null object\n",
      "cl_loc          39 non-null object\n",
      "rl_at           39 non-null datetime64[ns, UTC]\n",
      "rl_completed    39 non-null datetime64[ns, UTC]\n",
      "resource        39 non-null object\n",
      "dtypes: datetime64[ns, UTC](2), int64(3), object(7)\n",
      "memory usage: 3.7+ KB\n"
     ]
    }
   ],
   "source": [
    "df = get_ds_props(HUYDAT_URL)\n",
    "df.info()"
   ]
  },
  {
   "cell_type": "code",
   "execution_count": 15,
   "metadata": {},
   "outputs": [],
   "source": [
    "df.to_csv('data/huydat_resources.csv')"
   ]
  },
  {
   "cell_type": "markdown",
   "metadata": {},
   "source": [
    "## Inspecting datasets"
   ]
  },
  {
   "cell_type": "code",
   "execution_count": 16,
   "metadata": {},
   "outputs": [],
   "source": [
    "from rdflib import Literal\n",
    "import requests\n",
    "from IPython.core.display import display, HTML\n",
    "import urllib\n",
    "from urllib.parse import urlparse\n",
    "\n",
    "\n",
    "def fr(x):\n",
    "    return '{:12,}'.format(x).replace(',', '.')\n",
    "\n",
    "def isresolvable(url):\n",
    "    try:\n",
    "        response = requests.get(url)\n",
    "        return response.ok\n",
    "    except:\n",
    "        return False\n",
    "\n",
    "class GraphProps(object):\n",
    "    \n",
    "    def __init__(self, g):\n",
    "        self.statements = len(g)\n",
    "        self.contexts = list(g.contexts())\n",
    "        self.netlocs_s = dict()\n",
    "        self.netlocs_p = dict()\n",
    "        self.netlocs_o = dict()\n",
    "        self.literals = 0\n",
    "        self.predicates = dict()\n",
    "        for s,p,o in g.triples((None,None,None)):\n",
    "            self.predicates[str(p)] = self.predicates.get(str(p), 0) + 1\n",
    "            \n",
    "            nl = urlparse(str(s)).netloc\n",
    "            self.netlocs_s[nl] = self.netlocs_s.get(nl, 0) + 1\n",
    "            \n",
    "            nl = urlparse(str(p)).netloc\n",
    "            self.netlocs_p[nl] = self.netlocs_p.get(nl, 0) + 1\n",
    "            \n",
    "            if isinstance(o, Literal):\n",
    "                self.literals += 1\n",
    "            else:\n",
    "                nl = urlparse(str(o)).netloc\n",
    "                self.netlocs_o[nl] = self.netlocs_o.get(nl, 0) + 1\n",
    "    \n",
    "    def print_props(self):\n",
    "        print('contexts  :', fr(len(self.contexts)))\n",
    "        print('statements:', fr(self.statements))\n",
    "        print('literals  :', fr(self.literals))\n",
    "        nar = self.literals/self.statements\n",
    "        print('literal ratio:', '{:7.2f}'.format(nar).replace('.', ','))\n",
    "        \n",
    "        print()\n",
    "        print('subject netlocs:', len(self.netlocs_s), self.netlocs_s)\n",
    "        print('object netlocs:', len(self.netlocs_o), self.netlocs_o)\n",
    "        \n",
    "        print()\n",
    "        edo = 'example.org'\n",
    "        edos = self.netlocs_s.get(edo, 0) + self.netlocs_p.get(edo, 0) + self.netlocs_o.get(edo, 0)\n",
    "        print('example.org', '| s', self.netlocs_s.get(edo, 0), '| p', self.netlocs_p.get(edo, 0), '| o', self.netlocs_o.get(edo, 0), '| total', edos)\n",
    "        \n",
    "        print()\n",
    "        print('predicate netlocs:', len(self.netlocs_p), '|', self.netlocs_p)\n",
    "        print('predicates:', len(self.predicates))\n",
    "        for key in sorted(self.predicates):\n",
    "            \n",
    "            if urlparse(key).netloc != 'example.org' and isresolvable(key):\n",
    "                display(HTML(\"\"\"<a target=\"_blank\" href=\"{}\">{}</a>\"\"\".format(key, key) + ': ' + str(self.predicates[key])))\n",
    "            else:\n",
    "                print('%s: %s' % (key, self.predicates[key]))"
   ]
  },
  {
   "cell_type": "code",
   "execution_count": 17,
   "metadata": {},
   "outputs": [],
   "source": [
    "def fingerprint(resource_url):\n",
    "    display(HTML(\"\"\"<h3>fingerprint</h3>\"\"\"))\n",
    "    display(HTML(\"\"\"<a target=\"_blank\" href=\"{}\">{}</a>\"\"\".format(resource_url, resource_url)))\n",
    "    g = get_quads(resource_url)\n",
    "    gp = GraphProps(g)\n",
    "    gp.print_props()"
   ]
  },
  {
   "cell_type": "code",
   "execution_count": 18,
   "metadata": {},
   "outputs": [],
   "source": [
    "# fingerprint('https://repository.huygens.knaw.nl/v5/resourcesync/u519bd710306620fa7c56d541ae7b9f5b7f57a706/test_wwdocument/dataset.nq')"
   ]
  },
  {
   "cell_type": "code",
   "execution_count": 19,
   "metadata": {},
   "outputs": [],
   "source": [
    "# rurl ='https://data.anansi.clariah.nl/v5/resourcesync/u74ccc032adf8422d7ea92df96cd4783f0543db3b/gemeentegeschiedenisnl/dataset.nq'\n",
    "# g = get_quads(rurl)"
   ]
  },
  {
   "cell_type": "code",
   "execution_count": 20,
   "metadata": {},
   "outputs": [],
   "source": [
    "# from rdflib import URIRef\n",
    "\n",
    "# max = 5\n",
    "# tel = 0\n",
    "# for p, o in g.predicate_objects(URIRef('https://gemeentegeschiedenis.nl/def/geometry_type')):\n",
    "#     tel += 1\n",
    "#     print(p, o)\n",
    "#     if tel >= max:\n",
    "#         break"
   ]
  },
  {
   "cell_type": "code",
   "execution_count": 21,
   "metadata": {},
   "outputs": [
    {
     "data": {
      "text/html": [
       "<h3>fingerprint</h3>"
      ],
      "text/plain": [
       "<IPython.core.display.HTML object>"
      ]
     },
     "metadata": {},
     "output_type": "display_data"
    },
    {
     "data": {
      "text/html": [
       "<a target=\"_blank\" href=\"https://data.anansi.clariah.nl/v5/resourcesync/u38d24500551ccff8d2b0c4f84fc947f45934aa26/wwriters_nl/dataset.nq\">https://data.anansi.clariah.nl/v5/resourcesync/u38d24500551ccff8d2b0c4f84fc947f45934aa26/wwriters_nl/dataset.nq</a>"
      ],
      "text/plain": [
       "<IPython.core.display.HTML object>"
      ]
     },
     "metadata": {},
     "output_type": "display_data"
    },
    {
     "name": "stdout",
     "output_type": "stream",
     "text": [
      "contexts  :            1\n",
      "statements:      509.868\n",
      "literals  :            0\n",
      "literal ratio:    0,00\n",
      "\n",
      "subject netlocs: 3 {'resource.huygens.knaw.nl': 71630, '': 364307, 'www.w3.org': 73931}\n",
      "object netlocs: 3 {'': 364307, 'resource.huygens.knaw.nl': 71630, 'www.w3.org': 73931}\n",
      "\n",
      "example.org | s 0 | p 0 | o 0 | total 0\n",
      "\n",
      "predicate netlocs: 2 | {'schema.org': 344100, 'www.w3.org': 165768}\n",
      "predicates: 101\n",
      "http://schema.org/commentsOnPerso: 2508\n",
      "http://schema.org/commentsOnPerson: 2506\n",
      "http://schema.org/commentsOnWor: 2364\n",
      "http://schema.org/commentsOnWork: 2342\n",
      "http://schema.org/containedInAntholog: 8\n",
      "http://schema.org/containedInAnthology: 8\n",
      "http://schema.org/created: 17908\n",
      "http://schema.org/hasAdaptatio: 46\n",
      "http://schema.org/hasAdaptation: 38\n",
      "http://schema.org/hasAnnotationsO: 6\n",
      "http://schema.org/hasAnnotationsOn: 6\n",
      "http://schema.org/hasDocumentSourc: 11084\n",
      "http://schema.org/hasDocumentSource: 11084\n",
      "http://schema.org/hasEditio: 4\n",
      "http://schema.org/hasEdition: 4\n",
      "http://schema.org/hasGenr: 10750\n",
      "http://schema.org/hasGenre: 9980\n",
      "http://schema.org/hasPrefac: 16\n",
      "http://schema.org/hasPreface: 16\n",
      "http://schema.org/hasPublishLocatio: 17684\n",
      "http://schema.org/hasPublishLocation: 17678\n",
      "http://schema.org/hasSourceCategor: 10\n",
      "http://schema.org/hasSourceCategory: 10\n",
      "http://schema.org/hasTranslatio: 222\n",
      "http://schema.org/hasTranslation: 168\n",
      "http://schema.org/hasWorkLanguag: 12452\n",
      "http://schema.org/hasWorkLanguage: 12444\n",
      "http://schema.org/isAdaptationO: 94\n",
      "http://schema.org/isAdaptationOf: 92\n",
      "http://schema.org/isAnnotatedI: 2\n",
      "http://schema.org/isAnnotatedIn: 2\n",
      "http://schema.org/isAnthologyContainin: 6\n",
      "http://schema.org/isAnthologyContaining: 4\n",
      "http://schema.org/isBibliographyO: 2\n",
      "http://schema.org/isBibliographyOf: 2\n",
      "http://schema.org/isBiographyO: 68\n",
      "http://schema.org/isBiographyOf: 64\n",
      "http://schema.org/isCensoredB: 2\n",
      "http://schema.org/isCensoredBy: 2\n",
      "http://schema.org/isCensoringO: 2\n",
      "http://schema.org/isCensoringOf: 2\n",
      "http://schema.org/isCopiedB: 6\n",
      "http://schema.org/isCopiedBy: 6\n",
      "http://schema.org/isCopyO: 8\n",
      "http://schema.org/isCopyOf: 8\n",
      "http://schema.org/isCreatedB: 18476\n",
      "http://schema.org/isCreatedBy: 17908\n",
      "http://schema.org/isDedicatedT: 34\n",
      "http://schema.org/isDedicatedTo: 34\n",
      "http://schema.org/isDocumentSourceO: 3700\n",
      "http://schema.org/isDocumentSourceOf: 12\n",
      "http://schema.org/isEditionO: 4\n",
      "http://schema.org/isEditionOf: 4\n",
      "http://schema.org/isIntertextualO: 30\n",
      "http://schema.org/isIntertextualOf: 18\n",
      "http://schema.org/isIntertextualT: 68\n",
      "http://schema.org/isIntertextualTo: 60\n",
      "http://schema.org/isObituaryO: 54\n",
      "http://schema.org/isObituaryOf: 54\n",
      "http://schema.org/isParodiedB: 8\n",
      "http://schema.org/isParodiedBy: 6\n",
      "http://schema.org/isParodyO: 2\n",
      "http://schema.org/isParodyOf: 2\n",
      "http://schema.org/isPlagiarismO: 2\n",
      "http://schema.org/isPlagiarismOf: 2\n",
      "http://schema.org/isPrefaceO: 24\n",
      "http://schema.org/isPrefaceOf: 22\n",
      "http://schema.org/isPublishedB: 1376\n",
      "http://schema.org/isPublishedBy: 1376\n",
      "http://schema.org/isStoredA: 6354\n",
      "http://schema.org/isStoredAt: 6354\n",
      "http://schema.org/isTranslationO: 1576\n",
      "http://schema.org/isTranslationOf: 1566\n",
      "http://schema.org/isWorkCommentedOnI: 3884\n",
      "http://schema.org/isWorkCommentedOnIn: 1954\n",
      "http://schema.org/isWorkListedO: 1352\n",
      "http://schema.org/isWorkListedOn: 950\n",
      "http://schema.org/isWorkMentionedI: 1268\n",
      "http://schema.org/isWorkMentionedIn: 1028\n",
      "http://schema.org/isWorkQuotedI: 2\n",
      "http://schema.org/isWorkQuotedIn: 2\n",
      "http://schema.org/link: 4776\n",
      "http://schema.org/links: 17908\n",
      "http://schema.org/listsPerso: 10\n",
      "http://schema.org/listsPerson: 10\n",
      "http://schema.org/listsWor: 4734\n",
      "http://schema.org/listsWork: 4732\n",
      "http://schema.org/mentionsPerso: 692\n",
      "http://schema.org/mentionsPerson: 664\n",
      "http://schema.org/mentionsWor: 904\n",
      "http://schema.org/mentionsWork: 902\n",
      "http://schema.org/modified: 17908\n",
      "http://schema.org/quotesPerso: 8\n",
      "http://schema.org/quotesPerson: 8\n",
      "http://schema.org/quotesWor: 4\n",
      "http://schema.org/quotesWork: 4\n",
      "http://schema.org/rdfAlternatives: 17908\n",
      "http://schema.org/relations: 17908\n",
      "http://schema.org/variationRef: 35828\n",
      "http://schema.org/variationRefs: 17908\n"
     ]
    },
    {
     "data": {
      "text/html": [
       "<a target=\"_blank\" href=\"http://www.w3.org/1999/02/22-rdf-syntax-ns#type\">http://www.w3.org/1999/02/22-rdf-syntax-ns#type</a>: 165768"
      ],
      "text/plain": [
       "<IPython.core.display.HTML object>"
      ]
     },
     "metadata": {},
     "output_type": "display_data"
    },
    {
     "data": {
      "text/html": [
       "<h3>fingerprint</h3>"
      ],
      "text/plain": [
       "<IPython.core.display.HTML object>"
      ]
     },
     "metadata": {},
     "output_type": "display_data"
    },
    {
     "data": {
      "text/html": [
       "<a target=\"_blank\" href=\"https://data.anansi.clariah.nl/v5/resourcesync/u74ccc032adf8422d7ea92df96cd4783f0543db3b/gemeentegeschiedenisnl/dataset.nq\">https://data.anansi.clariah.nl/v5/resourcesync/u74ccc032adf8422d7ea92df96cd4783f0543db3b/gemeentegeschiedenisnl/dataset.nq</a>"
      ],
      "text/plain": [
       "<IPython.core.display.HTML object>"
      ]
     },
     "metadata": {},
     "output_type": "display_data"
    },
    {
     "name": "stdout",
     "output_type": "stream",
     "text": [
      "contexts  :            1\n",
      "statements:       45.783\n",
      "literals  :       19.891\n",
      "literal ratio:    0,43\n",
      "\n",
      "subject netlocs: 7 {'gemeentegeschiedenis.nl': 32898, 'triply.cc': 8619, 'cbs.nl': 1388, 'www.opengis.net': 2873, 'www.w3.org': 2, 'rdfs.org': 2, 'www.gemeentegeschiedenis.nl': 1}\n",
      "object netlocs: 7 {'gemeentegeschiedenis.nl': 15882, 'www.opengis.net': 2873, 'cbs.nl': 1387, 'triply.cc': 5746, 'rdfs.org': 1, 'www.w3.org': 2, 'www.gemeentegeschiedenis.nl': 1}\n",
      "\n",
      "example.org | s 0 | p 0 | o 0 | total 0\n",
      "\n",
      "predicate netlocs: 8 | {'gemeentegeschiedenis.nl': 18311, 'www.w3.org': 17399, 'www.opengis.net': 8619, 'cbs.nl': 1440, 'rdfs.org': 4, 'xmlns.com': 2, 'purl.org': 6, 'timbuctoo.huygens.knaw.nl': 2}\n",
      "predicates: 21\n"
     ]
    },
    {
     "data": {
      "text/html": [
       "<a target=\"_blank\" href=\"http://purl.org/dc/elements/1.1/created\">http://purl.org/dc/elements/1.1/created</a>: 1"
      ],
      "text/plain": [
       "<IPython.core.display.HTML object>"
      ]
     },
     "metadata": {},
     "output_type": "display_data"
    },
    {
     "data": {
      "text/html": [
       "<a target=\"_blank\" href=\"http://purl.org/dc/elements/1.1/creator\">http://purl.org/dc/elements/1.1/creator</a>: 2"
      ],
      "text/plain": [
       "<IPython.core.display.HTML object>"
      ]
     },
     "metadata": {},
     "output_type": "display_data"
    },
    {
     "data": {
      "text/html": [
       "<a target=\"_blank\" href=\"http://purl.org/dc/elements/1.1/description\">http://purl.org/dc/elements/1.1/description</a>: 1"
      ],
      "text/plain": [
       "<IPython.core.display.HTML object>"
      ]
     },
     "metadata": {},
     "output_type": "display_data"
    },
    {
     "data": {
      "text/html": [
       "<a target=\"_blank\" href=\"http://purl.org/dc/elements/1.1/publisher\">http://purl.org/dc/elements/1.1/publisher</a>: 1"
      ],
      "text/plain": [
       "<IPython.core.display.HTML object>"
      ]
     },
     "metadata": {},
     "output_type": "display_data"
    },
    {
     "data": {
      "text/html": [
       "<a target=\"_blank\" href=\"http://purl.org/dc/elements/1.1/title\">http://purl.org/dc/elements/1.1/title</a>: 1"
      ],
      "text/plain": [
       "<IPython.core.display.HTML object>"
      ]
     },
     "metadata": {},
     "output_type": "display_data"
    },
    {
     "data": {
      "text/html": [
       "<a target=\"_blank\" href=\"http://rdfs.org/ns/void#subset\">http://rdfs.org/ns/void#subset</a>: 4"
      ],
      "text/plain": [
       "<IPython.core.display.HTML object>"
      ]
     },
     "metadata": {},
     "output_type": "display_data"
    },
    {
     "name": "stdout",
     "output_type": "stream",
     "text": [
      "http://timbuctoo.huygens.knaw.nl/static/v5/vocabulary#hasIndexConfig: 2\n"
     ]
    },
    {
     "data": {
      "text/html": [
       "<a target=\"_blank\" href=\"http://www.opengis.net/ont/geosparql#asWKT\">http://www.opengis.net/ont/geosparql#asWKT</a>: 2873"
      ],
      "text/plain": [
       "<IPython.core.display.HTML object>"
      ]
     },
     "metadata": {},
     "output_type": "display_data"
    },
    {
     "data": {
      "text/html": [
       "<a target=\"_blank\" href=\"http://www.opengis.net/ont/geosparql#hasGeometry\">http://www.opengis.net/ont/geosparql#hasGeometry</a>: 5746"
      ],
      "text/plain": [
       "<IPython.core.display.HTML object>"
      ]
     },
     "metadata": {},
     "output_type": "display_data"
    },
    {
     "data": {
      "text/html": [
       "<a target=\"_blank\" href=\"http://www.w3.org/1999/02/22-rdf-syntax-ns#type\">http://www.w3.org/1999/02/22-rdf-syntax-ns#type</a>: 14324"
      ],
      "text/plain": [
       "<IPython.core.display.HTML object>"
      ]
     },
     "metadata": {},
     "output_type": "display_data"
    },
    {
     "data": {
      "text/html": [
       "<a target=\"_blank\" href=\"http://www.w3.org/2000/01/rdf-schema#domain\">http://www.w3.org/2000/01/rdf-schema#domain</a>: 6"
      ],
      "text/plain": [
       "<IPython.core.display.HTML object>"
      ]
     },
     "metadata": {},
     "output_type": "display_data"
    },
    {
     "data": {
      "text/html": [
       "<a target=\"_blank\" href=\"http://www.w3.org/2000/01/rdf-schema#label\">http://www.w3.org/2000/01/rdf-schema#label</a>: 1393"
      ],
      "text/plain": [
       "<IPython.core.display.HTML object>"
      ]
     },
     "metadata": {},
     "output_type": "display_data"
    },
    {
     "data": {
      "text/html": [
       "<a target=\"_blank\" href=\"http://www.w3.org/2000/01/rdf-schema#range\">http://www.w3.org/2000/01/rdf-schema#range</a>: 6"
      ],
      "text/plain": [
       "<IPython.core.display.HTML object>"
      ]
     },
     "metadata": {},
     "output_type": "display_data"
    },
    {
     "data": {
      "text/html": [
       "<a target=\"_blank\" href=\"http://www.w3.org/2000/01/rdf-schema#seeAlso\">http://www.w3.org/2000/01/rdf-schema#seeAlso</a>: 1670"
      ],
      "text/plain": [
       "<IPython.core.display.HTML object>"
      ]
     },
     "metadata": {},
     "output_type": "display_data"
    },
    {
     "data": {
      "text/html": [
       "<a target=\"_blank\" href=\"http://xmlns.com/foaf/0.1/page\">http://xmlns.com/foaf/0.1/page</a>: 2"
      ],
      "text/plain": [
       "<IPython.core.display.HTML object>"
      ]
     },
     "metadata": {},
     "output_type": "display_data"
    },
    {
     "name": "stdout",
     "output_type": "stream",
     "text": [
      "https://cbs.nl/def/gemeenteCode: 1440\n",
      "https://gemeentegeschiedenis.nl/def/geometry_type: 2873\n",
      "https://gemeentegeschiedenis.nl/def/id: 2881\n",
      "https://gemeentegeschiedenis.nl/def/temporalExtension: 5804\n",
      "https://gemeentegeschiedenis.nl/def/validSince: 3144\n",
      "https://gemeentegeschiedenis.nl/def/validUntil: 3609\n"
     ]
    },
    {
     "data": {
      "text/html": [
       "<h3>fingerprint</h3>"
      ],
      "text/plain": [
       "<IPython.core.display.HTML object>"
      ]
     },
     "metadata": {},
     "output_type": "display_data"
    },
    {
     "data": {
      "text/html": [
       "<a target=\"_blank\" href=\"https://data.anansi.clariah.nl/v5/resourcesync/u74ccc032adf8422d7ea92df96cd4783f0543db3b/dwc/dataset.nq\">https://data.anansi.clariah.nl/v5/resourcesync/u74ccc032adf8422d7ea92df96cd4783f0543db3b/dwc/dataset.nq</a>"
      ],
      "text/plain": [
       "<IPython.core.display.HTML object>"
      ]
     },
     "metadata": {},
     "output_type": "display_data"
    },
    {
     "name": "stdout",
     "output_type": "stream",
     "text": [
      "contexts  :            1\n",
      "statements:      529.872\n",
      "literals  :      133.680\n",
      "literal ratio:    0,25\n",
      "\n",
      "subject netlocs: 7 {'example.org': 508093, 'sws.geonames.org': 4236, 'www.dwc.knaw.nl': 7832, 'timbuctoo.huygens.knaw.nl': 7555, 'viaf.org': 2137, 'data.anansi.clariah.nl': 18, 'creativecommons.org': 1}\n",
      "object netlocs: 7 {'example.org': 374422, 'sws.geonames.org': 4236, 'www.dwc.knaw.nl': 7832, 'timbuctoo.huygens.knaw.nl': 7555, 'viaf.org': 2137, 'data.anansi.clariah.nl': 9, 'creativecommons.org': 1}\n",
      "\n",
      "example.org | s 508093 | p 248695 | o 374422 | total 1131210\n",
      "\n",
      "predicate netlocs: 7 | {'schema.org': 100766, 'example.org': 248695, 'timbuctoo.huygens.knaw.nl': 10712, 'www.w3.org': 167563, 'www.geonames.org': 2123, 'purl.org': 12, 'xmlns.com': 1}\n",
      "predicates: 59\n",
      "http://example.org/datasets/u33707283d426f900d4d33707283d426f900d4d0d/bia/predicate/Country: 2123\n",
      "http://example.org/datasets/u33707283d426f900d4d33707283d426f900d4d0d/bia/predicate/aboutPerson: 24978\n",
      "http://example.org/datasets/u33707283d426f900d4d33707283d426f900d4d0d/bia/predicate/atInstitute: 4394\n",
      "http://example.org/datasets/u33707283d426f900d4d33707283d426f900d4d0d/bia/predicate/atPlace: 7260\n",
      "http://example.org/datasets/u33707283d426f900d4d33707283d426f900d4d0d/bia/predicate/birthDateRemark: 39\n",
      "http://example.org/datasets/u33707283d426f900d4d33707283d426f900d4d0d/bia/predicate/carriedOutBy: 11446\n",
      "http://example.org/datasets/u33707283d426f900d4d33707283d426f900d4d0d/bia/predicate/dataSetName: 9686\n",
      "http://example.org/datasets/u33707283d426f900d4d33707283d426f900d4d0d/bia/predicate/deathDateRemark: 6\n",
      "http://example.org/datasets/u33707283d426f900d4d33707283d426f900d4d0d/bia/predicate/dissertationTitle: 447\n",
      "http://example.org/datasets/u33707283d426f900d4d33707283d426f900d4d0d/bia/predicate/hasFieldOfInterest: 12040\n",
      "http://example.org/datasets/u33707283d426f900d4d33707283d426f900d4d0d/bia/predicate/hasInstitute: 23802\n",
      "http://example.org/datasets/u33707283d426f900d4d33707283d426f900d4d0d/bia/predicate/hasLocation: 20300\n",
      "http://example.org/datasets/u33707283d426f900d4d33707283d426f900d4d0d/bia/predicate/hasMember: 23812\n",
      "http://example.org/datasets/u33707283d426f900d4d33707283d426f900d4d0d/bia/predicate/hasProvenanceType: 24978\n",
      "http://example.org/datasets/u33707283d426f900d4d33707283d426f900d4d0d/bia/predicate/hasPublication: 9634\n",
      "http://example.org/datasets/u33707283d426f900d4d33707283d426f900d4d0d/bia/predicate/hasResident: 15758\n",
      "http://example.org/datasets/u33707283d426f900d4d33707283d426f900d4d0d/bia/predicate/hasStudent: 2472\n",
      "http://example.org/datasets/u33707283d426f900d4d33707283d426f900d4d0d/bia/predicate/hasWriter: 9634\n",
      "http://example.org/datasets/u33707283d426f900d4d33707283d426f900d4d0d/bia/predicate/highestDegree: 1571\n",
      "http://example.org/datasets/u33707283d426f900d4d33707283d426f900d4d0d/bia/predicate/isAbout: 12368\n",
      "http://example.org/datasets/u33707283d426f900d4d33707283d426f900d4d0d/bia/predicate/obituaryUrl: 2782\n",
      "http://example.org/datasets/u33707283d426f900d4d33707283d426f900d4d0d/bia/predicate/originDb: 2295\n",
      "http://example.org/datasets/u33707283d426f900d4d33707283d426f900d4d0d/bia/predicate/pageNumbers: 4542\n",
      "http://example.org/datasets/u33707283d426f900d4d33707283d426f900d4d0d/bia/predicate/portraitUrl: 3798\n",
      "http://example.org/datasets/u33707283d426f900d4d33707283d426f900d4d0d/bia/predicate/reference: 4542\n",
      "http://example.org/datasets/u33707283d426f900d4d33707283d426f900d4d0d/bia/predicate/type: 362\n",
      "http://example.org/datasets/u33707283d426f900d4d33707283d426f900d4d0d/bia/predicate/url: 9084\n",
      "http://example.org/datasets/u33707283d426f900d4d33707283d426f900d4d0d/bia/predicate/year: 4542\n"
     ]
    },
    {
     "data": {
      "text/html": [
       "<a target=\"_blank\" href=\"http://purl.org/dc/terms/abstract\">http://purl.org/dc/terms/abstract</a>: 2"
      ],
      "text/plain": [
       "<IPython.core.display.HTML object>"
      ]
     },
     "metadata": {},
     "output_type": "display_data"
    },
    {
     "data": {
      "text/html": [
       "<a target=\"_blank\" href=\"http://purl.org/dc/terms/description\">http://purl.org/dc/terms/description</a>: 2"
      ],
      "text/plain": [
       "<IPython.core.display.HTML object>"
      ]
     },
     "metadata": {},
     "output_type": "display_data"
    },
    {
     "data": {
      "text/html": [
       "<a target=\"_blank\" href=\"http://purl.org/dc/terms/license\">http://purl.org/dc/terms/license</a>: 2"
      ],
      "text/plain": [
       "<IPython.core.display.HTML object>"
      ]
     },
     "metadata": {},
     "output_type": "display_data"
    },
    {
     "data": {
      "text/html": [
       "<a target=\"_blank\" href=\"http://purl.org/dc/terms/provenance\">http://purl.org/dc/terms/provenance</a>: 2"
      ],
      "text/plain": [
       "<IPython.core.display.HTML object>"
      ]
     },
     "metadata": {},
     "output_type": "display_data"
    },
    {
     "data": {
      "text/html": [
       "<a target=\"_blank\" href=\"http://purl.org/dc/terms/rightsHolder\">http://purl.org/dc/terms/rightsHolder</a>: 2"
      ],
      "text/plain": [
       "<IPython.core.display.HTML object>"
      ]
     },
     "metadata": {},
     "output_type": "display_data"
    },
    {
     "data": {
      "text/html": [
       "<a target=\"_blank\" href=\"http://purl.org/dc/terms/title\">http://purl.org/dc/terms/title</a>: 2"
      ],
      "text/plain": [
       "<IPython.core.display.HTML object>"
      ]
     },
     "metadata": {},
     "output_type": "display_data"
    },
    {
     "data": {
      "text/html": [
       "<a target=\"_blank\" href=\"http://schema.org/ContactPoint\">http://schema.org/ContactPoint</a>: 2"
      ],
      "text/plain": [
       "<IPython.core.display.HTML object>"
      ]
     },
     "metadata": {},
     "output_type": "display_data"
    },
    {
     "data": {
      "text/html": [
       "<a target=\"_blank\" href=\"http://schema.org/birthDate\">http://schema.org/birthDate</a>: 4585"
      ],
      "text/plain": [
       "<IPython.core.display.HTML object>"
      ]
     },
     "metadata": {},
     "output_type": "display_data"
    },
    {
     "data": {
      "text/html": [
       "<a target=\"_blank\" href=\"http://schema.org/birthPlace\">http://schema.org/birthPlace</a>: 7318"
      ],
      "text/plain": [
       "<IPython.core.display.HTML object>"
      ]
     },
     "metadata": {},
     "output_type": "display_data"
    },
    {
     "data": {
      "text/html": [
       "<a target=\"_blank\" href=\"http://schema.org/deathDate\">http://schema.org/deathDate</a>: 4693"
      ],
      "text/plain": [
       "<IPython.core.display.HTML object>"
      ]
     },
     "metadata": {},
     "output_type": "display_data"
    },
    {
     "data": {
      "text/html": [
       "<a target=\"_blank\" href=\"http://schema.org/deathPlace\">http://schema.org/deathPlace</a>: 7012"
      ],
      "text/plain": [
       "<IPython.core.display.HTML object>"
      ]
     },
     "metadata": {},
     "output_type": "display_data"
    },
    {
     "data": {
      "text/html": [
       "<a target=\"_blank\" href=\"http://schema.org/description\">http://schema.org/description</a>: 33895"
      ],
      "text/plain": [
       "<IPython.core.display.HTML object>"
      ]
     },
     "metadata": {},
     "output_type": "display_data"
    },
    {
     "data": {
      "text/html": [
       "<a target=\"_blank\" href=\"http://schema.org/email\">http://schema.org/email</a>: 2"
      ],
      "text/plain": [
       "<IPython.core.display.HTML object>"
      ]
     },
     "metadata": {},
     "output_type": "display_data"
    },
    {
     "data": {
      "text/html": [
       "<a target=\"_blank\" href=\"http://schema.org/endDate\">http://schema.org/endDate</a>: 8401"
      ],
      "text/plain": [
       "<IPython.core.display.HTML object>"
      ]
     },
     "metadata": {},
     "output_type": "display_data"
    },
    {
     "data": {
      "text/html": [
       "<a target=\"_blank\" href=\"http://schema.org/gender\">http://schema.org/gender</a>: 9309"
      ],
      "text/plain": [
       "<IPython.core.display.HTML object>"
      ]
     },
     "metadata": {},
     "output_type": "display_data"
    },
    {
     "name": "stdout",
     "output_type": "stream",
     "text": [
      "http://schema.org/label: 588\n"
     ]
    },
    {
     "data": {
      "text/html": [
       "<a target=\"_blank\" href=\"http://schema.org/name\">http://schema.org/name</a>: 3327"
      ],
      "text/plain": [
       "<IPython.core.display.HTML object>"
      ]
     },
     "metadata": {},
     "output_type": "display_data"
    },
    {
     "data": {
      "text/html": [
       "<a target=\"_blank\" href=\"http://schema.org/startDate\">http://schema.org/startDate</a>: 17092"
      ],
      "text/plain": [
       "<IPython.core.display.HTML object>"
      ]
     },
     "metadata": {},
     "output_type": "display_data"
    },
    {
     "data": {
      "text/html": [
       "<a target=\"_blank\" href=\"http://schema.org/title\">http://schema.org/title</a>: 4542"
      ],
      "text/plain": [
       "<IPython.core.display.HTML object>"
      ]
     },
     "metadata": {},
     "output_type": "display_data"
    },
    {
     "name": "stdout",
     "output_type": "stream",
     "text": [
      "http://timbuctoo.huygens.knaw.nl/static/v5/predicate/names: 10694\n",
      "http://timbuctoo.huygens.knaw.nl/static/v5/vocabulary#hasIndexConfig: 5\n",
      "http://timbuctoo.huygens.knaw.nl/static/v5/vocabulary#summaryDescriptionPredicate: 10\n",
      "http://timbuctoo.huygens.knaw.nl/static/v5/vocabulary#summaryTitlePredicate: 3\n"
     ]
    },
    {
     "data": {
      "text/html": [
       "<a target=\"_blank\" href=\"http://www.geonames.org/ontology#countryCode\">http://www.geonames.org/ontology#countryCode</a>: 2123"
      ],
      "text/plain": [
       "<IPython.core.display.HTML object>"
      ]
     },
     "metadata": {},
     "output_type": "display_data"
    },
    {
     "data": {
      "text/html": [
       "<a target=\"_blank\" href=\"http://www.w3.org/1999/02/22-rdf-syntax-ns#type\">http://www.w3.org/1999/02/22-rdf-syntax-ns#type</a>: 135456"
      ],
      "text/plain": [
       "<IPython.core.display.HTML object>"
      ]
     },
     "metadata": {},
     "output_type": "display_data"
    },
    {
     "data": {
      "text/html": [
       "<a target=\"_blank\" href=\"http://www.w3.org/2000/01/rdf-schema#label\">http://www.w3.org/2000/01/rdf-schema#label</a>: 13"
      ],
      "text/plain": [
       "<IPython.core.display.HTML object>"
      ]
     },
     "metadata": {},
     "output_type": "display_data"
    },
    {
     "data": {
      "text/html": [
       "<a target=\"_blank\" href=\"http://www.w3.org/2000/01/rdf-schema#subClassOf\">http://www.w3.org/2000/01/rdf-schema#subClassOf</a>: 12"
      ],
      "text/plain": [
       "<IPython.core.display.HTML object>"
      ]
     },
     "metadata": {},
     "output_type": "display_data"
    },
    {
     "data": {
      "text/html": [
       "<a target=\"_blank\" href=\"http://www.w3.org/2002/07/owl#sameAs\">http://www.w3.org/2002/07/owl#sameAs</a>: 27844"
      ],
      "text/plain": [
       "<IPython.core.display.HTML object>"
      ]
     },
     "metadata": {},
     "output_type": "display_data"
    },
    {
     "data": {
      "text/html": [
       "<a target=\"_blank\" href=\"http://www.w3.org/2003/01/geo/wgs84_pos#lat\">http://www.w3.org/2003/01/geo/wgs84_pos#lat</a>: 2119"
      ],
      "text/plain": [
       "<IPython.core.display.HTML object>"
      ]
     },
     "metadata": {},
     "output_type": "display_data"
    },
    {
     "data": {
      "text/html": [
       "<a target=\"_blank\" href=\"http://www.w3.org/2003/01/geo/wgs84_pos#long\">http://www.w3.org/2003/01/geo/wgs84_pos#long</a>: 2119"
      ],
      "text/plain": [
       "<IPython.core.display.HTML object>"
      ]
     },
     "metadata": {},
     "output_type": "display_data"
    },
    {
     "data": {
      "text/html": [
       "<a target=\"_blank\" href=\"http://xmlns.com/foaf/0.1/depiction\">http://xmlns.com/foaf/0.1/depiction</a>: 1"
      ],
      "text/plain": [
       "<IPython.core.display.HTML object>"
      ]
     },
     "metadata": {},
     "output_type": "display_data"
    },
    {
     "data": {
      "text/html": [
       "<h3>fingerprint</h3>"
      ],
      "text/plain": [
       "<IPython.core.display.HTML object>"
      ]
     },
     "metadata": {},
     "output_type": "display_data"
    },
    {
     "data": {
      "text/html": [
       "<a target=\"_blank\" href=\"https://data.anansi.clariah.nl/v5/resourcesync/u74ccc032adf8422d7ea92df96cd4783f0543db3b/nlgis/dataset.nq\">https://data.anansi.clariah.nl/v5/resourcesync/u74ccc032adf8422d7ea92df96cd4783f0543db3b/nlgis/dataset.nq</a>"
      ],
      "text/plain": [
       "<IPython.core.display.HTML object>"
      ]
     },
     "metadata": {},
     "output_type": "display_data"
    },
    {
     "name": "stdout",
     "output_type": "stream",
     "text": [
      "<class 'rdflib.plugins.parsers.ntriples.ParseError'>\n"
     ]
    },
    {
     "data": {
      "text/html": [
       "<h3>fingerprint</h3>"
      ],
      "text/plain": [
       "<IPython.core.display.HTML object>"
      ]
     },
     "metadata": {},
     "output_type": "display_data"
    },
    {
     "data": {
      "text/html": [
       "<a target=\"_blank\" href=\"https://data.anansi.clariah.nl/v5/resourcesync/u74ccc032adf8422d7ea92df96cd4783f0543db3b/gemeentegeschiedenis/dataset.nq\">https://data.anansi.clariah.nl/v5/resourcesync/u74ccc032adf8422d7ea92df96cd4783f0543db3b/gemeentegeschiedenis/dataset.nq</a>"
      ],
      "text/plain": [
       "<IPython.core.display.HTML object>"
      ]
     },
     "metadata": {},
     "output_type": "display_data"
    },
    {
     "name": "stdout",
     "output_type": "stream",
     "text": [
      "contexts  :            1\n",
      "statements:       75.949\n",
      "literals  :       17.707\n",
      "literal ratio:    0,23\n",
      "\n",
      "subject netlocs: 6 {'www.gemeentegeschiedenis.nl': 59301, 'iisg.amsterdam': 12876, 'nl.wikipedia.org': 1677, 'nl.dbpedia.org': 1648, 'sws.geonames.org': 446, 'rdfs.org': 1}\n",
      "object netlocs: 6 {'www.gemeentegeschiedenis.nl': 51251, 'iisg.amsterdam': 3219, 'nl.wikipedia.org': 1677, 'nl.dbpedia.org': 1648, 'sws.geonames.org': 446, 'rdfs.org': 1}\n",
      "\n",
      "example.org | s 0 | p 0 | o 0 | total 0\n",
      "\n",
      "predicate netlocs: 6 | {'www.gemeentegeschiedenis.nl': 44768, 'www.w3.org': 21508, 'www.opengis.net': 9657, 'purl.org': 9, 'rdfs.org': 6, 'xmlns.com': 1}\n",
      "predicates: 30\n"
     ]
    },
    {
     "data": {
      "text/html": [
       "<a target=\"_blank\" href=\"http://purl.org/dc/terms/created\">http://purl.org/dc/terms/created</a>: 1"
      ],
      "text/plain": [
       "<IPython.core.display.HTML object>"
      ]
     },
     "metadata": {},
     "output_type": "display_data"
    },
    {
     "data": {
      "text/html": [
       "<a target=\"_blank\" href=\"http://purl.org/dc/terms/creator\">http://purl.org/dc/terms/creator</a>: 6"
      ],
      "text/plain": [
       "<IPython.core.display.HTML object>"
      ]
     },
     "metadata": {},
     "output_type": "display_data"
    },
    {
     "data": {
      "text/html": [
       "<a target=\"_blank\" href=\"http://purl.org/dc/terms/description\">http://purl.org/dc/terms/description</a>: 1"
      ],
      "text/plain": [
       "<IPython.core.display.HTML object>"
      ]
     },
     "metadata": {},
     "output_type": "display_data"
    },
    {
     "data": {
      "text/html": [
       "<a target=\"_blank\" href=\"http://purl.org/dc/terms/title\">http://purl.org/dc/terms/title</a>: 1"
      ],
      "text/plain": [
       "<IPython.core.display.HTML object>"
      ]
     },
     "metadata": {},
     "output_type": "display_data"
    },
    {
     "data": {
      "text/html": [
       "<a target=\"_blank\" href=\"http://rdfs.org/ns/void#subset\">http://rdfs.org/ns/void#subset</a>: 6"
      ],
      "text/plain": [
       "<IPython.core.display.HTML object>"
      ]
     },
     "metadata": {},
     "output_type": "display_data"
    },
    {
     "data": {
      "text/html": [
       "<a target=\"_blank\" href=\"http://www.gemeentegeschiedenis.nl/gg-schema#absorbed\">http://www.gemeentegeschiedenis.nl/gg-schema#absorbed</a>: 1292"
      ],
      "text/plain": [
       "<IPython.core.display.HTML object>"
      ]
     },
     "metadata": {},
     "output_type": "display_data"
    },
    {
     "data": {
      "text/html": [
       "<a target=\"_blank\" href=\"http://www.gemeentegeschiedenis.nl/gg-schema#absorbedBy\">http://www.gemeentegeschiedenis.nl/gg-schema#absorbedBy</a>: 2682"
      ],
      "text/plain": [
       "<IPython.core.display.HTML object>"
      ]
     },
     "metadata": {},
     "output_type": "display_data"
    },
    {
     "data": {
      "text/html": [
       "<a target=\"_blank\" href=\"http://www.gemeentegeschiedenis.nl/gg-schema#amsterdamCode\">http://www.gemeentegeschiedenis.nl/gg-schema#amsterdamCode</a>: 3358"
      ],
      "text/plain": [
       "<IPython.core.display.HTML object>"
      ]
     },
     "metadata": {},
     "output_type": "display_data"
    },
    {
     "data": {
      "text/html": [
       "<a target=\"_blank\" href=\"http://www.gemeentegeschiedenis.nl/gg-schema#cbsCode\">http://www.gemeentegeschiedenis.nl/gg-schema#cbsCode</a>: 3358"
      ],
      "text/plain": [
       "<IPython.core.display.HTML object>"
      ]
     },
     "metadata": {},
     "output_type": "display_data"
    },
    {
     "data": {
      "text/html": [
       "<a target=\"_blank\" href=\"http://www.gemeentegeschiedenis.nl/gg-schema#endDate\">http://www.gemeentegeschiedenis.nl/gg-schema#endDate</a>: 1292"
      ],
      "text/plain": [
       "<IPython.core.display.HTML object>"
      ]
     },
     "metadata": {},
     "output_type": "display_data"
    },
    {
     "data": {
      "text/html": [
       "<a target=\"_blank\" href=\"http://www.gemeentegeschiedenis.nl/gg-schema#identifies\">http://www.gemeentegeschiedenis.nl/gg-schema#identifies</a>: 2856"
      ],
      "text/plain": [
       "<IPython.core.display.HTML object>"
      ]
     },
     "metadata": {},
     "output_type": "display_data"
    },
    {
     "data": {
      "text/html": [
       "<a target=\"_blank\" href=\"http://www.gemeentegeschiedenis.nl/gg-schema#inDepartement\">http://www.gemeentegeschiedenis.nl/gg-schema#inDepartement</a>: 2290"
      ],
      "text/plain": [
       "<IPython.core.display.HTML object>"
      ]
     },
     "metadata": {},
     "output_type": "display_data"
    },
    {
     "data": {
      "text/html": [
       "<a target=\"_blank\" href=\"http://www.gemeentegeschiedenis.nl/gg-schema#inProvince\">http://www.gemeentegeschiedenis.nl/gg-schema#inProvince</a>: 3358"
      ],
      "text/plain": [
       "<IPython.core.display.HTML object>"
      ]
     },
     "metadata": {},
     "output_type": "display_data"
    },
    {
     "data": {
      "text/html": [
       "<a target=\"_blank\" href=\"http://www.gemeentegeschiedenis.nl/gg-schema#municipalityIn\">http://www.gemeentegeschiedenis.nl/gg-schema#municipalityIn</a>: 5650"
      ],
      "text/plain": [
       "<IPython.core.display.HTML object>"
      ]
     },
     "metadata": {},
     "output_type": "display_data"
    },
    {
     "data": {
      "text/html": [
       "<a target=\"_blank\" href=\"http://www.gemeentegeschiedenis.nl/gg-schema#name\">http://www.gemeentegeschiedenis.nl/gg-schema#name</a>: 4898"
      ],
      "text/plain": [
       "<IPython.core.display.HTML object>"
      ]
     },
     "metadata": {},
     "output_type": "display_data"
    },
    {
     "data": {
      "text/html": [
       "<a target=\"_blank\" href=\"http://www.gemeentegeschiedenis.nl/gg-schema#originated\">http://www.gemeentegeschiedenis.nl/gg-schema#originated</a>: 417"
      ],
      "text/plain": [
       "<IPython.core.display.HTML object>"
      ]
     },
     "metadata": {},
     "output_type": "display_data"
    },
    {
     "data": {
      "text/html": [
       "<a target=\"_blank\" href=\"http://www.gemeentegeschiedenis.nl/gg-schema#originatedFrom\">http://www.gemeentegeschiedenis.nl/gg-schema#originatedFrom</a>: 1824"
      ],
      "text/plain": [
       "<IPython.core.display.HTML object>"
      ]
     },
     "metadata": {},
     "output_type": "display_data"
    },
    {
     "data": {
      "text/html": [
       "<a target=\"_blank\" href=\"http://www.gemeentegeschiedenis.nl/gg-schema#resourceDbpedia\">http://www.gemeentegeschiedenis.nl/gg-schema#resourceDbpedia</a>: 3409"
      ],
      "text/plain": [
       "<IPython.core.display.HTML object>"
      ]
     },
     "metadata": {},
     "output_type": "display_data"
    },
    {
     "data": {
      "text/html": [
       "<a target=\"_blank\" href=\"http://www.gemeentegeschiedenis.nl/gg-schema#resourceGeonames\">http://www.gemeentegeschiedenis.nl/gg-schema#resourceGeonames</a>: 892"
      ],
      "text/plain": [
       "<IPython.core.display.HTML object>"
      ]
     },
     "metadata": {},
     "output_type": "display_data"
    },
    {
     "data": {
      "text/html": [
       "<a target=\"_blank\" href=\"http://www.gemeentegeschiedenis.nl/gg-schema#resourceWikipedia\">http://www.gemeentegeschiedenis.nl/gg-schema#resourceWikipedia</a>: 3438"
      ],
      "text/plain": [
       "<IPython.core.display.HTML object>"
      ]
     },
     "metadata": {},
     "output_type": "display_data"
    },
    {
     "data": {
      "text/html": [
       "<a target=\"_blank\" href=\"http://www.gemeentegeschiedenis.nl/gg-schema#startDate\">http://www.gemeentegeschiedenis.nl/gg-schema#startDate</a>: 535"
      ],
      "text/plain": [
       "<IPython.core.display.HTML object>"
      ]
     },
     "metadata": {},
     "output_type": "display_data"
    },
    {
     "data": {
      "text/html": [
       "<a target=\"_blank\" href=\"http://www.gemeentegeschiedenis.nl/gg-schema#year\">http://www.gemeentegeschiedenis.nl/gg-schema#year</a>: 3219"
      ],
      "text/plain": [
       "<IPython.core.display.HTML object>"
      ]
     },
     "metadata": {},
     "output_type": "display_data"
    },
    {
     "data": {
      "text/html": [
       "<a target=\"_blank\" href=\"http://www.opengis.net/ont/geosparql#asWKT\">http://www.opengis.net/ont/geosparql#asWKT</a>: 3219"
      ],
      "text/plain": [
       "<IPython.core.display.HTML object>"
      ]
     },
     "metadata": {},
     "output_type": "display_data"
    },
    {
     "data": {
      "text/html": [
       "<a target=\"_blank\" href=\"http://www.opengis.net/ont/geosparql#hasGeometry\">http://www.opengis.net/ont/geosparql#hasGeometry</a>: 6438"
      ],
      "text/plain": [
       "<IPython.core.display.HTML object>"
      ]
     },
     "metadata": {},
     "output_type": "display_data"
    },
    {
     "data": {
      "text/html": [
       "<a target=\"_blank\" href=\"http://www.w3.org/1999/02/22-rdf-syntax-ns#type\">http://www.w3.org/1999/02/22-rdf-syntax-ns#type</a>: 5676"
      ],
      "text/plain": [
       "<IPython.core.display.HTML object>"
      ]
     },
     "metadata": {},
     "output_type": "display_data"
    },
    {
     "data": {
      "text/html": [
       "<a target=\"_blank\" href=\"http://www.w3.org/2000/01/rdf-schema#label\">http://www.w3.org/2000/01/rdf-schema#label</a>: 2841"
      ],
      "text/plain": [
       "<IPython.core.display.HTML object>"
      ]
     },
     "metadata": {},
     "output_type": "display_data"
    },
    {
     "data": {
      "text/html": [
       "<a target=\"_blank\" href=\"http://www.w3.org/2004/02/skos/core#broader\">http://www.w3.org/2004/02/skos/core#broader</a>: 5648"
      ],
      "text/plain": [
       "<IPython.core.display.HTML object>"
      ]
     },
     "metadata": {},
     "output_type": "display_data"
    },
    {
     "data": {
      "text/html": [
       "<a target=\"_blank\" href=\"http://www.w3.org/2004/02/skos/core#narrower\">http://www.w3.org/2004/02/skos/core#narrower</a>: 5650"
      ],
      "text/plain": [
       "<IPython.core.display.HTML object>"
      ]
     },
     "metadata": {},
     "output_type": "display_data"
    },
    {
     "data": {
      "text/html": [
       "<a target=\"_blank\" href=\"http://www.w3.org/2004/02/skos/core#prefLabel\">http://www.w3.org/2004/02/skos/core#prefLabel</a>: 1693"
      ],
      "text/plain": [
       "<IPython.core.display.HTML object>"
      ]
     },
     "metadata": {},
     "output_type": "display_data"
    },
    {
     "data": {
      "text/html": [
       "<a target=\"_blank\" href=\"http://xmlns.com/foaf/0.1/page\">http://xmlns.com/foaf/0.1/page</a>: 1"
      ],
      "text/plain": [
       "<IPython.core.display.HTML object>"
      ]
     },
     "metadata": {},
     "output_type": "display_data"
    },
    {
     "data": {
      "text/html": [
       "<h3>fingerprint</h3>"
      ],
      "text/plain": [
       "<IPython.core.display.HTML object>"
      ]
     },
     "metadata": {},
     "output_type": "display_data"
    },
    {
     "data": {
      "text/html": [
       "<a target=\"_blank\" href=\"https://data.anansi.clariah.nl/v5/resourcesync/u74ccc032adf8422d7ea92df96cd4783f0543db3b/bioport/dataset.nq\">https://data.anansi.clariah.nl/v5/resourcesync/u74ccc032adf8422d7ea92df96cd4783f0543db3b/bioport/dataset.nq</a>"
      ],
      "text/plain": [
       "<IPython.core.display.HTML object>"
      ]
     },
     "metadata": {},
     "output_type": "display_data"
    },
    {
     "name": "stdout",
     "output_type": "stream",
     "text": [
      "contexts  :            1\n",
      "statements:      854.189\n",
      "literals  :      688.455\n",
      "literal ratio:    0,81\n",
      "\n",
      "subject netlocs: 3 {'example.org': 854169, 'data.anansi.clariah.nl': 19, 'creativecommons.org': 1}\n",
      "object netlocs: 3 {'example.org': 165724, 'data.anansi.clariah.nl': 9, 'creativecommons.org': 1}\n",
      "\n",
      "example.org | s 854169 | p 350379 | o 165724 | total 1370272\n",
      "\n",
      "predicate netlocs: 6 | {'timbuctoo.huygens.knaw.nl': 108146, 'schema.org': 229926, 'www.w3.org': 165724, 'example.org': 350379, 'purl.org': 13, 'xmlns.com': 1}\n",
      "predicates: 27\n",
      "http://example.org/datasets/u33707283d426f900d4d33707283d426f900d4d0d/bioport/predicate/Bioport_id: 82862\n",
      "http://example.org/datasets/u33707283d426f900d4d33707283d426f900d4d0d/bioport/predicate/Person_id: 82862\n",
      "http://example.org/datasets/u33707283d426f900d4d33707283d426f900d4d0d/bioport/predicate/Variant_id: 11604\n",
      "http://example.org/datasets/u33707283d426f900d4d33707283d426f900d4d0d/bioport/predicate/birthDateRemark: 1729\n",
      "http://example.org/datasets/u33707283d426f900d4d33707283d426f900d4d0d/bioport/predicate/category: 67553\n",
      "http://example.org/datasets/u33707283d426f900d4d33707283d426f900d4d0d/bioport/predicate/deathDateRemark: 1592\n",
      "http://example.org/datasets/u33707283d426f900d4d33707283d426f900d4d0d/bioport/predicate/funeralPlace: 76461\n",
      "http://example.org/datasets/u33707283d426f900d4d33707283d426f900d4d0d/bioport/predicate/religion: 2846\n",
      "http://example.org/datasets/u33707283d426f900d4d33707283d426f900d4d0d/bioport/predicate/viafUri: 9379\n",
      "http://example.org/datasets/u33707283d426f900d4d33707283d426f900d4d0d/bioport/predicate/wikiDataUri: 13491\n"
     ]
    },
    {
     "data": {
      "text/html": [
       "<a target=\"_blank\" href=\"http://purl.org/dc/terms/abstract\">http://purl.org/dc/terms/abstract</a>: 2"
      ],
      "text/plain": [
       "<IPython.core.display.HTML object>"
      ]
     },
     "metadata": {},
     "output_type": "display_data"
    },
    {
     "data": {
      "text/html": [
       "<a target=\"_blank\" href=\"http://purl.org/dc/terms/description\">http://purl.org/dc/terms/description</a>: 3"
      ],
      "text/plain": [
       "<IPython.core.display.HTML object>"
      ]
     },
     "metadata": {},
     "output_type": "display_data"
    },
    {
     "data": {
      "text/html": [
       "<a target=\"_blank\" href=\"http://purl.org/dc/terms/license\">http://purl.org/dc/terms/license</a>: 2"
      ],
      "text/plain": [
       "<IPython.core.display.HTML object>"
      ]
     },
     "metadata": {},
     "output_type": "display_data"
    },
    {
     "data": {
      "text/html": [
       "<a target=\"_blank\" href=\"http://purl.org/dc/terms/provenance\">http://purl.org/dc/terms/provenance</a>: 2"
      ],
      "text/plain": [
       "<IPython.core.display.HTML object>"
      ]
     },
     "metadata": {},
     "output_type": "display_data"
    },
    {
     "data": {
      "text/html": [
       "<a target=\"_blank\" href=\"http://purl.org/dc/terms/rightsHolder\">http://purl.org/dc/terms/rightsHolder</a>: 2"
      ],
      "text/plain": [
       "<IPython.core.display.HTML object>"
      ]
     },
     "metadata": {},
     "output_type": "display_data"
    },
    {
     "data": {
      "text/html": [
       "<a target=\"_blank\" href=\"http://purl.org/dc/terms/title\">http://purl.org/dc/terms/title</a>: 2"
      ],
      "text/plain": [
       "<IPython.core.display.HTML object>"
      ]
     },
     "metadata": {},
     "output_type": "display_data"
    },
    {
     "data": {
      "text/html": [
       "<a target=\"_blank\" href=\"http://schema.org/ContactPoint\">http://schema.org/ContactPoint</a>: 2"
      ],
      "text/plain": [
       "<IPython.core.display.HTML object>"
      ]
     },
     "metadata": {},
     "output_type": "display_data"
    },
    {
     "data": {
      "text/html": [
       "<a target=\"_blank\" href=\"http://schema.org/birthDate\">http://schema.org/birthDate</a>: 56012"
      ],
      "text/plain": [
       "<IPython.core.display.HTML object>"
      ]
     },
     "metadata": {},
     "output_type": "display_data"
    },
    {
     "data": {
      "text/html": [
       "<a target=\"_blank\" href=\"http://schema.org/birthPlace\">http://schema.org/birthPlace</a>: 45680"
      ],
      "text/plain": [
       "<IPython.core.display.HTML object>"
      ]
     },
     "metadata": {},
     "output_type": "display_data"
    },
    {
     "data": {
      "text/html": [
       "<a target=\"_blank\" href=\"http://schema.org/deathDate\">http://schema.org/deathDate</a>: 56948"
      ],
      "text/plain": [
       "<IPython.core.display.HTML object>"
      ]
     },
     "metadata": {},
     "output_type": "display_data"
    },
    {
     "data": {
      "text/html": [
       "<a target=\"_blank\" href=\"http://schema.org/deathPlace\">http://schema.org/deathPlace</a>: 40175"
      ],
      "text/plain": [
       "<IPython.core.display.HTML object>"
      ]
     },
     "metadata": {},
     "output_type": "display_data"
    },
    {
     "data": {
      "text/html": [
       "<a target=\"_blank\" href=\"http://schema.org/email\">http://schema.org/email</a>: 2"
      ],
      "text/plain": [
       "<IPython.core.display.HTML object>"
      ]
     },
     "metadata": {},
     "output_type": "display_data"
    },
    {
     "data": {
      "text/html": [
       "<a target=\"_blank\" href=\"http://schema.org/gender\">http://schema.org/gender</a>: 31105"
      ],
      "text/plain": [
       "<IPython.core.display.HTML object>"
      ]
     },
     "metadata": {},
     "output_type": "display_data"
    },
    {
     "data": {
      "text/html": [
       "<a target=\"_blank\" href=\"http://schema.org/name\">http://schema.org/name</a>: 2"
      ],
      "text/plain": [
       "<IPython.core.display.HTML object>"
      ]
     },
     "metadata": {},
     "output_type": "display_data"
    },
    {
     "name": "stdout",
     "output_type": "stream",
     "text": [
      "http://timbuctoo.huygens.knaw.nl/static/v5/predicate/names: 108146\n"
     ]
    },
    {
     "data": {
      "text/html": [
       "<a target=\"_blank\" href=\"http://www.w3.org/1999/02/22-rdf-syntax-ns#type\">http://www.w3.org/1999/02/22-rdf-syntax-ns#type</a>: 165724"
      ],
      "text/plain": [
       "<IPython.core.display.HTML object>"
      ]
     },
     "metadata": {},
     "output_type": "display_data"
    },
    {
     "data": {
      "text/html": [
       "<a target=\"_blank\" href=\"http://xmlns.com/foaf/0.1/depiction\">http://xmlns.com/foaf/0.1/depiction</a>: 1"
      ],
      "text/plain": [
       "<IPython.core.display.HTML object>"
      ]
     },
     "metadata": {},
     "output_type": "display_data"
    },
    {
     "data": {
      "text/html": [
       "<h3>fingerprint</h3>"
      ],
      "text/plain": [
       "<IPython.core.display.HTML object>"
      ]
     },
     "metadata": {},
     "output_type": "display_data"
    },
    {
     "data": {
      "text/html": [
       "<a target=\"_blank\" href=\"https://data.anansi.clariah.nl/v5/resourcesync/u74ccc032adf8422d7ea92df96cd4783f0543db3b/tbi/dataset.nq\">https://data.anansi.clariah.nl/v5/resourcesync/u74ccc032adf8422d7ea92df96cd4783f0543db3b/tbi/dataset.nq</a>"
      ],
      "text/plain": [
       "<IPython.core.display.HTML object>"
      ]
     },
     "metadata": {},
     "output_type": "display_data"
    },
    {
     "name": "stdout",
     "output_type": "stream",
     "text": [
      "contexts  :            1\n",
      "statements:    1.530.407\n",
      "literals  :      927.119\n",
      "literal ratio:    0,61\n",
      "\n",
      "subject netlocs: 8 {'data.anansi.clariah.nl': 184481, '': 364607, 'schema.org': 45690, 'www.biografischportaal.nl': 734834, 'api.nodegoat.ugent.be': 178814, 'mutations.nodegoat.ugent.be': 18086, 'tic.nodegoat.ugent.be': 3894, 'creativecommons.org': 1}\n",
      "object netlocs: 8 {'www.biografischportaal.nl': 83280, 'schema.org': 45679, '': 183493, 'mutations.nodegoat.ugent.be': 18086, 'api.nodegoat.ugent.be': 153596, 'data.anansi.clariah.nl': 115265, 'tic.nodegoat.ugent.be': 3888, 'creativecommons.org': 1}\n",
      "\n",
      "example.org | s 0 | p 0 | o 0 | total 0\n",
      "\n",
      "predicate netlocs: 9 | {'data.anansi.clariah.nl': 382534, 'www.w3.org': 297070, 'timbuctoo.huygens.knaw.nl': 108189, 'tic.ugent.be': 36172, 'schema.org': 679296, 'tic.nodegoat.ugent.be': 22712, 'purl.org': 4130, 'na.metamatter.nl': 303, 'xmlns.com': 1}\n",
      "predicates: 117\n",
      "http://data.anansi.clariah.nl/bioport/predicate/Bioport_id: 98825\n",
      "http://data.anansi.clariah.nl/bioport/predicate/Person_id: 98825\n",
      "http://data.anansi.clariah.nl/bioport/predicate/Variant_id: 11604\n",
      "http://data.anansi.clariah.nl/bioport/predicate/birthDateRemark: 1729\n",
      "http://data.anansi.clariah.nl/bioport/predicate/category: 67553\n",
      "http://data.anansi.clariah.nl/bioport/predicate/deathDateRemark: 1592\n",
      "http://data.anansi.clariah.nl/bioport/predicate/funeralPlace: 76461\n",
      "http://data.anansi.clariah.nl/bioport/predicate/religion: 2846\n",
      "http://data.anansi.clariah.nl/bioport/predicate/viafUri: 9379\n",
      "http://data.anansi.clariah.nl/bioport/predicate/wikiDataUri: 13491\n",
      "http://data.anansi.clariah.nl/raa/predicate/ambtsdrager: 114\n",
      "http://data.anansi.clariah.nl/raa/predicate/function: 58\n",
      "http://data.anansi.clariah.nl/raa/predicate/organization: 57\n",
      "http://na.metamatter.nl/NadereToegangen/ontology/Personen/intraposition: 299\n",
      "http://na.metamatter.nl/NadereToegangen/ontology/Personen/postpositionPatronym: 4\n"
     ]
    },
    {
     "data": {
      "text/html": [
       "<a target=\"_blank\" href=\"http://purl.org/dc/terms/abstract\">http://purl.org/dc/terms/abstract</a>: 2"
      ],
      "text/plain": [
       "<IPython.core.display.HTML object>"
      ]
     },
     "metadata": {},
     "output_type": "display_data"
    },
    {
     "data": {
      "text/html": [
       "<a target=\"_blank\" href=\"http://purl.org/dc/terms/description\">http://purl.org/dc/terms/description</a>: 2"
      ],
      "text/plain": [
       "<IPython.core.display.HTML object>"
      ]
     },
     "metadata": {},
     "output_type": "display_data"
    },
    {
     "data": {
      "text/html": [
       "<a target=\"_blank\" href=\"http://purl.org/dc/terms/license\">http://purl.org/dc/terms/license</a>: 2"
      ],
      "text/plain": [
       "<IPython.core.display.HTML object>"
      ]
     },
     "metadata": {},
     "output_type": "display_data"
    },
    {
     "data": {
      "text/html": [
       "<a target=\"_blank\" href=\"http://purl.org/dc/terms/modified\">http://purl.org/dc/terms/modified</a>: 4118"
      ],
      "text/plain": [
       "<IPython.core.display.HTML object>"
      ]
     },
     "metadata": {},
     "output_type": "display_data"
    },
    {
     "data": {
      "text/html": [
       "<a target=\"_blank\" href=\"http://purl.org/dc/terms/provenance\">http://purl.org/dc/terms/provenance</a>: 2"
      ],
      "text/plain": [
       "<IPython.core.display.HTML object>"
      ]
     },
     "metadata": {},
     "output_type": "display_data"
    },
    {
     "data": {
      "text/html": [
       "<a target=\"_blank\" href=\"http://purl.org/dc/terms/rightsHolder\">http://purl.org/dc/terms/rightsHolder</a>: 2"
      ],
      "text/plain": [
       "<IPython.core.display.HTML object>"
      ]
     },
     "metadata": {},
     "output_type": "display_data"
    },
    {
     "data": {
      "text/html": [
       "<a target=\"_blank\" href=\"http://purl.org/dc/terms/title\">http://purl.org/dc/terms/title</a>: 2"
      ],
      "text/plain": [
       "<IPython.core.display.HTML object>"
      ]
     },
     "metadata": {},
     "output_type": "display_data"
    },
    {
     "data": {
      "text/html": [
       "<a target=\"_blank\" href=\"http://schema.org/ContactPoint\">http://schema.org/ContactPoint</a>: 2"
      ],
      "text/plain": [
       "<IPython.core.display.HTML object>"
      ]
     },
     "metadata": {},
     "output_type": "display_data"
    },
    {
     "name": "stdout",
     "output_type": "stream",
     "text": [
      "http://schema.org/Event/congress_series: 2358\n",
      "http://schema.org/Event/country: 3102\n",
      "http://schema.org/Event/location_of_the_event: 5652\n",
      "http://schema.org/Event/location_of_the_event/date_end: 2838\n",
      "http://schema.org/Event/location_of_the_event/date_start: 2842\n",
      "http://schema.org/Event/location_of_the_event/geometry: 2806\n",
      "http://schema.org/Event/location_of_the_event/location_reference: 5612\n",
      "http://schema.org/Event/location_of_the_event/location_reference_name: 2806\n",
      "http://schema.org/Event/relation_with_an_organisation: 2956\n",
      "http://schema.org/Event/relation_with_an_organisation/date_end: 1478\n",
      "http://schema.org/Event/relation_with_an_organisation/date_start: 1478\n",
      "http://schema.org/Event/relation_with_an_organisation/geometry: 1431\n",
      "http://schema.org/Event/relation_with_an_organisation/location_reference: 2862\n",
      "http://schema.org/Event/relation_with_an_organisation/location_reference_name: 1431\n",
      "http://schema.org/Event/relation_with_an_organisation/organisation: 2956\n",
      "http://schema.org/Event/relation_with_an_organisation/relation_type: 1578\n",
      "http://schema.org/Event/thematic_field: 11816\n",
      "http://schema.org/Event/thematic_field/date_end: 5892\n",
      "http://schema.org/Event/thematic_field/date_start: 5892\n",
      "http://schema.org/Event/thematic_field/geometry: 5851\n",
      "http://schema.org/Event/thematic_field/location_reference: 11702\n",
      "http://schema.org/Event/thematic_field/location_reference_name: 5851\n",
      "http://schema.org/Event/thematic_field/thematic_field: 11790\n",
      "http://schema.org/Event/uia_number: 1553\n"
     ]
    },
    {
     "data": {
      "text/html": [
       "<a target=\"_blank\" href=\"http://schema.org/attendee\">http://schema.org/attendee</a>: 97324"
      ],
      "text/plain": [
       "<IPython.core.display.HTML object>"
      ]
     },
     "metadata": {},
     "output_type": "display_data"
    },
    {
     "name": "stdout",
     "output_type": "stream",
     "text": [
      "http://schema.org/attendee/geometry: 21501\n",
      "http://schema.org/attendee/location_reference_name: 21493\n"
     ]
    },
    {
     "data": {
      "text/html": [
       "<a target=\"_blank\" href=\"http://schema.org/birthDate\">http://schema.org/birthDate</a>: 57022"
      ],
      "text/plain": [
       "<IPython.core.display.HTML object>"
      ]
     },
     "metadata": {},
     "output_type": "display_data"
    },
    {
     "data": {
      "text/html": [
       "<a target=\"_blank\" href=\"http://schema.org/birthPlace\">http://schema.org/birthPlace</a>: 45730"
      ],
      "text/plain": [
       "<IPython.core.display.HTML object>"
      ]
     },
     "metadata": {},
     "output_type": "display_data"
    },
    {
     "data": {
      "text/html": [
       "<a target=\"_blank\" href=\"http://schema.org/deathDate\">http://schema.org/deathDate</a>: 57961"
      ],
      "text/plain": [
       "<IPython.core.display.HTML object>"
      ]
     },
     "metadata": {},
     "output_type": "display_data"
    },
    {
     "data": {
      "text/html": [
       "<a target=\"_blank\" href=\"http://schema.org/deathPlace\">http://schema.org/deathPlace</a>: 40225"
      ],
      "text/plain": [
       "<IPython.core.display.HTML object>"
      ]
     },
     "metadata": {},
     "output_type": "display_data"
    },
    {
     "data": {
      "text/html": [
       "<a target=\"_blank\" href=\"http://schema.org/disambiguatingDescription\">http://schema.org/disambiguatingDescription</a>: 9"
      ],
      "text/plain": [
       "<IPython.core.display.HTML object>"
      ]
     },
     "metadata": {},
     "output_type": "display_data"
    },
    {
     "data": {
      "text/html": [
       "<a target=\"_blank\" href=\"http://schema.org/email\">http://schema.org/email</a>: 2"
      ],
      "text/plain": [
       "<IPython.core.display.HTML object>"
      ]
     },
     "metadata": {},
     "output_type": "display_data"
    },
    {
     "data": {
      "text/html": [
       "<a target=\"_blank\" href=\"http://schema.org/endDate\">http://schema.org/endDate</a>: 43677"
      ],
      "text/plain": [
       "<IPython.core.display.HTML object>"
      ]
     },
     "metadata": {},
     "output_type": "display_data"
    },
    {
     "data": {
      "text/html": [
       "<a target=\"_blank\" href=\"http://schema.org/familyName\">http://schema.org/familyName</a>: 1120"
      ],
      "text/plain": [
       "<IPython.core.display.HTML object>"
      ]
     },
     "metadata": {},
     "output_type": "display_data"
    },
    {
     "data": {
      "text/html": [
       "<a target=\"_blank\" href=\"http://schema.org/gender\">http://schema.org/gender</a>: 31105"
      ],
      "text/plain": [
       "<IPython.core.display.HTML object>"
      ]
     },
     "metadata": {},
     "output_type": "display_data"
    },
    {
     "data": {
      "text/html": [
       "<a target=\"_blank\" href=\"http://schema.org/givenName\">http://schema.org/givenName</a>: 1088"
      ],
      "text/plain": [
       "<IPython.core.display.HTML object>"
      ]
     },
     "metadata": {},
     "output_type": "display_data"
    },
    {
     "data": {
      "text/html": [
       "<a target=\"_blank\" href=\"http://schema.org/honorificPrefix\">http://schema.org/honorificPrefix</a>: 454"
      ],
      "text/plain": [
       "<IPython.core.display.HTML object>"
      ]
     },
     "metadata": {},
     "output_type": "display_data"
    },
    {
     "data": {
      "text/html": [
       "<a target=\"_blank\" href=\"http://schema.org/honorificSuffix\">http://schema.org/honorificSuffix</a>: 1"
      ],
      "text/plain": [
       "<IPython.core.display.HTML object>"
      ]
     },
     "metadata": {},
     "output_type": "display_data"
    },
    {
     "data": {
      "text/html": [
       "<a target=\"_blank\" href=\"http://schema.org/identifier\">http://schema.org/identifier</a>: 85"
      ],
      "text/plain": [
       "<IPython.core.display.HTML object>"
      ]
     },
     "metadata": {},
     "output_type": "display_data"
    },
    {
     "data": {
      "text/html": [
       "<a target=\"_blank\" href=\"http://schema.org/location\">http://schema.org/location</a>: 46114"
      ],
      "text/plain": [
       "<IPython.core.display.HTML object>"
      ]
     },
     "metadata": {},
     "output_type": "display_data"
    },
    {
     "data": {
      "text/html": [
       "<a target=\"_blank\" href=\"http://schema.org/name\">http://schema.org/name</a>: 5629"
      ],
      "text/plain": [
       "<IPython.core.display.HTML object>"
      ]
     },
     "metadata": {},
     "output_type": "display_data"
    },
    {
     "data": {
      "text/html": [
       "<a target=\"_blank\" href=\"http://schema.org/nationality\">http://schema.org/nationality</a>: 50748"
      ],
      "text/plain": [
       "<IPython.core.display.HTML object>"
      ]
     },
     "metadata": {},
     "output_type": "display_data"
    },
    {
     "name": "stdout",
     "output_type": "stream",
     "text": [
      "http://schema.org/nationality/geometry: 4547\n",
      "http://schema.org/nationality/location_reference_name: 4547\n"
     ]
    },
    {
     "data": {
      "text/html": [
       "<a target=\"_blank\" href=\"http://schema.org/sameAs\">http://schema.org/sameAs</a>: 784"
      ],
      "text/plain": [
       "<IPython.core.display.HTML object>"
      ]
     },
     "metadata": {},
     "output_type": "display_data"
    },
    {
     "data": {
      "text/html": [
       "<a target=\"_blank\" href=\"http://schema.org/startDate\">http://schema.org/startDate</a>: 43574"
      ],
      "text/plain": [
       "<IPython.core.display.HTML object>"
      ]
     },
     "metadata": {},
     "output_type": "display_data"
    },
    {
     "data": {
      "text/html": [
       "<a target=\"_blank\" href=\"http://schema.org/url\">http://schema.org/url</a>: 21"
      ],
      "text/plain": [
       "<IPython.core.display.HTML object>"
      ]
     },
     "metadata": {},
     "output_type": "display_data"
    },
    {
     "name": "stdout",
     "output_type": "stream",
     "text": [
      "http://tic.ugent.be/ontology/subset: 36172\n",
      "http://timbuctoo.huygens.knaw.nl/static/v5/predicate/names: 108174\n",
      "http://timbuctoo.huygens.knaw.nl/static/v5/vocabulary#hasIndexConfig: 6\n",
      "http://timbuctoo.huygens.knaw.nl/static/v5/vocabulary#hasViewConfig: 8\n",
      "http://timbuctoo.huygens.knaw.nl/static/v5/vocabulary#summaryTitlePredicate: 1\n"
     ]
    },
    {
     "data": {
      "text/html": [
       "<a target=\"_blank\" href=\"http://www.w3.org/1999/02/22-rdf-syntax-ns#type\">http://www.w3.org/1999/02/22-rdf-syntax-ns#type</a>: 297010"
      ],
      "text/plain": [
       "<IPython.core.display.HTML object>"
      ]
     },
     "metadata": {},
     "output_type": "display_data"
    },
    {
     "data": {
      "text/html": [
       "<a target=\"_blank\" href=\"http://www.w3.org/2000/01/rdf-schema#label\">http://www.w3.org/2000/01/rdf-schema#label</a>: 6"
      ],
      "text/plain": [
       "<IPython.core.display.HTML object>"
      ]
     },
     "metadata": {},
     "output_type": "display_data"
    },
    {
     "data": {
      "text/html": [
       "<a target=\"_blank\" href=\"http://www.w3.org/2002/07/owl#sameAs\">http://www.w3.org/2002/07/owl#sameAs</a>: 54"
      ],
      "text/plain": [
       "<IPython.core.display.HTML object>"
      ]
     },
     "metadata": {},
     "output_type": "display_data"
    },
    {
     "data": {
      "text/html": [
       "<a target=\"_blank\" href=\"http://xmlns.com/foaf/0.1/depiction\">http://xmlns.com/foaf/0.1/depiction</a>: 1"
      ],
      "text/plain": [
       "<IPython.core.display.HTML object>"
      ]
     },
     "metadata": {},
     "output_type": "display_data"
    },
    {
     "name": "stdout",
     "output_type": "stream",
     "text": [
      "https://tic.nodegoat.ugent.be/model/type/organization/acronym: 35\n",
      "https://tic.nodegoat.ugent.be/model/type/organization/aims_and_activities: 29\n",
      "https://tic.nodegoat.ugent.be/model/type/organization/alternative_names: 100\n",
      "https://tic.nodegoat.ugent.be/model/type/organization/country: 268\n",
      "https://tic.nodegoat.ugent.be/model/type/organization/date_of_establishment: 215\n",
      "https://tic.nodegoat.ugent.be/model/type/organization/end_date: 128\n",
      "https://tic.nodegoat.ugent.be/model/type/organization/history: 89\n",
      "https://tic.nodegoat.ugent.be/model/type/organization/name: 491\n",
      "https://tic.nodegoat.ugent.be/model/type/organization/place: 252\n",
      "https://tic.nodegoat.ugent.be/model/type/organization/speeckaert: 13\n",
      "https://tic.nodegoat.ugent.be/model/type/organization/thematic_field: 1436\n",
      "https://tic.nodegoat.ugent.be/model/type/organization/thematic_field/date_end: 640\n",
      "https://tic.nodegoat.ugent.be/model/type/organization/thematic_field/date_start: 640\n",
      "https://tic.nodegoat.ugent.be/model/type/organization/thematic_field/geometry: 603\n",
      "https://tic.nodegoat.ugent.be/model/type/organization/thematic_field/location_reference: 1206\n",
      "https://tic.nodegoat.ugent.be/model/type/organization/thematic_field/location_reference_name: 603\n",
      "https://tic.nodegoat.ugent.be/model/type/organization/thematic_field/thematic_field: 1436\n",
      "https://tic.nodegoat.ugent.be/model/type/organization/uia_url: 98\n",
      "https://tic.nodegoat.ugent.be/model/type/publication/author_as_in_text: 393\n",
      "https://tic.nodegoat.ugent.be/model/type/publication/language_as_in_source: 2\n",
      "https://tic.nodegoat.ugent.be/model/type/publication/number_of_volumes_in_total_: 168\n",
      "https://tic.nodegoat.ugent.be/model/type/publication/pages: 833\n",
      "https://tic.nodegoat.ugent.be/model/type/publication/place: 1710\n",
      "https://tic.nodegoat.ugent.be/model/type/publication/publication_type: 1690\n",
      "https://tic.nodegoat.ugent.be/model/type/publication/publisher: 1660\n",
      "https://tic.nodegoat.ugent.be/model/type/publication/sub_title: 560\n",
      "https://tic.nodegoat.ugent.be/model/type/publication/title: 862\n",
      "https://tic.nodegoat.ugent.be/model/type/publication/topic: 950\n",
      "https://tic.nodegoat.ugent.be/model/type/publication/topic/date_end: 473\n",
      "https://tic.nodegoat.ugent.be/model/type/publication/topic/date_start: 473\n",
      "https://tic.nodegoat.ugent.be/model/type/publication/topic/geometry: 460\n",
      "https://tic.nodegoat.ugent.be/model/type/publication/topic/location_reference: 920\n",
      "https://tic.nodegoat.ugent.be/model/type/publication/topic/location_reference_name: 460\n",
      "https://tic.nodegoat.ugent.be/model/type/publication/topic/topic: 946\n",
      "https://tic.nodegoat.ugent.be/model/type/publication/volume_number: 229\n",
      "https://tic.nodegoat.ugent.be/model/type/publication/worldcat: 813\n",
      "https://tic.nodegoat.ugent.be/model/type/publication/year: 828\n"
     ]
    },
    {
     "data": {
      "text/html": [
       "<h3>fingerprint</h3>"
      ],
      "text/plain": [
       "<IPython.core.display.HTML object>"
      ]
     },
     "metadata": {},
     "output_type": "display_data"
    },
    {
     "data": {
      "text/html": [
       "<a target=\"_blank\" href=\"https://data.anansi.clariah.nl/v5/resourcesync/u0b4a3b0677e8bed3acb26c2d785a1b2090b59bbb/tic2new/dataset.nq\">https://data.anansi.clariah.nl/v5/resourcesync/u0b4a3b0677e8bed3acb26c2d785a1b2090b59bbb/tic2new/dataset.nq</a>"
      ],
      "text/plain": [
       "<IPython.core.display.HTML object>"
      ]
     },
     "metadata": {},
     "output_type": "display_data"
    },
    {
     "name": "stdout",
     "output_type": "stream",
     "text": [
      "contexts  :            1\n",
      "statements:    1.408.174\n",
      "literals  :      604.636\n",
      "literal ratio:    0,43\n",
      "\n",
      "subject netlocs: 7 {'': 523266, 'api.nodegoat.ugent.be': 741569, 'schema.org': 68453, 'tic.nodegoat.ugent.be': 52805, 'data.bibliotheken.nl': 22065, 'data.anansi.clariah.nl': 15, 'books.google.be': 1}\n",
      "object netlocs: 7 {'api.nodegoat.ugent.be': 404871, '': 255374, 'data.bibliotheken.nl': 22065, 'tic.nodegoat.ugent.be': 52777, 'schema.org': 68444, 'data.anansi.clariah.nl': 6, 'books.google.be': 1}\n",
      "\n",
      "example.org | s 0 | p 0 | o 0 | total 0\n",
      "\n",
      "predicate netlocs: 5 | {'tic.nodegoat.ugent.be': 590736, 'schema.org': 544669, 'www.w3.org': 242479, 'purl.org': 30289, 'xmlns.com': 1}\n",
      "predicates: 185\n"
     ]
    },
    {
     "data": {
      "text/html": [
       "<a target=\"_blank\" href=\"http://purl.org/dc/terms/description\">http://purl.org/dc/terms/description</a>: 2"
      ],
      "text/plain": [
       "<IPython.core.display.HTML object>"
      ]
     },
     "metadata": {},
     "output_type": "display_data"
    },
    {
     "data": {
      "text/html": [
       "<a target=\"_blank\" href=\"http://purl.org/dc/terms/modified\">http://purl.org/dc/terms/modified</a>: 30281"
      ],
      "text/plain": [
       "<IPython.core.display.HTML object>"
      ]
     },
     "metadata": {},
     "output_type": "display_data"
    },
    {
     "data": {
      "text/html": [
       "<a target=\"_blank\" href=\"http://purl.org/dc/terms/provenance\">http://purl.org/dc/terms/provenance</a>: 2"
      ],
      "text/plain": [
       "<IPython.core.display.HTML object>"
      ]
     },
     "metadata": {},
     "output_type": "display_data"
    },
    {
     "data": {
      "text/html": [
       "<a target=\"_blank\" href=\"http://purl.org/dc/terms/rightsHolder\">http://purl.org/dc/terms/rightsHolder</a>: 2"
      ],
      "text/plain": [
       "<IPython.core.display.HTML object>"
      ]
     },
     "metadata": {},
     "output_type": "display_data"
    },
    {
     "data": {
      "text/html": [
       "<a target=\"_blank\" href=\"http://purl.org/dc/terms/title\">http://purl.org/dc/terms/title</a>: 2"
      ],
      "text/plain": [
       "<IPython.core.display.HTML object>"
      ]
     },
     "metadata": {},
     "output_type": "display_data"
    },
    {
     "data": {
      "text/html": [
       "<a target=\"_blank\" href=\"http://schema.org/ContactPoint\">http://schema.org/ContactPoint</a>: 2"
      ],
      "text/plain": [
       "<IPython.core.display.HTML object>"
      ]
     },
     "metadata": {},
     "output_type": "display_data"
    },
    {
     "name": "stdout",
     "output_type": "stream",
     "text": [
      "http://schema.org/Event/alternative_names: 464\n",
      "http://schema.org/Event/checked_ml_: 92\n",
      "http://schema.org/Event/congress_series: 2450\n",
      "http://schema.org/Event/country: 3250\n",
      "http://schema.org/Event/description: 705\n",
      "http://schema.org/Event/event_category: 2910\n",
      "http://schema.org/Event/import_status: 605\n",
      "http://schema.org/Event/location_of_the_event: 3312\n",
      "http://schema.org/Event/location_of_the_event/comments: 1\n",
      "http://schema.org/Event/location_of_the_event/date_end: 1655\n",
      "http://schema.org/Event/location_of_the_event/date_start: 1655\n",
      "http://schema.org/Event/location_of_the_event/geometry: 1649\n",
      "http://schema.org/Event/location_of_the_event/location_as_in_source: 10\n",
      "http://schema.org/Event/location_of_the_event/location_reference: 3298\n",
      "http://schema.org/Event/location_of_the_event/location_reference_name: 1649\n",
      "http://schema.org/Event/masterlist_: 1582\n",
      "http://schema.org/Event/number_in_series: 902\n",
      "http://schema.org/Event/relation_with_an_event: 118\n",
      "http://schema.org/Event/relation_with_an_event/date_end: 59\n",
      "http://schema.org/Event/relation_with_an_event/date_start: 59\n",
      "http://schema.org/Event/relation_with_an_event/event: 118\n",
      "http://schema.org/Event/relation_with_an_event/geometry: 58\n",
      "http://schema.org/Event/relation_with_an_event/location_reference: 116\n",
      "http://schema.org/Event/relation_with_an_event/location_reference_name: 58\n",
      "http://schema.org/Event/relation_with_an_event/relation_type: 116\n",
      "http://schema.org/Event/relation_with_an_organisation: 3004\n",
      "http://schema.org/Event/relation_with_an_organisation/date_end: 1502\n",
      "http://schema.org/Event/relation_with_an_organisation/date_start: 1502\n",
      "http://schema.org/Event/relation_with_an_organisation/geometry: 1454\n",
      "http://schema.org/Event/relation_with_an_organisation/location_reference: 2908\n",
      "http://schema.org/Event/relation_with_an_organisation/location_reference_name: 1454\n",
      "http://schema.org/Event/relation_with_an_organisation/organisation: 3004\n",
      "http://schema.org/Event/relation_with_an_organisation/relation_as_in_source: 93\n",
      "http://schema.org/Event/relation_with_an_organisation/relation_type: 1624\n",
      "http://schema.org/Event/relation_with_an_organisation/represented_by: 1258\n",
      "http://schema.org/Event/scope_of_congress: 3258\n",
      "http://schema.org/Event/temp_descriptor: 256\n",
      "http://schema.org/Event/temp_id_import: 121\n",
      "http://schema.org/Event/temp_id_ml: 1582\n",
      "http://schema.org/Event/temp_id_tic: 72\n",
      "http://schema.org/Event/thematic_field: 12282\n",
      "http://schema.org/Event/thematic_field/date_end: 6125\n",
      "http://schema.org/Event/thematic_field/date_start: 6125\n",
      "http://schema.org/Event/thematic_field/geometry: 6084\n",
      "http://schema.org/Event/thematic_field/location_reference: 12168\n",
      "http://schema.org/Event/thematic_field/location_reference_name: 6084\n",
      "http://schema.org/Event/thematic_field/thematic_field: 12254\n",
      "http://schema.org/Event/thomas_collection: 266\n",
      "http://schema.org/Event/uia_number: 1627\n"
     ]
    },
    {
     "data": {
      "text/html": [
       "<a target=\"_blank\" href=\"http://schema.org/attendee\">http://schema.org/attendee</a>: 136264"
      ],
      "text/plain": [
       "<IPython.core.display.HTML object>"
      ]
     },
     "metadata": {},
     "output_type": "display_data"
    },
    {
     "name": "stdout",
     "output_type": "stream",
     "text": [
      "http://schema.org/attendee/comments: 665\n",
      "http://schema.org/attendee/geometry: 33981\n",
      "http://schema.org/attendee/level: 16630\n",
      "http://schema.org/attendee/location_reference_name: 33981\n",
      "http://schema.org/attendee/relation_as_in_source: 536\n",
      "http://schema.org/attendee/relation_type: 18348\n",
      "http://schema.org/attendee/role: 16698\n",
      "http://schema.org/attendee/verified_whole_period_: 1\n"
     ]
    },
    {
     "data": {
      "text/html": [
       "<a target=\"_blank\" href=\"http://schema.org/email\">http://schema.org/email</a>: 2"
      ],
      "text/plain": [
       "<IPython.core.display.HTML object>"
      ]
     },
     "metadata": {},
     "output_type": "display_data"
    },
    {
     "data": {
      "text/html": [
       "<a target=\"_blank\" href=\"http://schema.org/endDate\">http://schema.org/endDate</a>: 35713"
      ],
      "text/plain": [
       "<IPython.core.display.HTML object>"
      ]
     },
     "metadata": {},
     "output_type": "display_data"
    },
    {
     "data": {
      "text/html": [
       "<a target=\"_blank\" href=\"http://schema.org/location\">http://schema.org/location</a>: 71222"
      ],
      "text/plain": [
       "<IPython.core.display.HTML object>"
      ]
     },
     "metadata": {},
     "output_type": "display_data"
    },
    {
     "data": {
      "text/html": [
       "<a target=\"_blank\" href=\"http://schema.org/name\">http://schema.org/name</a>: 31912"
      ],
      "text/plain": [
       "<IPython.core.display.HTML object>"
      ]
     },
     "metadata": {},
     "output_type": "display_data"
    },
    {
     "data": {
      "text/html": [
       "<a target=\"_blank\" href=\"http://schema.org/startDate\">http://schema.org/startDate</a>: 35716"
      ],
      "text/plain": [
       "<IPython.core.display.HTML object>"
      ]
     },
     "metadata": {},
     "output_type": "display_data"
    },
    {
     "data": {
      "text/html": [
       "<a target=\"_blank\" href=\"http://www.w3.org/1999/02/22-rdf-syntax-ns#type\">http://www.w3.org/1999/02/22-rdf-syntax-ns#type</a>: 242442"
      ],
      "text/plain": [
       "<IPython.core.display.HTML object>"
      ]
     },
     "metadata": {},
     "output_type": "display_data"
    },
    {
     "data": {
      "text/html": [
       "<a target=\"_blank\" href=\"http://www.w3.org/2000/01/rdf-schema#label\">http://www.w3.org/2000/01/rdf-schema#label</a>: 37"
      ],
      "text/plain": [
       "<IPython.core.display.HTML object>"
      ]
     },
     "metadata": {},
     "output_type": "display_data"
    },
    {
     "data": {
      "text/html": [
       "<a target=\"_blank\" href=\"http://xmlns.com/foaf/0.1/depiction\">http://xmlns.com/foaf/0.1/depiction</a>: 1"
      ],
      "text/plain": [
       "<IPython.core.display.HTML object>"
      ]
     },
     "metadata": {},
     "output_type": "display_data"
    },
    {
     "name": "stdout",
     "output_type": "stream",
     "text": [
      "https://tic.nodegoat.ugent.be/model/type/organization/acronym: 88\n",
      "https://tic.nodegoat.ugent.be/model/type/organization/aims_and_activities: 31\n",
      "https://tic.nodegoat.ugent.be/model/type/organization/alternative_names: 1570\n",
      "https://tic.nodegoat.ugent.be/model/type/organization/checked_ml_: 5\n",
      "https://tic.nodegoat.ugent.be/model/type/organization/congress_organizer: 151\n",
      "https://tic.nodegoat.ugent.be/model/type/organization/country: 9566\n",
      "https://tic.nodegoat.ugent.be/model/type/organization/date_of_establishment: 1300\n",
      "https://tic.nodegoat.ugent.be/model/type/organization/description: 705\n",
      "https://tic.nodegoat.ugent.be/model/type/organization/end_date: 304\n",
      "https://tic.nodegoat.ugent.be/model/type/organization/history: 322\n",
      "https://tic.nodegoat.ugent.be/model/type/organization/identified_: 890\n",
      "https://tic.nodegoat.ugent.be/model/type/organization/location: 13276\n",
      "https://tic.nodegoat.ugent.be/model/type/organization/location/comments: 10\n",
      "https://tic.nodegoat.ugent.be/model/type/organization/location/date_end: 6614\n",
      "https://tic.nodegoat.ugent.be/model/type/organization/location/date_start: 6614\n",
      "https://tic.nodegoat.ugent.be/model/type/organization/location/exact_address: 38\n",
      "https://tic.nodegoat.ugent.be/model/type/organization/location/geometry: 6593\n",
      "https://tic.nodegoat.ugent.be/model/type/organization/location/location_as_in_source: 271\n",
      "https://tic.nodegoat.ugent.be/model/type/organization/location/location_reference: 13252\n",
      "https://tic.nodegoat.ugent.be/model/type/organization/location/location_reference_name: 6626\n",
      "https://tic.nodegoat.ugent.be/model/type/organization/location/verified_whole_period_: 3\n",
      "https://tic.nodegoat.ugent.be/model/type/organization/masterlist_: 1128\n",
      "https://tic.nodegoat.ugent.be/model/type/organization/n_c_import_id: 324\n",
      "https://tic.nodegoat.ugent.be/model/type/organization/name: 5655\n",
      "https://tic.nodegoat.ugent.be/model/type/organization/organization_scope: 924\n",
      "https://tic.nodegoat.ugent.be/model/type/organization/place: 9370\n",
      "https://tic.nodegoat.ugent.be/model/type/organization/relation_with_an_organisation: 12\n",
      "https://tic.nodegoat.ugent.be/model/type/organization/relation_with_an_organisation/date_end: 5\n",
      "https://tic.nodegoat.ugent.be/model/type/organization/relation_with_an_organisation/date_start: 5\n",
      "https://tic.nodegoat.ugent.be/model/type/organization/relation_with_an_organisation/geometry: 3\n",
      "https://tic.nodegoat.ugent.be/model/type/organization/relation_with_an_organisation/location_reference: 6\n",
      "https://tic.nodegoat.ugent.be/model/type/organization/relation_with_an_organisation/location_reference_name: 3\n",
      "https://tic.nodegoat.ugent.be/model/type/organization/relation_with_an_organisation/organisation: 12\n",
      "https://tic.nodegoat.ugent.be/model/type/organization/relation_with_an_organisation/relation_type: 2\n",
      "https://tic.nodegoat.ugent.be/model/type/organization/sector_of_activity: 7200\n",
      "https://tic.nodegoat.ugent.be/model/type/organization/speeckaert: 35\n",
      "https://tic.nodegoat.ugent.be/model/type/organization/temp_id: 2133\n",
      "https://tic.nodegoat.ugent.be/model/type/organization/temp_ml_id: 1128\n",
      "https://tic.nodegoat.ugent.be/model/type/organization/thematic_field: 3344\n",
      "https://tic.nodegoat.ugent.be/model/type/organization/thematic_field/date_end: 1554\n",
      "https://tic.nodegoat.ugent.be/model/type/organization/thematic_field/date_start: 1554\n",
      "https://tic.nodegoat.ugent.be/model/type/organization/thematic_field/geometry: 1278\n",
      "https://tic.nodegoat.ugent.be/model/type/organization/thematic_field/location_reference: 2556\n",
      "https://tic.nodegoat.ugent.be/model/type/organization/thematic_field/location_reference_name: 1278\n",
      "https://tic.nodegoat.ugent.be/model/type/organization/thematic_field/thematic_field: 3340\n",
      "https://tic.nodegoat.ugent.be/model/type/organization/uia_url: 385\n",
      "https://tic.nodegoat.ugent.be/model/type/publication/author_as_in_text: 22103\n",
      "https://tic.nodegoat.ugent.be/model/type/publication/author_type: 522\n",
      "https://tic.nodegoat.ugent.be/model/type/publication/end_year: 173\n",
      "https://tic.nodegoat.ugent.be/model/type/publication/file_name_in_dropbox_: 759\n",
      "https://tic.nodegoat.ugent.be/model/type/publication/free_description: 1073\n",
      "https://tic.nodegoat.ugent.be/model/type/publication/isbn: 321\n",
      "https://tic.nodegoat.ugent.be/model/type/publication/kb_id: 22065\n",
      "https://tic.nodegoat.ugent.be/model/type/publication/kb_uri: 44130\n",
      "https://tic.nodegoat.ugent.be/model/type/publication/language: 2\n",
      "https://tic.nodegoat.ugent.be/model/type/publication/language_as_in_source: 22052\n",
      "https://tic.nodegoat.ugent.be/model/type/publication/license: 22068\n",
      "https://tic.nodegoat.ugent.be/model/type/publication/masterlist: 718\n",
      "https://tic.nodegoat.ugent.be/model/type/publication/number_of_issues: 3\n",
      "https://tic.nodegoat.ugent.be/model/type/publication/number_of_volumes_in_total_: 142\n",
      "https://tic.nodegoat.ugent.be/model/type/publication/odis: 2\n",
      "https://tic.nodegoat.ugent.be/model/type/publication/pages: 21270\n",
      "https://tic.nodegoat.ugent.be/model/type/publication/place: 1518\n",
      "https://tic.nodegoat.ugent.be/model/type/publication/provenance: 22797\n",
      "https://tic.nodegoat.ugent.be/model/type/publication/publication_type: 45650\n",
      "https://tic.nodegoat.ugent.be/model/type/publication/publisher: 1516\n",
      "https://tic.nodegoat.ugent.be/model/type/publication/relation_with_a_person: 1736\n",
      "https://tic.nodegoat.ugent.be/model/type/publication/relation_with_a_person/date_end: 160\n",
      "https://tic.nodegoat.ugent.be/model/type/publication/relation_with_a_person/date_start: 160\n",
      "https://tic.nodegoat.ugent.be/model/type/publication/relation_with_a_person/geometry: 841\n",
      "https://tic.nodegoat.ugent.be/model/type/publication/relation_with_a_person/location_reference: 1682\n",
      "https://tic.nodegoat.ugent.be/model/type/publication/relation_with_a_person/location_reference_name: 841\n",
      "https://tic.nodegoat.ugent.be/model/type/publication/relation_with_a_person/person: 286\n",
      "https://tic.nodegoat.ugent.be/model/type/publication/relation_with_a_person/relation_type: 278\n",
      "https://tic.nodegoat.ugent.be/model/type/publication/relation_with_a_person/verified_whole_period_: 1\n",
      "https://tic.nodegoat.ugent.be/model/type/publication/relation_with_a_publication: 9662\n",
      "https://tic.nodegoat.ugent.be/model/type/publication/relation_with_a_publication/date_end: 4831\n",
      "https://tic.nodegoat.ugent.be/model/type/publication/relation_with_a_publication/date_start: 4831\n",
      "https://tic.nodegoat.ugent.be/model/type/publication/relation_with_a_publication/publication: 9662\n",
      "https://tic.nodegoat.ugent.be/model/type/publication/relation_with_a_publication/relation_type: 9662\n",
      "https://tic.nodegoat.ugent.be/model/type/publication/relation_with_an_event: 1598\n",
      "https://tic.nodegoat.ugent.be/model/type/publication/relation_with_an_event/date_end: 796\n",
      "https://tic.nodegoat.ugent.be/model/type/publication/relation_with_an_event/date_start: 796\n",
      "https://tic.nodegoat.ugent.be/model/type/publication/relation_with_an_event/event: 1596\n",
      "https://tic.nodegoat.ugent.be/model/type/publication/relation_with_an_event/geometry: 77\n",
      "https://tic.nodegoat.ugent.be/model/type/publication/relation_with_an_event/location_reference: 154\n",
      "https://tic.nodegoat.ugent.be/model/type/publication/relation_with_an_event/location_reference_name: 77\n",
      "https://tic.nodegoat.ugent.be/model/type/publication/relation_with_an_event/relation_as_in_source: 1\n",
      "https://tic.nodegoat.ugent.be/model/type/publication/relation_with_an_event/relation_type: 1588\n",
      "https://tic.nodegoat.ugent.be/model/type/publication/relation_with_an_organisation: 64\n",
      "https://tic.nodegoat.ugent.be/model/type/publication/relation_with_an_organisation/date_end: 32\n",
      "https://tic.nodegoat.ugent.be/model/type/publication/relation_with_an_organisation/date_start: 32\n",
      "https://tic.nodegoat.ugent.be/model/type/publication/relation_with_an_organisation/geometry: 16\n",
      "https://tic.nodegoat.ugent.be/model/type/publication/relation_with_an_organisation/location_reference: 34\n",
      "https://tic.nodegoat.ugent.be/model/type/publication/relation_with_an_organisation/location_reference_name: 17\n",
      "https://tic.nodegoat.ugent.be/model/type/publication/relation_with_an_organisation/organisation: 40\n",
      "https://tic.nodegoat.ugent.be/model/type/publication/relation_with_an_organisation/relation_type: 34\n",
      "https://tic.nodegoat.ugent.be/model/type/publication/status: 1500\n",
      "https://tic.nodegoat.ugent.be/model/type/publication/sub_title: 515\n",
      "https://tic.nodegoat.ugent.be/model/type/publication/temp_ml_id: 716\n",
      "https://tic.nodegoat.ugent.be/model/type/publication/temp_place_string: 22041\n",
      "https://tic.nodegoat.ugent.be/model/type/publication/temp_publisher_string: 19708\n",
      "https://tic.nodegoat.ugent.be/model/type/publication/title: 22994\n",
      "https://tic.nodegoat.ugent.be/model/type/publication/topic: 14042\n",
      "https://tic.nodegoat.ugent.be/model/type/publication/topic/date_end: 6996\n",
      "https://tic.nodegoat.ugent.be/model/type/publication/topic/date_start: 6996\n",
      "https://tic.nodegoat.ugent.be/model/type/publication/topic/kb_topic: 11160\n",
      "https://tic.nodegoat.ugent.be/model/type/publication/topic/topic: 2882\n",
      "https://tic.nodegoat.ugent.be/model/type/publication/verified_institutional_author: 22\n",
      "https://tic.nodegoat.ugent.be/model/type/publication/verified_personal_author: 43670\n",
      "https://tic.nodegoat.ugent.be/model/type/publication/volume_number: 199\n",
      "https://tic.nodegoat.ugent.be/model/type/publication/worldcat: 22415\n",
      "https://tic.nodegoat.ugent.be/model/type/publication/year: 22948\n"
     ]
    },
    {
     "data": {
      "text/html": [
       "<h3>fingerprint</h3>"
      ],
      "text/plain": [
       "<IPython.core.display.HTML object>"
      ]
     },
     "metadata": {},
     "output_type": "display_data"
    },
    {
     "data": {
      "text/html": [
       "<a target=\"_blank\" href=\"https://data.anansi.clariah.nl/v5/resourcesync/u33707283d426f900d4d55b410a78996dc730b2f7/personen/dataset.nq\">https://data.anansi.clariah.nl/v5/resourcesync/u33707283d426f900d4d55b410a78996dc730b2f7/personen/dataset.nq</a>"
      ],
      "text/plain": [
       "<IPython.core.display.HTML object>"
      ]
     },
     "metadata": {},
     "output_type": "display_data"
    },
    {
     "name": "stdout",
     "output_type": "stream",
     "text": [
      "contexts  :            1\n",
      "statements:    1.361.150\n",
      "literals  :      799.256\n",
      "literal ratio:    0,59\n",
      "\n",
      "subject netlocs: 6 {'example.org': 1339392, 'sws.geonames.org': 4236, 'www.dwc.knaw.nl': 7832, 'timbuctoo.huygens.knaw.nl': 7549, 'viaf.org': 2137, 'data.anansi.clariah.nl': 4}\n",
      "object netlocs: 5 {'example.org': 540140, 'sws.geonames.org': 4236, 'viaf.org': 2137, 'www.dwc.knaw.nl': 7832, 'timbuctoo.huygens.knaw.nl': 7549}\n",
      "\n",
      "example.org | s 1339392 | p 576238 | o 540140 | total 2455770\n",
      "\n",
      "predicate netlocs: 7 | {'example.org': 576238, 'schema.org': 330680, 'www.w3.org': 333262, 'timbuctoo.huygens.knaw.nl': 118843, 'www.geonames.org': 2123, 'xmlns.com': 2, 'purl.org': 2}\n",
      "predicates: 60\n",
      "http://example.org/datasets/u33707283d426f900d4d33707283d426f900d4d0d/bia/predicate/Country: 2123\n",
      "http://example.org/datasets/u33707283d426f900d4d33707283d426f900d4d0d/bia/predicate/aboutPerson: 24978\n",
      "http://example.org/datasets/u33707283d426f900d4d33707283d426f900d4d0d/bia/predicate/atInstitute: 4394\n",
      "http://example.org/datasets/u33707283d426f900d4d33707283d426f900d4d0d/bia/predicate/atPlace: 7260\n",
      "http://example.org/datasets/u33707283d426f900d4d33707283d426f900d4d0d/bia/predicate/birthDateRemark: 39\n",
      "http://example.org/datasets/u33707283d426f900d4d33707283d426f900d4d0d/bia/predicate/carriedOutBy: 11446\n",
      "http://example.org/datasets/u33707283d426f900d4d33707283d426f900d4d0d/bia/predicate/dataSetName: 9686\n",
      "http://example.org/datasets/u33707283d426f900d4d33707283d426f900d4d0d/bia/predicate/deathDateRemark: 6\n",
      "http://example.org/datasets/u33707283d426f900d4d33707283d426f900d4d0d/bia/predicate/dissertationTitle: 447\n",
      "http://example.org/datasets/u33707283d426f900d4d33707283d426f900d4d0d/bia/predicate/hasFieldOfInterest: 12040\n",
      "http://example.org/datasets/u33707283d426f900d4d33707283d426f900d4d0d/bia/predicate/hasInstitute: 23802\n",
      "http://example.org/datasets/u33707283d426f900d4d33707283d426f900d4d0d/bia/predicate/hasLocation: 20300\n",
      "http://example.org/datasets/u33707283d426f900d4d33707283d426f900d4d0d/bia/predicate/hasMember: 23812\n",
      "http://example.org/datasets/u33707283d426f900d4d33707283d426f900d4d0d/bia/predicate/hasProvenanceType: 24978\n",
      "http://example.org/datasets/u33707283d426f900d4d33707283d426f900d4d0d/bia/predicate/hasPublication: 9634\n",
      "http://example.org/datasets/u33707283d426f900d4d33707283d426f900d4d0d/bia/predicate/hasResident: 15758\n",
      "http://example.org/datasets/u33707283d426f900d4d33707283d426f900d4d0d/bia/predicate/hasStudent: 2472\n",
      "http://example.org/datasets/u33707283d426f900d4d33707283d426f900d4d0d/bia/predicate/hasWriter: 9634\n",
      "http://example.org/datasets/u33707283d426f900d4d33707283d426f900d4d0d/bia/predicate/highestDegree: 1571\n",
      "http://example.org/datasets/u33707283d426f900d4d33707283d426f900d4d0d/bia/predicate/isAbout: 12368\n",
      "http://example.org/datasets/u33707283d426f900d4d33707283d426f900d4d0d/bia/predicate/obituaryUrl: 2782\n",
      "http://example.org/datasets/u33707283d426f900d4d33707283d426f900d4d0d/bia/predicate/originDb: 2295\n",
      "http://example.org/datasets/u33707283d426f900d4d33707283d426f900d4d0d/bia/predicate/pageNumbers: 4542\n",
      "http://example.org/datasets/u33707283d426f900d4d33707283d426f900d4d0d/bia/predicate/portraitUrl: 3798\n",
      "http://example.org/datasets/u33707283d426f900d4d33707283d426f900d4d0d/bia/predicate/reference: 4542\n",
      "http://example.org/datasets/u33707283d426f900d4d33707283d426f900d4d0d/bia/predicate/type: 362\n",
      "http://example.org/datasets/u33707283d426f900d4d33707283d426f900d4d0d/bia/predicate/url: 9084\n",
      "http://example.org/datasets/u33707283d426f900d4d33707283d426f900d4d0d/bia/predicate/year: 4542\n",
      "http://example.org/datasets/u33707283d426f900d4d33707283d426f900d4d0d/bioport/predicate/Bioport_id: 82862\n",
      "http://example.org/datasets/u33707283d426f900d4d33707283d426f900d4d0d/bioport/predicate/Person_id: 82862\n",
      "http://example.org/datasets/u33707283d426f900d4d33707283d426f900d4d0d/bioport/predicate/Variant_id: 11604\n",
      "http://example.org/datasets/u33707283d426f900d4d33707283d426f900d4d0d/bioport/predicate/birthDateRemark: 1729\n",
      "http://example.org/datasets/u33707283d426f900d4d33707283d426f900d4d0d/bioport/predicate/category: 67553\n",
      "http://example.org/datasets/u33707283d426f900d4d33707283d426f900d4d0d/bioport/predicate/deathDateRemark: 1592\n",
      "http://example.org/datasets/u33707283d426f900d4d33707283d426f900d4d0d/bioport/predicate/funeralPlace: 76461\n",
      "http://example.org/datasets/u33707283d426f900d4d33707283d426f900d4d0d/bioport/predicate/religion: 2846\n",
      "http://example.org/datasets/u33707283d426f900d4d33707283d426f900d4d0d/bioport/predicate/viafUri: 21\n",
      "http://example.org/datasets/u33707283d426f900d4d33707283d426f900d4d0d/bioport/predicate/wikiDataUri: 13\n"
     ]
    },
    {
     "data": {
      "text/html": [
       "<a target=\"_blank\" href=\"http://purl.org/dc/terms/title\">http://purl.org/dc/terms/title</a>: 2"
      ],
      "text/plain": [
       "<IPython.core.display.HTML object>"
      ]
     },
     "metadata": {},
     "output_type": "display_data"
    },
    {
     "data": {
      "text/html": [
       "<a target=\"_blank\" href=\"http://schema.org/birthDate\">http://schema.org/birthDate</a>: 60597"
      ],
      "text/plain": [
       "<IPython.core.display.HTML object>"
      ]
     },
     "metadata": {},
     "output_type": "display_data"
    },
    {
     "data": {
      "text/html": [
       "<a target=\"_blank\" href=\"http://schema.org/birthPlace\">http://schema.org/birthPlace</a>: 52998"
      ],
      "text/plain": [
       "<IPython.core.display.HTML object>"
      ]
     },
     "metadata": {},
     "output_type": "display_data"
    },
    {
     "data": {
      "text/html": [
       "<a target=\"_blank\" href=\"http://schema.org/deathDate\">http://schema.org/deathDate</a>: 61641"
      ],
      "text/plain": [
       "<IPython.core.display.HTML object>"
      ]
     },
     "metadata": {},
     "output_type": "display_data"
    },
    {
     "data": {
      "text/html": [
       "<a target=\"_blank\" href=\"http://schema.org/deathPlace\">http://schema.org/deathPlace</a>: 47187"
      ],
      "text/plain": [
       "<IPython.core.display.HTML object>"
      ]
     },
     "metadata": {},
     "output_type": "display_data"
    },
    {
     "data": {
      "text/html": [
       "<a target=\"_blank\" href=\"http://schema.org/description\">http://schema.org/description</a>: 33895"
      ],
      "text/plain": [
       "<IPython.core.display.HTML object>"
      ]
     },
     "metadata": {},
     "output_type": "display_data"
    },
    {
     "data": {
      "text/html": [
       "<a target=\"_blank\" href=\"http://schema.org/endDate\">http://schema.org/endDate</a>: 8401"
      ],
      "text/plain": [
       "<IPython.core.display.HTML object>"
      ]
     },
     "metadata": {},
     "output_type": "display_data"
    },
    {
     "data": {
      "text/html": [
       "<a target=\"_blank\" href=\"http://schema.org/gender\">http://schema.org/gender</a>: 40414"
      ],
      "text/plain": [
       "<IPython.core.display.HTML object>"
      ]
     },
     "metadata": {},
     "output_type": "display_data"
    },
    {
     "name": "stdout",
     "output_type": "stream",
     "text": [
      "http://schema.org/label: 588\n"
     ]
    },
    {
     "data": {
      "text/html": [
       "<a target=\"_blank\" href=\"http://schema.org/name\">http://schema.org/name</a>: 3325"
      ],
      "text/plain": [
       "<IPython.core.display.HTML object>"
      ]
     },
     "metadata": {},
     "output_type": "display_data"
    },
    {
     "data": {
      "text/html": [
       "<a target=\"_blank\" href=\"http://schema.org/startDate\">http://schema.org/startDate</a>: 17092"
      ],
      "text/plain": [
       "<IPython.core.display.HTML object>"
      ]
     },
     "metadata": {},
     "output_type": "display_data"
    },
    {
     "data": {
      "text/html": [
       "<a target=\"_blank\" href=\"http://schema.org/title\">http://schema.org/title</a>: 4542"
      ],
      "text/plain": [
       "<IPython.core.display.HTML object>"
      ]
     },
     "metadata": {},
     "output_type": "display_data"
    },
    {
     "name": "stdout",
     "output_type": "stream",
     "text": [
      "http://timbuctoo.huygens.knaw.nl/static/v5/predicate/names: 118840\n",
      "http://timbuctoo.huygens.knaw.nl/static/v5/vocabulary#hasIndexConfig: 1\n",
      "http://timbuctoo.huygens.knaw.nl/static/v5/vocabulary#hasViewConfig: 1\n",
      "http://timbuctoo.huygens.knaw.nl/static/v5/vocabulary#summaryTitlePredicate: 1\n"
     ]
    },
    {
     "data": {
      "text/html": [
       "<a target=\"_blank\" href=\"http://www.geonames.org/ontology#countryCode\">http://www.geonames.org/ontology#countryCode</a>: 2123"
      ],
      "text/plain": [
       "<IPython.core.display.HTML object>"
      ]
     },
     "metadata": {},
     "output_type": "display_data"
    },
    {
     "data": {
      "text/html": [
       "<a target=\"_blank\" href=\"http://www.w3.org/1999/02/22-rdf-syntax-ns#type\">http://www.w3.org/1999/02/22-rdf-syntax-ns#type</a>: 301180"
      ],
      "text/plain": [
       "<IPython.core.display.HTML object>"
      ]
     },
     "metadata": {},
     "output_type": "display_data"
    },
    {
     "data": {
      "text/html": [
       "<a target=\"_blank\" href=\"http://www.w3.org/2002/07/owl#sameAs\">http://www.w3.org/2002/07/owl#sameAs</a>: 27844"
      ],
      "text/plain": [
       "<IPython.core.display.HTML object>"
      ]
     },
     "metadata": {},
     "output_type": "display_data"
    },
    {
     "data": {
      "text/html": [
       "<a target=\"_blank\" href=\"http://www.w3.org/2003/01/geo/wgs84_pos#lat\">http://www.w3.org/2003/01/geo/wgs84_pos#lat</a>: 2119"
      ],
      "text/plain": [
       "<IPython.core.display.HTML object>"
      ]
     },
     "metadata": {},
     "output_type": "display_data"
    },
    {
     "data": {
      "text/html": [
       "<a target=\"_blank\" href=\"http://www.w3.org/2003/01/geo/wgs84_pos#long\">http://www.w3.org/2003/01/geo/wgs84_pos#long</a>: 2119"
      ],
      "text/plain": [
       "<IPython.core.display.HTML object>"
      ]
     },
     "metadata": {},
     "output_type": "display_data"
    },
    {
     "data": {
      "text/html": [
       "<a target=\"_blank\" href=\"http://xmlns.com/foaf/0.1/depiction\">http://xmlns.com/foaf/0.1/depiction</a>: 2"
      ],
      "text/plain": [
       "<IPython.core.display.HTML object>"
      ]
     },
     "metadata": {},
     "output_type": "display_data"
    },
    {
     "data": {
      "text/html": [
       "<h3>fingerprint</h3>"
      ],
      "text/plain": [
       "<IPython.core.display.HTML object>"
      ]
     },
     "metadata": {},
     "output_type": "display_data"
    },
    {
     "data": {
      "text/html": [
       "<a target=\"_blank\" href=\"https://data.anansi.clariah.nl/v5/resourcesync/u33707283d426f900d4d55b410a78996dc730b2f7/concepten/dataset.nq\">https://data.anansi.clariah.nl/v5/resourcesync/u33707283d426f900d4d55b410a78996dc730b2f7/concepten/dataset.nq</a>"
      ],
      "text/plain": [
       "<IPython.core.display.HTML object>"
      ]
     },
     "metadata": {},
     "output_type": "display_data"
    },
    {
     "name": "stdout",
     "output_type": "stream",
     "text": [
      "<class 'ConnectionResetError'>\n"
     ]
    },
    {
     "data": {
      "text/html": [
       "<h3>fingerprint</h3>"
      ],
      "text/plain": [
       "<IPython.core.display.HTML object>"
      ]
     },
     "metadata": {},
     "output_type": "display_data"
    },
    {
     "data": {
      "text/html": [
       "<a target=\"_blank\" href=\"https://data.anansi.clariah.nl/v5/resourcesync/u33707283d426f900d4d55b410a78996dc730b2f7/plaatsen/dataset.nq\">https://data.anansi.clariah.nl/v5/resourcesync/u33707283d426f900d4d55b410a78996dc730b2f7/plaatsen/dataset.nq</a>"
      ],
      "text/plain": [
       "<IPython.core.display.HTML object>"
      ]
     },
     "metadata": {},
     "output_type": "display_data"
    },
    {
     "name": "stdout",
     "output_type": "stream",
     "text": [
      "<class 'rdflib.plugins.parsers.ntriples.ParseError'>\n"
     ]
    }
   ],
   "source": [
    "dfanansi = pd.read_csv('data/anansi_resources.csv', index_col=0)\n",
    "for index, row in dfanansi.iterrows():\n",
    "    resource_url = row['resource']\n",
    "    try:\n",
    "        fingerprint(resource_url)\n",
    "    except Exception as ex:\n",
    "        print(type(ex))"
   ]
  },
  {
   "cell_type": "markdown",
   "metadata": {},
   "source": [
    "### Missing Context\n",
    "\n",
    "- You might expect that the subjects of this `personen` dataset are **typed** as persons: `<x> <is a> <foaf:peron>`\n",
    "- Invention of onthologies without tenable iri's: `example.org` as namespace\n",
    "\n",
    "A lot of **context** is assumed and not explicit."
   ]
  }
 ],
 "metadata": {
  "kernelspec": {
   "display_name": "Python 3",
   "language": "python",
   "name": "python3"
  },
  "language_info": {
   "codemirror_mode": {
    "name": "ipython",
    "version": 3
   },
   "file_extension": ".py",
   "mimetype": "text/x-python",
   "name": "python",
   "nbconvert_exporter": "python",
   "pygments_lexer": "ipython3",
   "version": "3.6.8"
  }
 },
 "nbformat": 4,
 "nbformat_minor": 2
}
