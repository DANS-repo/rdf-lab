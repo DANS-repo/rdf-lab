{
 "cells": [
  {
   "cell_type": "markdown",
   "metadata": {},
   "source": [
    "# Functions to explore the ResourceSync interface of Timbuctoo"
   ]
  },
  {
   "cell_type": "code",
   "execution_count": 1,
   "metadata": {},
   "outputs": [
    {
     "name": "stdout",
     "output_type": "stream",
     "text": [
      "Requirement already up-to-date: rdflib in /anaconda3/lib/python3.6/site-packages (4.2.2)\n",
      "Requirement already satisfied, skipping upgrade: pyparsing in /anaconda3/lib/python3.6/site-packages (from rdflib) (2.3.0)\n",
      "Requirement already satisfied, skipping upgrade: isodate in /anaconda3/lib/python3.6/site-packages (from rdflib) (0.6.0)\n",
      "Requirement already satisfied, skipping upgrade: six in /anaconda3/lib/python3.6/site-packages (from isodate->rdflib) (1.12.0)\n"
     ]
    }
   ],
   "source": [
    "!pip install rdflib -U"
   ]
  },
  {
   "cell_type": "code",
   "execution_count": 2,
   "metadata": {},
   "outputs": [],
   "source": [
    "import rdflib\n",
    "import requests\n",
    "import xml.etree.ElementTree as ET\n",
    "import pandas as pd\n",
    "import datetime\n",
    "import dateutil.parser"
   ]
  },
  {
   "cell_type": "code",
   "execution_count": 3,
   "metadata": {},
   "outputs": [],
   "source": [
    "ANANSI_URL = 'https://data.anansi.clariah.nl/.well-known/resourcesync'\n",
    "HUYDAT_URL = 'https://repository.huygens.knaw.nl/v5/resourcesync/sourceDescription.xml'\n",
    "\n",
    "ANANSI_GIQL = 'https://data.anansi.clariah.nl/static/graphiql'\n",
    "HUYDAT_GIQL = 'https://repository.huygens.knaw.nl/static/graphiql'\n",
    "\n",
    "RSNS = {'sm': 'http://www.sitemaps.org/schemas/sitemap/0.9',\n",
    "          'rs': 'http://www.openarchives.org/rs/terms/'}\n",
    "\n",
    "def convert_to_date(xml_string):\n",
    "    if xml_string:\n",
    "        return dateutil.parser.parse(xml_string)\n",
    "    else:\n",
    "        return None"
   ]
  },
  {
   "cell_type": "code",
   "execution_count": 4,
   "metadata": {},
   "outputs": [],
   "source": [
    "class RsUrl(object):\n",
    "    \n",
    "    def __init__(self, element):\n",
    "        self.loc = element.find('sm:loc', RSNS).text\n",
    "        rsmd = element.find('rs:md', RSNS)\n",
    "        self.capability = rsmd.get('capability')\n",
    "        self.datetime = convert_to_date(rsmd.get('datetime'))\n",
    "        self.type = rsmd.get('type')\n",
    "        self.change = rsmd.get('change')\n",
    "        \n",
    "        self.describedby_href = None\n",
    "        self.describedby_type = None\n",
    "        self.patch_href = None\n",
    "        self.patch_type = None\n",
    "        for ln in element.findall('rs:ln', RSNS):\n",
    "            if ln.get('rel') == 'describedby':\n",
    "                self.describedby_href = ln.get('href')\n",
    "                self.describedby_type = ln.get('type')\n",
    "            if ln.get('rel') == 'http://www.openarchives.org/rs/terms/patch':\n",
    "                self.patch_href = ln.get('href')\n",
    "                self.patch_type = ln.get('type')\n",
    "\n",
    "    def __repr__(self):\n",
    "        return str(self.__dict__)"
   ]
  },
  {
   "cell_type": "code",
   "execution_count": 5,
   "metadata": {},
   "outputs": [],
   "source": [
    "class Sitemap(object):\n",
    "    \n",
    "    def __init__(self, loc, text):\n",
    "        self.loc = loc\n",
    "        root = ET.fromstring(text)\n",
    "        rsmd = root.find('rs:md', RSNS)\n",
    "        self.capability = rsmd.get('capability')\n",
    "        self.at = convert_to_date(rsmd.get('at'))\n",
    "        self.completed = convert_to_date(rsmd.get('completed'))\n",
    "        self.from_ = convert_to_date(rsmd.get('from'))\n",
    "        self.until = convert_to_date(rsmd.get('until'))\n",
    "        self.up_href = None\n",
    "        self.describedby_href = None\n",
    "        self.describedby_type = None\n",
    "        for ln in root.findall('rs:ln', RSNS):\n",
    "            if ln.get('rel') == 'up':\n",
    "                self.up_href = ln.get('href')\n",
    "            if ln.get('rel') == 'describedby':\n",
    "                self.describedby_href = ln.get('href')\n",
    "                self.describedby_type = ln.get('type')\n",
    "        self.rs_urls = []\n",
    "        for url_el in root.findall('sm:url', RSNS):\n",
    "            self.rs_urls.append(RsUrl(url_el))\n",
    "                \n",
    "    def __str__(self):\n",
    "        return str(self.__dict__)"
   ]
  },
  {
   "cell_type": "code",
   "execution_count": 6,
   "metadata": {},
   "outputs": [],
   "source": [
    "def get_sitemap(url):\n",
    "    response = requests.get(url)\n",
    "    if response.status_code == requests.codes.ok:\n",
    "        text = str(response.content, 'utf-8', errors='replace')\n",
    "        return Sitemap(url, text)\n",
    "    else:\n",
    "        raise Exception(\"Error response from %s: %d %s\" % (url, response.status_code, response.reason))"
   ]
  },
  {
   "cell_type": "code",
   "execution_count": 7,
   "metadata": {},
   "outputs": [],
   "source": [
    "def list_datasets(url):\n",
    "    sitemap = get_sitemap(url)\n",
    "    return map(lambda x: x.loc.split('/')[6], sitemap.rs_urls)"
   ]
  },
  {
   "cell_type": "code",
   "execution_count": 8,
   "metadata": {},
   "outputs": [
    {
     "name": "stdout",
     "output_type": "stream",
     "text": [
      "emplaces_25geonames\n",
      "emplaces\n",
      "dwc\n",
      "charterportaal\n",
      "bioport\n",
      "migratiegids\n",
      "vocopvarenden2\n",
      "prizepapers\n",
      "emlo_oppole\n",
      "emlo_oppole20180627\n",
      "demo\n",
      "emdates_places\n",
      "emlo_oppole20180625\n",
      "cor19_7\n",
      "cor19_8\n",
      "ckcc_a\n",
      "clusius\n",
      "ppds\n",
      "emlo_smalltest2\n",
      "emlo_smalltest\n",
      "soundtoll_11\n",
      "raa\n",
      "hg_2\n",
      "ogt_2\n",
      "constitutionele_commissies\n",
      "rsg_2\n",
      "plakaatboek\n",
      "netwerk_verwey\n",
      "donb\n",
      "women_writers\n",
      "declercq\n",
      "test_ww\n",
      "missiezending\n",
      "gp_2\n",
      "opsporingverificatie\n",
      "amstelveen_1\n",
      "sport\n",
      "test_wwdocument\n",
      "emigratie\n"
     ]
    }
   ],
   "source": [
    "for ds in list_datasets(HUYDAT_URL):\n",
    "    print(ds)"
   ]
  },
  {
   "cell_type": "code",
   "execution_count": 9,
   "metadata": {},
   "outputs": [
    {
     "name": "stdout",
     "output_type": "stream",
     "text": [
      "wwriters_nl\n",
      "gemeentegeschiedenisnl\n",
      "dwc\n",
      "nlgis\n",
      "gemeentegeschiedenis\n",
      "bioport\n",
      "tbi\n",
      "tic2new\n",
      "personen\n",
      "concepten\n",
      "plaatsen\n"
     ]
    }
   ],
   "source": [
    "for ds in list_datasets(ANANSI_URL):\n",
    "    print(ds)"
   ]
  },
  {
   "cell_type": "code",
   "execution_count": 10,
   "metadata": {},
   "outputs": [],
   "source": [
    "def get_graph(url, d_type):\n",
    "    g = rdflib.Graph()\n",
    "    g.parse(url, format=d_type)\n",
    "    return g"
   ]
  },
  {
   "cell_type": "code",
   "execution_count": 11,
   "metadata": {},
   "outputs": [
    {
     "name": "stdout",
     "output_type": "stream",
     "text": [
      "[a rdfg:Graph;rdflib:storage [a rdflib:Store;rdfs:label 'IOMemory']].\n",
      "http://purl.org/dc/terms/abstract\n",
      "http://purl.org/dc/terms/rightsHolder\n",
      "http://purl.org/dc/terms/title\n",
      "http://schema.org/ContactPoint\n",
      "http://purl.org/dc/terms/description\n",
      "http://purl.org/dc/terms/license\n",
      "http://purl.org/dc/terms/provenance\n",
      "http://purl.org/dc/terms/abstract https://data.anansi.clariah.nl/datasets/u74ccc032adf8422d7ea92df96cd4783f0543db3b/bioport/summaryProperties\n",
      "http://purl.org/dc/terms/rightsHolder https://data.anansi.clariah.nl/datasets/u74ccc032adf8422d7ea92df96cd4783f0543db3b/bioport/rightsHolder\n",
      "http://purl.org/dc/terms/title Biography portal of the Netherlands\n",
      "http://schema.org/ContactPoint https://data.anansi.clariah.nl/datasets/u74ccc032adf8422d7ea92df96cd4783f0543db3b/bioport/contactPerson\n",
      "http://purl.org/dc/terms/description An online collection of reference works and data sets currently scattered over the internet, containing biographical information on notable persons in Dutch history, from the earliest times until up to present.\n",
      "http://purl.org/dc/terms/license https://creativecommons.org/publicdomain/zero/1.0/\n",
      "http://purl.org/dc/terms/provenance https://data.anansi.clariah.nl/datasets/u74ccc032adf8422d7ea92df96cd4783f0543db3b/bioport/provenance\n",
      "7\n"
     ]
    }
   ],
   "source": [
    "#desc_url = 'https://data.anansi.clariah.nl/v5/resourcesync/u74ccc032adf8422d7ea92df96cd4783f0543db3b/dwc/description.xml'\n",
    "#desc_url = 'https://data.anansi.clariah.nl/v5/resourcesync/u74ccc032adf8422d7ea92df96cd4783f0543db3b/nlgis/description.xml'\n",
    "desc_url = 'https://data.anansi.clariah.nl/v5/resourcesync/u74ccc032adf8422d7ea92df96cd4783f0543db3b/bioport/description.xml'\n",
    "desc_type = 'application/rdf+xml'\n",
    "g = get_graph(desc_url, desc_type)\n",
    "print(g)\n",
    "for pred in g.predicates():\n",
    "    print(pred)\n",
    "        \n",
    "for pred, obj in g.predicate_objects():\n",
    "    print(pred, obj)\n",
    "        \n",
    "print(len(g))"
   ]
  },
  {
   "cell_type": "markdown",
   "metadata": {},
   "source": [
    "from [https://easy.dans.knaw.nl/schemas/md/2018/03/ddm.xsd](https://easy.dans.knaw.nl/schemas/md/2018/03/ddm.xsd)\n",
    "\n",
    "```xml\n",
    "    <xs:complexType name=\"profileType\">\n",
    "        <xs:annotation>\n",
    "            <xs:documentation xml:lang=\"en\">\n",
    "                Detailed specification of the information that is essential for profiling the dataset in the Easy application.\n",
    "            </xs:documentation>\n",
    "        </xs:annotation>\n",
    "        <xs:sequence>\n",
    "            <xs:element ref=\"dc:title\" maxOccurs=\"unbounded\"/>\n",
    "            <xs:element ref=\"dc:description\" maxOccurs=\"unbounded\"/>\n",
    "            <xs:element ref=\"dc:creator\" maxOccurs=\"unbounded\"/>\n",
    "            <xs:element ref=\"ddm:created\"/>                        <!--substitutionGroup=\"dcterms:created\" type=\"dcterms:W3CDTF-->\n",
    "            <xs:element ref=\"ddm:available\"/>                      <!--substitutionGroup=\"dcterms:available\" type=\"dcterms:W3CDTF-->\n",
    "            <xs:element ref=\"ddm:audience\" maxOccurs=\"unbounded\"/> <!--substitutionGroup=\"dcterms:audience\" type=\"narcis:DisciplineType\"-->\n",
    "            <xs:element ref=\"ddm:accessRights\"/>                   <!--substitutionGroup=\"dcterms:accessRights\" type=\"ddm:EasyAccessRightsType\"-->\n",
    "        </xs:sequence>\n",
    "    </xs:complexType>\n",
    "```"
   ]
  },
  {
   "cell_type": "code",
   "execution_count": 9,
   "metadata": {},
   "outputs": [
    {
     "name": "stdout",
     "output_type": "stream",
     "text": [
      "0\n"
     ]
    }
   ],
   "source": [
    "# ds_url = 'https://data.anansi.clariah.nl/v5/resourcesync/u74ccc032adf8422d7ea92df96cd4783f0543db3b/gemeentegeschiedenisnl/dataset.nq'\n",
    "# ds_type = 'application/n-quads'\n",
    "\n",
    "# g = get_graph(ds_url, ds_type)\n",
    "\n",
    "# print(len(g))\n",
    "\n",
    "# for pred in g.predicates():\n",
    "#     print(pred)"
   ]
  },
  {
   "cell_type": "code",
   "execution_count": 12,
   "metadata": {},
   "outputs": [],
   "source": [
    "from rdflib import ConjunctiveGraph, URIRef, Namespace\n",
    "\n",
    "def get_quads(url):\n",
    "    g = ConjunctiveGraph()\n",
    "    g.parse(url, format=\"nquads\")\n",
    "    return g"
   ]
  },
  {
   "cell_type": "code",
   "execution_count": 11,
   "metadata": {},
   "outputs": [
    {
     "name": "stdout",
     "output_type": "stream",
     "text": [
      "[a rdflib:ConjunctiveGraph;rdflib:storage [a rdflib:Store;rdfs:label 'IOMemory']] 45783\n"
     ]
    }
   ],
   "source": [
    "# ds_url = 'https://data.anansi.clariah.nl/v5/resourcesync/u74ccc032adf8422d7ea92df96cd4783f0543db3b/gemeentegeschiedenisnl/dataset.nq'\n",
    "\n",
    "# g = get_quads(ds_url)\n",
    "\n",
    "# print(g, len(g))"
   ]
  },
  {
   "cell_type": "code",
   "execution_count": 5,
   "metadata": {},
   "outputs": [
    {
     "name": "stdout",
     "output_type": "stream",
     "text": [
      "Collecting bsddb3\n",
      "  Using cached https://files.pythonhosted.org/packages/e9/fc/ebfbd4de236b493f9ece156f816c21df0ae87ccc22604c5f9b664efef1b9/bsddb3-6.2.6.tar.gz\n",
      "    Complete output from command python setup.py egg_info:\n",
      "    Can't find a local Berkeley DB installation.\n",
      "    (suggestion: try the --berkeley-db=/path/to/bsddb option)\n",
      "    \n",
      "    ----------------------------------------\n",
      "\u001b[31mCommand \"python setup.py egg_info\" failed with error code 1 in /private/var/folders/75/tvwk70950hbbx4nj15q99_t40000gn/T/pip-install-9cyqy794/bsddb3/\u001b[0m\n"
     ]
    }
   ],
   "source": [
    "#!pip install bsddb3"
   ]
  },
  {
   "cell_type": "code",
   "execution_count": null,
   "metadata": {},
   "outputs": [],
   "source": []
  }
 ],
 "metadata": {
  "kernelspec": {
   "display_name": "Python 3",
   "language": "python",
   "name": "python3"
  },
  "language_info": {
   "codemirror_mode": {
    "name": "ipython",
    "version": 3
   },
   "file_extension": ".py",
   "mimetype": "text/x-python",
   "name": "python",
   "nbconvert_exporter": "python",
   "pygments_lexer": "ipython3",
   "version": "3.6.8"
  },
  "toc-autonumbering": false
 },
 "nbformat": 4,
 "nbformat_minor": 2
}
