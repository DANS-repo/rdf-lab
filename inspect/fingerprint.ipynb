{
 "cells": [
  {
   "cell_type": "markdown",
   "metadata": {},
   "source": [
    "# Fingerprint an rdf-file\n",
    "\n",
    "First exploration of how we could gather information from an rdf-resource that gives an insight in its structure and extend. "
   ]
  },
  {
   "cell_type": "code",
   "execution_count": 1,
   "metadata": {},
   "outputs": [],
   "source": [
    "from rdflib import ConjunctiveGraph, URIRef, Namespace\n",
    "\n",
    "def get_quads(url, rdf_format='nquads'):\n",
    "    \"\"\"\n",
    "    Read the rdf from the given url into a rdflib.ConjunctiveGraph.\n",
    "    \n",
    "    :param url: the url to read\n",
    "    :param rdf_format: the format of the rdf at the url\n",
    "    \n",
    "    :return: the rdflib.ConjunctiveGraph at the given url\n",
    "    \"\"\"\n",
    "    g = ConjunctiveGraph()\n",
    "    g.parse(url, format=rdf_format)\n",
    "    return g"
   ]
  },
  {
   "cell_type": "code",
   "execution_count": 5,
   "metadata": {},
   "outputs": [],
   "source": [
    "from rdflib import Literal\n",
    "import requests\n",
    "from IPython.core.display import display, HTML\n",
    "import urllib\n",
    "from urllib.parse import urlparse\n",
    "\n",
    "\n",
    "def fr(x):\n",
    "    return '{:12,}'.format(x).replace(',', '.')\n",
    "\n",
    "def isresolvable(url):\n",
    "    try:\n",
    "        response = requests.get(url)\n",
    "        return response.ok\n",
    "    except:\n",
    "        return False\n",
    "\n",
    "class GraphProps(object):\n",
    "    \n",
    "    def __init__(self, g):\n",
    "        self.statements = len(g)\n",
    "        self.contexts = list(g.contexts())\n",
    "        self.netlocs_s = dict()\n",
    "        self.netlocs_p = dict()\n",
    "        self.netlocs_o = dict()\n",
    "        self.literals = 0\n",
    "        self.predicates = dict()\n",
    "        for s,p,o in g.triples((None,None,None)):\n",
    "            self.predicates[str(p)] = self.predicates.get(str(p), 0) + 1\n",
    "            \n",
    "            nl = urlparse(str(s)).netloc\n",
    "            self.netlocs_s[nl] = self.netlocs_s.get(nl, 0) + 1\n",
    "            \n",
    "            nl = urlparse(str(p)).netloc\n",
    "            self.netlocs_p[nl] = self.netlocs_p.get(nl, 0) + 1\n",
    "            \n",
    "            if isinstance(o, Literal):\n",
    "                self.literals += 1\n",
    "            else:\n",
    "                nl = urlparse(str(o)).netloc\n",
    "                self.netlocs_o[nl] = self.netlocs_o.get(nl, 0) + 1\n",
    "    \n",
    "    def print_props(self):\n",
    "        print('contexts  :', fr(len(self.contexts)))\n",
    "        print('statements:', fr(self.statements))\n",
    "        print('literals  :', fr(self.literals))\n",
    "        nar = self.literals/self.statements\n",
    "        print('literal ratio:', '{:7.2f}'.format(nar).replace('.', ','))\n",
    "        \n",
    "        print()\n",
    "        print('subject netlocs:', len(self.netlocs_s), self.netlocs_s)\n",
    "        print('object netlocs:', len(self.netlocs_o), self.netlocs_o)\n",
    "        \n",
    "        print()\n",
    "        edo = 'example.org'\n",
    "        edos = self.netlocs_s.get(edo, 0) + self.netlocs_p.get(edo, 0) + self.netlocs_o.get(edo, 0)\n",
    "        print('example.org', '| s', self.netlocs_s.get(edo, 0), '| p', self.netlocs_p.get(edo, 0), '| o', self.netlocs_o.get(edo, 0), '| total', edos)\n",
    "        \n",
    "        print()\n",
    "        print('predicate netlocs:', len(self.netlocs_p), '|', self.netlocs_p)\n",
    "        print('predicates:', len(self.predicates))\n",
    "        for key in sorted(self.predicates):\n",
    "            \n",
    "            if urlparse(key).netloc != 'example.org' and isresolvable(key):\n",
    "                display(HTML(\"\"\"<a target=\"_blank\" href=\"{}\">{}</a>\"\"\".format(key, key) + ': ' + str(self.predicates[key])))\n",
    "            else:\n",
    "                print('%s: %s' % (key, self.predicates[key]))"
   ]
  },
  {
   "cell_type": "code",
   "execution_count": 6,
   "metadata": {},
   "outputs": [],
   "source": [
    "def fingerprint(resource_url):\n",
    "    display(HTML(\"\"\"<h3>fingerprint</h3>\"\"\"))\n",
    "    display(HTML(\"\"\"<a target=\"_blank\" href=\"{}\">{}</a>\"\"\".format(resource_url, resource_url)))\n",
    "    g = get_quads(resource_url)\n",
    "    gp = GraphProps(g)\n",
    "    gp.print_props()"
   ]
  },
  {
   "cell_type": "code",
   "execution_count": 9,
   "metadata": {},
   "outputs": [
    {
     "data": {
      "text/html": [
       "<h3>fingerprint</h3>"
      ],
      "text/plain": [
       "<IPython.core.display.HTML object>"
      ]
     },
     "metadata": {},
     "output_type": "display_data"
    },
    {
     "data": {
      "text/html": [
       "<a target=\"_blank\" href=\"https://data.anansi.clariah.nl/v5/resourcesync/u74ccc032adf8422d7ea92df96cd4783f0543db3b/gemeentegeschiedenisnl/dataset.nq\">https://data.anansi.clariah.nl/v5/resourcesync/u74ccc032adf8422d7ea92df96cd4783f0543db3b/gemeentegeschiedenisnl/dataset.nq</a>"
      ],
      "text/plain": [
       "<IPython.core.display.HTML object>"
      ]
     },
     "metadata": {},
     "output_type": "display_data"
    },
    {
     "name": "stdout",
     "output_type": "stream",
     "text": [
      "contexts  :            1\n",
      "statements:       45.783\n",
      "literals  :       19.891\n",
      "literal ratio:    0,43\n",
      "\n",
      "subject netlocs: 7 {'www.opengis.net': 2873, 'gemeentegeschiedenis.nl': 32898, 'triply.cc': 8619, 'cbs.nl': 1388, 'www.w3.org': 2, 'rdfs.org': 2, 'www.gemeentegeschiedenis.nl': 1}\n",
      "object netlocs: 7 {'triply.cc': 5746, 'gemeentegeschiedenis.nl': 15882, 'cbs.nl': 1387, 'www.opengis.net': 2873, 'rdfs.org': 1, 'www.w3.org': 2, 'www.gemeentegeschiedenis.nl': 1}\n",
      "\n",
      "example.org | s 0 | p 0 | o 0 | total 0\n",
      "\n",
      "predicate netlocs: 8 | {'www.w3.org': 17399, 'gemeentegeschiedenis.nl': 18311, 'www.opengis.net': 8619, 'cbs.nl': 1440, 'timbuctoo.huygens.knaw.nl': 2, 'rdfs.org': 4, 'purl.org': 6, 'xmlns.com': 2}\n",
      "predicates: 21\n"
     ]
    },
    {
     "data": {
      "text/html": [
       "<a target=\"_blank\" href=\"http://purl.org/dc/elements/1.1/created\">http://purl.org/dc/elements/1.1/created</a>: 1"
      ],
      "text/plain": [
       "<IPython.core.display.HTML object>"
      ]
     },
     "metadata": {},
     "output_type": "display_data"
    },
    {
     "data": {
      "text/html": [
       "<a target=\"_blank\" href=\"http://purl.org/dc/elements/1.1/creator\">http://purl.org/dc/elements/1.1/creator</a>: 2"
      ],
      "text/plain": [
       "<IPython.core.display.HTML object>"
      ]
     },
     "metadata": {},
     "output_type": "display_data"
    },
    {
     "data": {
      "text/html": [
       "<a target=\"_blank\" href=\"http://purl.org/dc/elements/1.1/description\">http://purl.org/dc/elements/1.1/description</a>: 1"
      ],
      "text/plain": [
       "<IPython.core.display.HTML object>"
      ]
     },
     "metadata": {},
     "output_type": "display_data"
    },
    {
     "data": {
      "text/html": [
       "<a target=\"_blank\" href=\"http://purl.org/dc/elements/1.1/publisher\">http://purl.org/dc/elements/1.1/publisher</a>: 1"
      ],
      "text/plain": [
       "<IPython.core.display.HTML object>"
      ]
     },
     "metadata": {},
     "output_type": "display_data"
    },
    {
     "data": {
      "text/html": [
       "<a target=\"_blank\" href=\"http://purl.org/dc/elements/1.1/title\">http://purl.org/dc/elements/1.1/title</a>: 1"
      ],
      "text/plain": [
       "<IPython.core.display.HTML object>"
      ]
     },
     "metadata": {},
     "output_type": "display_data"
    },
    {
     "data": {
      "text/html": [
       "<a target=\"_blank\" href=\"http://rdfs.org/ns/void#subset\">http://rdfs.org/ns/void#subset</a>: 4"
      ],
      "text/plain": [
       "<IPython.core.display.HTML object>"
      ]
     },
     "metadata": {},
     "output_type": "display_data"
    },
    {
     "name": "stdout",
     "output_type": "stream",
     "text": [
      "http://timbuctoo.huygens.knaw.nl/static/v5/vocabulary#hasIndexConfig: 2\n"
     ]
    },
    {
     "data": {
      "text/html": [
       "<a target=\"_blank\" href=\"http://www.opengis.net/ont/geosparql#asWKT\">http://www.opengis.net/ont/geosparql#asWKT</a>: 2873"
      ],
      "text/plain": [
       "<IPython.core.display.HTML object>"
      ]
     },
     "metadata": {},
     "output_type": "display_data"
    },
    {
     "data": {
      "text/html": [
       "<a target=\"_blank\" href=\"http://www.opengis.net/ont/geosparql#hasGeometry\">http://www.opengis.net/ont/geosparql#hasGeometry</a>: 5746"
      ],
      "text/plain": [
       "<IPython.core.display.HTML object>"
      ]
     },
     "metadata": {},
     "output_type": "display_data"
    },
    {
     "data": {
      "text/html": [
       "<a target=\"_blank\" href=\"http://www.w3.org/1999/02/22-rdf-syntax-ns#type\">http://www.w3.org/1999/02/22-rdf-syntax-ns#type</a>: 14324"
      ],
      "text/plain": [
       "<IPython.core.display.HTML object>"
      ]
     },
     "metadata": {},
     "output_type": "display_data"
    },
    {
     "data": {
      "text/html": [
       "<a target=\"_blank\" href=\"http://www.w3.org/2000/01/rdf-schema#domain\">http://www.w3.org/2000/01/rdf-schema#domain</a>: 6"
      ],
      "text/plain": [
       "<IPython.core.display.HTML object>"
      ]
     },
     "metadata": {},
     "output_type": "display_data"
    },
    {
     "data": {
      "text/html": [
       "<a target=\"_blank\" href=\"http://www.w3.org/2000/01/rdf-schema#label\">http://www.w3.org/2000/01/rdf-schema#label</a>: 1393"
      ],
      "text/plain": [
       "<IPython.core.display.HTML object>"
      ]
     },
     "metadata": {},
     "output_type": "display_data"
    },
    {
     "data": {
      "text/html": [
       "<a target=\"_blank\" href=\"http://www.w3.org/2000/01/rdf-schema#range\">http://www.w3.org/2000/01/rdf-schema#range</a>: 6"
      ],
      "text/plain": [
       "<IPython.core.display.HTML object>"
      ]
     },
     "metadata": {},
     "output_type": "display_data"
    },
    {
     "data": {
      "text/html": [
       "<a target=\"_blank\" href=\"http://www.w3.org/2000/01/rdf-schema#seeAlso\">http://www.w3.org/2000/01/rdf-schema#seeAlso</a>: 1670"
      ],
      "text/plain": [
       "<IPython.core.display.HTML object>"
      ]
     },
     "metadata": {},
     "output_type": "display_data"
    },
    {
     "data": {
      "text/html": [
       "<a target=\"_blank\" href=\"http://xmlns.com/foaf/0.1/page\">http://xmlns.com/foaf/0.1/page</a>: 2"
      ],
      "text/plain": [
       "<IPython.core.display.HTML object>"
      ]
     },
     "metadata": {},
     "output_type": "display_data"
    },
    {
     "name": "stdout",
     "output_type": "stream",
     "text": [
      "https://cbs.nl/def/gemeenteCode: 1440\n",
      "https://gemeentegeschiedenis.nl/def/geometry_type: 2873\n",
      "https://gemeentegeschiedenis.nl/def/id: 2881\n",
      "https://gemeentegeschiedenis.nl/def/temporalExtension: 5804\n",
      "https://gemeentegeschiedenis.nl/def/validSince: 3144\n",
      "https://gemeentegeschiedenis.nl/def/validUntil: 3609\n"
     ]
    }
   ],
   "source": [
    "fingerprint('https://data.anansi.clariah.nl/v5/resourcesync/u74ccc032adf8422d7ea92df96cd4783f0543db3b/gemeentegeschiedenisnl/dataset.nq')"
   ]
  },
  {
   "cell_type": "markdown",
   "metadata": {},
   "source": [
    "## Xplain\n",
    "\n",
    "- `example.org` - how many statements have this as a namespace\n",
    "- predicates are tested on resolvability. If the URI is resolvable it is linked/printed in blue. Resolvability in this sense means 'a request with that URI does return without error', which is not the same as 'gives intelligible information on that predicate'."
   ]
  },
  {
   "cell_type": "markdown",
   "metadata": {},
   "source": [
    "## ToDo\n",
    "\n",
    "- extend resolvability to object-URIs.\n",
    "- also look for descriptions of i.e. predicate-URIs inside the dataset."
   ]
  },
  {
   "cell_type": "code",
   "execution_count": null,
   "metadata": {},
   "outputs": [],
   "source": []
  }
 ],
 "metadata": {
  "kernelspec": {
   "display_name": "Python 3",
   "language": "python",
   "name": "python3"
  },
  "language_info": {
   "codemirror_mode": {
    "name": "ipython",
    "version": 3
   },
   "file_extension": ".py",
   "mimetype": "text/x-python",
   "name": "python",
   "nbconvert_exporter": "python",
   "pygments_lexer": "ipython3",
   "version": "3.6.5"
  }
 },
 "nbformat": 4,
 "nbformat_minor": 2
}
